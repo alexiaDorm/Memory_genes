{
 "cells": [
  {
   "cell_type": "code",
   "execution_count": 3,
   "id": "22185438-43fb-4315-8816-b49dec46d15b",
   "metadata": {},
   "outputs": [],
   "source": [
    "import numpy as np\n",
    "import pandas as pd\n",
    "import matplotlib.pyplot as plt\n",
    "import sklearn\n",
    "import math \n",
    "import random\n",
    "from pred_score import *"
   ]
  },
  {
   "cell_type": "code",
   "execution_count": 4,
   "id": "20fdad76-6669-49a1-ae60-9513f4e638ff",
   "metadata": {},
   "outputs": [],
   "source": [
    "#Fixing seed to get reproducible results\n",
    "random.seed(3)\n",
    "np.random.seed(3)"
   ]
  },
  {
   "cell_type": "markdown",
   "id": "eab2501b-e5e6-414a-bb6c-5954e323d365",
   "metadata": {},
   "source": [
    "# AE3"
   ]
  },
  {
   "cell_type": "code",
   "execution_count": 7,
   "id": "9a702281-293b-4e38-8a17-552deb75c245",
   "metadata": {},
   "outputs": [
    {
     "data": {
      "text/plain": [
       "(333, 11894)"
      ]
     },
     "execution_count": 7,
     "metadata": {},
     "output_type": "execute_result"
    }
   ],
   "source": [
    "#Load preprocess data\n",
    "AE3= np.array(pd.read_csv ('../data/processed_data/AE3.csv'))\n",
    "y = np.array(AE3[:,-1],dtype=int)\n",
    "AE3 = AE3[:,0:-1]\n",
    "AE3.shape"
   ]
  },
  {
   "cell_type": "markdown",
   "id": "aaba56c3-f61a-4ff7-a83c-e7d528d7922b",
   "metadata": {},
   "source": [
    " ### Baseline (with all genes)"
   ]
  },
  {
   "cell_type": "code",
   "execution_count": 4,
   "id": "cc2b30d4-8370-4927-b88c-1896c037b066",
   "metadata": {},
   "outputs": [
    {
     "name": "stdout",
     "output_type": "stream",
     "text": [
      "0.3508771929824561 0.6396396396396397\n"
     ]
    }
   ],
   "source": [
    "model = FamiliesClusters(np.unique(y),compute_precision,True)\n",
    "pred = model.fit_predict(AE3,y)\n",
    "print(model.score_, model.recovery)"
   ]
  },
  {
   "cell_type": "markdown",
   "id": "fb776968-48e0-4754-a48c-0f98c80f7310",
   "metadata": {},
   "source": [
    "### Baseline (random)"
   ]
  },
  {
   "cell_type": "code",
   "execution_count": 5,
   "id": "642ddd3a-c3de-421c-9e6b-a7ec80b1a0f2",
   "metadata": {},
   "outputs": [
    {
     "name": "stdout",
     "output_type": "stream",
     "text": [
      "0.0 0.6396396396396397\n"
     ]
    }
   ],
   "source": [
    "AE3_shuffle =  np.array(pd.DataFrame(AE3).sample(frac = 1))\n",
    "model = FamiliesClusters(np.unique(y),compute_precision,True)\n",
    "pred = model.fit_predict(AE3_shuffle,y)\n",
    "print(model.score_, model.recovery)"
   ]
  },
  {
   "cell_type": "markdown",
   "id": "2a9012f2-b391-4aec-bb55-e9e039fc45f3",
   "metadata": {},
   "source": [
    "### Optimized subset (MIM)"
   ]
  },
  {
   "cell_type": "code",
   "execution_count": 6,
   "id": "125c4d5a-55e1-42d4-9614-b9b141f75673",
   "metadata": {},
   "outputs": [
    {
     "name": "stdout",
     "output_type": "stream",
     "text": [
      "(333, 4820)\n",
      "4820\n"
     ]
    }
   ],
   "source": [
    "genes_AE3 = np.squeeze(pd.read_csv ('../data/processed_data/AE3genes_interest.csv'))\n",
    "gene_optimized = np.squeeze(pd.read_csv ('../data/optimized_subsets/AE3genes_bestMIM.csv'))\n",
    "\n",
    "ind_opt_genes = []\n",
    "for gene in gene_optimized:\n",
    "    ind_opt_genes = np.append(ind_opt_genes, int(np.squeeze(np.where(genes_AE3 == gene))))\n",
    "ind_opt_genes= list(ind_opt_genes.astype(int))\n",
    "\n",
    "#Only keep the optimized genes\n",
    "AE3 = AE3[:,ind_opt_genes]\n",
    "print(AE3.shape)\n",
    "\n",
    "subset = np.ones((len(gene_optimized),))\n",
    "subsets = subsampling_genes(subset, 101, 0.25)\n",
    "print(len(subsets[0]))"
   ]
  },
  {
   "cell_type": "code",
   "execution_count": 7,
   "id": "b52e2896-867f-48a9-9ea1-9b6f88e0d196",
   "metadata": {},
   "outputs": [
    {
     "name": "stdout",
     "output_type": "stream",
     "text": [
      "0.5935828877005348 0.7177177177177178\n"
     ]
    }
   ],
   "source": [
    "model = FamiliesClusters(np.unique(y),compute_precision,True)\n",
    "pred = model.fit_predict(AE3,y)\n",
    "print(model.score_, model.recovery)"
   ]
  },
  {
   "cell_type": "code",
   "execution_count": 8,
   "id": "aecd650c-0345-4654-9683-67dea41e94c8",
   "metadata": {},
   "outputs": [
    {
     "name": "stdout",
     "output_type": "stream",
     "text": [
      "(101, 333)\n",
      "0.7115384615384616 0.6336336336336337\n"
     ]
    }
   ],
   "source": [
    "model = EnsemblingHierarchical(np.unique(y),compute_precision,True,subsets = subsets, ensembling='voting', threshold_voting = 0.5)\n",
    "result  = model.fit_predict(X = AE3, y= y)\n",
    "print(model.score_, model.recovery)"
   ]
  },
  {
   "cell_type": "code",
   "execution_count": 52,
   "id": "1e3c95df-6cc8-4efa-9bd7-2aec37d73d33",
   "metadata": {},
   "outputs": [],
   "source": [
    "def plot_cutoff(x:np.array, y:np.array, all_genes:np.array, best_genes:np.array):\n",
    "    cut_off = np.linspace(0.1,1,10)\n",
    "    \n",
    "    precision, recovery = [], []\n",
    "    #precision_random, recovery_random = [], []\n",
    "    precision_base, recovery_base = [], []\n",
    "    \n",
    "    #With all genes\n",
    "    subset = np.ones((x.shape[1],))\n",
    "    subsets = subsampling_genes(subset, 101, 0.25)\n",
    "    for t in cut_off:\n",
    "        model = EnsemblingHierarchical(np.unique(y),compute_precision,True, subsets = subsets, ensembling='voting', threshold_voting = t)\n",
    "        result  = model.fit_predict(X = x, y= y)\n",
    "        precision_base.append(model.score_) \n",
    "        recovery_base.append(model.recovery)\n",
    "        print(model.score_, model.recovery)\n",
    "    \n",
    "    #With the optimized gene set\n",
    "    ind_opt_genes = []\n",
    "    for gene in gene_optimized:\n",
    "        ind = np.squeeze(np.where(all_genes == gene))\n",
    "        \n",
    "        if ind.shape == (2,):\n",
    "            continue\n",
    "        ind_opt_genes = np.append(ind_opt_genes, ind)\n",
    "        ind_opt_genes= list(ind_opt_genes.astype(int))\n",
    "\n",
    "    #Only keep the optimized genes\n",
    "    x = x[:,ind_opt_genes]\n",
    "    \n",
    "    subset = np.ones((x.shape[1],))\n",
    "    subsets = subsampling_genes(subset, 101, 0.25)\n",
    "    \n",
    "    for t in cut_off:\n",
    "        model = EnsemblingHierarchical(np.unique(y),compute_precision,True,subsets = subsets, ensembling='voting', threshold_voting = t)\n",
    "        result  = model.fit_predict(X = x, y= y)\n",
    "        precision.append(model.score_) \n",
    "        recovery.append(model.recovery)\n",
    "    \n",
    "    #Plot the precision\n",
    "    fig,ax = plt.subplots()\n",
    "    # make a plot\n",
    "    ax.plot(cut_off, precision, color=\"red\")\n",
    "    ax.plot(cut_off, precision_base, color=\"blue\")\n",
    "    #ax.plot(cut_off, precision, colot=\"yellow\")\n",
    "    # set x-axis label\n",
    "    ax.set_xlabel(\"cut off\")\n",
    "    # set y-axis label\n",
    "    ax.set_ylabel(\"precision\")\n",
    "\n",
    "    # twin object for two different y-axis on the sample plot\n",
    "    ax2=ax.twinx()\n",
    "    # make a plot with different y-axis using second axis object\n",
    "    ax2.plot(cut_off, recovery, color=\"red\")\n",
    "    #ax2.plot(cut_off, precision_random, color=\"yellow\")\n",
    "    ax2.plot(cut_off, recovery_base, color=\"blue\")\n",
    "    ax2.set_ylabel(\"recovery\")\n",
    "    plt.show()\n",
    "        "
   ]
  },
  {
   "cell_type": "code",
   "execution_count": 38,
   "id": "8731b069-af34-4913-8149-9b469765c4aa",
   "metadata": {
    "collapsed": true,
    "jupyter": {
     "outputs_hidden": true
    },
    "tags": []
   },
   "outputs": [
    {
     "ename": "NameError",
     "evalue": "name 'AE3' is not defined",
     "output_type": "error",
     "traceback": [
      "\u001b[0;31m---------------------------------------------------------------------------\u001b[0m",
      "\u001b[0;31mNameError\u001b[0m                                 Traceback (most recent call last)",
      "\u001b[0;32m/var/folders/gz/s90yhf3d4yg_q6r76fs2lg380000gq/T/ipykernel_16695/2157598637.py\u001b[0m in \u001b[0;36m<module>\u001b[0;34m\u001b[0m\n\u001b[1;32m      1\u001b[0m \u001b[0mgenes_AE3\u001b[0m \u001b[0;34m=\u001b[0m \u001b[0mnp\u001b[0m\u001b[0;34m.\u001b[0m\u001b[0msqueeze\u001b[0m\u001b[0;34m(\u001b[0m\u001b[0mpd\u001b[0m\u001b[0;34m.\u001b[0m\u001b[0mread_csv\u001b[0m \u001b[0;34m(\u001b[0m\u001b[0;34m'../data/processed_data/AE3genes_interest.csv'\u001b[0m\u001b[0;34m)\u001b[0m\u001b[0;34m)\u001b[0m\u001b[0;34m\u001b[0m\u001b[0;34m\u001b[0m\u001b[0m\n\u001b[1;32m      2\u001b[0m \u001b[0mgene_optimized\u001b[0m \u001b[0;34m=\u001b[0m \u001b[0mnp\u001b[0m\u001b[0;34m.\u001b[0m\u001b[0msqueeze\u001b[0m\u001b[0;34m(\u001b[0m\u001b[0mpd\u001b[0m\u001b[0;34m.\u001b[0m\u001b[0mread_csv\u001b[0m \u001b[0;34m(\u001b[0m\u001b[0;34m'../data/optimized_subsets/AE3genes_bestMIM.csv'\u001b[0m\u001b[0;34m)\u001b[0m\u001b[0;34m)\u001b[0m\u001b[0;34m\u001b[0m\u001b[0;34m\u001b[0m\u001b[0m\n\u001b[0;32m----> 3\u001b[0;31m \u001b[0mplot_cutoff\u001b[0m\u001b[0;34m(\u001b[0m\u001b[0mx\u001b[0m\u001b[0;34m=\u001b[0m\u001b[0mAE3\u001b[0m\u001b[0;34m,\u001b[0m \u001b[0my\u001b[0m\u001b[0;34m=\u001b[0m\u001b[0my\u001b[0m\u001b[0;34m,\u001b[0m \u001b[0mall_genes\u001b[0m\u001b[0;34m=\u001b[0m \u001b[0mgenes_AE3\u001b[0m\u001b[0;34m,\u001b[0m \u001b[0mbest_genes\u001b[0m\u001b[0;34m=\u001b[0m\u001b[0mgene_optimized\u001b[0m\u001b[0;34m)\u001b[0m\u001b[0;34m\u001b[0m\u001b[0;34m\u001b[0m\u001b[0m\n\u001b[0m",
      "\u001b[0;31mNameError\u001b[0m: name 'AE3' is not defined"
     ]
    }
   ],
   "source": [
    "genes_AE3 = np.squeeze(pd.read_csv ('../data/processed_data/AE3genes_interest.csv'))\n",
    "gene_optimized = np.squeeze(pd.read_csv ('../data/optimized_subsets/AE3genes_bestMIM.csv'))\n",
    "plot_cutoff(x=AE3, y=y, all_genes= genes_AE3, best_genes=gene_optimized)"
   ]
  },
  {
   "cell_type": "markdown",
   "id": "25a4e15c-6915-4c3d-ab87-cbf2ca94fb10",
   "metadata": {},
   "source": [
    "# AE4"
   ]
  },
  {
   "cell_type": "code",
   "execution_count": 10,
   "id": "eb3fc829-8626-48e8-94e4-13cc86cb8efe",
   "metadata": {},
   "outputs": [
    {
     "data": {
      "text/plain": [
       "(1473, 9870)"
      ]
     },
     "execution_count": 10,
     "metadata": {},
     "output_type": "execute_result"
    }
   ],
   "source": [
    "#Load preprocess data\n",
    "AE4 = np.array(pd.read_csv ('../data/processed_data/AE4.csv'))\n",
    "y = np.array(AE4[:,-1],dtype=int)\n",
    "AE4 = AE4[:,0:-1]\n",
    "AE4.shape"
   ]
  },
  {
   "cell_type": "markdown",
   "id": "5d72788b-3eb5-4944-8d66-aa6cfedab67b",
   "metadata": {},
   "source": [
    " ### Baseline (with all genes)"
   ]
  },
  {
   "cell_type": "code",
   "execution_count": 6,
   "id": "ad539f3a-500f-46a4-925a-76c3a7fb7476",
   "metadata": {},
   "outputs": [
    {
     "name": "stdout",
     "output_type": "stream",
     "text": [
      "0.028664495114006514 0.9280380176510523\n"
     ]
    }
   ],
   "source": [
    "model = FamiliesClusters(np.unique(y),compute_precision,True)\n",
    "pred = model.fit_predict(AE4,y)\n",
    "print(model.score_, model.recovery)"
   ]
  },
  {
   "cell_type": "markdown",
   "id": "29cb170c-e2a7-475b-9799-0678c8658c2f",
   "metadata": {},
   "source": [
    "### Baseline (random)"
   ]
  },
  {
   "cell_type": "code",
   "execution_count": null,
   "id": "c82f2cd0-19a8-4ba6-99e7-24a8f4921278",
   "metadata": {},
   "outputs": [],
   "source": [
    "AE4_shuffle =  np.array(pd.DataFrame(AE4).sample(frac = 1))\n",
    "model = FamiliesClusters(np.unique(y),compute_precision,True)\n",
    "pred = model.fit_predict(AE4_shuffle,y)\n",
    "print(model.score_, model.recovery)"
   ]
  },
  {
   "cell_type": "markdown",
   "id": "d93d39a9-38bb-4847-bf5c-2c0cd2be3294",
   "metadata": {},
   "source": [
    "### Optimized subset (ANOVA)"
   ]
  },
  {
   "cell_type": "code",
   "execution_count": null,
   "id": "a3194f6d-9e65-4679-bde6-2272b37166ed",
   "metadata": {},
   "outputs": [],
   "source": [
    "genes_AE4 = np.squeeze(pd.read_csv ('../data/processed_data/AE4genes_interest.csv'))\n",
    "gene_optimized = np.squeeze(pd.read_csv ('../data/optimized_subsets/AE4genes_bestANOVA.csv'))\n",
    "\n",
    "ind_opt_genes = []\n",
    "for gene in gene_optimized:\n",
    "    ind_opt_genes = np.append(ind_opt_genes, int(np.squeeze(np.where(genes_AE4 == gene))))\n",
    "ind_opt_genes= list(ind_opt_genes.astype(int))\n",
    "\n",
    "#Only keep the optimized genes\n",
    "AE4 = AE4[:,ind_opt_genes]\n",
    "print(AE4.shape)\n",
    "\n",
    "subset = np.ones((len(gene_optimized),))\n",
    "subsets = subsampling_genes(subset, 101, 0.25)\n",
    "print(len(subsets[0]))"
   ]
  },
  {
   "cell_type": "code",
   "execution_count": null,
   "id": "1527fb3c-69d4-43d8-a911-8b5bf29e2c4c",
   "metadata": {},
   "outputs": [],
   "source": [
    "model = FamiliesClusters(np.unique(y),compute_precision,True)\n",
    "pred = model.fit_predict(AE4,y)\n",
    "print(model.score_, model.recovery)"
   ]
  },
  {
   "cell_type": "code",
   "execution_count": null,
   "id": "62fe1052-2bb5-494c-ae78-adb9c45c53fa",
   "metadata": {},
   "outputs": [],
   "source": [
    "model = EnsemblingHierarchical(np.unique(y),compute_precision,True,subsets = subsets, ensembling='voting', threshold_voting = 0.5)\n",
    "result  = model.fit_predict(X = AE4, y= y)\n",
    "print(model.score_, model.recovery)"
   ]
  },
  {
   "cell_type": "code",
   "execution_count": 11,
   "id": "07070bc3-cd60-464e-8597-d773bc76ab03",
   "metadata": {},
   "outputs": [
    {
     "name": "stdout",
     "output_type": "stream",
     "text": [
      "0.002008734535161386 0.9959266802443992\n",
      "0.013875962433369998 0.8866259334691107\n",
      "0.08205590622182146 0.6476578411405295\n",
      "0.15022421524663676 0.40529531568228105\n",
      "0.216 0.25390359809911744\n",
      "0.25806451612903225 0.16564833672776647\n",
      "0.3614457831325301 0.09368635437881874\n",
      "0.48936170212765956 0.05431093007467753\n",
      "0.5454545454545454 0.024439918533604887\n",
      "0.5 0.0027155465037338763\n"
     ]
    },
    {
     "data": {
      "image/png": "[encoded data removed]",
      "text/plain": [
       "<Figure size 432x288 with 2 Axes>"
      ]
     },
     "metadata": {
      "needs_background": "light"
     },
     "output_type": "display_data"
    }
   ],
   "source": [
    "genes_AE4 = np.squeeze(pd.read_csv ('../data/processed_data/AE4genes_interest.csv'))\n",
    "gene_optimized = np.squeeze(pd.read_csv ('../data/optimized_subsets/AE4genes_bestANOVA.csv'))\n",
    "plot_cutoff(x=AE4, y=y, all_genes= genes_AE4, best_genes=gene_optimized)"
   ]
  },
  {
   "cell_type": "markdown",
   "id": "ee02379f-7ef2-4b99-8b9b-b07da98efd7a",
   "metadata": {},
   "source": [
    "# AE7"
   ]
  },
  {
   "cell_type": "code",
   "execution_count": 9,
   "id": "05d61fc9-5bd5-4a5f-9e77-2d08514b16bd",
   "metadata": {},
   "outputs": [
    {
     "data": {
      "text/plain": [
       "(1473, 32285)"
      ]
     },
     "execution_count": 9,
     "metadata": {},
     "output_type": "execute_result"
    }
   ],
   "source": [
    "#Load preprocess data\n",
    "AE7 = np.array(pd.read_csv ('../data/processed_data/AE7.csv'))\n",
    "y = np.array(AE7[:,-1],dtype=int)\n",
    "AE7 = AE7[:,0:-1]\n",
    "AE7.shape"
   ]
  },
  {
   "cell_type": "markdown",
   "id": "eb173b7c-00f6-4ba7-ba88-f799f008dff2",
   "metadata": {},
   "source": [
    " ### Baseline (with all genes)"
   ]
  },
  {
   "cell_type": "code",
   "execution_count": null,
   "id": "89772095-b7ca-4c16-91dd-55e3aa5abd02",
   "metadata": {},
   "outputs": [],
   "source": [
    "model = FamiliesClusters(np.unique(y),compute_precision,True)\n",
    "pred = model.fit_predict(AE7,y)\n",
    "print(model.score_, model.recovery)"
   ]
  },
  {
   "cell_type": "markdown",
   "id": "1ff277a7-3cd5-44c3-8937-86234e9669e0",
   "metadata": {},
   "source": [
    "### Baseline (random)"
   ]
  },
  {
   "cell_type": "code",
   "execution_count": null,
   "id": "69660e5d-5be6-4988-b92e-ea5356e36f43",
   "metadata": {},
   "outputs": [],
   "source": [
    "AE7_shuffle =  np.array(pd.DataFrame(AE7).sample(frac = 1))\n",
    "model = FamiliesClusters(np.unique(y),compute_precision,True)\n",
    "pred = model.fit_predict(AE7_shuffle,y)\n",
    "print(model.score_, model.recovery)"
   ]
  },
  {
   "cell_type": "markdown",
   "id": "75f48450-c8bd-4e14-88c0-6e993c8418d8",
   "metadata": {},
   "source": [
    "### Optimized subset (ANOVA)"
   ]
  },
  {
   "cell_type": "code",
   "execution_count": null,
   "id": "3fc8e48b-1aa5-4913-8b7a-e60f8f1c30bf",
   "metadata": {},
   "outputs": [],
   "source": [
    "genes_AE7 = np.squeeze(pd.read_csv ('../data/processed_data/AE7genes_interest.csv'))\n",
    "gene_optimized = np.squeeze(pd.read_csv ('../data/optimized_subsets/AE7genes_bestMIM.csv'))\n",
    "\n",
    "ind_opt_genes = []\n",
    "for gene in gene_optimized:\n",
    "    ind_opt_genes = np.append(ind_opt_genes, int(np.squeeze(np.where(genes_AE7 == gene))))\n",
    "ind_opt_genes= list(ind_opt_genes.astype(int))\n",
    "\n",
    "#Only keep the optimized genes\n",
    "AE7 = AE7[:,ind_opt_genes]\n",
    "print(AE7.shape)\n",
    "\n",
    "subset = np.ones((len(gene_optimized),))\n",
    "subsets = subsampling_genes(subset, 101, 0.25)\n",
    "print(len(subsets[0]))"
   ]
  },
  {
   "cell_type": "code",
   "execution_count": null,
   "id": "02fbb41a-de6c-49f4-8d0f-c9897a20742f",
   "metadata": {},
   "outputs": [],
   "source": [
    "model = FamiliesClusters(np.unique(y),compute_precision,True)\n",
    "pred = model.fit_predict(AE7,y)\n",
    "print(model.score_, model.recovery)"
   ]
  },
  {
   "cell_type": "code",
   "execution_count": null,
   "id": "f351346e-29ab-4759-b0d5-1f523c9fc04a",
   "metadata": {},
   "outputs": [],
   "source": [
    "model = EnsemblingHierarchical(np.unique(y),compute_precision,True,subsets = subsets, ensembling='voting', threshold_voting = 0.5)\n",
    "result  = model.fit_predict(X = AE7, y= y)\n",
    "print(model.score_, model.recovery)"
   ]
  },
  {
   "cell_type": "markdown",
   "id": "2e78a7d6-f2af-4f56-9f48-0d7344bea08c",
   "metadata": {},
   "source": [
    "# DO"
   ]
  },
  {
   "cell_type": "code",
   "execution_count": 12,
   "id": "727d73b9-5b1b-44b1-9916-ca943a7474a5",
   "metadata": {},
   "outputs": [
    {
     "data": {
      "text/plain": [
       "(461, 10310)"
      ]
     },
     "execution_count": 12,
     "metadata": {},
     "output_type": "execute_result"
    }
   ],
   "source": [
    "#Load preprocess data\n",
    "D0 = np.array(pd.read_csv ('../data/processed_data/D0.csv'))\n",
    "y = np.array(D0[:,-1],dtype=int)\n",
    "D0 = D0[:,0:-1]\n",
    "D0.shape"
   ]
  },
  {
   "cell_type": "markdown",
   "id": "e84dd014-f4d7-42e3-ada3-2207392bc7c7",
   "metadata": {},
   "source": [
    " ### Baseline (with all genes)"
   ]
  },
  {
   "cell_type": "code",
   "execution_count": 11,
   "id": "f5b71ea2-3004-4567-a817-0b2ac5cd9c40",
   "metadata": {},
   "outputs": [
    {
     "name": "stdout",
     "output_type": "stream",
     "text": [
      "0.6686746987951807 0.720173535791757\n"
     ]
    }
   ],
   "source": [
    "model = FamiliesClusters(np.unique(y),compute_precision,True)\n",
    "pred = model.fit_predict(D0,y)\n",
    "print(model.score_, model.recovery)"
   ]
  },
  {
   "cell_type": "markdown",
   "id": "240ca374-7629-4fa9-b27a-43aad322a0fe",
   "metadata": {},
   "source": [
    "### Baseline (random)"
   ]
  },
  {
   "cell_type": "code",
   "execution_count": 12,
   "id": "24709d26-cd44-43fa-8eff-1b0ad23b4617",
   "metadata": {},
   "outputs": [
    {
     "name": "stdout",
     "output_type": "stream",
     "text": [
      "0.0 0.720173535791757\n"
     ]
    }
   ],
   "source": [
    "D0_shuffle =  np.array(pd.DataFrame(D0).sample(frac = 1))\n",
    "model = FamiliesClusters(np.unique(y),compute_precision,True)\n",
    "pred = model.fit_predict(D0_shuffle,y)\n",
    "print(model.score_, model.recovery)"
   ]
  },
  {
   "cell_type": "markdown",
   "id": "363d9c3f-e9e5-4f42-b11a-2ccbd35a7e3f",
   "metadata": {},
   "source": [
    "### Optimized subset (MIM)"
   ]
  },
  {
   "cell_type": "code",
   "execution_count": 13,
   "id": "e0ed5b1e-7b97-4a1a-b3ef-329d300fdbb6",
   "metadata": {},
   "outputs": [
    {
     "name": "stdout",
     "output_type": "stream",
     "text": [
      "(461, 2480)\n",
      "2480\n"
     ]
    }
   ],
   "source": [
    "genes_D0 = np.squeeze(pd.read_csv ('../data/processed_data/D0genes_interest.csv'))\n",
    "gene_optimized = np.squeeze(pd.read_csv ('../data/optimized_subsets/D0genes_bestMIM.csv'))\n",
    "\n",
    "ind_opt_genes = []\n",
    "for gene in gene_optimized:\n",
    "    ind_opt_genes = np.append(ind_opt_genes, int(np.squeeze(np.where(genes_D0 == gene))))\n",
    "ind_opt_genes= list(ind_opt_genes.astype(int))\n",
    "\n",
    "#Only keep the optimized genes\n",
    "D0 = D0[:,ind_opt_genes]\n",
    "print(D0.shape)\n",
    "\n",
    "subset = np.ones((len(gene_optimized),))\n",
    "subsets = subsampling_genes(subset, 101, 0.25)\n",
    "print(len(subsets[0]))"
   ]
  },
  {
   "cell_type": "code",
   "execution_count": 14,
   "id": "5e427f2b-f67f-4a63-a4b7-f5245b7435a3",
   "metadata": {},
   "outputs": [
    {
     "name": "stdout",
     "output_type": "stream",
     "text": [
      "0.9444444444444444 0.8590021691973969\n"
     ]
    }
   ],
   "source": [
    "model = FamiliesClusters(np.unique(y),compute_precision,True)\n",
    "pred = model.fit_predict(D0,y)\n",
    "print(model.score_, model.recovery)"
   ]
  },
  {
   "cell_type": "code",
   "execution_count": 15,
   "id": "3c76b362-d175-4f8a-b36b-487db9993c60",
   "metadata": {},
   "outputs": [
    {
     "name": "stdout",
     "output_type": "stream",
     "text": [
      "(101, 461)\n",
      "0.9680851063829787 0.8156182212581344\n"
     ]
    }
   ],
   "source": [
    "model = EnsemblingHierarchical(np.unique(y),compute_precision,True,subsets = subsets, ensembling='voting', threshold_voting = 0.5)\n",
    "result  = model.fit_predict(X = D0, y = y)\n",
    "print(model.score_, model.recovery)"
   ]
  },
  {
   "cell_type": "code",
   "execution_count": 13,
   "id": "1f337779-dd43-496c-87a1-b3b3baa12ac2",
   "metadata": {},
   "outputs": [
    {
     "name": "stdout",
     "output_type": "stream",
     "text": [
      "0.13415794481446242 0.911062906724512\n",
      "0.5605381165919282 0.754880694143167\n",
      "0.7160493827160493 0.6594360086767896\n",
      "0.795774647887324 0.6095444685466378\n",
      "0.8461538461538461 0.5639913232104121\n",
      "0.8677685950413223 0.5249457700650759\n",
      "0.9038461538461539 0.4511930585683297\n",
      "0.9072164948453608 0.420824295010846\n",
      "0.9382716049382716 0.351409978308026\n",
      "1.0 0.16919739696312364\n"
     ]
    },
    {
     "data": {
      "image/png": "[encoded data removed]",
      "text/plain": [
       "<Figure size 432x288 with 2 Axes>"
      ]
     },
     "metadata": {
      "needs_background": "light"
     },
     "output_type": "display_data"
    }
   ],
   "source": [
    "genes_D0 = np.squeeze(pd.read_csv ('../data/processed_data/D0genes_interest.csv'))\n",
    "gene_optimized = np.squeeze(pd.read_csv ('../data/optimized_subsets/D0genes_bestMIM.csv'))\n",
    "plot_cutoff(x=D0, y=y, all_genes= genes_D0, best_genes=gene_optimized)"
   ]
  },
  {
   "cell_type": "markdown",
   "id": "ac1e7392-381e-48fc-90be-daa9b4d174c3",
   "metadata": {},
   "source": [
    "# D6"
   ]
  },
  {
   "cell_type": "code",
   "execution_count": 14,
   "id": "ace0b178-08c6-4b17-a85a-47f92e6d79be",
   "metadata": {},
   "outputs": [
    {
     "data": {
      "text/plain": [
       "(154, 10372)"
      ]
     },
     "execution_count": 14,
     "metadata": {},
     "output_type": "execute_result"
    }
   ],
   "source": [
    "#Load preprocess data\n",
    "D6 = np.array(pd.read_csv ('../data/processed_data/D6.csv'))\n",
    "y = np.array(D6[:,-1],dtype=int)\n",
    "D6 = D6[:,0:-1]\n",
    "D6.shape"
   ]
  },
  {
   "cell_type": "markdown",
   "id": "34f259c4-131b-437f-bea1-63a67594098d",
   "metadata": {},
   "source": [
    " ### Baseline (with all genes)"
   ]
  },
  {
   "cell_type": "code",
   "execution_count": 17,
   "id": "32cc79bd-8203-4745-a301-2e57fd1ffb6a",
   "metadata": {},
   "outputs": [
    {
     "name": "stdout",
     "output_type": "stream",
     "text": [
      "0.5961538461538461 0.6753246753246753\n"
     ]
    }
   ],
   "source": [
    "model = FamiliesClusters(np.unique(y),compute_precision,True)\n",
    "pred = model.fit_predict(D6,y)\n",
    "print(model.score_, model.recovery)"
   ]
  },
  {
   "cell_type": "markdown",
   "id": "39c5bb40-ef26-47f7-a97b-198aa3372b59",
   "metadata": {},
   "source": [
    "### Baseline (random)"
   ]
  },
  {
   "cell_type": "code",
   "execution_count": 18,
   "id": "c60a77ba-6b3f-4aa7-a47e-b570885ca0af",
   "metadata": {},
   "outputs": [
    {
     "name": "stdout",
     "output_type": "stream",
     "text": [
      "0.038461538461538464 0.6753246753246753\n"
     ]
    }
   ],
   "source": [
    "D6_shuffle =  np.array(pd.DataFrame(D6).sample(frac = 1))\n",
    "model = FamiliesClusters(np.unique(y),compute_precision,True)\n",
    "pred = model.fit_predict(D6_shuffle,y)\n",
    "print(model.score_, model.recovery)"
   ]
  },
  {
   "cell_type": "markdown",
   "id": "7db6f641-be67-4b16-a41c-79ed59f80649",
   "metadata": {},
   "source": [
    "### Optimized subset (ANOVA)"
   ]
  },
  {
   "cell_type": "code",
   "execution_count": 19,
   "id": "61ec951d-f540-44c0-8026-0af6c89a64fd",
   "metadata": {},
   "outputs": [
    {
     "name": "stdout",
     "output_type": "stream",
     "text": [
      "(154, 830)\n",
      "830\n"
     ]
    }
   ],
   "source": [
    "genes_D6 = np.squeeze(pd.read_csv ('../data/processed_data/D6genes_interest.csv'))\n",
    "gene_optimized = np.squeeze(pd.read_csv ('../data/optimized_subsets/D6genes_bestANOVA.csv'))\n",
    "\n",
    "ind_opt_genes = []\n",
    "for gene in gene_optimized:\n",
    "    ind_opt_genes = np.append(ind_opt_genes, int(np.squeeze(np.where(genes_D6 == gene))))\n",
    "ind_opt_genes= list(ind_opt_genes.astype(int))\n",
    "\n",
    "#Only keep the optimized genes\n",
    "D6 = D6[:,ind_opt_genes]\n",
    "print(D6.shape)\n",
    "\n",
    "subset = np.ones((len(gene_optimized),))\n",
    "subsets = subsampling_genes(subset, 101, 0.25)\n",
    "print(len(subsets[0]))"
   ]
  },
  {
   "cell_type": "code",
   "execution_count": 20,
   "id": "c4d3524f-e296-45a7-966d-db66436df0f6",
   "metadata": {},
   "outputs": [
    {
     "name": "stdout",
     "output_type": "stream",
     "text": [
      "0.9552238805970149 0.8701298701298701\n"
     ]
    }
   ],
   "source": [
    "model = FamiliesClusters(np.unique(y),compute_precision,True)\n",
    "pred = model.fit_predict(D6,y)\n",
    "print(model.score_, model.recovery)"
   ]
  },
  {
   "cell_type": "code",
   "execution_count": 21,
   "id": "bd84b062-c0c4-4adc-9e57-3cd6e01d1e9b",
   "metadata": {},
   "outputs": [
    {
     "name": "stdout",
     "output_type": "stream",
     "text": [
      "(101, 154)\n",
      "0.953125 0.8311688311688312\n"
     ]
    }
   ],
   "source": [
    "model = EnsemblingHierarchical(np.unique(y),compute_precision,True,subsets = subsets, ensembling='voting', threshold_voting = 0.5)\n",
    "result  = model.fit_predict(X = D6, y = y)\n",
    "print(model.score_, model.recovery)"
   ]
  },
  {
   "cell_type": "code",
   "execution_count": 15,
   "id": "755064cf-60a9-49d3-a3b5-64620f4d09e4",
   "metadata": {},
   "outputs": [
    {
     "name": "stdout",
     "output_type": "stream",
     "text": [
      "0.18137254901960784 0.8506493506493507\n",
      "0.4090909090909091 0.7922077922077922\n",
      "0.5483870967741935 0.6623376623376623\n",
      "0.6346153846153846 0.6233766233766234\n",
      "0.7045454545454546 0.5714285714285714\n",
      "0.75 0.5194805194805194\n",
      "0.8 0.38961038961038963\n",
      "0.8275862068965517 0.37662337662337664\n",
      "0.8461538461538461 0.33766233766233766\n",
      "0.9411764705882353 0.22077922077922077\n"
     ]
    },
    {
     "data": {
      "image/png": "[encoded data removed]",
      "text/plain": [
       "<Figure size 432x288 with 2 Axes>"
      ]
     },
     "metadata": {
      "needs_background": "light"
     },
     "output_type": "display_data"
    }
   ],
   "source": [
    "genes_D6 = np.squeeze(pd.read_csv ('../data/processed_data/D6genes_interest.csv'))\n",
    "gene_optimized = np.squeeze(pd.read_csv ('../data/optimized_subsets/D6genes_bestANOVA.csv'))\n",
    "plot_cutoff(x=D6, y=y, all_genes= genes_D6, best_genes=gene_optimized)"
   ]
  },
  {
   "cell_type": "markdown",
   "id": "0b99fc61-3a47-47ce-a63e-8075772433b9",
   "metadata": {},
   "source": [
    "# D15"
   ]
  },
  {
   "cell_type": "code",
   "execution_count": 16,
   "id": "5e5f99a8-b1fc-404c-8d5c-af46a5994bc7",
   "metadata": {},
   "outputs": [
    {
     "data": {
      "text/plain": [
       "(178, 9977)"
      ]
     },
     "execution_count": 16,
     "metadata": {},
     "output_type": "execute_result"
    }
   ],
   "source": [
    "#Load preprocess data\n",
    "D15 = np.array(pd.read_csv ('../data/processed_data/D15.csv'))\n",
    "y = np.array(D15[:,-1],dtype=int)\n",
    "D15 = D15[:,0:-1]\n",
    "D15.shape"
   ]
  },
  {
   "cell_type": "markdown",
   "id": "8d8eb65c-abec-431a-971e-eac76e6d4520",
   "metadata": {},
   "source": [
    " ### Baseline (with all genes)"
   ]
  },
  {
   "cell_type": "code",
   "execution_count": 23,
   "id": "c3379c9c-2257-4dcf-85d6-015de268437f",
   "metadata": {},
   "outputs": [
    {
     "name": "stdout",
     "output_type": "stream",
     "text": [
      "0.8714285714285714 0.7865168539325843\n"
     ]
    }
   ],
   "source": [
    "model = FamiliesClusters(np.unique(y),compute_precision,True)\n",
    "pred = model.fit_predict(D15,y)\n",
    "print(model.score_, model.recovery)"
   ]
  },
  {
   "cell_type": "markdown",
   "id": "6cdd628a-ec32-40a0-9fdc-698a023a46b1",
   "metadata": {},
   "source": [
    "### Baseline (random)"
   ]
  },
  {
   "cell_type": "code",
   "execution_count": 24,
   "id": "68050474-e316-4000-a85f-bbb176c2a1d0",
   "metadata": {},
   "outputs": [
    {
     "name": "stdout",
     "output_type": "stream",
     "text": [
      "0.014285714285714285 0.7865168539325843\n"
     ]
    }
   ],
   "source": [
    "D15_shuffle =  np.array(pd.DataFrame(D15).sample(frac = 1))\n",
    "model = FamiliesClusters(np.unique(y),compute_precision,True)\n",
    "pred = model.fit_predict(D15_shuffle,y)\n",
    "print(model.score_, model.recovery)"
   ]
  },
  {
   "cell_type": "markdown",
   "id": "314dfebd-0f18-4ae0-9c6d-dc04d63b473d",
   "metadata": {},
   "source": [
    "### Optimized subset (ANOVA)"
   ]
  },
  {
   "cell_type": "code",
   "execution_count": 25,
   "id": "ad98125a-b77c-40c8-b353-951d6073f5ca",
   "metadata": {},
   "outputs": [
    {
     "name": "stdout",
     "output_type": "stream",
     "text": [
      "(178, 110)\n",
      "110\n"
     ]
    }
   ],
   "source": [
    "genes_D15 = np.squeeze(pd.read_csv ('../data/processed_data/D15genes_interest.csv'))\n",
    "gene_optimized = np.squeeze(pd.read_csv ('../data/optimized_subsets/D15genes_bestANOVA.csv'))\n",
    "\n",
    "ind_opt_genes = []\n",
    "for gene in gene_optimized:\n",
    "    ind_opt_genes = np.append(ind_opt_genes, int(np.squeeze(np.where(genes_D15 == gene))))\n",
    "ind_opt_genes= list(ind_opt_genes.astype(int))\n",
    "\n",
    "#Only keep the optimized genes\n",
    "D15 = D15[:,ind_opt_genes]\n",
    "print(D15.shape)\n",
    "\n",
    "subset = np.ones((len(gene_optimized),))\n",
    "subsets = subsampling_genes(subset, 101, 0.25)\n",
    "print(len(subsets[0]))"
   ]
  },
  {
   "cell_type": "code",
   "execution_count": 26,
   "id": "ab1b5992-f23e-4219-a954-62bee2e21670",
   "metadata": {},
   "outputs": [
    {
     "name": "stdout",
     "output_type": "stream",
     "text": [
      "1.0 0.9775280898876404\n"
     ]
    }
   ],
   "source": [
    "model = FamiliesClusters(np.unique(y),compute_precision,True)\n",
    "pred = model.fit_predict(D15,y)\n",
    "print(model.score_, model.recovery)"
   ]
  },
  {
   "cell_type": "code",
   "execution_count": 27,
   "id": "048794da-af03-4c3f-b9ec-8eb92ed1b924",
   "metadata": {},
   "outputs": [
    {
     "name": "stdout",
     "output_type": "stream",
     "text": [
      "(101, 178)\n",
      "1.0 0.9775280898876404\n"
     ]
    }
   ],
   "source": [
    "model = EnsemblingHierarchical(np.unique(y),compute_precision,True,subsets = subsets, ensembling='voting', threshold_voting = 0.5)\n",
    "result  = model.fit_predict(X = D15, y = y)\n",
    "print(model.score_, model.recovery)"
   ]
  },
  {
   "cell_type": "code",
   "execution_count": 17,
   "id": "48081f4b-063b-4f04-993f-770c722f7d2a",
   "metadata": {},
   "outputs": [
    {
     "name": "stdout",
     "output_type": "stream",
     "text": [
      "0.375 0.9157303370786517\n",
      "0.8214285714285714 0.8370786516853933\n",
      "0.9054054054054054 0.7865168539325843\n",
      "0.9552238805970149 0.7528089887640449\n",
      "0.9682539682539683 0.7078651685393258\n",
      "0.9666666666666667 0.6741573033707865\n",
      "0.9642857142857143 0.6292134831460674\n",
      "0.9622641509433962 0.5955056179775281\n",
      "1.0 0.5393258426966292\n",
      "1.0 0.3707865168539326\n"
     ]
    },
    {
     "data": {
      "image/png": "[encoded data removed]",
      "text/plain": [
       "<Figure size 432x288 with 2 Axes>"
      ]
     },
     "metadata": {
      "needs_background": "light"
     },
     "output_type": "display_data"
    }
   ],
   "source": [
    "genes_D15 = np.squeeze(pd.read_csv ('../data/processed_data/D15genes_interest.csv'))\n",
    "gene_optimized = np.squeeze(pd.read_csv ('../data/optimized_subsets/D15genes_bestANOVA.csv'))\n",
    "plot_cutoff(x=D15, y=y, all_genes= genes_D15, best_genes=gene_optimized)"
   ]
  },
  {
   "cell_type": "markdown",
   "id": "47274953-64b0-44bf-8339-1a98b153679d",
   "metadata": {},
   "source": [
    "# LK"
   ]
  },
  {
   "cell_type": "code",
   "execution_count": 24,
   "id": "81f9f6bb-995b-474f-993d-686d9a00915c",
   "metadata": {},
   "outputs": [
    {
     "data": {
      "text/plain": [
       "(610, 8405)"
      ]
     },
     "execution_count": 24,
     "metadata": {},
     "output_type": "execute_result"
    }
   ],
   "source": [
    "#Load preprocess data\n",
    "LK = np.array(pd.read_csv ('../data/processed_data/LK.csv'))\n",
    "y = np.array(LK[:,-1],dtype=int)\n",
    "LK = LK[:,0:-1]\n",
    "LK.shape"
   ]
  },
  {
   "cell_type": "markdown",
   "id": "aaf391ef-68d1-4e8b-ad2f-8265bdf61aed",
   "metadata": {},
   "source": [
    " ### Baseline (with all genes)"
   ]
  },
  {
   "cell_type": "code",
   "execution_count": 29,
   "id": "e1974c96-53c2-446d-8c5f-474595f6d373",
   "metadata": {},
   "outputs": [
    {
     "name": "stdout",
     "output_type": "stream",
     "text": [
      "0.20603015075376885 0.8131147540983606\n"
     ]
    }
   ],
   "source": [
    "model = FamiliesClusters(np.unique(y),compute_precision,True)\n",
    "pred = model.fit_predict(LK,y)\n",
    "print(model.score_, model.recovery)"
   ]
  },
  {
   "cell_type": "markdown",
   "id": "01446c12-fc64-446f-b72e-26b82815835d",
   "metadata": {},
   "source": [
    "### Baseline (random)"
   ]
  },
  {
   "cell_type": "code",
   "execution_count": 30,
   "id": "2d9b230d-fbe9-4731-9f21-fc8cdeb3420f",
   "metadata": {},
   "outputs": [
    {
     "name": "stdout",
     "output_type": "stream",
     "text": [
      "0.0 0.8131147540983606\n"
     ]
    }
   ],
   "source": [
    "LK_shuffle =  np.array(pd.DataFrame(LK).sample(frac = 1))\n",
    "model = FamiliesClusters(np.unique(y),compute_precision,True)\n",
    "pred = model.fit_predict(LK_shuffle,y)\n",
    "print(model.score_, model.recovery)"
   ]
  },
  {
   "cell_type": "markdown",
   "id": "74e3b868-fcf0-4859-8196-3b6781fb9f32",
   "metadata": {},
   "source": [
    "### Optimized subset (MIM)"
   ]
  },
  {
   "cell_type": "code",
   "execution_count": 3,
   "id": "4bdcd0ea-758c-4f45-bd8a-08896a39f9f7",
   "metadata": {
    "collapsed": true,
    "jupyter": {
     "outputs_hidden": true
    },
    "tags": []
   },
   "outputs": [
    {
     "ename": "NameError",
     "evalue": "name 'LK' is not defined",
     "output_type": "error",
     "traceback": [
      "\u001b[0;31m---------------------------------------------------------------------------\u001b[0m",
      "\u001b[0;31mNameError\u001b[0m                                 Traceback (most recent call last)",
      "\u001b[0;32m/var/folders/gz/s90yhf3d4yg_q6r76fs2lg380000gq/T/ipykernel_80931/3864381603.py\u001b[0m in \u001b[0;36m<module>\u001b[0;34m\u001b[0m\n\u001b[1;32m     14\u001b[0m \u001b[0;34m\u001b[0m\u001b[0m\n\u001b[1;32m     15\u001b[0m \u001b[0;31m#Only keep the optimized genes\u001b[0m\u001b[0;34m\u001b[0m\u001b[0;34m\u001b[0m\u001b[0m\n\u001b[0;32m---> 16\u001b[0;31m \u001b[0mLK\u001b[0m \u001b[0;34m=\u001b[0m \u001b[0mLK\u001b[0m\u001b[0;34m[\u001b[0m\u001b[0;34m:\u001b[0m\u001b[0;34m,\u001b[0m\u001b[0mind_opt_genes\u001b[0m\u001b[0;34m]\u001b[0m\u001b[0;34m\u001b[0m\u001b[0;34m\u001b[0m\u001b[0m\n\u001b[0m\u001b[1;32m     17\u001b[0m \u001b[0mprint\u001b[0m\u001b[0;34m(\u001b[0m\u001b[0mLK\u001b[0m\u001b[0;34m.\u001b[0m\u001b[0mshape\u001b[0m\u001b[0;34m)\u001b[0m\u001b[0;34m\u001b[0m\u001b[0;34m\u001b[0m\u001b[0m\n\u001b[1;32m     18\u001b[0m \u001b[0;34m\u001b[0m\u001b[0m\n",
      "\u001b[0;31mNameError\u001b[0m: name 'LK' is not defined"
     ]
    }
   ],
   "source": [
    "genes_LK = np.squeeze(pd.read_csv ('../data/processed_data/LKgenes_interest.csv'))\n",
    "gene_optimized = np.squeeze(pd.read_csv ('../data/optimized_subsets/LKgenes_bestMIM.csv'))\n",
    "\n",
    "ind_opt_genes = []\n",
    "for gene in gene_optimized:\n",
    "    ind = np.squeeze(np.where(genes_LK == gene))\n",
    "    if ind.shape == ():\n",
    "        ind_opt_genes = np.append(ind_opt_genes, int(ind))\n",
    "    else:\n",
    "        for i in ind:\n",
    "                ind_opt_genes = np.append(ind_opt_genes, int(i))\n",
    "            \n",
    "ind_opt_genes= list(ind_opt_genes.astype(int))\n",
    "\n",
    "#Only keep the optimized genes\n",
    "LK = LK[:,ind_opt_genes]\n",
    "print(LK.shape)\n",
    "\n",
    "subset = np.ones((LK.shape[1],))\n",
    "subsets = subsampling_genes(subset, 101, 0.25)\n",
    "print(len(subsets[0]))"
   ]
  },
  {
   "cell_type": "code",
   "execution_count": 77,
   "id": "a5b0f788-48ce-43b1-88b8-f030da47ded5",
   "metadata": {},
   "outputs": [
    {
     "name": "stdout",
     "output_type": "stream",
     "text": [
      "0.40173410404624277 0.7016393442622951\n"
     ]
    }
   ],
   "source": [
    "model = FamiliesClusters(np.unique(y),compute_precision,True)\n",
    "pred = model.fit_predict(LK,y)\n",
    "print(model.score_, model.recovery)"
   ]
  },
  {
   "cell_type": "code",
   "execution_count": 78,
   "id": "75149f69-0d17-443b-8863-094763dff35e",
   "metadata": {},
   "outputs": [
    {
     "name": "stdout",
     "output_type": "stream",
     "text": [
      "(101, 610)\n",
      "0.6255924170616114 0.4737704918032787\n"
     ]
    }
   ],
   "source": [
    "model = EnsemblingHierarchical(np.unique(y),compute_precision,True,subsets = subsets, ensembling='voting', threshold_voting = 0.5)\n",
    "result  = model.fit_predict(X = LK, y = y)\n",
    "print(model.score_, model.recovery)"
   ]
  },
  {
   "cell_type": "code",
   "execution_count": null,
   "id": "1f884aa9-91cc-4672-b014-f3a0e857aadf",
   "metadata": {
    "tags": []
   },
   "outputs": [
    {
     "name": "stdout",
     "output_type": "stream",
     "text": [
      "0.004122638748902689 0.9901639344262295\n",
      "0.07685227795674184 0.9245901639344263\n",
      "0.19926873857404023 0.7770491803278688\n"
     ]
    }
   ],
   "source": [
    "genes_LK = np.squeeze(pd.read_csv ('../data/processed_data/LKgenes_interest.csv'))\n",
    "gene_optimized = np.squeeze(pd.read_csv ('../data/optimized_subsets/LKgenes_bestMIM.csv'))\n",
    "\n",
    "non_unique = np.squeeze(pd.read_csv('../data/non_unique_genes.csv'))\n",
    "for gene in non_unique:\n",
    "    if gene in gene_optimized:\n",
    "        gene_optimized.remove(gene)\n",
    "\n",
    "plot_cutoff(x=LK, y=y, all_genes= genes_LK, best_genes=gene_optimized)"
   ]
  },
  {
   "cell_type": "markdown",
   "id": "9eee7a66-27d2-41d2-8b4a-693c2a2f09e1",
   "metadata": {},
   "source": [
    "### Prediction by barcode library"
   ]
  },
  {
   "cell_type": "code",
   "execution_count": null,
   "id": "faa88bba-c116-4c65-a834-feeca80e9cad",
   "metadata": {
    "tags": []
   },
   "outputs": [],
   "source": [
    "lib = [0,1,2,3,4,5,6,7,8]\n",
    "for i in lib:\n",
    "    \n",
    "    print('-------------------------')\n",
    "    print('Barcode library ' + str(i))\n",
    "    LK = np.array(pd.read_csv ('../data/processed_data/LKlib' + str(i) + '.csv')).T\n",
    "    y_LK  = np.squeeze(np.array(pd.read_csv('../data/processed_data/y_LK_lib' + str(i) + '.csv')))\n",
    "    genes_LK = np.squeeze(pd.read_csv ('../data/processed_data/LKgenes_interest.csv'))\n",
    "    gene_optimized = np.squeeze(pd.read_csv ('../data/optimized_subsets/LKgenes_bestMIM.csv'))\n",
    "\n",
    "    ind_opt_genes = []\n",
    "    for gene in gene_optimized:\n",
    "        ind = np.squeeze(np.where(genes_LK == gene))\n",
    "        if ind.shape == ():\n",
    "            ind_opt_genes = np.append(ind_opt_genes, int(ind))\n",
    "        else:\n",
    "            for i in ind:\n",
    "                    ind_opt_genes = np.append(ind_opt_genes, int(i))\n",
    "\n",
    "    ind_opt_genes= list(ind_opt_genes.astype(int))\n",
    "\n",
    "    #Only keep the optimized genes\n",
    "    LK = LK[:,ind_opt_genes]\n",
    "    print(LK.shape)\n",
    "\n",
    "    subset = np.ones((LK.shape[1],))\n",
    "    subsets = subsampling_genes(subset, 101, 0.25)\n",
    "    \n",
    "    #Predict once\n",
    "    model = FamiliesClusters(np.unique(y_LK),compute_precision,True)\n",
    "    pred = model.fit_predict(LK,y_LK)\n",
    "    print(model.score_, model.recovery)\n",
    "    \n",
    "    #Predict repetitively\n",
    "    model = EnsemblingHierarchical(np.unique(y_LK),compute_precision,True,subsets = subsets, ensembling='voting', threshold_voting = 0.5)\n",
    "    result  = model.fit_predict(X = LK, y = y_LK)\n",
    "    print(model.score_, model.recovery)"
   ]
  },
  {
   "cell_type": "markdown",
   "id": "2b9b2acd-4f01-423d-9689-b811426197d3",
   "metadata": {},
   "source": [
    "# LSK"
   ]
  },
  {
   "cell_type": "code",
   "execution_count": null,
   "id": "4774ba8f-6299-4abc-ab81-7a462984fcf7",
   "metadata": {},
   "outputs": [],
   "source": [
    "#Load preprocess data\n",
    "LSK = np.array(pd.read_csv ('../data/processed_data/LSK.csv'))\n",
    "y = np.array(LSK[:,-1],dtype=int)\n",
    "LSK = LSK[:,0:-1]\n",
    "LSK.shape"
   ]
  },
  {
   "cell_type": "markdown",
   "id": "97d452d6-0b5e-4121-a78a-181ba1c7ec26",
   "metadata": {},
   "source": [
    " ### Baseline (with all genes)"
   ]
  },
  {
   "cell_type": "code",
   "execution_count": 80,
   "id": "c5149759-f93e-4cdc-9ea7-3aff781e6499",
   "metadata": {},
   "outputs": [
    {
     "name": "stdout",
     "output_type": "stream",
     "text": [
      "0.08357588357588358 0.9269878805793674\n"
     ]
    }
   ],
   "source": [
    "model = FamiliesClusters(np.unique(y),compute_precision,True)\n",
    "pred = model.fit_predict(LSK,y)\n",
    "print(model.score_, model.recovery)"
   ]
  },
  {
   "cell_type": "markdown",
   "id": "88b90571-598c-4d76-9594-74dcc91669f0",
   "metadata": {},
   "source": [
    "### Baseline (random)"
   ]
  },
  {
   "cell_type": "code",
   "execution_count": 81,
   "id": "1abf36c4-b646-49c9-93e0-ce233a57d1cd",
   "metadata": {},
   "outputs": [
    {
     "name": "stdout",
     "output_type": "stream",
     "text": [
      "0.0008316008316008316 0.9269878805793674\n"
     ]
    }
   ],
   "source": [
    "LSK_shuffle =  np.array(pd.DataFrame(LSK).sample(frac = 1))\n",
    "model = FamiliesClusters(np.unique(y),compute_precision,True)\n",
    "pred = model.fit_predict(LSK_shuffle,y)\n",
    "print(model.score_, model.recovery)"
   ]
  },
  {
   "cell_type": "markdown",
   "id": "bf0f5847-b179-4632-a874-be2384c73761",
   "metadata": {},
   "source": [
    "### Optimized subset (ANOVA)"
   ]
  },
  {
   "cell_type": "code",
   "execution_count": 88,
   "id": "7f6aa212-f942-40ae-b89b-7c051cbc37eb",
   "metadata": {},
   "outputs": [
    {
     "name": "stdout",
     "output_type": "stream",
     "text": [
      "(3383, 418)\n",
      "418\n"
     ]
    }
   ],
   "source": [
    "genes_LSK = np.squeeze(pd.read_csv ('../data/processed_data/LSKgenes_interest.csv'))\n",
    "gene_optimized = np.squeeze(pd.read_csv ('../data/optimized_subsets/LSKgenes_bestANOVA.csv'))\n",
    "\n",
    "ind_opt_genes = []\n",
    "for gene in gene_optimized:\n",
    "    ind = np.squeeze(np.where(genes_LSK == gene))\n",
    "    if ind.shape == ():\n",
    "        ind_opt_genes = np.append(ind_opt_genes, int(ind))\n",
    "    else:\n",
    "        for i in ind:\n",
    "                ind_opt_genes = np.append(ind_opt_genes, int(i))\n",
    "ind_opt_genes= list(ind_opt_genes.astype(int))\n",
    "\n",
    "#Only keep the optimized genes\n",
    "LSK = LSK[:,ind_opt_genes]\n",
    "print(LSK.shape)\n",
    "\n",
    "subset = np.ones((LSK.shape[1],))\n",
    "subsets = subsampling_genes(subset, 101, 0.25)\n",
    "print(len(subsets[0]))"
   ]
  },
  {
   "cell_type": "code",
   "execution_count": 89,
   "id": "a311531d-7b91-4764-93cf-4ee502fe7ffa",
   "metadata": {},
   "outputs": [
    {
     "name": "stdout",
     "output_type": "stream",
     "text": [
      "0.15286041189931351 0.8288501330180313\n"
     ]
    }
   ],
   "source": [
    "model = FamiliesClusters(np.unique(y),compute_precision,True)\n",
    "pred = model.fit_predict(LSK,y)\n",
    "print(model.score_, model.recovery)"
   ]
  },
  {
   "cell_type": "code",
   "execution_count": null,
   "id": "cdc72cc2-0f8d-4aa6-a265-0e60916b051d",
   "metadata": {},
   "outputs": [
    {
     "name": "stdout",
     "output_type": "stream",
     "text": [
      "(101, 3383)\n",
      "0.42971887550200805 0.23558971327224357\n"
     ]
    }
   ],
   "source": [
    "model = EnsemblingHierarchical(np.unique(y),compute_precision,True,subsets = subsets, ensembling='voting', threshold_voting = 0.5)\n",
    "result  = model.fit_predict(X = LSK, y = y)\n",
    "print(model.score_, model.recovery)"
   ]
  },
  {
   "cell_type": "code",
   "execution_count": null,
   "id": "44a5b3bf-8e73-410f-9104-873726f87113",
   "metadata": {
    "tags": []
   },
   "outputs": [],
   "source": [
    "genes_LSK = np.squeeze(pd.read_csv ('../data/processed_data/LSKgenes_interest.csv'))\n",
    "gene_optimized = list(np.squeeze(pd.read_csv ('../data/optimized_subsets/LSKgenes_bestANOVA.csv')))\n",
    "non_unique = np.squeeze(pd.read_csv('../data/non_unique_genes.csv'))\n",
    "for gene in non_unique:\n",
    "    if gene in gene_optimized:\n",
    "        gene_optimized.remove(gene)\n",
    "\n",
    "plot_cutoff(x=LSK, y=y, all_genes= genes_LSK, best_genes=gene_optimized)"
   ]
  },
  {
   "cell_type": "markdown",
   "id": "7c531e15-790e-490b-881b-03ac10f92a0f",
   "metadata": {},
   "source": [
    "### Prediction by barcode library"
   ]
  },
  {
   "cell_type": "code",
   "execution_count": null,
   "id": "d5e9924e-12fb-4c44-aa4a-cadb16c5436f",
   "metadata": {
    "tags": []
   },
   "outputs": [],
   "source": [
    "for i in range(0,13):\n",
    "    \n",
    "    print('-------------------------')\n",
    "    print('Barcode library ' + str(i))\n",
    "    LSK = np.array(pd.read_csv ('../data/processed_data/LSKlib' + str(i) + '.csv')).T\n",
    "    y_LSK  = np.squeeze(np.array(pd.read_csv('../data/processed_data/y_LSK_lib' + str(i) + '.csv')))\n",
    "    genes_LSK = np.squeeze(pd.read_csv ('../data/processed_data/LSKgenes_interest.csv'))\n",
    "    gene_optimized = np.squeeze(pd.read_csv ('../data/optimized_subsets/LSKgenes_bestANOVA.csv'))\n",
    "\n",
    "    ind_opt_genes = []\n",
    "    for gene in gene_optimized:\n",
    "        ind = np.squeeze(np.where(genes_LSK == gene))\n",
    "        if ind.shape == ():\n",
    "            ind_opt_genes = np.append(ind_opt_genes, int(ind))\n",
    "        else:\n",
    "            for i in ind:\n",
    "                    ind_opt_genes = np.append(ind_opt_genes, int(i))\n",
    "\n",
    "    ind_opt_genes= list(ind_opt_genes.astype(int))\n",
    "\n",
    "    #Only keep the optimized genes\n",
    "    LSK = LSK[:,ind_opt_genes]\n",
    "    print(LSK.shape)\n",
    "\n",
    "    subset = np.ones((LSK.shape[1],))\n",
    "    subsets = subsampling_genes(subset, 101, 0.25)\n",
    "    \n",
    "    #Predict once\n",
    "    model = FamiliesClusters(np.unique(y_LSK),compute_precision,True)\n",
    "    pred = model.fit_predict(LSK,y_LSK)\n",
    "    print(model.score_, model.recovery)\n",
    "    \n",
    "    #Predict repetitively\n",
    "    model = EnsemblingHierarchical(np.unique(y_LSK),compute_precision,True,subsets = subsets, ensembling='voting', threshold_voting = 0.5)\n",
    "    result  = model.fit_predict(X = LSK, y = y_LSK)\n",
    "    print(model.score_, model.recovery)"
   ]
  },
  {
   "cell_type": "markdown",
   "id": "ad60d344-c0ec-4e75-b75e-52af888ed89b",
   "metadata": {},
   "source": [
    "# LK/LSK mix"
   ]
  },
  {
   "cell_type": "code",
   "execution_count": null,
   "id": "e0efb594-6621-41e6-a37a-83d7f3789ddb",
   "metadata": {},
   "outputs": [],
   "source": [
    "#Load preprocess data\n",
    "LSKmix = np.array(pd.read_csv ('../data/processed_data/LSKmix.csv'))\n",
    "y = np.array(LSKmix[:,-1],dtype=int)\n",
    "LSKmix = LSKmix[:,0:-1]\n",
    "LSKmix.shape"
   ]
  },
  {
   "cell_type": "markdown",
   "id": "d8e019e9-f830-4692-978f-97669c9ab40a",
   "metadata": {},
   "source": [
    " ### Baseline (with all genes)"
   ]
  },
  {
   "cell_type": "code",
   "execution_count": 92,
   "id": "9e3e5291-b649-426f-b7a6-3fa05289b2ba",
   "metadata": {},
   "outputs": [
    {
     "name": "stdout",
     "output_type": "stream",
     "text": [
      "0.13649425287356323 0.8651026392961877\n"
     ]
    }
   ],
   "source": [
    "model = FamiliesClusters(np.unique(y),compute_precision,True)\n",
    "pred = model.fit_predict(LSKmix,y)\n",
    "print(model.score_, model.recovery)"
   ]
  },
  {
   "cell_type": "markdown",
   "id": "a26945e5-37bd-4dba-8c82-106363d21e24",
   "metadata": {},
   "source": [
    "### Baseline (random)"
   ]
  },
  {
   "cell_type": "code",
   "execution_count": 93,
   "id": "93693345-26d0-4d4e-befe-17f796518466",
   "metadata": {},
   "outputs": [
    {
     "name": "stdout",
     "output_type": "stream",
     "text": [
      "0.0028735632183908046 0.8651026392961877\n"
     ]
    }
   ],
   "source": [
    "LSKmix_shuffle =  np.array(pd.DataFrame(LSKmix).sample(frac = 1))\n",
    "model = FamiliesClusters(np.unique(y),compute_precision,True)\n",
    "pred = model.fit_predict(LSKmix_shuffle,y)\n",
    "print(model.score_, model.recovery)"
   ]
  },
  {
   "cell_type": "markdown",
   "id": "7c56f7c0-936d-4ef2-b820-6cb3badddbc6",
   "metadata": {},
   "source": [
    "### Optimized subset (ANOVA)"
   ]
  },
  {
   "cell_type": "code",
   "execution_count": 99,
   "id": "4b0f3e08-8944-4c8a-bba2-7308c83f462a",
   "metadata": {},
   "outputs": [
    {
     "name": "stdout",
     "output_type": "stream",
     "text": [
      "(1023, 294)\n",
      "294\n"
     ]
    }
   ],
   "source": [
    "genes_LSKmix = np.squeeze(pd.read_csv ('../data/processed_data/LSKmixgenes_interest.csv'))\n",
    "gene_optimized = np.squeeze(pd.read_csv ('../data/optimized_subsets/LSKmixgenes_bestANOVA.csv'))\n",
    "\n",
    "ind_opt_genes = []\n",
    "for gene in gene_optimized:\n",
    "    ind = np.squeeze(np.where(genes_LSKmix == gene))\n",
    "    if ind.shape == ():\n",
    "        ind_opt_genes = np.append(ind_opt_genes, int(ind))\n",
    "    else:\n",
    "        for i in ind:\n",
    "                ind_opt_genes = np.append(ind_opt_genes, int(i))\n",
    "ind_opt_genes= list(ind_opt_genes.astype(int))\n",
    "\n",
    "#Only keep the optimized genes\n",
    "LSKmix = LSKmix[:,ind_opt_genes]\n",
    "print(LSKmix.shape)\n",
    "\n",
    "subset = np.ones((LSKmix.shape[1],))\n",
    "subsets = subsampling_genes(subset, 101, 0.25)\n",
    "print(len(subsets[0]))"
   ]
  },
  {
   "cell_type": "code",
   "execution_count": 100,
   "id": "057ec261-bb04-43e2-a5a1-97f6dae1b1f6",
   "metadata": {},
   "outputs": [
    {
     "name": "stdout",
     "output_type": "stream",
     "text": [
      "0.2084507042253521 0.8807429130009775\n"
     ]
    }
   ],
   "source": [
    "model = FamiliesClusters(np.unique(y),compute_precision,True)\n",
    "pred = model.fit_predict(LSKmix,y)\n",
    "print(model.score_, model.recovery)"
   ]
  },
  {
   "cell_type": "code",
   "execution_count": 101,
   "id": "9e6f2d32-8819-4755-af7b-950cfae2dbf9",
   "metadata": {},
   "outputs": [
    {
     "name": "stdout",
     "output_type": "stream",
     "text": [
      "(101, 1023)\n",
      "0.4703196347031963 0.32942326490713586\n"
     ]
    }
   ],
   "source": [
    "model = EnsemblingHierarchical(np.unique(y),compute_precision,True,subsets = subsets, ensembling='voting', threshold_voting = 0.5)\n",
    "result  = model.fit_predict(X = LSKmix, y = y)\n",
    "print(model.score_, model.recovery)"
   ]
  },
  {
   "cell_type": "code",
   "execution_count": null,
   "id": "56dd2df0-967d-4a7f-97d5-bc1728f541be",
   "metadata": {},
   "outputs": [],
   "source": [
    "genes_LSKmix = np.squeeze(pd.read_csv ('../data/processed_data/LSKmixgenes_interest.csv'))\n",
    "gene_optimized = np.squeeze(pd.read_csv ('../data/optimized_subsets/LSKmixgenes_bestANOVA.csv'))\n",
    "non_unique = np.squeeze(pd.read_csv('../data/non_unique_genes.csv'))\n",
    "for gene in non_unique:\n",
    "    if gene in gene_optimized:\n",
    "        gene_optimized.remove(gene)\n",
    "plot_cutoff(x=LSKmix, y=y, all_genes= genes_LSKmix, best_genes=gene_optimized)"
   ]
  },
  {
   "cell_type": "markdown",
   "id": "67db510e-3374-42d2-8b46-0890e8843427",
   "metadata": {},
   "source": [
    "### Prediction by barcode library"
   ]
  },
  {
   "cell_type": "code",
   "execution_count": null,
   "id": "050a0766-f4ad-4c0f-9a31-5cd4dfb39292",
   "metadata": {},
   "outputs": [],
   "source": [
    "for i in range(0,6):\n",
    "    \n",
    "    print('-------------------------')\n",
    "    print('Barcode library ' + str(i))\n",
    "    LK = np.array(pd.read_csv ('../data/processed_data/LSKmixlib' + str(i) + '.csv')).T\n",
    "    y_LK  = np.squeeze(np.array(pd.read_csv('../data/processed_data/y_LSKmix_lib' + str(i) + '.csv')))\n",
    "    genes_LK = np.squeeze(pd.read_csv ('../data/processed_data/LSKmixgenes_interest.csv'))\n",
    "    gene_optimized = np.squeeze(pd.read_csv ('../data/optimized_subsets/LSKmixgenes_bestANOVA.csv'))\n",
    "\n",
    "    ind_opt_genes = []\n",
    "    for gene in gene_optimized:\n",
    "        ind = np.squeeze(np.where(genes_LK == gene))\n",
    "        if ind.shape == ():\n",
    "            ind_opt_genes = np.append(ind_opt_genes, int(ind))\n",
    "        else:\n",
    "            for i in ind:\n",
    "                    ind_opt_genes = np.append(ind_opt_genes, int(i))\n",
    "\n",
    "    ind_opt_genes= list(ind_opt_genes.astype(int))\n",
    "\n",
    "    #Only keep the optimized genes\n",
    "    LK = LK[:,ind_opt_genes]\n",
    "    print(LK.shape)\n",
    "\n",
    "    subset = np.ones((LK.shape[1],))\n",
    "    subsets = subsampling_genes(subset, 101, 0.25)\n",
    "    \n",
    "    #Predict once\n",
    "    model = FamiliesClusters(np.unique(y_LK),compute_precision,True)\n",
    "    pred = model.fit_predict(LK,y_LK)\n",
    "    print(model.score_, model.recovery)\n",
    "    \n",
    "    #Predict repetitively\n",
    "    model = EnsemblingHierarchical(np.unique(y_LK),compute_precision,True,subsets = subsets, ensembling='voting', threshold_voting = 0.5)\n",
    "    result  = model.fit_predict(X = LK, y = y_LK)\n",
    "    print(model.score_, model.recovery)"
   ]
  },
  {
   "cell_type": "code",
   "execution_count": null,
   "id": "ce60cfd5-a014-467e-8ba9-330f0c028ce0",
   "metadata": {},
   "outputs": [],
   "source": []
  }
 ],
 "metadata": {
  "kernelspec": {
   "display_name": "Python 3 (ipykernel)",
   "language": "python",
   "name": "python3"
  },
  "language_info": {
   "codemirror_mode": {
    "name": "ipython",
    "version": 3
   },
   "file_extension": ".py",
   "mimetype": "text/x-python",
   "name": "python",
   "nbconvert_exporter": "python",
   "pygments_lexer": "ipython3",
   "version": "3.9.7"
  }
 },
 "nbformat": 4,
 "nbformat_minor": 5
}
