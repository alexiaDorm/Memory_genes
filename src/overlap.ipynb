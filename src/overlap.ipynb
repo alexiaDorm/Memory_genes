{
 "cells": [
  {
   "cell_type": "code",
   "execution_count": 1,
   "metadata": {},
   "outputs": [],
   "source": [
    "import numpy as np\n",
    "import matplotlib.pyplot as plt\n",
    "\n",
    "import io \n",
    "import pandas as pd  \n",
    "import pyreadr\n",
    "\n",
    "from load_data import *\n",
    "from pred_score import *\n",
    "from Filter_FS import *\n",
    "from Wrapper_FS import *\n",
    "from overlap_genes import  genes_present_at_least, evaluate_overlap_genes"
   ]
  },
  {
   "cell_type": "markdown",
   "metadata": {},
   "source": [
    "# Load data"
   ]
  },
  {
   "cell_type": "code",
   "execution_count": 2,
   "metadata": {},
   "outputs": [
    {
     "name": "stdout",
     "output_type": "stream",
     "text": [
      "(333, 32285) (333,)\n",
      "(1473, 32285) (1473,)\n",
      "(112, 32285) (112,)\n",
      "(349, 32285) (349,)\n",
      "(116, 32285) (116,)\n",
      "(38, 32285) (38,)\n",
      "(88, 32285) (88,)\n",
      "(90, 32285) (90,)\n",
      "(78, 14980) (78,)\n",
      "(67, 15157) (67,)\n",
      "(67, 15157) (67,)\n",
      "(67, 15157) (67,)\n"
     ]
    }
   ],
   "source": [
    "#Load AE3 data\n",
    "AE3 = pd.read_csv ('../data/processed_data/AE3csv.csv')\n",
    "AE3_y = np.squeeze(pd.read_csv ('../data/processed_data/AE3_familiescsv.csv'))\n",
    "AE3_op_genes = np.squeeze(np.array(pd.read_csv('../data/optimized_subsets/AE3genes_best.csv')))\n",
    "print(np.shape(AE3), np.shape(AE3_y))\n",
    "\n",
    "#Load AE4 data\n",
    "AE4 = pd.read_csv ('../data/processed_data/AE4csv.csv')\n",
    "AE4_y =  np.squeeze(pd.read_csv ('../data/processed_data/AE4_familiescsv.csv'))\n",
    "#AE4_op_genes = np.squeeze(np.array(pd.read_csv('../data/optimized_subsets/AE4genes_best.csv')))\n",
    "print(np.shape(AE4), np.shape(AE4_y))\n",
    "\n",
    "#Load BIDDY DO data\n",
    "DO = pd.read_csv ('../data/processed_data/DOcsv.csv')\n",
    "DO_y =  np.squeeze(pd.read_csv ('../data/processed_data/DO_familiescsv.csv'))\n",
    "DO_op_genes = np.squeeze(np.array(pd.read_csv('../data/optimized_subsets/DOgenes_best.csv')))\n",
    "print(np.shape(DO), np.shape(DO_y))\n",
    "\n",
    "#Load BIDDY DO2 data\n",
    "DO2 = pd.read_csv ('../data/processed_data/DO2csv.csv')\n",
    "DO2_y =  np.squeeze(pd.read_csv ('../data/processed_data/DO2_familiescsv.csv'))\n",
    "DO2_op_genes = np.squeeze(np.array(pd.read_csv('../data/optimized_subsets/DO2genes_best.csv')))\n",
    "print(np.shape(DO2), np.shape(DO2_y))\n",
    "\n",
    "#Load BIDDY D6 data\n",
    "D6 = pd.read_csv ('../data/processed_data/D6csv.csv')\n",
    "D6_y =  np.squeeze(pd.read_csv ('../data/processed_data/D6_familiescsv.csv'))\n",
    "D6_op_genes = np.squeeze(np.array(pd.read_csv('../data/optimized_subsets/D6genes_best.csv')))\n",
    "print(np.shape(D6), np.shape(D6_y))\n",
    "\n",
    "#Load BIDDY D62 data\n",
    "D62 = pd.read_csv ('../data/processed_data/D62csv.csv')\n",
    "D62_y =  np.squeeze(pd.read_csv ('../data/processed_data/D62_familiescsv.csv'))\n",
    "D62_op_genes = np.squeeze(np.array(pd.read_csv('../data/optimized_subsets/D62genes_best.csv')))\n",
    "print(np.shape(D62), np.shape(D62_y))\n",
    "\n",
    "#Load BIDDY D15 data\n",
    "D15 = pd.read_csv ('../data/processed_data/D15csv.csv')\n",
    "D15_y =  np.squeeze(pd.read_csv ('../data/processed_data/D15_familiescsv.csv'))\n",
    "D15_op_genes = np.squeeze(np.array(pd.read_csv('../data/optimized_subsets/D15genes_best.csv')))\n",
    "print(np.shape(D15), np.shape(D15_y))\n",
    "\n",
    "#Load BIDDY D152 data\n",
    "D152 = pd.read_csv ('../data/processed_data/D152csv.csv')\n",
    "D152_y =  np.squeeze(pd.read_csv ('../data/processed_data/D152_familiescsv.csv'))\n",
    "D152_op_genes = np.squeeze(np.array(pd.read_csv('../data/optimized_subsets/D152genes_best.csv')))\n",
    "print(np.shape(D152), np.shape(D152_y))\n",
    "\n",
    "#Load Kimmerling CD8 data\n",
    "CD8 = pd.read_csv ('../data/processed_data/CD8csv.csv')\n",
    "CD8_y =  np.squeeze(pd.read_csv ('../data/processed_data/CD8_familiescsv.csv'))\n",
    "CD8_op_genes = np.squeeze(np.array(pd.read_csv('../data/optimized_subsets/CD8genes_best.csv')))\n",
    "print(np.shape(CD8), np.shape(CD8_y))\n",
    "      \n",
    "#Load Kimmerling L1210 data\n",
    "L1210 = pd.read_csv ('../data/processed_data/L1210csv.csv')\n",
    "L1210_y =  np.squeeze(pd.read_csv ('../data/processed_data/L1210_familiescsv.csv'))\n",
    "L1210_op_genes = np.squeeze(np.array(pd.read_csv('../data/optimized_subsets/L1210genes_best.csv')))\n",
    "print(np.shape(L1210), np.shape(L1210_y))\n",
    "\n",
    "#Load Weinreb LK data\n",
    "LK = pd.read_csv ('../data/processed_data/LKcsv.csv')\n",
    "LK_y =  np.squeeze(pd.read_csv ('../data/processed_data/LK_familiescsv.csv'))\n",
    "print(np.shape(L1210), np.shape(L1210_y))\n",
    "\n",
    "#Load Weinreb LSK data\n",
    "LSK = pd.read_csv ('../data/processed_data/LSKcsv.csv')\n",
    "LSK_y =  np.squeeze(pd.read_csv ('../data/processed_data/LSK_familiescsv.csv'))\n",
    "print(np.shape(L1210), np.shape(L1210_y))"
   ]
  },
  {
   "cell_type": "code",
   "execution_count": 3,
   "metadata": {},
   "outputs": [],
   "source": [
    "#Making list of all the data\n",
    "data = [AE3,AE4,DO,DO2,D6,D62,D15,D152,CD8,L1210,LK,LSK]\n",
    "y = [AE3_y,AE4_y,DO_y,DO2_y,D6_y,D62_y,D15_y,D152_y,CD8_y,L1210_y, LK_y,LSK_y]\n",
    "list_ = [list(AE3_op_genes),list(DO_op_genes),list(DO2_op_genes),list(D6_op_genes),list(D62_op_genes),list(D15_op_genes),list(D152_op_genes),list(CD8_op_genes),list(L1210_op_genes)]\n",
    "#Name of the data sets\n",
    "name = ['AE3','AE4', 'DO', 'DO2', 'D6', 'D62','D15', 'D152', 'CD8', 'L1210', 'LK','LSK']"
   ]
  },
  {
   "cell_type": "markdown",
   "metadata": {},
   "source": [
    "# Taking all genes in the individual gene set"
   ]
  },
  {
   "cell_type": "code",
   "execution_count": 7,
   "metadata": {},
   "outputs": [
    {
     "name": "stdout",
     "output_type": "stream",
     "text": [
      "Taking all genes present in individual optimization, we get 1542 genes.\n",
      "The scores on the AE3 data set are \n",
      "sensitivity, specificity, precision, NPV, FDR, FNR =  (0.47794117647058826, 0.9915275150119273, 0.3869047619047619, 0.9941443298969073, 0.6130952380952381, 0.5220588235294118)\n",
      "The scores on the AE4 data set are \n",
      "sensitivity, specificity, precision, NPV, FDR, FNR =  (0.1956521739130435, 0.9924996728895041, 0.048205677557579006, 0.9984289814704733, 0.951794322442421, 0.8043478260869565)\n",
      "The scores on the DO data set are \n",
      "sensitivity, specificity, precision, NPV, FDR, FNR =  (0.8928571428571429, 1.0, 1.0, 0.9983853606027987, 0.0, 0.10714285714285714)\n",
      "The scores on the DO2 data set are \n",
      "sensitivity, specificity, precision, NPV, FDR, FNR =  (0.6973684210526315, 0.9959603765631586, 0.4796380090497738, 0.9983802246557978, 0.5203619909502263, 0.3026315789473684)\n",
      "The scores on the D6 data set are \n",
      "sensitivity, specificity, precision, NPV, FDR, FNR =  (0.48214285714285715, 0.9976617303195635, 0.6923076923076923, 0.9943678384152262, 0.3076923076923077, 0.5178571428571429)\n",
      "The scores on the D62 data set are \n",
      "sensitivity, specificity, precision, NPV, FDR, FNR =  (0.5263157894736842, 0.956140350877193, 0.4, 0.9732142857142857, 0.6, 0.47368421052631576)\n",
      "The scores on the D15 data set are \n",
      "sensitivity, specificity, precision, NPV, FDR, FNR =  (0.9090909090909091, 0.9995335820895522, 0.975609756097561, 0.9981369352585002, 0.024390243902439025, 0.09090909090909091)\n",
      "The scores on the D152 data set are \n",
      "sensitivity, specificity, precision, NPV, FDR, FNR =  (0.8181818181818182, 0.9987898346107301, 0.9230769230769231, 0.9967793880837359, 0.07692307692307693, 0.18181818181818182)\n",
      "The scores on the CD8 data set are \n",
      "sensitivity, specificity, precision, NPV, FDR, FNR =  (0.4444444444444444, 0.9843851659076123, 0.625, 0.9680102367242482, 0.375, 0.5555555555555556)\n",
      "The scores on the L1210 data set are \n",
      "sensitivity, specificity, precision, NPV, FDR, FNR =  (0.43010752688172044, 0.9912917271407837, 0.7692307692307693, 0.9626497533474278, 0.23076923076923078, 0.5698924731182796)\n",
      "The scores on the LK data set are \n",
      "sensitivity, specificity, precision, NPV, FDR, FNR =  (0.32926829268292684, 0.9853554878517116, 0.12404287901990811, 0.9957311393977025, 0.8759571209800919, 0.6707317073170732)\n",
      "The scores on the LSK data set are \n",
      "sensitivity, specificity, precision, NPV, FDR, FNR =  (0.2032967032967033, 0.9772465249831416, 0.034164358264081256, 0.9967827823385844, 0.9658356417359187, 0.7967032967032966)\n"
     ]
    }
   ],
   "source": [
    "score_all, subset_all = evaluate_overlap_genes(list_, data, y, 1)\n",
    "print('Taking all genes present in individual optimization, we get ' + str(len(subset_all)) + ' genes.')\n",
    "\n",
    "for i in range (len(name)):\n",
    "    print('The scores on the ' + name[i] + ' data set are ') \n",
    "    print(\"sensitivity, specificity, precision, NPV, FDR, FNR = \", score_all[i])"
   ]
  },
  {
   "cell_type": "markdown",
   "metadata": {},
   "source": [
    "# Taking genes that are present in at least ... optimal set"
   ]
  },
  {
   "cell_type": "code",
   "execution_count": 10,
   "metadata": {},
   "outputs": [
    {
     "name": "stdout",
     "output_type": "stream",
     "text": [
      "Taking the  genes present in at least 2 individual optimization, we get 370 genes.\n",
      "The scores on the AE3 data set is  (0.569377990430622, 0.9832004904966278, 0.30279898218829515, 0.9944189507627434, 0.6972010178117048, 0.430622009569378)\n",
      "The scores on the AE4 data set is  (0.13968957871396895, 0.9912474373127267, 0.03230769230769231, 0.9981877204044933, 0.9676923076923077, 0.8603104212860311)\n",
      "The scores on the DO data set is  (0.9642857142857143, 1.0, 1.0, 0.9993939393939394, 0.0, 0.03571428571428571)\n",
      "The scores on the DO2 data set is  (0.8220858895705522, 0.9969634445439327, 0.6320754716981132, 0.9988688665262501, 0.36792452830188677, 0.17791411042944785)\n",
      "The scores on the D6 data set is  (0.7368421052631579, 0.9983571931471485, 0.8571428571428571, 0.9964862965565706, 0.14285714285714285, 0.2631578947368421)\n",
      "The scores on the D62 data set is  (0.8421052631578947, 0.9710144927536232, 0.6666666666666666, 0.988929889298893, 0.3333333333333333, 0.15789473684210525)\n",
      "The scores on the D15 data set is  (0.9772727272727273, 1.0, 1.0, 0.9994946942900454, 0.0, 0.022727272727272728)\n",
      "The scores on the D152 data set is  (0.9555555555555556, 1.0, 1.0, 0.9990723562152134, 0.0, 0.044444444444444446)\n",
      "The scores on the CD8 data set is  (0.45348837209302323, 0.9796491228070175, 0.5735294117647058, 0.9674289674289674, 0.4264705882352941, 0.5465116279069767)\n",
      "The scores on the L1210 data set is  (0.225, 0.9805013927576601, 0.391304347826087, 0.9578231292517007, 0.6086956521739131, 0.775)\n",
      "The scores on the LK data set is  (0.24882629107981222, 0.9839535677705702, 0.07981927710843373, 0.9957476213256791, 0.9201807228915663, 0.7511737089201878)\n",
      "The scores on the LSK data set is  (0.16149068322981366, 0.9773841731484613, 0.023722627737226276, 0.9970890743256355, 0.9762773722627737, 0.8385093167701864)\n"
     ]
    }
   ],
   "source": [
    "#Tune the at least parameter\n",
    "score_atleast, subset_atleast = evaluate_overlap_genes(list_, data, y, 2)\n",
    "print('Taking the  genes present in at least 2 individual optimization, we get ' + str(len(subset_atleast)) + ' genes.')\n",
    "\n",
    "for i in range (len(name)):\n",
    "    print('The scores on the ' + name[i] + ' data set is ', score_atleast[i])"
   ]
  },
  {
   "cell_type": "markdown",
   "metadata": {},
   "source": [
    "# Analysis of the overlap between individual optimization"
   ]
  },
  {
   "cell_type": "code",
   "execution_count": null,
   "metadata": {},
   "outputs": [],
   "source": [
    "overlap = np.zeros([len(list_),len(list_)])\n",
    "\n",
    "for i in range(len(list_)):\n",
    "    for j in range(i+1,len(list_)):\n",
    "\n",
    "        list_genes = [list_[i],list_[j]] \n",
    "        overlap[i][j] = genes_present_at_least(list_genes, 2).size\n",
    "\n",
    "print('AE3', 'DO', 'DO2', 'D6', 'D62','D15', 'D152', 'CD8', 'L1210')\n",
    "print(overlap)\n",
    "\n",
    "overlap_ = [list(AE3_op_genes),list(D62_op_genes),list(CD8_op_genes)]\n",
    "genes_present_at_least(list_genes, 3)"
   ]
  },
  {
   "cell_type": "code",
   "execution_count": null,
   "metadata": {},
   "outputs": [],
   "source": [
    "from matplotlib_venn import venn3, venn3_circles\n",
    "\n",
    "venn3(subsets = (293,202,24,335,21,13,0), set_labels= ('AE3', 'D62', 'CD8'))"
   ]
  },
  {
   "cell_type": "code",
   "execution_count": 7,
   "metadata": {},
   "outputs": [],
   "source": []
  },
  {
   "cell_type": "code",
   "execution_count": null,
   "metadata": {},
   "outputs": [],
   "source": []
  }
 ],
 "metadata": {
  "kernelspec": {
   "display_name": "Python 3 (ipykernel)",
   "language": "python",
   "name": "python3"
  },
  "language_info": {
   "codemirror_mode": {
    "name": "ipython",
    "version": 3
   },
   "file_extension": ".py",
   "mimetype": "text/x-python",
   "name": "python",
   "nbconvert_exporter": "python",
   "pygments_lexer": "ipython3",
   "version": "3.9.7"
  }
 },
 "nbformat": 4,
 "nbformat_minor": 4
}
