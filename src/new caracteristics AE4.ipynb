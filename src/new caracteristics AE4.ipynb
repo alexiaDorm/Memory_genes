{
 "cells": [
  {
   "cell_type": "code",
   "execution_count": 1,
   "id": "b2444da5",
   "metadata": {},
   "outputs": [],
   "source": [
    "import numpy as np\n",
    "import math\n",
    "import matplotlib.pyplot as plt\n",
    "import pandas as pd  \n",
    "import pyreadr\n",
    "from sklearn.decomposition import PCA\n",
    "from sklearn.preprocessing import StandardScaler\n",
    "\n",
    "from load_data import *\n",
    "from pred_score import *"
   ]
  },
  {
   "cell_type": "code",
   "execution_count": 2,
   "id": "d71f06a5",
   "metadata": {},
   "outputs": [],
   "source": [
    "#Fixing seed to get reproducible results\n",
    "np.random.seed(3)"
   ]
  },
  {
   "cell_type": "markdown",
   "id": "0fe19eb7",
   "metadata": {},
   "source": [
    "# Load all data/info for AE4"
   ]
  },
  {
   "cell_type": "code",
   "execution_count": 3,
   "id": "0dced4d1",
   "metadata": {},
   "outputs": [],
   "source": [
    "#AE4\n",
    "AE4_df = pyreadr.read_r('../data/family_datasets/data_norm/AE4_scran_norm.rds')\n",
    "AE4_df = AE4_df[None]\n",
    "\n",
    "data_families_interest_AE4 = pyreadr.read_r('../data/family_datasets/family_interest/families_of_interest_AE4_nocellcyclesplit.RData')\n",
    "data_families_interest_AE4 = data_families_interest_AE4['fois_1']\n",
    "\n",
    "data_families_info_AE4 = pyreadr.read_r('../data/family_datasets/family_info/family_info_AE4_nocellcyclesplit.RData')\n",
    "data_families_info_AE4 = data_families_info_AE4['family_info_1']\n",
    "\n",
    "#Conversion into array \n",
    "data_families_interest_AE4 = np.array(data_families_interest_AE4)\n",
    "data_families_info_AE4 = np.array(data_families_info_AE4)"
   ]
  },
  {
   "cell_type": "code",
   "execution_count": 4,
   "id": "d007db38",
   "metadata": {},
   "outputs": [
    {
     "data": {
      "text/plain": [
       "1473"
      ]
     },
     "execution_count": 4,
     "metadata": {},
     "output_type": "execute_result"
    }
   ],
   "source": [
    "#Norm data with only the cells belonging to the family of interest\n",
    "AE4_df = select_family_interest_norm_data(data_families_info_AE4, data_families_interest_AE4, AE4_df)\n",
    "y_AE4 = AE4_df[1]\n",
    "y_AE4 = y_AE4[:,0]\n",
    "y_AE4 = y_AE4.astype(np.int32)\n",
    "AE4_df = AE4_df[0]\n",
    "y_AE4 = pd.DataFrame(y_AE4, index = AE4_df.columns)\n",
    "\n",
    "cells_interest = AE4_df.columns\n",
    "len(cells_interest)"
   ]
  },
  {
   "cell_type": "code",
   "execution_count": 5,
   "id": "4b61b79f",
   "metadata": {
    "tags": []
   },
   "outputs": [],
   "source": [
    "#Only keep optimized subset of genes for expression \n",
    "gene_interest = np.squeeze(pd.read_csv ('../data/optimized_subsets/AE4genes_best.csv'))\n",
    "AE4_df = AE4_df.loc[gene_interest,:]"
   ]
  },
  {
   "cell_type": "code",
   "execution_count": 6,
   "id": "6c6641aa",
   "metadata": {},
   "outputs": [
    {
     "name": "stdout",
     "output_type": "stream",
     "text": [
      "(180, 1473)\n",
      "(180, 1469) (1469,)\n"
     ]
    }
   ],
   "source": [
    "#Load data and only keep cells of interest\n",
    "velocity_length = pyreadr.read_r('../data/AE4_for_PCA_based_hclust/Lengths_AE4_under10_allgenes.RData')\n",
    "velocity_length = velocity_length['Lengths_1']\n",
    "velocity_length = velocity_length[velocity_length.columns.intersection(cells_interest)] \n",
    "\n",
    "velocity_angle = pyreadr.read_r('../data/AE4_for_PCA_based_hclust/Angles_AE4_under10_allgenes.RData')\n",
    "velocity_angle  = velocity_angle['Angles_1']\n",
    "velocity_angle = velocity_angle[velocity_angle.columns.intersection(cells_interest)] \n",
    "\n",
    "cyclone_cell_cycle = pd.read_csv ('../data/AE4_for_PCA_based_hclust/cyclone_AE4.csv')\n",
    "cyclone_cell_cycle = cyclone_cell_cycle[©] \n",
    "\n",
    "revelio_cell_cycle  = pd.read_csv ('../data/AE4_for_PCA_based_hclust/revelio.csv')\n",
    "revelio_cell_cycle = revelio_cell_cycle.set_index('Unnamed: 0')\n",
    "revelio_cell_cycle = revelio_cell_cycle.T[revelio_cell_cycle.index.intersection(cells_interest)]\n",
    "\n",
    "#Fuse cell cycle info together \n",
    "\n",
    "complexity = pyreadr.read_r('../data/AE4_for_PCA_based_hclust/Complexity_AE4.RData')\n",
    "complexity = complexity['Genenumber_1']\n",
    "complexity = complexity[complexity.columns.intersection(cells_interest)]\n",
    "\n",
    "momenti = pyreadr.read_r('../data/AE4_for_PCA_based_hclust/Momentum_AE4.RData')\n",
    "momenti = momenti['momentum']\n",
    "momenti = momenti[momenti.columns.intersection(cells_interest)]\n",
    "\n",
    "intron = pd.read_csv ('../data/AE4_for_PCA_based_hclust/introns_AE4.csv')\n",
    "intron = intron.set_index('Unnamed: 0')\n",
    "intron = intron[intron.columns.intersection(cells_interest)]\n",
    "\n",
    "#Remove cells without info \n",
    "print(AE4_df.shape)\n",
    "cells_interest = intron.columns\n",
    "AE4_df = AE4_df[cells_interest]\n",
    "y_AE4 = np.squeeze(np.array(y_AE4.T[cells_interest].T))\n",
    "print(AE4_df.shape, y_AE4.shape)"
   ]
  },
  {
   "cell_type": "code",
   "execution_count": 7,
   "id": "2d5db231",
   "metadata": {
    "tags": []
   },
   "outputs": [],
   "source": [
    "cells_interest = cyclone_cell_cycle.columns.intersection(cells_interest)\n",
    "\n",
    "cyclone = pd.DataFrame(0, columns = cells_interest, index = np.unique(cyclone_cell_cycle))\n",
    "revelio = pd.DataFrame(0, columns = cells_interest, index = np.unique(revelio_cell_cycle))\n",
    "\n",
    "for cell in cells_interest:\n",
    "    phase = cyclone_cell_cycle[cell][0]\n",
    "    cyclone[cell][phase] = 1\n",
    "    \n",
    "for cell in revelio_cell_cycle.columns.intersection(cells_interest):\n",
    "    phase = revelio_cell_cycle[cell][0]\n",
    "    revelio[cell][phase] = 1    "
   ]
  },
  {
   "cell_type": "markdown",
   "id": "b3d40c18",
   "metadata": {},
   "source": [
    "# Fuse all info about AE4"
   ]
  },
  {
   "cell_type": "code",
   "execution_count": 8,
   "id": "7047bd64",
   "metadata": {},
   "outputs": [],
   "source": [
    "AE4_cyclone = pd.concat([AE4_df,velocity_length, velocity_angle, complexity, momenti, intron, cyclone], axis=0)\n",
    "AE4_revelio = pd.concat([AE4_df,velocity_length, velocity_angle, complexity, momenti, intron, revelio], axis=0)\n",
    "AE4 = pd.concat([AE4_df,velocity_length, velocity_angle, complexity, momenti, intron], axis=0)"
   ]
  },
  {
   "cell_type": "code",
   "execution_count": 9,
   "id": "4c5293ae",
   "metadata": {},
   "outputs": [
    {
     "name": "stdout",
     "output_type": "stream",
     "text": [
      "(50762, 1469)\n"
     ]
    }
   ],
   "source": [
    "#Standardize the data to have mean = 0 and var = 1\n",
    "AE4_std = StandardScaler().fit_transform(AE4)\n",
    "print(AE4_std.shape)\n",
    "\n",
    "pca = PCA()\n",
    "pca.fit(AE4_std.T)\n",
    "var_explained = pca.explained_variance_ratio_"
   ]
  },
  {
   "cell_type": "code",
   "execution_count": 10,
   "id": "08a43575",
   "metadata": {},
   "outputs": [
    {
     "data": {
      "text/plain": [
       "array([4.51596749e-01, 6.65427397e-02, 3.77007452e-02, ...,\n",
       "       2.79075937e-06, 2.55148820e-06, 1.96165667e-30])"
      ]
     },
     "execution_count": 10,
     "metadata": {},
     "output_type": "execute_result"
    }
   ],
   "source": [
    "var_explained"
   ]
  },
  {
   "cell_type": "code",
   "execution_count": 11,
   "id": "986261bc",
   "metadata": {},
   "outputs": [
    {
     "name": "stdout",
     "output_type": "stream",
     "text": [
      "0.0037413148049171567 1.0\n"
     ]
    }
   ],
   "source": [
    "model = FamiliesClusters(np.unique(y_AE4),compute_precision,True)\n",
    "pred = model.fit_predict(pca.components_,y_AE4)\n",
    "print(model.score_, model.recovery)"
   ]
  },
  {
   "cell_type": "code",
   "execution_count": null,
   "id": "74f38d81",
   "metadata": {},
   "outputs": [],
   "source": []
  },
  {
   "cell_type": "code",
   "execution_count": null,
   "id": "f76a35d4",
   "metadata": {},
   "outputs": [],
   "source": []
  }
 ],
 "metadata": {
  "kernelspec": {
   "display_name": "Python 3 (ipykernel)",
   "language": "python",
   "name": "python3"
  },
  "language_info": {
   "codemirror_mode": {
    "name": "ipython",
    "version": 3
   },
   "file_extension": ".py",
   "mimetype": "text/x-python",
   "name": "python",
   "nbconvert_exporter": "python",
   "pygments_lexer": "ipython3",
   "version": "3.9.7"
  }
 },
 "nbformat": 4,
 "nbformat_minor": 5
}
