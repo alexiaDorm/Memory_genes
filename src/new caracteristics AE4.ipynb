{
 "cells": [
  {
   "cell_type": "code",
   "execution_count": 1,
   "id": "160e1796-ffbc-4d48-b7e1-247093d6797b",
   "metadata": {},
   "outputs": [],
   "source": [
    "import numpy as np\n",
    "import matplotlib.pyplot as plt\n",
    "import pandas as pd  \n",
    "import pyreadr"
   ]
  },
  {
   "cell_type": "code",
   "execution_count": 2,
   "id": "02df6e9d-ce94-473b-b21e-82cc562d904d",
   "metadata": {},
   "outputs": [],
   "source": [
    "#Fixing seed to get reproducible results\n",
    "random.seed(3)\n",
    "np.random.seed(3)"
   ]
  },
  {
   "cell_type": "code",
   "execution_count": null,
   "id": "94ffa9bc-7f44-47c7-b702-1b4d537bb60a",
   "metadata": {},
   "outputs": [],
   "source": [
    "#AE4\n",
    "AE4_scran_df = pyreadr.read_r('../data/family_datasets/data_norm/AE4_scran_norm.rds')\n",
    "AE4_scran_df = AE4_scran_df[None]\n",
    "\n",
    "data_families_interest_AE4 = pyreadr.read_r('../data/family_datasets/family_interest/families_of_interest_AE4_nocellcyclesplit.RData')\n",
    "data_families_interest_AE4 = data_families_interest_AE4['fois_1']\n",
    "\n",
    "data_families_info_AE4 = pyreadr.read_r('../data/family_datasets/family_info/family_info_AE4_nocellcyclesplit.RData')\n",
    "data_families_info_AE4 = data_families_info_AE4['family_info_1']"
   ]
  },
  {
   "cell_type": "code",
   "execution_count": 16,
   "id": "4e512323-a83d-4c86-93b6-73f5cb867f26",
   "metadata": {},
   "outputs": [
    {
     "data": {
      "text/plain": [
       "OrderedDict()"
      ]
     },
     "execution_count": 16,
     "metadata": {},
     "output_type": "execute_result"
    }
   ],
   "source": [
    "#Load data\n",
    "velocity_length = pyreadr.read_r('../data/AE4_for_PCA_based_hclust/Lengths_AE4_under10_allgenes.RData')\n",
    "velocity_length = velocity_length['Lengths_1']\n",
    "velocity_angle = pyreadr.read_r('../data/AE4_for_PCA_based_hclust/Angles_AE4_under10_allgenes.RData')\n",
    "velocity_angle  = velocity_angle['Angles_1']\n",
    "cyclone_cell_cycle = pyreadr.read_r('../data/AE4_for_PCA_based_hclust/Cyclone_AE4.RData')\n",
    "#revelio_cell_cycle  = pyreadr.read_r('../data/AE4_for_PCA_based_hclust/Revelio_AE4.RData')\n",
    "complexity = pyreadr.read_r('../data/AE4_for_PCA_based_hclust/Complexity_AE4.RData')\n",
    "complexity = complexity['Genenumber_1']\n",
    "momenti = pyreadr.read_r('../data/AE4_for_PCA_based_hclust/Momentum_AE4.RData')\n",
    "momenti = momenti['momentum']\n",
    "#intron = pyreadr.read_r('../data/AE4_for_PCA_based_hclust/Introns_AE4.RData')\n",
    "\n",
    "cyclone_cell_cycle"
   ]
  },
  {
   "cell_type": "code",
   "execution_count": null,
   "id": "cb94ad5f-184e-432f-bdb2-27d29b3da875",
   "metadata": {},
   "outputs": [],
   "source": []
  }
 ],
 "metadata": {
  "kernelspec": {
   "display_name": "Python 3 (ipykernel)",
   "language": "python",
   "name": "python3"
  },
  "language_info": {
   "codemirror_mode": {
    "name": "ipython",
    "version": 3
   },
   "file_extension": ".py",
   "mimetype": "text/x-python",
   "name": "python",
   "nbconvert_exporter": "python",
   "pygments_lexer": "ipython3",
   "version": "3.9.7"
  }
 },
 "nbformat": 4,
 "nbformat_minor": 5
}
