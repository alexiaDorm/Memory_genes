{
 "cells": [
  {
   "cell_type": "code",
   "execution_count": 57,
   "id": "81904d62",
   "metadata": {},
   "outputs": [],
   "source": [
    "import numpy as np\n",
    "import math\n",
    "import matplotlib.pyplot as plt\n",
    "import pandas as pd  \n",
    "import pyreadr\n",
    "from sklearn.decomposition import PCA\n",
    "from sklearn.preprocessing import StandardScaler\n",
    "\n",
    "from load_data import *"
   ]
  },
  {
   "cell_type": "code",
   "execution_count": 8,
   "id": "904a11f3",
   "metadata": {},
   "outputs": [],
   "source": [
    "#Fixing seed to get reproducible results\n",
    "np.random.seed(3)"
   ]
  },
  {
   "cell_type": "markdown",
   "id": "015ee5ed",
   "metadata": {},
   "source": [
    "# Load all data/info for AE4"
   ]
  },
  {
   "cell_type": "code",
   "execution_count": 9,
   "id": "9c85b6eb",
   "metadata": {},
   "outputs": [],
   "source": [
    "#AE4\n",
    "AE4_df = pyreadr.read_r('../data/family_datasets/data_norm/AE4_scran_norm.rds')\n",
    "AE4_df = AE4_df[None]\n",
    "\n",
    "data_families_interest_AE4 = pyreadr.read_r('../data/family_datasets/family_interest/families_of_interest_AE4_nocellcyclesplit.RData')\n",
    "data_families_interest_AE4 = data_families_interest_AE4['fois_1']\n",
    "\n",
    "data_families_info_AE4 = pyreadr.read_r('../data/family_datasets/family_info/family_info_AE4_nocellcyclesplit.RData')\n",
    "data_families_info_AE4 = data_families_info_AE4['family_info_1']\n",
    "\n",
    "#Conversion into array \n",
    "data_families_interest_AE4 = np.array(data_families_interest_AE4)\n",
    "data_families_info_AE4 = np.array(data_families_info_AE4)"
   ]
  },
  {
   "cell_type": "code",
   "execution_count": 10,
   "id": "4ba4a9ad",
   "metadata": {},
   "outputs": [
    {
     "data": {
      "text/plain": [
       "1473"
      ]
     },
     "execution_count": 10,
     "metadata": {},
     "output_type": "execute_result"
    }
   ],
   "source": [
    "#Norm data with only the cells belonging to the family of interest\n",
    "AE4_df = select_family_interest_norm_data(data_families_info_AE4, data_families_interest_AE4, AE4_df)\n",
    "y_AE4 = AE4_df[1]\n",
    "y_AE4 = y_AE4[:,0]\n",
    "y_AE4 = y_AE4.astype(np.int32)\n",
    "AE4_df = AE4_df[0]\n",
    "\n",
    "cells_interest = AE4_df.columns\n",
    "len(cells_interest)"
   ]
  },
  {
   "cell_type": "code",
   "execution_count": 5,
   "id": "ca1f968f",
   "metadata": {
    "collapsed": true,
    "jupyter": {
     "outputs_hidden": true
    },
    "tags": []
   },
   "outputs": [
    {
     "ename": "FileNotFoundError",
     "evalue": "[Errno 2] No such file or directory: '../data/optimized_subsets/AE4genes_best.csv'",
     "output_type": "error",
     "traceback": [
      "\u001b[0;31m---------------------------------------------------------------------------\u001b[0m",
      "\u001b[0;31mFileNotFoundError\u001b[0m                         Traceback (most recent call last)",
      "\u001b[0;32m/var/folders/gz/s90yhf3d4yg_q6r76fs2lg380000gq/T/ipykernel_84157/2331718942.py\u001b[0m in \u001b[0;36m<module>\u001b[0;34m\u001b[0m\n\u001b[1;32m      1\u001b[0m \u001b[0;31m#Only keep optimized subset of genes for expression\u001b[0m\u001b[0;34m\u001b[0m\u001b[0;34m\u001b[0m\u001b[0m\n\u001b[0;32m----> 2\u001b[0;31m \u001b[0mgene_interest\u001b[0m \u001b[0;34m=\u001b[0m \u001b[0mnp\u001b[0m\u001b[0;34m.\u001b[0m\u001b[0msqueeze\u001b[0m\u001b[0;34m(\u001b[0m\u001b[0mpd\u001b[0m\u001b[0;34m.\u001b[0m\u001b[0mread_csv\u001b[0m \u001b[0;34m(\u001b[0m\u001b[0;34m'../data/optimized_subsets/AE4genes_best.csv'\u001b[0m\u001b[0;34m)\u001b[0m\u001b[0;34m)\u001b[0m\u001b[0;34m\u001b[0m\u001b[0;34m\u001b[0m\u001b[0m\n\u001b[0m\u001b[1;32m      3\u001b[0m \u001b[0mAE4_df\u001b[0m \u001b[0;34m=\u001b[0m \u001b[0mAE4_df\u001b[0m\u001b[0;34m.\u001b[0m\u001b[0mloc\u001b[0m\u001b[0;34m[\u001b[0m\u001b[0mgene_interest\u001b[0m\u001b[0;34m,\u001b[0m\u001b[0;34m:\u001b[0m\u001b[0;34m]\u001b[0m\u001b[0;34m\u001b[0m\u001b[0;34m\u001b[0m\u001b[0m\n",
      "\u001b[0;32m~/opt/anaconda3/lib/python3.9/site-packages/pandas/util/_decorators.py\u001b[0m in \u001b[0;36mwrapper\u001b[0;34m(*args, **kwargs)\u001b[0m\n\u001b[1;32m    309\u001b[0m                     \u001b[0mstacklevel\u001b[0m\u001b[0;34m=\u001b[0m\u001b[0mstacklevel\u001b[0m\u001b[0;34m,\u001b[0m\u001b[0;34m\u001b[0m\u001b[0;34m\u001b[0m\u001b[0m\n\u001b[1;32m    310\u001b[0m                 )\n\u001b[0;32m--> 311\u001b[0;31m             \u001b[0;32mreturn\u001b[0m \u001b[0mfunc\u001b[0m\u001b[0;34m(\u001b[0m\u001b[0;34m*\u001b[0m\u001b[0margs\u001b[0m\u001b[0;34m,\u001b[0m \u001b[0;34m**\u001b[0m\u001b[0mkwargs\u001b[0m\u001b[0;34m)\u001b[0m\u001b[0;34m\u001b[0m\u001b[0;34m\u001b[0m\u001b[0m\n\u001b[0m\u001b[1;32m    312\u001b[0m \u001b[0;34m\u001b[0m\u001b[0m\n\u001b[1;32m    313\u001b[0m         \u001b[0;32mreturn\u001b[0m \u001b[0mwrapper\u001b[0m\u001b[0;34m\u001b[0m\u001b[0;34m\u001b[0m\u001b[0m\n",
      "\u001b[0;32m~/opt/anaconda3/lib/python3.9/site-packages/pandas/io/parsers/readers.py\u001b[0m in \u001b[0;36mread_csv\u001b[0;34m(filepath_or_buffer, sep, delimiter, header, names, index_col, usecols, squeeze, prefix, mangle_dupe_cols, dtype, engine, converters, true_values, false_values, skipinitialspace, skiprows, skipfooter, nrows, na_values, keep_default_na, na_filter, verbose, skip_blank_lines, parse_dates, infer_datetime_format, keep_date_col, date_parser, dayfirst, cache_dates, iterator, chunksize, compression, thousands, decimal, lineterminator, quotechar, quoting, doublequote, escapechar, comment, encoding, encoding_errors, dialect, error_bad_lines, warn_bad_lines, on_bad_lines, delim_whitespace, low_memory, memory_map, float_precision, storage_options)\u001b[0m\n\u001b[1;32m    584\u001b[0m     \u001b[0mkwds\u001b[0m\u001b[0;34m.\u001b[0m\u001b[0mupdate\u001b[0m\u001b[0;34m(\u001b[0m\u001b[0mkwds_defaults\u001b[0m\u001b[0;34m)\u001b[0m\u001b[0;34m\u001b[0m\u001b[0;34m\u001b[0m\u001b[0m\n\u001b[1;32m    585\u001b[0m \u001b[0;34m\u001b[0m\u001b[0m\n\u001b[0;32m--> 586\u001b[0;31m     \u001b[0;32mreturn\u001b[0m \u001b[0m_read\u001b[0m\u001b[0;34m(\u001b[0m\u001b[0mfilepath_or_buffer\u001b[0m\u001b[0;34m,\u001b[0m \u001b[0mkwds\u001b[0m\u001b[0;34m)\u001b[0m\u001b[0;34m\u001b[0m\u001b[0;34m\u001b[0m\u001b[0m\n\u001b[0m\u001b[1;32m    587\u001b[0m \u001b[0;34m\u001b[0m\u001b[0m\n\u001b[1;32m    588\u001b[0m \u001b[0;34m\u001b[0m\u001b[0m\n",
      "\u001b[0;32m~/opt/anaconda3/lib/python3.9/site-packages/pandas/io/parsers/readers.py\u001b[0m in \u001b[0;36m_read\u001b[0;34m(filepath_or_buffer, kwds)\u001b[0m\n\u001b[1;32m    480\u001b[0m \u001b[0;34m\u001b[0m\u001b[0m\n\u001b[1;32m    481\u001b[0m     \u001b[0;31m# Create the parser.\u001b[0m\u001b[0;34m\u001b[0m\u001b[0;34m\u001b[0m\u001b[0m\n\u001b[0;32m--> 482\u001b[0;31m     \u001b[0mparser\u001b[0m \u001b[0;34m=\u001b[0m \u001b[0mTextFileReader\u001b[0m\u001b[0;34m(\u001b[0m\u001b[0mfilepath_or_buffer\u001b[0m\u001b[0;34m,\u001b[0m \u001b[0;34m**\u001b[0m\u001b[0mkwds\u001b[0m\u001b[0;34m)\u001b[0m\u001b[0;34m\u001b[0m\u001b[0;34m\u001b[0m\u001b[0m\n\u001b[0m\u001b[1;32m    483\u001b[0m \u001b[0;34m\u001b[0m\u001b[0m\n\u001b[1;32m    484\u001b[0m     \u001b[0;32mif\u001b[0m \u001b[0mchunksize\u001b[0m \u001b[0;32mor\u001b[0m \u001b[0miterator\u001b[0m\u001b[0;34m:\u001b[0m\u001b[0;34m\u001b[0m\u001b[0;34m\u001b[0m\u001b[0m\n",
      "\u001b[0;32m~/opt/anaconda3/lib/python3.9/site-packages/pandas/io/parsers/readers.py\u001b[0m in \u001b[0;36m__init__\u001b[0;34m(self, f, engine, **kwds)\u001b[0m\n\u001b[1;32m    809\u001b[0m             \u001b[0mself\u001b[0m\u001b[0;34m.\u001b[0m\u001b[0moptions\u001b[0m\u001b[0;34m[\u001b[0m\u001b[0;34m\"has_index_names\"\u001b[0m\u001b[0;34m]\u001b[0m \u001b[0;34m=\u001b[0m \u001b[0mkwds\u001b[0m\u001b[0;34m[\u001b[0m\u001b[0;34m\"has_index_names\"\u001b[0m\u001b[0;34m]\u001b[0m\u001b[0;34m\u001b[0m\u001b[0;34m\u001b[0m\u001b[0m\n\u001b[1;32m    810\u001b[0m \u001b[0;34m\u001b[0m\u001b[0m\n\u001b[0;32m--> 811\u001b[0;31m         \u001b[0mself\u001b[0m\u001b[0;34m.\u001b[0m\u001b[0m_engine\u001b[0m \u001b[0;34m=\u001b[0m \u001b[0mself\u001b[0m\u001b[0;34m.\u001b[0m\u001b[0m_make_engine\u001b[0m\u001b[0;34m(\u001b[0m\u001b[0mself\u001b[0m\u001b[0;34m.\u001b[0m\u001b[0mengine\u001b[0m\u001b[0;34m)\u001b[0m\u001b[0;34m\u001b[0m\u001b[0;34m\u001b[0m\u001b[0m\n\u001b[0m\u001b[1;32m    812\u001b[0m \u001b[0;34m\u001b[0m\u001b[0m\n\u001b[1;32m    813\u001b[0m     \u001b[0;32mdef\u001b[0m \u001b[0mclose\u001b[0m\u001b[0;34m(\u001b[0m\u001b[0mself\u001b[0m\u001b[0;34m)\u001b[0m\u001b[0;34m:\u001b[0m\u001b[0;34m\u001b[0m\u001b[0;34m\u001b[0m\u001b[0m\n",
      "\u001b[0;32m~/opt/anaconda3/lib/python3.9/site-packages/pandas/io/parsers/readers.py\u001b[0m in \u001b[0;36m_make_engine\u001b[0;34m(self, engine)\u001b[0m\n\u001b[1;32m   1038\u001b[0m             )\n\u001b[1;32m   1039\u001b[0m         \u001b[0;31m# error: Too many arguments for \"ParserBase\"\u001b[0m\u001b[0;34m\u001b[0m\u001b[0;34m\u001b[0m\u001b[0m\n\u001b[0;32m-> 1040\u001b[0;31m         \u001b[0;32mreturn\u001b[0m \u001b[0mmapping\u001b[0m\u001b[0;34m[\u001b[0m\u001b[0mengine\u001b[0m\u001b[0;34m]\u001b[0m\u001b[0;34m(\u001b[0m\u001b[0mself\u001b[0m\u001b[0;34m.\u001b[0m\u001b[0mf\u001b[0m\u001b[0;34m,\u001b[0m \u001b[0;34m**\u001b[0m\u001b[0mself\u001b[0m\u001b[0;34m.\u001b[0m\u001b[0moptions\u001b[0m\u001b[0;34m)\u001b[0m  \u001b[0;31m# type: ignore[call-arg]\u001b[0m\u001b[0;34m\u001b[0m\u001b[0;34m\u001b[0m\u001b[0m\n\u001b[0m\u001b[1;32m   1041\u001b[0m \u001b[0;34m\u001b[0m\u001b[0m\n\u001b[1;32m   1042\u001b[0m     \u001b[0;32mdef\u001b[0m \u001b[0m_failover_to_python\u001b[0m\u001b[0;34m(\u001b[0m\u001b[0mself\u001b[0m\u001b[0;34m)\u001b[0m\u001b[0;34m:\u001b[0m\u001b[0;34m\u001b[0m\u001b[0;34m\u001b[0m\u001b[0m\n",
      "\u001b[0;32m~/opt/anaconda3/lib/python3.9/site-packages/pandas/io/parsers/c_parser_wrapper.py\u001b[0m in \u001b[0;36m__init__\u001b[0;34m(self, src, **kwds)\u001b[0m\n\u001b[1;32m     49\u001b[0m \u001b[0;34m\u001b[0m\u001b[0m\n\u001b[1;32m     50\u001b[0m         \u001b[0;31m# open handles\u001b[0m\u001b[0;34m\u001b[0m\u001b[0;34m\u001b[0m\u001b[0m\n\u001b[0;32m---> 51\u001b[0;31m         \u001b[0mself\u001b[0m\u001b[0;34m.\u001b[0m\u001b[0m_open_handles\u001b[0m\u001b[0;34m(\u001b[0m\u001b[0msrc\u001b[0m\u001b[0;34m,\u001b[0m \u001b[0mkwds\u001b[0m\u001b[0;34m)\u001b[0m\u001b[0;34m\u001b[0m\u001b[0;34m\u001b[0m\u001b[0m\n\u001b[0m\u001b[1;32m     52\u001b[0m         \u001b[0;32massert\u001b[0m \u001b[0mself\u001b[0m\u001b[0;34m.\u001b[0m\u001b[0mhandles\u001b[0m \u001b[0;32mis\u001b[0m \u001b[0;32mnot\u001b[0m \u001b[0;32mNone\u001b[0m\u001b[0;34m\u001b[0m\u001b[0;34m\u001b[0m\u001b[0m\n\u001b[1;32m     53\u001b[0m \u001b[0;34m\u001b[0m\u001b[0m\n",
      "\u001b[0;32m~/opt/anaconda3/lib/python3.9/site-packages/pandas/io/parsers/base_parser.py\u001b[0m in \u001b[0;36m_open_handles\u001b[0;34m(self, src, kwds)\u001b[0m\n\u001b[1;32m    220\u001b[0m         \u001b[0mLet\u001b[0m \u001b[0mthe\u001b[0m \u001b[0mreaders\u001b[0m \u001b[0mopen\u001b[0m \u001b[0mIOHandles\u001b[0m \u001b[0mafter\u001b[0m \u001b[0mthey\u001b[0m \u001b[0mare\u001b[0m \u001b[0mdone\u001b[0m \u001b[0;32mwith\u001b[0m \u001b[0mtheir\u001b[0m \u001b[0mpotential\u001b[0m \u001b[0mraises\u001b[0m\u001b[0;34m.\u001b[0m\u001b[0;34m\u001b[0m\u001b[0;34m\u001b[0m\u001b[0m\n\u001b[1;32m    221\u001b[0m         \"\"\"\n\u001b[0;32m--> 222\u001b[0;31m         self.handles = get_handle(\n\u001b[0m\u001b[1;32m    223\u001b[0m             \u001b[0msrc\u001b[0m\u001b[0;34m,\u001b[0m\u001b[0;34m\u001b[0m\u001b[0;34m\u001b[0m\u001b[0m\n\u001b[1;32m    224\u001b[0m             \u001b[0;34m\"r\"\u001b[0m\u001b[0;34m,\u001b[0m\u001b[0;34m\u001b[0m\u001b[0;34m\u001b[0m\u001b[0m\n",
      "\u001b[0;32m~/opt/anaconda3/lib/python3.9/site-packages/pandas/io/common.py\u001b[0m in \u001b[0;36mget_handle\u001b[0;34m(path_or_buf, mode, encoding, compression, memory_map, is_text, errors, storage_options)\u001b[0m\n\u001b[1;32m    700\u001b[0m         \u001b[0;32mif\u001b[0m \u001b[0mioargs\u001b[0m\u001b[0;34m.\u001b[0m\u001b[0mencoding\u001b[0m \u001b[0;32mand\u001b[0m \u001b[0;34m\"b\"\u001b[0m \u001b[0;32mnot\u001b[0m \u001b[0;32min\u001b[0m \u001b[0mioargs\u001b[0m\u001b[0;34m.\u001b[0m\u001b[0mmode\u001b[0m\u001b[0;34m:\u001b[0m\u001b[0;34m\u001b[0m\u001b[0;34m\u001b[0m\u001b[0m\n\u001b[1;32m    701\u001b[0m             \u001b[0;31m# Encoding\u001b[0m\u001b[0;34m\u001b[0m\u001b[0;34m\u001b[0m\u001b[0m\n\u001b[0;32m--> 702\u001b[0;31m             handle = open(\n\u001b[0m\u001b[1;32m    703\u001b[0m                 \u001b[0mhandle\u001b[0m\u001b[0;34m,\u001b[0m\u001b[0;34m\u001b[0m\u001b[0;34m\u001b[0m\u001b[0m\n\u001b[1;32m    704\u001b[0m                 \u001b[0mioargs\u001b[0m\u001b[0;34m.\u001b[0m\u001b[0mmode\u001b[0m\u001b[0;34m,\u001b[0m\u001b[0;34m\u001b[0m\u001b[0;34m\u001b[0m\u001b[0m\n",
      "\u001b[0;31mFileNotFoundError\u001b[0m: [Errno 2] No such file or directory: '../data/optimized_subsets/AE4genes_best.csv'"
     ]
    }
   ],
   "source": [
    "#Only keep optimized subset of genes for expression \n",
    "gene_interest = np.squeeze(pd.read_csv ('../data/optimized_subsets/AE4genes_best.csv'))\n",
    "AE4_df = AE4_df.loc[gene_interest,:]"
   ]
  },
  {
   "cell_type": "code",
   "execution_count": 12,
   "id": "6a810016",
   "metadata": {},
   "outputs": [],
   "source": [
    "#Load data and only keep cells of interest\n",
    "velocity_length = pyreadr.read_r('../data/AE4_for_PCA_based_hclust/Lengths_AE4_under10_allgenes.RData')\n",
    "velocity_length = velocity_length['Lengths_1']\n",
    "velocity_length = velocity_length[velocity_length.columns.intersection(cells_interest)] \n",
    "\n",
    "velocity_angle = pyreadr.read_r('../data/AE4_for_PCA_based_hclust/Angles_AE4_under10_allgenes.RData')\n",
    "velocity_angle  = velocity_angle['Angles_1']\n",
    "velocity_angle = velocity_angle[velocity_angle.columns.intersection(cells_interest)] \n",
    "\n",
    "cyclone_cell_cycle = pd.read_csv ('../data/AE4_for_PCA_based_hclust/cyclone_AE4.csv')\n",
    "cyclone_cell_cycle = cyclone_cell_cycle[cyclone_cell_cycle.columns.intersection(cells_interest)] \n",
    "\n",
    "revelio_cell_cycle  = pd.read_csv ('../data/AE4_for_PCA_based_hclust/revelio.csv')\n",
    "revelio_cell_cycle = revelio_cell_cycle.set_index('Unnamed: 0')\n",
    "revelio_cell_cycle = revelio_cell_cycle.T[revelio_cell_cycle.index.intersection(cells_interest)]\n",
    "\n",
    "#Fuse cell cycle info together \n",
    "\n",
    "complexity = pyreadr.read_r('../data/AE4_for_PCA_based_hclust/Complexity_AE4.RData')\n",
    "complexity = complexity['Genenumber_1']\n",
    "complexity = complexity[complexity.columns.intersection(cells_interest)]\n",
    "\n",
    "momenti = pyreadr.read_r('../data/AE4_for_PCA_based_hclust/Momentum_AE4.RData')\n",
    "momenti = momenti['momentum']\n",
    "momenti = momenti[momenti.columns.intersection(cells_interest)]\n",
    "\n",
    "intron = pd.read_csv ('../data/AE4_for_PCA_based_hclust/introns_AE4.csv')\n",
    "intron = intron.set_index('Unnamed: 0')\n",
    "intron = intron[intron.columns.intersection(cells_interest)]\n",
    "\n",
    "#Remove cells without info \n",
    "cells_interest = intron.columns\n",
    "AE4_df = AE4_df[cells_interest]"
   ]
  },
  {
   "cell_type": "code",
   "execution_count": 13,
   "id": "dd5db42d",
   "metadata": {},
   "outputs": [
    {
     "name": "stdout",
     "output_type": "stream",
     "text": [
      "['G1' 'G2M' 'S'] ['G1.S' 'G2' 'G2.M' 'M.G1' 'S']\n"
     ]
    }
   ],
   "source": [
    "print(np.unique(cyclone_cell_cycle), np.unique(revelio_cell_cycle))"
   ]
  },
  {
   "cell_type": "code",
   "execution_count": 14,
   "id": "497e047a",
   "metadata": {},
   "outputs": [
    {
     "data": {
      "text/html": [
       "<div>\n",
       "<style scoped>\n",
       "    .dataframe tbody tr th:only-of-type {\n",
       "        vertical-align: middle;\n",
       "    }\n",
       "\n",
       "    .dataframe tbody tr th {\n",
       "        vertical-align: top;\n",
       "    }\n",
       "\n",
       "    .dataframe thead th {\n",
       "        text-align: right;\n",
       "    }\n",
       "</style>\n",
       "<table border=\"1\" class=\"dataframe\">\n",
       "  <thead>\n",
       "    <tr style=\"text-align: right;\">\n",
       "      <th></th>\n",
       "      <th>AAACGAAGTCGATTTG-1</th>\n",
       "      <th>AAAGAACGTACGGGAT-1</th>\n",
       "      <th>AAAGGATAGGTAAGGA-1</th>\n",
       "      <th>AAAGGGCGTCGACTGC-1</th>\n",
       "      <th>AAAGGGCGTGCCCAGT-1</th>\n",
       "      <th>AAAGTCCCAATACGAA-1</th>\n",
       "      <th>AAAGTGAAGCTAAATG-1</th>\n",
       "      <th>AAATGGACATTACTCT-1</th>\n",
       "      <th>AAATGGATCAAACGTC-1</th>\n",
       "      <th>AAATGGATCAAGGCTT-1</th>\n",
       "      <th>...</th>\n",
       "      <th>TTTCACAAGGATAATC-1</th>\n",
       "      <th>TTTCAGTCAGCAGACA-1</th>\n",
       "      <th>TTTCATGAGCTTTGTG-1</th>\n",
       "      <th>TTTCATGGTAGAGATT-1</th>\n",
       "      <th>TTTCGATCATGCGTGC-1</th>\n",
       "      <th>TTTGACTAGAAGTGTT-1</th>\n",
       "      <th>TTTGACTAGCTCCATA-1</th>\n",
       "      <th>TTTGACTCAGCACAGA-1</th>\n",
       "      <th>TTTGATCAGAGTTGAT-1</th>\n",
       "      <th>TTTGGTTTCCATGCAA-1</th>\n",
       "    </tr>\n",
       "  </thead>\n",
       "  <tbody>\n",
       "    <tr>\n",
       "      <th>0</th>\n",
       "      <td>G2M</td>\n",
       "      <td>G1</td>\n",
       "      <td>S</td>\n",
       "      <td>G1</td>\n",
       "      <td>S</td>\n",
       "      <td>G1</td>\n",
       "      <td>G1</td>\n",
       "      <td>G1</td>\n",
       "      <td>G2M</td>\n",
       "      <td>S</td>\n",
       "      <td>...</td>\n",
       "      <td>G1</td>\n",
       "      <td>G1</td>\n",
       "      <td>G2M</td>\n",
       "      <td>G1</td>\n",
       "      <td>S</td>\n",
       "      <td>G2M</td>\n",
       "      <td>G1</td>\n",
       "      <td>G1</td>\n",
       "      <td>G1</td>\n",
       "      <td>G1</td>\n",
       "    </tr>\n",
       "  </tbody>\n",
       "</table>\n",
       "<p>1 rows × 1247 columns</p>\n",
       "</div>"
      ],
      "text/plain": [
       "  AAACGAAGTCGATTTG-1 AAAGAACGTACGGGAT-1 AAAGGATAGGTAAGGA-1 AAAGGGCGTCGACTGC-1  \\\n",
       "0                G2M                 G1                  S                 G1   \n",
       "\n",
       "  AAAGGGCGTGCCCAGT-1 AAAGTCCCAATACGAA-1 AAAGTGAAGCTAAATG-1 AAATGGACATTACTCT-1  \\\n",
       "0                  S                 G1                 G1                 G1   \n",
       "\n",
       "  AAATGGATCAAACGTC-1 AAATGGATCAAGGCTT-1  ... TTTCACAAGGATAATC-1  \\\n",
       "0                G2M                  S  ...                 G1   \n",
       "\n",
       "  TTTCAGTCAGCAGACA-1 TTTCATGAGCTTTGTG-1 TTTCATGGTAGAGATT-1 TTTCGATCATGCGTGC-1  \\\n",
       "0                 G1                G2M                 G1                  S   \n",
       "\n",
       "  TTTGACTAGAAGTGTT-1 TTTGACTAGCTCCATA-1 TTTGACTCAGCACAGA-1 TTTGATCAGAGTTGAT-1  \\\n",
       "0                G2M                 G1                 G1                 G1   \n",
       "\n",
       "  TTTGGTTTCCATGCAA-1  \n",
       "0                 G1  \n",
       "\n",
       "[1 rows x 1247 columns]"
      ]
     },
     "execution_count": 14,
     "metadata": {},
     "output_type": "execute_result"
    }
   ],
   "source": [
    "revelio_cells = revelio_cell_cycle.columns\n",
    "cyclone_cell_cycle[revelio_cells]"
   ]
  },
  {
   "cell_type": "code",
   "execution_count": 15,
   "id": "79d4d776",
   "metadata": {},
   "outputs": [
    {
     "data": {
      "text/html": [
       "<div>\n",
       "<style scoped>\n",
       "    .dataframe tbody tr th:only-of-type {\n",
       "        vertical-align: middle;\n",
       "    }\n",
       "\n",
       "    .dataframe tbody tr th {\n",
       "        vertical-align: top;\n",
       "    }\n",
       "\n",
       "    .dataframe thead th {\n",
       "        text-align: right;\n",
       "    }\n",
       "</style>\n",
       "<table border=\"1\" class=\"dataframe\">\n",
       "  <thead>\n",
       "    <tr style=\"text-align: right;\">\n",
       "      <th>Unnamed: 0</th>\n",
       "      <th>AAACGAAGTCGATTTG-1</th>\n",
       "      <th>AAAGAACGTACGGGAT-1</th>\n",
       "      <th>AAAGGATAGGTAAGGA-1</th>\n",
       "      <th>AAAGGGCGTCGACTGC-1</th>\n",
       "      <th>AAAGGGCGTGCCCAGT-1</th>\n",
       "      <th>AAAGTCCCAATACGAA-1</th>\n",
       "      <th>AAAGTGAAGCTAAATG-1</th>\n",
       "      <th>AAATGGACATTACTCT-1</th>\n",
       "      <th>AAATGGATCAAACGTC-1</th>\n",
       "      <th>AAATGGATCAAGGCTT-1</th>\n",
       "      <th>...</th>\n",
       "      <th>TTTCACAAGGATAATC-1</th>\n",
       "      <th>TTTCAGTCAGCAGACA-1</th>\n",
       "      <th>TTTCATGAGCTTTGTG-1</th>\n",
       "      <th>TTTCATGGTAGAGATT-1</th>\n",
       "      <th>TTTCGATCATGCGTGC-1</th>\n",
       "      <th>TTTGACTAGAAGTGTT-1</th>\n",
       "      <th>TTTGACTAGCTCCATA-1</th>\n",
       "      <th>TTTGACTCAGCACAGA-1</th>\n",
       "      <th>TTTGATCAGAGTTGAT-1</th>\n",
       "      <th>TTTGGTTTCCATGCAA-1</th>\n",
       "    </tr>\n",
       "  </thead>\n",
       "  <tbody>\n",
       "    <tr>\n",
       "      <th>phases</th>\n",
       "      <td>G2.M</td>\n",
       "      <td>G1.S</td>\n",
       "      <td>G2.M</td>\n",
       "      <td>M.G1</td>\n",
       "      <td>G2</td>\n",
       "      <td>G1.S</td>\n",
       "      <td>G1.S</td>\n",
       "      <td>G2.M</td>\n",
       "      <td>M.G1</td>\n",
       "      <td>G2</td>\n",
       "      <td>...</td>\n",
       "      <td>M.G1</td>\n",
       "      <td>S</td>\n",
       "      <td>G2</td>\n",
       "      <td>S</td>\n",
       "      <td>G2</td>\n",
       "      <td>G2.M</td>\n",
       "      <td>G1.S</td>\n",
       "      <td>G2</td>\n",
       "      <td>G2.M</td>\n",
       "      <td>M.G1</td>\n",
       "    </tr>\n",
       "  </tbody>\n",
       "</table>\n",
       "<p>1 rows × 1247 columns</p>\n",
       "</div>"
      ],
      "text/plain": [
       "Unnamed: 0 AAACGAAGTCGATTTG-1 AAAGAACGTACGGGAT-1 AAAGGATAGGTAAGGA-1  \\\n",
       "phases                   G2.M               G1.S               G2.M   \n",
       "\n",
       "Unnamed: 0 AAAGGGCGTCGACTGC-1 AAAGGGCGTGCCCAGT-1 AAAGTCCCAATACGAA-1  \\\n",
       "phases                   M.G1                 G2               G1.S   \n",
       "\n",
       "Unnamed: 0 AAAGTGAAGCTAAATG-1 AAATGGACATTACTCT-1 AAATGGATCAAACGTC-1  \\\n",
       "phases                   G1.S               G2.M               M.G1   \n",
       "\n",
       "Unnamed: 0 AAATGGATCAAGGCTT-1  ... TTTCACAAGGATAATC-1 TTTCAGTCAGCAGACA-1  \\\n",
       "phases                     G2  ...               M.G1                  S   \n",
       "\n",
       "Unnamed: 0 TTTCATGAGCTTTGTG-1 TTTCATGGTAGAGATT-1 TTTCGATCATGCGTGC-1  \\\n",
       "phases                     G2                  S                 G2   \n",
       "\n",
       "Unnamed: 0 TTTGACTAGAAGTGTT-1 TTTGACTAGCTCCATA-1 TTTGACTCAGCACAGA-1  \\\n",
       "phases                   G2.M               G1.S                 G2   \n",
       "\n",
       "Unnamed: 0 TTTGATCAGAGTTGAT-1 TTTGGTTTCCATGCAA-1  \n",
       "phases                   G2.M               M.G1  \n",
       "\n",
       "[1 rows x 1247 columns]"
      ]
     },
     "execution_count": 15,
     "metadata": {},
     "output_type": "execute_result"
    }
   ],
   "source": [
    "revelio_cell_cycle"
   ]
  },
  {
   "cell_type": "code",
   "execution_count": 64,
   "id": "c933257c",
   "metadata": {
    "tags": []
   },
   "outputs": [],
   "source": [
    "cells_interest = cyclone_cell_cycle.columns.intersection(cells_interest)\n",
    "\n",
    "cyclone = pd.DataFrame(0, columns = cells_interest, index = np.unique(cyclone_cell_cycle))\n",
    "revelio = pd.DataFrame(0, columns = cells_interest, index = np.unique(revelio_cell_cycle))\n",
    "\n",
    "for cell in cells_interest:\n",
    "    phase = cyclone_cell_cycle[cell][0]\n",
    "    cyclone[cell][phase] = 1\n",
    "    \n",
    "for cell in revelio_cell_cycle.columns.intersection(cells_interest):\n",
    "    phase = revelio_cell_cycle[cell][0]\n",
    "    revelio[cell][phase] = 1    "
   ]
  },
  {
   "cell_type": "markdown",
   "id": "c10e9cad",
   "metadata": {},
   "source": [
    "# Fuse all info about AE4"
   ]
  },
  {
   "cell_type": "code",
   "execution_count": 65,
   "id": "bec976f7",
   "metadata": {},
   "outputs": [],
   "source": [
    "AE4_cyclone = pd.concat([AE4_df,velocity_length, velocity_angle, complexity, momenti, intron, cyclone], axis=0)\n",
    "AE4_cyclone = pd.concat([AE4_df,velocity_length, velocity_angle, complexity, momenti, intron, revelio], axis=0)"
   ]
  },
  {
   "cell_type": "code",
   "execution_count": 66,
   "id": "080c768a",
   "metadata": {},
   "outputs": [
    {
     "name": "stdout",
     "output_type": "stream",
     "text": [
      "(82872, 1469)\n"
     ]
    }
   ],
   "source": [
    "#Standardize the data to have mean = 0 and var = 1\n",
    "AE4_std = StandardScaler().fit_transform(AE4_cyclone)\n",
    "print(AE4_std.shape)\n",
    "\n",
    "pca = PCA()\n",
    "pca.fit(AE4_std)\n",
    "var_explained = pca.explained_variance_ratio_"
   ]
  },
  {
   "cell_type": "code",
   "execution_count": 67,
   "id": "fcc2c694",
   "metadata": {},
   "outputs": [
    {
     "data": {
      "text/plain": [
       "0.9820052066795713"
      ]
     },
     "execution_count": 67,
     "metadata": {},
     "output_type": "execute_result"
    }
   ],
   "source": [
    "var_explained[0]"
   ]
  },
  {
   "cell_type": "code",
   "execution_count": null,
   "id": "f3c72c9d",
   "metadata": {},
   "outputs": [],
   "source": []
  }
 ],
 "metadata": {
  "kernelspec": {
   "display_name": "Python 3 (ipykernel)",
   "language": "python",
   "name": "python3"
  },
  "language_info": {
   "codemirror_mode": {
    "name": "ipython",
    "version": 3
   },
   "file_extension": ".py",
   "mimetype": "text/x-python",
   "name": "python",
   "nbconvert_exporter": "python",
   "pygments_lexer": "ipython3",
   "version": "3.9.7"
  }
 },
 "nbformat": 4,
 "nbformat_minor": 5
}
