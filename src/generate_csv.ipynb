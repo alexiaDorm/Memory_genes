{
 "cells": [
  {
   "cell_type": "code",
   "execution_count": 14,
   "metadata": {},
   "outputs": [],
   "source": [
    "import numpy as np\n",
    "import matplotlib.pyplot as plt\n",
    "\n",
    "import io \n",
    "import pandas as pd \n",
    "import pyreadr\n",
    "\n",
    "from load_data import *"
   ]
  },
  {
   "cell_type": "markdown",
   "metadata": {},
   "source": [
    "# AE3"
   ]
  },
  {
   "cell_type": "code",
   "execution_count": 2,
   "metadata": {},
   "outputs": [],
   "source": [
    "# import normalized data, data families interest and data family info of AE3 family\n",
    "\n",
    "AE3_scran_norm_ordered_dict = pyreadr.read_r('../data/family_datasets/data_norm/AE3_scran_norm.rds')\n",
    "AE3_scran_norm = AE3_scran_norm_ordered_dict[None]\n",
    "\n",
    "data_families_interest_AE3 = pyreadr.read_r('../data/family_datasets/family_interest/families_of_interest_AE3_nocellcyclesplit.RData')\n",
    "data_families_interest_AE3 = data_families_interest_AE3['fois_1']\n",
    "\n",
    "data_families_info_AE3 = pyreadr.read_r('../data/family_datasets/family_info/family_info_AE3_nocellcyclesplit.RData')\n",
    "data_families_info_AE3 = data_families_info_AE3['family_info_1']\n",
    "\n",
    "AE3_master = pyreadr.read_r('../data/data_master/Master_Almut_AE3_20_3t5_nocellcyclesplit.rds')\n",
    "AE3_master = AE3_master[None]\n",
    "AE3_master = AE3_master.set_index('gene')     #transform 'gene' column into row label\n",
    "AE3_master = np.array(AE3_master) \n",
    "\n",
    "# conversion into array \n",
    "AE3_scran = np.array(AE3_scran_norm)\n",
    "data_families_interest_AE3 = np.array(data_families_interest_AE3)\n",
    "data_families_info_AE3 = np.array(data_families_info_AE3) "
   ]
  },
  {
   "cell_type": "code",
   "execution_count": 3,
   "metadata": {},
   "outputs": [
    {
     "name": "stdout",
     "output_type": "stream",
     "text": [
      "(333, 32285)\n"
     ]
    }
   ],
   "source": [
    "#Norm data with only the cells belonging to the family of interest\n",
    "AE3 = select_family_interest_norm_data(data_families_info_AE3, data_families_interest_AE3, AE3_scran_norm)\n",
    "y = AE3[1]\n",
    "y = y[:,0]\n",
    "AE3 = AE3[0].T\n",
    "\n",
    "#Create data\n",
    "y = pd.DataFrame(y)\n",
    "AE3.to_csv('../data/processed_data/AE3csv.csv', index=False)\n",
    "y.to_csv('../data/processed_data/AE3_familiescsv.csv', index=False)\n",
    "print(np.shape(AE3))"
   ]
  },
  {
   "cell_type": "code",
   "execution_count": 4,
   "metadata": {},
   "outputs": [
    {
     "name": "stderr",
     "output_type": "stream",
     "text": [
      "C:\\Users\\alexi\\Desktop\\ml-project-2-ati\\src\\load_data.py:153: RuntimeWarning: invalid value encountered in less\n",
      "  tab[data[:,i] < p_val] = True\n",
      "C:\\Users\\alexi\\Desktop\\ml-project-2-ati\\src\\load_data.py:159: RuntimeWarning: invalid value encountered in greater_equal\n",
      "  tab[data[:,i+7] >= cond_FM[i]] = True\n"
     ]
    }
   ],
   "source": [
    "#Select the good genes that were already selected for us (values not optimized)\n",
    "cond_FM = np.array([4,3,8,7,3,20,30,4])\n",
    "gene_interest = sort_features(AE3_master, cond_FM)\n",
    "\n",
    "#Determine which genes are expressed in at least 50% of the cells\n",
    "gene_expressed = filter_norm_data(AE3_scran)\n",
    "\n",
    "#Only keep genes of interest and remove all genes that are not expressed in at least percentage (default 50%) of the cells\n",
    "mask = np.logical_and(gene_interest, gene_expressed)\n",
    "AE3_scran_norm = AE3_scran_norm[mask]\n",
    "\n",
    "#Norm data with only the cells belonging to the family of interest\n",
    "AE3_scran_norm = select_family_interest_norm_data(data_families_info_AE3, data_families_interest_AE3, AE3_scran_norm)\n",
    "y = AE3_scran_norm[1]\n",
    "y = y[:,0]\n",
    "y = y.astype(np.int32)\n",
    "AE3_scran_norm = AE3_scran_norm[0]\n",
    "\n",
    "#Store the name of genes of interest\n",
    "genes_interest = AE3_scran_norm.index.values #get name of genes\n",
    "genes_interest = pd.DataFrame(genes_interest)\n",
    "genes_interest.to_csv('../data/processed_data/AE3genes_interest.csv', index=False)\n",
    "\n",
    "#Convert into array\n",
    "AE3 = np.array(AE3_scran_norm)\n",
    "\n",
    "#Create preprocess data for gihub\n",
    "AE3csv = np.c_[AE3.T,y]\n",
    "AE3csv = pd.DataFrame(AE3csv)\n",
    "AE3csv.to_csv('../data/processed_data/AE3csv_process.csv', index=False)"
   ]
  },
  {
   "cell_type": "markdown",
   "metadata": {},
   "source": [
    "# AE4"
   ]
  },
  {
   "cell_type": "code",
   "execution_count": 5,
   "metadata": {},
   "outputs": [],
   "source": [
    "# import normalized data, data families interest and data family info of AE4 family\n",
    "\n",
    "AE4_scran_norm_ordered_dict = pyreadr.read_r('../data/family_datasets/data_norm/AE4_scran_norm.rds')\n",
    "AE4_scran_norm = AE4_scran_norm_ordered_dict[None]\n",
    "\n",
    "data_families_interest_AE4 = pyreadr.read_r('../data/family_datasets/family_interest/families_of_interest_AE4_nocellcyclesplit.RData')\n",
    "data_families_interest_AE4 = data_families_interest_AE4['fois_1']\n",
    "\n",
    "data_families_info_AE4 = pyreadr.read_r('../data/family_datasets/family_info/family_info_AE4_nocellcyclesplit.RData')\n",
    "data_families_info_AE4 = data_families_info_AE4['family_info_1']\n",
    "\n",
    "AE4_master = pyreadr.read_r('../data/data_master/Master_Almut_AE4_20_3t5_nocellcyclesplit.rds')\n",
    "AE4_master = AE4_master[None]\n",
    "AE4_master = AE4_master.set_index('gene')     #transform 'gene' column into row label\n",
    "AE4_master = np.array(AE4_master) \n",
    "\n",
    "# conversion into array \n",
    "AE4_scran = np.array(AE4_scran_norm)\n",
    "data_families_interest_AE4 = np.array(data_families_interest_AE4)\n",
    "data_families_info_AE4 = np.array(data_families_info_AE4)  "
   ]
  },
  {
   "cell_type": "code",
   "execution_count": 6,
   "metadata": {},
   "outputs": [],
   "source": [
    "#Norm data with only the cells belonging to the family of interest\n",
    "AE4 = select_family_interest_norm_data(data_families_info_AE4, data_families_interest_AE4, AE4_scran_norm)\n",
    "y = AE4[1]\n",
    "y = y[:,0]\n",
    "AE4 = AE4[0].T\n",
    "\n",
    "#Create data \n",
    "y = pd.DataFrame(y)\n",
    "AE4.to_csv('../data/processed_data/AE4csv.csv', index=False)\n",
    "y.to_csv('../data/processed_data/AE4_familiescsv.csv', index=False)"
   ]
  },
  {
   "cell_type": "code",
   "execution_count": 7,
   "metadata": {},
   "outputs": [
    {
     "name": "stderr",
     "output_type": "stream",
     "text": [
      "C:\\Users\\alexi\\Desktop\\ml-project-2-ati\\src\\load_data.py:153: RuntimeWarning: invalid value encountered in less\n",
      "  tab[data[:,i] < p_val] = True\n",
      "C:\\Users\\alexi\\Desktop\\ml-project-2-ati\\src\\load_data.py:159: RuntimeWarning: invalid value encountered in greater_equal\n",
      "  tab[data[:,i+7] >= cond_FM[i]] = True\n"
     ]
    }
   ],
   "source": [
    "#Select the good genes that were already selected for us (values not optimized)\n",
    "cond_FM = np.array([4,3,8,7,3,20,30,4])\n",
    "gene_interest = sort_features(AE4_master, cond_FM)\n",
    "\n",
    "#Determine which genes are expressed in at least 50% of the cells\n",
    "gene_expressed = filter_norm_data(AE4_scran)\n",
    "\n",
    "#Only keep genes of interest and remove all genes that are not expressed in at least percentage (default 50%) of the cells\n",
    "mask = np.logical_and(gene_interest, gene_expressed)\n",
    "AE4_scran_norm = AE4_scran_norm[mask]\n",
    "\n",
    "#Norm data with only the cells belonging to the family of interest\n",
    "AE4_scran_norm = select_family_interest_norm_data(data_families_info_AE4, data_families_interest_AE4, AE4_scran_norm)\n",
    "y = AE4_scran_norm[1]\n",
    "y = y[:,0]\n",
    "y = y.astype(np.int32)\n",
    "AE4_scran_norm = AE4_scran_norm[0]\n",
    "\n",
    "#Convert into array\n",
    "AE4 = np.array(AE4_scran_norm)\n",
    "\n",
    "#Store the name of genes of interest\n",
    "genes_interest = AE4_scran_norm.index.values #get name of genes\n",
    "genes_interest = pd.DataFrame(genes_interest)\n",
    "genes_interest.to_csv('../data/processed_data/AE4genes_interest.csv', index=False)\n",
    "\n",
    "#Create preprocess data for gihub\n",
    "AE4csv = np.c_[AE4.T,y]\n",
    "AE4csv = pd.DataFrame(AE4csv)\n",
    "AE4csv.to_csv('../data/processed_data/AE4csv_process.csv', index=False)"
   ]
  },
  {
   "cell_type": "markdown",
   "metadata": {},
   "source": [
    "# BIDDY DO "
   ]
  },
  {
   "cell_type": "code",
   "execution_count": 8,
   "metadata": {},
   "outputs": [],
   "source": [
    "# import normalized data, data families interest and data family info of AE4 family\n",
    "\n",
    "DO_scran_norm_ordered_dict = pyreadr.read_r('../data/family_datasets/data_norm/BIDDY_D0_RPM_norm.rds')\n",
    "DO_scran_norm = DO_scran_norm_ordered_dict[None]\n",
    "\n",
    "data_families_interest_DO = pyreadr.read_r('../data/family_datasets/family_interest/families_of_interest_BIDDY_D0.RData')\n",
    "data_families_interest_DO = data_families_interest_DO['fois_1']\n",
    "\n",
    "data_families_info_DO = pyreadr.read_r('../data/family_datasets/family_info/family_info_BIDDY_D0.RData')\n",
    "data_families_info_DO = data_families_info_DO['family_info_1']\n",
    "\n",
    "DO_master = pyreadr.read_r('../data/data_master/Master_Almut_BIDDY_D0_20_2members_nocellcyclesplit.rds')\n",
    "DO_master = DO_master[None]   #transform into dataframe\n",
    "DO_master = DO_master.set_index('gene')  #transform 'gene' column into row label\n",
    "DO_master = np.array(DO_master) \n",
    "\n",
    "# conversion into array \n",
    "DO_scran = np.array(DO_scran_norm)\n",
    "data_families_interest_DO = np.array(data_families_interest_DO)\n",
    "data_families_info_DO = np.array(data_families_info_DO)  "
   ]
  },
  {
   "cell_type": "code",
   "execution_count": 9,
   "metadata": {},
   "outputs": [
    {
     "name": "stdout",
     "output_type": "stream",
     "text": [
      "(112, 32285)\n"
     ]
    }
   ],
   "source": [
    "#Norm data with only the cells belonging to the family of interest\n",
    "DO = select_family_interest_norm_data(data_families_info_DO, data_families_interest_DO, DO_scran_norm)\n",
    "y = DO[1]\n",
    "y = y[:,0]\n",
    "DO = DO[0].T\n",
    "\n",
    "#Create data\n",
    "y = pd.DataFrame(y)\n",
    "DO.to_csv('../data/processed_data/DOcsv.csv', index=False)\n",
    "y.to_csv('../data/processed_data/DO_familiescsv.csv', index=False)\n",
    "print(np.shape(DO))"
   ]
  },
  {
   "cell_type": "code",
   "execution_count": 10,
   "metadata": {},
   "outputs": [
    {
     "name": "stderr",
     "output_type": "stream",
     "text": [
      "C:\\Users\\alexi\\Desktop\\ml-project-2-ati\\src\\load_data.py:153: RuntimeWarning: invalid value encountered in less\n",
      "  tab[data[:,i] < p_val] = True\n",
      "C:\\Users\\alexi\\Desktop\\ml-project-2-ati\\src\\load_data.py:159: RuntimeWarning: invalid value encountered in greater_equal\n",
      "  tab[data[:,i+7] >= cond_FM[i]] = True\n"
     ]
    }
   ],
   "source": [
    "#Select the good genes that were already selected for us (values not optimized)\n",
    "cond_FM = np.array([4,3,8,7,3,20,30,4])\n",
    "gene_interest = sort_features(DO_master, cond_FM)\n",
    "\n",
    "#Determine which genes are expressed in at least 50% of the cells\n",
    "gene_expressed = filter_norm_data(DO_scran)\n",
    "\n",
    "#Only keep genes of interest and remove all genes that are not expressed in at least percentage (default 50%) of the cells\n",
    "mask = np.logical_and(gene_interest, gene_expressed)\n",
    "DO_scran_norm = DO_scran_norm[mask]\n",
    "\n",
    "#Norm data with only the cells belonging to the family of interest\n",
    "DO_scran_norm = select_family_interest_norm_data(data_families_info_DO, data_families_interest_DO, DO_scran_norm)\n",
    "y = DO_scran_norm[1]\n",
    "y = y[:,0]\n",
    "y = y.astype(np.int32)\n",
    "DO_scran_norm = DO_scran_norm[0]\n",
    "\n",
    "#Convert into array\n",
    "DO = np.array(DO_scran_norm)\n",
    "\n",
    "#Store the name of genes of interest\n",
    "genes_interest = DO_scran_norm.index.values #get name of genes\n",
    "genes_interest = pd.DataFrame(genes_interest)\n",
    "genes_interest.to_csv('../data/processed_data/DOgenes_interest.csv', index=False)\n",
    "\n",
    "#Create preprocess data for gihub\n",
    "DOcsv = np.c_[DO.T,y]\n",
    "DOcsv = pd.DataFrame(DOcsv)\n",
    "DOcsv.to_csv('../data/processed_data/DOcsv_process.csv', index=False)"
   ]
  },
  {
   "cell_type": "markdown",
   "metadata": {},
   "source": [
    "# BIDDY DO 2"
   ]
  },
  {
   "cell_type": "code",
   "execution_count": 11,
   "metadata": {},
   "outputs": [],
   "source": [
    "# import normalized data, data families interest and data family info of BIDDY DO2 family\n",
    "\n",
    "DO2_scran_norm_ordered_dict = pyreadr.read_r('../data/family_datasets/data_norm/BIDDY_D0_2_RPM_norm.rds')\n",
    "DO2_scran_norm = DO2_scran_norm_ordered_dict[None]\n",
    "\n",
    "data_families_interest_DO2 = pyreadr.read_r('../data/family_datasets/family_interest/families_of_interest_BIDDY_D0_2.RData')\n",
    "data_families_interest_DO2 = data_families_interest_DO2['fois_1']\n",
    "\n",
    "data_families_info_DO2 = pyreadr.read_r('../data/family_datasets/family_info/family_info_BIDDY_D0_2.RData')\n",
    "data_families_info_DO2 = data_families_info_DO2['family_info_1']\n",
    "\n",
    "DO2_master = pyreadr.read_r('../data/data_master/Master_Almut_BIDDY_D0_2_20_2members_nocellcyclesplit.rds')\n",
    "DO2_master = DO2_master[None]   #transform into dataframe\n",
    "DO2_master = DO2_master.set_index('gene')  #transform 'gene' column into row label\n",
    "DO2_master = np.array(DO2_master) \n",
    "\n",
    "# conversion into array \n",
    "DO2_scran = np.array(DO2_scran_norm)\n",
    "data_families_interest_DO2 = np.array(data_families_interest_DO2)\n",
    "data_families_info_DO2 = np.array(data_families_info_DO2) "
   ]
  },
  {
   "cell_type": "code",
   "execution_count": 12,
   "metadata": {},
   "outputs": [
    {
     "name": "stdout",
     "output_type": "stream",
     "text": [
      "(349, 32285)\n"
     ]
    }
   ],
   "source": [
    "#Norm data with only the cells belonging to the family of interest\n",
    "DO2 = select_family_interest_norm_data(data_families_info_DO2, data_families_interest_DO2, DO2_scran_norm)\n",
    "y = DO2[1]\n",
    "y = y[:,0]\n",
    "DO2 = DO2[0].T\n",
    "\n",
    "#Create data\n",
    "y = pd.DataFrame(y)\n",
    "DO2.to_csv('../data/processed_data/DO2csv.csv', index=False)\n",
    "y.to_csv('../data/processed_data/DO2_familiescsv.csv', index=False)\n",
    "print(np.shape(DO2))"
   ]
  },
  {
   "cell_type": "code",
   "execution_count": 13,
   "metadata": {},
   "outputs": [
    {
     "name": "stderr",
     "output_type": "stream",
     "text": [
      "C:\\Users\\alexi\\Desktop\\ml-project-2-ati\\src\\load_data.py:153: RuntimeWarning: invalid value encountered in less\n",
      "  tab[data[:,i] < p_val] = True\n",
      "C:\\Users\\alexi\\Desktop\\ml-project-2-ati\\src\\load_data.py:159: RuntimeWarning: invalid value encountered in greater_equal\n",
      "  tab[data[:,i+7] >= cond_FM[i]] = True\n"
     ]
    }
   ],
   "source": [
    "#Select the good genes that were already selected for us (values not optimized)\n",
    "cond_FM = np.array([4,3,8,7,3,20,30,4])\n",
    "gene_interest = sort_features(DO2_master, cond_FM)\n",
    "\n",
    "#Determine which genes are expressed in at least 50% of the cells\n",
    "gene_expressed = filter_norm_data(DO2_scran)\n",
    "\n",
    "#Only keep genes of interest and remove all genes that are not expressed in at least percentage (default 50%) of the cells\n",
    "mask = np.logical_and(gene_interest, gene_expressed)\n",
    "DO2_scran_norm = DO2_scran_norm[mask]\n",
    "\n",
    "#Norm data with only the cells belonging to the family of interest\n",
    "DO2_scran_norm = select_family_interest_norm_data(data_families_info_DO2, data_families_interest_DO2, DO2_scran_norm)\n",
    "y = DO2_scran_norm[1]\n",
    "y = y[:,0]\n",
    "y = y.astype(np.int32)\n",
    "DO2_scran_norm = DO2_scran_norm[0]\n",
    "\n",
    "#Convert into array\n",
    "DO2 = np.array(DO2_scran_norm)\n",
    "\n",
    "#Store the name of genes of interest\n",
    "genes_interest = DO2_scran_norm.index.values #get name of genes\n",
    "genes_interest = pd.DataFrame(genes_interest)\n",
    "genes_interest.to_csv('../data/processed_data/DO2genes_interest.csv', index=False)\n",
    "\n",
    "#Create preprocess data for gihub\n",
    "DO2csv = np.c_[DO2.T,y]\n",
    "DO2csv = pd.DataFrame(DO2csv)\n",
    "DO2csv.to_csv('../data/processed_data/DO2csv_process.csv', index=False)"
   ]
  },
  {
   "cell_type": "markdown",
   "metadata": {},
   "source": [
    "# BIDDY D6"
   ]
  },
  {
   "cell_type": "code",
   "execution_count": 14,
   "metadata": {},
   "outputs": [],
   "source": [
    "# import normalized data, data families interest and data family info of BIDDY DO2 family\n",
    "\n",
    "D6_scran_norm_ordered_dict = pyreadr.read_r('../data/family_datasets/data_norm/BIDDY_D6_RPM_norm.rds')\n",
    "D6_scran_norm = D6_scran_norm_ordered_dict[None]\n",
    "\n",
    "data_families_interest_D6 = pyreadr.read_r('../data/family_datasets/family_interest/families_of_interest_BIDDY_D6_V2.RData')\n",
    "data_families_interest_D6 = data_families_interest_D6['fois_1']\n",
    "\n",
    "data_families_info_D6 = pyreadr.read_r('../data/family_datasets/family_info/family_info_BIDDY_D6_V2.RData')\n",
    "data_families_info_D6 = data_families_info_D6['family_info_1']\n",
    "\n",
    "D6_master = pyreadr.read_r('../data/data_master/Master_Almut_BIDDY_D6_20_2members_nocellcyclesplit.rds')\n",
    "D6_master = D6_master[None] \n",
    "D6_master = D6_master.set_index('gene')  #transform 'gene' column into row label\n",
    "D6_master = np.array(D6_master) \n",
    "\n",
    "# conversion into array \n",
    "D6_scran = np.array(D6_scran_norm)\n",
    "data_families_interest_D6 = np.array(data_families_interest_D6)\n",
    "data_families_info_D6 = np.array(data_families_info_D6) "
   ]
  },
  {
   "cell_type": "code",
   "execution_count": 15,
   "metadata": {},
   "outputs": [
    {
     "name": "stdout",
     "output_type": "stream",
     "text": [
      "(116, 32285)\n"
     ]
    }
   ],
   "source": [
    "#Norm data with only the cells belonging to the family of interest\n",
    "D6 = select_family_interest_norm_data(data_families_info_D6, data_families_interest_D6, D6_scran_norm)\n",
    "y = D6[1]\n",
    "y = y[:,0]\n",
    "D6 = D6[0].T\n",
    "\n",
    "#Create data\n",
    "y = pd.DataFrame(y)\n",
    "D6.to_csv('../data/processed_data/D6csv.csv', index=False)\n",
    "y.to_csv('../data/processed_data/D6_familiescsv.csv', index=False)\n",
    "print(np.shape(D6))"
   ]
  },
  {
   "cell_type": "code",
   "execution_count": 16,
   "metadata": {},
   "outputs": [
    {
     "name": "stderr",
     "output_type": "stream",
     "text": [
      "C:\\Users\\alexi\\Desktop\\ml-project-2-ati\\src\\load_data.py:153: RuntimeWarning: invalid value encountered in less\n",
      "  tab[data[:,i] < p_val] = True\n",
      "C:\\Users\\alexi\\Desktop\\ml-project-2-ati\\src\\load_data.py:159: RuntimeWarning: invalid value encountered in greater_equal\n",
      "  tab[data[:,i+7] >= cond_FM[i]] = True\n"
     ]
    }
   ],
   "source": [
    "#Select the good genes that were already selected for us (values not optimized)\n",
    "cond_FM = np.array([4,3,8,7,3,20,30,4])\n",
    "gene_interest = sort_features(D6_master, cond_FM)\n",
    "\n",
    "#Determine which genes are expressed in at least 50% of the cells\n",
    "gene_expressed = filter_norm_data(D6_scran)\n",
    "\n",
    "#Only keep genes of interest and remove all genes that are not expressed in at least percentage (default 50%) of the cells\n",
    "mask = np.logical_and(gene_interest, gene_expressed)\n",
    "D6_scran_norm = D6_scran_norm[mask]\n",
    "\n",
    "#Norm data with only the cells belonging to the family of interest\n",
    "D6_scran_norm = select_family_interest_norm_data(data_families_info_D6, data_families_interest_D6, D6_scran_norm)\n",
    "y = D6_scran_norm[1]\n",
    "y = y[:,0]\n",
    "y = y.astype(np.int32)\n",
    "D6_scran_norm = D6_scran_norm[0]\n",
    "\n",
    "#Convert into array\n",
    "D6 = np.array(D6_scran_norm)\n",
    "\n",
    "#Store the name of genes of interest\n",
    "genes_interest = D6_scran_norm.index.values #get name of genes\n",
    "genes_interest = pd.DataFrame(genes_interest)\n",
    "genes_interest.to_csv('../data/processed_data/D6genes_interest.csv', index=False)\n",
    "\n",
    "#Create preprocess data for gihub\n",
    "D6csv = np.c_[D6.T,y]\n",
    "D6csv = pd.DataFrame(D6csv)\n",
    "D6csv.to_csv('../data/processed_data/D6csv_process.csv', index=False)"
   ]
  },
  {
   "cell_type": "markdown",
   "metadata": {},
   "source": [
    "# BIDDY D6 2"
   ]
  },
  {
   "cell_type": "code",
   "execution_count": 17,
   "metadata": {},
   "outputs": [],
   "source": [
    "# import normalized data, data families interest and data family info of BIDDY DO2 family\n",
    "\n",
    "D62_scran_norm_ordered_dict = pyreadr.read_r('../data/family_datasets/data_norm/BIDDY_D6_2_RPM_norm.rds')\n",
    "D62_scran_norm = D62_scran_norm_ordered_dict[None]\n",
    "\n",
    "data_families_interest_D62 = pyreadr.read_r('../data/family_datasets/family_interest/families_of_interest_BIDDY_D6_2.RData')\n",
    "data_families_interest_D62 = data_families_interest_D62['fois_1']\n",
    "\n",
    "data_families_info_D62 = pyreadr.read_r('../data/family_datasets/family_info/family_info_BIDDY_D6_2.RData')\n",
    "data_families_info_D62 = data_families_info_D62['family_info_1']\n",
    "\n",
    "D62_master = pyreadr.read_r('../data/data_master/Master_Almut_BIDDY_D6_2_20_2members_nocellcyclesplit.rds')\n",
    "D62_master = D62_master[None]   #transform into dataframe\n",
    "D62_master = D62_master.set_index('gene')  #transform 'gene' column into row label\n",
    "D62_master = np.array(D62_master) \n",
    "\n",
    "# conversion into array \n",
    "D62_scran = np.array(D62_scran_norm)\n",
    "data_families_interest_D62 = np.array(data_families_interest_D62)\n",
    "data_families_info_D62 = np.array(data_families_info_D62) "
   ]
  },
  {
   "cell_type": "code",
   "execution_count": 18,
   "metadata": {},
   "outputs": [
    {
     "name": "stdout",
     "output_type": "stream",
     "text": [
      "(38, 32285)\n"
     ]
    }
   ],
   "source": [
    "#Norm data with only the cells belonging to the family of interest\n",
    "D62 = select_family_interest_norm_data(data_families_info_D62, data_families_interest_D62, D62_scran_norm)\n",
    "y = D62[1]\n",
    "y = y[:,0]\n",
    "D62 = D62[0].T\n",
    "\n",
    "#Create data\n",
    "y = pd.DataFrame(y)\n",
    "D62.to_csv('../data/processed_data/D62csv.csv', index=False)\n",
    "y.to_csv('../data/processed_data/D62_familiescsv.csv', index=False)\n",
    "print(np.shape(D62))"
   ]
  },
  {
   "cell_type": "code",
   "execution_count": 19,
   "metadata": {},
   "outputs": [
    {
     "name": "stderr",
     "output_type": "stream",
     "text": [
      "C:\\Users\\alexi\\Desktop\\ml-project-2-ati\\src\\load_data.py:153: RuntimeWarning: invalid value encountered in less\n",
      "  tab[data[:,i] < p_val] = True\n",
      "C:\\Users\\alexi\\Desktop\\ml-project-2-ati\\src\\load_data.py:159: RuntimeWarning: invalid value encountered in greater_equal\n",
      "  tab[data[:,i+7] >= cond_FM[i]] = True\n"
     ]
    }
   ],
   "source": [
    "#Select the good genes that were already selected for us (values not optimized)\n",
    "cond_FM = np.array([4,3,8,7,3,20,30,4])\n",
    "gene_interest = sort_features(D62_master, cond_FM)\n",
    "\n",
    "#Determine which genes are expressed in at least 50% of the cells\n",
    "gene_expressed = filter_norm_data(D62_scran)\n",
    "\n",
    "#Only keep genes of interest and remove all genes that are not expressed in at least percentage (default 50%) of the cells\n",
    "mask = np.logical_and(gene_interest, gene_expressed)\n",
    "D62_scran_norm = D62_scran_norm[mask]\n",
    "\n",
    "#Norm data with only the cells belonging to the family of interest\n",
    "D62_scran_norm = select_family_interest_norm_data(data_families_info_D62, data_families_interest_D62, D62_scran_norm)\n",
    "y = D62_scran_norm[1]\n",
    "y = y[:,0]\n",
    "y = y.astype(np.int32)\n",
    "D62_scran_norm = D62_scran_norm[0]\n",
    "\n",
    "#Convert into array\n",
    "D62 = np.array(D62_scran_norm)\n",
    "\n",
    "#Store the name of genes of interest\n",
    "genes_interest = D62_scran_norm.index.values #get name of genes\n",
    "genes_interest = pd.DataFrame(genes_interest)\n",
    "genes_interest.to_csv('../data/processed_data/D62genes_interest.csv', index=False)\n",
    "\n",
    "#Create preprocess data for gihub\n",
    "D62csv = np.c_[D62.T,y]\n",
    "D62csv = pd.DataFrame(D62csv)\n",
    "D62csv.to_csv('../data/processed_data/D62csv_process.csv', index=False)"
   ]
  },
  {
   "cell_type": "markdown",
   "metadata": {},
   "source": [
    "# BIDDY D15"
   ]
  },
  {
   "cell_type": "code",
   "execution_count": 20,
   "metadata": {},
   "outputs": [],
   "source": [
    "# import normalized data, data families interest and data family info of BIDDY DO2 family\n",
    "\n",
    "D15_scran_norm_ordered_dict = pyreadr.read_r('../data/family_datasets/data_norm/BIDDY_D15_RPM_norm.rds')\n",
    "D15_scran_norm = D15_scran_norm_ordered_dict[None]\n",
    "\n",
    "data_families_interest_D15 = pyreadr.read_r('../data/family_datasets/family_interest/families_of_interest_BIDDY_D15_V3.RData')\n",
    "data_families_interest_D15 = data_families_interest_D15['fois_1']\n",
    "\n",
    "data_families_info_D15 = pyreadr.read_r('../data/family_datasets/family_info/family_info_BIDDY_D15_V3.RData')\n",
    "data_families_info_D15 = data_families_info_D15['family_info_1']\n",
    "\n",
    "D15_master = pyreadr.read_r('../data/data_master/Master_Almut_BIDDY_D15_20_2members_nocellcyclesplit.rds')\n",
    "D15_master = D15_master[None]   #transform into dataframe\n",
    "D15_master = D15_master.set_index('gene')  #transform 'gene' column into row label\n",
    "D15_master = np.array(D15_master) \n",
    "\n",
    "# conversion into array \n",
    "D15_scran = np.array(D15_scran_norm)\n",
    "data_families_interest_D15 = np.array(data_families_interest_D15)\n",
    "data_families_info_D15 = np.array(data_families_info_D15) "
   ]
  },
  {
   "cell_type": "code",
   "execution_count": 21,
   "metadata": {},
   "outputs": [
    {
     "name": "stdout",
     "output_type": "stream",
     "text": [
      "(88, 32285)\n"
     ]
    }
   ],
   "source": [
    "#Norm data with only the cells belonging to the family of interest\n",
    "D15 = select_family_interest_norm_data(data_families_info_D15, data_families_interest_D15, D15_scran_norm)\n",
    "y = D15[1]\n",
    "y = y[:,0]\n",
    "D15 = D15[0].T\n",
    "\n",
    "#Create data\n",
    "y = pd.DataFrame(y)\n",
    "D15.to_csv('../data/processed_data/D15csv.csv', index=False)\n",
    "y.to_csv('../data/processed_data/D15_familiescsv.csv', index=False)\n",
    "print(np.shape(D15))"
   ]
  },
  {
   "cell_type": "code",
   "execution_count": 22,
   "metadata": {},
   "outputs": [
    {
     "name": "stderr",
     "output_type": "stream",
     "text": [
      "C:\\Users\\alexi\\Desktop\\ml-project-2-ati\\src\\load_data.py:153: RuntimeWarning: invalid value encountered in less\n",
      "  tab[data[:,i] < p_val] = True\n",
      "C:\\Users\\alexi\\Desktop\\ml-project-2-ati\\src\\load_data.py:159: RuntimeWarning: invalid value encountered in greater_equal\n",
      "  tab[data[:,i+7] >= cond_FM[i]] = True\n"
     ]
    }
   ],
   "source": [
    "#Select the good genes that were already selected for us (values not optimized)\n",
    "cond_FM = np.array([4,3,8,7,3,20,30,4])\n",
    "gene_interest = sort_features(D15_master, cond_FM)\n",
    "\n",
    "#Determine which genes are expressed in at least 50% of the cells\n",
    "gene_expressed = filter_norm_data(D15_scran)\n",
    "\n",
    "#Only keep genes of interest and remove all genes that are not expressed in at least percentage (default 50%) of the cells\n",
    "mask = np.logical_and(gene_interest, gene_expressed)\n",
    "D15_scran_norm = D15_scran_norm[mask]\n",
    "\n",
    "#Norm data with only the cells belonging to the family of interest\n",
    "D15_scran_norm = select_family_interest_norm_data(data_families_info_D15, data_families_interest_D15, D15_scran_norm)\n",
    "y = D15_scran_norm[1]\n",
    "y = y[:,0]\n",
    "y = y.astype(np.int32)\n",
    "D15_scran_norm = D15_scran_norm[0]\n",
    "\n",
    "#Convert into array\n",
    "D15 = np.array(D15_scran_norm)\n",
    "\n",
    "#Store the name of genes of interest\n",
    "genes_interest = D15_scran_norm.index.values #get name of genes\n",
    "genes_interest = pd.DataFrame(genes_interest)\n",
    "genes_interest.to_csv('../data/processed_data/D15genes_interest.csv', index=False)\n",
    "\n",
    "#Create preprocess data for gihub\n",
    "D15csv = np.c_[D15.T,y]\n",
    "D15csv = pd.DataFrame(D15csv)\n",
    "D15csv.to_csv('../data/processed_data/D15csv_process.csv', index=False)"
   ]
  },
  {
   "cell_type": "markdown",
   "metadata": {},
   "source": [
    "# BIDDY D15 2"
   ]
  },
  {
   "cell_type": "code",
   "execution_count": 4,
   "metadata": {},
   "outputs": [],
   "source": [
    "# import normalized data, data families interest and data family info of BIDDY DO2 family\n",
    "\n",
    "D152_scran_norm_ordered_dict = pyreadr.read_r('../data/family_datasets/data_norm/BIDDY_D15_2_RPM_norm.rds')\n",
    "D152_scran_norm = D152_scran_norm_ordered_dict[None]\n",
    "\n",
    "data_families_interest_D152 = pyreadr.read_r('../data/family_datasets/family_interest/families_of_interest_BIDDY_D15_2.RData')\n",
    "data_families_interest_D152 = data_families_interest_D152['fois_1']\n",
    "\n",
    "data_families_info_D152 = pyreadr.read_r('../data/family_datasets/family_info/family_info_BIDDY_D15_2.RData')\n",
    "data_families_info_D152 = data_families_info_D152['family_info_1']\n",
    "\n",
    "D152_master = pyreadr.read_r('../data/data_master/Master_Almut_BIDDY_D15_2_20_2members_nocellcyclesplit.rds')\n",
    "D152_master = D152_master[None]   #transform into dataframe\n",
    "D152_master = D152_master.set_index('gene')  #transform 'gene' column into row label\n",
    "D152_master = np.array(D152_master) \n",
    "\n",
    "# conversion into array \n",
    "D152_scran = np.array(D152_scran_norm)\n",
    "data_families_interest_D152 = np.array(data_families_interest_D152)\n",
    "data_families_info_D152 = np.array(data_families_info_D152) "
   ]
  },
  {
   "cell_type": "code",
   "execution_count": 5,
   "metadata": {},
   "outputs": [
    {
     "name": "stdout",
     "output_type": "stream",
     "text": [
      "(90, 32285)\n"
     ]
    }
   ],
   "source": [
    "#Norm data with only the cells belonging to the family of interest\n",
    "D152 = select_family_interest_norm_data(data_families_info_D152, data_families_interest_D152, D152_scran_norm)\n",
    "y = D152[1]\n",
    "y = y[:,0]\n",
    "D152 = D152[0].T\n",
    "\n",
    "\n",
    "#Create data\n",
    "y = pd.DataFrame(y)\n",
    "D152.to_csv('../data/processed_data/D152csv.csv', index=False)\n",
    "y.to_csv('../data/processed_data/D152_familiescsv.csv', index=False)\n",
    "print(np.shape(D152))"
   ]
  },
  {
   "cell_type": "code",
   "execution_count": 6,
   "metadata": {},
   "outputs": [
    {
     "name": "stderr",
     "output_type": "stream",
     "text": [
      "C:\\Users\\alexi\\Desktop\\ml-project-2-ati\\src\\load_data.py:153: RuntimeWarning: invalid value encountered in less\n",
      "  tab[data[:,i] < p_val] = True\n",
      "C:\\Users\\alexi\\Desktop\\ml-project-2-ati\\src\\load_data.py:159: RuntimeWarning: invalid value encountered in greater_equal\n",
      "  tab[data[:,i+7] >= cond_FM[i]] = True\n"
     ]
    }
   ],
   "source": [
    "#Select the good genes that were already selected for us (values not optimized)\n",
    "cond_FM = np.array([4,3,8,7,3,20,30,4])\n",
    "gene_interest = sort_features(D152_master, cond_FM)\n",
    "\n",
    "#Determine which genes are expressed in at least 50% of the cells\n",
    "gene_expressed = filter_norm_data(D152_scran)\n",
    "\n",
    "#Only keep genes of interest and remove all genes that are not expressed in at least percentage (default 50%) of the cells\n",
    "mask = np.logical_and(gene_interest, gene_expressed)\n",
    "D152_scran_norm = D152_scran_norm[mask]\n",
    "\n",
    "#Norm data with only the cells belonging to the family of interest\n",
    "D152_scran_norm = select_family_interest_norm_data(data_families_info_D152, data_families_interest_D152, D152_scran_norm)\n",
    "y = D152_scran_norm[1]\n",
    "y = y[:,0]\n",
    "y = y.astype(np.int32)\n",
    "D152_scran_norm = D152_scran_norm[0]\n",
    "\n",
    "#Convert into array\n",
    "D152 = np.array(D152_scran_norm)\n",
    "\n",
    "#Store the name of genes of interest\n",
    "genes_interest = D152_scran_norm.index.values #get name of genes\n",
    "genes_interest = pd.DataFrame(genes_interest)\n",
    "genes_interest.to_csv('../data/processed_data/D152genes_interest.csv', index=False)\n",
    "\n",
    "#Create preprocess data for gihub\n",
    "D152csv = np.c_[D152.T,y]\n",
    "D152csv = pd.DataFrame(D152csv)\n",
    "D152csv.to_csv('../data/processed_data/D152csv_process.csv', index=False)"
   ]
  },
  {
   "cell_type": "markdown",
   "metadata": {},
   "source": [
    "# KIMMERLING CD8"
   ]
  },
  {
   "cell_type": "code",
   "execution_count": 2,
   "metadata": {},
   "outputs": [],
   "source": [
    "# import normalized data, data families interest and data family info of Kimmerling CD8 family\n",
    "\n",
    "df_CD8_norm = pd.read_csv ('../data/family_datasets/data_norm/Kimmerling_CD8_norm.csv')\n",
    "df_CD8_norm = df_CD8_norm.set_index('Unnamed: 0')     #transform 'Unnamed: 0' column into row label\n",
    "df_CD8_norm = df_CD8_norm.rename_axis(None)#change 'Unnamed: 0' row label into none\n",
    "\n",
    "#Remove genes with non-defined values and genes with only 0\n",
    "nan_genes = df_CD8_norm.any(axis=1)\n",
    "df_CD8_norm = df_CD8_norm[nan_genes]\n",
    "\n",
    "df_CD8_fam_info = pyreadr.read_r('../data/family_datasets/family_info/family_info_Kimmerling_CD8.RData')\n",
    "df_CD8_fam_info = df_CD8_fam_info['family_info_CD8']\n",
    "\n",
    "df_CD8_fam_interest = pyreadr.read_r('../data/family_datasets/family_interest/families_of_interest_Kimmerling_CD8.RData')\n",
    "df_CD8_fam_interest = df_CD8_fam_interest['fois_CD8']\n",
    "\n",
    "df_CD8_master = pyreadr.read_r('../data/data_master/Master_Almut_kimmerling_CD8_20_families_nocellcyclesplit.rds')\n",
    "df_CD8_master = df_CD8_master[None]      #transform into dataframe\n",
    "df_CD8_master = df_CD8_master.set_index('gene')     #transform 'gene' column into row label\n",
    "#remove genes with non defined values\n",
    "df_CD8_master = df_CD8_master[nan_genes]\n",
    "\n",
    "# conversion into array \n",
    "CD8_norm = np.array(df_CD8_norm)\n",
    "CD8_fam_interest = np.array(df_CD8_fam_interest)\n",
    "CD8_fam_info = np.array(df_CD8_fam_info)\n",
    "CD8_master = np.array(df_CD8_master) "
   ]
  },
  {
   "cell_type": "code",
   "execution_count": 4,
   "metadata": {},
   "outputs": [
    {
     "name": "stdout",
     "output_type": "stream",
     "text": [
      "(80, 14980)\n",
      "(78, 14980)\n",
      "(78, 14980)\n"
     ]
    }
   ],
   "source": [
    "#Norm data with only the cells belonging to the family of interest\n",
    "CD8 = select_family_interest_norm_data(CD8_fam_info, CD8_fam_interest, df_CD8_norm)\n",
    "y = CD8[1]\n",
    "y = y[:,0]\n",
    "CD8 = CD8[0].T\n",
    "\n",
    "#Remove cells not expressing anything (only 0 for each genes)\n",
    "CD8 = CD8.drop(['CD8_91', 'CD8_103'])\n",
    "y = np.delete(y,[36,39],0)\n",
    "\n",
    "#Create data\n",
    "y = pd.DataFrame(y)\n",
    "CD8.to_csv('../data/processed_data/CD8csv.csv', index=False)\n",
    "y.to_csv('../data/processed_data/CD8_familiescsv.csv', index=False)\n",
    "print(np.shape(CD8))"
   ]
  },
  {
   "cell_type": "code",
   "execution_count": 28,
   "metadata": {},
   "outputs": [
    {
     "name": "stderr",
     "output_type": "stream",
     "text": [
      "C:\\Users\\alexi\\Desktop\\ml-project-2-ati\\src\\load_data.py:153: RuntimeWarning: invalid value encountered in less\n",
      "  tab[data[:,i] < p_val] = True\n",
      "C:\\Users\\alexi\\Desktop\\ml-project-2-ati\\src\\load_data.py:159: RuntimeWarning: invalid value encountered in greater_equal\n",
      "  tab[data[:,i+7] >= cond_FM[i]] = True\n"
     ]
    }
   ],
   "source": [
    "#Select the good genes that were already selected for us (values not optimized)\n",
    "cond_FM = np.array([4,3,8,7,3,20,30,4])\n",
    "gene_interest = sort_features(CD8_master, cond_FM)\n",
    "\n",
    "#Determine which genes are expressed in at least 50% of the cells\n",
    "gene_expressed = filter_norm_data(CD8_norm)\n",
    "\n",
    "#Only keep genes of interest and remove all genes that are not expressed in at least percentage (default 50%) of the cells\n",
    "mask = np.logical_and(gene_interest, gene_expressed)\n",
    "df_CD8_norm = df_CD8_norm[mask]\n",
    "\n",
    "#Norm data with only the cells belonging to the family of interest\n",
    "df_CD8_norm = select_family_interest_norm_data(CD8_fam_info, CD8_fam_interest, df_CD8_norm)\n",
    "y = df_CD8_norm[1]\n",
    "y = y[:,0]\n",
    "y = y.astype(np.int32)\n",
    "df_CD8_norm = df_CD8_norm[0]\n",
    "\n",
    "#Convert into array\n",
    "CD8 = np.array(df_CD8_norm)\n",
    "\n",
    "#Store the name of genes of interest\n",
    "genes_interest = df_CD8_norm.index.values #get name of genes\n",
    "genes_interest = pd.DataFrame(genes_interest)\n",
    "genes_interest.to_csv('../data/processed_data/CD8genes_interest.csv', index=False)\n",
    "\n",
    "#Remove cells not expressing anything (only 0 for each genes)\n",
    "CD8 = np.delete(CD8,[36,39],1)\n",
    "y = np.delete(y,[36,39],0)\n",
    "\n",
    "#Create preprocess data for gihub\n",
    "CD8csv = np.c_[CD8.T,y]\n",
    "CD8csv = pd.DataFrame(CD8csv)\n",
    "CD8csv.to_csv('../data/processed_data/CD8csv_process.csv', index=False)"
   ]
  },
  {
   "cell_type": "markdown",
   "metadata": {},
   "source": [
    "# KIMMERLING L120"
   ]
  },
  {
   "cell_type": "code",
   "execution_count": 26,
   "metadata": {},
   "outputs": [
    {
     "name": "stdout",
     "output_type": "stream",
     "text": [
      "<class 'int'>\n"
     ]
    }
   ],
   "source": [
    "# import normalized data, data families interest and data family info of Kimmerling CD8 family\n",
    "\n",
    "df_CD8_norm = pd.read_csv ('../data/family_datasets/data_norm/Kimmerling_L1210_norm.csv')\n",
    "df_CD8_norm = df_CD8_norm.set_index('Unnamed: 0')     #transform 'Unnamed: 0' column into row label\n",
    "df_CD8_norm = df_CD8_norm.rename_axis(None)#change 'Unnamed: 0' row label into none\n",
    "\n",
    "#Remove genes with non-defined values and genes with only 0\n",
    "nan_genes = df_CD8_norm.any(axis=1)\n",
    "df_CD8_norm = df_CD8_norm[nan_genes]\n",
    "\n",
    "df_CD8_fam_info = pyreadr.read_r('../data/family_datasets/family_info/family_info_Kimmerling_L1210.RData')\n",
    "df_CD8_fam_info = df_CD8_fam_info['family_info_L1210']\n",
    "\n",
    "df_CD8_fam_interest = pyreadr.read_r('../data/family_datasets/family_interest/families_of_interest_Kimmerling_L1210.RData')\n",
    "df_CD8_fam_interest = df_CD8_fam_interest['fois_L1210']\n",
    "\n",
    "df_CD8_master = pyreadr.read_r('../data/data_master/Master_Almut_kimmerling_L1210_20_families_nocellcyclesplit.rds')\n",
    "df_CD8_master = df_CD8_master[None]      #transform into dataframe\n",
    "df_CD8_master = df_CD8_master.set_index('gene')     #transform 'gene' column into row label\n",
    "#remove genes with non defined values\n",
    "df_CD8_master = df_CD8_master[nan_genes]\n",
    "\n",
    "# conversion into array \n",
    "CD8_norm = np.array(df_CD8_norm)\n",
    "CD8_fam_interest = np.array(df_CD8_fam_interest)\n",
    "CD8_fam_info = np.array(df_CD8_fam_info)\n",
    "CD8_master = np.array(df_CD8_master) \n",
    "\n",
    "print(type(CD8_fam_info[0,0]))"
   ]
  },
  {
   "cell_type": "code",
   "execution_count": 7,
   "metadata": {},
   "outputs": [
    {
     "name": "stdout",
     "output_type": "stream",
     "text": [
      "(67, 15157)\n"
     ]
    }
   ],
   "source": [
    "#Norm data with only the cells belonging to the family of interest\n",
    "CD8 = select_family_interest_norm_data(CD8_fam_info, CD8_fam_interest, df_CD8_norm)\n",
    "y = CD8[1]\n",
    "y = y[:,0]\n",
    "CD8 = CD8[0].T\n",
    "\n",
    "#Remove cells not expressing anything (only 0 for each genes)\n",
    "CD8 = CD8.drop(['L1210_79'])\n",
    "y = np.delete(y,[30],0)\n",
    "\n",
    "#Create data\n",
    "y = pd.DataFrame(y)\n",
    "CD8.to_csv('../data/processed_data/L1210csv.csv', index=False)\n",
    "y.to_csv('../data/processed_data/L1210_familiescsv.csv', index=False)\n",
    "print(np.shape(CD8))"
   ]
  },
  {
   "cell_type": "code",
   "execution_count": 31,
   "metadata": {},
   "outputs": [
    {
     "name": "stderr",
     "output_type": "stream",
     "text": [
      "C:\\Users\\alexi\\Desktop\\ml-project-2-ati\\src\\load_data.py:153: RuntimeWarning: invalid value encountered in less\n",
      "  tab[data[:,i] < p_val] = True\n",
      "C:\\Users\\alexi\\Desktop\\ml-project-2-ati\\src\\load_data.py:159: RuntimeWarning: invalid value encountered in greater_equal\n",
      "  tab[data[:,i+7] >= cond_FM[i]] = True\n"
     ]
    }
   ],
   "source": [
    "#Select the good genes that were already selected for us (values not optimized)\n",
    "cond_FM = np.array([4,3,8,7,3,20,30,4])\n",
    "gene_interest = sort_features(CD8_master, cond_FM)\n",
    "\n",
    "#Determine which genes are expressed in at least 50% of the cells\n",
    "gene_expressed = filter_norm_data(CD8_norm)\n",
    "\n",
    "#Only keep genes of interest and remove all genes that are not expressed in at least percentage (default 50%) of the cells\n",
    "mask = np.logical_and(gene_interest, gene_expressed)\n",
    "df_CD8_norm = df_CD8_norm[mask]\n",
    "\n",
    "#Norm data with only the cells belonging to the family of interest\n",
    "df_CD8_norm = select_family_interest_norm_data(CD8_fam_info, CD8_fam_interest, df_CD8_norm)\n",
    "y = df_CD8_norm[1]\n",
    "y = y[:,0]\n",
    "y = y.astype(np.int32)\n",
    "df_CD8_norm = df_CD8_norm[0]\n",
    "\n",
    "#Convert into array\n",
    "CD8 = np.array(df_CD8_norm)\n",
    "\n",
    "#Store the name of genes of interest\n",
    "genes_interest = df_CD8_norm.index.values #get name of genes\n",
    "genes_interest = pd.DataFrame(genes_interest)\n",
    "genes_interest.to_csv('../data/processed_data/L1210genes_interest.csv', index=False)\n",
    "\n",
    "#Remove cells not expressing anything (only 0 for each genes)\n",
    "CD8 = np.delete(CD8,30,1)\n",
    "y = np.delete(y,30,0)\n",
    "\n",
    "#Create preprocess data for gihub\n",
    "CD8csv = np.c_[CD8.T,y]\n",
    "CD8csv = pd.DataFrame(CD8csv)\n",
    "CD8csv.to_csv('../data/processed_data/L1210csv_process.csv', index=False)"
   ]
  },
  {
   "cell_type": "markdown",
   "metadata": {},
   "source": [
    "# Weinreb data"
   ]
  },
  {
   "cell_type": "markdown",
   "metadata": {},
   "source": [
    "# LK"
   ]
  },
  {
   "cell_type": "code",
   "execution_count": 33,
   "metadata": {},
   "outputs": [],
   "source": [
    "# import normalized data, data families interest and data family info of Kimmerling CD8 family\n",
    "df_CD8_norm = pd.read_csv ('../data/family_datasets/data_norm/Weinreb_LK_D2_exp1_norm_lifted.csv')\n",
    "df_CD8_norm = df_CD8_norm.set_index('Unnamed: 0')     #transform 'Unnamed: 0' column into row label\n",
    "df_CD8_norm = df_CD8_norm.rename_axis(None)#change 'Unnamed: 0' row label into none\n",
    "\n",
    "#Remove genes with non-defined values and genes with only 0\n",
    "nan_genes = df_CD8_norm.any(axis=1)\n",
    "df_CD8_norm = df_CD8_norm[nan_genes]\n",
    "\n",
    "df_CD8_fam_info = pyreadr.read_r('../data/family_datasets/family_info/family_info_Weinreb_LK_D2_exp1.RData')\n",
    "df_CD8_fam_info = df_CD8_fam_info['WORK_clones']\n",
    "\n",
    "df_CD8_fam_interest = pyreadr.read_r('../data/family_datasets/family_interest/families_of_interest_Weinreb_LK_D2_exp1.RData')\n",
    "df_CD8_fam_interest = df_CD8_fam_interest['fois_1']\n",
    "\n",
    "# conversion into array \n",
    "CD8_norm = np.array(df_CD8_norm)\n",
    "CD8_fam_interest = np.array(df_CD8_fam_interest)\n",
    "CD8_fam_info = np.array(df_CD8_fam_info)\n",
    "CD8_fam_info[:,0] = CD8_fam_info[:,0].astype(int)"
   ]
  },
  {
   "cell_type": "code",
   "execution_count": 34,
   "metadata": {},
   "outputs": [
    {
     "name": "stdout",
     "output_type": "stream",
     "text": [
      "(531, 23107)\n"
     ]
    }
   ],
   "source": [
    "#Norm data with only the cells belonging to the family of interest\n",
    "CD8 = select_family_interest_norm_data(CD8_fam_info, CD8_fam_interest, df_CD8_norm)\n",
    "y = CD8[1]\n",
    "y = y[:,0]\n",
    "CD8 = CD8[0].T\n",
    "\n",
    "\n",
    "#Create data\n",
    "y = pd.DataFrame(y)\n",
    "CD8.to_csv('../data/processed_data/LKcsv.csv', index=False)\n",
    "y.to_csv('../data/processed_data/LK_familiescsv.csv', index=False)\n",
    "print(np.shape(CD8))"
   ]
  },
  {
   "cell_type": "markdown",
   "metadata": {},
   "source": [
    "# LSK"
   ]
  },
  {
   "cell_type": "code",
   "execution_count": 39,
   "metadata": {},
   "outputs": [],
   "source": [
    "# import normalized data, data families interest and data family info of Kimmerling CD8 family\n",
    "df_CD8_norm = pd.read_csv ('../data/family_datasets/data_norm/Weinreb_LSK_D2_exp1_norm_lifted.csv')\n",
    "df_CD8_norm = df_CD8_norm.set_index('Unnamed: 0')     #transform 'Unnamed: 0' column into row label\n",
    "df_CD8_norm = df_CD8_norm.rename_axis(None)#change 'Unnamed: 0' row label into none\n",
    "\n",
    "#Remove genes with non-defined values and genes with only 0\n",
    "nan_genes = df_CD8_norm.any(axis=1)\n",
    "df_CD8_norm = df_CD8_norm[nan_genes]\n",
    "\n",
    "df_CD8_fam_info = pyreadr.read_r('../data/family_datasets/family_info/family_info_Weinreb_LSK_D2_exp1.RData')\n",
    "df_CD8_fam_info = df_CD8_fam_info['WORK_clones']\n",
    "\n",
    "df_CD8_fam_interest = pyreadr.read_r('../data/family_datasets/family_interest/families_of_interest_Weinreb_LSK_D2_exp1.RData')\n",
    "df_CD8_fam_interest = df_CD8_fam_interest['fois_1']\n",
    "\n",
    "# conversion into array \n",
    "CD8_norm = np.array(df_CD8_norm)\n",
    "CD8_fam_interest = np.array(df_CD8_fam_interest)\n",
    "CD8_fam_info = np.array(df_CD8_fam_info)\n",
    "CD8_fam_info[:,0] = CD8_fam_info[:,0].astype(int)"
   ]
  },
  {
   "cell_type": "code",
   "execution_count": 40,
   "metadata": {},
   "outputs": [
    {
     "name": "stdout",
     "output_type": "stream",
     "text": [
      "(781, 21357)\n"
     ]
    }
   ],
   "source": [
    "#Norm data with only the cells belonging to the family of interest\n",
    "CD8 = select_family_interest_norm_data(CD8_fam_info, CD8_fam_interest, df_CD8_norm)\n",
    "y = CD8[1]\n",
    "y = y[:,0]\n",
    "CD8 = CD8[0].T\n",
    "\n",
    "\n",
    "#Create data\n",
    "y = pd.DataFrame(y)\n",
    "CD8.to_csv('../data/processed_data/LSKcsv.csv', index=False)\n",
    "y.to_csv('../data/processed_data/LSK_familiescsv.csv', index=False)\n",
    "print(np.shape(CD8))"
   ]
  },
  {
   "cell_type": "code",
   "execution_count": null,
   "metadata": {},
   "outputs": [],
   "source": []
  }
 ],
 "metadata": {
  "kernelspec": {
   "display_name": "Python 3",
   "language": "python",
   "name": "python3"
  },
  "language_info": {
   "codemirror_mode": {
    "name": "ipython",
    "version": 3
   },
   "file_extension": ".py",
   "mimetype": "text/x-python",
   "name": "python",
   "nbconvert_exporter": "python",
   "pygments_lexer": "ipython3",
   "version": "3.8.5"
  }
 },
 "nbformat": 4,
 "nbformat_minor": 4
}
