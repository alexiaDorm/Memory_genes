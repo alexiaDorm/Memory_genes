{
 "cells": [
  {
   "cell_type": "code",
   "execution_count": 33,
   "metadata": {},
   "outputs": [],
   "source": [
    "import numpy as np\n",
    "import matplotlib.pyplot as plt\n",
    "\n",
    "import io \n",
    "import pandas as pd \n",
    "import pyreadr\n",
    "\n",
    "from load_data import *"
   ]
  },
  {
   "cell_type": "markdown",
   "metadata": {},
   "source": [
    "# mESC cells (AE3, AE4)\n",
    "Let's first load all the data containing the mESC cells, the AE3 and AE4 datasets. Import normalized data, data families interest and data family info"
   ]
  },
  {
   "cell_type": "code",
   "execution_count": 65,
   "metadata": {},
   "outputs": [],
   "source": [
    "#AE3\n",
    "AE3_scran_df = pyreadr.read_r('../data/family_datasets/data_norm/AE3_scran_norm.rds')\n",
    "AE3_scran_df = AE3_scran_df[None]\n",
    "\n",
    "data_families_interest_AE3 = pyreadr.read_r('../data/family_datasets/family_interest/families_of_interest_AE3_nocellcyclesplit.RData')\n",
    "data_families_interest_AE3 = data_families_interest_AE3['fois_1']\n",
    "\n",
    "data_families_info_AE3 = pyreadr.read_r('../data/family_datasets/family_info/family_info_AE3_nocellcyclesplit.RData')\n",
    "data_families_info_AE3 = data_families_info_AE3['family_info_1']\n",
    "\n",
    "#Conversion into array \n",
    "AE3_scran = np.array(AE3_scran_df)\n",
    "data_families_interest_AE3 = np.array(data_families_interest_AE3)\n",
    "data_families_info_AE3 = np.array(data_families_info_AE3) "
   ]
  },
  {
   "cell_type": "code",
   "execution_count": 66,
   "metadata": {},
   "outputs": [],
   "source": [
    "#AE4\n",
    "AE4_scran_df = pyreadr.read_r('../data/family_datasets/data_norm/AE4_scran_norm.rds')\n",
    "AE4_scran_df = AE4_scran_df[None]\n",
    "\n",
    "data_families_interest_AE4 = pyreadr.read_r('../data/family_datasets/family_interest/families_of_interest_AE4_nocellcyclesplit.RData')\n",
    "data_families_interest_AE4 = data_families_interest_AE4['fois_1']\n",
    "\n",
    "data_families_info_AE4 = pyreadr.read_r('../data/family_datasets/family_info/family_info_AE4_nocellcyclesplit.RData')\n",
    "data_families_info_AE4 = data_families_info_AE4['family_info_1']\n",
    "\n",
    "#Conversion into array \n",
    "AE4_scran = np.array(AE4_scran_df)\n",
    "data_families_interest_AE4 = np.array(data_families_interest_AE4)\n",
    "data_families_info_AE4 = np.array(data_families_info_AE4)  "
   ]
  },
  {
   "cell_type": "markdown",
   "metadata": {},
   "source": [
    "All cells that don't belong to a family of interest are removed independently in each data set."
   ]
  },
  {
   "cell_type": "code",
   "execution_count": 67,
   "metadata": {},
   "outputs": [
    {
     "name": "stdout",
     "output_type": "stream",
     "text": [
      "(32285, 333)\n"
     ]
    }
   ],
   "source": [
    "#Norm data with only the cells belonging to the family of interest\n",
    "AE3_scran_df = select_family_interest_norm_data(data_families_info_AE3, data_families_interest_AE3, AE3_scran_df)\n",
    "y_AE3 = AE3_scran_df[1]\n",
    "y_AE3 = y_AE3[:,0]\n",
    "y_AE3 = y_AE3.astype(np.int32)\n",
    "AE3_scran_df = AE3_scran_df[0]\n",
    "\n",
    "AE3 = np.array(AE3_scran_df)\n",
    "print(np.shape(AE3))"
   ]
  },
  {
   "cell_type": "code",
   "execution_count": 68,
   "metadata": {},
   "outputs": [
    {
     "name": "stdout",
     "output_type": "stream",
     "text": [
      "(32285, 1473)\n"
     ]
    }
   ],
   "source": [
    "#Norm data with only the cells belonging to the family of interest\n",
    "AE4_scran_df = select_family_interest_norm_data(data_families_info_AE4, data_families_interest_AE4, AE4_scran_df)\n",
    "y_AE4 = AE4_scran_df[1]\n",
    "y_AE4 = y_AE4[:,0]\n",
    "y_AE4 = y_AE4.astype(np.int32)\n",
    "AE4_scran_df = AE4_scran_df[0]\n",
    "\n",
    "AE4 = np.array(AE4_scran_df)\n",
    "print(np.shape(AE4))"
   ]
  },
  {
   "cell_type": "markdown",
   "metadata": {},
   "source": [
    "The data sets are now fused into one."
   ]
  },
  {
   "cell_type": "code",
   "execution_count": 69,
   "metadata": {},
   "outputs": [],
   "source": [
    "#Fuse mESC normalized data\n",
    "mESC_df = pd.concat([AE3_scran_df, AE4_scran_df], axis=1)\n",
    "#Fuse families info\n",
    "y_AE4 += max(y_AE3) #Add the max indice of families in first dataset so that there is no overlap between families indices.\n",
    "y_mESC = np.hstack((y_AE3, y_AE4))"
   ]
  },
  {
   "cell_type": "code",
   "execution_count": 72,
   "metadata": {},
   "outputs": [],
   "source": [
    "#Remove all genes that are not expressed in at least percentage (default 50%) of the mESC cells\n",
    "gene_expressed = filter_norm_data(mESC_df)\n",
    "mESC_df = mESC_df[gene_expressed]\n",
    "\n",
    "#Store the name of genes of interest\n",
    "genes_interest = mESC_df.index.values #get name of genes\n",
    "genes_interest = pd.DataFrame(genes_interest)\n",
    "genes_interest.to_csv('../data/processed_data/mESCgenes_interest.csv', index=False)\n",
    "\n",
    "#Convert into array\n",
    "mESC = np.array(mESC_df)\n",
    "\n",
    "#Create preprocess data \n",
    "mESCcsv = np.c_[mESC.T,y_mESC]\n",
    "mESCcsv = pd.DataFrame(mESCcsv)\n",
    "mESCcsv.to_csv('../data/processed_data/mESC.csv', index=False)"
   ]
  },
  {
   "cell_type": "markdown",
   "metadata": {},
   "source": [
    "# MEF cells (BIDDY DO, DO_2, D6, D6_2, D15, D15_2)\n",
    "Let's first load all the data containing the MEF cells, the BIDDY DO, DO_2, D6, D6_2, D15, and D15_2 datasets. Import normalized data, data families interest and data family info"
   ]
  },
  {
   "cell_type": "code",
   "execution_count": 76,
   "metadata": {},
   "outputs": [],
   "source": [
    "#DO\n",
    "DO_scran_df = pyreadr.read_r('../data/family_datasets/data_norm/BIDDY_D0_RPM_norm.rds')\n",
    "DO_scran_df = DO_scran_df[None]\n",
    "\n",
    "data_families_interest_DO = pyreadr.read_r('../data/family_datasets/family_interest/families_of_interest_BIDDY_D0.RData')\n",
    "data_families_interest_DO = data_families_interest_DO['fois_1']\n",
    "\n",
    "data_families_info_DO = pyreadr.read_r('../data/family_datasets/family_info/family_info_BIDDY_D0.RData')\n",
    "data_families_info_DO = data_families_info_DO['family_info_1']\n",
    "\n",
    "# conversion into array \n",
    "DO_scran = np.array(DO_scran_df)\n",
    "data_families_interest_DO = np.array(data_families_interest_DO)\n",
    "data_families_info_DO = np.array(data_families_info_DO)  "
   ]
  },
  {
   "cell_type": "code",
   "execution_count": 77,
   "metadata": {},
   "outputs": [],
   "source": [
    "#DO_2\n",
    "DO2_scran_df = pyreadr.read_r('../data/family_datasets/data_norm/BIDDY_D0_2_RPM_norm.rds')\n",
    "DO2_scran_df = DO2_scran_df[None]\n",
    "\n",
    "data_families_interest_DO2 = pyreadr.read_r('../data/family_datasets/family_interest/families_of_interest_BIDDY_D0_2.RData')\n",
    "data_families_interest_DO2 = data_families_interest_DO2['fois_1']\n",
    "\n",
    "data_families_info_DO2 = pyreadr.read_r('../data/family_datasets/family_info/family_info_BIDDY_D0_2.RData')\n",
    "data_families_info_DO2 = data_families_info_DO2['family_info_1']\n",
    "\n",
    "# conversion into array \n",
    "DO2_scran = np.array(DO2_scran_df)\n",
    "data_families_interest_DO2 = np.array(data_families_interest_DO2)\n",
    "data_families_info_DO2 = np.array(data_families_info_DO2) "
   ]
  },
  {
   "cell_type": "code",
   "execution_count": 78,
   "metadata": {},
   "outputs": [],
   "source": [
    "#D6\n",
    "D6_scran_df = pyreadr.read_r('../data/family_datasets/data_norm/BIDDY_D6_RPM_norm.rds')\n",
    "D6_scran_df = D6_scran_df[None]\n",
    "\n",
    "data_families_interest_D6 = pyreadr.read_r('../data/family_datasets/family_interest/families_of_interest_BIDDY_D6_V2.RData')\n",
    "data_families_interest_D6 = data_families_interest_D6['fois_1']\n",
    "\n",
    "data_families_info_D6 = pyreadr.read_r('../data/family_datasets/family_info/family_info_BIDDY_D6_V2.RData')\n",
    "data_families_info_D6 = data_families_info_D6['family_info_1']\n",
    "\n",
    "# conversion into array \n",
    "D6_scran = np.array(D6_scran_df)\n",
    "data_families_interest_D6 = np.array(data_families_interest_D6)\n",
    "data_families_info_D6 = np.array(data_families_info_D6) "
   ]
  },
  {
   "cell_type": "code",
   "execution_count": 79,
   "metadata": {},
   "outputs": [],
   "source": [
    "#D6_2\n",
    "D62_scran_df = pyreadr.read_r('../data/family_datasets/data_norm/BIDDY_D6_2_RPM_norm.rds')\n",
    "D62_scran_df= D62_scran_df[None]\n",
    "\n",
    "data_families_interest_D62 = pyreadr.read_r('../data/family_datasets/family_interest/families_of_interest_BIDDY_D6_2.RData')\n",
    "data_families_interest_D62 = data_families_interest_D62['fois_1']\n",
    "\n",
    "data_families_info_D62 = pyreadr.read_r('../data/family_datasets/family_info/family_info_BIDDY_D6_2.RData')\n",
    "data_families_info_D62 = data_families_info_D62['family_info_1']\n",
    "\n",
    "# conversion into array \n",
    "D62_scran = np.array(D62_scran_df)\n",
    "data_families_interest_D62 = np.array(data_families_interest_D62)\n",
    "data_families_info_D62 = np.array(data_families_info_D62)"
   ]
  },
  {
   "cell_type": "code",
   "execution_count": 80,
   "metadata": {},
   "outputs": [],
   "source": [
    "#D15\n",
    "D15_scran_df = pyreadr.read_r('../data/family_datasets/data_norm/BIDDY_D15_RPM_norm.rds')\n",
    "D15_scran_df = D15_scran_df[None]\n",
    "\n",
    "data_families_interest_D15 = pyreadr.read_r('../data/family_datasets/family_interest/families_of_interest_BIDDY_D15_V3.RData')\n",
    "data_families_interest_D15 = data_families_interest_D15['fois_1']\n",
    "\n",
    "data_families_info_D15 = pyreadr.read_r('../data/family_datasets/family_info/family_info_BIDDY_D15_V3.RData')\n",
    "data_families_info_D15 = data_families_info_D15['family_info_1']\n",
    "\n",
    "# conversion into array \n",
    "D15_scran = np.array(D15_scran_df)\n",
    "data_families_interest_D15 = np.array(data_families_interest_D15)\n",
    "data_families_info_D15 = np.array(data_families_info_D15) "
   ]
  },
  {
   "cell_type": "code",
   "execution_count": 81,
   "metadata": {},
   "outputs": [],
   "source": [
    "#D15_2\n",
    "D152_scran_df = pyreadr.read_r('../data/family_datasets/data_norm/BIDDY_D15_2_RPM_norm.rds')\n",
    "D152_scran_df = D152_scran_df[None]\n",
    "\n",
    "data_families_interest_D152 = pyreadr.read_r('../data/family_datasets/family_interest/families_of_interest_BIDDY_D15_2.RData')\n",
    "data_families_interest_D152 = data_families_interest_D152['fois_1']\n",
    "\n",
    "data_families_info_D152 = pyreadr.read_r('../data/family_datasets/family_info/family_info_BIDDY_D15_2.RData')\n",
    "data_families_info_D152 = data_families_info_D152['family_info_1']\n",
    "\n",
    "# conversion into array \n",
    "D152_scran = np.array(D152_scran_df)\n",
    "data_families_interest_D152 = np.array(data_families_interest_D152)\n",
    "data_families_info_D152 = np.array(data_families_info_D152)"
   ]
  },
  {
   "cell_type": "markdown",
   "metadata": {},
   "source": [
    "All cells that don't belong to a family of interest are removed independently in each data set."
   ]
  },
  {
   "cell_type": "code",
   "execution_count": 82,
   "metadata": {},
   "outputs": [
    {
     "name": "stdout",
     "output_type": "stream",
     "text": [
      "(32285, 112)\n"
     ]
    }
   ],
   "source": [
    "#Norm data with only the cells belonging to the family of interest\n",
    "DO_scran_df = select_family_interest_norm_data(data_families_info_DO, data_families_interest_DO, DO_scran_df)\n",
    "y_DO = DO_scran_df[1]\n",
    "y_DO = y_DO[:,0]\n",
    "y_DO = y_DO.astype(np.int32)\n",
    "DO_scran_df = DO_scran_df[0]\n",
    "\n",
    "DO = np.array(DO_scran_df)\n",
    "print(np.shape(DO))"
   ]
  },
  {
   "cell_type": "code",
   "execution_count": 83,
   "metadata": {},
   "outputs": [
    {
     "name": "stdout",
     "output_type": "stream",
     "text": [
      "(32285, 349)\n"
     ]
    }
   ],
   "source": [
    "#Norm data with only the cells belonging to the family of interest\n",
    "DO2_scran_df = select_family_interest_norm_data(data_families_info_DO2, data_families_interest_DO2, DO2_scran_df)\n",
    "y_DO2 = DO2_scran_df[1]\n",
    "y_DO2 = y_DO2[:,0]\n",
    "y_DO2 = y_DO2.astype(np.int32)\n",
    "DO2_scran_df = DO2_scran_df[0]\n",
    "\n",
    "DO2 = np.array(DO2_scran_df)\n",
    "print(np.shape(DO2))"
   ]
  },
  {
   "cell_type": "code",
   "execution_count": 84,
   "metadata": {},
   "outputs": [
    {
     "name": "stdout",
     "output_type": "stream",
     "text": [
      "(32285, 116)\n"
     ]
    }
   ],
   "source": [
    "#Norm data with only the cells belonging to the family of interest\n",
    "D6_scran_df = select_family_interest_norm_data(data_families_info_D6, data_families_interest_D6, D6_scran_df)\n",
    "y_D6 = D6_scran_df[1]\n",
    "y_D6 = y_D6[:,0]\n",
    "y_D6 = y_D6.astype(np.int32)\n",
    "D6_scran_df = D6_scran_df[0]\n",
    "\n",
    "D6 = np.array(D6_scran_df)\n",
    "print(np.shape(D6))"
   ]
  },
  {
   "cell_type": "code",
   "execution_count": 85,
   "metadata": {},
   "outputs": [
    {
     "name": "stdout",
     "output_type": "stream",
     "text": [
      "(32285, 38)\n"
     ]
    }
   ],
   "source": [
    "#Norm data with only the cells belonging to the family of interest\n",
    "D62_scran_df = select_family_interest_norm_data(data_families_info_D62, data_families_interest_D62, D62_scran_df)\n",
    "y_D62 = D62_scran_df[1]\n",
    "y_D62 = y_D62[:,0]\n",
    "y_D62 = y_D62.astype(np.int32)\n",
    "D62_scran_df = D62_scran_df[0]\n",
    "\n",
    "D62 = np.array(D62_scran_df)\n",
    "print(np.shape(D62))"
   ]
  },
  {
   "cell_type": "code",
   "execution_count": 86,
   "metadata": {},
   "outputs": [
    {
     "name": "stdout",
     "output_type": "stream",
     "text": [
      "(32285, 88)\n"
     ]
    }
   ],
   "source": [
    "#Norm data with only the cells belonging to the family of interest\n",
    "D15_scran_df = select_family_interest_norm_data(data_families_info_D15, data_families_interest_D15, D15_scran_df)\n",
    "y_D15 = D15_scran_df[1]\n",
    "y_D15 = y_D15[:,0]\n",
    "y_D15 = y_D15.astype(np.int32)\n",
    "D15_scran_df = D15_scran_df[0]\n",
    "\n",
    "D15 = np.array(D15_scran_df)\n",
    "print(np.shape(D15))"
   ]
  },
  {
   "cell_type": "code",
   "execution_count": 87,
   "metadata": {},
   "outputs": [
    {
     "name": "stdout",
     "output_type": "stream",
     "text": [
      "(32285, 90)\n"
     ]
    }
   ],
   "source": [
    "#Norm data with only the cells belonging to the family of interest\n",
    "D152_scran_df = select_family_interest_norm_data(data_families_info_D152, data_families_interest_D152, D152_scran_df)\n",
    "y_D152 = D152_scran_df[1]\n",
    "y_D152 = y_D152[:,0]\n",
    "y_D152 = y_D152.astype(np.int32)\n",
    "D152_scran_df = D152_scran_df[0]\n",
    "\n",
    "D152 = np.array(D152_scran_df)\n",
    "print(np.shape(D152))"
   ]
  },
  {
   "cell_type": "markdown",
   "metadata": {},
   "source": [
    "The data sets are now fused into one."
   ]
  },
  {
   "cell_type": "code",
   "execution_count": 88,
   "metadata": {},
   "outputs": [],
   "source": [
    "#Fuse MEF normalized data\n",
    "MEF_df = pd.concat([DO_scran_df, DO2_scran_df,D6_scran_df,D62_scran_df,D15_scran_df,D152_scran_df], axis=1)\n",
    "\n",
    "#Fuse families info\n",
    "y_DO2 += max(y_DO) #Add the max indice of families in first dataset so that there is no overlap between families indices.\n",
    "y_MEF = np.hstack((y_DO, y_DO2))\n",
    "\n",
    "y_D6 += max(y_MEF)\n",
    "y_MEF = np.hstack((y_MEF, y_D6))\n",
    "\n",
    "y_D62 += max(y_MEF)\n",
    "y_MEF = np.hstack((y_MEF, y_D62))\n",
    "\n",
    "y_D15 += max(y_MEF)\n",
    "y_MEF = np.hstack((y_MEF, y_D15))\n",
    "\n",
    "y_D152 += max(y_MEF)\n",
    "y_MEF = np.hstack((y_MEF, y_D152))"
   ]
  },
  {
   "cell_type": "code",
   "execution_count": 89,
   "metadata": {},
   "outputs": [],
   "source": [
    "#Remove all genes that are not expressed in at least percentage (default 50%) of the MEF cells\n",
    "gene_expressed = filter_norm_data(MEF_df)\n",
    "MEF_df = MEF_df[gene_expressed]\n",
    "\n",
    "#Store the name of genes of interest\n",
    "genes_interest = MEF_df.index.values #get name of genes\n",
    "genes_interest = pd.DataFrame(genes_interest)\n",
    "genes_interest.to_csv('../data/processed_data/MEFgenes_interest.csv', index=False)\n",
    "\n",
    "#Convert into array\n",
    "MEF = np.array(MEF_df)\n",
    "\n",
    "#Create preprocess data \n",
    "MEFcsv = np.c_[MEF.T,y_MEF]\n",
    "MEFcsv = pd.DataFrame(MEFcsv)\n",
    "MEFcsv.to_csv('../data/processed_data/MEF.csv', index=False)"
   ]
  },
  {
   "cell_type": "markdown",
   "metadata": {},
   "source": [
    "# T CD8+ cells: KIMMERLING CD8"
   ]
  },
  {
   "cell_type": "code",
   "execution_count": 73,
   "metadata": {},
   "outputs": [],
   "source": [
    "# import normalized data, data families interest and data family info of Kimmerling CD8 family\n",
    "\n",
    "df_CD8_norm = pd.read_csv ('../data/family_datasets/data_norm/Kimmerling_CD8_norm.csv')\n",
    "df_CD8_norm = df_CD8_norm.set_index('Unnamed: 0')     #transform 'Unnamed: 0' column into row label\n",
    "df_CD8_norm = df_CD8_norm.rename_axis(None)#change 'Unnamed: 0' row label into none\n",
    "\n",
    "#Remove genes with non-defined values and genes with only 0\n",
    "nan_genes = df_CD8_norm.any(axis=1)\n",
    "df_CD8_norm = df_CD8_norm[nan_genes]\n",
    "\n",
    "df_CD8_fam_info = pyreadr.read_r('../data/family_datasets/family_info/family_info_Kimmerling_CD8.RData')\n",
    "df_CD8_fam_info = df_CD8_fam_info['family_info_CD8']\n",
    "\n",
    "df_CD8_fam_interest = pyreadr.read_r('../data/family_datasets/family_interest/families_of_interest_Kimmerling_CD8.RData')\n",
    "df_CD8_fam_interest = df_CD8_fam_interest['fois_CD8']\n",
    "\n",
    "# conversion into array \n",
    "CD8_norm = np.array(df_CD8_norm)\n",
    "CD8_fam_interest = np.array(df_CD8_fam_interest)\n",
    "CD8_fam_info = np.array(df_CD8_fam_info)"
   ]
  },
  {
   "cell_type": "code",
   "execution_count": 75,
   "metadata": {},
   "outputs": [
    {
     "ename": "ValueError",
     "evalue": "Item wrong length 14980 instead of 6302.",
     "output_type": "error",
     "traceback": [
      "\u001b[1;31m---------------------------------------------------------------------------\u001b[0m",
      "\u001b[1;31mValueError\u001b[0m                                Traceback (most recent call last)",
      "\u001b[1;32m<ipython-input-75-05af9a530783>\u001b[0m in \u001b[0;36m<module>\u001b[1;34m\u001b[0m\n\u001b[0;32m      1\u001b[0m \u001b[1;31m#Remove all genes that are not expressed in at least percentage (default 50%) of the cells\u001b[0m\u001b[1;33m\u001b[0m\u001b[1;33m\u001b[0m\u001b[1;33m\u001b[0m\u001b[0m\n\u001b[0;32m      2\u001b[0m \u001b[0mgene_expressed\u001b[0m \u001b[1;33m=\u001b[0m \u001b[0mfilter_norm_data\u001b[0m\u001b[1;33m(\u001b[0m\u001b[0mCD8_norm\u001b[0m\u001b[1;33m)\u001b[0m\u001b[1;33m\u001b[0m\u001b[1;33m\u001b[0m\u001b[0m\n\u001b[1;32m----> 3\u001b[1;33m \u001b[0mdf_CD8_norm\u001b[0m \u001b[1;33m=\u001b[0m \u001b[0mdf_CD8_norm\u001b[0m\u001b[1;33m[\u001b[0m\u001b[0mgene_expressed\u001b[0m\u001b[1;33m]\u001b[0m\u001b[1;33m\u001b[0m\u001b[1;33m\u001b[0m\u001b[0m\n\u001b[0m\u001b[0;32m      4\u001b[0m \u001b[1;33m\u001b[0m\u001b[0m\n\u001b[0;32m      5\u001b[0m \u001b[1;31m#Norm data with only the cells belonging to the family of interest\u001b[0m\u001b[1;33m\u001b[0m\u001b[1;33m\u001b[0m\u001b[1;33m\u001b[0m\u001b[0m\n",
      "\u001b[1;32m~\\anaconda3\\lib\\site-packages\\pandas\\core\\frame.py\u001b[0m in \u001b[0;36m__getitem__\u001b[1;34m(self, key)\u001b[0m\n\u001b[0;32m   2891\u001b[0m         \u001b[1;31m# Do we have a (boolean) 1d indexer?\u001b[0m\u001b[1;33m\u001b[0m\u001b[1;33m\u001b[0m\u001b[1;33m\u001b[0m\u001b[0m\n\u001b[0;32m   2892\u001b[0m         \u001b[1;32mif\u001b[0m \u001b[0mcom\u001b[0m\u001b[1;33m.\u001b[0m\u001b[0mis_bool_indexer\u001b[0m\u001b[1;33m(\u001b[0m\u001b[0mkey\u001b[0m\u001b[1;33m)\u001b[0m\u001b[1;33m:\u001b[0m\u001b[1;33m\u001b[0m\u001b[1;33m\u001b[0m\u001b[0m\n\u001b[1;32m-> 2893\u001b[1;33m             \u001b[1;32mreturn\u001b[0m \u001b[0mself\u001b[0m\u001b[1;33m.\u001b[0m\u001b[0m_getitem_bool_array\u001b[0m\u001b[1;33m(\u001b[0m\u001b[0mkey\u001b[0m\u001b[1;33m)\u001b[0m\u001b[1;33m\u001b[0m\u001b[1;33m\u001b[0m\u001b[0m\n\u001b[0m\u001b[0;32m   2894\u001b[0m \u001b[1;33m\u001b[0m\u001b[0m\n\u001b[0;32m   2895\u001b[0m         \u001b[1;31m# We are left with two options: a single key, and a collection of keys,\u001b[0m\u001b[1;33m\u001b[0m\u001b[1;33m\u001b[0m\u001b[1;33m\u001b[0m\u001b[0m\n",
      "\u001b[1;32m~\\anaconda3\\lib\\site-packages\\pandas\\core\\frame.py\u001b[0m in \u001b[0;36m_getitem_bool_array\u001b[1;34m(self, key)\u001b[0m\n\u001b[0;32m   2937\u001b[0m             )\n\u001b[0;32m   2938\u001b[0m         \u001b[1;32melif\u001b[0m \u001b[0mlen\u001b[0m\u001b[1;33m(\u001b[0m\u001b[0mkey\u001b[0m\u001b[1;33m)\u001b[0m \u001b[1;33m!=\u001b[0m \u001b[0mlen\u001b[0m\u001b[1;33m(\u001b[0m\u001b[0mself\u001b[0m\u001b[1;33m.\u001b[0m\u001b[0mindex\u001b[0m\u001b[1;33m)\u001b[0m\u001b[1;33m:\u001b[0m\u001b[1;33m\u001b[0m\u001b[1;33m\u001b[0m\u001b[0m\n\u001b[1;32m-> 2939\u001b[1;33m             raise ValueError(\n\u001b[0m\u001b[0;32m   2940\u001b[0m                 \u001b[1;34mf\"Item wrong length {len(key)} instead of {len(self.index)}.\"\u001b[0m\u001b[1;33m\u001b[0m\u001b[1;33m\u001b[0m\u001b[0m\n\u001b[0;32m   2941\u001b[0m             )\n",
      "\u001b[1;31mValueError\u001b[0m: Item wrong length 14980 instead of 6302."
     ]
    }
   ],
   "source": [
    "#Remove all genes that are not expressed in at least percentage (default 50%) of the cells\n",
    "gene_expressed = filter_norm_data(CD8_norm)\n",
    "df_CD8_norm = df_CD8_norm[gene_expressed]\n",
    "\n",
    "#Norm data with only the cells belonging to the family of interest\n",
    "CD8 = select_family_interest_norm_data(CD8_fam_info, CD8_fam_interest, df_CD8_norm)\n",
    "y = CD8[1]\n",
    "y = y[:,0]\n",
    "CD8 = CD8[0].T\n",
    "\n",
    "#Remove cells not expressing anything (only 0 for each genes)\n",
    "CD8 = CD8.drop(['CD8_91', 'CD8_103'])\n",
    "y = np.delete(y,[36,39],0)\n",
    "\n",
    "#Store the name of genes of interest\n",
    "genes_interest = df_CD8_norm.index.values #get name of genes\n",
    "genes_interest = pd.DataFrame(genes_interest)\n",
    "genes_interest.to_csv('../data/processed_data/CD8genes_interest.csv', index=False)\n",
    "\n",
    "#Create data\n",
    "CD8csv = np.c_[CD8.T,y]\n",
    "CD8csv = pd.DataFrame(CD8csv)\n",
    "CD8csv.to_csv('../data/processed_data/CD8.csv', index=False)"
   ]
  },
  {
   "cell_type": "markdown",
   "metadata": {},
   "source": [
    "# KIMMERLING L120"
   ]
  },
  {
   "cell_type": "code",
   "execution_count": 26,
   "metadata": {},
   "outputs": [
    {
     "name": "stdout",
     "output_type": "stream",
     "text": [
      "<class 'int'>\n"
     ]
    }
   ],
   "source": [
    "# import normalized data, data families interest and data family info of Kimmerling CD8 family\n",
    "\n",
    "df_CD8_norm = pd.read_csv ('../data/family_datasets/data_norm/Kimmerling_L1210_norm.csv')\n",
    "df_CD8_norm = df_CD8_norm.set_index('Unnamed: 0')     #transform 'Unnamed: 0' column into row label\n",
    "df_CD8_norm = df_CD8_norm.rename_axis(None)#change 'Unnamed: 0' row label into none\n",
    "\n",
    "#Remove genes with non-defined values and genes with only 0\n",
    "nan_genes = df_CD8_norm.any(axis=1)\n",
    "df_CD8_norm = df_CD8_norm[nan_genes]\n",
    "\n",
    "df_CD8_fam_info = pyreadr.read_r('../data/family_datasets/family_info/family_info_Kimmerling_L1210.RData')\n",
    "df_CD8_fam_info = df_CD8_fam_info['family_info_L1210']\n",
    "\n",
    "df_CD8_fam_interest = pyreadr.read_r('../data/family_datasets/family_interest/families_of_interest_Kimmerling_L1210.RData')\n",
    "df_CD8_fam_interest = df_CD8_fam_interest['fois_L1210']\n",
    "\n",
    "df_CD8_master = pyreadr.read_r('../data/data_master/Master_Almut_kimmerling_L1210_20_families_nocellcyclesplit.rds')\n",
    "df_CD8_master = df_CD8_master[None]      #transform into dataframe\n",
    "df_CD8_master = df_CD8_master.set_index('gene')     #transform 'gene' column into row label\n",
    "#remove genes with non defined values\n",
    "df_CD8_master = df_CD8_master[nan_genes]\n",
    "\n",
    "# conversion into array \n",
    "CD8_norm = np.array(df_CD8_norm)\n",
    "CD8_fam_interest = np.array(df_CD8_fam_interest)\n",
    "CD8_fam_info = np.array(df_CD8_fam_info)\n",
    "CD8_master = np.array(df_CD8_master) \n",
    "\n",
    "print(type(CD8_fam_info[0,0]))"
   ]
  },
  {
   "cell_type": "code",
   "execution_count": 7,
   "metadata": {},
   "outputs": [
    {
     "name": "stdout",
     "output_type": "stream",
     "text": [
      "(67, 15157)\n"
     ]
    }
   ],
   "source": [
    "#Remove all genes that are not expressed in at least percentage (default 50%) of the cells\n",
    "gene_expressed = filter_norm_data(CD8_norm)\n",
    "df_CD8_norm = df_CD8_norm[gene_expressed]\n",
    "\n",
    "#Norm data with only the cells belonging to the family of interest\n",
    "CD8 = select_family_interest_norm_data(CD8_fam_info, CD8_fam_interest, df_CD8_norm)\n",
    "y = CD8[1]\n",
    "y = y[:,0]\n",
    "CD8 = CD8[0].T\n",
    "\n",
    "#Remove cells not expressing anything (only 0 for each genes)\n",
    "CD8 = CD8.drop(['L1210_79'])\n",
    "y = np.delete(y,[30],0)\n",
    "\n",
    "#Store the name of genes of interest\n",
    "genes_interest = df_CD8_norm.index.values #get name of genes\n",
    "genes_interest = pd.DataFrame(genes_interest)\n",
    "genes_interest.to_csv('../data/processed_data/L120genes_interest.csv', index=False)\n",
    "\n",
    "#Create data\n",
    "y = pd.DataFrame(y)\n",
    "CD8.to_csv('../data/processed_data/L120.csv', index=False)\n",
    "y.to_csv('../data/processed_data/L120_familiescsv.csv', index=False)\n",
    "print(np.shape(CD8))"
   ]
  },
  {
   "cell_type": "markdown",
   "metadata": {},
   "source": [
    "# Weinreb data"
   ]
  },
  {
   "cell_type": "markdown",
   "metadata": {},
   "source": [
    "# LK"
   ]
  },
  {
   "cell_type": "code",
   "execution_count": 33,
   "metadata": {},
   "outputs": [],
   "source": [
    "# import normalized data, data families interest and data family info of Kimmerling CD8 family\n",
    "df_CD8_norm = pd.read_csv ('../data/family_datasets/data_norm/Weinreb_LK_D2_exp1_norm_lifted.csv')\n",
    "df_CD8_norm = df_CD8_norm.set_index('Unnamed: 0')     #transform 'Unnamed: 0' column into row label\n",
    "df_CD8_norm = df_CD8_norm.rename_axis(None)#change 'Unnamed: 0' row label into none\n",
    "\n",
    "#Remove genes with non-defined values and genes with only 0\n",
    "nan_genes = df_CD8_norm.any(axis=1)\n",
    "df_CD8_norm = df_CD8_norm[nan_genes]\n",
    "\n",
    "df_CD8_fam_info = pyreadr.read_r('../data/family_datasets/family_info/family_info_Weinreb_LK_D2_exp1.RData')\n",
    "df_CD8_fam_info = df_CD8_fam_info['WORK_clones']\n",
    "\n",
    "df_CD8_fam_interest = pyreadr.read_r('../data/family_datasets/family_interest/families_of_interest_Weinreb_LK_D2_exp1.RData')\n",
    "df_CD8_fam_interest = df_CD8_fam_interest['fois_1']\n",
    "\n",
    "# conversion into array \n",
    "CD8_norm = np.array(df_CD8_norm)\n",
    "CD8_fam_interest = np.array(df_CD8_fam_interest)\n",
    "CD8_fam_info = np.array(df_CD8_fam_info)\n",
    "CD8_fam_info[:,0] = CD8_fam_info[:,0].astype(int)"
   ]
  },
  {
   "cell_type": "code",
   "execution_count": 34,
   "metadata": {},
   "outputs": [
    {
     "name": "stdout",
     "output_type": "stream",
     "text": [
      "(531, 23107)\n"
     ]
    }
   ],
   "source": [
    "#Norm data with only the cells belonging to the family of interest\n",
    "CD8 = select_family_interest_norm_data(CD8_fam_info, CD8_fam_interest, df_CD8_norm)\n",
    "y = CD8[1]\n",
    "y = y[:,0]\n",
    "CD8 = CD8[0].T\n",
    "\n",
    "\n",
    "#Create data\n",
    "y = pd.DataFrame(y)\n",
    "CD8.to_csv('../data/processed_data/LKcsv.csv', index=False)\n",
    "y.to_csv('../data/processed_data/LK_familiescsv.csv', index=False)\n",
    "print(np.shape(CD8))"
   ]
  },
  {
   "cell_type": "markdown",
   "metadata": {},
   "source": [
    "# LSK"
   ]
  },
  {
   "cell_type": "code",
   "execution_count": 39,
   "metadata": {},
   "outputs": [],
   "source": [
    "# import normalized data, data families interest and data family info of Kimmerling CD8 family\n",
    "df_CD8_norm = pd.read_csv ('../data/family_datasets/data_norm/Weinreb_LSK_D2_exp1_norm_lifted.csv')\n",
    "df_CD8_norm = df_CD8_norm.set_index('Unnamed: 0')     #transform 'Unnamed: 0' column into row label\n",
    "df_CD8_norm = df_CD8_norm.rename_axis(None)#change 'Unnamed: 0' row label into none\n",
    "\n",
    "#Remove genes with non-defined values and genes with only 0\n",
    "nan_genes = df_CD8_norm.any(axis=1)\n",
    "df_CD8_norm = df_CD8_norm[nan_genes]\n",
    "\n",
    "df_CD8_fam_info = pyreadr.read_r('../data/family_datasets/family_info/family_info_Weinreb_LSK_D2_exp1.RData')\n",
    "df_CD8_fam_info = df_CD8_fam_info['WORK_clones']\n",
    "\n",
    "df_CD8_fam_interest = pyreadr.read_r('../data/family_datasets/family_interest/families_of_interest_Weinreb_LSK_D2_exp1.RData')\n",
    "df_CD8_fam_interest = df_CD8_fam_interest['fois_1']\n",
    "\n",
    "# conversion into array \n",
    "CD8_norm = np.array(df_CD8_norm)\n",
    "CD8_fam_interest = np.array(df_CD8_fam_interest)\n",
    "CD8_fam_info = np.array(df_CD8_fam_info)\n",
    "CD8_fam_info[:,0] = CD8_fam_info[:,0].astype(int)"
   ]
  },
  {
   "cell_type": "code",
   "execution_count": 40,
   "metadata": {},
   "outputs": [
    {
     "name": "stdout",
     "output_type": "stream",
     "text": [
      "(781, 21357)\n"
     ]
    }
   ],
   "source": [
    "#Norm data with only the cells belonging to the family of interest\n",
    "CD8 = select_family_interest_norm_data(CD8_fam_info, CD8_fam_interest, df_CD8_norm)\n",
    "y = CD8[1]\n",
    "y = y[:,0]\n",
    "CD8 = CD8[0].T\n",
    "\n",
    "\n",
    "#Create data\n",
    "y = pd.DataFrame(y)\n",
    "CD8.to_csv('../data/processed_data/LSKcsv.csv', index=False)\n",
    "y.to_csv('../data/processed_data/LSK_familiescsv.csv', index=False)\n",
    "print(np.shape(CD8))"
   ]
  },
  {
   "cell_type": "code",
   "execution_count": null,
   "metadata": {},
   "outputs": [],
   "source": []
  }
 ],
 "metadata": {
  "kernelspec": {
   "display_name": "Python 3",
   "language": "python",
   "name": "python3"
  },
  "language_info": {
   "codemirror_mode": {
    "name": "ipython",
    "version": 3
   },
   "file_extension": ".py",
   "mimetype": "text/x-python",
   "name": "python",
   "nbconvert_exporter": "python",
   "pygments_lexer": "ipython3",
   "version": "3.8.5"
  }
 },
 "nbformat": 4,
 "nbformat_minor": 4
}
