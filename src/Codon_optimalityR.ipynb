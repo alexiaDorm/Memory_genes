{
 "cells": [
  {
   "cell_type": "code",
   "execution_count": 92,
   "metadata": {},
   "outputs": [],
   "source": [
    "codon_freq <- read.csv('../data/mouse_codon_freq.csv')\n",
    "var <- 0.78"
   ]
  },
  {
   "cell_type": "code",
   "execution_count": 95,
   "metadata": {},
   "outputs": [],
   "source": [
    "compute_CAI <- function(sequence, codon_freq){\n",
    "    #' Compute the Codon Adaptation Index (CAI) of a given protein/mRNA sequence\n",
    "    #'\n",
    "    #' @param sequence (character): sequence of the protein/mRNA transcript of interest\n",
    "    #' @param codon_freq (list): frequencies of each codon and corresponding amino acid (species specific)\n",
    "    #' @return CAI(double): computed Codon adaptation index (CAI), returned values are between 0 and 1\n",
    "\n",
    "    #Convert T to U\n",
    "    sequence <- gsub(\"T\", \"U\", sequence)\n",
    "    \n",
    "    L <- nchar(sequence)/3\n",
    "    CAI <- 0\n",
    "    for (i in (0:(L-1))){\n",
    "        codon = substr(sequence, 3*i + 1,3*i + 3)\n",
    "        #freq = codon_freq[codon_freq$X == codon]\n",
    "        #aa = t(codon_freq)[codon][1]\n",
    "        #freq_max = max((codon_freq[codon_freq$'amino acid'==aa])['freq'])\n",
    "        \n",
    "        #w = np.log(freq/freq_max)\n",
    "        #CAI <- CAI + w\n",
    "    }\n",
    "        \n",
    "    #CAI <- np.exp(1/L * CAI)\n",
    "    \n",
    "    return (CAI)\n",
    "}"
   ]
  },
  {
   "cell_type": "code",
   "execution_count": 96,
   "metadata": {},
   "outputs": [
    {
     "ename": "ERROR",
     "evalue": "Error in `[.data.frame`(codon_freq, codon_freq$X == codon): undefined columns selected\n",
     "output_type": "error",
     "traceback": [
      "Error in `[.data.frame`(codon_freq, codon_freq$X == codon): undefined columns selected\nTraceback:\n",
      "1. compute_CAI(amylase1, codon_freq)",
      "2. codon_freq[codon_freq$X == codon]   # at line 15 of file <text>",
      "3. `[.data.frame`(codon_freq, codon_freq$X == codon)   # at line 15 of file <text>",
      "4. stop(\"undefined columns selected\")"
     ]
    }
   ],
   "source": [
    "amylase1 = 'ATGAAATTCTTCCTGCTGCTTTCCCTCATTGGATTCTGCTGGGCCCAATATGACCCACATACTCAATATGGACGAACTGCTATTGTCCACCTGTTTGAGTGGCGCTGGGTTGATATTGCTAAGGAATGTGAGAGATACTTAGCTCCTAATGGATTTGCAGGTGTGCAGGTCTCTCCACCCAATGAAAACATCGTAGTCCACAGCCCTTCAAGACCATGGTGGGAAAGATATCAACCAATTAGCTACAAAATATGTTCCAGGTCTGGAAATGAAGATGAATTCAGGGACATGGTGAACAGGTGCAACAATGTTGGTGTCCGTATTTATGTGGATGCTGTCATTAACCACATGTGTGGAGTGGGGGCTCAAGCTGGACAAAGCAGTACATGTGGAAGTTATTTCAACCCAAATAACAGGGACTTTCCTGGAGTTCCCTATTCTGGTTTTGACTTTAATGATGGAAAATGTAGAACTGCAAGTGGAGGTATCGAGAACTACCAAGATGCTGCTCAGGTCAGAGATTGTCGTCTGTCTGGCCTTCTGGATCTTGCACTTGAGAAAGATTATGTTCGAACCAAGGTGGCTGACTATATGAACCATCTCATTGACATTGGCGTAGCAGGGTTCAGACTTGATGCTTCTAAGCACATGTGGCCTGGAGACATAAAGGCAATTTTGGACAAACTGCATAATCTCAATACAAAATGGTTCTCCCAAGGAAGCAGACCTTTCATTTTCCAAGAGGTGATTGATCTGGGTGGTGAGGCAGTGTCAAGTAATGAGTATTTTGGAAATGGCCGTGTGACAGAATTCAAATATGGAGCAAAATTGGGCAAAGTTATGCGCAAGTGGGATGGAGAAAAGATGTCCTACTTAAAGAACTGGGGAGAAGGTTGGGGTTTGATGCCTTCTGACAGAGCCCTTGTGTTTGTGGACAACCATGACAATCAGCGAGGACATGGTGCTGGGGGAGCATCCATCTTGACATTCTGGGATGCTAGACTCTATAAAATGGCTGTTGGCTTTATGTTGGCTCATCCTTATGGTTTCACACGGGTGATGTCAAGTTACTATTGGCCAAGAAATTTCCAGAATGGAAAAGATGTCAATGACTGGGTTGGACCACCAAATAACAATGGAAAAACCAAAGAAGTGAGCATTAACCCAGACAGCACTTGTGGCAATGACTGGATCTGTGAACATCGATGGCGTCAAATAAGGAACATGGTTGCCTTCAGAAATGTCGTCAATGGTCAGCCTTTTGCAAACTGGTGGGATAATGACAGCAACCAGGTAGCTTTTGGCAGAGGAAACAAAGGATTCATTGTCTTTAACAATGATGACTGGGCTTTGTCAGAAACTTTACAGACTGGTCTTCCTGCTGGCACATACTGTGATGTCATTTCTGGAGATAAAGTCGATGGCAATTGCACTGGAATAAAAGTCTATGTTGGCAATGATGGCAAAGCTCACTTTTCTATTAGTAACTCTGCCGAAGACCCATTTATTGCAATCCATGCAGAGTCAAAAATATAA'\n",
    "compute_CAI(amylase1,codon_freq)"
   ]
  },
  {
   "cell_type": "code",
   "execution_count": null,
   "metadata": {},
   "outputs": [],
   "source": []
  }
 ],
 "metadata": {
  "kernelspec": {
   "display_name": "R",
   "language": "R",
   "name": "ir"
  },
  "language_info": {
   "codemirror_mode": "r",
   "file_extension": ".r",
   "mimetype": "text/x-r-source",
   "name": "R",
   "pygments_lexer": "r",
   "version": "3.6.1"
  }
 },
 "nbformat": 4,
 "nbformat_minor": 4
}
