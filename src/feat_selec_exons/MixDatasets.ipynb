{
 "cells": [
  {
   "cell_type": "code",
   "execution_count": 1,
   "metadata": {},
   "outputs": [],
   "source": [
    "%cd \"../\"\n",
    "%pwd\n",
    "\n",
    "import numpy as np\n",
    "import matplotlib.pyplot as plt\n",
    "\n",
    "import io \n",
    "import pandas as pd  \n",
    "import pyreadr\n",
    "\n",
    "from load_data import *\n",
    "from pred_score import *\n",
    "from Filter_FS import *\n",
    "from hybrid_FS import *\n",
    "from overlap_genes import *\n",
    "from crossValidation import *"
   ]
  },
  {
   "cell_type": "code",
   "execution_count": 2,
   "metadata": {},
   "outputs": [],
   "source": [
    "#Fixing seed to get reproducible results\n",
    "random.seed(3)\n",
    "np.random.seed(3)"
   ]
  },
  {
   "cell_type": "markdown",
   "metadata": {},
   "source": [
    "# AE: AE3, AE4 fused"
   ]
  },
  {
   "cell_type": "code",
   "execution_count": 6,
   "metadata": {},
   "outputs": [
    {
     "name": "stdout",
     "output_type": "stream",
     "text": [
      "(32285, 333) (333,)\n",
      "(32285, 1473) (1473,)\n",
      "(32285, 1806)\n",
      "(10470, 1806)\n"
     ]
    }
   ],
   "source": [
    "#Load AE3 data\n",
    "AE3 = pd.read_csv ('../data/merged_data/AE3.csv')\n",
    "AE3 = AE3.set_index('Unnamed: 0')\n",
    "y_AE3 = np.squeeze(np.array(pd.read_csv('../data/merged_data/y_AE3.csv')))\n",
    "print(np.shape(AE3), np.shape(y_AE3))\n",
    "\n",
    "#Load AE4 data\n",
    "AE4 = pd.read_csv ('../data/merged_data/AE4.csv')\n",
    "AE4 = AE4.set_index('Unnamed: 0')\n",
    "y_AE4 = np.squeeze(np.array(pd.read_csv('../data/merged_data/y_AE4.csv')))\n",
    "print(np.shape(AE4), np.shape(y_AE4))\n",
    "\n",
    "AE = pd.concat([AE3, AE4], axis=1)\n",
    "print(AE.shape)\n",
    "\n",
    "#Fuse families info\n",
    "y_AE4 += max(y_AE3) #Add the max indice of families in first dataset so that there is no overlap between families indices.\n",
    "y_AE = np.hstack((y_AE3, y_AE4))\n",
    "\n",
    "#Remove all genes that are not expressed in at least percentage (default 50%) of the all cells\n",
    "gene_expressed = filter_norm_data(AE,0.05)\n",
    "AE = AE[gene_expressed]\n",
    "print(AE.shape)\n",
    "\n",
    "#Store the name of genes of interest\n",
    "genes_interest = AE.index.values #get name of genes\n",
    "pd.DataFrame(genes_interest).to_csv('../data/processed_data/AE_interest.csv', index=False)\n",
    "\n",
    "#Create preprocess data \n",
    "AE.to_csv('../data/processed_data/AE.csv', index=False)\n",
    "pd.DataFrame(y_AE).to_csv('../data/processed_data/y_AE.csv', index=False)"
   ]
  },
  {
   "cell_type": "markdown",
   "metadata": {},
   "source": [
    "# Baseline with genes expressed at least in 5% of cells"
   ]
  },
  {
   "cell_type": "code",
   "execution_count": 3,
   "metadata": {},
   "outputs": [
    {
     "name": "stdout",
     "output_type": "stream",
     "text": [
      "(10470, 1806) (1806,)\n"
     ]
    }
   ],
   "source": [
    "#Load preprocess data\n",
    "AE = pd.read_csv ('../data/processed_data/AE.csv')\n",
    "y = np.squeeze(np.array(pd.read_csv('../data/processed_data/y_AE.csv')))\n",
    "print(np.shape(AE), np.shape(y))"
   ]
  },
  {
   "cell_type": "code",
   "execution_count": null,
   "metadata": {},
   "outputs": [],
   "source": [
    "#Predict and evaluate\n",
    "model = FamiliesClusters(np.unique(y),compute_precision,True)\n",
    "pred = model.fit_predict(AE,y)"
   ]
  },
  {
   "cell_type": "code",
   "execution_count": null,
   "metadata": {},
   "outputs": [],
   "source": [
    "print(AE.shape, len(pred))\n",
    "acc = model.score_\n",
    "print(acc, model.recovery)"
   ]
  },
  {
   "cell_type": "code",
   "execution_count": null,
   "metadata": {},
   "outputs": [],
   "source": [
    "print(\"TP, FP, ratio, sensitivity, specificity, precision, NPV, FDR, FNR = \", compute_statTP(y,pred))"
   ]
  },
  {
   "cell_type": "markdown",
   "metadata": {},
   "source": [
    "# Mutual information maximizer (MIM)"
   ]
  },
  {
   "cell_type": "code",
   "execution_count": null,
   "metadata": {
    "tags": []
   },
   "outputs": [],
   "source": [
    "#Define parameters for MIM method\n",
    "N = np.arange(80,1500,30)\n",
    "kwargs = {'Model': FamiliesClusters, 'Scoring': compute_precision,'maximize': True,'N': N, 'n_neighbors': 3, 'plot': True} \n",
    "\n",
    "subset, score_training, score_testing = cross_validation(y,AE, FamiliesClusters, compute_precision,True, 5,  MIM, **kwargs)\n",
    "\n",
    "mean_score_test, std_score_test = np.mean(score_testing), np.std(score_testing)    \n",
    "print('test', mean_score_test, std_score_test)\n",
    "\n",
    "#Predict and evaluate on whole data  set\n",
    "model = FamiliesClusters(np.unique(y),compute_RI,True)\n",
    "x_subset = AE[:, subset]\n",
    "pred = model.fit_predict(x_subset,y)\n",
    "\n",
    "print(\"TP, FP, ratio, sensitivity, specificity, precision, NPV, FDR, FNR = \", compute_statTP(y,pred))"
   ]
  },
  {
   "cell_type": "code",
   "execution_count": null,
   "metadata": {},
   "outputs": [],
   "source": [
    "get_best_genes_names(subset, '../data/processed_data/AEgenes_interest.csv', '../data/optimized_subsets/AEgenes_bestMIM.csv')"
   ]
  },
  {
   "cell_type": "markdown",
   "metadata": {
    "id": "lPqyZ49FMaxj"
   },
   "source": [
    "# Anova F test"
   ]
  },
  {
   "cell_type": "code",
   "execution_count": null,
   "metadata": {},
   "outputs": [],
   "source": [
    "#Define parameters for ANOVA method\n",
    "N = np.arange(900,2000,10)\n",
    "kwargs = {'Model': FamiliesClusters, 'Scoring': compute_precision,'maximize': True,'N': N, 'plot': True} \n",
    "\n",
    "subset, score_training, score_testing = cross_validation(y,AE, FamiliesClusters, compute_precision,True, 5,  ANOVA, **kwargs)\n",
    "\n",
    "mean_score_test, std_score_test = np.mean(score_testing), np.std(score_testing)    \n",
    "print('test', mean_score_test, std_score_test)\n",
    "\n",
    "#Predict and evaluate on whole data  set\n",
    "model = FamiliesClusters(np.unique(y),compute_precision,True)\n",
    "x_subset = AE[:, subset]\n",
    "pred = model.fit_predict(x_subset,y)\n",
    "\n",
    "print(\"TP, FP, ratio, sensitivity, specificity, precision, NPV, FDR, FNR = \", compute_statTP(y,pred))    \n",
    "print(len(subset))"
   ]
  },
  {
   "cell_type": "code",
   "execution_count": null,
   "metadata": {},
   "outputs": [],
   "source": [
    "get_best_genes_names(subset, '../data/processed_data/AEgenes_interest.csv', '../data/optimized_subsets/AEgenes_bestANOVA.csv')"
   ]
  },
  {
   "cell_type": "markdown",
   "metadata": {},
   "source": [
    "# AE3-MEF: AE3, MEF fused"
   ]
  },
  {
   "cell_type": "code",
   "execution_count": 5,
   "metadata": {},
   "outputs": [
    {
     "name": "stdout",
     "output_type": "stream",
     "text": [
      "(32285, 333) (333,)\n",
      "(32285, 461) (461,)\n",
      "(32285, 154) (154,)\n",
      "(32285, 178) (178,)\n",
      "(32285, 1126)\n",
      "(11485, 1126)\n"
     ]
    }
   ],
   "source": [
    "#Load AE3 data\n",
    "AE3 = pd.read_csv ('../data/merged_data/AE3.csv')\n",
    "AE3 = AE3.set_index('Unnamed: 0')\n",
    "y_AE3 = np.squeeze(np.array(pd.read_csv('../data/merged_data/y_AE3.csv')))\n",
    "print(np.shape(AE3), np.shape(y_AE3))\n",
    "\n",
    "#Load BIDDY D0 data\n",
    "D0 = pd.read_csv ('../data/merged_data/D0.csv')\n",
    "D0 = D0.set_index('Unnamed: 0')\n",
    "y_D0 = np.squeeze(np.array(pd.read_csv('../data/merged_data/y_D0.csv')))\n",
    "print(np.shape(D0), np.shape(y_D0))\n",
    "\n",
    "#Load BIDDY D6 data\n",
    "D6 = pd.read_csv ('../data/merged_data/D6.csv')\n",
    "D6 = D6.set_index('Unnamed: 0')\n",
    "y_D6 = np.squeeze(np.array(pd.read_csv('../data/merged_data/y_D6.csv')))\n",
    "print(np.shape(D6), np.shape(y_D6))\n",
    "\n",
    "#Load BIDDY D15 data\n",
    "D15 = pd.read_csv ('../data/merged_data/D15.csv')\n",
    "D15 = D15.set_index('Unnamed: 0')\n",
    "y_D15 = np.squeeze(np.array(pd.read_csv('../data/merged_data/y_D15.csv')))\n",
    "print(np.shape(D15), np.shape(y_D15))\n",
    "\n",
    "AE3_MEF = pd.concat([AE3, D0,D6,D15], axis=1)\n",
    "print(AE3_MEF.shape)\n",
    "\n",
    "#Fuse families infos\n",
    "y_D0 += max(y_AE3)\n",
    "y_AE3_MEF = np.hstack((y_AE3, y_D0))\n",
    "\n",
    "y_D6 += max(y_AE3_MEF)\n",
    "y_AE3_MEF = np.hstack((y_AE3_MEF, y_D6))\n",
    "\n",
    "y_D15 += max(y_AE3_MEF)\n",
    "y_AE3_MEF = np.hstack((y_AE3_MEF, y_D15))\n",
    "\n",
    "#Remove all genes that are not expressed in at least percentage (default 50%) of the all cells\n",
    "gene_expressed = filter_norm_data(AE3_MEF,0.05)\n",
    "AE3_MEF = AE3_MEF[gene_expressed]\n",
    "print(AE3_MEF.shape)\n",
    "\n",
    "#Store the name of genes of interest\n",
    "genes_interest = AE3_MEF.index.values #get name of genes\n",
    "pd.DataFrame(genes_interest).to_csv('../data/processed_data/AE3_MEF_interest.csv', index=False)\n",
    "\n",
    "#Create preprocess data \n",
    "AE3_MEF.to_csv('../data/processed_data/AE3_MEF.csv', index=False)\n",
    "pd.DataFrame(y_AE3_MEF).to_csv('../data/processed_data/y_AE3_MEF.csv', index=False)"
   ]
  },
  {
   "cell_type": "markdown",
   "metadata": {},
   "source": [
    "# Baseline with genes expressed at least in 5% of cells"
   ]
  },
  {
   "cell_type": "code",
   "execution_count": 6,
   "metadata": {},
   "outputs": [
    {
     "name": "stdout",
     "output_type": "stream",
     "text": [
      "(11485, 1126) (1126,)\n"
     ]
    }
   ],
   "source": [
    "#Load preprocess data\n",
    "AE3_MEF = pd.read_csv ('../data/processed_data/AE3_MEF.csv')\n",
    "y = np.squeeze(np.array(pd.read_csv('../data/processed_data/y_AE3_MEF.csv')))\n",
    "print(np.shape(AE3_MEF), np.shape(y))"
   ]
  },
  {
   "cell_type": "code",
   "execution_count": null,
   "metadata": {},
   "outputs": [],
   "source": [
    "#Predict and evaluate\n",
    "model = FamiliesClusters(np.unique(y),compute_precision,True)\n",
    "pred = model.fit_predict(AE3_MEF,y)\n",
    "\n",
    "print(model.score_, model.recovery)"
   ]
  },
  {
   "cell_type": "markdown",
   "metadata": {},
   "source": [
    "# Mutual information maximizer (MIM)"
   ]
  },
  {
   "cell_type": "code",
   "execution_count": null,
   "metadata": {
    "tags": []
   },
   "outputs": [],
   "source": [
    "#Define parameters for MIM method\n",
    "N = np.arange(80,1500,30)\n",
    "kwargs = {'Model': FamiliesClusters, 'Scoring': compute_precision,'maximize': True,'N': N, 'n_neighbors': 3, 'plot': True} \n",
    "\n",
    "subset, score_training, score_testing = cross_validation(y,AE3_MEF, FamiliesClusters, compute_precision,True, 5,  MIM, **kwargs)\n",
    "\n",
    "mean_score_test, std_score_test = np.mean(score_testing), np.std(score_testing)    \n",
    "print('test', mean_score_test, std_score_test)\n",
    "\n",
    "#Predict and evaluate on whole data  set\n",
    "model = FamiliesClusters(np.unique(y),compute_RI,True)\n",
    "x_subset = AE3_MEF[:, subset]\n",
    "pred = model.fit_predict(x_subset,y)\n",
    "\n",
    "print(\"TP, FP, ratio, sensitivity, specificity, precision, NPV, FDR, FNR = \", compute_statTP(y,pred))"
   ]
  },
  {
   "cell_type": "code",
   "execution_count": null,
   "metadata": {},
   "outputs": [],
   "source": [
    "get_best_genes_names(subset, '../data/processed_data/AE3_MEFgenes_interest.csv', '../data/optimized_subsets/AE3_MEFgenes_bestMIM.csv')"
   ]
  },
  {
   "cell_type": "markdown",
   "metadata": {
    "id": "lPqyZ49FMaxj"
   },
   "source": [
    "# Anova F test"
   ]
  },
  {
   "cell_type": "code",
   "execution_count": null,
   "metadata": {},
   "outputs": [],
   "source": [
    "#Define parameters for ANOVA method\n",
    "N = np.arange(900,2000,10)\n",
    "kwargs = {'Model': FamiliesClusters, 'Scoring': compute_precision,'maximize': True,'N': N, 'plot': True} \n",
    "\n",
    "subset, score_training, score_testing = cross_validation(y,AE3_MEF, FamiliesClusters, compute_precision,True, 5,  ANOVA, **kwargs)\n",
    "\n",
    "mean_score_test, std_score_test = np.mean(score_testing), np.std(score_testing)    \n",
    "print('test', mean_score_test, std_score_test)\n",
    "\n",
    "#Predict and evaluate on whole data  set\n",
    "model = FamiliesClusters(np.unique(y),compute_precision,True)\n",
    "x_subset = AE3_MEF[:, subset]\n",
    "pred = model.fit_predict(x_subset,y)\n",
    "\n",
    "print(\"TP, FP, ratio, sensitivity, specificity, precision, NPV, FDR, FNR = \", compute_statTP(y,pred))    \n",
    "print(len(subset))"
   ]
  },
  {
   "cell_type": "code",
   "execution_count": null,
   "metadata": {},
   "outputs": [],
   "source": [
    "get_best_genes_names(subset, '../data/processed_data/AE3_MEFgenes_interest.csv', '../data/optimized_subsets/AE3_MEFgenes_bestANOVA.csv')"
   ]
  },
  {
   "cell_type": "markdown",
   "metadata": {},
   "source": [
    "# AE4-MEF: AE4, MEF fused"
   ]
  },
  {
   "cell_type": "code",
   "execution_count": 7,
   "metadata": {},
   "outputs": [
    {
     "name": "stdout",
     "output_type": "stream",
     "text": [
      "(32285, 1473) (1473,)\n",
      "(32285, 461) (461,)\n",
      "(32285, 154) (154,)\n",
      "(32285, 178) (178,)\n",
      "(32285, 2266)\n",
      "(10625, 2266)\n"
     ]
    }
   ],
   "source": [
    "#Load AE3 data\n",
    "AE4 = pd.read_csv ('../data/merged_data/AE4.csv')\n",
    "AE4 = AE4.set_index('Unnamed: 0')\n",
    "y_AE4 = np.squeeze(np.array(pd.read_csv('../data/merged_data/y_AE4.csv')))\n",
    "print(np.shape(AE4), np.shape(y_AE4))\n",
    "\n",
    "#Load BIDDY D0 data\n",
    "D0 = pd.read_csv ('../data/merged_data/D0.csv')\n",
    "D0 = D0.set_index('Unnamed: 0')\n",
    "y_D0 = np.squeeze(np.array(pd.read_csv('../data/merged_data/y_D0.csv')))\n",
    "print(np.shape(D0), np.shape(y_D0))\n",
    "\n",
    "#Load BIDDY D6 data\n",
    "D6 = pd.read_csv ('../data/merged_data/D6.csv')\n",
    "D6 = D6.set_index('Unnamed: 0')\n",
    "y_D6 = np.squeeze(np.array(pd.read_csv('../data/merged_data/y_D6.csv')))\n",
    "print(np.shape(D6), np.shape(y_D6))\n",
    "\n",
    "#Load BIDDY D15 data\n",
    "D15 = pd.read_csv ('../data/merged_data/D15.csv')\n",
    "D15 = D15.set_index('Unnamed: 0')\n",
    "y_D15 = np.squeeze(np.array(pd.read_csv('../data/merged_data/y_D15.csv')))\n",
    "print(np.shape(D15), np.shape(y_D15))\n",
    "\n",
    "AE4_MEF = pd.concat([AE4, D0,D6,D15], axis=1)\n",
    "print(AE4_MEF.shape)\n",
    "\n",
    "#Fuse families infos\n",
    "y_D0 += max(y_AE4)\n",
    "y_AE4_MEF = np.hstack((y_AE4, y_D0))\n",
    "\n",
    "y_D6 += max(y_AE4_MEF)\n",
    "y_AE4_MEF = np.hstack((y_AE4_MEF, y_D6))\n",
    "\n",
    "y_D15 += max(y_AE4_MEF)\n",
    "y_AE4_MEF = np.hstack((y_AE4_MEF, y_D15))\n",
    "\n",
    "#Remove all genes that are not expressed in at least percentage (default 50%) of the all cells\n",
    "gene_expressed = filter_norm_data(AE4_MEF,0.05)\n",
    "AE4_MEF = AE4_MEF[gene_expressed]\n",
    "print(AE4_MEF.shape)\n",
    "\n",
    "#Store the name of genes of interest\n",
    "genes_interest = AE4_MEF.index.values #get name of genes\n",
    "pd.DataFrame(genes_interest).to_csv('../data/processed_data/AE4_MEF_interest.csv', index=False)\n",
    "\n",
    "#Create preprocess data \n",
    "AE4_MEF.to_csv('../data/processed_data/AE4_MEF.csv', index=False)\n",
    "pd.DataFrame(y_AE4_MEF).to_csv('../data/processed_data/y_AE4_MEF.csv', index=False)"
   ]
  },
  {
   "cell_type": "markdown",
   "metadata": {},
   "source": [
    "# Baseline with genes expressed at least in 5% of cells"
   ]
  },
  {
   "cell_type": "code",
   "execution_count": 8,
   "metadata": {},
   "outputs": [
    {
     "name": "stdout",
     "output_type": "stream",
     "text": [
      "(10625, 2266) (2266,)\n"
     ]
    }
   ],
   "source": [
    "#Load preprocess data\n",
    "AE4_MEF = pd.read_csv ('../data/processed_data/AE4_MEF.csv')\n",
    "y = np.squeeze(np.array(pd.read_csv('../data/processed_data/y_AE4_MEF.csv')))\n",
    "print(np.shape(AE4_MEF), np.shape(y))"
   ]
  },
  {
   "cell_type": "code",
   "execution_count": null,
   "metadata": {},
   "outputs": [],
   "source": [
    "#Predict and evaluate\n",
    "model = FamiliesClusters(np.unique(y),compute_precision,True)\n",
    "pred = model.fit_predict(AE4_MEF,y)\n",
    "\n",
    "print(model.score_, model.recovery)"
   ]
  },
  {
   "cell_type": "markdown",
   "metadata": {},
   "source": [
    "# Mutual information maximizer (MIM)"
   ]
  },
  {
   "cell_type": "code",
   "execution_count": null,
   "metadata": {
    "tags": []
   },
   "outputs": [],
   "source": [
    "#Define parameters for MIM method\n",
    "N = np.arange(80,1500,30)\n",
    "kwargs = {'Model': FamiliesClusters, 'Scoring': compute_precision,'maximize': True,'N': N, 'n_neighbors': 3, 'plot': True} \n",
    "\n",
    "subset, score_training, score_testing = cross_validation(y,AE4_MEF, FamiliesClusters, compute_precision,True, 5,  MIM, **kwargs)\n",
    "\n",
    "mean_score_test, std_score_test = np.mean(score_testing), np.std(score_testing)    \n",
    "print('test', mean_score_test, std_score_test)\n",
    "\n",
    "#Predict and evaluate on whole data  set\n",
    "model = FamiliesClusters(np.unique(y),compute_RI,True)\n",
    "x_subset = AE4_MEF[:, subset]\n",
    "pred = model.fit_predict(x_subset,y)\n",
    "\n",
    "print(\"TP, FP, ratio, sensitivity, specificity, precision, NPV, FDR, FNR = \", compute_statTP(y,pred))"
   ]
  },
  {
   "cell_type": "code",
   "execution_count": null,
   "metadata": {},
   "outputs": [],
   "source": [
    "get_best_genes_names(subset, '../data/processed_data/AE4_MEFgenes_interest.csv', '../data/optimized_subsets/AE4_MEFgenes_bestMIM.csv')"
   ]
  },
  {
   "cell_type": "markdown",
   "metadata": {
    "id": "lPqyZ49FMaxj"
   },
   "source": [
    "# Anova F test"
   ]
  },
  {
   "cell_type": "code",
   "execution_count": null,
   "metadata": {},
   "outputs": [],
   "source": [
    "#Define parameters for ANOVA method\n",
    "N = np.arange(900,2000,10)\n",
    "kwargs = {'Model': FamiliesClusters, 'Scoring': compute_precision,'maximize': True,'N': N, 'plot': True} \n",
    "\n",
    "subset, score_training, score_testing = cross_validation(y,AE4_MEF, FamiliesClusters, compute_precision,True, 5,  ANOVA, **kwargs)\n",
    "\n",
    "mean_score_test, std_score_test = np.mean(score_testing), np.std(score_testing)    \n",
    "print('test', mean_score_test, std_score_test)\n",
    "\n",
    "#Predict and evaluate on whole data  set\n",
    "model = FamiliesClusters(np.unique(y),compute_precision,True)\n",
    "x_subset = AE4_MEF[:, subset]\n",
    "pred = model.fit_predict(x_subset,y)\n",
    "\n",
    "print(\"TP, FP, ratio, sensitivity, specificity, precision, NPV, FDR, FNR = \", compute_statTP(y,pred))    \n",
    "print(len(subset))"
   ]
  },
  {
   "cell_type": "code",
   "execution_count": null,
   "metadata": {},
   "outputs": [],
   "source": [
    "get_best_genes_names(subset, '../data/processed_data/AE4_MEFgenes_interest.csv', '../data/optimized_subsets/AE4_MEFgenes_bestANOVA.csv')"
   ]
  },
  {
   "cell_type": "markdown",
   "metadata": {},
   "source": [
    "# AE-MEF: AE3, AE4, MEF fused"
   ]
  },
  {
   "cell_type": "code",
   "execution_count": 9,
   "metadata": {},
   "outputs": [
    {
     "name": "stdout",
     "output_type": "stream",
     "text": [
      "(32285, 333) (333,)\n",
      "(32285, 1473) (1473,)\n",
      "(32285, 461) (461,)\n",
      "(32285, 154) (154,)\n",
      "(32285, 178) (178,)\n",
      "(32285, 2599)\n",
      "(10955, 2599)\n"
     ]
    }
   ],
   "source": [
    "#Load AE3 data\n",
    "AE3 = pd.read_csv ('../data/merged_data/AE3.csv')\n",
    "AE3 = AE3.set_index('Unnamed: 0')\n",
    "y_AE3 = np.squeeze(np.array(pd.read_csv('../data/merged_data/y_AE3.csv')))\n",
    "print(np.shape(AE3), np.shape(y_AE3))\n",
    "\n",
    "#Load AE4 data\n",
    "AE4 = pd.read_csv ('../data/merged_data/AE4.csv')\n",
    "AE4 = AE4.set_index('Unnamed: 0')\n",
    "y_AE4 = np.squeeze(np.array(pd.read_csv('../data/merged_data/y_AE4.csv')))\n",
    "print(np.shape(AE4), np.shape(y_AE4))\n",
    "\n",
    "#Load BIDDY D0 data\n",
    "D0 = pd.read_csv ('../data/merged_data/D0.csv')\n",
    "D0 = D0.set_index('Unnamed: 0')\n",
    "y_D0 = np.squeeze(np.array(pd.read_csv('../data/merged_data/y_D0.csv')))\n",
    "print(np.shape(D0), np.shape(y_D0))\n",
    "\n",
    "#Load BIDDY D6 data\n",
    "D6 = pd.read_csv ('../data/merged_data/D6.csv')\n",
    "D6 = D6.set_index('Unnamed: 0')\n",
    "y_D6 = np.squeeze(np.array(pd.read_csv('../data/merged_data/y_D6.csv')))\n",
    "print(np.shape(D6), np.shape(y_D6))\n",
    "\n",
    "#Load BIDDY D15 data\n",
    "D15 = pd.read_csv ('../data/merged_data/D15.csv')\n",
    "D15 = D15.set_index('Unnamed: 0')\n",
    "y_D15 = np.squeeze(np.array(pd.read_csv('../data/merged_data/y_D15.csv')))\n",
    "print(np.shape(D15), np.shape(y_D15))\n",
    "\n",
    "AE_MEF = pd.concat([AE3, AE4, D0 ,D6, D15], axis=1)\n",
    "print(AE_MEF.shape)\n",
    "\n",
    "#Fuse families infos\n",
    "y_AE4 += max(y_AE3) #Add the max indice of families in first dataset so that there is no overlap between families indices.\n",
    "y_AE_MEF = np.hstack((y_AE3, y_AE4))\n",
    "\n",
    "y_D0 += max(y_AE_MEF)\n",
    "y_AE_MEF = np.hstack((y_AE_MEF, y_D0))\n",
    "\n",
    "y_D6 += max(y_AE_MEF)\n",
    "y_AE_MEF = np.hstack((y_AE_MEF, y_D6))\n",
    "\n",
    "y_D15 += max(y_AE_MEF)\n",
    "y_AE_MEF = np.hstack((y_AE_MEF, y_D15))\n",
    "\n",
    "#Remove all genes that are not expressed in at least percentage (default 50%) of the all cells\n",
    "gene_expressed = filter_norm_data(AE_MEF,0.05)\n",
    "AE_MEF = AE_MEF[gene_expressed]\n",
    "print(AE_MEF.shape)\n",
    "\n",
    "#Store the name of genes of interest\n",
    "genes_interest = AE_MEF.index.values #get name of genes\n",
    "pd.DataFrame(genes_interest).to_csv('../data/processed_data/AE_MEF_interest.csv', index=False)\n",
    "\n",
    "#Create preprocess data \n",
    "AE_MEF.to_csv('../data/processed_data/AE_MEF.csv', index=False)\n",
    "pd.DataFrame(y_AE_MEF).to_csv('../data/processed_data/y_AE_MEF.csv', index=False)"
   ]
  },
  {
   "cell_type": "markdown",
   "metadata": {},
   "source": [
    "# Baseline with genes expressed at least in 5% of cells"
   ]
  },
  {
   "cell_type": "code",
   "execution_count": 10,
   "metadata": {},
   "outputs": [
    {
     "name": "stdout",
     "output_type": "stream",
     "text": [
      "(10955, 2599) (2599,)\n"
     ]
    }
   ],
   "source": [
    "#Load preprocess data\n",
    "AE_MEF = pd.read_csv ('../data/processed_data/AE_MEF.csv')\n",
    "y = np.squeeze(np.array(pd.read_csv('../data/processed_data/y_AE_MEF.csv')))\n",
    "print(np.shape(AE_MEF), np.shape(y))"
   ]
  },
  {
   "cell_type": "code",
   "execution_count": null,
   "metadata": {},
   "outputs": [],
   "source": [
    "#Predict and evaluate\n",
    "model = FamiliesClusters(np.unique(y),compute_precision,True)\n",
    "pred = model.fit_predict(AE_MEF,y)\n",
    "\n",
    "print(model.score_, model.recovery)"
   ]
  },
  {
   "cell_type": "markdown",
   "metadata": {},
   "source": [
    "# Mutual information maximizer (MIM)"
   ]
  },
  {
   "cell_type": "code",
   "execution_count": null,
   "metadata": {
    "tags": []
   },
   "outputs": [],
   "source": [
    "#Define parameters for MIM method\n",
    "N = np.arange(80,1500,30)\n",
    "kwargs = {'Model': FamiliesClusters, 'Scoring': compute_precision,'maximize': True,'N': N, 'n_neighbors': 3, 'plot': True} \n",
    "\n",
    "subset, score_training, score_testing = cross_validation(y,AE_MEF, FamiliesClusters, compute_precision,True, 5,  MIM, **kwargs)\n",
    "\n",
    "mean_score_test, std_score_test = np.mean(score_testing), np.std(score_testing)    \n",
    "print('test', mean_score_test, std_score_test)\n",
    "\n",
    "#Predict and evaluate on whole data  set\n",
    "model = FamiliesClusters(np.unique(y),compute_RI,True)\n",
    "x_subset = AE_MEF[:, subset]\n",
    "pred = model.fit_predict(x_subset,y)\n",
    "\n",
    "print(\"TP, FP, ratio, sensitivity, specificity, precision, NPV, FDR, FNR = \", compute_statTP(y,pred))"
   ]
  },
  {
   "cell_type": "code",
   "execution_count": null,
   "metadata": {},
   "outputs": [],
   "source": [
    "get_best_genes_names(subset, '../data/processed_data/AE_MEFgenes_interest.csv', '../data/optimized_subsets/AE_MEFgenes_bestMIM.csv')"
   ]
  },
  {
   "cell_type": "markdown",
   "metadata": {
    "id": "lPqyZ49FMaxj"
   },
   "source": [
    "# Anova F test"
   ]
  },
  {
   "cell_type": "code",
   "execution_count": null,
   "metadata": {},
   "outputs": [],
   "source": [
    "#Define parameters for ANOVA method\n",
    "N = np.arange(900,2000,10)\n",
    "kwargs = {'Model': FamiliesClusters, 'Scoring': compute_precision,'maximize': True,'N': N, 'plot': True} \n",
    "\n",
    "subset, score_training, score_testing = cross_validation(y,AE_MEF, FamiliesClusters, compute_precision,True, 5,  ANOVA, **kwargs)\n",
    "\n",
    "mean_score_test, std_score_test = np.mean(score_testing), np.std(score_testing)    \n",
    "print('test', mean_score_test, std_score_test)\n",
    "\n",
    "#Predict and evaluate on whole data  set\n",
    "model = FamiliesClusters(np.unique(y),compute_precision,True)\n",
    "x_subset = AE_MEF[:, subset]\n",
    "pred = model.fit_predict(x_subset,y)\n",
    "\n",
    "print(\"TP, FP, ratio, sensitivity, specificity, precision, NPV, FDR, FNR = \", compute_statTP(y,pred))    \n",
    "print(len(subset))"
   ]
  },
  {
   "cell_type": "code",
   "execution_count": null,
   "metadata": {},
   "outputs": [],
   "source": [
    "get_best_genes_names(subset, '../data/processed_data/AE_MEFgenes_interest.csv', '../data/optimized_subsets/AE_MEFgenes_bestANOVA.csv')"
   ]
  }
 ],
 "metadata": {
  "kernelspec": {
   "display_name": "Python 3",
   "language": "python",
   "name": "python3"
  },
  "language_info": {
   "codemirror_mode": {
    "name": "ipython",
    "version": 3
   },
   "file_extension": ".py",
   "mimetype": "text/x-python",
   "name": "python",
   "nbconvert_exporter": "python",
   "pygments_lexer": "ipython3",
   "version": "3.8.5"
  }
 },
 "nbformat": 4,
 "nbformat_minor": 4
}
