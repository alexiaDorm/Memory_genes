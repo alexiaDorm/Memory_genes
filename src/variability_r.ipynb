{
 "cells": [
  {
   "cell_type": "code",
   "execution_count": 11,
   "metadata": {},
   "outputs": [],
   "source": [
    "library(\"entropy\")\n",
    "\n",
    "compute_entropy <- function(dataset_name, binning_method, bycell){\n",
    "    \n",
    "    counts_path <- paste('../data/count_histogram/', dataset_name, sep='')\n",
    "    counts_path <- paste(counts_path, binning_method, sep='')\n",
    "    counts_path <- paste(counts_path, bycell , sep='_')\n",
    "    counts <- read.csv(counts_path)\n",
    "\n",
    "    #Compute entropy\n",
    "    entropies <- c()\n",
    "    for (i  in 1:length(unlist(counts[1]))) {\n",
    "        #Get the count of current cell\n",
    "        count <- sapply(counts, \"[\", i)\n",
    "        count <- count[!is.na(count)]\n",
    "\n",
    "        #Compute entropy using count\n",
    "        entropy <- entropy(count)\n",
    "        entropies <- c(entropies, entropy)\n",
    "    }\n",
    "    \n",
    "    mean_entropy <- mean(entropy)\n",
    "    std_entropy <- sqrt(var(entropies))\n",
    "    \n",
    "    output_path <- paste(\"../data/variability_measure/\", dataset_name, sep='')\n",
    "    output_path <- paste(output_path, binning_method, sep='')\n",
    "    output_path <- paste(output_path, \"entropy\", sep='_')\n",
    "    output_path <- paste(output_path, bycell, sep='_')\n",
    "    write.csv(entropies, output_path, row.names = F)\n",
    "    \n",
    "    return (c(mean_entropy, std_entropy))\n",
    "}"
   ]
  },
  {
   "cell_type": "code",
   "execution_count": 24,
   "metadata": {},
   "outputs": [],
   "source": [
    "dataset_names <- c('AE3', 'AE4', 'D0', 'D0_2', 'D6', 'D6_2', 'D15', 'D15_2', 'LK', 'LK_2', 'LSK', 'LSK_2', 'LSKmix')\n",
    "\n",
    "means <- data.frame(matrix(0, nrow = length(dataset_names), ncol = 2))\n",
    "rownames(means) <- dataset_names\n",
    "\n",
    "for (i  in 1:length(dataset_names)){\n",
    "    mean <- compute_entropy(dataset_names[i], 'bayesian', 'bycell.csv') \n",
    "    means[i,] <- mean\n",
    "}\n",
    "colnames(means) <- c('mean_entropy', 'std_entropy')\n",
    "write.csv(means, \"../data/variability_measure/mean_entropy_bayesian_bycell.csv\", row.names = T)"
   ]
  },
  {
   "cell_type": "code",
   "execution_count": 22,
   "metadata": {},
   "outputs": [],
   "source": [
    "means <- data.frame(matrix(0, nrow = length(dataset_names), ncol = 2))\n",
    "rownames(means) <- dataset_names\n",
    "\n",
    "for (i  in 1:length(dataset_names)){\n",
    "    mean <- compute_entropy(dataset_names[i], 'binary', 'bycell.csv') \n",
    "    means[i,] <- mean\n",
    "}\n",
    "colnames(means) <- c('mean_entropy', 'std_entropy')\n",
    "write.csv(means, \"../data/variability_measure/mean_entropy_binary_bycell.csv\", row.names = T)"
   ]
  },
  {
   "cell_type": "code",
   "execution_count": null,
   "metadata": {},
   "outputs": [],
   "source": [
    "means <- data.frame(matrix(0, nrow = length(dataset_names), ncol = 2))\n",
    "rownames(means) <- dataset_names\n",
    "\n",
    "for (i  in 1:length(dataset_names)){\n",
    "    mean <- compute_entropy(dataset_names[i], 'bayesian', 'bygene.csv') \n",
    "    means[i,] <- mean\n",
    "}\n",
    "colnames(means) <- c('mean_entropy', 'std_entropy')\n",
    "write.csv(means, \"../data/variability_measure/mean_entropy_bayesian_bygene.csv\", row.names = T)"
   ]
  },
  {
   "cell_type": "code",
   "execution_count": 23,
   "metadata": {},
   "outputs": [],
   "source": [
    "means <- data.frame(matrix(0, nrow = length(dataset_names), ncol = 2))\n",
    "rownames(means) <- dataset_names\n",
    "\n",
    "for (i  in 1:length(dataset_names)){\n",
    "    mean <- compute_entropy(dataset_names[i], 'binary', 'bygene.csv') \n",
    "    means[i,] <- mean\n",
    "}\n",
    "colnames(means) <- c('mean_entropy', 'std_entropy')\n",
    "write.csv(means, \"../data/variability_measure/mean_entropy_binary_bygene.csv\", row.names = T)"
   ]
  }
 ],
 "metadata": {
  "kernelspec": {
   "display_name": "R",
   "language": "R",
   "name": "ir"
  },
  "language_info": {
   "codemirror_mode": "r",
   "file_extension": ".r",
   "mimetype": "text/x-r-source",
   "name": "R",
   "pygments_lexer": "r",
   "version": "3.6.1"
  }
 },
 "nbformat": 4,
 "nbformat_minor": 4
}
