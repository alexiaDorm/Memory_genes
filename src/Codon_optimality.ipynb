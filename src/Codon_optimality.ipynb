{
 "cells": [
  {
   "cell_type": "code",
   "execution_count": 1,
   "metadata": {},
   "outputs": [],
   "source": [
    "import numpy as np\n",
    "import matplotlib.pyplot as plt\n",
    "import pandas as pd "
   ]
  },
  {
   "cell_type": "code",
   "execution_count": 2,
   "metadata": {},
   "outputs": [],
   "source": [
    "codon_freq = pd.read_csv('../data/mouse_codon_freq.csv')\n",
    "codon_freq =codon_freq.set_index('Unnamed: 0')"
   ]
  },
  {
   "cell_type": "code",
   "execution_count": 164,
   "metadata": {},
   "outputs": [],
   "source": [
    "def compute_CAI(sequence:str, codon_freq:pd.DataFrame):\n",
    "    \"\"\"Compute the Codon Adaptation Index (CAI) of a given protein/mRNA sequence\n",
    "  \n",
    "      parameters:\n",
    "      sequence: str,\n",
    "          sequence of the protein/mRNA transcript of interest\n",
    "      codon_freq: pd.DataFrame,\n",
    "          frequencies of each codon and corresponding amino acid (species specific)\n",
    "\n",
    "      returns:s\n",
    "      CAI : foat,\n",
    "          computed Codon adaptation index (CAI), returned values are between 0 and 1\"\"\"\n",
    "    #Convert T to U\n",
    "    sequence = sequence.translate(str.maketrans(\"T\", \"U\"))\n",
    "    \n",
    "    L = int(len(sequence)/3)\n",
    "    CAI = 0\n",
    "    for i in range(0,L):\n",
    "        codon = sequence[3*i:3*i+3]\n",
    "        if 'N' in codon:\n",
    "            continue #ignore the codon containing a N (uncertain nucleotide)\n",
    "        freq = codon_freq.T[codon][1]\n",
    "        aa = codon_freq.T[codon][0]\n",
    "        freq_max = np.max((codon_freq[codon_freq['amino acid']==aa])['freq'])\n",
    "        \n",
    "        w = np.log(freq/freq_max)\n",
    "        CAI += w\n",
    "        \n",
    "    CAI = np.exp(1/L * CAI)\n",
    "    \n",
    "    return CAI"
   ]
  },
  {
   "cell_type": "code",
   "execution_count": 167,
   "metadata": {},
   "outputs": [
    {
     "data": {
      "text/plain": [
       "0.7578865327134019"
      ]
     },
     "execution_count": 167,
     "metadata": {},
     "output_type": "execute_result"
    }
   ],
   "source": [
    "amylase1 = 'ATGAAATTCTTCCTGCTGCTTTCCCTCATTGGATTCTGCTGGGCCCAATATGACCCACATACTCAATATGGACGAACTGCTATTGTCCACCTGTTTGAGTGGCGCTGGGTTGATATTGCTAAGGAATGTGAGAGATACTTAGCTCCTAATGGATTTGCAGGTGTGCAGGTCTCTCCACCCAATGAAAACATCGTAGTCCACAGCCCTTCAAGACCATGGTGGGAAAGATATCAACCAATTAGCTACAAAATATGTTCCAGGTCTGGAAATGAAGATGAATTCAGGGACATGGTGAACAGGTGCAACAATGTTGGTGTCCGTATTTATGTGGATGCTGTCATTAACCACATGTGTGGAGTGGGGGCTCAAGCTGGACAAAGCAGTACATGTGGAAGTTATTTCAACCCAAATAACAGGGACTTTCCTGGAGTTCCCTATTCTGGTTTTGACTTTAATGATGGAAAATGTAGAACTGCAAGTGGAGGTATCGAGAACTACCAAGATGCTGCTCAGGTCAGAGATTGTCGTCTGTCTGGCCTTCTGGATCTTGCACTTGAGAAAGATTATGTTCGAACCAAGGTGGCTGACTATATGAACCATCTCATTGACATTGGCGTAGCAGGGTTCAGACTTGATGCTTCTAAGCACATGTGGCCTGGAGACATAAAGGCAATTTTGGACAAACTGCATAATCTCAATACAAAATGGTTCTCCCAAGGAAGCAGACCTTTCATTTTCCAAGAGGTGATTGATCTGGGTGGTGAGGCAGTGTCAAGTAATGAGTATTTTGGAAATGGCCGTGTGACAGAATTCAAATATGGAGCAAAATTGGGCAAAGTTATGCGCAAGTGGGATGGAGAAAAGATGTCCTACTTAAAGAACTGGGGAGAAGGTTGGGGTTTGATGCCTTCTGACAGAGCCCTTGTGTTTGTGGACAACCATGACAATCAGCGAGGACATGGTGCTGGGGGAGCATCCATCTTGACATTCTGGGATGCTAGACTCTATAAAATGGCTGTTGGCTTTATGTTGGCTCATCCTTATGGTTTCACACGGGTGATGTCAAGTTACTATTGGCCAAGAAATTTCCAGAATGGAAAAGATGTCAATGACTGGGTTGGACCACCAAATAACAATGGAAAAACCAAAGAAGTGAGCATTAACCCAGACAGCACTTGTGGCAATGACTGGATCTGTGAACATCGATGGCGTCAAATAAGGAACATGGTTGCCTTCAGAAATGTCGTCAATGGTCAGCCTTTTGCAAACTGGTGGGATAATGACAGCAACCAGGTAGCTTTTGGCAGAGGAAACAAAGGATTCATTGTCTTTAACAATGATGACTGGGCTTTGTCAGAAACTTTACAGACTGGTCTTCCTGCTGGCACATACTGTGATGTCATTTCTGGAGATAAAGTCGATGGCAATTGCACTGGAATAAAAGTCTATGTTGGCAATGATGGCAAAGCTCACTTTTCTATTAGTAACTCTGCCGAAGACCCATTTATTGCAATCCATGCAGAGTCAAAAATATAA'\n",
    "compute_CAI(amylase1,codon_freq)"
   ]
  },
  {
   "cell_type": "code",
   "execution_count": 5,
   "metadata": {},
   "outputs": [],
   "source": [
    "def read_fasta(fasta_file):\n",
    "    \"Parse fasta file\"\n",
    "    count = 0\n",
    "    headers = []\n",
    "    sequences = []\n",
    "    aux = []\n",
    "    with open(fasta_file, 'r') as infile:\n",
    "        for line in infile:\n",
    "            record = line.rstrip()\n",
    "            if record and record[0] == '>':\n",
    "                headers.append(record[1:])\n",
    "                if count > 0:\n",
    "                    sequences.append(''.join(aux))\n",
    "                    aux = []\n",
    "            else:\n",
    "                aux.append(record)\n",
    "            count += 1\n",
    "\n",
    "    sequences.append(''.join(aux))\n",
    "    return headers, sequences "
   ]
  },
  {
   "cell_type": "code",
   "execution_count": 163,
   "metadata": {},
   "outputs": [],
   "source": [
    "#Load all the coding sequence from the file\n",
    "genes, cds = read_fasta('../data/mart_export.txt')\n",
    "for i, gene in enumerate(genes):\n",
    "    genes[i] = (gene).split('|')[0]\n",
    "genes = pd.DataFrame(cds, index = genes, columns = ['cds'])\n",
    "genes = genes[~genes.index.duplicated()]\n",
    "\n",
    "#Only keep the one that are in the AE3/AE4 datasets\n",
    "AE3 = pd.read_csv ('../data/merged_data/AE3.csv')\n",
    "AE3 = AE3.set_index('Unnamed: 0')\n",
    "genes = genes.loc[np.unique(AE3.index.intersection(genes.index))]\n",
    "\n",
    "#Remove not defined sequence genes\n",
    "error = genes.iloc[3][0]\n",
    "genes = genes[genes.cds != error]\n",
    "\n",
    "genes.to_csv('../data/genes.csv', index=True)"
   ]
  },
  {
   "cell_type": "code",
   "execution_count": null,
   "metadata": {},
   "outputs": [],
   "source": [
    "#Compute the CAI for each gene\n",
    "CAI = []\n",
    "for cds in genes['cds']:\n",
    "    CAI.append(compute_CAI(cds,codon_freq))\n",
    "    \n",
    "genes['CAI'] = CAI"
   ]
  },
  {
   "cell_type": "code",
   "execution_count": null,
   "metadata": {},
   "outputs": [],
   "source": [
    "genes.to_csv('../data/CAI.csv', index=True)"
   ]
  },
  {
   "cell_type": "code",
   "execution_count": null,
   "metadata": {},
   "outputs": [],
   "source": []
  }
 ],
 "metadata": {
  "kernelspec": {
   "display_name": "Python 3",
   "language": "python",
   "name": "python3"
  },
  "language_info": {
   "codemirror_mode": {
    "name": "ipython",
    "version": 3
   },
   "file_extension": ".py",
   "mimetype": "text/x-python",
   "name": "python",
   "nbconvert_exporter": "python",
   "pygments_lexer": "ipython3",
   "version": "3.8.5"
  }
 },
 "nbformat": 4,
 "nbformat_minor": 4
}
