{
 "cells": [
  {
   "cell_type": "code",
   "execution_count": 1,
   "metadata": {},
   "outputs": [],
   "source": [
    "import numpy as np\n",
    "import matplotlib.pyplot as plt\n",
    "\n",
    "import io \n",
    "import pandas as pd  \n",
    "import pyreadr\n",
    "\n",
    "from load_data import *\n",
    "from pred_score import *\n",
    "from Filter_FS import *\n",
    "from hybrid_FS import *\n",
    "from overlap_genes import *"
   ]
  },
  {
   "cell_type": "code",
   "execution_count": 2,
   "metadata": {},
   "outputs": [],
   "source": [
    "#Fixing seed to get reproducible results\n",
    "random.seed(3)\n",
    "np.random.seed(3)"
   ]
  },
  {
   "cell_type": "markdown",
   "metadata": {},
   "source": [
    "# Baseline with preselected genes "
   ]
  },
  {
   "cell_type": "code",
   "execution_count": 3,
   "metadata": {},
   "outputs": [],
   "source": [
    "#Load preprocess data\n",
    "LK = np.array(pd.read_csv ('../data/processed_data/LK.csv'))\n",
    "y = np.array(LK[:,-1],dtype=int)\n",
    "LK = LK[:,0:-1]\n"
   ]
  },
  {
   "cell_type": "code",
   "execution_count": 4,
   "metadata": {},
   "outputs": [],
   "source": [
    "#Predict and evaluate\n",
    "model = FamiliesClusters(np.unique(y),compute_precision,True)\n",
    "pred = model.fit_predict(LK,y)"
   ]
  },
  {
   "cell_type": "code",
   "execution_count": 5,
   "metadata": {},
   "outputs": [
    {
     "name": "stdout",
     "output_type": "stream",
     "text": [
      "(610, 1379) 610\n",
      "0.136\n"
     ]
    }
   ],
   "source": [
    "print(LK.shape, len(pred))\n",
    "acc = model.score_\n",
    "print(acc)"
   ]
  },
  {
   "cell_type": "code",
   "execution_count": 6,
   "metadata": {},
   "outputs": [
    {
     "name": "stdout",
     "output_type": "stream",
     "text": [
      "TP, FP, ratio, sensitivity, specificity, precision, NPV, FDR, FNR =  (102.0, 648.0, 0.1574074074074074, 0.37777777777777777, 0.9876770942283921, 0.136, 0.9967757412916227, 0.864, 0.6222222222222222)\n"
     ]
    }
   ],
   "source": [
    "print(\"TP, FP, ratio, sensitivity, specificity, precision, NPV, FDR, FNR = \", compute_statTP(y,pred))"
   ]
  },
  {
   "cell_type": "code",
   "execution_count": 7,
   "metadata": {},
   "outputs": [],
   "source": [
    "def split_data_cv(x:np.array, y:np.array, kfold:int):\n",
    "    \"\"\" Split the data for CV. Keep cells of same family together.\n",
    "  \n",
    "      parameters:\n",
    "      y: np.array,\n",
    "        family of each data points\n",
    "      x: np.array,\n",
    "        gene expression of each data points\n",
    "      kfold: int,\n",
    "        number of fold for CV\n",
    "        \n",
    "\n",
    "      returns:\n",
    "      split_x : np.array of np.array,\n",
    "        split normalized data, split_x[k] = kth split\n",
    "      split_y : np.array of np.array,\n",
    "        split families data   \"\"\"\n",
    "    \n",
    "    #Get all families indices\n",
    "    ind_families = np.unique(y)\n",
    "    N_families = len(ind_families)\n",
    "    N_fold_family = math.ceil(N_families/kfold)\n",
    "    \n",
    "    \n",
    "    #Randomly choose the families in each split    \n",
    "    np.random.shuffle(ind_families)\n",
    "    \n",
    "    fam_split = np.empty(kfold, dtype=object)\n",
    "    for i in range (0,kfold):\n",
    "        fam_split[i] = []\n",
    "        \n",
    "    for i in range (0, kfold):\n",
    "        temp = ind_families[i*N_fold_family:((i+1)*N_fold_family)]\n",
    "        fam_split[i].append(temp)\n",
    "      \n",
    "    #Get the data from splitted families: split_x, split_y\n",
    "    split_x = np.empty(kfold, dtype=object)\n",
    "    split_y = np.empty(kfold, dtype=object)\n",
    "    for i in range (0,kfold):\n",
    "        split_x[i] = []\n",
    "        split_y[i] = []\n",
    "        \n",
    "    for i in range (0,kfold):\n",
    "        ind = np.squeeze(fam_split[i])\n",
    "     \n",
    "        mask = np.isin(y, ind)\n",
    "        temp_x = x[mask]\n",
    "        temp_y = y[mask]\n",
    "        \n",
    "        split_x[i].append(temp_x)\n",
    "        split_y[i].append(temp_y)\n",
    "            \n",
    "        \n",
    "    return split_x, split_y\n",
    "\n"
   ]
  },
  {
   "cell_type": "code",
   "execution_count": 8,
   "metadata": {},
   "outputs": [],
   "source": [
    "fam = np.array([1,7,1,1,7,8,10,4,6])\n",
    "x = np.array([1,68,3,20,9,2,24,8,20])\n",
    "\n",
    "split_x, split_y = split_data_cv(x,fam,3)"
   ]
  },
  {
   "cell_type": "markdown",
   "metadata": {},
   "source": [
    "# Split data into Kfold (kfold = 5)"
   ]
  },
  {
   "cell_type": "code",
   "execution_count": 9,
   "metadata": {},
   "outputs": [],
   "source": [
    "split_x, split_y = split_data_cv(LK,y,5)"
   ]
  },
  {
   "cell_type": "markdown",
   "metadata": {},
   "source": [
    "# Mutual information maximizer (MIM)"
   ]
  },
  {
   "cell_type": "code",
   "execution_count": 10,
   "metadata": {},
   "outputs": [
    {
     "name": "stdout",
     "output_type": "stream",
     "text": [
      "(485, 1379) (125, 1379) (485,) (125,)\n",
      "(486, 1379) (124, 1379) (486,) (124,)\n",
      "(490, 1379) (120, 1379) (490,) (120,)\n",
      "(491, 1379) (119, 1379) (491,) (119,)\n",
      "(488, 1379) (122, 1379) (488,) (122,)\n",
      "training 0.2624575282004308 0.006827700370294153\n",
      "test 0.5231034675712003 0.0678348059290524\n"
     ]
    },
    {
     "data": {
      "image/png": "[encoded data removed]",
      "text/plain": [
       "<Figure size 432x288 with 1 Axes>"
      ]
     },
     "metadata": {
      "needs_background": "light"
     },
     "output_type": "display_data"
    }
   ],
   "source": [
    "score_training = []\n",
    "score_testing = []\n",
    "\n",
    "#CV with kfold\n",
    "kfold = 5\n",
    "for i in range(0,kfold):\n",
    "    #Get split data\n",
    "    x_test = np.squeeze(split_x[i])\n",
    "    y_test = np.squeeze(split_y[i])\n",
    "    x_train_temp = np.squeeze(np.delete(split_x, i))\n",
    "    y_train_temp = np.squeeze(np.delete(split_y, i))\n",
    "    \n",
    "    \n",
    "    #Fuse the training fold\n",
    "    for j in range(0,kfold-1):\n",
    "        x_train_temp[j] = np.squeeze(np.array(x_train_temp[j]))\n",
    "        y_train_temp[j] = np.squeeze(np.array(y_train_temp[j]))\n",
    "     \n",
    "    x_train = x_train_temp[0].T\n",
    "    y_train = y_train_temp[0]\n",
    "    for j in range(1,kfold-1):\n",
    "        x_train = np.c_[x_train,x_train_temp[j].T]\n",
    "        y_train = np.append(y_train,y_train_temp[j])\n",
    "    \n",
    "    x_train = x_train.T\n",
    "    print(np.shape(x_train),np.shape(x_test),np.shape(y_train),np.shape(y_test))\n",
    "    \n",
    "    #Run feature selection on training set\n",
    "    N = np.arange(80,1300,30)\n",
    "    subset, train_score = MIM(y_train, x_train, FamiliesClusters, compute_precision,True,N, 3, plot=True)\n",
    "    \n",
    "    #Evaluate feature selection on test set\n",
    "    model = FamiliesClusters(np.unique(y_test),compute_ratio,True)\n",
    "    pred = model.fit_predict(x_test[:, subset],y_test)\n",
    "    test_score = model.score(x_test,y_test)\n",
    "    \n",
    "    score_training = np.append(score_training, train_score)\n",
    "    score_testing = np.append(score_testing, test_score)\n",
    "\n",
    "mean_score_training, std_score_training = np.mean(score_training), np.std(score_training)    \n",
    "print('training', mean_score_training, std_score_training)\n",
    "\n",
    "mean_score_test, std_score_test = np.mean(score_testing), np.std(score_testing)    \n",
    "print('test', mean_score_test, std_score_test)"
   ]
  },
  {
   "cell_type": "markdown",
   "metadata": {
    "id": "lPqyZ49FMaxj"
   },
   "source": [
    "# Anova F test"
   ]
  },
  {
   "cell_type": "code",
   "execution_count": 11,
   "metadata": {},
   "outputs": [
    {
     "name": "stdout",
     "output_type": "stream",
     "text": [
      "(485, 1379) (125, 1379) (485,) (125,)\n",
      "(486, 1379) (124, 1379) (486,) (124,)\n",
      "(490, 1379) (120, 1379) (490,) (120,)\n",
      "(491, 1379) (119, 1379) (491,) (119,)\n",
      "(488, 1379) (122, 1379) (488,) (122,)\n",
      "training 0.33337639684075626 0.019601715820366985\n",
      "test 0.549694019203183 0.08317354029677564\n"
     ]
    },
    {
     "data": {
      "image/png": "[encoded data removed]",
      "text/plain": [
       "<Figure size 432x288 with 1 Axes>"
      ]
     },
     "metadata": {
      "needs_background": "light"
     },
     "output_type": "display_data"
    }
   ],
   "source": [
    "score_training = []\n",
    "score_testing = []\n",
    "\n",
    "#CV with kfold\n",
    "kfold = 5\n",
    "for i in range(0,kfold):\n",
    "    #Get split data\n",
    "    x_test = np.squeeze(split_x[i])\n",
    "    y_test = np.squeeze(split_y[i])\n",
    "    x_train_temp = np.squeeze(np.delete(split_x, i))\n",
    "    y_train_temp = np.squeeze(np.delete(split_y, i))\n",
    "    \n",
    "    \n",
    "    #Fuse the training fold\n",
    "    for j in range(0,kfold-1):\n",
    "        x_train_temp[j] = np.squeeze(np.array(x_train_temp[j]))\n",
    "        y_train_temp[j] = np.squeeze(np.array(y_train_temp[j]))\n",
    "     \n",
    "    x_train = x_train_temp[0].T\n",
    "    y_train = y_train_temp[0]\n",
    "    for j in range(1,kfold-1):\n",
    "        x_train = np.c_[x_train,x_train_temp[j].T]\n",
    "        y_train = np.append(y_train,y_train_temp[j])\n",
    "    \n",
    "    x_train = x_train.T\n",
    "    print(np.shape(x_train),np.shape(x_test),np.shape(y_train),np.shape(y_test))\n",
    "    \n",
    "    #Run feature selection on training set\n",
    "    N = np.arange(80,1300,30)\n",
    "    subset, train_score = ANOVA(y_train, x_train, FamiliesClusters, compute_ratio,True,N, plot=True)\n",
    "    \n",
    "    #Evaluate feature selection on test set\n",
    "    model = FamiliesClusters(np.unique(y_test),compute_ratio,True)\n",
    "    pred = model.fit_predict(x_test[:, subset],y_test)\n",
    "    test_score = model.score(x_test,y_test)\n",
    "    \n",
    "    score_training = np.append(score_training, train_score)\n",
    "    score_testing = np.append(score_testing, test_score)\n",
    "\n",
    "mean_score_training, std_score_training = np.mean(score_training), np.std(score_training)    \n",
    "print('training', mean_score_training, std_score_training)\n",
    "\n",
    "mean_score_test, std_score_test = np.mean(score_testing), np.std(score_testing)    \n",
    "print('test', mean_score_test, std_score_test)"
   ]
  },
  {
   "cell_type": "markdown",
   "metadata": {},
   "source": [
    "# Stimulated annealing"
   ]
  },
  {
   "cell_type": "code",
   "execution_count": null,
   "metadata": {},
   "outputs": [
    {
     "name": "stdout",
     "output_type": "stream",
     "text": [
      "(485, 1379) (125, 1379) (485,) (125,)\n"
     ]
    }
   ],
   "source": [
    "score_training = []\n",
    "score_testing = []\n",
    "\n",
    "#CV with kfold\n",
    "kfold = 5\n",
    "for i in range(0,kfold):\n",
    "    #Get split data\n",
    "    x_test = np.squeeze(split_x[i])\n",
    "    y_test = np.squeeze(split_y[i])\n",
    "    x_train_temp = np.squeeze(np.delete(split_x, i))\n",
    "    y_train_temp = np.squeeze(np.delete(split_y, i))\n",
    "    \n",
    "    \n",
    "    #Fuse the training fold\n",
    "    for j in range(0,kfold-1):\n",
    "        x_train_temp[j] = np.squeeze(np.array(x_train_temp[j]))\n",
    "        y_train_temp[j] = np.squeeze(np.array(y_train_temp[j]))\n",
    "     \n",
    "    x_train = x_train_temp[0].T\n",
    "    y_train = y_train_temp[0]\n",
    "    for j in range(1,kfold-1):\n",
    "        x_train = np.c_[x_train,x_train_temp[j].T]\n",
    "        y_train = np.append(y_train,y_train_temp[j])\n",
    "    \n",
    "    x_train = x_train.T\n",
    "    print(np.shape(x_train),np.shape(x_test),np.shape(y_train),np.shape(y_test))\n",
    "    \n",
    "    #Run feature selection on training set\n",
    "    subset, train_score = stimulated_annealing(y_train, x_train, FamiliesClusters, compute_sensitivity,True, 1400, 0.1, 1, True)\n",
    "    \n",
    "    #Evaluate feature selection on test set\n",
    "    model = FamiliesClusters(np.unique(y_test),compute_ratio,True)\n",
    "    pred = model.fit_predict(x_test[:, subset],y_test)\n",
    "    test_score = model.score(x_test,y_test)\n",
    "    \n",
    "    score_training = np.append(score_training, train_score)\n",
    "    score_testing = np.append(score_testing, test_score)\n",
    "\n",
    "mean_score_training, std_score_training = np.mean(score_training), np.std(score_training)    \n",
    "print('training', mean_score_training, std_score_training)\n",
    "\n",
    "mean_score_test, std_score_test = np.mean(score_testing), np.std(score_testing)    \n",
    "print('test', mean_score_test, std_score_test)"
   ]
  },
  {
   "cell_type": "markdown",
   "metadata": {},
   "source": [
    "# Genetic feature selection algorithm"
   ]
  },
  {
   "cell_type": "code",
   "execution_count": null,
   "metadata": {},
   "outputs": [],
   "source": [
    "\n",
    "\n",
    "score_training = []\n",
    "score_testing = []\n",
    "\n",
    "#CV with kfold\n",
    "kfold = 5\n",
    "for i in range(0,kfold):\n",
    "    #Get split data\n",
    "    x_test = np.squeeze(split_x[i])\n",
    "    y_test = np.squeeze(split_y[i])\n",
    "    x_train_temp = np.squeeze(np.delete(split_x, i))\n",
    "    y_train_temp = np.squeeze(np.delete(split_y, i))\n",
    "    \n",
    "    \n",
    "    #Fuse the training fold\n",
    "    for j in range(0,kfold-1):\n",
    "        x_train_temp[j] = np.squeeze(np.array(x_train_temp[j]))\n",
    "        y_train_temp[j] = np.squeeze(np.array(y_train_temp[j]))\n",
    "     \n",
    "    x_train = x_train_temp[0].T\n",
    "    y_train = y_train_temp[0]\n",
    "    for j in range(1,kfold-1):\n",
    "        x_train = np.c_[x_train,x_train_temp[j].T]\n",
    "        y_train = np.append(y_train,y_train_temp[j])\n",
    "    \n",
    "    x_train = x_train.T\n",
    "    print(np.shape(x_train),np.shape(x_test),np.shape(y_train),np.shape(y_test))\n",
    "    \n",
    "    #Run feature selection on training set\n",
    "    subset, train_score = genetic_fs(y_train,x_train,FamiliesClusters,compute_sensitivity,True, 500, 0.5, 0.2, 50, 3, True)\n",
    "    \n",
    "    #Evaluate feature selection on test set\n",
    "    model = FamiliesClusters(np.unique(y_test),compute_ratio,True)\n",
    "    pred = model.fit_predict(x_test[:, subset],y_test)\n",
    "    test_score = model.score(x_test,y_test)\n",
    "    \n",
    "    score_training = np.append(score_training, train_score)\n",
    "    score_testing = np.append(score_testing, test_score)\n",
    "\n",
    "mean_score_training, std_score_training = np.mean(score_training), np.std(score_training)    \n",
    "print('training', mean_score_training, std_score_training)\n",
    "\n",
    "mean_score_test, std_score_test = np.mean(score_testing), np.std(score_testing)    \n",
    "print('test', mean_score_test, std_score_test)"
   ]
  },
  {
   "cell_type": "markdown",
   "metadata": {},
   "source": [
    "# Hybrid methods"
   ]
  },
  {
   "cell_type": "markdown",
   "metadata": {},
   "source": [
    "# Mutual information and stimulated annealing"
   ]
  },
  {
   "cell_type": "code",
   "execution_count": null,
   "metadata": {},
   "outputs": [],
   "source": [
    "score_training = []\n",
    "score_testing = []\n",
    "\n",
    "#CV with kfold\n",
    "kfold = 5\n",
    "for i in range(0,kfold):\n",
    "    #Get split data\n",
    "    x_test = np.squeeze(split_x[i])\n",
    "    y_test = np.squeeze(split_y[i])\n",
    "    x_train_temp = np.squeeze(np.delete(split_x, i))\n",
    "    y_train_temp = np.squeeze(np.delete(split_y, i))\n",
    "    \n",
    "    \n",
    "    #Fuse the training fold\n",
    "    for j in range(0,kfold-1):\n",
    "        x_train_temp[j] = np.squeeze(np.array(x_train_temp[j]))\n",
    "        y_train_temp[j] = np.squeeze(np.array(y_train_temp[j]))\n",
    "     \n",
    "    x_train = x_train_temp[0].T\n",
    "    y_train = y_train_temp[0]\n",
    "    for j in range(1,kfold-1):\n",
    "        x_train = np.c_[x_train,x_train_temp[j].T]\n",
    "        y_train = np.append(y_train,y_train_temp[j])\n",
    "    \n",
    "    x_train = x_train.T\n",
    "    print(np.shape(x_train),np.shape(x_test),np.shape(y_train),np.shape(y_test))\n",
    "    \n",
    "    #Run feature selection on training set\n",
    "    subset, train_score = MI_stimulated_annealing(y_train,x_train, FamiliesClusters, compute_sensitivity,True, np.array([400]), 3, 5000, 0.05, 1, True)\n",
    "    \n",
    "    #Evaluate feature selection on test set\n",
    "    model = FamiliesClusters(np.unique(y_test),compute_ratio,True)\n",
    "    pred = model.fit_predict(x_test[:, subset],y_test)\n",
    "    test_score = model.score(x_test,y_test)\n",
    "    \n",
    "    score_training = np.append(score_training, train_score)\n",
    "    score_testing = np.append(score_testing, test_score)\n",
    "\n",
    "mean_score_training, std_score_training = np.mean(score_training), np.std(score_training)    \n",
    "print('training', mean_score_training, std_score_training)\n",
    "\n",
    "mean_score_test, std_score_test = np.mean(score_testing), np.std(score_testing)    \n",
    "print('test', mean_score_test, std_score_test)"
   ]
  },
  {
   "cell_type": "markdown",
   "metadata": {},
   "source": [
    "# Mutual information and genetic feature selection"
   ]
  },
  {
   "cell_type": "code",
   "execution_count": null,
   "metadata": {},
   "outputs": [],
   "source": [
    "score_training = []\n",
    "score_testing = []\n",
    "\n",
    "#CV with kfold\n",
    "kfold = 5\n",
    "for i in range(0,kfold):\n",
    "    #Get split data\n",
    "    x_test = np.squeeze(split_x[i])\n",
    "    y_test = np.squeeze(split_y[i])\n",
    "    x_train_temp = np.squeeze(np.delete(split_x, i))\n",
    "    y_train_temp = np.squeeze(np.delete(split_y, i))\n",
    "    \n",
    "    \n",
    "    #Fuse the training fold\n",
    "    for j in range(0,kfold-1):\n",
    "        x_train_temp[j] = np.squeeze(np.array(x_train_temp[j]))\n",
    "        y_train_temp[j] = np.squeeze(np.array(y_train_temp[j]))\n",
    "     \n",
    "    x_train = x_train_temp[0].T\n",
    "    y_train = y_train_temp[0]\n",
    "    for j in range(1,kfold-1):\n",
    "        x_train = np.c_[x_train,x_train_temp[j].T]\n",
    "        y_train = np.append(y_train,y_train_temp[j])\n",
    "    \n",
    "    x_train = x_train.T\n",
    "    print(np.shape(x_train),np.shape(x_test),np.shape(y_train),np.shape(y_test))\n",
    "    \n",
    "    #Run feature selection on training set\n",
    "    subset, train_score = MI_genetic_fs(y_train,x_train, FamiliesClusters, compute_sensitivity,True, np.array([700]), 3,  300, 0.5, 0.2, 120, 3, True)\n",
    "    \n",
    "    #Evaluate feature selection on test set\n",
    "    model = FamiliesClusters(np.unique(y_test),compute_ratio,True)\n",
    "    pred = model.fit_predict(x_test[:, subset],y_test)\n",
    "    test_score = model.score(x_test,y_test)\n",
    "    \n",
    "    score_training = np.append(score_training, train_score)\n",
    "    score_testing = np.append(score_testing, test_score)\n",
    "\n",
    "mean_score_training, std_score_training = np.mean(score_training), np.std(score_training)    \n",
    "print('training', mean_score_training, std_score_training)\n",
    "\n",
    "mean_score_test, std_score_test = np.mean(score_testing), np.std(score_testing)    \n",
    "print('test', mean_score_test, std_score_test)"
   ]
  },
  {
   "cell_type": "markdown",
   "metadata": {},
   "source": [
    "# Baseline with preselected genes "
   ]
  },
  {
   "cell_type": "code",
   "execution_count": null,
   "metadata": {},
   "outputs": [],
   "source": [
    "#Load preprocess data\n",
    "LK = np.array(pd.read_csv ('../data/processed_data/LSK.csv'))\n",
    "y = np.array(LK[:,-1],dtype=int)\n",
    "LK = LK[:,0:-1]"
   ]
  },
  {
   "cell_type": "code",
   "execution_count": null,
   "metadata": {},
   "outputs": [],
   "source": [
    "#Predict and evaluate\n",
    "model = FamiliesClusters(np.unique(y),compute_precision,True)\n",
    "pred = model.fit_predict(LK,y)"
   ]
  },
  {
   "cell_type": "code",
   "execution_count": null,
   "metadata": {},
   "outputs": [],
   "source": [
    "print(LK.shape, len(pred))\n",
    "acc = model.score_\n",
    "print(acc)"
   ]
  },
  {
   "cell_type": "code",
   "execution_count": null,
   "metadata": {},
   "outputs": [],
   "source": [
    "print(\"TP, FP, ratio, sensitivity, specificity, precision, NPV, FDR, FNR = \", compute_statTP(y,pred))"
   ]
  },
  {
   "cell_type": "markdown",
   "metadata": {},
   "source": [
    "# Split data into Kfold (kfold = 5)"
   ]
  },
  {
   "cell_type": "code",
   "execution_count": null,
   "metadata": {},
   "outputs": [],
   "source": [
    "split_x, split_y = split_data_cv(LK,y,5)"
   ]
  },
  {
   "cell_type": "markdown",
   "metadata": {},
   "source": [
    "# Mutual information maximizer (MIM)"
   ]
  },
  {
   "cell_type": "code",
   "execution_count": null,
   "metadata": {},
   "outputs": [],
   "source": [
    "score_training = []\n",
    "score_testing = []\n",
    "\n",
    "#CV with kfold\n",
    "kfold = 5\n",
    "for i in range(0,kfold):\n",
    "    #Get split data\n",
    "    x_test = np.squeeze(split_x[i])\n",
    "    y_test = np.squeeze(split_y[i])\n",
    "    x_train_temp = np.squeeze(np.delete(split_x, i))\n",
    "    y_train_temp = np.squeeze(np.delete(split_y, i))\n",
    "    \n",
    "    \n",
    "    #Fuse the training fold\n",
    "    for j in range(0,kfold-1):\n",
    "        x_train_temp[j] = np.squeeze(np.array(x_train_temp[j]))\n",
    "        y_train_temp[j] = np.squeeze(np.array(y_train_temp[j]))\n",
    "     \n",
    "    x_train = x_train_temp[0].T\n",
    "    y_train = y_train_temp[0]\n",
    "    for j in range(1,kfold-1):\n",
    "        x_train = np.c_[x_train,x_train_temp[j].T]\n",
    "        y_train = np.append(y_train,y_train_temp[j])\n",
    "    \n",
    "    x_train = x_train.T\n",
    "    print(np.shape(x_train),np.shape(x_test),np.shape(y_train),np.shape(y_test))\n",
    "    \n",
    "    #Run feature selection on training set\n",
    "    N = np.arange(80,1300,30)\n",
    "    subset, train_score = MIM(y_train, x_train, FamiliesClusters, compute_precision,True,N, 3, plot=True)\n",
    "    \n",
    "    #Evaluate feature selection on test set\n",
    "    model = FamiliesClusters(np.unique(y_test),compute_ratio,True)\n",
    "    pred = model.fit_predict(x_test[:, subset],y_test)\n",
    "    test_score = model.score(x_test,y_test)\n",
    "    \n",
    "    score_training = np.append(score_training, train_score)\n",
    "    score_testing = np.append(score_testing, test_score)\n",
    "\n",
    "mean_score_training, std_score_training = np.mean(score_training), np.std(score_training)    \n",
    "print('training', mean_score_training, std_score_training)\n",
    "\n",
    "mean_score_test, std_score_test = np.mean(score_testing), np.std(score_testing)    \n",
    "print('test', mean_score_test, std_score_test)"
   ]
  },
  {
   "cell_type": "markdown",
   "metadata": {},
   "source": [
    "# Anova F test"
   ]
  },
  {
   "cell_type": "code",
   "execution_count": null,
   "metadata": {},
   "outputs": [],
   "source": [
    "score_training = []\n",
    "score_testing = []\n",
    "\n",
    "#CV with kfold\n",
    "kfold = 5\n",
    "for i in range(0,kfold):\n",
    "    #Get split data\n",
    "    x_test = np.squeeze(split_x[i])\n",
    "    y_test = np.squeeze(split_y[i])\n",
    "    x_train_temp = np.squeeze(np.delete(split_x, i))\n",
    "    y_train_temp = np.squeeze(np.delete(split_y, i))\n",
    "    \n",
    "    \n",
    "    #Fuse the training fold\n",
    "    for j in range(0,kfold-1):\n",
    "        x_train_temp[j] = np.squeeze(np.array(x_train_temp[j]))\n",
    "        y_train_temp[j] = np.squeeze(np.array(y_train_temp[j]))\n",
    "     \n",
    "    x_train = x_train_temp[0].T\n",
    "    y_train = y_train_temp[0]\n",
    "    for j in range(1,kfold-1):\n",
    "        x_train = np.c_[x_train,x_train_temp[j].T]\n",
    "        y_train = np.append(y_train,y_train_temp[j])\n",
    "    \n",
    "    x_train = x_train.T\n",
    "    print(np.shape(x_train),np.shape(x_test),np.shape(y_train),np.shape(y_test))\n",
    "    \n",
    "    #Run feature selection on training set\n",
    "    N = np.arange(80,1300,30)\n",
    "    subset, train_score = ANOVA(y_train, x_train, FamiliesClusters, compute_ratio,True,N, plot=True)\n",
    "    \n",
    "    #Evaluate feature selection on test set\n",
    "    model = FamiliesClusters(np.unique(y_test),compute_ratio,True)\n",
    "    pred = model.fit_predict(x_test[:, subset],y_test)\n",
    "    test_score = model.score(x_test,y_test)\n",
    "    \n",
    "    score_training = np.append(score_training, train_score)\n",
    "    score_testing = np.append(score_testing, test_score)\n",
    "\n",
    "mean_score_training, std_score_training = np.mean(score_training), np.std(score_training)    \n",
    "print('training', mean_score_training, std_score_training)\n",
    "\n",
    "mean_score_test, std_score_test = np.mean(score_testing), np.std(score_testing)    \n",
    "print('test', mean_score_test, std_score_test)"
   ]
  },
  {
   "cell_type": "markdown",
   "metadata": {},
   "source": [
    "# Stimulated annealing"
   ]
  },
  {
   "cell_type": "code",
   "execution_count": null,
   "metadata": {},
   "outputs": [],
   "source": [
    "score_training = []\n",
    "score_testing = []\n",
    "\n",
    "#CV with kfold\n",
    "kfold = 5\n",
    "for i in range(0,kfold):\n",
    "    #Get split data\n",
    "    x_test = np.squeeze(split_x[i])\n",
    "    y_test = np.squeeze(split_y[i])\n",
    "    x_train_temp = np.squeeze(np.delete(split_x, i))\n",
    "    y_train_temp = np.squeeze(np.delete(split_y, i))\n",
    "    \n",
    "    \n",
    "    #Fuse the training fold\n",
    "    for j in range(0,kfold-1):\n",
    "        x_train_temp[j] = np.squeeze(np.array(x_train_temp[j]))\n",
    "        y_train_temp[j] = np.squeeze(np.array(y_train_temp[j]))\n",
    "     \n",
    "    x_train = x_train_temp[0].T\n",
    "    y_train = y_train_temp[0]\n",
    "    for j in range(1,kfold-1):\n",
    "        x_train = np.c_[x_train,x_train_temp[j].T]\n",
    "        y_train = np.append(y_train,y_train_temp[j])\n",
    "    \n",
    "    x_train = x_train.T\n",
    "    print(np.shape(x_train),np.shape(x_test),np.shape(y_train),np.shape(y_test))\n",
    "    \n",
    "    #Run feature selection on training set\n",
    "    subset, train_score = stimulated_annealing(y_train, x_train, FamiliesClusters, compute_sensitivity,True, 1400, 0.1, 1, True)\n",
    "    \n",
    "    #Evaluate feature selection on test set\n",
    "    model = FamiliesClusters(np.unique(y_test),compute_ratio,True)\n",
    "    pred = model.fit_predict(x_test[:, subset],y_test)\n",
    "    test_score = model.score(x_test,y_test)\n",
    "    \n",
    "    score_training = np.append(score_training, train_score)\n",
    "    score_testing = np.append(score_testing, test_score)\n",
    "\n",
    "mean_score_training, std_score_training = np.mean(score_training), np.std(score_training)    \n",
    "print('training', mean_score_training, std_score_training)\n",
    "\n",
    "mean_score_test, std_score_test = np.mean(score_testing), np.std(score_testing)    \n",
    "print('test', mean_score_test, std_score_test)"
   ]
  },
  {
   "cell_type": "markdown",
   "metadata": {},
   "source": [
    "# Genetic feature selection algorithm"
   ]
  },
  {
   "cell_type": "code",
   "execution_count": null,
   "metadata": {},
   "outputs": [],
   "source": [
    "score_training = []\n",
    "score_testing = []\n",
    "\n",
    "#CV with kfold\n",
    "kfold = 5\n",
    "for i in range(0,kfold):\n",
    "    #Get split data\n",
    "    x_test = np.squeeze(split_x[i])\n",
    "    y_test = np.squeeze(split_y[i])\n",
    "    x_train_temp = np.squeeze(np.delete(split_x, i))\n",
    "    y_train_temp = np.squeeze(np.delete(split_y, i))\n",
    "    \n",
    "    \n",
    "    #Fuse the training fold\n",
    "    for j in range(0,kfold-1):\n",
    "        x_train_temp[j] = np.squeeze(np.array(x_train_temp[j]))\n",
    "        y_train_temp[j] = np.squeeze(np.array(y_train_temp[j]))\n",
    "     \n",
    "    x_train = x_train_temp[0].T\n",
    "    y_train = y_train_temp[0]\n",
    "    for j in range(1,kfold-1):\n",
    "        x_train = np.c_[x_train,x_train_temp[j].T]\n",
    "        y_train = np.append(y_train,y_train_temp[j])\n",
    "    \n",
    "    x_train = x_train.T\n",
    "    print(np.shape(x_train),np.shape(x_test),np.shape(y_train),np.shape(y_test))\n",
    "    \n",
    "    #Run feature selection on training set\n",
    "    subset, train_score = genetic_fs(y_train,x_train,FamiliesClusters,compute_sensitivity,True, 500, 0.5, 0.2, 50, 3, True)\n",
    "    \n",
    "    #Evaluate feature selection on test set\n",
    "    model = FamiliesClusters(np.unique(y_test),compute_ratio,True)\n",
    "    pred = model.fit_predict(x_test[:, subset],y_test)\n",
    "    test_score = model.score(x_test,y_test)\n",
    "    \n",
    "    score_training = np.append(score_training, train_score)\n",
    "    score_testing = np.append(score_testing, test_score)\n",
    "\n",
    "mean_score_training, std_score_training = np.mean(score_training), np.std(score_training)    \n",
    "print('training', mean_score_training, std_score_training)\n",
    "\n",
    "mean_score_test, std_score_test = np.mean(score_testing), np.std(score_testing)    \n",
    "print('test', mean_score_test, std_score_test)"
   ]
  },
  {
   "cell_type": "markdown",
   "metadata": {},
   "source": [
    "# Mutual information and stimulated annealing"
   ]
  },
  {
   "cell_type": "code",
   "execution_count": null,
   "metadata": {},
   "outputs": [],
   "source": [
    "score_training = []\n",
    "score_testing = []\n",
    "\n",
    "#CV with kfold\n",
    "kfold = 5\n",
    "for i in range(0,kfold):\n",
    "    #Get split data\n",
    "    x_test = np.squeeze(split_x[i])\n",
    "    y_test = np.squeeze(split_y[i])\n",
    "    x_train_temp = np.squeeze(np.delete(split_x, i))\n",
    "    y_train_temp = np.squeeze(np.delete(split_y, i))\n",
    "    \n",
    "    \n",
    "    #Fuse the training fold\n",
    "    for j in range(0,kfold-1):\n",
    "        x_train_temp[j] = np.squeeze(np.array(x_train_temp[j]))\n",
    "        y_train_temp[j] = np.squeeze(np.array(y_train_temp[j]))\n",
    "     \n",
    "    x_train = x_train_temp[0].T\n",
    "    y_train = y_train_temp[0]\n",
    "    for j in range(1,kfold-1):\n",
    "        x_train = np.c_[x_train,x_train_temp[j].T]\n",
    "        y_train = np.append(y_train,y_train_temp[j])\n",
    "    \n",
    "    x_train = x_train.T\n",
    "    print(np.shape(x_train),np.shape(x_test),np.shape(y_train),np.shape(y_test))\n",
    "    \n",
    "    #Run feature selection on training set\n",
    "    subset, train_score = MI_stimulated_annealing(y_train,x_train, FamiliesClusters, compute_sensitivity,True, np.array([400]), 3, 5000, 0.05, 1, True)\n",
    "    \n",
    "    #Evaluate feature selection on test set\n",
    "    model = FamiliesClusters(np.unique(y_test),compute_ratio,True)\n",
    "    pred = model.fit_predict(x_test[:, subset],y_test)\n",
    "    test_score = model.score(x_test,y_test)\n",
    "    \n",
    "    score_training = np.append(score_training, train_score)\n",
    "    score_testing = np.append(score_testing, test_score)\n",
    "\n",
    "mean_score_training, std_score_training = np.mean(score_training), np.std(score_training)    \n",
    "print('training', mean_score_training, std_score_training)\n",
    "\n",
    "mean_score_test, std_score_test = np.mean(score_testing), np.std(score_testing)    \n",
    "print('test', mean_score_test, std_score_test)"
   ]
  },
  {
   "cell_type": "markdown",
   "metadata": {},
   "source": [
    "# Mutual information and genetic feature selection"
   ]
  },
  {
   "cell_type": "code",
   "execution_count": null,
   "metadata": {},
   "outputs": [],
   "source": [
    "score_training = []\n",
    "score_testing = []\n",
    "\n",
    "#CV with kfold\n",
    "kfold = 5\n",
    "for i in range(0,kfold):\n",
    "    #Get split data\n",
    "    x_test = np.squeeze(split_x[i])\n",
    "    y_test = np.squeeze(split_y[i])\n",
    "    x_train_temp = np.squeeze(np.delete(split_x, i))\n",
    "    y_train_temp = np.squeeze(np.delete(split_y, i))\n",
    "    \n",
    "    \n",
    "    #Fuse the training fold\n",
    "    for j in range(0,kfold-1):\n",
    "        x_train_temp[j] = np.squeeze(np.array(x_train_temp[j]))\n",
    "        y_train_temp[j] = np.squeeze(np.array(y_train_temp[j]))\n",
    "     \n",
    "    x_train = x_train_temp[0].T\n",
    "    y_train = y_train_temp[0]\n",
    "    for j in range(1,kfold-1):\n",
    "        x_train = np.c_[x_train,x_train_temp[j].T]\n",
    "        y_train = np.append(y_train,y_train_temp[j])\n",
    "    \n",
    "    x_train = x_train.T\n",
    "    print(np.shape(x_train),np.shape(x_test),np.shape(y_train),np.shape(y_test))\n",
    "    \n",
    "    #Run feature selection on training set\n",
    "    subset, train_score = MI_genetic_fs(y_train,x_train, FamiliesClusters, compute_sensitivity,True, np.array([700]), 3,  300, 0.5, 0.2, 120, 3, True)\n",
    "    \n",
    "    #Evaluate feature selection on test set\n",
    "    model = FamiliesClusters(np.unique(y_test),compute_ratio,True)\n",
    "    pred = model.fit_predict(x_test[:, subset],y_test)\n",
    "    test_score = model.score(x_test,y_test)\n",
    "    \n",
    "    score_training = np.append(score_training, train_score)\n",
    "    score_testing = np.append(score_testing, test_score)\n",
    "\n",
    "mean_score_training, std_score_training = np.mean(score_training), np.std(score_training)    \n",
    "print('training', mean_score_training, std_score_training)\n",
    "\n",
    "mean_score_test, std_score_test = np.mean(score_testing), np.std(score_testing)    \n",
    "print('test', mean_score_test, std_score_test)"
   ]
  },
  {
   "cell_type": "code",
   "execution_count": null,
   "metadata": {},
   "outputs": [],
   "source": []
  }
 ],
 "metadata": {
  "kernelspec": {
   "display_name": "Python 3 (ipykernel)",
   "language": "python",
   "name": "python3"
  },
  "language_info": {
   "codemirror_mode": {
    "name": "ipython",
    "version": 3
   },
   "file_extension": ".py",
   "mimetype": "text/x-python",
   "name": "python",
   "nbconvert_exporter": "python",
   "pygments_lexer": "ipython3",
   "version": "3.9.7"
  }
 },
 "nbformat": 4,
 "nbformat_minor": 4
}
