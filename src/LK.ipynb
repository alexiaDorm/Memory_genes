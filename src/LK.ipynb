{
 "cells": [
  {
   "cell_type": "code",
   "execution_count": 1,
   "metadata": {},
   "outputs": [],
   "source": [
    "import numpy as np\n",
    "import matplotlib.pyplot as plt\n",
    "\n",
    "import io \n",
    "import pandas as pd  \n",
    "import pyreadr\n",
    "\n",
    "from load_data import *\n",
    "from pred_score import *\n",
    "from Filter_FS import *\n",
    "from hybrid_FS import *\n",
    "from overlap_genes import *"
   ]
  },
  {
   "cell_type": "code",
   "execution_count": 2,
   "metadata": {},
   "outputs": [],
   "source": [
    "#Fixing seed to get reproducible results\n",
    "random.seed(3)\n",
    "np.random.seed(3)"
   ]
  },
  {
   "cell_type": "markdown",
   "metadata": {},
   "source": [
    "# Baseline with preselected genes "
   ]
  },
  {
   "cell_type": "code",
   "execution_count": 3,
   "metadata": {},
   "outputs": [],
   "source": [
    "#Load preprocess data\n",
    "LK = np.array(pd.read_csv ('../data/processed_data/LK.csv'))\n",
    "y = np.array(LK[:,-1],dtype=int)\n",
    "LK = LK[:,0:-1]"
   ]
  },
  {
   "cell_type": "code",
   "execution_count": 4,
   "metadata": {},
   "outputs": [],
   "source": [
    "#Predict and evaluate\n",
    "model = FamiliesClusters(np.unique(y),compute_precision,True)\n",
    "pred = model.fit_predict(LK,y)"
   ]
  },
  {
   "cell_type": "code",
   "execution_count": 5,
   "metadata": {},
   "outputs": [
    {
     "name": "stdout",
     "output_type": "stream",
     "text": [
      "(793, 3014) 793\n",
      "0.5387931034482759\n"
     ]
    }
   ],
   "source": [
    "print(LK.shape, len(pred))\n",
    "acc = model.score_\n",
    "print(acc)"
   ]
  },
  {
   "cell_type": "code",
   "execution_count": 6,
   "metadata": {},
   "outputs": [
    {
     "name": "stdout",
     "output_type": "stream",
     "text": [
      "sensitivity, specificity, precision, NPV, FDR, FNR =  (0.6811989100817438, 0.998620680764942, 0.5387931034482759, 0.9992454144416066, 0.46120689655172414, 0.3188010899182561)\n"
     ]
    }
   ],
   "source": [
    "print(\"TP, FP, ratio, sensitivity, specificity, precision, NPV, FDR, FNR = \", compute_statTP(y,pred))"
   ]
  },
  {
   "cell_type": "markdown",
   "metadata": {},
   "source": [
    "# Mutual information maximizer (MIM)"
   ]
  },
  {
   "cell_type": "code",
   "execution_count": 7,
   "metadata": {},
   "outputs": [
    {
     "name": "stdout",
     "output_type": "stream",
     "text": [
      "[   9   26   30   31   32   52   62   71   77  135  189  219  231  234\n",
      "  275  286  319  324  329  351  361  363  396  417  455  465  471  472\n",
      "  473  474  528  540  579  607  640  699  710  830  845  863  866  876\n",
      "  896  909  917  933  954  960  988 1011 1041 1073 1079 1085 1088 1089\n",
      " 1111 1135 1149 1159 1182 1188 1193 1228 1243 1297 1312 1314 1315 1322\n",
      " 1355 1364 1418 1419 1460 1518 1527 1534 1548 1549 1556 1562 1632 1634\n",
      " 1649 1687 1690 1706 1773 1800 1815 1833 1838 1842 1865 1867 1887 1908\n",
      " 1935 1962 1968 1987 1992 1993 1995 2003 2037 2049 2054 2080 2103 2153\n",
      " 2250 2272 2314 2417 2428 2436 2482 2483 2522 2553 2560 2616 2652 2655\n",
      " 2670 2676 2716 2779 2831 2858 2871 2879 2906 2923 2934 2939 3000 3006] 0.7655913978494624\n"
     ]
    },
    {
     "data": {
      "image/png": "[encoded data removed]",
      "text/plain": [
       "<Figure size 432x288 with 1 Axes>"
      ]
     },
     "metadata": {
      "needs_background": "light"
     },
     "output_type": "display_data"
    }
   ],
   "source": [
    "N = np.arange(80,401,15)\n",
    "#N = np.arange(210,241,5)\n",
    "best_subset, best_score = MIM(y, LK, FamiliesClusters, compute_precision,True,N, 3, plot=True)\n",
    "print(best_subset, best_score)"
   ]
  },
  {
   "cell_type": "code",
   "execution_count": 8,
   "metadata": {},
   "outputs": [
    {
     "name": "stdout",
     "output_type": "stream",
     "text": [
      "140\n",
      "sensitivity, specificity, precision, NPV, FDR, FNR =  (0.9198966408268734, 0.9991626527774576, 0.7655913978494624, 0.9997617125946424, 0.23440860215053763, 0.08010335917312661)\n"
     ]
    }
   ],
   "source": [
    "print(len(best_subset))\n",
    "#Predict and evaluate\n",
    "model = FamiliesClusters(np.unique(y),compute_precision,True)\n",
    "pred = model.fit_predict(LK[:, best_subset],y)\n",
    "\n",
    "print(\"TP, FP, ratio, sensitivity, specificity, precision, NPV, FDR, FNR = \", compute_statTP(y,pred))"
   ]
  },
  {
   "cell_type": "markdown",
   "metadata": {
    "id": "lPqyZ49FMaxj"
   },
   "source": [
    "# Anova F test"
   ]
  },
  {
   "cell_type": "code",
   "execution_count": null,
   "metadata": {},
   "outputs": [],
   "source": [
    "N = np.arange(80,401,15)\n",
    "#N = np.arange(210,241,5)\n",
    "best_subset, best_score = Anova(y, LK, FamiliesClusters, compute_precision,True,N, 3, plot=True)\n",
    "print(best_subset, best_score)"
   ]
  },
  {
   "cell_type": "code",
   "execution_count": null,
   "metadata": {},
   "outputs": [],
   "source": [
    "print(len(best_subset))\n",
    "#Predict and evaluate\n",
    "model = FamiliesClusters(np.unique(y),compute_precision,True)\n",
    "pred = model.fit_predict(LK[:, best_subset],y)\n",
    "\n",
    "print(\"TP, FP, ratio, sensitivity, specificity, precision, NPV, FDR, FNR = \", compute_statTP(y,pred))"
   ]
  },
  {
   "cell_type": "markdown",
   "metadata": {},
   "source": [
    "# Stimulated annealing"
   ]
  },
  {
   "cell_type": "code",
   "execution_count": null,
   "metadata": {},
   "outputs": [],
   "source": [
    "best_subset, best_score  = stimulated_annealing(y, LK, FamiliesClusters, compute_sensitivity,True, 1400, 0.1, 1, True)\n",
    "print(best_score)"
   ]
  },
  {
   "cell_type": "code",
   "execution_count": null,
   "metadata": {},
   "outputs": [],
   "source": [
    "print(len(best_subset))\n",
    "#Predict and evaluate\n",
    "model = FamiliesClusters(np.unique(y),compute_sensitivity,True)\n",
    "pred = model.fit_predict(LK[:, best_subset],y)\n",
    "\n",
    "print(\"TP, FP, ratio, sensitivity, specificity, precision, NPV, FDR, FNR = \", compute_statTP(y,pred))"
   ]
  },
  {
   "cell_type": "markdown",
   "metadata": {},
   "source": [
    "# Genetic feature selection algorithm"
   ]
  },
  {
   "cell_type": "code",
   "execution_count": null,
   "metadata": {},
   "outputs": [],
   "source": [
    "best_subset, best_score  = genetic_fs(y,LK,FamiliesClusters,compute_sensitivity,True, 500, 0.5, 0.2, 50, 3, True)\n",
    "print(best_score)"
   ]
  },
  {
   "cell_type": "code",
   "execution_count": null,
   "metadata": {},
   "outputs": [],
   "source": [
    "print(len(best_subset))\n",
    "#Predict and evaluate\n",
    "model = FamiliesClusters(np.unique(y),compute_sensitivity,True)\n",
    "pred = model.fit_predict(LK[:, best_subset],y)\n",
    "\n",
    "print(\"TP, FP, ratio, sensitivity, specificity, precision, NPV, FDR, FNR = \", compute_statTP(y,pred))"
   ]
  },
  {
   "cell_type": "markdown",
   "metadata": {},
   "source": [
    "# Hybrid methods"
   ]
  },
  {
   "cell_type": "markdown",
   "metadata": {},
   "source": [
    "# Mutual information and stimulated annealing"
   ]
  },
  {
   "cell_type": "code",
   "execution_count": null,
   "metadata": {},
   "outputs": [],
   "source": [
    "best_subset, best_score = MI_stimulated_annealing(y,LK, FamiliesClusters, compute_sensitivity,True, np.array([400]), 3, 5000, 0.05, 1, True)\n",
    "print(best_subset, best_score)"
   ]
  },
  {
   "cell_type": "code",
   "execution_count": 15,
   "metadata": {},
   "outputs": [
    {
     "name": "stdout",
     "output_type": "stream",
     "text": [
      "207\n",
      "sensitivity, specificity, precision, NPV, FDR, FNR =  (0.9548387096774194, 0.9964129684985054, 0.6548672566371682, 0.9996770323890376, 0.34513274336283184, 0.04516129032258064)\n"
     ]
    }
   ],
   "source": [
    "print(len(best_subset))\n",
    "#Predict and evaluate\n",
    "model = FamiliesClusters(np.unique(y),compute_sensitivity,True)\n",
    "pred = model.fit_predict(LK[:, best_subset],y)\n",
    "\n",
    "print(\"TP, FP, ratio, sensitivity, specificity, precision, NPV, FDR, FNR = \", compute_statTP(y,pred))print(\"sensitivity, specificity, precision, NPV, FDR, FNR = \", compute_statTP(y,pred))"
   ]
  },
  {
   "cell_type": "markdown",
   "metadata": {},
   "source": [
    "# Mutual information and genetic feature selection"
   ]
  },
  {
   "cell_type": "code",
   "execution_count": 16,
   "metadata": {},
   "outputs": [
    {
     "data": {
      "image/png": "[encoded data removed]",
      "text/plain": [
       "<Figure size 432x288 with 1 Axes>"
      ]
     },
     "metadata": {
      "needs_background": "light"
     },
     "output_type": "display_data"
    },
    {
     "name": "stdout",
     "output_type": "stream",
     "text": [
      "[   2    3    7    9   26   30   31   32   36   40   46   47   53   59\n",
      "   63   77   78   84   85   97  117  128  130  131  135  139  140  142\n",
      "  151  166  177  181  185  193  195  204  209  217  226  227  229  233\n",
      "  237  245  253  263  274  283  285  323  329  330  342  350  353  359\n",
      "  365  370  376  379  395  400  404  412  417  420  424  425  426  432\n",
      "  451  456  460  469  471  474  475  476  478  484  492  493  513  522\n",
      "  526  532  539  545  546  547  591  596  600  601  604  606  612  616\n",
      "  619  622  624  646  647  649  653  657  665  670  691  693  705  707\n",
      "  718  719  721  735  737  740  744  746  747  754  758  771  782  788\n",
      "  791  797  814  815  819  822  826  827  832  833  834  841  849  852\n",
      "  853  859  875  877  880  891  893  898  908  911  921  922  924  933\n",
      "  935  940  950  951  952  959  967  970  976  978  985  993  996 1005\n",
      " 1014 1027 1030 1031 1047 1049 1053 1054 1057 1064 1071 1074 1075 1086\n",
      " 1087 1096 1097 1098 1106 1107 1109 1110 1115 1117 1121 1129 1130 1133\n",
      " 1138 1149 1179 1181 1183 1193 1197 1206 1207 1209 1214 1217 1220 1222\n",
      " 1231 1232 1236 1246 1248 1254 1256 1257 1265 1267 1269 1275 1282 1286\n",
      " 1288 1289 1294 1298 1302 1306 1315 1327 1331 1341 1342 1344 1345 1350\n",
      " 1352 1353 1359 1360 1386 1387 1388 1392 1398 1424 1432 1438 1449 1452\n",
      " 1456 1461 1466 1476 1477 1494 1497 1498 1503 1508 1519 1549 1555 1557\n",
      " 1562 1567 1571 1577 1593 1594 1597 1600 1602 1605 1606 1612 1613 1621\n",
      " 1638 1640 1641 1645 1647 1678 1680 1685 1690 1691 1694 1695 1702 1709\n",
      " 1717 1722 1726 1732 1733 1736 1739 1743 1747 1752 1753 1761 1775 1787\n",
      " 1791 1798 1804 1820 1821 1823 1836 1845 1848 1849 1850 1852 1865 1866\n",
      " 1871 1877 1879 1884 1888 1889 1894 1896 1897 1905 1916 1917 1918 1926\n",
      " 1934 1936 1937 1943 1945 1946 1948 1950 1959 1960 1981 1982 1987 1988\n",
      " 2003 2008 2014 2020 2037 2038 2039 2043 2044 2045 2046 2047 2054 2060\n",
      " 2082 2085 2090 2091 2097 2102 2103 2105 2111 2114 2115 2119 2122 2137\n",
      " 2141 2142 2151 2155 2160 2172 2181 2183 2188 2195 2203 2206 2214 2215\n",
      " 2223 2227 2230 2232 2237 2244 2246 2250 2253 2256 2257 2265 2267 2272\n",
      " 2287 2296 2298 2310 2320 2322 2324 2325 2327 2333 2335 2336 2339 2340\n",
      " 2342 2345 2348 2353 2356 2359 2371 2374 2377 2378 2380 2382 2386 2389\n",
      " 2418 2419 2421 2423 2441 2451 2452 2459 2469 2485 2486 2488 2489 2493\n",
      " 2499 2502 2506 2507 2510 2511 2517 2523 2528 2535 2536 2553 2554 2556\n",
      " 2558 2564 2568 2578 2579 2582 2585 2590 2601 2615 2619 2625 2627 2632\n",
      " 2637 2640 2641 2643 2648 2649 2653 2654 2656 2657 2663 2669 2673 2674\n",
      " 2684 2696 2714 2721 2722 2728 2737 2743 2744 2745 2753 2765 2766 2779\n",
      " 2790 2800 2805 2810 2811 2813 2816 2818 2833 2837 2846 2849 2873 2881\n",
      " 2883 2884 2890 2891 2893 2900 2901 2914 2921 2927 2930 2931 2944 2955\n",
      " 2958 2967 2968 2969 2973 2980 2985 2991 2992 3001 3008 3010 3016 3020\n",
      " 3025 3028 3029 3030 3036 3039 3041 3048 3082 3089 3092 3095 3096] 0.956045653907496\n"
     ]
    }
   ],
   "source": [
    "best_subset, best_score = MI_genetic_fs(y,LK, FamiliesClusters, compute_sensitivity,True, np.array([700]), 3,  300, 0.5, 0.2, 120, 3, True)\n",
    "print(best_subset, best_score)"
   ]
  },
  {
   "cell_type": "code",
   "execution_count": 17,
   "metadata": {},
   "outputs": [
    {
     "name": "stdout",
     "output_type": "stream",
     "text": [
      "559\n",
      "sensitivity, specificity, precision, NPV, FDR, FNR =  (0.9573170731707317, 0.997424592954734, 0.7268518518518519, 0.9996937480859255, 0.27314814814814814, 0.042682926829268296)\n"
     ]
    }
   ],
   "source": [
    "print(len(best_subset))\n",
    "#Predict and evaluate\n",
    "model = FamiliesClusters(np.unique(y),compute_precision,True)\n",
    "pred = model.fit_predict(LK[:, best_subset],y)\n",
    "\n",
    "print(\"TP, FP, ratio, sensitivity, specificity, precision, NPV, FDR, FNR = \", compute_statTP(y,pred))"
   ]
  },
  {
   "cell_type": "code",
   "execution_count": null,
   "metadata": {},
   "outputs": [],
   "source": [
    "LK_best = get_best_genes_names(LK_best_subset, '../data/processed_data/LKgenes_interest.csv' ,'../data/optimized_subsets/LKgenes_best.csv')"
   ]
  }
 ],
 "metadata": {
  "kernelspec": {
   "display_name": "Python 3 (ipykernel)",
   "language": "python",
   "name": "python3"
  },
  "language_info": {
   "codemirror_mode": {
    "name": "ipython",
    "version": 3
   },
   "file_extension": ".py",
   "mimetype": "text/x-python",
   "name": "python",
   "nbconvert_exporter": "python",
   "pygments_lexer": "ipython3",
   "version": "3.9.7"
  }
 },
 "nbformat": 4,
 "nbformat_minor": 4
}
