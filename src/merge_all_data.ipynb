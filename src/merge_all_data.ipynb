{
 "cells": [
  {
   "cell_type": "code",
   "execution_count": 2,
   "metadata": {},
   "outputs": [],
   "source": [
    "import numpy as np\n",
    "import matplotlib.pyplot as plt\n",
    "\n",
    "import io \n",
    "import pandas as pd \n",
    "import pyreadr\n",
    "\n",
    "from load_data import *\n",
    "from overlap_genes import *"
   ]
  },
  {
   "cell_type": "code",
   "execution_count": 3,
   "metadata": {
    "tags": []
   },
   "outputs": [
    {
     "name": "stdout",
     "output_type": "stream",
     "text": [
      "(32285, 333) (333,)\n",
      "(32285, 1473) (1473,)\n",
      "(32285, 461) (461,)\n",
      "(32285, 154) (154,)\n",
      "(32285, 178) (178,)\n",
      "(16760, 610) (610,)\n",
      "(25289, 3383) (3383,)\n",
      "(23461, 1023) (1023,)\n"
     ]
    }
   ],
   "source": [
    "#Load AE3 data\n",
    "AE3 = pd.read_csv ('../data/merged_data/AE3.csv')\n",
    "AE3 = AE3.set_index('Unnamed: 0')\n",
    "y_AE3 = np.squeeze(np.array(pd.read_csv('../data/merged_data/y_AE3.csv')))\n",
    "print(np.shape(AE3), np.shape(y_AE3))\n",
    "\n",
    "#Load AE4 data\n",
    "AE4 = pd.read_csv ('../data/merged_data/AE4.csv')\n",
    "AE4 = AE4.set_index('Unnamed: 0')\n",
    "y_AE4 = np.squeeze(np.array(pd.read_csv('../data/merged_data/y_AE4.csv')))\n",
    "print(np.shape(AE4), np.shape(y_AE4))\n",
    "\n",
    "#Load BIDDY D0 data\n",
    "D0 = pd.read_csv ('../data/merged_data/D0.csv')\n",
    "D0 = D0.set_index('Unnamed: 0')\n",
    "y_D0 = np.squeeze(np.array(pd.read_csv('../data/merged_data/y_D0.csv')))\n",
    "print(np.shape(D0), np.shape(y_D0))\n",
    "\n",
    "#Load BIDDY D6 data\n",
    "D6 = pd.read_csv ('../data/merged_data/D6.csv')\n",
    "D6 = D6.set_index('Unnamed: 0')\n",
    "y_D6 = np.squeeze(np.array(pd.read_csv('../data/merged_data/y_D6.csv')))\n",
    "print(np.shape(D6), np.shape(y_D6))\n",
    "\n",
    "#Load BIDDY D15 data\n",
    "D15 = pd.read_csv ('../data/merged_data/D15.csv')\n",
    "D15 = D15.set_index('Unnamed: 0')\n",
    "y_D15 = np.squeeze(np.array(pd.read_csv('../data/merged_data/y_D15.csv')))\n",
    "print(np.shape(D15), np.shape(y_D15))\n",
    "\n",
    "#Load Weinreb LK data\n",
    "LK = pd.read_csv ('../data/merged_data/LK.csv')\n",
    "LK = LK.set_index('Unnamed: 0')\n",
    "y_LK  = np.squeeze(np.array(pd.read_csv('../data/merged_data/y_LK.csv')))\n",
    "print(np.shape(LK), np.shape(y_LK))\n",
    "\n",
    "#Load Weinreb LSK data\n",
    "LSK = pd.read_csv ('../data/merged_data/LSK.csv')\n",
    "LSK = LSK.set_index('Unnamed: 0')\n",
    "y_LSK  =np.squeeze(np.array(pd.read_csv('../data/merged_data/y_LSK.csv')))\n",
    "print(np.shape(LSK), np.shape(y_LSK))\n",
    "\n",
    "#Load Weinreb LSKmix data\n",
    "LSKmix = pd.read_csv ('../data/merged_data/LSKmix.csv')\n",
    "LSKmix = LSKmix.set_index('Unnamed: 0')\n",
    "y_LSKmix  = np.squeeze(np.array(pd.read_csv('../data/merged_data/y_LSKmix.csv')))\n",
    "print(np.shape(LSKmix), np.shape(y_LSKmix))"
   ]
  },
  {
   "cell_type": "markdown",
   "metadata": {},
   "source": [
    "# Fuse all data sets"
   ]
  },
  {
   "cell_type": "code",
   "execution_count": 4,
   "metadata": {},
   "outputs": [],
   "source": [
    "genes_interest = set(AE3.index) & set(LK.index)\n",
    "genes_interest = genes_interest & set(LSKmix.index)\n",
    "\n",
    "AE3_df = AE3.loc[genes_interest,:]\n",
    "AE4_df = AE4.loc[genes_interest,:]\n",
    "D0_df = D0.loc[genes_interest,:]\n",
    "D6_df = D6.loc[genes_interest,:]\n",
    "D15_df = D15.loc[genes_interest,:]\n",
    "LK_df = LK.loc[genes_interest,:]\n",
    "LSK_df = LSK.loc[genes_interest,:]\n",
    "LSKmix_df = LSKmix.loc[genes_interest,:]"
   ]
  },
  {
   "cell_type": "code",
   "execution_count": 37,
   "metadata": {},
   "outputs": [
    {
     "name": "stdout",
     "output_type": "stream",
     "text": [
      "(16349, 610)\n",
      "16235\n",
      "16235\n"
     ]
    },
    {
     "data": {
      "text/plain": [
       "array([False, False, False, False, False,  True, False,  True,  True,\n",
       "       False, False, False, False, False, False,  True, False, False,\n",
       "       False, False, False,  True,  True, False, False,  True, False,\n",
       "        True,  True, False,  True,  True,  True,  True,  True,  True,\n",
       "       False,  True,  True, False, False, False,  True, False,  True,\n",
       "        True,  True,  True, False,  True, False, False, False, False,\n",
       "       False, False,  True, False, False, False, False, False, False,\n",
       "        True,  True,  True,  True, False, False, False,  True, False,\n",
       "        True,  True,  True,  True,  True,  True,  True,  True, False,\n",
       "       False,  True, False, False, False, False, False,  True, False,\n",
       "       False, False, False, False, False, False,  True, False, False,\n",
       "       False, False,  True, False,  True, False, False, False,  True,\n",
       "       False, False, False, False,  True, False,  True, False,  True,\n",
       "       False, False,  True, False, False,  True, False,  True, False,\n",
       "       False,  True,  True, False, False, False, False, False,  True,\n",
       "       False, False,  True,  True, False, False, False, False, False,\n",
       "        True, False, False, False, False, False,  True, False,  True,\n",
       "        True, False,  True, False, False, False, False,  True, False,\n",
       "       False, False,  True, False, False, False, False,  True,  True,\n",
       "       False, False,  True, False, False, False, False,  True, False,\n",
       "       False,  True, False,  True,  True, False,  True, False, False,\n",
       "       False,  True,  True,  True, False, False,  True,  True, False,\n",
       "       False, False, False,  True, False, False,  True, False, False,\n",
       "       False,  True, False,  True, False, False, False,  True, False,\n",
       "        True,  True,  True,  True, False, False, False, False,  True,\n",
       "        True, False, False, False, False, False, False, False, False,\n",
       "       False, False, False, False,  True,  True,  True,  True, False,\n",
       "       False, False, False, False,  True, False, False,  True, False,\n",
       "        True, False, False, False,  True,  True,  True, False,  True,\n",
       "        True, False, False, False, False,  True,  True, False, False,\n",
       "        True,  True, False, False,  True, False,  True, False, False,\n",
       "       False,  True, False,  True, False, False,  True, False,  True,\n",
       "       False,  True, False, False, False, False, False,  True, False,\n",
       "        True, False,  True,  True, False,  True, False, False, False,\n",
       "       False, False,  True,  True,  True, False, False, False, False,\n",
       "       False, False, False,  True,  True, False, False,  True,  True,\n",
       "       False,  True,  True, False,  True, False, False,  True, False,\n",
       "        True, False, False, False,  True, False, False,  True, False,\n",
       "       False,  True,  True, False, False,  True,  True, False, False,\n",
       "        True, False,  True,  True,  True, False,  True, False, False,\n",
       "        True, False, False, False, False,  True,  True,  True, False,\n",
       "       False,  True, False,  True, False, False,  True, False,  True,\n",
       "       False, False, False,  True, False, False, False, False, False,\n",
       "        True, False, False,  True,  True,  True,  True,  True,  True,\n",
       "       False, False, False,  True, False,  True, False, False, False,\n",
       "        True, False,  True, False, False, False,  True, False,  True,\n",
       "       False, False, False, False, False, False,  True, False, False,\n",
       "        True, False, False, False,  True,  True, False,  True, False,\n",
       "        True,  True, False, False, False, False, False, False,  True,\n",
       "       False,  True,  True,  True,  True, False, False, False,  True,\n",
       "        True, False, False,  True, False, False, False, False, False,\n",
       "        True,  True,  True,  True,  True, False,  True, False,  True,\n",
       "       False, False, False, False, False,  True, False, False,  True,\n",
       "       False,  True, False,  True, False, False, False, False, False,\n",
       "        True, False,  True, False, False,  True,  True,  True, False,\n",
       "        True, False,  True,  True,  True,  True,  True, False, False,\n",
       "        True, False,  True,  True, False,  True, False,  True,  True,\n",
       "       False, False, False,  True, False, False, False,  True, False,\n",
       "       False, False, False, False,  True,  True, False, False, False,\n",
       "       False,  True,  True,  True,  True,  True, False, False,  True,\n",
       "       False,  True,  True,  True,  True,  True, False, False,  True,\n",
       "       False, False,  True, False,  True, False,  True,  True, False,\n",
       "       False, False,  True,  True,  True, False, False,  True,  True,\n",
       "        True,  True,  True, False,  True,  True, False, False, False,\n",
       "        True, False,  True, False, False, False, False, False, False,\n",
       "        True, False, False, False,  True,  True, False, False,  True,\n",
       "       False, False,  True,  True, False,  True,  True, False, False,\n",
       "        True,  True,  True, False,  True, False, False])"
      ]
     },
     "execution_count": 37,
     "metadata": {},
     "output_type": "execute_result"
    }
   ],
   "source": [
    "print(LK_df.shape)\n",
    "print(len(genes_interest))\n",
    "print(len(np.unique(LK_df.index)))\n",
    "values, counts = np.unique(LK_df.index, return_counts=True)\n",
    "ind = np.where(counts>1)\n",
    "values[ind]\n",
    "\n",
    "test1 = np.array(LK)[7991,:]\n",
    "test2 = np.array(LK)[14645,:]"
   ]
  },
  {
   "cell_type": "code",
   "execution_count": 68,
   "metadata": {},
   "outputs": [
    {
     "name": "stdout",
     "output_type": "stream",
     "text": [
      "RangeIndex(start=0, stop=32285, step=1)\n",
      "       genes                   0         1        2        3        4  \\\n",
      "0          0  ENSMUSG00000051951         0        0        0        0   \n",
      "1          1  ENSMUSG00000089699         0        0        0        0   \n",
      "2          2  ENSMUSG00000102331         0        0        0        0   \n",
      "3          3  ENSMUSG00000102343         0        0        0        0   \n",
      "4          4  ENSMUSG00000025900         0        0        0        0   \n",
      "...      ...                 ...       ...      ...      ...      ...   \n",
      "16755  16755  ENSMUSG00000102540         0        0        0        0   \n",
      "16756  16756  ENSMUSG00000070284  0.674947  2.28393  2.62131  0.98685   \n",
      "16757  16757  ENSMUSG00000041528         0        0        0        0   \n",
      "16758  16758  ENSMUSG00000092218         0        0        0        0   \n",
      "16759  16759  ENSMUSG00000032593         0        0        0        0   \n",
      "\n",
      "              5        6        7  8  ...     1013      1014 1015 1016 1017  \\\n",
      "0             0        0        0  0  ...        0         0    0    0    0   \n",
      "1             0        0        0  0  ...  1.43519  0.279595    0    0    0   \n",
      "2             0        0        0  0  ...        0         0    0    0    0   \n",
      "3             0        0        0  0  ...        0         0    0    0    0   \n",
      "4             0        0        0  0  ...        0         0    0    0    0   \n",
      "...         ...      ...      ... ..  ...      ...       ...  ...  ...  ...   \n",
      "16755         0        0        0  0  ...        0         0    0    0    0   \n",
      "16756  0.787814  1.05441  0.90108  0  ...        0         0    0    0    0   \n",
      "16757         0        0        0  0  ...        0         0    0    0    0   \n",
      "16758         0        0        0  0  ...        0         0    0    0    0   \n",
      "16759         0        0        0  0  ...        0         0    0    0    0   \n",
      "\n",
      "      1018      1019     1020 1021 1022  \n",
      "0        0         0        0    0    0  \n",
      "1        0   1.01346        0    0    0  \n",
      "2        0  0.506728        0    0    0  \n",
      "3        0         0  1.79239    0    0  \n",
      "4        0         0        0    0    0  \n",
      "...    ...       ...      ...  ...  ...  \n",
      "16755    0         0        0    0    0  \n",
      "16756    0         0        0    0    0  \n",
      "16757    0         0        0    0    0  \n",
      "16758    0         0        0    0    0  \n",
      "16759    0         0        0    0    0  \n",
      "\n",
      "[16760 rows x 7617 columns]\n",
      "7615\n"
     ]
    }
   ],
   "source": [
    "#Fuse ormalized data\n",
    "all_norm = pd.concat([AE3_df, AE4_df,D0_df,D6_df,D15_df,LK_df,LSK_df,LSKmix_df], axis=1)\n",
    "\n",
    "#Fuse families info\n",
    "y_AE4 += max(y_AE3) #Add the max indice of families in first dataset so that there is no overlap between families indices.\n",
    "y_all = np.hstack((y_AE3, y_AE4))\n",
    "\n",
    "y_D0 += max(y_all)\n",
    "y_all = np.hstack((y_all, y_D0))\n",
    "\n",
    "y_D6 += max(y_all)\n",
    "y_all = np.hstack((y_all, y_D6))\n",
    "\n",
    "y_D15 += max(y_all)\n",
    "y_all = np.hstack((y_all, y_D15))\n",
    "\n",
    "y_LK += max(y_all)\n",
    "y_all = np.hstack((y_all, y_LK))\n",
    "\n",
    "y_LSK += max(y_all)\n",
    "y_all = np.hstack((y_all, y_LSK)) \n",
    "\n",
    "y_LSKmix += max(y_all)\n",
    "y_all = np.hstack((y_all, y_LSKmix))\n",
    "print(len(y_all))"
   ]
  },
  {
   "cell_type": "code",
   "execution_count": 56,
   "metadata": {},
   "outputs": [
    {
     "name": "stdout",
     "output_type": "stream",
     "text": [
      "                     0         1        2        3        4         5     \\\n",
      "0      ENSMUSG00000051951         0        0        0        0         0   \n",
      "1      ENSMUSG00000089699         0        0        0        0         0   \n",
      "2      ENSMUSG00000102331         0        0        0        0         0   \n",
      "3      ENSMUSG00000102343         0        0        0        0         0   \n",
      "4      ENSMUSG00000025900         0        0        0        0         0   \n",
      "...                   ...       ...      ...      ...      ...       ...   \n",
      "16755  ENSMUSG00000102540         0        0        0        0         0   \n",
      "16756  ENSMUSG00000070284  0.674947  2.28393  2.62131  0.98685  0.787814   \n",
      "16757  ENSMUSG00000041528         0        0        0        0         0   \n",
      "16758  ENSMUSG00000092218         0        0        0        0         0   \n",
      "16759  ENSMUSG00000032593         0        0        0        0         0   \n",
      "\n",
      "          6        7    8        9     ...     1013      1014 1015 1016 1017  \\\n",
      "0            0        0    0        0  ...        0         0    0    0    0   \n",
      "1            0        0    0        0  ...  1.43519  0.279595    0    0    0   \n",
      "2            0        0    0        0  ...        0         0    0    0    0   \n",
      "3            0        0    0        0  ...        0         0    0    0    0   \n",
      "4            0        0    0        0  ...        0         0    0    0    0   \n",
      "...        ...      ...  ...      ...  ...      ...       ...  ...  ...  ...   \n",
      "16755        0        0    0        0  ...        0         0    0    0    0   \n",
      "16756  1.05441  0.90108    0  4.31444  ...        0         0    0    0    0   \n",
      "16757        0        0    0        0  ...        0         0    0    0    0   \n",
      "16758        0        0    0        0  ...        0         0    0    0    0   \n",
      "16759        0        0    0        0  ...        0         0    0    0    0   \n",
      "\n",
      "      1018      1019     1020 1021 1022  \n",
      "0        0         0        0    0    0  \n",
      "1        0   1.01346        0    0    0  \n",
      "2        0  0.506728        0    0    0  \n",
      "3        0         0  1.79239    0    0  \n",
      "4        0         0        0    0    0  \n",
      "...    ...       ...      ...  ...  ...  \n",
      "16755    0         0        0    0    0  \n",
      "16756    0         0        0    0    0  \n",
      "16757    0         0        0    0    0  \n",
      "16758    0         0        0    0    0  \n",
      "16759    0         0        0    0    0  \n",
      "\n",
      "[16760 rows x 7616 columns]\n"
     ]
    }
   ],
   "source": [
    "print(all_norm)"
   ]
  },
  {
   "cell_type": "code",
   "execution_count": 70,
   "metadata": {},
   "outputs": [
    {
     "name": "stdout",
     "output_type": "stream",
     "text": [
      "(10476, 2599)\n"
     ]
    },
    {
     "ename": "ValueError",
     "evalue": "all the input array dimensions for the concatenation axis must match exactly, but along dimension 0, the array at index 0 has size 2599 and the array at index 1 has size 2727",
     "output_type": "error",
     "traceback": [
      "\u001b[0;31m---------------------------------------------------------------------------\u001b[0m",
      "\u001b[0;31mValueError\u001b[0m                                Traceback (most recent call last)",
      "\u001b[0;32m/var/folders/gz/s90yhf3d4yg_q6r76fs2lg380000gq/T/ipykernel_1023/3136934822.py\u001b[0m in \u001b[0;36m<module>\u001b[0;34m\u001b[0m\n\u001b[1;32m     13\u001b[0m \u001b[0;34m\u001b[0m\u001b[0m\n\u001b[1;32m     14\u001b[0m \u001b[0;31m#Create preprocess data\u001b[0m\u001b[0;34m\u001b[0m\u001b[0;34m\u001b[0m\u001b[0m\n\u001b[0;32m---> 15\u001b[0;31m \u001b[0mallcsv\u001b[0m \u001b[0;34m=\u001b[0m \u001b[0mnp\u001b[0m\u001b[0;34m.\u001b[0m\u001b[0mc_\u001b[0m\u001b[0;34m[\u001b[0m\u001b[0mall_\u001b[0m\u001b[0;34m.\u001b[0m\u001b[0mT\u001b[0m\u001b[0;34m,\u001b[0m\u001b[0my_all\u001b[0m\u001b[0;34m]\u001b[0m\u001b[0;34m\u001b[0m\u001b[0;34m\u001b[0m\u001b[0m\n\u001b[0m\u001b[1;32m     16\u001b[0m \u001b[0mallcsv\u001b[0m \u001b[0;34m=\u001b[0m \u001b[0mpd\u001b[0m\u001b[0;34m.\u001b[0m\u001b[0mDataFrame\u001b[0m\u001b[0;34m(\u001b[0m\u001b[0mMEFcsv\u001b[0m\u001b[0;34m)\u001b[0m\u001b[0;34m\u001b[0m\u001b[0;34m\u001b[0m\u001b[0m\n\u001b[1;32m     17\u001b[0m \u001b[0mallcsv\u001b[0m\u001b[0;34m.\u001b[0m\u001b[0mto_csv\u001b[0m\u001b[0;34m(\u001b[0m\u001b[0;34m'../data/processed_data/all.csv'\u001b[0m\u001b[0;34m,\u001b[0m \u001b[0mindex\u001b[0m\u001b[0;34m=\u001b[0m\u001b[0;32mFalse\u001b[0m\u001b[0;34m)\u001b[0m\u001b[0;34m\u001b[0m\u001b[0;34m\u001b[0m\u001b[0m\n",
      "\u001b[0;32m~/opt/anaconda3/lib/python3.9/site-packages/numpy/lib/index_tricks.py\u001b[0m in \u001b[0;36m__getitem__\u001b[0;34m(self, key)\u001b[0m\n\u001b[1;32m    405\u001b[0m                 \u001b[0mobjs\u001b[0m\u001b[0;34m[\u001b[0m\u001b[0mk\u001b[0m\u001b[0;34m]\u001b[0m \u001b[0;34m=\u001b[0m \u001b[0mobjs\u001b[0m\u001b[0;34m[\u001b[0m\u001b[0mk\u001b[0m\u001b[0;34m]\u001b[0m\u001b[0;34m.\u001b[0m\u001b[0mastype\u001b[0m\u001b[0;34m(\u001b[0m\u001b[0mfinal_dtype\u001b[0m\u001b[0;34m)\u001b[0m\u001b[0;34m\u001b[0m\u001b[0;34m\u001b[0m\u001b[0m\n\u001b[1;32m    406\u001b[0m \u001b[0;34m\u001b[0m\u001b[0m\n\u001b[0;32m--> 407\u001b[0;31m         \u001b[0mres\u001b[0m \u001b[0;34m=\u001b[0m \u001b[0mself\u001b[0m\u001b[0;34m.\u001b[0m\u001b[0mconcatenate\u001b[0m\u001b[0;34m(\u001b[0m\u001b[0mtuple\u001b[0m\u001b[0;34m(\u001b[0m\u001b[0mobjs\u001b[0m\u001b[0;34m)\u001b[0m\u001b[0;34m,\u001b[0m \u001b[0maxis\u001b[0m\u001b[0;34m=\u001b[0m\u001b[0maxis\u001b[0m\u001b[0;34m)\u001b[0m\u001b[0;34m\u001b[0m\u001b[0;34m\u001b[0m\u001b[0m\n\u001b[0m\u001b[1;32m    408\u001b[0m \u001b[0;34m\u001b[0m\u001b[0m\n\u001b[1;32m    409\u001b[0m         \u001b[0;32mif\u001b[0m \u001b[0mmatrix\u001b[0m\u001b[0;34m:\u001b[0m\u001b[0;34m\u001b[0m\u001b[0;34m\u001b[0m\u001b[0m\n",
      "\u001b[0;32m<__array_function__ internals>\u001b[0m in \u001b[0;36mconcatenate\u001b[0;34m(*args, **kwargs)\u001b[0m\n",
      "\u001b[0;31mValueError\u001b[0m: all the input array dimensions for the concatenation axis must match exactly, but along dimension 0, the array at index 0 has size 2599 and the array at index 1 has size 2727"
     ]
    }
   ],
   "source": [
    "#Remove all genes that are not expressed in at least percentage (default 50%) of the all cells\n",
    "gene_expressed = filter_norm_data(all_norm,0.05)\n",
    "all_norm = all_norm[gene_expressed]\n",
    "print(all_norm.shape)\n",
    "\n",
    "#Store the name of genes of interest\n",
    "genes_interest = all_norm.index.values #get name of genes\n",
    "pd.DataFrame(genes_interest).to_csv('../data/processed_data/allgenes_interest.csv', index=False)\n",
    "\n",
    "#Create preprocess data \n",
    "D15_df.to_csv('../data/processed_data/all.csv', index=False)\n",
    "pd.DataFrame(y_D15).to_csv('../data/processed_data/y_all.csv', index=False)"
   ]
  },
  {
   "cell_type": "code",
   "execution_count": null,
   "metadata": {},
   "outputs": [],
   "source": []
  },
  {
   "cell_type": "code",
   "execution_count": null,
   "metadata": {},
   "outputs": [],
   "source": [
    "#Add .csv file that remembers which cells from which data set -> give indices\n",
    "size_AE3 = np.size(np.array(AE3_scran_df))[0]\n",
    "size_AE4 = np.size(np.array(AE4_scran_df))[0]\n",
    "size_MEF= np.size(np.array(MEF_scran_df))[0]\n",
    "size_LK = np.size(np.array(LK_scran_df))[0]\n",
    "size_LSK = np.size(np.array(LSK_scran_df))[0]\n",
    "size_LSKmix = np.size(np.array(LSKmix_scran_df))[0]\n",
    "sizes = [size_AE3, size_AE4, size_MEF, size_LK, size_LSK, size_LSKmix]\n",
    "\n",
    "sizes = pd.DataFrame(sizes)\n",
    "sizes.to_csv('../data/processed_data/ind_datasets.csv', index=False)"
   ]
  },
  {
   "cell_type": "code",
   "execution_count": null,
   "metadata": {},
   "outputs": [],
   "source": [
    "#Load preprocess data\n",
    "all_norm= np.array(pd.read_csv ('../data/processed_data/all.csv'))\n",
    "y = np.array(all_norm[:,-1],dtype=int)\n",
    "all_norm = all_norm[:,0:-1]\n",
    "\n",
    "model = FamiliesClusters(np.unique(y),compute_precision,True)\n",
    "pred = model.fit_predict(all_norm,y)\n",
    "\n",
    "acc = model.score_\n",
    "print(acc)"
   ]
  },
  {
   "cell_type": "code",
   "execution_count": null,
   "metadata": {},
   "outputs": [],
   "source": []
  }
 ],
 "metadata": {
  "kernelspec": {
   "display_name": "Python 3",
   "language": "python",
   "name": "python3"
  },
  "language_info": {
   "codemirror_mode": {
    "name": "ipython",
    "version": 3
   },
   "file_extension": ".py",
   "mimetype": "text/x-python",
   "name": "python",
   "nbconvert_exporter": "python",
   "pygments_lexer": "ipython3",
   "version": "3.8.5"
  }
 },
 "nbformat": 4,
 "nbformat_minor": 4
}
