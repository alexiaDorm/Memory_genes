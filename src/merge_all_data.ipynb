{
 "cells": [
  {
   "cell_type": "code",
   "execution_count": 1,
   "metadata": {},
   "outputs": [],
   "source": [
    "import numpy as np\n",
    "import matplotlib.pyplot as plt\n",
    "\n",
    "import io \n",
    "import pandas as pd \n",
    "import pyreadr\n",
    "\n",
    "from load_data import *\n",
    "from overlap_genes import *"
   ]
  },
  {
   "cell_type": "markdown",
   "metadata": {},
   "source": [
    "# mESC cells (AE3, AE4)\n",
    "Let's first load all the data containing the mESC cells, the AE3 and AE4 datasets. Import normalized data, data families interest and data family info"
   ]
  },
  {
   "cell_type": "code",
   "execution_count": 2,
   "metadata": {},
   "outputs": [],
   "source": [
    "#AE3\n",
    "AE3_scran_df = pyreadr.read_r('../data/family_datasets/data_norm/AE3_scran_norm.rds')\n",
    "AE3_scran_df = AE3_scran_df[None]\n",
    "\n",
    "data_families_interest_AE3 = pyreadr.read_r('../data/family_datasets/family_interest/families_of_interest_AE3_nocellcyclesplit.RData')\n",
    "data_families_interest_AE3 = data_families_interest_AE3['fois_1']\n",
    "\n",
    "data_families_info_AE3 = pyreadr.read_r('../data/family_datasets/family_info/family_info_AE3_nocellcyclesplit.RData')\n",
    "data_families_info_AE3 = data_families_info_AE3['family_info_1']\n",
    "\n",
    "#Conversion into array \n",
    "AE3_scran = np.array(AE3_scran_df)\n",
    "data_families_interest_AE3 = np.array(data_families_interest_AE3)\n",
    "data_families_info_AE3 = np.array(data_families_info_AE3) "
   ]
  },
  {
   "cell_type": "code",
   "execution_count": 3,
   "metadata": {},
   "outputs": [
    {
     "name": "stdout",
     "output_type": "stream",
     "text": [
      "(32285, 333)\n"
     ]
    }
   ],
   "source": [
    "#Norm data with only the cells belonging to the family of interest\n",
    "AE3_scran_df = select_family_interest_norm_data(data_families_info_AE3, data_families_interest_AE3, AE3_scran_df)\n",
    "y_AE3 = AE3_scran_df[1]\n",
    "y_AE3 = y_AE3[:,0]\n",
    "y_AE3 = y_AE3.astype(np.int32)\n",
    "AE3_scran_df = AE3_scran_df[0]\n",
    "\n",
    "AE3 = np.array(AE3_scran_df)\n",
    "print(np.shape(AE3))"
   ]
  },
  {
   "cell_type": "code",
   "execution_count": 4,
   "metadata": {},
   "outputs": [],
   "source": [
    "#AE4\n",
    "AE4_scran_df = pyreadr.read_r('../data/family_datasets/data_norm/AE4_scran_norm.rds')\n",
    "AE4_scran_df = AE4_scran_df[None]\n",
    "\n",
    "data_families_interest_AE4 = pyreadr.read_r('../data/family_datasets/family_interest/families_of_interest_AE4_nocellcyclesplit.RData')\n",
    "data_families_interest_AE4 = data_families_interest_AE4['fois_1']\n",
    "\n",
    "data_families_info_AE4 = pyreadr.read_r('../data/family_datasets/family_info/family_info_AE4_nocellcyclesplit.RData')\n",
    "data_families_info_AE4 = data_families_info_AE4['family_info_1']\n",
    "\n",
    "#Conversion into array \n",
    "AE4_scran = np.array(AE4_scran_df)\n",
    "data_families_interest_AE4 = np.array(data_families_interest_AE4)\n",
    "data_families_info_AE4 = np.array(data_families_info_AE4)  "
   ]
  },
  {
   "cell_type": "code",
   "execution_count": 5,
   "metadata": {},
   "outputs": [
    {
     "name": "stdout",
     "output_type": "stream",
     "text": [
      "(32285, 1473)\n"
     ]
    }
   ],
   "source": [
    "#Norm data with only the cells belonging to the family of interest\n",
    "AE4_scran_df = select_family_interest_norm_data(data_families_info_AE4, data_families_interest_AE4, AE4_scran_df)\n",
    "y_AE4 = AE4_scran_df[1]\n",
    "y_AE4 = y_AE4[:,0]\n",
    "y_AE4 = y_AE4.astype(np.int32)\n",
    "AE4_scran_df = AE4_scran_df[0]\n",
    "\n",
    "AE4 = np.array(AE4_scran_df)\n",
    "print(np.shape(AE4))"
   ]
  },
  {
   "cell_type": "markdown",
   "metadata": {},
   "source": [
    "# MEF cells (BIDDY DO, DO_2, D6, D6_2, D15, D15_2)\n",
    "Let's first load all the data containing the MEF cells, the BIDDY DO, DO_2, D6, D6_2, D15, and D15_2 datasets. Import normalized data, data families interest and data family info"
   ]
  },
  {
   "cell_type": "markdown",
   "metadata": {},
   "source": [
    "# DO"
   ]
  },
  {
   "cell_type": "code",
   "execution_count": 6,
   "metadata": {},
   "outputs": [],
   "source": [
    "#DO\n",
    "DO_scran_df = pyreadr.read_r('../data/family_datasets/data_norm/BIDDY_D0_RPM_norm.rds')\n",
    "DO_scran_df = DO_scran_df[None]\n",
    "\n",
    "data_families_interest_DO = pyreadr.read_r('../data/family_datasets/family_interest/families_of_interest_BIDDY_D0.RData')\n",
    "data_families_interest_DO = data_families_interest_DO['fois_1']\n",
    "\n",
    "data_families_info_DO = pyreadr.read_r('../data/family_datasets/family_info/family_info_BIDDY_D0.RData')\n",
    "data_families_info_DO = data_families_info_DO['family_info_1']\n",
    "\n",
    "# conversion into array \n",
    "DO_scran = np.array(DO_scran_df)\n",
    "data_families_interest_DO = np.array(data_families_interest_DO)\n",
    "data_families_info_DO = np.array(data_families_info_DO)  "
   ]
  },
  {
   "cell_type": "code",
   "execution_count": 7,
   "metadata": {},
   "outputs": [
    {
     "name": "stdout",
     "output_type": "stream",
     "text": [
      "(32285, 112)\n"
     ]
    }
   ],
   "source": [
    "#Norm data with only the cells belonging to the family of interest\n",
    "DO_scran_df = select_family_interest_norm_data(data_families_info_DO, data_families_interest_DO, DO_scran_df)\n",
    "y_DO = DO_scran_df[1]\n",
    "y_DO = y_DO[:,0]\n",
    "y_DO = y_DO.astype(np.int32)\n",
    "DO_scran_df = DO_scran_df[0]\n",
    "\n",
    "DO = np.array(DO_scran_df)\n",
    "print(np.shape(DO))"
   ]
  },
  {
   "cell_type": "code",
   "execution_count": 8,
   "metadata": {},
   "outputs": [],
   "source": [
    "#DO_2\n",
    "DO2_scran_df = pyreadr.read_r('../data/family_datasets/data_norm/BIDDY_D0_2_RPM_norm.rds')\n",
    "DO2_scran_df = DO2_scran_df[None]\n",
    "\n",
    "data_families_interest_DO2 = pyreadr.read_r('../data/family_datasets/family_interest/families_of_interest_BIDDY_D0_2.RData')\n",
    "data_families_interest_DO2 = data_families_interest_DO2['fois_1']\n",
    "\n",
    "data_families_info_DO2 = pyreadr.read_r('../data/family_datasets/family_info/family_info_BIDDY_D0_2.RData')\n",
    "data_families_info_DO2 = data_families_info_DO2['family_info_1']\n",
    "\n",
    "# conversion into array \n",
    "DO2_scran = np.array(DO2_scran_df)\n",
    "data_families_interest_DO2 = np.array(data_families_interest_DO2)\n",
    "data_families_info_DO2 = np.array(data_families_info_DO2) "
   ]
  },
  {
   "cell_type": "code",
   "execution_count": 9,
   "metadata": {},
   "outputs": [
    {
     "name": "stdout",
     "output_type": "stream",
     "text": [
      "(32285, 349)\n"
     ]
    }
   ],
   "source": [
    "#Norm data with only the cells belonging to the family of interest\n",
    "DO2_scran_df = select_family_interest_norm_data(data_families_info_DO2, data_families_interest_DO2, DO2_scran_df)\n",
    "y_DO2 = DO2_scran_df[1]\n",
    "y_DO2 = y_DO2[:,0]\n",
    "y_DO2 = y_DO2.astype(np.int32)\n",
    "DO2_scran_df = DO2_scran_df[0]\n",
    "\n",
    "DO2 = np.array(DO2_scran_df)\n",
    "print(np.shape(DO2))"
   ]
  },
  {
   "cell_type": "code",
   "execution_count": 10,
   "metadata": {},
   "outputs": [],
   "source": [
    "#Fuse D0 normalized data\n",
    "D0_df = pd.concat([DO_scran_df, DO2_scran_df], axis=1)\n",
    "\n",
    "#Fuse families info\n",
    "y_DO2 += max(y_DO) #Add the max indice of families in first dataset so that there is no overlap between families indices.\n",
    "y_D0 = np.hstack((y_DO, y_DO2))"
   ]
  },
  {
   "cell_type": "markdown",
   "metadata": {},
   "source": [
    "# D6"
   ]
  },
  {
   "cell_type": "code",
   "execution_count": 11,
   "metadata": {},
   "outputs": [],
   "source": [
    "#D6\n",
    "D6_scran_df = pyreadr.read_r('../data/family_datasets/data_norm/BIDDY_D6_RPM_norm.rds')\n",
    "D6_scran_df = D6_scran_df[None]\n",
    "\n",
    "data_families_interest_D6 = pyreadr.read_r('../data/family_datasets/family_interest/families_of_interest_BIDDY_D6_V2.RData')\n",
    "data_families_interest_D6 = data_families_interest_D6['fois_1']\n",
    "\n",
    "data_families_info_D6 = pyreadr.read_r('../data/family_datasets/family_info/family_info_BIDDY_D6_V2.RData')\n",
    "data_families_info_D6 = data_families_info_D6['family_info_1']\n",
    "\n",
    "# conversion into array \n",
    "D6_scran = np.array(D6_scran_df)\n",
    "data_families_interest_D6 = np.array(data_families_interest_D6)\n",
    "data_families_info_D6 = np.array(data_families_info_D6) "
   ]
  },
  {
   "cell_type": "code",
   "execution_count": 12,
   "metadata": {},
   "outputs": [
    {
     "name": "stdout",
     "output_type": "stream",
     "text": [
      "(32285, 116)\n"
     ]
    }
   ],
   "source": [
    "#Norm data with only the cells belonging to the family of interest\n",
    "D6_scran_df = select_family_interest_norm_data(data_families_info_D6, data_families_interest_D6, D6_scran_df)\n",
    "y_D6 = D6_scran_df[1]\n",
    "y_D6 = y_D6[:,0]\n",
    "y_D6 = y_D6.astype(np.int32)\n",
    "D6_scran_df = D6_scran_df[0]\n",
    "\n",
    "D6 = np.array(D6_scran_df)\n",
    "print(np.shape(D6))"
   ]
  },
  {
   "cell_type": "code",
   "execution_count": 13,
   "metadata": {},
   "outputs": [],
   "source": [
    "#D6_2\n",
    "D62_scran_df = pyreadr.read_r('../data/family_datasets/data_norm/BIDDY_D6_2_RPM_norm.rds')\n",
    "D62_scran_df= D62_scran_df[None]\n",
    "\n",
    "data_families_interest_D62 = pyreadr.read_r('../data/family_datasets/family_interest/families_of_interest_BIDDY_D6_2.RData')\n",
    "data_families_interest_D62 = data_families_interest_D62['fois_1']\n",
    "\n",
    "data_families_info_D62 = pyreadr.read_r('../data/family_datasets/family_info/family_info_BIDDY_D6_2.RData')\n",
    "data_families_info_D62 = data_families_info_D62['family_info_1']\n",
    "\n",
    "# conversion into array \n",
    "D62_scran = np.array(D62_scran_df)\n",
    "data_families_interest_D62 = np.array(data_families_interest_D62)\n",
    "data_families_info_D62 = np.array(data_families_info_D62)"
   ]
  },
  {
   "cell_type": "code",
   "execution_count": 14,
   "metadata": {},
   "outputs": [
    {
     "name": "stdout",
     "output_type": "stream",
     "text": [
      "(32285, 38)\n"
     ]
    }
   ],
   "source": [
    "#Norm data with only the cells belonging to the family of interest\n",
    "D62_scran_df = select_family_interest_norm_data(data_families_info_D62, data_families_interest_D62, D62_scran_df)\n",
    "y_D62 = D62_scran_df[1]\n",
    "y_D62 = y_D62[:,0]\n",
    "y_D62 = y_D62.astype(np.int32)\n",
    "D62_scran_df = D62_scran_df[0]\n",
    "\n",
    "D62 = np.array(D62_scran_df)\n",
    "print(np.shape(D62))"
   ]
  },
  {
   "cell_type": "code",
   "execution_count": 15,
   "metadata": {},
   "outputs": [],
   "source": [
    "#Fuse D6 normalized data\n",
    "D6_df = pd.concat([D6_scran_df, D62_scran_df], axis=1)\n",
    "\n",
    "#Fuse families info\n",
    "y_D62 += max(y_D6) #Add the max indice of families in first dataset so that there is no overlap between families indices.\n",
    "y_D6 = np.hstack((y_D6, y_D62))"
   ]
  },
  {
   "cell_type": "markdown",
   "metadata": {},
   "source": [
    "# D15"
   ]
  },
  {
   "cell_type": "code",
   "execution_count": null,
   "metadata": {},
   "outputs": [],
   "source": [
    "#D15\n",
    "D15_scran_df = pyreadr.read_r('../data/family_datasets/data_norm/BIDDY_D15_RPM_norm.rds')\n",
    "D15_scran_df = D15_scran_df[None]\n",
    "\n",
    "data_families_interest_D15 = pyreadr.read_r('../data/family_datasets/family_interest/families_of_interest_BIDDY_D15_V3.RData')\n",
    "data_families_interest_D15 = data_families_interest_D15['fois_1']\n",
    "\n",
    "data_families_info_D15 = pyreadr.read_r('../data/family_datasets/family_info/family_info_BIDDY_D15_V3.RData')\n",
    "data_families_info_D15 = data_families_info_D15['family_info_1']\n",
    "\n",
    "# conversion into array \n",
    "D15_scran = np.array(D15_scran_df)\n",
    "data_families_interest_D15 = np.array(data_families_interest_D15)\n",
    "data_families_info_D15 = np.array(data_families_info_D15) "
   ]
  },
  {
   "cell_type": "code",
   "execution_count": null,
   "metadata": {},
   "outputs": [],
   "source": [
    "#Norm data with only the cells belonging to the family of interest\n",
    "D15_scran_df = select_family_interest_norm_data(data_families_info_D15, data_families_interest_D15, D15_scran_df)\n",
    "y_D15 = D15_scran_df[1]\n",
    "y_D15 = y_D15[:,0]\n",
    "y_D15 = y_D15.astype(np.int32)\n",
    "D15_scran_df = D15_scran_df[0]\n",
    "\n",
    "D15 = np.array(D15_scran_df)\n",
    "print(np.shape(D15))"
   ]
  },
  {
   "cell_type": "code",
   "execution_count": null,
   "metadata": {},
   "outputs": [],
   "source": [
    "#D15_2\n",
    "D152_scran_df = pyreadr.read_r('../data/family_datasets/data_norm/BIDDY_D15_2_RPM_norm.rds')\n",
    "D152_scran_df = D152_scran_df[None]\n",
    "\n",
    "data_families_interest_D152 = pyreadr.read_r('../data/family_datasets/family_interest/families_of_interest_BIDDY_D15_2.RData')\n",
    "data_families_interest_D152 = data_families_interest_D152['fois_1']\n",
    "\n",
    "data_families_info_D152 = pyreadr.read_r('../data/family_datasets/family_info/family_info_BIDDY_D15_2.RData')\n",
    "data_families_info_D152 = data_families_info_D152['family_info_1']\n",
    "\n",
    "# conversion into array \n",
    "D152_scran = np.array(D152_scran_df)\n",
    "data_families_interest_D152 = np.array(data_families_interest_D152)\n",
    "data_families_info_D152 = np.array(data_families_info_D152)"
   ]
  },
  {
   "cell_type": "code",
   "execution_count": null,
   "metadata": {},
   "outputs": [],
   "source": [
    "#Norm data with only the cells belonging to the family of interest\n",
    "D152_scran_df = select_family_interest_norm_data(data_families_info_D152, data_families_interest_D152, D152_scran_df)\n",
    "y_D152 = D152_scran_df[1]\n",
    "y_D152 = y_D152[:,0]\n",
    "y_D152 = y_D152.astype(np.int32)\n",
    "D152_scran_df = D152_scran_df[0]\n",
    "\n",
    "D152 = np.array(D152_scran_df)\n",
    "print(np.shape(D152))"
   ]
  },
  {
   "cell_type": "code",
   "execution_count": null,
   "metadata": {},
   "outputs": [],
   "source": [
    "#Fuse D6 normalized data\n",
    "D15_df = pd.concat([D15_scran_df, D152_scran_df], axis=1)\n",
    "\n",
    "#Fuse families info\n",
    "y_D152 += max(y_D15) #Add the max indice of families in first dataset so that there is no overlap between families indices.\n",
    "y_D15 = np.hstack((y_D15, y_D152))"
   ]
  },
  {
   "cell_type": "markdown",
   "metadata": {},
   "source": [
    "# Fuse all MEF cells"
   ]
  },
  {
   "cell_type": "code",
   "execution_count": null,
   "metadata": {},
   "outputs": [],
   "source": [
    "#Fuse MEF normalized data\n",
    "MEF_df = pd.concat([DO_scran_df, DO2_scran_df,D6_scran_df,D62_scran_df,D15_scran_df,D152_scran_df], axis=1)\n",
    "\n",
    "#Fuse families info\n",
    "y_DO2 += max(y_DO) #Add the max indice of families in first dataset so that there is no overlap between families indices.\n",
    "y_MEF = np.hstack((y_DO, y_DO2))\n",
    "\n",
    "y_D6 += max(y_MEF)\n",
    "y_MEF = np.hstack((y_MEF, y_D6))\n",
    "\n",
    "y_D62 += max(y_MEF)\n",
    "y_MEF = np.hstack((y_MEF, y_D62))\n",
    "\n",
    "y_D15 += max(y_MEF)\n",
    "y_MEF = np.hstack((y_MEF, y_D15))\n",
    "\n",
    "y_D152 += max(y_MEF)\n",
    "y_MEF = np.hstack((y_MEF, y_D152))"
   ]
  },
  {
   "cell_type": "markdown",
   "metadata": {},
   "source": [
    "# T CD8+ cells: KIMMERLING CD8"
   ]
  },
  {
   "cell_type": "code",
   "execution_count": null,
   "metadata": {},
   "outputs": [],
   "source": [
    "# import normalized data, data families interest and data family info of Kimmerling CD8 family\n",
    "df_CD8_norm = pd.read_csv ('../data/family_datasets/data_norm/Kimmerling_CD8_norm.csv')\n",
    "df_CD8_norm = df_CD8_norm.set_index('Unnamed: 0')     #transform 'Unnamed: 0' column into row label\n",
    "df_CD8_norm = df_CD8_norm.rename_axis(None)#change 'Unnamed: 0' row label into none\n",
    "\n",
    "#Remove genes with non-defined values and genes with only 0\n",
    "nan_genes = df_CD8_norm.any(axis=1)\n",
    "df_CD8_norm = df_CD8_norm[nan_genes]\n",
    "\n",
    "df_CD8_fam_info = pyreadr.read_r('../data/family_datasets/family_info/family_info_Kimmerling_CD8.RData')\n",
    "df_CD8_fam_info = df_CD8_fam_info['family_info_CD8']\n",
    "\n",
    "df_CD8_fam_interest = pyreadr.read_r('../data/family_datasets/family_interest/families_of_interest_Kimmerling_CD8.RData')\n",
    "df_CD8_fam_interest = df_CD8_fam_interest['fois_CD8']\n",
    "\n",
    "# conversion into array \n",
    "CD8_norm = np.array(df_CD8_norm)\n",
    "CD8_fam_interest = np.array(df_CD8_fam_interest)\n",
    "CD8_fam_info = np.array(df_CD8_fam_info)"
   ]
  },
  {
   "cell_type": "code",
   "execution_count": null,
   "metadata": {},
   "outputs": [],
   "source": [
    "#Norm data with only the cells belonging to the family of interest\n",
    "df_CD8_norm = select_family_interest_norm_data(CD8_fam_info, CD8_fam_interest, df_CD8_norm)\n",
    "y_CD8 = df_CD8_norm[1]\n",
    "y_CD8  = y_CD8 [:,0]\n",
    "y_CD8  = y_CD8 .astype(np.int32)\n",
    "df_CD8_norm = df_CD8_norm[0]\n",
    "\n",
    "#Convert into array\n",
    "CD8 = np.array(df_CD8_norm)\n",
    "\n",
    "#Remove cells not expressing anything (only 0 for each genes)\n",
    "CD8 = np.delete(CD8,[36,39],1)\n",
    "y_CD8  = np.delete(y_CD8 ,[36,39],0)"
   ]
  },
  {
   "cell_type": "markdown",
   "metadata": {},
   "source": [
    "# Leukimia cell line: KIMMERLING L120"
   ]
  },
  {
   "cell_type": "code",
   "execution_count": null,
   "metadata": {},
   "outputs": [],
   "source": [
    "# import normalized data, data families interest and data family info of Kimmerling CD8 family\n",
    "df_L1210_norm = pd.read_csv ('../data/family_datasets/data_norm/Kimmerling_L1210_norm.csv')\n",
    "df_L1210_norm = df_L1210_norm.set_index('Unnamed: 0')     #transform 'Unnamed: 0' column into row label\n",
    "df_L1210_norm = df_L1210_norm.rename_axis(None)#change 'Unnamed: 0' row label into none\n",
    "\n",
    "#Remove genes with non-defined values and genes with only 0\n",
    "nan_genes = df_L1210_norm.any(axis=1)\n",
    "df_L1210_norm = df_L1210_norm[nan_genes]\n",
    "\n",
    "df_L1210_fam_info = pyreadr.read_r('../data/family_datasets/family_info/family_info_Kimmerling_L1210.RData')\n",
    "df_L1210_fam_info = df_L1210_fam_info['family_info_L1210']\n",
    "\n",
    "df_L1210_fam_interest = pyreadr.read_r('../data/family_datasets/family_interest/families_of_interest_Kimmerling_L1210.RData')\n",
    "df_L1210_fam_interest = df_L1210_fam_interest['fois_L1210']\n",
    "\n",
    "\n",
    "# conversion into array \n",
    "L1210_norm = np.array(df_L1210_norm)\n",
    "L1210_fam_interest = np.array(df_L1210_fam_interest)\n",
    "L1210_fam_info = np.array(df_L1210_fam_info)"
   ]
  },
  {
   "cell_type": "code",
   "execution_count": null,
   "metadata": {},
   "outputs": [],
   "source": [
    "#Norm data with only the cells belonging to the family of interest\n",
    "df_L1210_norm = select_family_interest_norm_data(L1210_fam_info, L1210_fam_interest, df_L1210_norm)\n",
    "y_L1210 = df_L1210_norm[1]\n",
    "y_L1210 = y_L1210[:,0]\n",
    "y_L1210 = y_L1210.astype(np.int32)\n",
    "df_L1210_norm = df_L1210_norm[0]\n",
    "\n",
    "#Convert into array\n",
    "L1210 = np.array(df_L1210_norm)\n",
    "\n",
    "#Remove cells not expressing anything (only 0 for each genes)\n",
    "L1210 = np.delete(L1210,[36,39],1)\n",
    "y_L1210 = np.delete(L1210,[36,39],0)"
   ]
  },
  {
   "cell_type": "markdown",
   "metadata": {},
   "source": [
    "# LK and LSK cells: Weinreb data"
   ]
  },
  {
   "cell_type": "markdown",
   "metadata": {},
   "source": [
    "# LK cells:"
   ]
  },
  {
   "cell_type": "code",
   "execution_count": null,
   "metadata": {},
   "outputs": [],
   "source": [
    "#LK\n",
    "LK_scran_df = pd.read_csv ('../data/family_datasets/data_norm/Weinreb_LK_D2_exp1_norm_lifted.csv')\n",
    "LK_scran_df = LK_scran_df.set_index('Unnamed: 0')     #transform 'Unnamed: 0' column into row label\n",
    "LK_scran_df = LK_scran_df.rename_axis(None)#change 'Unnamed: 0' row label into none\n",
    "\n",
    "\n",
    "data_families_interest_LK = pyreadr.read_r('../data/family_datasets/family_interest/families_of_interest_Weinreb_LK_D2_exp1.RData')\n",
    "data_families_interest_LK = data_families_interest_LK['fois_1']\n",
    "\n",
    "\n",
    "data_families_info_LK = pyreadr.read_r('../data/family_datasets/family_info/family_info_Weinreb_LK_D2_exp1.RData')\n",
    "data_families_info_LK = data_families_info_LK['WORK_clones']\n",
    "\n",
    "# conversion into array \n",
    "LK_scran = np.array(LK_scran_df)\n",
    "data_families_interest_LK = np.array(data_families_interest_LK)\n",
    "data_families_info_LK = np.array(data_families_info_LK)  \n",
    "\n",
    "data_families_info_LK[:,0] = data_families_info_LK[:,0].astype(int)"
   ]
  },
  {
   "cell_type": "code",
   "execution_count": null,
   "metadata": {},
   "outputs": [],
   "source": [
    "#Norm data with only the cells belonging to the family of interest\n",
    "LK_scran_df = select_family_interest_norm_data(data_families_info_LK, data_families_interest_LK, LK_scran_df)\n",
    "y_LK = LK_scran_df[1]\n",
    "y_LK = y_LK[:,0]\n",
    "y_LK = y_LK.astype(np.int32)\n",
    "LK_scran_df = LK_scran_df[0]\n",
    "\n",
    "LK = np.array(LK_scran_df)\n",
    "print(np.shape(LK))"
   ]
  },
  {
   "cell_type": "code",
   "execution_count": null,
   "metadata": {},
   "outputs": [],
   "source": [
    "#LK2\n",
    "LK2_scran_df = pd.read_csv('../data/family_datasets/data_norm/Weinreb_LK_D2_exp2_norm_lifted.csv')\n",
    "LK2_scran_df = LK2_scran_df.set_index('Unnamed: 0')     #transform 'Unnamed: 0' column into row label\n",
    "LK2_scran_df = LK2_scran_df.rename_axis(None)#change 'Unnamed: 0' row label into none\n",
    "\n",
    "#Remove genes with non-defined values and genes with only 0\n",
    "#nan_genes = LK2_scran_df.any(axis=1)\n",
    "#LK2_scran_df = LK2_scran_df[nan_genes]\n",
    "\n",
    "data_families_interest_LK2 = pyreadr.read_r('../data/family_datasets/family_interest/families_of_interest_Weinreb_LK_D2_exp2.RData')\n",
    "data_families_interest_LK2 = data_families_interest_LK2['fois_1']\n",
    "\n",
    "data_families_info_LK2 = pyreadr.read_r('../data/family_datasets/family_info/family_info_Weinreb_LK_D2_exp2.RData')\n",
    "data_families_info_LK2 = data_families_info_LK2['WORK_clones']\n",
    "\n",
    "# conversion into array \n",
    "LK2_scran = np.array(LK2_scran_df)\n",
    "data_families_interest_LK2 = np.array(data_families_interest_LK2)\n",
    "data_families_info_LK2 = np.array(data_families_info_LK2) \n",
    "data_families_info_LK2[:,0] = data_families_info_LK2[:,0].astype(int)"
   ]
  },
  {
   "cell_type": "code",
   "execution_count": null,
   "metadata": {},
   "outputs": [],
   "source": [
    "#Norm data with only the cells belonging to the family of interest\n",
    "LK2_scran_df = select_family_interest_norm_data(data_families_info_LK2, data_families_interest_LK2, LK2_scran_df)\n",
    "y_LK2 = LK2_scran_df[1]\n",
    "y_LK2 = y_LK2[:,0]\n",
    "y_LK2 = y_LK2.astype(np.int32)\n",
    "LK2_scran_df = LK2_scran_df[0]\n",
    "\n",
    "LK2 = np.array(LK2_scran_df)\n",
    "print(np.shape(LK2))"
   ]
  },
  {
   "cell_type": "code",
   "execution_count": null,
   "metadata": {},
   "outputs": [],
   "source": [
    "#Fuse LK normalized data\n",
    "LK_scran_df = pd.concat([LK_scran_df, LK2_scran_df], axis=1)\n",
    "\n",
    "#Remove genes with non-defined values and genes with only 0\n",
    "nan_genes = LK_scran_df.any(axis=1)\n",
    "LK_scran_df = LK_scran_df[nan_genes]\n",
    "\n",
    "#Fuse families info\n",
    "y_LK2 += max(y_LK) #Add the max indice of families in first dataset so that there is no overlap between families indices.\n",
    "y_LK = np.hstack((y_LK, y_LK2))"
   ]
  },
  {
   "cell_type": "markdown",
   "metadata": {},
   "source": [
    "# LSK cells:"
   ]
  },
  {
   "cell_type": "code",
   "execution_count": null,
   "metadata": {},
   "outputs": [],
   "source": [
    "#LSK\n",
    "LSK_scran_df = pd.read_csv('../data/family_datasets/data_norm/Weinreb_LSK_D2_exp1_norm_lifted.csv')\n",
    "LSK_scran_df = LSK_scran_df.set_index('Unnamed: 0')     #transform 'Unnamed: 0' column into row label\n",
    "LSK_scran_df = LSK_scran_df.rename_axis(None)#change 'Unnamed: 0' row label into none\n",
    "\n",
    "\n",
    "data_families_interest_LSK = pyreadr.read_r('../data/family_datasets/family_interest/families_of_interest_Weinreb_LSK_D2_exp1.RData')\n",
    "data_families_interest_LSK = data_families_interest_LSK['fois_1']\n",
    "\n",
    "data_families_info_LSK = pyreadr.read_r('../data/family_datasets/family_info/family_info_Weinreb_LSK_D2_exp1.RData')\n",
    "data_families_info_LSK = data_families_info_LSK['WORK_clones']\n",
    "\n",
    "# conversion into array \n",
    "LSK_scran = np.array(LSK_scran_df)\n",
    "data_families_interest_LSK = np.array(data_families_interest_LSK)\n",
    "data_families_info_LSK = np.array(data_families_info_LSK)  \n",
    "data_families_info_LSK[:,0] = data_families_info_LSK[:,0].astype(int)"
   ]
  },
  {
   "cell_type": "code",
   "execution_count": null,
   "metadata": {},
   "outputs": [],
   "source": [
    "#Norm data with only the cells belonging to the family of interest\n",
    "LSK_scran_df = select_family_interest_norm_data(data_families_info_LSK, data_families_interest_LSK, LSK_scran_df)\n",
    "y_LSK = LSK_scran_df[1]\n",
    "y_LSK = y_LSK[:,0]\n",
    "y_LSK = y_LSK.astype(np.int32)\n",
    "LSK_scran_df = LSK_scran_df[0]\n",
    "\n",
    "LSK = np.array(LSK_scran_df)\n",
    "print(np.shape(LSK))"
   ]
  },
  {
   "cell_type": "code",
   "execution_count": null,
   "metadata": {},
   "outputs": [],
   "source": [
    "#LSK2\n",
    "LSK2_scran_df = pd.read_csv('../data/family_datasets/data_norm/Weinreb_LSK_D2_exp2_norm_lifted.csv')\n",
    "LSK2_scran_df = LSK2_scran_df.set_index('Unnamed: 0')     #transform 'Unnamed: 0' column into row label\n",
    "LSK2_scran_df = LSK2_scran_df.rename_axis(None)#change 'Unnamed: 0' row label into none\n",
    "\n",
    "data_families_interest_LSK2 = pyreadr.read_r('../data/family_datasets/family_interest/families_of_interest_Weinreb_LSK_D2_exp2.RData')\n",
    "data_families_interest_LSK2= data_families_interest_LSK2['fois_1']\n",
    "\n",
    "data_families_info_LSK2 = pyreadr.read_r('../data/family_datasets/family_info/family_info_Weinreb_LSK_D2_exp2.RData')\n",
    "data_families_info_LSK2 = data_families_info_LSK2['WORK_clones']\n",
    "\n",
    "# conversion into array \n",
    "LSK2_scran = np.array(LSK2_scran_df)\n",
    "data_families_interest_LSK2 = np.array(data_families_interest_LSK2)\n",
    "data_families_info_LSK2 = np.array(data_families_info_LSK2)  \n",
    "data_families_info_LSK2[:,0] = data_families_info_LSK2[:,0].astype(int)"
   ]
  },
  {
   "cell_type": "code",
   "execution_count": null,
   "metadata": {},
   "outputs": [],
   "source": [
    "#Norm data with only the cells belonging to the family of interest\n",
    "LSK2_scran_df = select_family_interest_norm_data(data_families_info_LSK2, data_families_interest_LSK2, LSK2_scran_df)\n",
    "y_LSK2 = LSK2_scran_df[1]\n",
    "y_LSK2 = y_LSK2[:,0]\n",
    "y_LSK2 = y_LSK2.astype(np.int32)\n",
    "LSK2_scran_df = LSK2_scran_df[0]\n",
    "\n",
    "LSK2 = np.array(LSK2_scran_df)\n",
    "print(np.shape(LSK2))"
   ]
  },
  {
   "cell_type": "code",
   "execution_count": null,
   "metadata": {},
   "outputs": [],
   "source": [
    "#Fuse LK normalized data\n",
    "LSK_scran_df = pd.concat([LSK_scran_df, LSK2_scran_df], axis=1)\n",
    "\n",
    "#Remove genes with non-defined values and genes with only 0\n",
    "nan_genes = LSK_scran_df.any(axis=1)\n",
    "LSK_scran_df = LSK_scran_df[nan_genes]\n",
    "\n",
    "#Fuse families info\n",
    "y_LSK2 += max(y_LSK) #Add the max indice of families in first dataset so that there is no overlap between families indices.\n",
    "y_LSK = np.hstack((y_LSK, y_LSK2))"
   ]
  },
  {
   "cell_type": "markdown",
   "metadata": {},
   "source": [
    "# LK_LSKmix cells:"
   ]
  },
  {
   "cell_type": "code",
   "execution_count": null,
   "metadata": {},
   "outputs": [],
   "source": [
    "#LSK-LK mix\n",
    "LSKmix_scran_df = pd.read_csv('../data/family_datasets/data_norm/Weinreb_LK_LSK_D2_exp3_norm_lifted.csv')\n",
    "LSKmix_scran_df = LSKmix_scran_df.set_index('Unnamed: 0')     #transform 'Unnamed: 0' column into row label\n",
    "LSKmix_scran_df = LSKmix_scran_df.rename_axis(None)#change 'Unnamed: 0' row label into none\n",
    "\n",
    "#Remove genes with non-defined values and genes with only 0\n",
    "nan_genes = LSKmix_scran_df.any(axis=1)\n",
    "LSKmix_scran_df = LSKmix_scran_df[nan_genes]\n",
    "\n",
    "data_families_interest_LSKmix = pyreadr.read_r('../data/family_datasets/family_interest/families_of_interest_Weinreb_LK_LSK_D2_exp3.RData')\n",
    "data_families_interest_LSKmix = data_families_interest_LSKmix['fois_1']\n",
    "\n",
    "data_families_info_LSKmix = pyreadr.read_r('../data/family_datasets/family_info/family_info_Weinreb_LK_LSK_D2_exp3.RData')\n",
    "data_families_info_LSKmix = data_families_info_LSKmix['WORK_clones']\n",
    "\n",
    "# conversion into array \n",
    "LSKmix_scran = np.array(LSKmix_scran_df)\n",
    "data_families_interest_LSKmix = np.array(data_families_interest_LSKmix)\n",
    "data_families_info_LSKmix = np.array(data_families_info_LSKmix)  \n",
    "data_families_info_LSKmix[:,0] = data_families_info_LSKmix[:,0].astype(int)"
   ]
  },
  {
   "cell_type": "code",
   "execution_count": null,
   "metadata": {},
   "outputs": [],
   "source": [
    "#Norm data with only the cells belonging to the family of interest\n",
    "LSKmix_scran_df = select_family_interest_norm_data(data_families_info_LSKmix, data_families_interest_LSKmix, LSKmix_scran_df)\n",
    "y_LSKmix = LSKmix_scran_df[1]\n",
    "y_LSKmix = y_LSKmix[:,0]\n",
    "y_LSKmix = y_LSKmix.astype(np.int32)\n",
    "LSKmix_scran_df = LSKmix_scran_df[0]\n",
    "\n",
    "LSKmix = np.array(LSKmix_scran_df)\n",
    "print(np.shape(LSKmix))"
   ]
  },
  {
   "cell_type": "markdown",
   "metadata": {},
   "source": [
    "# Fuse all data sets"
   ]
  },
  {
   "cell_type": "code",
   "execution_count": 93,
   "metadata": {},
   "outputs": [
    {
     "name": "stdout",
     "output_type": "stream",
     "text": [
      "(16349, 610)\n"
     ]
    }
   ],
   "source": [
    "genes_interest = set(list(AE3_scran_df.index)) & set(list(LSKmix_scran_df.index))\n",
    "genes_interest = genes_interest & set(list(LK_df.index))\n",
    "genes_interest = genes_interest & set(list(LSK_df.index))\n",
    "\n",
    "AE3_df = ((AE3_scran_df.T)[genes_interest]).T\n",
    "AE4_df = ((AE4_scran_df.T)[genes_interest]).T\n",
    "MEF = ((MEF_df.T)[genes_interest]).T\n",
    "LK_df = ((LK_scran_df.T)[genes_interest]).T\n",
    "LSK_df = ((LSK_scran_df.T)[genes_interest]).T\n",
    "LSKmix_df = ((LSKmix_scran_df.T)[genes_interest]).T\n",
    "\n",
    "print(LK_df.shape)"
   ]
  },
  {
   "cell_type": "code",
   "execution_count": 109,
   "metadata": {},
   "outputs": [
    {
     "data": {
      "text/plain": [
       "16235"
      ]
     },
     "execution_count": 109,
     "metadata": {},
     "output_type": "execute_result"
    }
   ],
   "source": [
    "gene_test = AE3_df.index\n",
    "LK.shape\n",
    "len(gene_test)"
   ]
  },
  {
   "cell_type": "code",
   "execution_count": 73,
   "metadata": {},
   "outputs": [
    {
     "ename": "TypeError",
     "evalue": "cannot concatenate object of type '<class 'numpy.ndarray'>'; only Series and DataFrame objs are valid",
     "output_type": "error",
     "traceback": [
      "\u001b[0;31m---------------------------------------------------------------------------\u001b[0m",
      "\u001b[0;31mTypeError\u001b[0m                                 Traceback (most recent call last)",
      "\u001b[0;32m/var/folders/gz/s90yhf3d4yg_q6r76fs2lg380000gq/T/ipykernel_67053/2108097181.py\u001b[0m in \u001b[0;36m<module>\u001b[0;34m\u001b[0m\n\u001b[1;32m      1\u001b[0m \u001b[0;31m#Fuse ormalized data\u001b[0m\u001b[0;34m\u001b[0m\u001b[0;34m\u001b[0m\u001b[0m\n\u001b[0;32m----> 2\u001b[0;31m \u001b[0mall_norm\u001b[0m \u001b[0;34m=\u001b[0m \u001b[0mpd\u001b[0m\u001b[0;34m.\u001b[0m\u001b[0mconcat\u001b[0m\u001b[0;34m(\u001b[0m\u001b[0;34m[\u001b[0m\u001b[0mAE3_df\u001b[0m\u001b[0;34m,\u001b[0m \u001b[0mAE4_df\u001b[0m\u001b[0;34m,\u001b[0m\u001b[0mMEF\u001b[0m\u001b[0;34m,\u001b[0m\u001b[0mLK\u001b[0m\u001b[0;34m,\u001b[0m\u001b[0mLSK\u001b[0m\u001b[0;34m,\u001b[0m\u001b[0mLSKmix_df\u001b[0m\u001b[0;34m]\u001b[0m\u001b[0;34m,\u001b[0m \u001b[0maxis\u001b[0m\u001b[0;34m=\u001b[0m\u001b[0;36m1\u001b[0m\u001b[0;34m)\u001b[0m\u001b[0;34m\u001b[0m\u001b[0;34m\u001b[0m\u001b[0m\n\u001b[0m\u001b[1;32m      3\u001b[0m \u001b[0mprint\u001b[0m\u001b[0;34m(\u001b[0m\u001b[0mAE3_df\u001b[0m\u001b[0;34m.\u001b[0m\u001b[0mshape\u001b[0m\u001b[0;34m)\u001b[0m\u001b[0;34m\u001b[0m\u001b[0;34m\u001b[0m\u001b[0m\n\u001b[1;32m      4\u001b[0m \u001b[0;34m\u001b[0m\u001b[0m\n\u001b[1;32m      5\u001b[0m \u001b[0;31m#Fuse families info\u001b[0m\u001b[0;34m\u001b[0m\u001b[0;34m\u001b[0m\u001b[0m\n",
      "\u001b[0;32m~/opt/anaconda3/lib/python3.9/site-packages/pandas/util/_decorators.py\u001b[0m in \u001b[0;36mwrapper\u001b[0;34m(*args, **kwargs)\u001b[0m\n\u001b[1;32m    309\u001b[0m                     \u001b[0mstacklevel\u001b[0m\u001b[0;34m=\u001b[0m\u001b[0mstacklevel\u001b[0m\u001b[0;34m,\u001b[0m\u001b[0;34m\u001b[0m\u001b[0;34m\u001b[0m\u001b[0m\n\u001b[1;32m    310\u001b[0m                 )\n\u001b[0;32m--> 311\u001b[0;31m             \u001b[0;32mreturn\u001b[0m \u001b[0mfunc\u001b[0m\u001b[0;34m(\u001b[0m\u001b[0;34m*\u001b[0m\u001b[0margs\u001b[0m\u001b[0;34m,\u001b[0m \u001b[0;34m**\u001b[0m\u001b[0mkwargs\u001b[0m\u001b[0;34m)\u001b[0m\u001b[0;34m\u001b[0m\u001b[0;34m\u001b[0m\u001b[0m\n\u001b[0m\u001b[1;32m    312\u001b[0m \u001b[0;34m\u001b[0m\u001b[0m\n\u001b[1;32m    313\u001b[0m         \u001b[0;32mreturn\u001b[0m \u001b[0mwrapper\u001b[0m\u001b[0;34m\u001b[0m\u001b[0;34m\u001b[0m\u001b[0m\n",
      "\u001b[0;32m~/opt/anaconda3/lib/python3.9/site-packages/pandas/core/reshape/concat.py\u001b[0m in \u001b[0;36mconcat\u001b[0;34m(objs, axis, join, ignore_index, keys, levels, names, verify_integrity, sort, copy)\u001b[0m\n\u001b[1;32m    292\u001b[0m     \u001b[0mValueError\u001b[0m\u001b[0;34m:\u001b[0m \u001b[0mIndexes\u001b[0m \u001b[0mhave\u001b[0m \u001b[0moverlapping\u001b[0m \u001b[0mvalues\u001b[0m\u001b[0;34m:\u001b[0m \u001b[0;34m[\u001b[0m\u001b[0;34m'a'\u001b[0m\u001b[0;34m]\u001b[0m\u001b[0;34m\u001b[0m\u001b[0;34m\u001b[0m\u001b[0m\n\u001b[1;32m    293\u001b[0m     \"\"\"\n\u001b[0;32m--> 294\u001b[0;31m     op = _Concatenator(\n\u001b[0m\u001b[1;32m    295\u001b[0m         \u001b[0mobjs\u001b[0m\u001b[0;34m,\u001b[0m\u001b[0;34m\u001b[0m\u001b[0;34m\u001b[0m\u001b[0m\n\u001b[1;32m    296\u001b[0m         \u001b[0maxis\u001b[0m\u001b[0;34m=\u001b[0m\u001b[0maxis\u001b[0m\u001b[0;34m,\u001b[0m\u001b[0;34m\u001b[0m\u001b[0;34m\u001b[0m\u001b[0m\n",
      "\u001b[0;32m~/opt/anaconda3/lib/python3.9/site-packages/pandas/core/reshape/concat.py\u001b[0m in \u001b[0;36m__init__\u001b[0;34m(self, objs, axis, join, keys, levels, names, ignore_index, verify_integrity, copy, sort)\u001b[0m\n\u001b[1;32m    382\u001b[0m                     \u001b[0;34m\"only Series and DataFrame objs are valid\"\u001b[0m\u001b[0;34m\u001b[0m\u001b[0;34m\u001b[0m\u001b[0m\n\u001b[1;32m    383\u001b[0m                 )\n\u001b[0;32m--> 384\u001b[0;31m                 \u001b[0;32mraise\u001b[0m \u001b[0mTypeError\u001b[0m\u001b[0;34m(\u001b[0m\u001b[0mmsg\u001b[0m\u001b[0;34m)\u001b[0m\u001b[0;34m\u001b[0m\u001b[0;34m\u001b[0m\u001b[0m\n\u001b[0m\u001b[1;32m    385\u001b[0m \u001b[0;34m\u001b[0m\u001b[0m\n\u001b[1;32m    386\u001b[0m             \u001b[0mndims\u001b[0m\u001b[0;34m.\u001b[0m\u001b[0madd\u001b[0m\u001b[0;34m(\u001b[0m\u001b[0mobj\u001b[0m\u001b[0;34m.\u001b[0m\u001b[0mndim\u001b[0m\u001b[0;34m)\u001b[0m\u001b[0;34m\u001b[0m\u001b[0;34m\u001b[0m\u001b[0m\n",
      "\u001b[0;31mTypeError\u001b[0m: cannot concatenate object of type '<class 'numpy.ndarray'>'; only Series and DataFrame objs are valid"
     ]
    }
   ],
   "source": [
    "#Fuse ormalized data\n",
    "all_norm = pd.concat([AE3_df, AE4_df,MEF,LK,LSK,LSKmix_df], axis=1)\n",
    "print(AE3_df.shape)\n",
    "\n",
    "#Fuse families info\n",
    "y_AE4 += max(y_AE3) #Add the max indice of families in first dataset so that there is no overlap between families indices.\n",
    "y_all = np.hstack((y_AE3, y_AE4))\n",
    "\n",
    "y_MEF += max(y_all)\n",
    "y_all = np.hstack((y_all, y_MEF))\n",
    "\n",
    "y_LK += max(y_all)\n",
    "y_all = np.hstack((y_all, y_LK))\n",
    "\n",
    "y_LSK += max(y_all)\n",
    "y_all = np.hstack((y_all, y_LSK))\n",
    "\n",
    "y_LSKmix += max(y_all)\n",
    "y_all = np.hstack((y_all, y_LSKmix))"
   ]
  },
  {
   "cell_type": "code",
   "execution_count": 51,
   "metadata": {},
   "outputs": [
    {
     "name": "stdout",
     "output_type": "stream",
     "text": [
      "(962, 81133)\n"
     ]
    },
    {
     "ename": "ValueError",
     "evalue": "all the input array dimensions for the concatenation axis must match exactly, but along dimension 0, the array at index 0 has size 81133 and the array at index 1 has size 7743",
     "output_type": "error",
     "traceback": [
      "\u001b[0;31m---------------------------------------------------------------------------\u001b[0m",
      "\u001b[0;31mValueError\u001b[0m                                Traceback (most recent call last)",
      "\u001b[0;32m/var/folders/gz/s90yhf3d4yg_q6r76fs2lg380000gq/T/ipykernel_67053/3136934822.py\u001b[0m in \u001b[0;36m<module>\u001b[0;34m\u001b[0m\n\u001b[1;32m     13\u001b[0m \u001b[0;34m\u001b[0m\u001b[0m\n\u001b[1;32m     14\u001b[0m \u001b[0;31m#Create preprocess data\u001b[0m\u001b[0;34m\u001b[0m\u001b[0;34m\u001b[0m\u001b[0m\n\u001b[0;32m---> 15\u001b[0;31m \u001b[0mallcsv\u001b[0m \u001b[0;34m=\u001b[0m \u001b[0mnp\u001b[0m\u001b[0;34m.\u001b[0m\u001b[0mc_\u001b[0m\u001b[0;34m[\u001b[0m\u001b[0mall_\u001b[0m\u001b[0;34m.\u001b[0m\u001b[0mT\u001b[0m\u001b[0;34m,\u001b[0m\u001b[0my_all\u001b[0m\u001b[0;34m]\u001b[0m\u001b[0;34m\u001b[0m\u001b[0;34m\u001b[0m\u001b[0m\n\u001b[0m\u001b[1;32m     16\u001b[0m \u001b[0mallcsv\u001b[0m \u001b[0;34m=\u001b[0m \u001b[0mpd\u001b[0m\u001b[0;34m.\u001b[0m\u001b[0mDataFrame\u001b[0m\u001b[0;34m(\u001b[0m\u001b[0mMEFcsv\u001b[0m\u001b[0;34m)\u001b[0m\u001b[0;34m\u001b[0m\u001b[0;34m\u001b[0m\u001b[0m\n\u001b[1;32m     17\u001b[0m \u001b[0mallcsv\u001b[0m\u001b[0;34m.\u001b[0m\u001b[0mto_csv\u001b[0m\u001b[0;34m(\u001b[0m\u001b[0;34m'../data/processed_data/all.csv'\u001b[0m\u001b[0;34m,\u001b[0m \u001b[0mindex\u001b[0m\u001b[0;34m=\u001b[0m\u001b[0;32mFalse\u001b[0m\u001b[0;34m)\u001b[0m\u001b[0;34m\u001b[0m\u001b[0;34m\u001b[0m\u001b[0m\n",
      "\u001b[0;32m~/opt/anaconda3/lib/python3.9/site-packages/numpy/lib/index_tricks.py\u001b[0m in \u001b[0;36m__getitem__\u001b[0;34m(self, key)\u001b[0m\n\u001b[1;32m    405\u001b[0m                 \u001b[0mobjs\u001b[0m\u001b[0;34m[\u001b[0m\u001b[0mk\u001b[0m\u001b[0;34m]\u001b[0m \u001b[0;34m=\u001b[0m \u001b[0mobjs\u001b[0m\u001b[0;34m[\u001b[0m\u001b[0mk\u001b[0m\u001b[0;34m]\u001b[0m\u001b[0;34m.\u001b[0m\u001b[0mastype\u001b[0m\u001b[0;34m(\u001b[0m\u001b[0mfinal_dtype\u001b[0m\u001b[0;34m)\u001b[0m\u001b[0;34m\u001b[0m\u001b[0;34m\u001b[0m\u001b[0m\n\u001b[1;32m    406\u001b[0m \u001b[0;34m\u001b[0m\u001b[0m\n\u001b[0;32m--> 407\u001b[0;31m         \u001b[0mres\u001b[0m \u001b[0;34m=\u001b[0m \u001b[0mself\u001b[0m\u001b[0;34m.\u001b[0m\u001b[0mconcatenate\u001b[0m\u001b[0;34m(\u001b[0m\u001b[0mtuple\u001b[0m\u001b[0;34m(\u001b[0m\u001b[0mobjs\u001b[0m\u001b[0;34m)\u001b[0m\u001b[0;34m,\u001b[0m \u001b[0maxis\u001b[0m\u001b[0;34m=\u001b[0m\u001b[0maxis\u001b[0m\u001b[0;34m)\u001b[0m\u001b[0;34m\u001b[0m\u001b[0;34m\u001b[0m\u001b[0m\n\u001b[0m\u001b[1;32m    408\u001b[0m \u001b[0;34m\u001b[0m\u001b[0m\n\u001b[1;32m    409\u001b[0m         \u001b[0;32mif\u001b[0m \u001b[0mmatrix\u001b[0m\u001b[0;34m:\u001b[0m\u001b[0;34m\u001b[0m\u001b[0;34m\u001b[0m\u001b[0m\n",
      "\u001b[0;32m<__array_function__ internals>\u001b[0m in \u001b[0;36mconcatenate\u001b[0;34m(*args, **kwargs)\u001b[0m\n",
      "\u001b[0;31mValueError\u001b[0m: all the input array dimensions for the concatenation axis must match exactly, but along dimension 0, the array at index 0 has size 81133 and the array at index 1 has size 7743"
     ]
    }
   ],
   "source": [
    "#Remove all genes that are not expressed in at least percentage (default 50%) of the all cells\n",
    "gene_expressed = filter_norm_data(all_norm,0.05)\n",
    "all_norm = all_norm[gene_expressed]\n",
    "print(all_norm.shape)\n",
    "\n",
    "#Store the name of genes of interest\n",
    "genes_interest = all_norm.index.values #get name of genes\n",
    "genes_interest = pd.DataFrame(genes_interest)\n",
    "genes_interest.to_csv('../data/processed_data/allgenes_interest.csv', index=False)\n",
    "\n",
    "#Convert into array\n",
    "all_ = np.array(all_norm)\n",
    "\n",
    "#Create preprocess data \n",
    "allcsv = np.c_[all_.T,y_all]\n",
    "allcsv = pd.DataFrame(MEFcsv)\n",
    "allcsv.to_csv('../data/processed_data/all.csv', index=False)"
   ]
  },
  {
   "cell_type": "code",
   "execution_count": null,
   "metadata": {},
   "outputs": [],
   "source": [
    "#Add .csv file that remembers which cells from which data set -> give indices\n",
    "size_AE3 = np.size(np.array(AE3_scran_df))[0]\n",
    "size_AE4 = np.size(np.array(AE4_scran_df))[0]\n",
    "size_MEF= np.size(np.array(MEF_scran_df))[0]\n",
    "size_LK = np.size(np.array(LK_scran_df))[0]\n",
    "size_LSK = np.size(np.array(LSK_scran_df))[0]\n",
    "size_LSKmix = np.size(np.array(LSKmix_scran_df))[0]\n",
    "sizes = [size_AE3, size_AE4, size_MEF, size_LK, size_LSK, size_LSKmix]\n",
    "\n",
    "sizes = pd.DataFrame(sizes)\n",
    "sizes.to_csv('../data/processed_data/ind_datasets.csv', index=False)"
   ]
  },
  {
   "cell_type": "code",
   "execution_count": null,
   "metadata": {},
   "outputs": [],
   "source": [
    "#Load preprocess data\n",
    "all_norm= np.array(pd.read_csv ('../data/processed_data/all.csv'))\n",
    "y = np.array(all_norm[:,-1],dtype=int)\n",
    "all_norm = all_norm[:,0:-1]\n",
    "\n",
    "model = FamiliesClusters(np.unique(y),compute_precision,True)\n",
    "pred = model.fit_predict(all_norm,y)\n",
    "\n",
    "acc = model.score_\n",
    "print(acc)"
   ]
  },
  {
   "cell_type": "code",
   "execution_count": null,
   "metadata": {},
   "outputs": [],
   "source": []
  }
 ],
 "metadata": {
  "kernelspec": {
   "display_name": "Python 3 (ipykernel)",
   "language": "python",
   "name": "python3"
  },
  "language_info": {
   "codemirror_mode": {
    "name": "ipython",
    "version": 3
   },
   "file_extension": ".py",
   "mimetype": "text/x-python",
   "name": "python",
   "nbconvert_exporter": "python",
   "pygments_lexer": "ipython3",
   "version": "3.9.7"
  }
 },
 "nbformat": 4,
 "nbformat_minor": 4
}
