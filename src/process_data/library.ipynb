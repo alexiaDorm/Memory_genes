{
 "cells": [
  {
   "cell_type": "code",
   "execution_count": 1,
   "id": "bc546b8b-81bd-4819-979d-05f2f06f1f34",
   "metadata": {},
   "outputs": [
    {
     "name": "stdout",
     "output_type": "stream",
     "text": [
      "/Users/dormann/Documents/GitHub/src\n"
     ]
    }
   ],
   "source": [
    "%cd \"../\"\n",
    "%pwd\n",
    "\n",
    "import numpy as np\n",
    "import io \n",
    "import pandas as pd \n",
    "import pyreadr\n",
    "\n",
    "from load_data import *"
   ]
  },
  {
   "cell_type": "code",
   "execution_count": 2,
   "id": "462a5650-5870-4399-b620-ed6b1c3aba31",
   "metadata": {},
   "outputs": [
    {
     "name": "stdout",
     "output_type": "stream",
     "text": [
      "(20071, 2020) (2020, 1)\n",
      "(25289, 18980) (18980, 1)\n",
      "(23461, 3776) (3776, 1)\n"
     ]
    }
   ],
   "source": [
    "#Load Weinreb LK data\n",
    "LK = pd.read_csv ('../data/merged_data/LK.csv')\n",
    "LK = LK.set_index('Unnamed: 0')\n",
    "y_LK  = np.squeeze(np.array(pd.read_csv('../data/merged_data/y_LK.csv')))\n",
    "y_LK = pd.DataFrame(y_LK, index = LK.columns)\n",
    "print(np.shape(LK), np.shape(y_LK))\n",
    "\n",
    "#Load Weinreb LSK data\n",
    "LSK = pd.read_csv ('../data/merged_data/LSK.csv')\n",
    "LSK = LSK.set_index('Unnamed: 0')\n",
    "y_LSK  =np.squeeze(np.array(pd.read_csv('../data/merged_data/y_LSK.csv')))\n",
    "y_LSK = pd.DataFrame(y_LSK, index = LSK.columns)\n",
    "print(np.shape(LSK), np.shape(y_LSK))\n",
    "\n",
    "#Load Weinreb LSKmix data\n",
    "LSKmix = pd.read_csv ('../data/merged_data/LSKmix.csv')\n",
    "LSKmix = LSKmix.set_index('Unnamed: 0')\n",
    "y_LSKmix  = np.squeeze(np.array(pd.read_csv('../data/merged_data/y_LSKmix.csv')))\n",
    "y_LSKmix = pd.DataFrame(y_LSKmix, index = LSKmix.columns)\n",
    "print(np.shape(LSKmix), np.shape(y_LSKmix))"
   ]
  },
  {
   "cell_type": "code",
   "execution_count": 3,
   "id": "fc479f48-2273-4839-bb8d-8456db78175c",
   "metadata": {},
   "outputs": [],
   "source": [
    "LK_lib1 = pyreadr.read_r('../data/family_datasets/family_info/family_info_Weinreb_LK_D2_exp1_library_d2_1.RData')['WORK_clones']['cell.barcode']\n",
    "LK_lib2 = pyreadr.read_r('../data/family_datasets/family_info/family_info_Weinreb_LK_D2_exp1_library_d2_2.RData')['WORK_clones']['cell.barcode']\n",
    "LK_lib3 = pyreadr.read_r('../data/family_datasets/family_info/family_info_Weinreb_LK_D2_exp1_library_LK_d2.RData')['WORK_clones']['cell.barcode']\n",
    "LK_lib4 = pyreadr.read_r('../data/family_datasets/family_info/family_info_Weinreb_LK_D2_exp1_library_d2_2.RData')['WORK_clones']['cell.barcode']\n",
    "LK_lib5 = pyreadr.read_r('../data/family_datasets/family_info/family_info_Weinreb_LK_D2_exp2_library_d2_1_IV5.RData')['WORK_clones']['Cellbarcode']\n",
    "LK_lib6 = pyreadr.read_r('../data/family_datasets/family_info/family_info_Weinreb_LK_D2_exp2_library_d2_2_IV5.RData')['WORK_clones']['Cellbarcode']\n",
    "LK_lib7 = pyreadr.read_r('../data/family_datasets/family_info/family_info_Weinreb_LK_D2_exp2_library_d2_3_IV5.RData')['WORK_clones']['Cellbarcode']\n",
    "LK_lib8 = pyreadr.read_r('../data/family_datasets/family_info/family_info_Weinreb_LK_D2_exp2_library_d2_4_IV5.RData')['WORK_clones']['Cellbarcode']\n",
    "LK_lib9 = pyreadr.read_r('../data/family_datasets/family_info/family_info_Weinreb_LK_D2_exp2_library_d2_5_IV5.RData')['WORK_clones']['Cellbarcode']\n",
    "\n",
    "LSK_lib1 = pyreadr.read_r('../data/family_datasets/family_info/family_info_Weinreb_LSK_D2_exp1_library_LSK_d2_1.RData')['WORK_clones']['cell.barcode']\n",
    "LSK_lib2 = pyreadr.read_r('../data/family_datasets/family_info/family_info_Weinreb_LSK_D2_exp1_library_LSK_d2_2.RData')['WORK_clones']['cell.barcode']\n",
    "LSK_lib3 = pyreadr.read_r('../data/family_datasets/family_info/family_info_Weinreb_LSK_D2_exp1_library_LSK_d2_3.RData')['WORK_clones']['cell.barcode']\n",
    "LSK_lib4 = pyreadr.read_r('../data/family_datasets/family_info/family_info_Weinreb_LSK_D2_exp2_library_d2A_1.RData')['WORK_clones']['Cellbarcode']\n",
    "LSK_lib5 = pyreadr.read_r('../data/family_datasets/family_info/family_info_Weinreb_LSK_D2_exp2_library_d2A_2.RData')['WORK_clones']['Cellbarcode']\n",
    "LSK_lib6 = pyreadr.read_r('../data/family_datasets/family_info/family_info_Weinreb_LSK_D2_exp2_library_d2A_3.RData')['WORK_clones']['Cellbarcode']\n",
    "LSK_lib7 = pyreadr.read_r('../data/family_datasets/family_info/family_info_Weinreb_LSK_D2_exp2_library_d2A_4.RData')['WORK_clones']['Cellbarcode']\n",
    "LSK_lib8 = pyreadr.read_r('../data/family_datasets/family_info/family_info_Weinreb_LSK_D2_exp2_library_d2A_5.RData')['WORK_clones']['Cellbarcode']\n",
    "LSK_lib9 = pyreadr.read_r('../data/family_datasets/family_info/family_info_Weinreb_LSK_D2_exp2_library_d2B_1.RData')['WORK_clones']['Cellbarcode']\n",
    "LSK_lib10 = pyreadr.read_r('../data/family_datasets/family_info/family_info_Weinreb_LSK_D2_exp2_library_d2B_2.RData')['WORK_clones']['Cellbarcode']\n",
    "LSK_lib11 = pyreadr.read_r('../data/family_datasets/family_info/family_info_Weinreb_LSK_D2_exp2_library_d2B_3.RData')['WORK_clones']['Cellbarcode']\n",
    "LSK_lib12 = pyreadr.read_r('../data/family_datasets/family_info/family_info_Weinreb_LSK_D2_exp2_library_d2B_4.RData')['WORK_clones']['Cellbarcode']\n",
    "LSK_lib13 = pyreadr.read_r('../data/family_datasets/family_info/family_info_Weinreb_LSK_D2_exp2_library_d2B_5.RData')['WORK_clones']['Cellbarcode']\n",
    "\n",
    "LSKmix_lib1 = pyreadr.read_r('../data/family_datasets/family_info/family_info_Weinreb_LK_LSK_D2_exp3_library_d2_1.RData')['WORK_clones']['Cellbarcode']\n",
    "LSKmix_lib2 = pyreadr.read_r('../data/family_datasets/family_info/family_info_Weinreb_LK_LSK_D2_exp3_library_d2_2.RData')['WORK_clones']['Cellbarcode']\n",
    "LSKmix_lib3 = pyreadr.read_r('../data/family_datasets/family_info/family_info_Weinreb_LK_LSK_D2_exp3_library_d2_3.RData')['WORK_clones']['Cellbarcode']\n",
    "LSKmix_lib4 = pyreadr.read_r('../data/family_datasets/family_info/family_info_Weinreb_LK_LSK_D2_exp3_library_d2_4.RData')['WORK_clones']['Cellbarcode']\n",
    "LSKmix_lib5 = pyreadr.read_r('../data/family_datasets/family_info/family_info_Weinreb_LK_LSK_D2_exp3_library_d2_5.RData')['WORK_clones']['Cellbarcode']\n",
    "LSKmix_lib6 = pyreadr.read_r('../data/family_datasets/family_info/family_info_Weinreb_LK_LSK_D2_exp3_library_d2_6.RData')['WORK_clones']['Cellbarcode']"
   ]
  },
  {
   "cell_type": "code",
   "execution_count": 4,
   "id": "b933b327-087b-41be-a4a5-6b5ac1b86a34",
   "metadata": {},
   "outputs": [],
   "source": [
    "LK_lib = [LK_lib1,LK_lib2,LK_lib3, LK_lib4, LK_lib5, LK_lib6, LK_lib7,LK_lib8,LK_lib9]\n",
    "LSK_lib = [LSK_lib1,LSK_lib2,LSK_lib3, LSK_lib4, LSK_lib5, LSK_lib6, LSK_lib7,LSK_lib8,LSK_lib9, LSK_lib10, LSK_lib11,LSK_lib12,LSK_lib13]\n",
    "LSKmix_lib = [LSKmix_lib1,LSKmix_lib2,LSKmix_lib3, LSKmix_lib4, LSKmix_lib5, LSKmix_lib6]"
   ]
  },
  {
   "cell_type": "code",
   "execution_count": 5,
   "id": "d5921ad0-c172-4efe-b426-0c1c714fed99",
   "metadata": {},
   "outputs": [],
   "source": [
    "for i, lib in enumerate(LK_lib):\n",
    "    LK_temp = pd.DataFrame(LK[LK.columns.intersection(lib)])\n",
    "    \n",
    "    y_temp = pd.DataFrame(y_LK.T[y_LK.index.intersection(lib)]).T\n",
    "    families, count = np.unique(y_temp, return_counts=True)\n",
    "    families_interest = families[np.logical_and(count > 1, count < 6)]\n",
    "    cond = np.squeeze(np.array(y_temp.isin(families_interest)))\n",
    "    y = y_temp[cond]\n",
    "    \n",
    "    LK_temp = pd.DataFrame(LK[y.index])\n",
    "    \n",
    "    LK_temp.to_csv('../data/processed_data/LKlib' + str(i) + '.csv', index=False)\n",
    "    y.to_csv('../data/processed_data/y_LK_lib' + str(i) + '.csv', index=False)\n",
    "    \n",
    "    \n",
    "for i, lib in enumerate(LSK_lib):\n",
    "    LSK_temp = pd.DataFrame(LSK[LSK.columns.intersection(lib)])\n",
    "    \n",
    "    y_temp = pd.DataFrame(y_LSK.T[y_LSK.index.intersection(lib)]).T\n",
    "    families, count = np.unique(y_temp, return_counts=True)\n",
    "    families_interest = families[np.logical_and(count > 1, count < 6)]\n",
    "    cond = np.squeeze(np.array(y_temp.isin(families_interest)))\n",
    "    y = y_temp[cond]\n",
    "    \n",
    "    LSK_temp = pd.DataFrame(LSK[y.index])\n",
    "    \n",
    "    LSK_temp.to_csv('../data/processed_data/LSKlib' + str(i) + '.csv', index=False)\n",
    "    y.to_csv('../data/processed_data/y_LSK_lib' + str(i) + '.csv', index=False)\n",
    "\n",
    "    \n",
    "for i, lib in enumerate(LSKmix_lib):\n",
    "    LSKmix_temp = pd.DataFrame(LSKmix[LSKmix.columns.intersection(lib)])\n",
    "    y_temp = pd.DataFrame(y_LSKmix.T[y_LSKmix.index.intersection(lib)]).T\n",
    "    \n",
    "    y_temp = pd.DataFrame(y_LSKmix.T[y_LSKmix.index.intersection(lib)]).T\n",
    "    families, count = np.unique(y_temp, return_counts=True)\n",
    "    families_interest = families[np.logical_and(count > 1, count < 6)]\n",
    "    cond = np.squeeze(np.array(y_temp.isin(families_interest)))\n",
    "    y = y_temp[cond]\n",
    "    \n",
    "    LSKmix_temp = pd.DataFrame(LSKmix[y.index])\n",
    "    \n",
    "    LSKmix_temp.to_csv('../data/processed_data/LSKmixlib' + str(i) + '.csv', index=False)\n",
    "    y.to_csv('../data/processed_data/y_LSKmix_lib' + str(i) + '.csv', index=False)\n"
   ]
  },
  {
   "cell_type": "markdown",
   "id": "bd2ec3d3-a9ff-4dd8-ab74-d0026339a145",
   "metadata": {},
   "source": [
    "# Fuse all library of same cell type"
   ]
  },
  {
   "cell_type": "markdown",
   "id": "783fcd3d-702d-4ef9-8555-08a5910b7c40",
   "metadata": {},
   "source": [
    "### LK cells"
   ]
  },
  {
   "cell_type": "code",
   "execution_count": 6,
   "id": "19a0d1c6-31af-44e8-9b32-69eb822e61f9",
   "metadata": {},
   "outputs": [],
   "source": [
    "LK_df = pd.read_csv ('../data/processed_data/LKlib0.csv')\n",
    "y = np.squeeze(np.array(pd.read_csv('../data/processed_data/y_LK_lib0.csv')))\n",
    "\n",
    "sizes = []\n",
    "lib = [1,2,3,4,5,6,7,8]\n",
    "for i in lib:\n",
    "\n",
    "    LK = pd.read_csv ('../data/processed_data/LKlib' + str(i) + '.csv')\n",
    "    y_LK  = np.squeeze(np.array(pd.read_csv('../data/processed_data/y_LK_lib' + str(i) + '.csv')))\n",
    "    \n",
    "    sizes.append(len(y_LK))\n",
    "    \n",
    "    LK_df = pd.concat([LK_df, LK], axis=1)\n",
    "\n",
    "    #Fuse families info\n",
    "    y_LK += max(y) #Add the max indice of families in first dataset so that there is no overlap between families indices.\n",
    "    y = np.hstack((y_LK, y))\n",
    "\n",
    "#Remove all genes that are not expressed in at least percentage (default 50%) of the D0 MEF cells\n",
    "gene_expressed = filter_norm_data(LK_df,0.05)\n",
    "LK_df = LK_df[gene_expressed]\n",
    "\n",
    "#Store the name of genes of interest\n",
    "genes_interest = LK_df.index.values #get name of genes\n",
    "genes_interest = pd.DataFrame(genes_interest)\n",
    "genes_interest.to_csv('../data/processed_data/LKfusedlibraries_genes_interest.csv', index=False)\n",
    "\n",
    "#Convert into array\n",
    "LK= np.array(LK_df)\n",
    "\n",
    "#Create preprocess data \n",
    "LKcsv = np.c_[LK.T,y]\n",
    "LKcsv = pd.DataFrame(LKcsv)\n",
    "LKcsv.to_csv('../data/processed_data/LKfusedlibrary.csv', index=False)\n",
    "\n",
    "pd.DataFrame(sizes).to_csv('../data/processed_data/size_librariesLK.csv', index=False)"
   ]
  },
  {
   "cell_type": "markdown",
   "id": "2820694a-4938-468c-8589-d835f6e412a8",
   "metadata": {},
   "source": [
    "### LSK cells"
   ]
  },
  {
   "cell_type": "code",
   "execution_count": 7,
   "id": "061ed527-e505-474f-b842-57d301231000",
   "metadata": {},
   "outputs": [
    {
     "name": "stdout",
     "output_type": "stream",
     "text": [
      "(7495, 4778) (4778,)\n"
     ]
    }
   ],
   "source": [
    "LK_df = pd.read_csv ('../data/processed_data/LSKlib0.csv')\n",
    "y = np.squeeze(np.array(pd.read_csv('../data/processed_data/y_LSK_lib0.csv')))\n",
    "\n",
    "sizes = []\n",
    "lib = [1,2,3,4,5,6,7,8,9,10,11,12]\n",
    "for i in lib:\n",
    "\n",
    "    LK = pd.read_csv ('../data/processed_data/LSKlib' + str(i) + '.csv')\n",
    "    y_LK  = np.squeeze(np.array(pd.read_csv('../data/processed_data/y_LSK_lib' + str(i) + '.csv')))\n",
    "    \n",
    "    sizes.append(len(y_LK))\n",
    "    \n",
    "    LK_df = pd.concat([LK_df, LK], axis=1)\n",
    "\n",
    "    #Fuse families info\n",
    "    y_LK += max(y) #Add the max indice of families in first dataset so that there is no overlap between families indices.\n",
    "    y = np.hstack((y_LK, y))\n",
    "\n",
    "#Remove all genes that are not expressed in at least percentage (default 50%) of the D0 MEF cells\n",
    "gene_expressed = filter_norm_data(LK_df,0.05)\n",
    "LK_df = LK_df[gene_expressed]\n",
    "\n",
    "#Store the name of genes of interest\n",
    "genes_interest = LK_df.index.values #get name of genes\n",
    "genes_interest = pd.DataFrame(genes_interest)\n",
    "genes_interest.to_csv('../data/processed_data/LSKfusedlibraries_genes_interest.csv', index=False)\n",
    "\n",
    "#Convert into array\n",
    "LK= np.array(LK_df)\n",
    "\n",
    "#Create preprocess data \n",
    "print(LK.shape, y.shape)\n",
    "LKcsv = np.c_[LK.T,y]\n",
    "LKcsv = pd.DataFrame(LKcsv)\n",
    "LKcsv.to_csv('../data/processed_data/LSKfusedlibrary.csv', index=False)\n",
    "\n",
    "pd.DataFrame(sizes).to_csv('../data/processed_data/size_librariesLSK.csv', index=False)"
   ]
  },
  {
   "cell_type": "markdown",
   "id": "6782092d-c487-4cf1-9d85-c094e0657056",
   "metadata": {},
   "source": [
    "### LK/LSK mix cells"
   ]
  },
  {
   "cell_type": "code",
   "execution_count": 8,
   "id": "7e98c76d-d535-49f0-885f-64940633fff3",
   "metadata": {},
   "outputs": [],
   "source": [
    "LK_df = pd.read_csv ('../data/processed_data/LSKmixlib0.csv')\n",
    "y = np.squeeze(np.array(pd.read_csv('../data/processed_data/y_LSKmix_lib0.csv')))\n",
    "\n",
    "sizes = []\n",
    "lib = [1,2,3,4,5]\n",
    "for i in lib:\n",
    "\n",
    "    LK = pd.read_csv ('../data/processed_data/LSKmixlib' + str(i) + '.csv')\n",
    "    y_LK  = np.squeeze(np.array(pd.read_csv('../data/processed_data/y_LSKmix_lib' + str(i) + '.csv')))\n",
    "    \n",
    "    sizes.append(len(y_LK))\n",
    "    \n",
    "    LK_df = pd.concat([LK_df, LK], axis=1)\n",
    "\n",
    "    #Fuse families info\n",
    "    y_LK += max(y) #Add the max indice of families in first dataset so that there is no overlap between families indices.\n",
    "    y = np.hstack((y_LK, y))\n",
    "\n",
    "#Remove all genes that are not expressed in at least percentage (default 50%) of the D0 MEF cells\n",
    "gene_expressed = filter_norm_data(LK_df,0.05)\n",
    "LK_df = LK_df[gene_expressed]\n",
    "\n",
    "#Store the name of genes of interest\n",
    "genes_interest = LK_df.index.values #get name of genes\n",
    "genes_interest = pd.DataFrame(genes_interest)\n",
    "genes_interest.to_csv('../data/processed_data/LSKmixfusedlibraries_genes_interest.csv', index=False)\n",
    "\n",
    "#Convert into array\n",
    "LK= np.array(LK_df)\n",
    "\n",
    "#Create preprocess data \n",
    "LKcsv = np.c_[LK.T,y]\n",
    "LKcsv = pd.DataFrame(LKcsv)\n",
    "LKcsv.to_csv('../data/processed_data/LSKmixfusedlibrary.csv', index=False)\n",
    "\n",
    "pd.DataFrame(sizes).to_csv('../data/processed_data/size_librariesLSKmix.csv', index=False)"
   ]
  },
  {
   "cell_type": "code",
   "execution_count": null,
   "id": "20d0cebc-8e5f-44cd-be29-9841ace24e39",
   "metadata": {},
   "outputs": [],
   "source": []
  }
 ],
 "metadata": {
  "kernelspec": {
   "display_name": "Python 3 (ipykernel)",
   "language": "python",
   "name": "python3"
  },
  "language_info": {
   "codemirror_mode": {
    "name": "ipython",
    "version": 3
   },
   "file_extension": ".py",
   "mimetype": "text/x-python",
   "name": "python",
   "nbconvert_exporter": "python",
   "pygments_lexer": "ipython3",
   "version": "3.9.7"
  }
 },
 "nbformat": 4,
 "nbformat_minor": 5
}
