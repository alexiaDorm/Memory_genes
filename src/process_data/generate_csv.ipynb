{
 "cells": [
  {
   "cell_type": "code",
   "execution_count": 1,
   "metadata": {},
   "outputs": [
    {
     "name": "stdout",
     "output_type": "stream",
     "text": [
      "/Users/dormann/Documents/GitHub/src\n"
     ]
    }
   ],
   "source": [
    "%cd \"../\"\n",
    "%pwd\n",
    "\n",
    "import numpy as np\n",
    "import matplotlib.pyplot as plt\n",
    "\n",
    "import io \n",
    "import pandas as pd \n",
    "import pyreadr\n",
    "\n",
    "from load_data import *"
   ]
  },
  {
   "cell_type": "markdown",
   "metadata": {},
   "source": [
    "# mESC cells (AE3, AE4, AE7)\n",
    "Let's first load all the data containing the mESC cells, the AE3 and AE4 datasets. Import normalized data, data families interest and data family info"
   ]
  },
  {
   "cell_type": "code",
   "execution_count": 2,
   "metadata": {},
   "outputs": [],
   "source": [
    "#AE3\n",
    "AE3_scran_df = pyreadr.read_r('../data/family_datasets/data_norm/AE3_scran_norm.rds')\n",
    "AE3_scran_df = AE3_scran_df[None]\n",
    "\n",
    "data_families_interest_AE3 = pyreadr.read_r('../data/family_datasets/family_interest/families_of_interest_AE3_nocellcyclesplit.RData')\n",
    "data_families_interest_AE3 = data_families_interest_AE3['fois_1']\n",
    "\n",
    "data_families_info_AE3 = pyreadr.read_r('../data/family_datasets/family_info/family_info_AE3_nocellcyclesplit.RData')\n",
    "data_families_info_AE3 = data_families_info_AE3['family_info_1']\n",
    "\n",
    "#Conversion into array \n",
    "AE3_scran = np.array(AE3_scran_df)\n",
    "data_families_interest_AE3 = np.array(data_families_interest_AE3)\n",
    "data_families_info_AE3 = np.array(data_families_info_AE3) "
   ]
  },
  {
   "cell_type": "code",
   "execution_count": 3,
   "metadata": {},
   "outputs": [
    {
     "name": "stdout",
     "output_type": "stream",
     "text": [
      "(32285, 333)\n"
     ]
    }
   ],
   "source": [
    "#Norm data with only the cells belonging to the family of interest\n",
    "AE3_scran_df = select_family_interest_norm_data(data_families_info_AE3, data_families_interest_AE3, AE3_scran_df)\n",
    "y_AE3 = AE3_scran_df[1]\n",
    "y_AE3 = y_AE3[:,0]\n",
    "y_AE3 = y_AE3.astype(np.int32)\n",
    "AE3_scran_df = AE3_scran_df[0]\n",
    "\n",
    "AE3 = np.array(AE3_scran_df)\n",
    "print(np.shape(AE3))"
   ]
  },
  {
   "cell_type": "code",
   "execution_count": 4,
   "metadata": {},
   "outputs": [],
   "source": [
    "#Remove all genes that are not expressed in at least percentage (default 50%) of the mESC cells\n",
    "gene_expressed = filter_norm_data(AE3_scran_df,0.05)\n",
    "AE3_scran_df = AE3_scran_df[gene_expressed]\n",
    "\n",
    "#Store the name of genes of interest\n",
    "genes_interest = AE3_scran_df.index.values #get name of genes\n",
    "genes_interest = pd.DataFrame(genes_interest)\n",
    "genes_interest.to_csv('../data/processed_data/AE3genes_interest.csv', index=False)\n",
    "\n",
    "#Convert into array\n",
    "AE3 = np.array(AE3_scran_df)\n",
    "\n",
    "#Create preprocess data \n",
    "AE3csv = np.c_[AE3.T,y_AE3]\n",
    "AE3csv = pd.DataFrame(AE3csv)\n",
    "AE3csv.to_csv('../data/processed_data/AE3.csv', index=False)"
   ]
  },
  {
   "cell_type": "code",
   "execution_count": 5,
   "metadata": {},
   "outputs": [],
   "source": [
    "#AE4\n",
    "AE4_scran_df = pyreadr.read_r('../data/family_datasets/data_norm/AE4_scran_norm.rds')\n",
    "AE4_scran_df = AE4_scran_df[None]\n",
    "\n",
    "data_families_interest_AE4 = pyreadr.read_r('../data/family_datasets/family_interest/families_of_interest_AE4_nocellcyclesplit.RData')\n",
    "data_families_interest_AE4 = data_families_interest_AE4['fois_1']\n",
    "\n",
    "data_families_info_AE4 = pyreadr.read_r('../data/family_datasets/family_info/family_info_AE4_nocellcyclesplit.RData')\n",
    "data_families_info_AE4 = data_families_info_AE4['family_info_1']\n",
    "\n",
    "#Conversion into array \n",
    "AE4_scran = np.array(AE4_scran_df)\n",
    "data_families_interest_AE4 = np.array(data_families_interest_AE4)\n",
    "data_families_info_AE4 = np.array(data_families_info_AE4)  "
   ]
  },
  {
   "cell_type": "code",
   "execution_count": 6,
   "metadata": {},
   "outputs": [
    {
     "name": "stdout",
     "output_type": "stream",
     "text": [
      "(32285, 1473)\n"
     ]
    }
   ],
   "source": [
    "#Norm data with only the cells belonging to the family of interest\n",
    "AE4_scran_df = select_family_interest_norm_data(data_families_info_AE4, data_families_interest_AE4, AE4_scran_df)\n",
    "y_AE4 = AE4_scran_df[1]\n",
    "y_AE4 = y_AE4[:,0]\n",
    "y_AE4 = y_AE4.astype(np.int32)\n",
    "AE4_scran_df = AE4_scran_df[0]\n",
    "\n",
    "AE4 = np.array(AE4_scran_df)\n",
    "print(np.shape(AE4))"
   ]
  },
  {
   "cell_type": "code",
   "execution_count": 7,
   "metadata": {},
   "outputs": [],
   "source": [
    "#Remove all genes that are not expressed in at least percentage (default 50%) of the cells\n",
    "gene_expressed = filter_norm_data(AE4_scran_df,0.05)\n",
    "AE4_scran_df = AE4_scran_df[gene_expressed]\n",
    "\n",
    "#Store the name of genes of interest\n",
    "genes_interest = AE4_scran_df.index.values #get name of genes\n",
    "genes_interest = pd.DataFrame(genes_interest)\n",
    "genes_interest.to_csv('../data/processed_data/AE4genes_interest.csv', index=False)\n",
    "\n",
    "#Convert into array\n",
    "AE4 = np.array(AE4_scran_df)\n",
    "\n",
    "#Create preprocess data \n",
    "AE4csv = np.c_[AE4.T,y_AE4]\n",
    "AE4csv = pd.DataFrame(AE4csv)\n",
    "AE4csv.to_csv('../data/processed_data/AE4.csv', index=False)"
   ]
  },
  {
   "cell_type": "code",
   "execution_count": 2,
   "metadata": {},
   "outputs": [],
   "source": [
    "#AE7\n",
    "AE7_scran_df = pyreadr.read_r('../data/family_datasets/data_norm/AE7_RPM_norm.rds')\n",
    "AE7_scran_df = AE7_scran_df[None]\n",
    "\n",
    "data_families_interest_AE7 = pyreadr.read_r('../data/family_datasets/family_interest/families_of_interest_AE7_nocellcyclesplit.RData')\n",
    "data_families_interest_AE7 = data_families_interest_AE7['fois_1']\n",
    "\n",
    "data_families_info_AE7 = pyreadr.read_r('../data/family_datasets/family_info/family_info_AE7_nocellcyclesplit.RData')\n",
    "data_families_info_AE7 = data_families_info_AE7['family_info_1']\n",
    "\n",
    "#Conversion into array \n",
    "data_families_interest_AE7 = np.array(data_families_interest_AE7)\n",
    "data_families_info_AE7 = np.array(data_families_info_AE7) "
   ]
  },
  {
   "cell_type": "code",
   "execution_count": 3,
   "metadata": {},
   "outputs": [
    {
     "name": "stdout",
     "output_type": "stream",
     "text": [
      "(32285, 363)\n"
     ]
    }
   ],
   "source": [
    "#Norm data with only the cells belonging to the family of interest\n",
    "AE7_scran_df = select_family_interest_norm_data(data_families_info_AE7, data_families_interest_AE7, AE7_scran_df)\n",
    "y_AE7 = AE7_scran_df[1]\n",
    "y_AE7 = y_AE7[:,0]\n",
    "y_AE7 = y_AE7.astype(np.int32)\n",
    "AE7_scran_df = AE7_scran_df[0]\n",
    "\n",
    "AE7 = np.array(AE7_scran_df)\n",
    "print(np.shape(AE7))"
   ]
  },
  {
   "cell_type": "code",
   "execution_count": 5,
   "metadata": {},
   "outputs": [],
   "source": [
    "#Remove all genes that are not expressed in at least percentage (default 50%) of the mESC cells\n",
    "gene_expressed = filter_norm_data(AE7_scran_df,0.05)\n",
    "AE7_scran_df = AE7_scran_df[gene_expressed]\n",
    "\n",
    "#Store the name of genes of interest\n",
    "genes_interest = AE7_scran_df.index.values #get name of genes\n",
    "genes_interest = pd.DataFrame(genes_interest)\n",
    "genes_interest.to_csv('../data/processed_data/AE7genes_interest.csv', index=False)\n",
    "\n",
    "#Convert into array\n",
    "AE7 = np.array(AE7_scran_df)\n",
    "\n",
    "#Create preprocess data \n",
    "AE7csv = np.c_[AE7.T,y_AE7]\n",
    "AE7csv = pd.DataFrame(AE7csv)\n",
    "AE7csv.to_csv('../data/processed_data/AE7.csv', index=False)"
   ]
  },
  {
   "cell_type": "markdown",
   "metadata": {},
   "source": [
    "# MEF cells (BIDDY DO, DO_2, D6, D6_2, D15, D15_2)\n",
    "Let's first load all the data containing the MEF cells, the BIDDY DO, DO_2, D6, D6_2, D15, and D15_2 datasets. Import normalized data, data families interest and data family info"
   ]
  },
  {
   "cell_type": "markdown",
   "metadata": {},
   "source": [
    "# DO"
   ]
  },
  {
   "cell_type": "code",
   "execution_count": 2,
   "metadata": {},
   "outputs": [],
   "source": [
    "#DO\n",
    "DO_scran_df = pyreadr.read_r('../data/family_datasets/data_norm/BIDDY_D0_RPM_norm.rds')\n",
    "DO_scran_df = DO_scran_df[None]\n",
    "\n",
    "data_families_interest_DO = pyreadr.read_r('../data/family_datasets/family_interest/families_of_interest_BIDDY_D0.RData')\n",
    "data_families_interest_DO = data_families_interest_DO['fois_1']\n",
    "\n",
    "data_families_info_DO = pyreadr.read_r('../data/family_datasets/family_info/family_info_BIDDY_D0.RData')\n",
    "data_families_info_DO = data_families_info_DO['family_info_1']\n",
    "\n",
    "# conversion into array \n",
    "DO_scran = np.array(DO_scran_df)\n",
    "data_families_interest_DO = np.array(data_families_interest_DO)\n",
    "data_families_info_DO = np.array(data_families_info_DO)  "
   ]
  },
  {
   "cell_type": "code",
   "execution_count": 3,
   "metadata": {},
   "outputs": [
    {
     "name": "stdout",
     "output_type": "stream",
     "text": [
      "(32285, 112)\n"
     ]
    }
   ],
   "source": [
    "#Norm data with only the cells belonging to the family of interest\n",
    "DO_scran_df = select_family_interest_norm_data(data_families_info_DO, data_families_interest_DO, DO_scran_df)\n",
    "y_DO = DO_scran_df[1]\n",
    "y_DO = y_DO[:,0]\n",
    "y_DO = y_DO.astype(np.int32)\n",
    "DO_scran_df = DO_scran_df[0]\n",
    "\n",
    "DO = np.array(DO_scran_df)\n",
    "print(np.shape(DO))"
   ]
  },
  {
   "cell_type": "code",
   "execution_count": null,
   "metadata": {},
   "outputs": [],
   "source": [
    "#DO_2\n",
    "DO2_scran_df = pyreadr.read_r('../data/family_datasets/data_norm/BIDDY_D0_2_RPM_norm.rds')\n",
    "DO2_scran_df = DO2_scran_df[None]\n",
    "\n",
    "data_families_interest_DO2 = pyreadr.read_r('../data/family_datasets/family_interest/families_of_interest_BIDDY_D0_2.RData')\n",
    "data_families_interest_DO2 = data_families_interest_DO2['fois_1']\n",
    "\n",
    "data_families_info_DO2 = pyreadr.read_r('../data/family_datasets/family_info/family_info_BIDDY_D0_2.RData')\n",
    "data_families_info_DO2 = data_families_info_DO2['family_info_1']\n",
    "\n",
    "# conversion into array \n",
    "DO2_scran = np.array(DO2_scran_df)\n",
    "data_families_interest_DO2 = np.array(data_families_interest_DO2)\n",
    "data_families_info_DO2 = np.array(data_families_info_DO2) "
   ]
  },
  {
   "cell_type": "code",
   "execution_count": null,
   "metadata": {},
   "outputs": [],
   "source": [
    "#Norm data with only the cells belonging to the family of interest\n",
    "DO2_scran_df = select_family_interest_norm_data(data_families_info_DO2, data_families_interest_DO2, DO2_scran_df)\n",
    "y_DO2 = DO2_scran_df[1]\n",
    "y_DO2 = y_DO2[:,0]\n",
    "y_DO2 = y_DO2.astype(np.int32)\n",
    "DO2_scran_df = DO2_scran_df[0]\n",
    "\n",
    "DO2 = np.array(DO2_scran_df)\n",
    "print(np.shape(DO2))"
   ]
  },
  {
   "cell_type": "code",
   "execution_count": 12,
   "metadata": {},
   "outputs": [],
   "source": [
    "#Fuse D0 normalized data\n",
    "D0_df = pd.concat([DO_scran_df, DO2_scran_df], axis=1)\n",
    "\n",
    "#Fuse families info\n",
    "y_DO2 += max(y_DO) #Add the max indice of families in first dataset so that there is no overlap between families indices.\n",
    "y_D0 = np.hstack((y_DO, y_DO2))\n",
    "\n",
    "#Remove all genes that are not expressed in at least percentage (default 50%) of the D0 MEF cells\n",
    "gene_expressed = filter_norm_data(D0_df,0.05)\n",
    "D0_df = D0_df[gene_expressed]\n",
    "\n",
    "#Store the name of genes of interest\n",
    "genes_interest = D0_df.index.values #get name of genes\n",
    "genes_interest = pd.DataFrame(genes_interest)\n",
    "genes_interest.to_csv('../data/processed_data/D0genes_interest.csv', index=False)\n",
    "\n",
    "#Convert into array\n",
    "D0 = np.array(D0_df)\n",
    "\n",
    "#Create preprocess data \n",
    "D0csv = np.c_[D0.T,y_D0]\n",
    "D0csv = pd.DataFrame(D0csv)\n",
    "D0csv.to_csv('../data/processed_data/D0.csv', index=False)"
   ]
  },
  {
   "cell_type": "markdown",
   "metadata": {},
   "source": [
    "# D6"
   ]
  },
  {
   "cell_type": "code",
   "execution_count": null,
   "metadata": {},
   "outputs": [],
   "source": [
    "#D6\n",
    "D6_scran_df = pyreadr.read_r('../data/family_datasets/data_norm/BIDDY_D6_RPM_norm.rds')\n",
    "D6_scran_df = D6_scran_df[None]\n",
    "\n",
    "data_families_interest_D6 = pyreadr.read_r('../data/family_datasets/family_interest/families_of_interest_BIDDY_D6_V2.RData')\n",
    "data_families_interest_D6 = data_families_interest_D6['fois_1']\n",
    "\n",
    "data_families_info_D6 = pyreadr.read_r('../data/family_datasets/family_info/family_info_BIDDY_D6_V2.RData')\n",
    "data_families_info_D6 = data_families_info_D6['family_info_1']\n",
    "\n",
    "# conversion into array \n",
    "D6_scran = np.array(D6_scran_df)\n",
    "data_families_interest_D6 = np.array(data_families_interest_D6)\n",
    "data_families_info_D6 = np.array(data_families_info_D6) "
   ]
  },
  {
   "cell_type": "code",
   "execution_count": null,
   "metadata": {},
   "outputs": [],
   "source": [
    "#Norm data with only the cells belonging to the family of interest\n",
    "D6_scran_df = select_family_interest_norm_data(data_families_info_D6, data_families_interest_D6, D6_scran_df)\n",
    "y_D6 = D6_scran_df[1]\n",
    "y_D6 = y_D6[:,0]\n",
    "y_D6 = y_D6.astype(np.int32)\n",
    "D6_scran_df = D6_scran_df[0]\n",
    "\n",
    "D6 = np.array(D6_scran_df)\n",
    "print(np.shape(D6))"
   ]
  },
  {
   "cell_type": "code",
   "execution_count": null,
   "metadata": {},
   "outputs": [],
   "source": [
    "#D6_2\n",
    "D62_scran_df = pyreadr.read_r('../data/family_datasets/data_norm/BIDDY_D6_2_RPM_norm.rds')\n",
    "D62_scran_df= D62_scran_df[None]\n",
    "\n",
    "data_families_interest_D62 = pyreadr.read_r('../data/family_datasets/family_interest/families_of_interest_BIDDY_D6_2.RData')\n",
    "data_families_interest_D62 = data_families_interest_D62['fois_1']\n",
    "\n",
    "data_families_info_D62 = pyreadr.read_r('../data/family_datasets/family_info/family_info_BIDDY_D6_2.RData')\n",
    "data_families_info_D62 = data_families_info_D62['family_info_1']\n",
    "\n",
    "# conversion into array \n",
    "D62_scran = np.array(D62_scran_df)\n",
    "data_families_interest_D62 = np.array(data_families_interest_D62)\n",
    "data_families_info_D62 = np.array(data_families_info_D62)"
   ]
  },
  {
   "cell_type": "code",
   "execution_count": null,
   "metadata": {},
   "outputs": [],
   "source": [
    "#Norm data with only the cells belonging to the family of interest\n",
    "D62_scran_df = select_family_interest_norm_data(data_families_info_D62, data_families_interest_D62, D62_scran_df)\n",
    "y_D62 = D62_scran_df[1]\n",
    "y_D62 = y_D62[:,0]\n",
    "y_D62 = y_D62.astype(np.int32)\n",
    "D62_scran_df = D62_scran_df[0]\n",
    "\n",
    "D62 = np.array(D62_scran_df)\n",
    "print(np.shape(D62))"
   ]
  },
  {
   "cell_type": "code",
   "execution_count": 17,
   "metadata": {},
   "outputs": [],
   "source": [
    "#Fuse D6 normalized data\n",
    "D6_df = pd.concat([D6_scran_df, D62_scran_df], axis=1)\n",
    "\n",
    "#Fuse families info\n",
    "y_D62 += max(y_D6) #Add the max indice of families in first dataset so that there is no overlap between families indices.\n",
    "y_D60 = np.hstack((y_D6, y_D62))\n",
    "\n",
    "#Remove all genes that are not expressed in at least percentage (default 50%) of the D6 MEF cells\n",
    "gene_expressed = filter_norm_data(D6_df,0.05)\n",
    "D6_df = D6_df[gene_expressed]\n",
    "\n",
    "#Store the name of genes of interest\n",
    "genes_interest = D6_df.index.values #get name of genes\n",
    "genes_interest = pd.DataFrame(genes_interest)\n",
    "genes_interest.to_csv('../data/processed_data/D6genes_interest.csv', index=False)\n",
    "\n",
    "#Convert into array\n",
    "D6 = np.array(D6_df)\n",
    "\n",
    "#Create preprocess data \n",
    "D6csv = np.c_[D6.T,y_D60]\n",
    "D6csv = pd.DataFrame(D6csv)\n",
    "D6csv.to_csv('../data/processed_data/D6.csv', index=False)"
   ]
  },
  {
   "cell_type": "markdown",
   "metadata": {},
   "source": [
    "# D15"
   ]
  },
  {
   "cell_type": "code",
   "execution_count": null,
   "metadata": {},
   "outputs": [],
   "source": [
    "#D15\n",
    "D15_scran_df = pyreadr.read_r('../data/family_datasets/data_norm/BIDDY_D15_RPM_norm.rds')\n",
    "D15_scran_df = D15_scran_df[None]\n",
    "\n",
    "data_families_interest_D15 = pyreadr.read_r('../data/family_datasets/family_interest/families_of_interest_BIDDY_D15_V3.RData')\n",
    "data_families_interest_D15 = data_families_interest_D15['fois_1']\n",
    "\n",
    "data_families_info_D15 = pyreadr.read_r('../data/family_datasets/family_info/family_info_BIDDY_D15_V3.RData')\n",
    "data_families_info_D15 = data_families_info_D15['family_info_1']\n",
    "\n",
    "# conversion into array \n",
    "D15_scran = np.array(D15_scran_df)\n",
    "data_families_interest_D15 = np.array(data_families_interest_D15)\n",
    "data_families_info_D15 = np.array(data_families_info_D15) "
   ]
  },
  {
   "cell_type": "code",
   "execution_count": null,
   "metadata": {},
   "outputs": [],
   "source": [
    "#Norm data with only the cells belonging to the family of interest\n",
    "D15_scran_df = select_family_interest_norm_data(data_families_info_D15, data_families_interest_D15, D15_scran_df)\n",
    "y_D15 = D15_scran_df[1]\n",
    "y_D15 = y_D15[:,0]\n",
    "y_D15 = y_D15.astype(np.int32)\n",
    "D15_scran_df = D15_scran_df[0]\n",
    "\n",
    "D15 = np.array(D15_scran_df)\n",
    "print(np.shape(D15))"
   ]
  },
  {
   "cell_type": "code",
   "execution_count": null,
   "metadata": {},
   "outputs": [],
   "source": [
    "#D15_2\n",
    "D152_scran_df = pyreadr.read_r('../data/family_datasets/data_norm/BIDDY_D15_2_RPM_norm.rds')\n",
    "D152_scran_df = D152_scran_df[None]\n",
    "\n",
    "data_families_interest_D152 = pyreadr.read_r('../data/family_datasets/family_interest/families_of_interest_BIDDY_D15_2.RData')\n",
    "data_families_interest_D152 = data_families_interest_D152['fois_1']\n",
    "\n",
    "data_families_info_D152 = pyreadr.read_r('../data/family_datasets/family_info/family_info_BIDDY_D15_2.RData')\n",
    "data_families_info_D152 = data_families_info_D152['family_info_1']\n",
    "\n",
    "# conversion into array \n",
    "D152_scran = np.array(D152_scran_df)\n",
    "data_families_interest_D152 = np.array(data_families_interest_D152)\n",
    "data_families_info_D152 = np.array(data_families_info_D152)"
   ]
  },
  {
   "cell_type": "code",
   "execution_count": null,
   "metadata": {},
   "outputs": [],
   "source": [
    "#Norm data with only the cells belonging to the family of interest\n",
    "D152_scran_df = select_family_interest_norm_data(data_families_info_D152, data_families_interest_D152, D152_scran_df)\n",
    "y_D152 = D152_scran_df[1]\n",
    "y_D152 = y_D152[:,0]\n",
    "y_D152 = y_D152.astype(np.int32)\n",
    "D152_scran_df = D152_scran_df[0]\n",
    "\n",
    "D152 = np.array(D152_scran_df)\n",
    "print(np.shape(D152))"
   ]
  },
  {
   "cell_type": "code",
   "execution_count": 22,
   "metadata": {},
   "outputs": [],
   "source": [
    "#Fuse D6 normalized data\n",
    "D15_df = pd.concat([D15_scran_df, D152_scran_df], axis=1)\n",
    "\n",
    "#Fuse families info\n",
    "y_D152 += max(y_D15) #Add the max indice of families in first dataset so that there is no overlap between families indices.\n",
    "y_D150 = np.hstack((y_D15, y_D152))\n",
    "\n",
    "#Remove all genes that are not expressed in at least percentage (default 50%) of the D15 MEF cells\n",
    "gene_expressed = filter_norm_data(D15_df,0.05)\n",
    "D15_df = D15_df[gene_expressed]\n",
    "\n",
    "#Store the name of genes of interest\n",
    "genes_interest = D15_df.index.values #get name of genes\n",
    "genes_interest = pd.DataFrame(genes_interest)\n",
    "genes_interest.to_csv('../data/processed_data/D15genes_interest.csv', index=False)\n",
    "\n",
    "#Convert into array\n",
    "D15 = np.array(D15_df)\n",
    "\n",
    "#Create preprocess data \n",
    "D15csv = np.c_[D15.T,y_D150]\n",
    "D15csv = pd.DataFrame(D15csv)\n",
    "D15csv.to_csv('../data/processed_data/D15.csv', index=False)"
   ]
  },
  {
   "cell_type": "markdown",
   "metadata": {},
   "source": [
    "# Fuse all MEF cells"
   ]
  },
  {
   "cell_type": "code",
   "execution_count": null,
   "metadata": {},
   "outputs": [],
   "source": [
    "#Fuse MEF normalized data\n",
    "MEF_df = pd.concat([DO_scran_df, DO2_scran_df,D6_scran_df,D62_scran_df,D15_scran_df,D152_scran_df], axis=1)\n",
    "\n",
    "#Fuse families info\n",
    "y_DO2 += max(y_DO) #Add the max indice of families in first dataset so that there is no overlap between families indices.\n",
    "y_MEF = np.hstack((y_DO, y_DO2))\n",
    "\n",
    "y_D6 += max(y_MEF)\n",
    "y_MEF = np.hstack((y_MEF, y_D6))\n",
    "\n",
    "y_D62 += max(y_MEF)\n",
    "y_MEF = np.hstack((y_MEF, y_D62))\n",
    "\n",
    "y_D15 += max(y_MEF)\n",
    "y_MEF = np.hstack((y_MEF, y_D15))\n",
    "\n",
    "y_D152 += max(y_MEF)\n",
    "y_MEF = np.hstack((y_MEF, y_D152))"
   ]
  },
  {
   "cell_type": "code",
   "execution_count": null,
   "metadata": {},
   "outputs": [],
   "source": [
    "#Remove all genes that are not expressed in at least percentage (default 50%) of the MEF cells\n",
    "gene_expressed = filter_norm_data(MEF_df,0.05)\n",
    "MEF_df = MEF_df[gene_expressed]\n",
    "\n",
    "#Store the name of genes of interest\n",
    "genes_interest = MEF_df.index.values #get name of genes\n",
    "genes_interest = pd.DataFrame(genes_interest)\n",
    "genes_interest.to_csv('../data/processed_data/MEFgenes_interest.csv', index=False)\n",
    "\n",
    "#Convert into array\n",
    "MEF = np.array(MEF_df)\n",
    "\n",
    "#Create preprocess data \n",
    "MEFcsv = np.c_[MEF.T,y_MEF]\n",
    "MEFcsv = pd.DataFrame(MEFcsv)\n",
    "MEFcsv.to_csv('../data/processed_data/MEF.csv', index=False)"
   ]
  },
  {
   "cell_type": "markdown",
   "metadata": {},
   "source": [
    "# T CD8+ cells: KIMMERLING CD8"
   ]
  },
  {
   "cell_type": "code",
   "execution_count": 24,
   "metadata": {},
   "outputs": [],
   "source": [
    "# import normalized data, data families interest and data family info of Kimmerling CD8 family\n",
    "\n",
    "df_CD8_norm = pd.read_csv ('../data/family_datasets/data_norm/Kimmerling_CD8_norm.csv')\n",
    "df_CD8_norm = df_CD8_norm.set_index('Unnamed: 0')     #transform 'Unnamed: 0' column into row label\n",
    "df_CD8_norm = df_CD8_norm.rename_axis(None)#change 'Unnamed: 0' row label into none\n",
    "\n",
    "#Remove genes with non-defined values and genes with only 0\n",
    "nan_genes = df_CD8_norm.any(axis=1)\n",
    "df_CD8_norm = df_CD8_norm[nan_genes]\n",
    "\n",
    "df_CD8_fam_info = pyreadr.read_r('../data/family_datasets/family_info/family_info_Kimmerling_CD8.RData')\n",
    "df_CD8_fam_info = df_CD8_fam_info['family_info_CD8']\n",
    "\n",
    "df_CD8_fam_interest = pyreadr.read_r('../data/family_datasets/family_interest/families_of_interest_Kimmerling_CD8.RData')\n",
    "df_CD8_fam_interest = df_CD8_fam_interest['fois_CD8']\n",
    "\n",
    "# conversion into array \n",
    "CD8_norm = np.array(df_CD8_norm)\n",
    "CD8_fam_interest = np.array(df_CD8_fam_interest)\n",
    "CD8_fam_info = np.array(df_CD8_fam_info)"
   ]
  },
  {
   "cell_type": "code",
   "execution_count": 26,
   "metadata": {},
   "outputs": [],
   "source": [
    "#Remove all genes that are not expressed in at least percentage (default 50%) of the cell\n",
    "gene_expressed = filter_norm_data(CD8_norm,0.05)\n",
    "df_CD8_norm = df_CD8_norm[gene_expressed]\n",
    "\n",
    "#Norm data with only the cells belonging to the family of interest\n",
    "df_CD8_norm = select_family_interest_norm_data(CD8_fam_info, CD8_fam_interest, df_CD8_norm)\n",
    "y = df_CD8_norm[1]\n",
    "y = y[:,0]\n",
    "y = y.astype(np.int32)\n",
    "df_CD8_norm = df_CD8_norm[0]\n",
    "\n",
    "#Convert into array\n",
    "CD8 = np.array(df_CD8_norm)\n",
    "\n",
    "#Store the name of genes of interest\n",
    "genes_interest = df_CD8_norm.index.values #get name of genes\n",
    "genes_interest = pd.DataFrame(genes_interest)\n",
    "genes_interest.to_csv('../data/processed_data/CD8genes_interest.csv', index=False)\n",
    "\n",
    "#Remove cells not expressing anything (only 0 for each genes)\n",
    "CD8 = np.delete(CD8,[36,39],1)\n",
    "y = np.delete(y,[36,39],0)\n",
    "\n",
    "#Create preprocess data for gihub\n",
    "CD8csv = np.c_[CD8.T,y]\n",
    "CD8csv = pd.DataFrame(CD8csv)\n",
    "CD8csv.to_csv('../data/processed_data/CD8.csv', index=False)"
   ]
  },
  {
   "cell_type": "markdown",
   "metadata": {},
   "source": [
    "# Leukimia cell line: KIMMERLING L120"
   ]
  },
  {
   "cell_type": "code",
   "execution_count": 27,
   "metadata": {},
   "outputs": [],
   "source": [
    "# import normalized data, data families interest and data family info of Kimmerling CD8 family\n",
    "\n",
    "df_CD8_norm = pd.read_csv ('../data/family_datasets/data_norm/Kimmerling_L1210_norm.csv')\n",
    "df_CD8_norm = df_CD8_norm.set_index('Unnamed: 0')     #transform 'Unnamed: 0' column into row label\n",
    "df_CD8_norm = df_CD8_norm.rename_axis(None)#change 'Unnamed: 0' row label into none\n",
    "\n",
    "#Remove genes with non-defined values and genes with only 0\n",
    "nan_genes = df_CD8_norm.any(axis=1)\n",
    "df_CD8_norm = df_CD8_norm[nan_genes]\n",
    "\n",
    "df_CD8_fam_info = pyreadr.read_r('../data/family_datasets/family_info/family_info_Kimmerling_L1210.RData')\n",
    "df_CD8_fam_info = df_CD8_fam_info['family_info_L1210']\n",
    "\n",
    "df_CD8_fam_interest = pyreadr.read_r('../data/family_datasets/family_interest/families_of_interest_Kimmerling_L1210.RData')\n",
    "df_CD8_fam_interest = df_CD8_fam_interest['fois_L1210']\n",
    "\n",
    "\n",
    "# conversion into array \n",
    "CD8_norm = np.array(df_CD8_norm)\n",
    "CD8_fam_interest = np.array(df_CD8_fam_interest)\n",
    "CD8_fam_info = np.array(df_CD8_fam_info)"
   ]
  },
  {
   "cell_type": "code",
   "execution_count": 28,
   "metadata": {},
   "outputs": [],
   "source": [
    "#Remove all genes that are not expressed in at least percentage (default 50%) of the cell\n",
    "gene_expressed = filter_norm_data(CD8_norm,0.05)\n",
    "df_CD8_norm = df_CD8_norm[gene_expressed]\n",
    "\n",
    "#Norm data with only the cells belonging to the family of interest\n",
    "df_CD8_norm = select_family_interest_norm_data(CD8_fam_info, CD8_fam_interest, df_CD8_norm)\n",
    "y = df_CD8_norm[1]\n",
    "y = y[:,0]\n",
    "y = y.astype(np.int32)\n",
    "df_CD8_norm = df_CD8_norm[0]\n",
    "\n",
    "#Convert into array\n",
    "CD8 = np.array(df_CD8_norm)\n",
    "\n",
    "#Store the name of genes of interest\n",
    "genes_interest = df_CD8_norm.index.values #get name of genes\n",
    "genes_interest = pd.DataFrame(genes_interest)\n",
    "genes_interest.to_csv('../data/processed_data/L120genes_interest.csv', index=False)\n",
    "\n",
    "#Remove cells not expressing anything (only 0 for each genes)\n",
    "CD8 = np.delete(CD8,[36,39],1)\n",
    "y = np.delete(y,[36,39],0)\n",
    "\n",
    "#Create preprocess data for gihub\n",
    "CD8csv = np.c_[CD8.T,y]\n",
    "CD8csv = pd.DataFrame(CD8csv)\n",
    "CD8csv.to_csv('../data/processed_data/L120.csv', index=False)"
   ]
  },
  {
   "cell_type": "markdown",
   "metadata": {},
   "source": [
    "# LK and LSK cells: Weinreb data"
   ]
  },
  {
   "cell_type": "markdown",
   "metadata": {},
   "source": [
    "# LK cells:"
   ]
  },
  {
   "cell_type": "code",
   "execution_count": 23,
   "metadata": {},
   "outputs": [],
   "source": [
    "#LK\n",
    "LK_scran_df = pd.read_csv ('../data/family_datasets/data_norm/Weinreb_LK_D2_exp1_norm_lifted.csv')\n",
    "LK_scran_df = LK_scran_df.set_index('Unnamed: 0')     #transform 'Unnamed: 0' column into row label\n",
    "LK_scran_df = LK_scran_df.rename_axis(None)#change 'Unnamed: 0' row label into none\n",
    "\n",
    "\n",
    "data_families_interest_LK = pyreadr.read_r('../data/family_datasets/family_interest/families_of_interest_Weinreb_LK_D2_exp1.RData')\n",
    "data_families_interest_LK = data_families_interest_LK['fois_1']\n",
    "\n",
    "\n",
    "data_families_info_LK = pyreadr.read_r('../data/family_datasets/family_info/family_info_Weinreb_LK_D2_exp1.RData')\n",
    "data_families_info_LK = data_families_info_LK['WORK_clones']\n",
    "\n",
    "# conversion into array \n",
    "LK_scran = np.array(LK_scran_df)\n",
    "data_families_interest_LK = np.array(data_families_interest_LK)\n",
    "data_families_info_LK = np.array(data_families_info_LK)  \n",
    "\n",
    "data_families_info_LK[:,0] = data_families_info_LK[:,0].astype(int)"
   ]
  },
  {
   "cell_type": "code",
   "execution_count": 24,
   "metadata": {},
   "outputs": [
    {
     "name": "stdout",
     "output_type": "stream",
     "text": [
      "(25289, 531)\n"
     ]
    }
   ],
   "source": [
    "#Norm data with only the cells belonging to the family of interest\n",
    "LK_scran_df = select_family_interest_norm_data(data_families_info_LK, data_families_interest_LK, LK_scran_df)\n",
    "y_LK = LK_scran_df[1]\n",
    "y_LK = y_LK[:,0]\n",
    "y_LK = y_LK.astype(np.int32)\n",
    "LK_scran_df = LK_scran_df[0]\n",
    "\n",
    "LK = np.array(LK_scran_df)\n",
    "print(np.shape(LK))"
   ]
  },
  {
   "cell_type": "code",
   "execution_count": 25,
   "metadata": {},
   "outputs": [],
   "source": [
    "#LK2\n",
    "LK2_scran_df = pd.read_csv('../data/family_datasets/data_norm/Weinreb_LK_D2_exp2_norm_lifted.csv')\n",
    "LK2_scran_df = LK2_scran_df.set_index('Unnamed: 0')     #transform 'Unnamed: 0' column into row label\n",
    "LK2_scran_df = LK2_scran_df.rename_axis(None)#change 'Unnamed: 0' row label into none\n",
    "\n",
    "#Remove genes with non-defined values and genes with only 0\n",
    "#nan_genes = LK2_scran_df.any(axis=1)\n",
    "#LK2_scran_df = LK2_scran_df[nan_genes]\n",
    "\n",
    "data_families_interest_LK2 = pyreadr.read_r('../data/family_datasets/family_interest/families_of_interest_Weinreb_LK_D2_exp2.RData')\n",
    "data_families_interest_LK2 = data_families_interest_LK2['fois_1']\n",
    "\n",
    "data_families_info_LK2 = pyreadr.read_r('../data/family_datasets/family_info/family_info_Weinreb_LK_D2_exp2.RData')\n",
    "data_families_info_LK2 = data_families_info_LK2['WORK_clones']\n",
    "\n",
    "# conversion into array \n",
    "LK2_scran = np.array(LK2_scran_df)\n",
    "data_families_interest_LK2 = np.array(data_families_interest_LK2)\n",
    "data_families_info_LK2 = np.array(data_families_info_LK2) \n",
    "data_families_info_LK2[:,0] = data_families_info_LK2[:,0].astype(int)"
   ]
  },
  {
   "cell_type": "code",
   "execution_count": 26,
   "metadata": {},
   "outputs": [
    {
     "name": "stdout",
     "output_type": "stream",
     "text": [
      "(25289, 79)\n"
     ]
    }
   ],
   "source": [
    "#Norm data with only the cells belonging to the family of interest\n",
    "LK2_scran_df = select_family_interest_norm_data(data_families_info_LK2, data_families_interest_LK2, LK2_scran_df)\n",
    "y_LK2 = LK2_scran_df[1]\n",
    "y_LK2 = y_LK2[:,0]\n",
    "y_LK2 = y_LK2.astype(np.int32)\n",
    "LK2_scran_df = LK2_scran_df[0]\n",
    "\n",
    "LK2 = np.array(LK2_scran_df)\n",
    "print(np.shape(LK2))"
   ]
  },
  {
   "cell_type": "code",
   "execution_count": 27,
   "metadata": {},
   "outputs": [],
   "source": [
    "#Fuse LK normalized data\n",
    "LK_df = pd.concat([LK_scran_df, LK2_scran_df], axis=1)\n",
    "\n",
    "#Remove genes with non-defined values and genes with only 0\n",
    "nan_genes = LK_df.any(axis=1)\n",
    "LK_df = LK_df[nan_genes]\n",
    "\n",
    "#Fuse families info\n",
    "y_LK2 += max(y_LK) #Add the max indice of families in first dataset so that there is no overlap between families indices.\n",
    "y_LK_fuse = np.hstack((y_LK, y_LK2))"
   ]
  },
  {
   "cell_type": "code",
   "execution_count": 28,
   "metadata": {},
   "outputs": [],
   "source": [
    "#Remove all genes that are not expressed in at least percentage (default 50%) of the LK cells\n",
    "gene_expressed = filter_norm_data(LK_df,0.05)\n",
    "LK_df = LK_df[gene_expressed]\n",
    "\n",
    "#Store the name of genes of interest\n",
    "genes_interest = LK_df.index.values #get name of genes\n",
    "genes_interest = pd.DataFrame(genes_interest)\n",
    "genes_interest.to_csv('../data/processed_data/LKgenes_interest.csv', index=False)\n",
    "\n",
    "#Convert into array\n",
    "LK = np.array(LK_df)\n",
    "\n",
    "#Create preprocess data \n",
    "LKcsv = np.c_[LK.T,y_LK_fuse]\n",
    "LKcsv = pd.DataFrame(LKcsv)\n",
    "LKcsv.to_csv('../data/processed_data/LK.csv', index=False)"
   ]
  },
  {
   "cell_type": "markdown",
   "metadata": {},
   "source": [
    "# LSK cells:"
   ]
  },
  {
   "cell_type": "code",
   "execution_count": 29,
   "metadata": {},
   "outputs": [],
   "source": [
    "#LSK\n",
    "LSK_scran_df = pd.read_csv('../data/family_datasets/data_norm/Weinreb_LSK_D2_exp1_norm_lifted.csv')\n",
    "LSK_scran_df = LSK_scran_df.set_index('Unnamed: 0')     #transform 'Unnamed: 0' column into row label\n",
    "LSK_scran_df = LSK_scran_df.rename_axis(None)#change 'Unnamed: 0' row label into none\n",
    "\n",
    "\n",
    "data_families_interest_LSK = pyreadr.read_r('../data/family_datasets/family_interest/families_of_interest_Weinreb_LSK_D2_exp1.RData')\n",
    "data_families_interest_LSK = data_families_interest_LSK['fois_1']\n",
    "\n",
    "data_families_info_LSK = pyreadr.read_r('../data/family_datasets/family_info/family_info_Weinreb_LSK_D2_exp1.RData')\n",
    "data_families_info_LSK = data_families_info_LSK['WORK_clones']\n",
    "\n",
    "# conversion into array \n",
    "LSK_scran = np.array(LSK_scran_df)\n",
    "data_families_interest_LSK = np.array(data_families_interest_LSK)\n",
    "data_families_info_LSK = np.array(data_families_info_LSK)  \n",
    "data_families_info_LSK[:,0] = data_families_info_LSK[:,0].astype(int)"
   ]
  },
  {
   "cell_type": "code",
   "execution_count": 30,
   "metadata": {},
   "outputs": [
    {
     "name": "stdout",
     "output_type": "stream",
     "text": [
      "(25289, 781)\n"
     ]
    }
   ],
   "source": [
    "#Norm data with only the cells belonging to the family of interest\n",
    "LSK_scran_df = select_family_interest_norm_data(data_families_info_LSK, data_families_interest_LSK, LSK_scran_df)\n",
    "y_LSK = LSK_scran_df[1]\n",
    "y_LSK = y_LSK[:,0]\n",
    "y_LSK = y_LSK.astype(np.int32)\n",
    "LSK_scran_df = LSK_scran_df[0]\n",
    "\n",
    "LSK = np.array(LSK_scran_df)\n",
    "print(np.shape(LSK))"
   ]
  },
  {
   "cell_type": "code",
   "execution_count": 31,
   "metadata": {},
   "outputs": [],
   "source": [
    "#LSK2\n",
    "LSK2_scran_df = pd.read_csv('../data/family_datasets/data_norm/Weinreb_LSK_D2_exp2_norm_lifted.csv')\n",
    "LSK2_scran_df = LSK2_scran_df.set_index('Unnamed: 0')     #transform 'Unnamed: 0' column into row label\n",
    "LSK2_scran_df = LSK2_scran_df.rename_axis(None)#change 'Unnamed: 0' row label into none\n",
    "\n",
    "data_families_interest_LSK2 = pyreadr.read_r('../data/family_datasets/family_interest/families_of_interest_Weinreb_LSK_D2_exp2.RData')\n",
    "data_families_interest_LSK2= data_families_interest_LSK2['fois_1']\n",
    "\n",
    "data_families_info_LSK2 = pyreadr.read_r('../data/family_datasets/family_info/family_info_Weinreb_LSK_D2_exp2.RData')\n",
    "data_families_info_LSK2 = data_families_info_LSK2['WORK_clones']\n",
    "\n",
    "# conversion into array \n",
    "LSK2_scran = np.array(LSK2_scran_df)\n",
    "data_families_interest_LSK2 = np.array(data_families_interest_LSK2)\n",
    "data_families_info_LSK2 = np.array(data_families_info_LSK2)  \n",
    "data_families_info_LSK2[:,0] = data_families_info_LSK2[:,0].astype(int)"
   ]
  },
  {
   "cell_type": "code",
   "execution_count": 32,
   "metadata": {},
   "outputs": [
    {
     "name": "stdout",
     "output_type": "stream",
     "text": [
      "(25289, 2602)\n"
     ]
    }
   ],
   "source": [
    "#Norm data with only the cells belonging to the family of interest\n",
    "LSK2_scran_df = select_family_interest_norm_data(data_families_info_LSK2, data_families_interest_LSK2, LSK2_scran_df)\n",
    "y_LSK2 = LSK2_scran_df[1]\n",
    "y_LSK2 = y_LSK2[:,0]\n",
    "y_LSK2 = y_LSK2.astype(np.int32)\n",
    "LSK2_scran_df = LSK2_scran_df[0]\n",
    "\n",
    "LSK2 = np.array(LSK2_scran_df)\n",
    "print(np.shape(LSK2))"
   ]
  },
  {
   "cell_type": "code",
   "execution_count": 33,
   "metadata": {},
   "outputs": [],
   "source": [
    "#Fuse LK normalized data\n",
    "LSK_df = pd.concat([LSK_scran_df, LSK2_scran_df], axis=1)\n",
    "\n",
    "#Remove genes with non-defined values and genes with only 0\n",
    "nan_genes = LSK_scran_df.any(axis=1)\n",
    "LSK_scran_df = LSK_scran_df[nan_genes]\n",
    "\n",
    "#Fuse families info\n",
    "y_LSK2 += max(y_LSK) #Add the max indice of families in first dataset so that there is no overlap between families indices.\n",
    "y_LSK_fuse = np.hstack((y_LSK, y_LSK2))"
   ]
  },
  {
   "cell_type": "code",
   "execution_count": 34,
   "metadata": {},
   "outputs": [],
   "source": [
    "#Remove all genes that are not expressed in at least percentage (default 50%) of the LSK cells\n",
    "gene_expressed = filter_norm_data(LSK_df,0.05)\n",
    "LSK_df = LSK_df[gene_expressed]\n",
    "\n",
    "#Store the name of genes of interest\n",
    "genes_interest = LSK_df.index.values #get name of genes\n",
    "genes_interest = pd.DataFrame(genes_interest)\n",
    "genes_interest.to_csv('../data/processed_data/LSKgenes_interest.csv', index=False)\n",
    "\n",
    "#Convert into array\n",
    "LSK = np.array(LSK_df)\n",
    "\n",
    "#Create preprocess data \n",
    "LSKcsv = np.c_[LSK.T,y_LSK_fuse]\n",
    "LSKcsv = pd.DataFrame(LSKcsv)\n",
    "LSKcsv.to_csv('../data/processed_data/LSK.csv', index=False)"
   ]
  },
  {
   "cell_type": "markdown",
   "metadata": {},
   "source": [
    "# LK_LSKmix cells:"
   ]
  },
  {
   "cell_type": "code",
   "execution_count": 35,
   "metadata": {},
   "outputs": [],
   "source": [
    "#LSK-LK mix\n",
    "LSKmix_scran_df = pd.read_csv('../data/family_datasets/data_norm/Weinreb_LK_LSK_D2_exp3_norm_lifted.csv')\n",
    "LSKmix_scran_df = LSKmix_scran_df.set_index('Unnamed: 0')     #transform 'Unnamed: 0' column into row label\n",
    "LSKmix_scran_df = LSKmix_scran_df.rename_axis(None)#change 'Unnamed: 0' row label into none\n",
    "\n",
    "#Remove genes with non-defined values and genes with only 0\n",
    "nan_genes = LSKmix_scran_df.any(axis=1)\n",
    "LSKmix_scran_df = LSKmix_scran_df[nan_genes]\n",
    "\n",
    "data_families_interest_LSKmix = pyreadr.read_r('../data/family_datasets/family_interest/families_of_interest_Weinreb_LK_LSK_D2_exp3.RData')\n",
    "data_families_interest_LSKmix = data_families_interest_LSKmix['fois_1']\n",
    "\n",
    "data_families_info_LSKmix = pyreadr.read_r('../data/family_datasets/family_info/family_info_Weinreb_LK_LSK_D2_exp3.RData')\n",
    "data_families_info_LSKmix = data_families_info_LSKmix['WORK_clones']\n",
    "\n",
    "# conversion into array \n",
    "LSKmix_scran = np.array(LSKmix_scran_df)\n",
    "data_families_interest_LSKmix = np.array(data_families_interest_LSKmix)\n",
    "data_families_info_LSKmix = np.array(data_families_info_LSKmix)  \n",
    "data_families_info_LSKmix[:,0] = data_families_info_LSKmix[:,0].astype(int)"
   ]
  },
  {
   "cell_type": "code",
   "execution_count": 36,
   "metadata": {},
   "outputs": [
    {
     "name": "stdout",
     "output_type": "stream",
     "text": [
      "(23461, 1023)\n"
     ]
    }
   ],
   "source": [
    "#Norm data with only the cells belonging to the family of interest\n",
    "LSKmix_scran_df = select_family_interest_norm_data(data_families_info_LSKmix, data_families_interest_LSKmix, LSKmix_scran_df)\n",
    "y_LSKmix = LSKmix_scran_df[1]\n",
    "y_LSKmix = y_LSKmix[:,0]\n",
    "y_LSKmix = y_LSKmix.astype(np.int32)\n",
    "LSKmix_scran_df = LSKmix_scran_df[0]\n",
    "\n",
    "LSKmix = np.array(LSKmix_scran_df)\n",
    "print(np.shape(LSKmix))"
   ]
  },
  {
   "cell_type": "code",
   "execution_count": 37,
   "metadata": {},
   "outputs": [],
   "source": [
    "#Remove all genes that are not expressed in at least percentage (default 50%) of the LSKmix cells\n",
    "gene_expressed = filter_norm_data(LSKmix_scran_df,0.05)\n",
    "LSKmix_scran_df = LSKmix_scran_df[gene_expressed]\n",
    "\n",
    "#Store the name of genes of interest\n",
    "genes_interest = LSKmix_scran_df.index.values #get name of genes\n",
    "genes_interest = pd.DataFrame(genes_interest)\n",
    "genes_interest.to_csv('../data/processed_data/LSKmixgenes_interest.csv', index=False)\n",
    "\n",
    "#Convert into array\n",
    "LSKmix = np.array(LSKmix_scran_df)\n",
    "\n",
    "#Create preprocess data \n",
    "LSKmixcsv = np.c_[LSKmix.T,y_LSKmix]\n",
    "LSKmixcsv = pd.DataFrame(LSKmixcsv)\n",
    "LSKmixcsv.to_csv('../data/processed_data/LSKmix.csv', index=False)"
   ]
  },
  {
   "cell_type": "code",
   "execution_count": null,
   "metadata": {},
   "outputs": [],
   "source": []
  }
 ],
 "metadata": {
  "kernelspec": {
   "display_name": "Python 3 (ipykernel)",
   "language": "python",
   "name": "python3"
  },
  "language_info": {
   "codemirror_mode": {
    "name": "ipython",
    "version": 3
   },
   "file_extension": ".py",
   "mimetype": "text/x-python",
   "name": "python",
   "nbconvert_exporter": "python",
   "pygments_lexer": "ipython3",
   "version": "3.9.7"
  }
 },
 "nbformat": 4,
 "nbformat_minor": 4
}
