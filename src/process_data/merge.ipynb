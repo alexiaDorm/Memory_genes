{
 "cells": [
  {
   "cell_type": "code",
   "execution_count": 7,
   "metadata": {},
   "outputs": [
    {
     "name": "stdout",
     "output_type": "stream",
     "text": [
      "C:\\Users\\alexi\\Desktop\\Memory_genes\\src\n"
     ]
    }
   ],
   "source": [
    "%cd \"../\"\n",
    "%pwd\n",
    "\n",
    "import numpy as np\n",
    "import matplotlib.pyplot as plt\n",
    "\n",
    "import io \n",
    "import pandas as pd \n",
    "import pyreadr\n",
    "\n",
    "from load_data import *"
   ]
  },
  {
   "cell_type": "code",
   "execution_count": 62,
   "metadata": {},
   "outputs": [],
   "source": [
    "def process_norm(name:str, norm_file:str, family_info_file:str, family_interest_file:str, Weinreb:bool=False, Flip:bool=False):\n",
    "\n",
    "    #Load data\n",
    "    norm_path = '../data/family_datasets/data_norm/' + norm_file\n",
    "    norm  = pyreadr.read_r(norm_path)\n",
    "    norm = norm[None]\n",
    "\n",
    "    family_info_path = '../data/family_datasets/Family_info/' + family_info_file + '.RData'\n",
    "    family_info = pyreadr.read_r(family_info_path)\n",
    "    \n",
    "    if Weinreb:\n",
    "        family_info = np.array(family_info['family_info_1'])\n",
    "        if Flip: \n",
    "            family_info[:, [1, 0]] = family_info[:, [0, 1]]\n",
    "            \n",
    "        families, count = np.unique(family_info[:,0], return_counts=True)\n",
    "        family_interest = families[np.logical_and(count > 1, count < 6)]\n",
    "    \n",
    "        #Norm data with only the cells belonging to the family of interest\n",
    "        cells_interest = []\n",
    "        for fam in family_interest:\n",
    "            cell = family_info[fam == family_info[:,0]][:,1]\n",
    "            cells_interest.append(cell)\n",
    "        cells_interest = [item for sublist in cells_interest for item in sublist]\n",
    "        cells_interest = list(set(cells_interest).intersection(norm.columns))\n",
    "\n",
    "        norm = norm.loc[:,cells_interest]\n",
    "        y = pd.DataFrame(np.zeros((norm.shape[1],)), index= norm.columns)\n",
    "        family_info = pd.DataFrame(family_info[:,0], index = family_info[:,1])\n",
    "        y.loc[cells_interest] = family_info.loc[cells_interest]\n",
    "        \n",
    "    \n",
    "    if Weinreb == False:\n",
    "        family_info = family_info['family_info_1']\n",
    "        \n",
    "        families_interest = pyreadr.read_r('../data/family_datasets/family_interest/families_of_interest_AE3_nocellcyclesplit.RData')\n",
    "        families_interest = families_interest['fois_1']\n",
    "      \n",
    "        norm = select_family_interest_norm_data(np.array(family_info), np.array(families_interest), norm)\n",
    "        y = norm[1][:,0].astype(np.int32)\n",
    "        norm = norm[0]\n",
    "        \n",
    "    \n",
    "    #Remove all genes that are not expressed in at least percentage (default 50%) of the mESC cells\n",
    "    #gene_expressed = filter_norm_data(norm,0.05)\n",
    "    #norm = norm[gene_expressed]\n",
    "    \n",
    "    #Create preprocess data \n",
    "    norm.to_csv('../data/merged_data/' + name + '.csv', index=True)\n",
    "    pd.DataFrame(y).to_csv('../data/merged_data/y_' + name + '.csv', index=False)"
   ]
  },
  {
   "cell_type": "code",
   "execution_count": 63,
   "metadata": {},
   "outputs": [],
   "source": [
    "names = ['AE3', 'AE4', 'AE7', 'BIDDY_D0', 'BIDDY_D0_2', 'BIDDY_D6', 'BIDDY_D6_2', 'BIDDY_D15', 'BIDDY_D15_2',\n",
    "        'LK_D2_exp1_library_d2_1', 'LK_D2_exp1_library_d2_2', 'LK_D2_exp1_library_d2_3', 'LK_LSK_D2_exp3_library_d2_1', \n",
    "        'LK_LSK_D2_exp3_library_d2_2', 'LK_LSK_D2_exp3_library_d2_3', 'LK_LSK_D2_exp3_library_d2_4', \n",
    "        'LK_LSK_D2_exp3_library_d2_5', 'LK_LSK_D2_exp3_library_d2_6', 'LSK_D2_exp1_library_LSK_d2_1', 'LSK_D2_exp1_library_LSK_d2_2', 'LSK_D2_exp1_library_LSK_d2_3',\n",
    "       'LSK_D2_exp2_library_d2A_1', 'LSK_D2_exp2_library_d2A_2', 'LSK_D2_exp2_library_d2A_3' , 'LSK_D2_exp2_library_d2A_4', 'LSK_D2_exp2_library_d2A_5', \n",
    "       'LSK_D2_exp2_library_d2B_1','LSK_D2_exp2_library_d2B_2', 'LSK_D2_exp2_library_d2B_3', 'LSK_D2_exp2_library_d2B_4', 'LSK_D2_exp2_library_d2B_5', 'LSKmix_exp1_d2_1', 'LSKmix_exp1_d2_2', 'LSKmix_exp1_d2_3', 'LSKmix_exp2_d2_6', 'LSKmix_exp2_d2_4', 'LSKmix_exp2_d2_5']\n",
    "\n",
    "norm_files = ['AE3_scran_norm.rds', 'AE4_scran_norm.rds', 'AE7_RPM_norm.rds', 'BIDDY_D0_RPM_norm.rds', 'BIDDY_D0_2_RPM_norm.rds', 'BIDDY_D6_RPM_norm.rds', 'BIDDY_D6_2_RPM_norm.rds', 'BIDDY_D15_RPM_norm.rds', 'BIDDY_D15_2_RPM_norm.rds', \n",
    "             'Weinreb_LK_D2_exp1_library_d2_1_norm.rds', 'Weinreb_LK_D2_exp1_library_d2_2_norm.rds', 'Weinreb_LK_D2_exp1_library_d2_3_norm.rds', \n",
    "             'Weinreb_LK_LSK_D2_exp3_library_d2_1_norm.rds', 'Weinreb_LK_LSK_D2_exp3_library_d2_2_norm.rds', 'Weinreb_LK_LSK_D2_exp3_library_d2_3_norm.rds', 'Weinreb_LK_LSK_D2_exp3_library_d2_4_norm.rds', 'Weinreb_LK_LSK_D2_exp3_library_d2_5_norm.rds', 'Weinreb_LK_LSK_D2_exp3_library_d2_6_norm.rds', \n",
    "             'Weinreb_LSK_D2_exp1_library_LSK_d2_1_norm.rds', 'Weinreb_LSK_D2_exp1_library_LSK_d2_2_norm.rds', 'Weinreb_LSK_D2_exp1_library_LSK_d2_3_norm.rds', \n",
    "             'Weinreb_LSK_D2_exp2_library_d2A_1_norm.rds', 'Weinreb_LSK_D2_exp2_library_d2A_2_norm.rds', 'Weinreb_LSK_D2_exp2_library_d2A_3_norm.rds', 'Weinreb_LSK_D2_exp2_library_d2A_4_norm.rds', 'Weinreb_LSK_D2_exp2_library_d2A_5_norm.rds', \n",
    "             'Weinreb_LSK_D2_exp2_library_d2B_1_norm.rds', 'Weinreb_LSK_D2_exp2_library_d2B_2_norm.rds', 'Weinreb_LSK_D2_exp2_library_d2B_3_norm.rds', 'Weinreb_LSK_D2_exp2_library_d2B_4_norm.rds', 'Weinreb_LSK_D2_exp2_library_d2B_5_norm.rds', \n",
    "              'Weinreb_LK_LSK_D2_exp3_library_d2_1_norm.rds', 'Weinreb_LK_LSK_D2_exp3_library_d2_2_norm.rds', 'Weinreb_LK_LSK_D2_exp3_library_d2_3_norm.rds', 'Weinreb_LK_LSK_D2_exp3_library_d2_4_norm.rds', 'Weinreb_LK_LSK_D2_exp3_library_d2_5_norm.rds', 'Weinreb_LK_LSK_D2_exp3_library_d2_6_norm.rds']\n",
    "\n",
    "family_info_files = ['family_info_AE3_nocellcyclesplit','family_info_AE4_nocellcyclesplit','family_info_AE7_nocellcyclesplit',\n",
    "                     'family_info_BIDDY_D0','family_info_BIDDY_D0_2','family_info_BIDDY_D6_V2','family_info_BIDDY_D6_2','family_info_BIDDY_D15_V3','family_info_BIDDY_D15_2',\n",
    "                     'family_info_Weinreb_LK_D2_exp1_library_d2_1','family_info_Weinreb_LK_D2_exp1_library_d2_2','family_info_Weinreb_LK_D2_exp1_library_d2_3',\n",
    "                     'family_info_Weinreb_LK_LSK_D2_exp3_library_d2_1','family_info_Weinreb_LK_LSK_D2_exp3_library_d2_2','family_info_Weinreb_LK_LSK_D2_exp3_library_d2_3','family_info_Weinreb_LK_LSK_D2_exp3_library_d2_4','family_info_Weinreb_LK_LSK_D2_exp3_library_d2_5','family_info_Weinreb_LK_LSK_D2_exp3_library_d2_6',\n",
    "                     'family_info_Weinreb_LSK_D2_exp1_library_LSK_d2_1','family_info_Weinreb_LSK_D2_exp1_library_LSK_d2_2','family_info_Weinreb_LSK_D2_exp1_library_LSK_d2_3',\n",
    "                     'family_info_Weinreb_LSK_D2_exp2_library_d2A_1','family_info_Weinreb_LSK_D2_exp2_library_d2A_2','family_info_Weinreb_LSK_D2_exp2_library_d2A_3','family_info_Weinreb_LSK_D2_exp2_library_d2A_4','family_info_Weinreb_LSK_D2_exp2_library_d2A_5',\n",
    "                     'family_info_Weinreb_LSK_D2_exp2_library_d2B_1','family_info_Weinreb_LSK_D2_exp2_library_d2B_2','family_info_Weinreb_LSK_D2_exp2_library_d2B_3','family_info_Weinreb_LSK_D2_exp2_library_d2B_4','family_info_Weinreb_LSK_D2_exp2_library_d2B_5'\n",
    "                    'family_info_Weinreb_LK_LSK_D2_exp3_library_d2_1', 'family_info_Weinreb_LK_LSK_D2_exp3_library_d2_2', 'family_info_Weinreb_LK_LSK_D2_exp3_library_d2_3', 'family_info_Weinreb_LK_LSK_D2_exp3_library_d2_4','family_info_Weinreb_LK_LSK_D2_exp3_library_d2_5', 'family_info_Weinreb_LK_LSK_D2_exp3_library_d2_6']\n",
    "\n",
    "family_interest_files = ['families_of_interest_AE3_nocellcyclesplit','families_of_interest_AE4_nocellcyclesplit','families_of_interest_AE7_nocellcyclesplit',\n",
    "                         'families_of_interest_BIDDY_D0','families_of_interest_BIDDY_D0_2','families_of_interest_BIDDY_D6_V2','families_of_interest_BIDDY_D6_2','families_of_interest_BIDDY_D15_V3','families_of_interest_BIDDY_D15_2','','','','','','','','','','','','','','','','','','','','','','','','','','','','','','','']\n",
    "\n",
    "Weinreb = [0,0,0,0,0,0,0,0,0,1,1,1,1,1,1,1,1,1,1,1,1,1,1,1,1,1,1,1,1,1,1,1,1,1,1,1,1]\n",
    "Flip = [0,0,0,0,0,0,0,0,0,0,0,0,1,1,1,1,1,1,0,0,0,1,1,1,1,1,1,1,1,1,1,1,0,0,0,0,0]"
   ]
  },
  {
   "cell_type": "code",
   "execution_count": 64,
   "metadata": {},
   "outputs": [],
   "source": [
    "names = ['Hamange1', 'Hamange2', 'Hamange3', 'Hamange4', 'Hamange5', 'Hamange6', 'Hamange7', 'Hamange8', 'Wehling1', 'Wehling2']\n",
    "norm_files = [name + '_norm.rds' for name in names]\n",
    "family_info_files = ['family_info_' + name  for name in names]\n",
    "Weinreb = [1,1,1,1,1,1,1,1,1,1,1,1,1,1,1,1,1,1,1,1,1,1,1,1,1,1,1,1]\n",
    "Flip = [0,0,0,0,0,0,0,0,0,0,0,0,0,0,0,0,0]"
   ]
  },
  {
   "cell_type": "code",
   "execution_count": 65,
   "metadata": {},
   "outputs": [],
   "source": [
    "for i in range (0,len(names)):\n",
    "    process_norm(names[i],norm_files[i],family_info_files[i], family_interest_files[i], Weinreb[i])"
   ]
  }
 ],
 "metadata": {
  "kernelspec": {
   "display_name": "Python 3 (ipykernel)",
   "language": "python",
   "name": "python3"
  },
  "language_info": {
   "codemirror_mode": {
    "name": "ipython",
    "version": 3
   },
   "file_extension": ".py",
   "mimetype": "text/x-python",
   "name": "python",
   "nbconvert_exporter": "python",
   "pygments_lexer": "ipython3",
   "version": "3.9.7"
  }
 },
 "nbformat": 4,
 "nbformat_minor": 4
}
