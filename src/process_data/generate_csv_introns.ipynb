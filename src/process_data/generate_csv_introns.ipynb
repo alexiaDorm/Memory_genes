{
 "cells": [
  {
   "cell_type": "code",
   "execution_count": 1,
   "metadata": {},
   "outputs": [
    {
     "name": "stdout",
     "output_type": "stream",
     "text": [
      "C:\\Users\\alexi\\Desktop\\Memory_genes\\src\n"
     ]
    }
   ],
   "source": [
    "%cd \"../\"\n",
    "%pwd\n",
    "\n",
    "import numpy as np\n",
    "import matplotlib.pyplot as plt\n",
    "\n",
    "import io \n",
    "import pandas as pd \n",
    "import pyreadr\n",
    "\n",
    "from load_data import *"
   ]
  },
  {
   "cell_type": "markdown",
   "metadata": {},
   "source": [
    "# mESC cells (AE3, AE4)\n",
    "Let's first load all the data containing the mESC cells, the AE3 and AE4 datasets. Import normalized data, data families interest and data family info"
   ]
  },
  {
   "cell_type": "code",
   "execution_count": null,
   "metadata": {},
   "outputs": [],
   "source": [
    "#AE3\n",
    "AE3_scran_df = pyreadr.read_r('../data/family_datasets/data_norm/AE3_scran_norm.rds')\n",
    "AE3_scran_df = AE3_scran_df[None]\n",
    "\n",
    "data_families_interest_AE3 = pyreadr.read_r('../data/family_datasets/family_interest/families_of_interest_AE3_nocellcyclesplit.RData')\n",
    "data_families_interest_AE3 = data_families_interest_AE3['fois_1']\n",
    "\n",
    "data_families_info_AE3 = pyreadr.read_r('../data/family_datasets/family_info/family_info_AE3_nocellcyclesplit.RData')\n",
    "data_families_info_AE3 = data_families_info_AE3['family_info_1']\n",
    "\n",
    "#Conversion into array \n",
    "AE3_scran = np.array(AE3_scran_df)\n",
    "data_families_interest_AE3 = np.array(data_families_interest_AE3)\n",
    "data_families_info_AE3 = np.array(data_families_info_AE3) "
   ]
  },
  {
   "cell_type": "code",
   "execution_count": null,
   "metadata": {},
   "outputs": [],
   "source": [
    "#Norm data with only the cells belonging to the family of interest\n",
    "AE3_scran_df = select_family_interest_norm_data(data_families_info_AE3, data_families_interest_AE3, AE3_scran_df)\n",
    "y_AE3 = AE3_scran_df[1]\n",
    "y_AE3 = y_AE3[:,0]\n",
    "y_AE3 = y_AE3.astype(np.int32)\n",
    "AE3_scran_df = AE3_scran_df[0]\n",
    "\n",
    "AE3 = np.array(AE3_scran_df)\n",
    "print(np.shape(AE3))"
   ]
  },
  {
   "cell_type": "code",
   "execution_count": null,
   "metadata": {},
   "outputs": [],
   "source": [
    "#Remove all genes that are not expressed in at least percentage (default 50%) of the mESC cells\n",
    "gene_expressed = filter_norm_data(AE3_scran_df,0.05)\n",
    "AE3_scran_df = AE3_scran_df[gene_expressed]\n",
    "\n",
    "#Store the name of genes of interest\n",
    "genes_interest = AE3_scran_df.index.values #get name of genes\n",
    "genes_interest = pd.DataFrame(genes_interest)\n",
    "genes_interest.to_csv('../data/processed_data/AE3genes_interest.csv', index=False)\n",
    "\n",
    "#Convert into array\n",
    "AE3 = np.array(AE3_scran_df)\n",
    "\n",
    "#Create preprocess data \n",
    "AE3csv = np.c_[AE3.T,y_AE3]\n",
    "AE3csv = pd.DataFrame(AE3csv)\n",
    "AE3csv.to_csv('../data/processed_data/AE3.csv', index=False)"
   ]
  },
  {
   "cell_type": "code",
   "execution_count": null,
   "metadata": {},
   "outputs": [],
   "source": [
    "#AE4\n",
    "AE4_scran_df = pyreadr.read_r('../data/family_datasets/data_norm/AE4_scran_norm.rds')\n",
    "AE4_scran_df = AE4_scran_df[None]\n",
    "\n",
    "data_families_interest_AE4 = pyreadr.read_r('../data/family_datasets/family_interest/families_of_interest_AE4_nocellcyclesplit.RData')\n",
    "data_families_interest_AE4 = data_families_interest_AE4['fois_1']\n",
    "\n",
    "data_families_info_AE4 = pyreadr.read_r('../data/family_datasets/family_info/family_info_AE4_nocellcyclesplit.RData')\n",
    "data_families_info_AE4 = data_families_info_AE4['family_info_1']\n",
    "\n",
    "#Conversion into array \n",
    "AE4_scran = np.array(AE4_scran_df)\n",
    "data_families_interest_AE4 = np.array(data_families_interest_AE4)\n",
    "data_families_info_AE4 = np.array(data_families_info_AE4)  "
   ]
  },
  {
   "cell_type": "code",
   "execution_count": null,
   "metadata": {},
   "outputs": [],
   "source": [
    "#Norm data with only the cells belonging to the family of interest\n",
    "AE4_scran_df = select_family_interest_norm_data(data_families_info_AE4, data_families_interest_AE4, AE4_scran_df)\n",
    "y_AE4 = AE4_scran_df[1]\n",
    "y_AE4 = y_AE4[:,0]\n",
    "y_AE4 = y_AE4.astype(np.int32)\n",
    "AE4_scran_df = AE4_scran_df[0]\n",
    "\n",
    "AE4 = np.array(AE4_scran_df)\n",
    "print(np.shape(AE4))"
   ]
  },
  {
   "cell_type": "code",
   "execution_count": null,
   "metadata": {},
   "outputs": [],
   "source": [
    "#Remove all genes that are not expressed in at least percentage (default 50%) of the cells\n",
    "gene_expressed = filter_norm_data(AE4_scran_df,0.05)\n",
    "AE4_scran_df = AE4_scran_df[gene_expressed]\n",
    "\n",
    "#Store the name of genes of interest\n",
    "genes_interest = AE4_scran_df.index.values #get name of genes\n",
    "genes_interest = pd.DataFrame(genes_interest)\n",
    "genes_interest.to_csv('../data/processed_data/AE4genes_interest.csv', index=False)\n",
    "\n",
    "#Convert into array\n",
    "AE4 = np.array(AE4_scran_df)\n",
    "\n",
    "#Create preprocess data \n",
    "AE4csv = np.c_[AE4.T,y_AE4]\n",
    "AE4csv = pd.DataFrame(AE4csv)\n",
    "AE4csv.to_csv('../data/processed_data/AE4.csv', index=False)"
   ]
  },
  {
   "cell_type": "markdown",
   "metadata": {},
   "source": [
    "# MEF cells (BIDDY DO, DO_2, D6, D6_2, D15, D15_2)\n",
    "Let's first load all the data containing the MEF cells, the BIDDY DO, DO_2, D6, D6_2, D15, and D15_2 datasets. Import normalized data, data families interest and data family info"
   ]
  },
  {
   "cell_type": "markdown",
   "metadata": {},
   "source": [
    "# DO"
   ]
  },
  {
   "cell_type": "code",
   "execution_count": null,
   "metadata": {},
   "outputs": [],
   "source": [
    "#DO\n",
    "DO_scran_df = pyreadr.read_r('../data/family_datasets/data_norm/BIDDY_D0_RPM_norm.rds')\n",
    "DO_scran_df = DO_scran_df[None]\n",
    "\n",
    "data_families_interest_DO = pyreadr.read_r('../data/family_datasets/family_interest/families_of_interest_BIDDY_D0.RData')\n",
    "data_families_interest_DO = data_families_interest_DO['fois_1']\n",
    "\n",
    "data_families_info_DO = pyreadr.read_r('../data/family_datasets/family_info/family_info_BIDDY_D0.RData')\n",
    "data_families_info_DO = data_families_info_DO['family_info_1']\n",
    "\n",
    "# conversion into array \n",
    "DO_scran = np.array(DO_scran_df)\n",
    "data_families_interest_DO = np.array(data_families_interest_DO)\n",
    "data_families_info_DO = np.array(data_families_info_DO)  "
   ]
  },
  {
   "cell_type": "code",
   "execution_count": null,
   "metadata": {},
   "outputs": [],
   "source": [
    "#Norm data with only the cells belonging to the family of interest\n",
    "DO_scran_df = select_family_interest_norm_data(data_families_info_DO, data_families_interest_DO, DO_scran_df)\n",
    "y_DO = DO_scran_df[1]\n",
    "y_DO = y_DO[:,0]\n",
    "y_DO = y_DO.astype(np.int32)\n",
    "DO_scran_df = DO_scran_df[0]\n",
    "\n",
    "DO = np.array(DO_scran_df)\n",
    "print(np.shape(DO))"
   ]
  },
  {
   "cell_type": "code",
   "execution_count": null,
   "metadata": {},
   "outputs": [],
   "source": [
    "#DO_2\n",
    "DO2_scran_df = pyreadr.read_r('../data/family_datasets/data_norm/BIDDY_D0_2_RPM_norm.rds')\n",
    "DO2_scran_df = DO2_scran_df[None]\n",
    "\n",
    "data_families_interest_DO2 = pyreadr.read_r('../data/family_datasets/family_interest/families_of_interest_BIDDY_D0_2.RData')\n",
    "data_families_interest_DO2 = data_families_interest_DO2['fois_1']\n",
    "\n",
    "data_families_info_DO2 = pyreadr.read_r('../data/family_datasets/family_info/family_info_BIDDY_D0_2.RData')\n",
    "data_families_info_DO2 = data_families_info_DO2['family_info_1']\n",
    "\n",
    "# conversion into array \n",
    "DO2_scran = np.array(DO2_scran_df)\n",
    "data_families_interest_DO2 = np.array(data_families_interest_DO2)\n",
    "data_families_info_DO2 = np.array(data_families_info_DO2) "
   ]
  },
  {
   "cell_type": "code",
   "execution_count": null,
   "metadata": {},
   "outputs": [],
   "source": [
    "#Norm data with only the cells belonging to the family of interest\n",
    "DO2_scran_df = select_family_interest_norm_data(data_families_info_DO2, data_families_interest_DO2, DO2_scran_df)\n",
    "y_DO2 = DO2_scran_df[1]\n",
    "y_DO2 = y_DO2[:,0]\n",
    "y_DO2 = y_DO2.astype(np.int32)\n",
    "DO2_scran_df = DO2_scran_df[0]\n",
    "\n",
    "DO2 = np.array(DO2_scran_df)\n",
    "print(np.shape(DO2))"
   ]
  },
  {
   "cell_type": "code",
   "execution_count": null,
   "metadata": {},
   "outputs": [],
   "source": [
    "#Fuse D0 normalized data\n",
    "D0_df = pd.concat([DO_scran_df, DO2_scran_df], axis=1)\n",
    "\n",
    "#Fuse families info\n",
    "y_DO2 += max(y_DO) #Add the max indice of families in first dataset so that there is no overlap between families indices.\n",
    "y_D0 = np.hstack((y_DO, y_DO2))\n",
    "\n",
    "#Remove all genes that are not expressed in at least percentage (default 50%) of the D0 MEF cells\n",
    "gene_expressed = filter_norm_data(D0_df,0.05)\n",
    "D0_df = D0_df[gene_expressed]\n",
    "\n",
    "#Store the name of genes of interest\n",
    "genes_interest = D0_df.index.values #get name of genes\n",
    "genes_interest = pd.DataFrame(genes_interest)\n",
    "genes_interest.to_csv('../data/processed_data/D0genes_interest.csv', index=False)\n",
    "\n",
    "#Convert into array\n",
    "D0 = np.array(D0_df)\n",
    "\n",
    "#Create preprocess data \n",
    "D0csv = np.c_[D0.T,y_D0]\n",
    "D0csv = pd.DataFrame(D0csv)\n",
    "D0csv.to_csv('../data/processed_data/D0.csv', index=False)"
   ]
  },
  {
   "cell_type": "markdown",
   "metadata": {},
   "source": [
    "# D6"
   ]
  },
  {
   "cell_type": "code",
   "execution_count": null,
   "metadata": {},
   "outputs": [],
   "source": [
    "#D6\n",
    "D6_scran_df = pyreadr.read_r('../data/family_datasets/data_norm/BIDDY_D6_RPM_norm.rds')\n",
    "D6_scran_df = D6_scran_df[None]\n",
    "\n",
    "data_families_interest_D6 = pyreadr.read_r('../data/family_datasets/family_interest/families_of_interest_BIDDY_D6_V2.RData')\n",
    "data_families_interest_D6 = data_families_interest_D6['fois_1']\n",
    "\n",
    "data_families_info_D6 = pyreadr.read_r('../data/family_datasets/family_info/family_info_BIDDY_D6_V2.RData')\n",
    "data_families_info_D6 = data_families_info_D6['family_info_1']\n",
    "\n",
    "# conversion into array \n",
    "D6_scran = np.array(D6_scran_df)\n",
    "data_families_interest_D6 = np.array(data_families_interest_D6)\n",
    "data_families_info_D6 = np.array(data_families_info_D6) "
   ]
  },
  {
   "cell_type": "code",
   "execution_count": null,
   "metadata": {},
   "outputs": [],
   "source": [
    "#Norm data with only the cells belonging to the family of interest\n",
    "D6_scran_df = select_family_interest_norm_data(data_families_info_D6, data_families_interest_D6, D6_scran_df)\n",
    "y_D6 = D6_scran_df[1]\n",
    "y_D6 = y_D6[:,0]\n",
    "y_D6 = y_D6.astype(np.int32)\n",
    "D6_scran_df = D6_scran_df[0]\n",
    "\n",
    "D6 = np.array(D6_scran_df)\n",
    "print(np.shape(D6))"
   ]
  },
  {
   "cell_type": "code",
   "execution_count": null,
   "metadata": {},
   "outputs": [],
   "source": [
    "#D6_2\n",
    "D62_scran_df = pyreadr.read_r('../data/family_datasets/data_norm/BIDDY_D6_2_RPM_norm.rds')\n",
    "D62_scran_df= D62_scran_df[None]\n",
    "\n",
    "data_families_interest_D62 = pyreadr.read_r('../data/family_datasets/family_interest/families_of_interest_BIDDY_D6_2.RData')\n",
    "data_families_interest_D62 = data_families_interest_D62['fois_1']\n",
    "\n",
    "data_families_info_D62 = pyreadr.read_r('../data/family_datasets/family_info/family_info_BIDDY_D6_2.RData')\n",
    "data_families_info_D62 = data_families_info_D62['family_info_1']\n",
    "\n",
    "# conversion into array \n",
    "D62_scran = np.array(D62_scran_df)\n",
    "data_families_interest_D62 = np.array(data_families_interest_D62)\n",
    "data_families_info_D62 = np.array(data_families_info_D62)"
   ]
  },
  {
   "cell_type": "code",
   "execution_count": null,
   "metadata": {},
   "outputs": [],
   "source": [
    "#Norm data with only the cells belonging to the family of interest\n",
    "D62_scran_df = select_family_interest_norm_data(data_families_info_D62, data_families_interest_D62, D62_scran_df)\n",
    "y_D62 = D62_scran_df[1]\n",
    "y_D62 = y_D62[:,0]\n",
    "y_D62 = y_D62.astype(np.int32)\n",
    "D62_scran_df = D62_scran_df[0]\n",
    "\n",
    "D62 = np.array(D62_scran_df)\n",
    "print(np.shape(D62))"
   ]
  },
  {
   "cell_type": "code",
   "execution_count": null,
   "metadata": {},
   "outputs": [],
   "source": [
    "#Fuse D6 normalized data\n",
    "D6_df = pd.concat([D6_scran_df, D62_scran_df], axis=1)\n",
    "\n",
    "#Fuse families info\n",
    "y_D62 += max(y_D6) #Add the max indice of families in first dataset so that there is no overlap between families indices.\n",
    "y_D60 = np.hstack((y_D6, y_D62))\n",
    "\n",
    "#Remove all genes that are not expressed in at least percentage (default 50%) of the D6 MEF cells\n",
    "gene_expressed = filter_norm_data(D6_df,0.05)\n",
    "D6_df = D6_df[gene_expressed]\n",
    "\n",
    "#Store the name of genes of interest\n",
    "genes_interest = D6_df.index.values #get name of genes\n",
    "genes_interest = pd.DataFrame(genes_interest)\n",
    "genes_interest.to_csv('../data/processed_data/D6genes_interest.csv', index=False)\n",
    "\n",
    "#Convert into array\n",
    "D6 = np.array(D6_df)\n",
    "\n",
    "#Create preprocess data \n",
    "D6csv = np.c_[D6.T,y_D60]\n",
    "D6csv = pd.DataFrame(D6csv)\n",
    "D6csv.to_csv('../data/processed_data/D6.csv', index=False)"
   ]
  },
  {
   "cell_type": "markdown",
   "metadata": {},
   "source": [
    "# D15"
   ]
  },
  {
   "cell_type": "code",
   "execution_count": null,
   "metadata": {},
   "outputs": [],
   "source": [
    "#D15\n",
    "D15_scran_df = pyreadr.read_r('../data/family_datasets/data_norm/BIDDY_D15_RPM_norm.rds')\n",
    "D15_scran_df = D15_scran_df[None]\n",
    "\n",
    "data_families_interest_D15 = pyreadr.read_r('../data/family_datasets/family_interest/families_of_interest_BIDDY_D15_V3.RData')\n",
    "data_families_interest_D15 = data_families_interest_D15['fois_1']\n",
    "\n",
    "data_families_info_D15 = pyreadr.read_r('../data/family_datasets/family_info/family_info_BIDDY_D15_V3.RData')\n",
    "data_families_info_D15 = data_families_info_D15['family_info_1']\n",
    "\n",
    "# conversion into array \n",
    "D15_scran = np.array(D15_scran_df)\n",
    "data_families_interest_D15 = np.array(data_families_interest_D15)\n",
    "data_families_info_D15 = np.array(data_families_info_D15) "
   ]
  },
  {
   "cell_type": "code",
   "execution_count": null,
   "metadata": {},
   "outputs": [],
   "source": [
    "#Norm data with only the cells belonging to the family of interest\n",
    "D15_scran_df = select_family_interest_norm_data(data_families_info_D15, data_families_interest_D15, D15_scran_df)\n",
    "y_D15 = D15_scran_df[1]\n",
    "y_D15 = y_D15[:,0]\n",
    "y_D15 = y_D15.astype(np.int32)\n",
    "D15_scran_df = D15_scran_df[0]\n",
    "\n",
    "D15 = np.array(D15_scran_df)\n",
    "print(np.shape(D15))"
   ]
  },
  {
   "cell_type": "code",
   "execution_count": null,
   "metadata": {},
   "outputs": [],
   "source": [
    "#D15_2\n",
    "D152_scran_df = pyreadr.read_r('../data/family_datasets/data_norm/BIDDY_D15_2_RPM_norm.rds')\n",
    "D152_scran_df = D152_scran_df[None]\n",
    "\n",
    "data_families_interest_D152 = pyreadr.read_r('../data/family_datasets/family_interest/families_of_interest_BIDDY_D15_2.RData')\n",
    "data_families_interest_D152 = data_families_interest_D152['fois_1']\n",
    "\n",
    "data_families_info_D152 = pyreadr.read_r('../data/family_datasets/family_info/family_info_BIDDY_D15_2.RData')\n",
    "data_families_info_D152 = data_families_info_D152['family_info_1']\n",
    "\n",
    "# conversion into array \n",
    "D152_scran = np.array(D152_scran_df)\n",
    "data_families_interest_D152 = np.array(data_families_interest_D152)\n",
    "data_families_info_D152 = np.array(data_families_info_D152)"
   ]
  },
  {
   "cell_type": "code",
   "execution_count": null,
   "metadata": {},
   "outputs": [],
   "source": [
    "#Norm data with only the cells belonging to the family of interest\n",
    "D152_scran_df = select_family_interest_norm_data(data_families_info_D152, data_families_interest_D152, D152_scran_df)\n",
    "y_D152 = D152_scran_df[1]\n",
    "y_D152 = y_D152[:,0]\n",
    "y_D152 = y_D152.astype(np.int32)\n",
    "D152_scran_df = D152_scran_df[0]\n",
    "\n",
    "D152 = np.array(D152_scran_df)\n",
    "print(np.shape(D152))"
   ]
  },
  {
   "cell_type": "code",
   "execution_count": null,
   "metadata": {},
   "outputs": [],
   "source": [
    "#Fuse D6 normalized data\n",
    "D15_df = pd.concat([D15_scran_df, D152_scran_df], axis=1)\n",
    "\n",
    "#Fuse families info\n",
    "y_D152 += max(y_D15) #Add the max indice of families in first dataset so that there is no overlap between families indices.\n",
    "y_D150 = np.hstack((y_D15, y_D152))\n",
    "\n",
    "#Remove all genes that are not expressed in at least percentage (default 50%) of the D15 MEF cells\n",
    "gene_expressed = filter_norm_data(D15_df,0.05)\n",
    "D15_df = D15_df[gene_expressed]\n",
    "\n",
    "#Store the name of genes of interest\n",
    "genes_interest = D15_df.index.values #get name of genes\n",
    "genes_interest = pd.DataFrame(genes_interest)\n",
    "genes_interest.to_csv('../data/processed_data/D15genes_interest.csv', index=False)\n",
    "\n",
    "#Convert into array\n",
    "D15 = np.array(D15_df)\n",
    "\n",
    "#Create preprocess data \n",
    "D15csv = np.c_[D15.T,y_D150]\n",
    "D15csv = pd.DataFrame(D15csv)\n",
    "D15csv.to_csv('../data/processed_data/D15.csv', index=False)"
   ]
  }
 ],
 "metadata": {
  "kernelspec": {
   "display_name": "Python 3",
   "language": "python",
   "name": "python3"
  },
  "language_info": {
   "codemirror_mode": {
    "name": "ipython",
    "version": 3
   },
   "file_extension": ".py",
   "mimetype": "text/x-python",
   "name": "python",
   "nbconvert_exporter": "python",
   "pygments_lexer": "ipython3",
   "version": "3.8.5"
  }
 },
 "nbformat": 4,
 "nbformat_minor": 4
}
