{
 "cells": [
  {
   "cell_type": "code",
   "execution_count": 1,
   "metadata": {},
   "outputs": [
    {
     "name": "stdout",
     "output_type": "stream",
     "text": [
      "C:\\Users\\alexi\\Desktop\\Memory_genes\\src\n"
     ]
    }
   ],
   "source": [
    "%cd \"../\"\n",
    "%pwd\n",
    "\n",
    "import numpy as np\n",
    "import matplotlib.pyplot as plt\n",
    "\n",
    "import io \n",
    "import pandas as pd \n",
    "import pyreadr\n",
    "\n",
    "from load_data import *\n",
    "from overlap_genes import *"
   ]
  },
  {
   "cell_type": "code",
   "execution_count": 2,
   "metadata": {
    "tags": []
   },
   "outputs": [
    {
     "name": "stdout",
     "output_type": "stream",
     "text": [
      "(32285, 333) (333,)\n",
      "(32285, 1473) (1473,)\n",
      "(32285, 461) (461,)\n",
      "(32285, 154) (154,)\n",
      "(32285, 178) (178,)\n",
      "(16760, 610) (610,)\n",
      "(25289, 3383) (3383,)\n",
      "(23461, 1023) (1023,)\n"
     ]
    }
   ],
   "source": [
    "#Load AE3 data\n",
    "AE3 = pd.read_csv ('../data/merged_data/AE3.csv')\n",
    "AE3 = AE3.set_index('Unnamed: 0')\n",
    "y_AE3 = np.squeeze(np.array(pd.read_csv('../data/merged_data/y_AE3.csv')))\n",
    "print(np.shape(AE3), np.shape(y_AE3))\n",
    "\n",
    "#Load AE4 data\n",
    "AE4 = pd.read_csv ('../data/merged_data/AE4.csv')\n",
    "AE4 = AE4.set_index('Unnamed: 0')\n",
    "y_AE4 = np.squeeze(np.array(pd.read_csv('../data/merged_data/y_AE4.csv')))\n",
    "print(np.shape(AE4), np.shape(y_AE4))\n",
    "\n",
    "#Load BIDDY D0 data\n",
    "D0 = pd.read_csv ('../data/merged_data/D0.csv')\n",
    "D0 = D0.set_index('Unnamed: 0')\n",
    "y_D0 = np.squeeze(np.array(pd.read_csv('../data/merged_data/y_D0.csv')))\n",
    "print(np.shape(D0), np.shape(y_D0))\n",
    "\n",
    "#Load BIDDY D6 data\n",
    "D6 = pd.read_csv ('../data/merged_data/D6.csv')\n",
    "D6 = D6.set_index('Unnamed: 0')\n",
    "y_D6 = np.squeeze(np.array(pd.read_csv('../data/merged_data/y_D6.csv')))\n",
    "print(np.shape(D6), np.shape(y_D6))\n",
    "\n",
    "#Load BIDDY D15 data\n",
    "D15 = pd.read_csv ('../data/merged_data/D15.csv')\n",
    "D15 = D15.set_index('Unnamed: 0')\n",
    "y_D15 = np.squeeze(np.array(pd.read_csv('../data/merged_data/y_D15.csv')))\n",
    "print(np.shape(D15), np.shape(y_D15))\n",
    "\n",
    "#Load Weinreb LK data\n",
    "LK = pd.read_csv ('../data/merged_data/LK.csv')\n",
    "LK = LK.set_index('Unnamed: 0')\n",
    "y_LK  = np.squeeze(np.array(pd.read_csv('../data/merged_data/y_LK.csv')))\n",
    "print(np.shape(LK), np.shape(y_LK))\n",
    "\n",
    "#Load Weinreb LSK data\n",
    "LSK = pd.read_csv ('../data/merged_data/LSK.csv')\n",
    "LSK = LSK.set_index('Unnamed: 0')\n",
    "y_LSK  =np.squeeze(np.array(pd.read_csv('../data/merged_data/y_LSK.csv')))\n",
    "print(np.shape(LSK), np.shape(y_LSK))\n",
    "\n",
    "#Load Weinreb LSKmix data\n",
    "LSKmix = pd.read_csv ('../data/merged_data/LSKmix.csv')\n",
    "LSKmix = LSKmix.set_index('Unnamed: 0')\n",
    "y_LSKmix  = np.squeeze(np.array(pd.read_csv('../data/merged_data/y_LSKmix.csv')))\n",
    "print(np.shape(LSKmix), np.shape(y_LSKmix))"
   ]
  },
  {
   "cell_type": "markdown",
   "metadata": {},
   "source": [
    "# Fuse all data sets"
   ]
  },
  {
   "cell_type": "code",
   "execution_count": 3,
   "metadata": {},
   "outputs": [],
   "source": [
    "genes_interest = set(AE3.index) & set(LK.index)\n",
    "genes_interest = genes_interest & set(LSKmix.index)\n",
    "\n",
    "AE3_df = AE3.loc[genes_interest,:]\n",
    "AE4_df = AE4.loc[genes_interest,:]\n",
    "D0_df = D0.loc[genes_interest,:]\n",
    "D6_df = D6.loc[genes_interest,:]\n",
    "D15_df = D15.loc[genes_interest,:]\n",
    "LK_df = LK.loc[genes_interest,:]\n",
    "LSK_df = LSK.loc[genes_interest,:]\n",
    "LSKmix_df = LSKmix.loc[genes_interest,:]"
   ]
  },
  {
   "cell_type": "code",
   "execution_count": 4,
   "metadata": {},
   "outputs": [],
   "source": [
    "#Get name of genes that are repeated in Weinreb data\n",
    "genes, counts_gene = np.unique(LK_df.index, return_counts=True)\n",
    "ind = np.where(counts_gene>1) #get indices of genes appearing more than once\n",
    "non_unique_genes = genes[ind]\n",
    "\n",
    "genes, counts_gene = np.unique(LSK_df.index, return_counts=True)\n",
    "ind = np.where(counts_gene>1) #get indices of genes appearing more than once\n",
    "non_unique_genes = np.append(non_unique_genes, genes[ind])\n",
    "\n",
    "genes, counts_gene = np.unique(LSKmix_df.index, return_counts=True)\n",
    "ind = np.where(counts_gene>1) #get indices of genes appearing more than once\n",
    "non_unique_genes = np.append(non_unique_genes, genes[ind])\n",
    "\n",
    "non_unique_genes= list(np.unique(non_unique_genes))\n",
    "\n",
    "#Remove this genes from all data set\n",
    "AE3_df = AE3_df.drop(index= non_unique_genes)\n",
    "AE4_df = AE4_df.drop(non_unique_genes)\n",
    "D0_df = D0_df.drop(non_unique_genes)\n",
    "D6_df = D6_df.drop(non_unique_genes)\n",
    "D15_df = D15_df.drop(non_unique_genes)\n",
    "LK_df = LK_df.drop(non_unique_genes)\n",
    "LSK_df = LSK_df.drop(non_unique_genes)\n",
    "LSKmix_df = LSKmix_df.drop(non_unique_genes)"
   ]
  },
  {
   "cell_type": "code",
   "execution_count": 5,
   "metadata": {},
   "outputs": [
    {
     "data": {
      "text/plain": [
       "184"
      ]
     },
     "execution_count": 5,
     "metadata": {},
     "output_type": "execute_result"
    }
   ],
   "source": [
    "len(non_unique_genes)"
   ]
  },
  {
   "cell_type": "code",
   "execution_count": 6,
   "metadata": {},
   "outputs": [],
   "source": [
    "pd.DataFrame(non_unique_genes).to_csv('../data/non_unique_genes.csv', index=False)"
   ]
  },
  {
   "cell_type": "code",
   "execution_count": 20,
   "metadata": {},
   "outputs": [
    {
     "name": "stdout",
     "output_type": "stream",
     "text": [
      "(16051, 7615)\n",
      "7615\n"
     ]
    }
   ],
   "source": [
    "#Fuse ormalized data\n",
    "all_norm = pd.concat([AE3_df, AE4_df,D0_df,D6_df,D15_df,LK_df,LSK_df,LSKmix_df], axis=1)\n",
    "print(all_norm.shape)\n",
    "\n",
    "#Fuse families info\n",
    "y_AE4 += max(y_AE3) #Add the max indice of families in first dataset so that there is no overlap between families indices.\n",
    "y_all = np.hstack((y_AE3, y_AE4))\n",
    "\n",
    "y_D0 += max(y_all)\n",
    "y_all = np.hstack((y_all, y_D0))\n",
    "\n",
    "y_D6 += max(y_all)\n",
    "y_all = np.hstack((y_all, y_D6))\n",
    "\n",
    "y_D15 += max(y_all)\n",
    "y_all = np.hstack((y_all, y_D15))\n",
    "\n",
    "y_LK += max(y_all)\n",
    "y_all = np.hstack((y_all, y_LK))\n",
    "\n",
    "y_LSK += max(y_all)\n",
    "y_all = np.hstack((y_all, y_LSK)) \n",
    "\n",
    "y_LSKmix += max(y_all)\n",
    "y_all = np.hstack((y_all, y_LSKmix))\n",
    "print(len(y_all))"
   ]
  },
  {
   "cell_type": "code",
   "execution_count": 24,
   "metadata": {},
   "outputs": [
    {
     "name": "stdout",
     "output_type": "stream",
     "text": [
      "(9353, 7615)\n"
     ]
    }
   ],
   "source": [
    "#Remove all genes that are not expressed in at least percentage (default 50%) of the all cells\n",
    "gene_expressed = filter_norm_data(all_norm,0.05)\n",
    "all_norm = all_norm[gene_expressed]\n",
    "print(all_norm.shape)\n",
    "\n",
    "#Store the name of genes of interest\n",
    "genes_interest = all_norm.index.values #get name of genes\n",
    "pd.DataFrame(genes_interest).to_csv('../data/processed_data/allgenes_interest.csv', index=False)\n",
    "\n",
    "#Create preprocess data \n",
    "all_norm.to_csv('../data/processed_data/all.csv', index=False)\n",
    "pd.DataFrame(y_all).to_csv('../data/processed_data/y_all.csv', index=False)"
   ]
  },
  {
   "cell_type": "code",
   "execution_count": 25,
   "metadata": {},
   "outputs": [],
   "source": [
    "#Add .csv file that remembers which cells from which data set -> give indices\n",
    "sizes = [np.shape(y_AE3), np.shape(y_AE4), np.shape(y_D0), np.shape(y_D6), np.shape(y_D15), np.shape(y_LK), np.shape(y_LSK), np.shape(y_LSKmix)]\n",
    "pd.DataFrame(sizes).to_csv('../data/processed_data/size_datasets.csv', index=False)"
   ]
  }
 ],
 "metadata": {
  "kernelspec": {
   "display_name": "Python 3 (ipykernel)",
   "language": "python",
   "name": "python3"
  },
  "language_info": {
   "codemirror_mode": {
    "name": "ipython",
    "version": 3
   },
   "file_extension": ".py",
   "mimetype": "text/x-python",
   "name": "python",
   "nbconvert_exporter": "python",
   "pygments_lexer": "ipython3",
   "version": "3.9.7"
  }
 },
 "nbformat": 4,
 "nbformat_minor": 4
}
