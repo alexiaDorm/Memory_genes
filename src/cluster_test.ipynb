{
 "cells": [
  {
   "cell_type": "code",
   "execution_count": 19,
   "id": "c5867166",
   "metadata": {},
   "outputs": [],
   "source": [
    "import numpy as np\n",
    "import pandas as pd\n",
    "import sklearn\n",
    "import math \n",
    "from typing import AnyStr, Callable\n",
    "from sklearn.base import ClusterMixin,BaseEstimator\n",
    "from scipy.cluster.hierarchy import ward, cut_tree\n",
    "from sklearn.metrics import make_scorer\n",
    "from sklearn.cluster import AffinityPropagation\n",
    "\n",
    "from load_data import *\n",
    "from pred_score import *\n",
    "from Filter_FS import *\n",
    "from hybrid_FS import *\n",
    "from overlap_genes import *\n",
    "from crossValidation import *"
   ]
  },
  {
   "cell_type": "code",
   "execution_count": 3,
   "id": "e2ae0255-9cc7-449b-a787-99379c1e9847",
   "metadata": {},
   "outputs": [],
   "source": [
    "A = [1,20,1,20,20,1,100,100,100]\n",
    "B = [100,30,100,30,30,100,1,1,1]\n",
    "norm_data = np.array([A,B])\n",
    "y_test = [1,2,1,2,2,1,3,3,3]"
   ]
  },
  {
   "cell_type": "code",
   "execution_count": 4,
   "id": "dd19a039-3c10-4dd0-b8c4-aacc1ff01fc8",
   "metadata": {},
   "outputs": [],
   "source": [
    "model = IterativeClustering(np.unique(y_test),compute_precision,True)\n",
    "cell_clusters,co_clustering,cell_clusters_correlation  = model.fit(norm_data,y_test,N=2, iterations=5)"
   ]
  },
  {
   "cell_type": "code",
   "execution_count": 5,
   "id": "59f1b553-7b0b-4334-bebf-79e3825595b1",
   "metadata": {},
   "outputs": [
    {
     "data": {
      "text/plain": [
       "array([[ 1.,  1.,  1.,  1.,  1.],\n",
       "       [ 1.,  1.,  1.,  1.,  1.],\n",
       "       [ 1.,  1.,  1.,  1.,  1.],\n",
       "       [ 1.,  1.,  1.,  1.,  2.],\n",
       "       [ 1.,  1.,  1.,  2., nan],\n",
       "       [ 1.,  1.,  2., nan, nan],\n",
       "       [ 1.,  2.,  3., nan, nan],\n",
       "       [ 1.,  2.,  3., nan, nan],\n",
       "       [ 1.,  2.,  4., nan, nan]])"
      ]
     },
     "execution_count": 5,
     "metadata": {},
     "output_type": "execute_result"
    }
   ],
   "source": [
    "cell_clusters"
   ]
  },
  {
   "cell_type": "code",
   "execution_count": 12,
   "id": "56c4b844-9eb3-4ac3-bd8e-357d48445e9b",
   "metadata": {},
   "outputs": [],
   "source": [
    "class AffinityPropClustering(ClusterMixin, BaseEstimator):\n",
    "    '''\n",
    "    Families clustering\n",
    "    Affinity Propagation clustering\n",
    "    Parameters\n",
    "    ----------\n",
    "    family_interest: np.array,\n",
    "        list of family of interest\n",
    "    Scoring : Callable,\n",
    "        scoring function use to evaluate the model\n",
    "    maximize: bool,\n",
    "        if True the scoring function is maximize, else it is minimize\n",
    "    damping: float,\n",
    "        damping factor in the range [0.5, 1.0) is the extent to which the current value is maintained relative to incoming values (weighted 1 - damping). \n",
    "        This in order to avoid numerical oscillations when updating these values (messages).\n",
    "    preference: rray-like of shape (n_samples,) or float,\n",
    "        Preferences for each point - points with larger values of preferences are more likely to be chosen as exemplars. T\n",
    "        he number of exemplars, ie of clusters, is influenced by the input preferences value. If the preferences are not passed as arguments, they will be set to the median of the input similarities.\n",
    "    affinity: str,\n",
    "        Which affinity to use. At the moment ‘precomputed’ and euclidean are supported. ‘euclidean’ uses the negative squared euclidean distance between points.\n",
    "    \n",
    "        \n",
    "    Attributes\n",
    "    ----------\n",
    "    n_clusters_ : int\n",
    "        The number of clusters found by the algorithm.\n",
    "    labels_ : ndarray of shape (n_samples)\n",
    "        Cluster labels for each point.\n",
    "    family_interest: np.array,\n",
    "        list of family of interest.\n",
    "    Scoring : Callable,\n",
    "        scoring function use to evaluate the model.\n",
    "    maximize: bool,\n",
    "        if True the scoring function is maximize, else it is minimize.\n",
    "    \n",
    "    '''\n",
    "    \n",
    "    def __init__(self, family_interest_:np.array, Scoring_:Callable, maximize_:bool, damping:float=0.5, preference:float=None, affinity:str='euclidean'):\n",
    "        super().__init__()\n",
    "        self.family_interest_ = family_interest_\n",
    "        self.Scoring_ = Scoring_\n",
    "        self.maximize_ = maximize_\n",
    "        self.damping_ = damping\n",
    "        self.preference_ = preference\n",
    "        self.affinity_ = affinity\n",
    "        \n",
    "    def fit(self, X:np.array, y:np.array):\n",
    "        '''Fit data using affinity clustering.\n",
    "        \n",
    "        parameters:\n",
    "        -------\n",
    "        x : np.array,\n",
    "            features of each data points\n",
    "        y : np.array,\n",
    "            family of each data points\n",
    "        \n",
    "\n",
    "        Returns\n",
    "        -------\n",
    "        self,\n",
    "            return fitted self'''\n",
    "        \n",
    "        corr = X\n",
    "        if self.affinity_ == 'precomputed':\n",
    "            #Compute the spearman correlation of X if affinity chosen is precomputed\n",
    "            X_pd = pd.DataFrame(X.T)\n",
    "            corr= X_pd.corr(method= 'spearman')\n",
    "            corr= np.array((1 - corr)/2)\n",
    "        \n",
    "        #Fit and predict cluster on data\n",
    "        model = AffinityPropagation(damping=self.damping_, max_iter=200, convergence_iter=15, copy=True, preference=self.preference_, affinity= self.affinity_, random_state=3)\n",
    "        clustering = model.fit_predict(X)\n",
    "\n",
    "        #Score the cluster and determine the number of clusters\n",
    "        score = self.Scoring_(y,clustering)\n",
    "        N = len(np.unique(clustering))\n",
    "   \n",
    "        self.n_clusters_, self.labels_, self.score_ = N, clustering, score\n",
    "        return self\n",
    "    \n",
    "    def fit_predict(self, X:np.array, y:np.array):\n",
    "        self.fit(X,y)\n",
    "        \n",
    "        return self.labels_      \n",
    "    \n",
    "    def score(self, X, y_true):\n",
    "        #Error come from here y_true and X not same size as self.labels_ -> function fit_as\n",
    "        return self.score_"
   ]
  },
  {
   "cell_type": "code",
   "execution_count": 26,
   "id": "1899c822-0d36-44b7-ac25-7c80b2447cd2",
   "metadata": {},
   "outputs": [],
   "source": [
    "class GaussianMixClust(ClusterMixin, BaseEstimator):\n",
    "    '''\n",
    "    Families clustering\n",
    "    Affinity Propagation clustering\n",
    "    Parameters\n",
    "    ----------\n",
    "    family_interest: np.array,\n",
    "        list of family of interest\n",
    "    Scoring : Callable,\n",
    "        scoring function use to evaluate the model\n",
    "    maximize: bool,\n",
    "        if True the scoring function is maximize, else it is minimize\n",
    "    damping: float,\n",
    "        damping factor in the range [0.5, 1.0) is the extent to which the current value is maintained relative to incoming values (weighted 1 - damping). \n",
    "        This in order to avoid numerical oscillations when updating these values (messages).\n",
    "    preference: rray-like of shape (n_samples,) or float,\n",
    "        Preferences for each point - points with larger values of preferences are more likely to be chosen as exemplars. T\n",
    "        he number of exemplars, ie of clusters, is influenced by the input preferences value. If the preferences are not passed as arguments, they will be set to the median of the input similarities.\n",
    "    affinity: str,\n",
    "        Which affinity to use. At the moment ‘precomputed’ and euclidean are supported. ‘euclidean’ uses the negative squared euclidean distance between points.\n",
    "    \n",
    "        \n",
    "    Attributes\n",
    "    ----------\n",
    "    n_clusters_ : int\n",
    "        The number of clusters found by the algorithm.\n",
    "    labels_ : ndarray of shape (n_samples)\n",
    "        Cluster labels for each point.\n",
    "    family_interest: np.array,\n",
    "        list of family of interest.\n",
    "    Scoring : Callable,\n",
    "        scoring function use to evaluate the model.\n",
    "    maximize: bool,\n",
    "        if True the scoring function is maximize, else it is minimize.\n",
    "    \n",
    "    '''\n",
    "    \n",
    "    def __init__(self, family_interest_:np.array, Scoring_:Callable, maximize_:bool, damping:float=0.5, preference:float=None, affinity:str='euclidean'):\n",
    "        super().__init__()\n",
    "        self.family_interest_ = family_interest_\n",
    "        self.Scoring_ = Scoring_\n",
    "        self.maximize_ = maximize_\n",
    "        n_components=1, *, covariance_type='full', tol=0.001, reg_covar=1e-06, max_iter=100, n_init=1, init_params='kmeans', weights_init=None, means_init=None, precisions_init=None, random_state=None, warm_start=False, verbose=0, verbose_interval=10\n",
    "\n",
    "    def fit(self, X:np.array, y:np.array):\n",
    "        '''Fit data using affinity clustering.\n",
    "        \n",
    "        parameters:\n",
    "        -------\n",
    "        x : np.array,\n",
    "            features of each data points\n",
    "        y : np.array,\n",
    "            family of each data points\n",
    "        \n",
    "\n",
    "        Returns\n",
    "        -------\n",
    "        self,\n",
    "            return fitted self'''\n",
    "        corr = X\n",
    "        if self.affinity_ == 'precomputed':\n",
    "            #Compute the spearman correlation of X if affinity chosen is precomputed\n",
    "            X_pd = pd.DataFrame(X.T)\n",
    "            corr= X_pd.corr(method= 'spearman')\n",
    "            corr= np.array((1 - corr)/2)\n",
    "        \n",
    "        #Fit and predict cluster on data\n",
    "        model = AffinityPropagation(damping=self.damping_, max_iter=200, convergence_iter=15, copy=True, preference=self.preference_, affinity= self.affinity_, random_state=3)\n",
    "        clustering = model.fit_predict(corr)\n",
    "\n",
    "        #Score the cluster and determine the number of clusters\n",
    "        score = self.Scoring_(y,clustering)\n",
    "        N = len(np.unique(clustering))\n",
    "   \n",
    "        self.n_clusters_, self.labels_, self.score_ = N, clustering, score\n",
    "        return self\n",
    "    \n",
    "    def fit_predict(self, X:np.array, y:np.array):\n",
    "        self.fit(X,y)\n",
    "        \n",
    "        return self.labels_      \n",
    "    \n",
    "    def score(self, X, y_true):\n",
    "        #Error come from here y_true and X not same size as self.labels_ -> function fit_as\n",
    "        return self.score_"
   ]
  },
  {
   "cell_type": "markdown",
   "id": "b01b5aff-a43d-43ac-983c-56c79ead5918",
   "metadata": {},
   "source": [
    "# Ward"
   ]
  },
  {
   "cell_type": "code",
   "execution_count": 17,
   "id": "17bb2006-f2d5-4a9c-9f37-896e42afd60b",
   "metadata": {},
   "outputs": [
    {
     "name": "stdout",
     "output_type": "stream",
     "text": [
      "precision 0.3159509202453988\n",
      "TP, FP, ratio, sensitivity, specificity, precision, NPV, FDR, FNR =  (103.0, 223.0, 0.4618834080717489, 0.37050359712230213, 0.9921779087305763, 0.3159509202453988, 0.9938512350233653, 0.6840490797546013, 0.6294964028776978)\n",
      "162\n"
     ]
    }
   ],
   "source": [
    "#Load preprocess data\n",
    "AE3= np.array(pd.read_csv ('../data/processed_data/AE3.csv'))\n",
    "y = np.array(AE3[:,-1],dtype=int)\n",
    "AE3 = AE3[:,0:-1]\n",
    "\n",
    "#Predict and evaluate\n",
    "model = FamiliesClusters(np.unique(y),compute_precision,True)\n",
    "pred = model.fit_predict(AE3,y)\n",
    "\n",
    "acc = model.score_\n",
    "print('precision',acc)\n",
    "print(\"TP, FP, ratio, sensitivity, specificity, precision, NPV, FDR, FNR = \", compute_statTP(y,pred))\n",
    "\n",
    "print(len(np.unique(pred)))"
   ]
  },
  {
   "cell_type": "markdown",
   "id": "a2f55b2d-1304-4173-b987-a396bec74c10",
   "metadata": {},
   "source": [
    "# Affinity propagation"
   ]
  },
  {
   "cell_type": "code",
   "execution_count": 35,
   "id": "42de7bb5-8d4b-4644-ab09-468f7dda30e5",
   "metadata": {},
   "outputs": [
    {
     "name": "stdout",
     "output_type": "stream",
     "text": [
      "precision 0.03819316929856775\n",
      "TP, FP, ratio, sensitivity, specificity, precision, NPV, FDR, FNR =  (104.0, 2619.0, 0.039709812905689194, 0.8739495798319328, 0.48363564668769715, 0.03819316929856775, 0.9939222042139384, 0.9618068307014322, 0.12605042016806722)\n",
      "34\n"
     ]
    }
   ],
   "source": [
    "#Predict and evaluate\n",
    "model =  AffinityPropClustering(np.unique(y),compute_precision,True,damping=0.5, preference=None,  affinity='euclidean')\n",
    "pred = model.fit_predict(AE3,y)\n",
    "\n",
    "acc = model.score_\n",
    "print('precision',acc)\n",
    "print(\"TP, FP, ratio, sensitivity, specificity, precision, NPV, FDR, FNR = \", compute_statTP(y,pred))\n",
    "\n",
    "print(len(np.unique(pred)))"
   ]
  },
  {
   "cell_type": "code",
   "execution_count": 21,
   "id": "7aca4d7c-2efb-451c-85dd-84310bca258f",
   "metadata": {},
   "outputs": [
    {
     "name": "stderr",
     "output_type": "stream",
     "text": [
      "/Users/dormann/opt/anaconda3/lib/python3.9/site-packages/sklearn/cluster/_affinity_propagation.py:246: ConvergenceWarning: Affinity propagation did not converge, this model will not have any cluster centers.\n",
      "  warnings.warn(\"Affinity propagation did not converge, this model \"\n"
     ]
    },
    {
     "name": "stdout",
     "output_type": "stream",
     "text": [
      "test 0.16645220315162587 0.014412903701241861\n",
      "TP, FP, ratio, sensitivity, specificity, precision, NPV, FDR, FNR =  (152.0, 2100.0, 0.07238095238095238, 0.9620253164556962, 0.45141065830721006, 0.0674955595026643, 0.9965397923875432, 0.9325044404973357, 0.0379746835443038)\n"
     ]
    },
    {
     "data": {
      "image/png": "[encoded data removed]",
      "text/plain": [
       "<Figure size 432x288 with 1 Axes>"
      ]
     },
     "metadata": {
      "needs_background": "light"
     },
     "output_type": "display_data"
    }
   ],
   "source": [
    "#Define parameters for MIM method\n",
    "N = np.arange(80,1500,30)\n",
    "kwargs = {'Model': AffinityPropClustering, 'Scoring': compute_precision,'maximize': True,'N': N, 'n_neighbors': 3, 'plot': True} \n",
    "\n",
    "subset, score_training, score_testing = cross_validation(y,AE3, AffinityPropClustering, compute_precision,True, 5,  MIM, **kwargs)\n",
    "\n",
    "mean_score_test, std_score_test = np.mean(score_testing), np.std(score_testing)    \n",
    "print('test', mean_score_test, std_score_test)\n",
    "\n",
    "#Predict and evaluate on whole data  set\n",
    "model = AffinityPropClustering(np.unique(y),compute_precision,True)\n",
    "x_subset = AE3[:, subset]\n",
    "pred = model.fit_predict(x_subset,y)\n",
    "\n",
    "print(\"TP, FP, ratio, sensitivity, specificity, precision, NPV, FDR, FNR = \", compute_statTP(y,pred))"
   ]
  },
  {
   "cell_type": "markdown",
   "id": "2d942845-0bbb-45c9-b8c0-df0b770ee7c9",
   "metadata": {},
   "source": [
    "# Gaussian mixture model"
   ]
  },
  {
   "cell_type": "code",
   "execution_count": null,
   "id": "a3ac3c7b-5429-4c39-b70d-73126fe5d518",
   "metadata": {},
   "outputs": [],
   "source": [
    "#Predict and evaluate\n",
    "model =  GaussianMixClust(np.unique(y),compute_precision,True)\n",
    "pred = model.fit_predict(AE3,y)\n",
    "\n",
    "acc = model.score_\n",
    "print('precision',acc)\n",
    "print(\"TP, FP, ratio, sensitivity, specificity, precision, NPV, FDR, FNR = \", compute_statTP(y,pred))\n",
    "\n",
    "print(len(np.unique(pred)))"
   ]
  }
 ],
 "metadata": {
  "kernelspec": {
   "display_name": "Python 3 (ipykernel)",
   "language": "python",
   "name": "python3"
  },
  "language_info": {
   "codemirror_mode": {
    "name": "ipython",
    "version": 3
   },
   "file_extension": ".py",
   "mimetype": "text/x-python",
   "name": "python",
   "nbconvert_exporter": "python",
   "pygments_lexer": "ipython3",
   "version": "3.9.7"
  }
 },
 "nbformat": 4,
 "nbformat_minor": 5
}
