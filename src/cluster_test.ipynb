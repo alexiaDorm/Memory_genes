{
 "cells": [
  {
   "cell_type": "code",
   "execution_count": 2,
   "metadata": {},
   "outputs": [],
   "source": [
    "import numpy as np\n",
    "import pandas as pd\n",
    "import sklearn\n",
    "import math \n",
    "from typing import AnyStr, Callable, Tuple\n",
    "from sklearn.base import ClusterMixin,BaseEstimator\n",
    "from scipy.cluster.hierarchy import ward, cut_tree\n",
    "from sklearn.metrics import make_scorer\n",
    "from sklearn.cluster import AffinityPropagation\n",
    "from sklearn.decomposition import PCA\n",
    "\n",
    "from load_data import *\n",
    "from pred_score import *\n",
    "from Filter_FS import *\n",
    "from hybrid_FS import *\n",
    "from overlap_genes import *\n",
    "from crossValidation import *"
   ]
  },
  {
   "cell_type": "markdown",
   "metadata": {},
   "source": [
    "# Using other genesets"
   ]
  },
  {
   "cell_type": "code",
   "execution_count": 21,
   "metadata": {
    "collapsed": true,
    "jupyter": {
     "outputs_hidden": true
    },
    "tags": []
   },
   "outputs": [
    {
     "name": "stdout",
     "output_type": "stream",
     "text": [
      "OrderedDict([(None,                P_value_estimate_CV2_ofmeans_20_  \\\n",
      "rownames                                          \n",
      "0610006L08Rik                               NaN   \n",
      "0610007P14Rik                              0.20   \n",
      "0610009B22Rik                              0.90   \n",
      "0610009E02Rik                              0.45   \n",
      "0610009L18Rik                               NaN   \n",
      "...                                         ...   \n",
      "mt-Nd3                                     0.00   \n",
      "mt-Nd4                                     0.00   \n",
      "mt-Nd4l                                    0.45   \n",
      "mt-Nd5                                     0.45   \n",
      "mt-Nd6                                     0.75   \n",
      "\n",
      "               P_value_estimate_CV2_ofmeans_20_NA  \\\n",
      "rownames                                            \n",
      "0610006L08Rik                                 NaN   \n",
      "0610007P14Rik                                0.65   \n",
      "0610009B22Rik                                0.85   \n",
      "0610009E02Rik                                0.90   \n",
      "0610009L18Rik                                 NaN   \n",
      "...                                           ...   \n",
      "mt-Nd3                                       0.40   \n",
      "mt-Nd4                                       0.00   \n",
      "mt-Nd4l                                      0.25   \n",
      "mt-Nd5                                       0.45   \n",
      "mt-Nd6                                       0.75   \n",
      "\n",
      "               P_value_estimate_CV2_ofmeans_full_detection_20_  \\\n",
      "rownames                                                         \n",
      "0610006L08Rik                                              NaN   \n",
      "0610007P14Rik                                              NaN   \n",
      "0610009B22Rik                                              NaN   \n",
      "0610009E02Rik                                              NaN   \n",
      "0610009L18Rik                                              NaN   \n",
      "...                                                        ...   \n",
      "mt-Nd3                                                     0.0   \n",
      "mt-Nd4                                                     0.0   \n",
      "mt-Nd4l                                                    NaN   \n",
      "mt-Nd5                                                     0.1   \n",
      "mt-Nd6                                                     NaN   \n",
      "\n",
      "               P_value_estimate_intraCV2_20_  P_value_estimate_intraCV2_20_NA  \\\n",
      "rownames                                                                        \n",
      "0610006L08Rik                            NaN                              NaN   \n",
      "0610007P14Rik                            NaN                             0.90   \n",
      "0610009B22Rik                            NaN                              NaN   \n",
      "0610009E02Rik                            NaN                              NaN   \n",
      "0610009L18Rik                            NaN                              NaN   \n",
      "...                                      ...                              ...   \n",
      "mt-Nd3                                  0.40                             0.45   \n",
      "mt-Nd4                                  0.40                             0.20   \n",
      "mt-Nd4l                                  NaN                             0.40   \n",
      "mt-Nd5                                  0.25                             0.10   \n",
      "mt-Nd6                                   NaN                              NaN   \n",
      "\n",
      "               P_value_estimate_intraCV2_full_detection_20_  \\\n",
      "rownames                                                      \n",
      "0610006L08Rik                                           NaN   \n",
      "0610007P14Rik                                          0.10   \n",
      "0610009B22Rik                                           NaN   \n",
      "0610009E02Rik                                           NaN   \n",
      "0610009L18Rik                                           NaN   \n",
      "...                                                     ...   \n",
      "mt-Nd3                                                 0.35   \n",
      "mt-Nd4                                                 0.00   \n",
      "mt-Nd4l                                                0.30   \n",
      "mt-Nd5                                                 0.30   \n",
      "mt-Nd6                                                  NaN   \n",
      "\n",
      "               P_value_estimate_corr_20_ value_FindMarkers  \\\n",
      "rownames                                                     \n",
      "0610006L08Rik                        NaN               NaN   \n",
      "0610007P14Rik                       0.00                 3   \n",
      "0610009B22Rik                       0.00                 4   \n",
      "0610009E02Rik                       0.05                 1   \n",
      "0610009L18Rik                        NaN                 1   \n",
      "...                                  ...               ...   \n",
      "mt-Nd3                              0.00               NaN   \n",
      "mt-Nd4                              0.00               NaN   \n",
      "mt-Nd4l                             0.05               NaN   \n",
      "mt-Nd5                              0.05               NaN   \n",
      "mt-Nd6                              0.00                 5   \n",
      "\n",
      "              value_FindMarkersnegbinom value_FindMarkersbimod  \\\n",
      "rownames                                                         \n",
      "0610006L08Rik                       NaN                    NaN   \n",
      "0610007P14Rik                       NaN                      2   \n",
      "0610009B22Rik                         2                      1   \n",
      "0610009E02Rik                       NaN                    NaN   \n",
      "0610009L18Rik                       NaN                    NaN   \n",
      "...                                 ...                    ...   \n",
      "mt-Nd3                                1                      5   \n",
      "mt-Nd4                              NaN                      1   \n",
      "mt-Nd4l                             NaN                      3   \n",
      "mt-Nd5                              NaN                      4   \n",
      "mt-Nd6                              NaN                    NaN   \n",
      "\n",
      "              value_FindMarkerspoisson value_FindMarkersLR  \\\n",
      "rownames                                                     \n",
      "0610006L08Rik                      NaN                 NaN   \n",
      "0610007P14Rik                        4                   1   \n",
      "0610009B22Rik                        3                   1   \n",
      "0610009E02Rik                      NaN                   1   \n",
      "0610009L18Rik                      NaN                   1   \n",
      "...                                ...                 ...   \n",
      "mt-Nd3                               3                   1   \n",
      "mt-Nd4                              17                   1   \n",
      "mt-Nd4l                              3                 NaN   \n",
      "mt-Nd5                               6                 NaN   \n",
      "mt-Nd6                               2                   1   \n",
      "\n",
      "              value_FindMarkersroc value_FindMarkerst value_FindMarkersMAST  \n",
      "rownames                                                                     \n",
      "0610006L08Rik                  NaN                NaN                   NaN  \n",
      "0610007P14Rik                    3                 40                     1  \n",
      "0610009B22Rik                    1                NaN                     1  \n",
      "0610009E02Rik                  NaN                NaN                   NaN  \n",
      "0610009L18Rik                  NaN                NaN                   NaN  \n",
      "...                            ...                ...                   ...  \n",
      "mt-Nd3                          11                  1                     2  \n",
      "mt-Nd4                          16                  2                   NaN  \n",
      "mt-Nd4l                          2                 23                     2  \n",
      "mt-Nd5                          13                  2                     1  \n",
      "mt-Nd6                         NaN                NaN                   NaN  \n",
      "\n",
      "[25289 rows x 15 columns])])\n"
     ]
    },
    {
     "ename": "KeyError",
     "evalue": "\"None of ['gene'] are in the columns\"",
     "output_type": "error",
     "traceback": [
      "\u001b[1;31m---------------------------------------------------------------------------\u001b[0m",
      "\u001b[1;31mKeyError\u001b[0m                                  Traceback (most recent call last)",
      "\u001b[1;32m<ipython-input-21-170a259a85b5>\u001b[0m in \u001b[0;36m<module>\u001b[1;34m\u001b[0m\n\u001b[0;32m      7\u001b[0m \u001b[0mprint\u001b[0m\u001b[1;33m(\u001b[0m\u001b[0mAE3_master\u001b[0m\u001b[1;33m)\u001b[0m\u001b[1;33m\u001b[0m\u001b[1;33m\u001b[0m\u001b[0m\n\u001b[0;32m      8\u001b[0m \u001b[0mAE3_master\u001b[0m \u001b[1;33m=\u001b[0m \u001b[0mAE3_master\u001b[0m\u001b[1;33m[\u001b[0m\u001b[1;32mNone\u001b[0m\u001b[1;33m]\u001b[0m\u001b[1;33m\u001b[0m\u001b[1;33m\u001b[0m\u001b[0m\n\u001b[1;32m----> 9\u001b[1;33m \u001b[0mAE3_master\u001b[0m \u001b[1;33m=\u001b[0m \u001b[0mAE3_master\u001b[0m\u001b[1;33m.\u001b[0m\u001b[0mset_index\u001b[0m\u001b[1;33m(\u001b[0m\u001b[1;34m'gene'\u001b[0m\u001b[1;33m)\u001b[0m\u001b[1;33m\u001b[0m\u001b[1;33m\u001b[0m\u001b[0m\n\u001b[0m\u001b[0;32m     10\u001b[0m \u001b[1;33m\u001b[0m\u001b[0m\n\u001b[0;32m     11\u001b[0m \u001b[0mCV2_of_mean\u001b[0m \u001b[1;33m=\u001b[0m \u001b[0mAE3_master\u001b[0m\u001b[1;33m[\u001b[0m\u001b[1;34m'P_value_estimate_CV2_ofmeans_20_'\u001b[0m\u001b[1;33m]\u001b[0m\u001b[1;33m\u001b[0m\u001b[1;33m\u001b[0m\u001b[0m\n",
      "\u001b[1;32m~\\anaconda3\\lib\\site-packages\\pandas\\core\\frame.py\u001b[0m in \u001b[0;36mset_index\u001b[1;34m(self, keys, drop, append, inplace, verify_integrity)\u001b[0m\n\u001b[0;32m   4549\u001b[0m \u001b[1;33m\u001b[0m\u001b[0m\n\u001b[0;32m   4550\u001b[0m         \u001b[1;32mif\u001b[0m \u001b[0mmissing\u001b[0m\u001b[1;33m:\u001b[0m\u001b[1;33m\u001b[0m\u001b[1;33m\u001b[0m\u001b[0m\n\u001b[1;32m-> 4551\u001b[1;33m             \u001b[1;32mraise\u001b[0m \u001b[0mKeyError\u001b[0m\u001b[1;33m(\u001b[0m\u001b[1;34mf\"None of {missing} are in the columns\"\u001b[0m\u001b[1;33m)\u001b[0m\u001b[1;33m\u001b[0m\u001b[1;33m\u001b[0m\u001b[0m\n\u001b[0m\u001b[0;32m   4552\u001b[0m \u001b[1;33m\u001b[0m\u001b[0m\n\u001b[0;32m   4553\u001b[0m         \u001b[1;32mif\u001b[0m \u001b[0minplace\u001b[0m\u001b[1;33m:\u001b[0m\u001b[1;33m\u001b[0m\u001b[1;33m\u001b[0m\u001b[0m\n",
      "\u001b[1;31mKeyError\u001b[0m: \"None of ['gene'] are in the columns\""
     ]
    }
   ],
   "source": [
    "#Load AE3 data\n",
    "AE3 = pd.read_csv ('../data/merged_data/D0.csv')\n",
    "AE3 = AE3.set_index('Unnamed: 0')\n",
    "y_AE3 = np.squeeze(np.array(pd.read_csv('../data/merged_data/y_D0.csv')))\n",
    "\n",
    "AE3_master = pyreadr.read_r('../data/data_master/Master_Almut_LSK_D2_exp1_20_3t5_nocellcyclesplit_lifted.rds')\n",
    "print(AE3_master)\n",
    "AE3_master = AE3_master[None]\n",
    "AE3_master = AE3_master.set_index('gene')     \n",
    "\n",
    "CV2_of_mean = AE3_master['P_value_estimate_CV2_ofmeans_20_']\n",
    "\n",
    "CV2_of_mean = CV2_of_mean[CV2_of_mean <= 0.05].index\n",
    "pd.DataFrame(CV2_of_mean).to_csv('../data/optimized_subsets/LK_exp1_CV2mean.csv', index=False)"
   ]
  },
  {
   "cell_type": "code",
   "execution_count": 4,
   "metadata": {
    "collapsed": true,
    "jupyter": {
     "outputs_hidden": true
    }
   },
   "outputs": [
    {
     "ename": "NameError",
     "evalue": "name 'get_ind_genes' is not defined",
     "output_type": "error",
     "traceback": [
      "\u001b[1;31m---------------------------------------------------------------------------\u001b[0m",
      "\u001b[1;31mNameError\u001b[0m                                 Traceback (most recent call last)",
      "\u001b[1;32m<ipython-input-4-ceb1ad1eec12>\u001b[0m in \u001b[0;36m<module>\u001b[1;34m\u001b[0m\n\u001b[1;32m----> 1\u001b[1;33m \u001b[0mind_CV2\u001b[0m \u001b[1;33m=\u001b[0m \u001b[0mget_ind_genes\u001b[0m\u001b[1;33m(\u001b[0m\u001b[0mAE3\u001b[0m\u001b[1;33m.\u001b[0m\u001b[0mindex\u001b[0m\u001b[1;33m,\u001b[0m \u001b[0mCV2_of_mean\u001b[0m\u001b[1;33m)\u001b[0m\u001b[1;33m\u001b[0m\u001b[1;33m\u001b[0m\u001b[0m\n\u001b[0m\u001b[0;32m      2\u001b[0m \u001b[0mind_CV2_genes\u001b[0m \u001b[1;33m=\u001b[0m \u001b[0mnp\u001b[0m\u001b[1;33m.\u001b[0m\u001b[0mzeros\u001b[0m\u001b[1;33m(\u001b[0m\u001b[1;33m(\u001b[0m\u001b[0mlen\u001b[0m\u001b[1;33m(\u001b[0m\u001b[0mAE3\u001b[0m\u001b[1;33m.\u001b[0m\u001b[0mindex\u001b[0m\u001b[1;33m)\u001b[0m\u001b[1;33m,\u001b[0m\u001b[1;33m)\u001b[0m\u001b[1;33m)\u001b[0m\u001b[1;33m\u001b[0m\u001b[1;33m\u001b[0m\u001b[0m\n\u001b[0;32m      3\u001b[0m \u001b[0mind_CV2_genes\u001b[0m\u001b[1;33m[\u001b[0m\u001b[0mind_CV2\u001b[0m\u001b[1;33m]\u001b[0m \u001b[1;33m=\u001b[0m \u001b[1;32mTrue\u001b[0m\u001b[1;33m\u001b[0m\u001b[1;33m\u001b[0m\u001b[0m\n\u001b[0;32m      4\u001b[0m \u001b[0mind_CV2_genes\u001b[0m \u001b[1;33m=\u001b[0m \u001b[0mlist\u001b[0m\u001b[1;33m(\u001b[0m\u001b[0mind_CV2_genes\u001b[0m\u001b[1;33m.\u001b[0m\u001b[0mastype\u001b[0m\u001b[1;33m(\u001b[0m\u001b[0mbool\u001b[0m\u001b[1;33m)\u001b[0m\u001b[1;33m)\u001b[0m\u001b[1;33m\u001b[0m\u001b[1;33m\u001b[0m\u001b[0m\n",
      "\u001b[1;31mNameError\u001b[0m: name 'get_ind_genes' is not defined"
     ]
    }
   ],
   "source": [
    "ind_CV2 = get_ind_genes(AE3.index, CV2_of_mean)\n",
    "ind_CV2_genes = np.zeros((len(AE3.index),))\n",
    "ind_CV2_genes[ind_CV2] = True\n",
    "ind_CV2_genes = list(ind_CV2_genes.astype(bool))"
   ]
  },
  {
   "cell_type": "code",
   "execution_count": 5,
   "metadata": {},
   "outputs": [],
   "source": [
    "def get_ind_genes(all_genes:np.array, subset:np.array):\n",
    "    ind = []\n",
    "    for gene in subset:\n",
    "        ind = np.append(ind, int(np.squeeze(np.where(all_genes == gene))))\n",
    "        ind = list(ind.astype(int))\n",
    "        \n",
    "    return ind"
   ]
  },
  {
   "cell_type": "code",
   "execution_count": 9,
   "metadata": {},
   "outputs": [
    {
     "name": "stdout",
     "output_type": "stream",
     "text": [
      "(3, 333)\n",
      "0.5174129353233831 0.7477477477477478\n"
     ]
    }
   ],
   "source": [
    "subsets = [np.squeeze([ind_CV2_genes]), np.squeeze([ind_intraCV2_genes]), np.squeeze([ind_corr_genes])]\n",
    "model = EnsemblingHierarchical(np.unique(y_AE3),compute_precision,True,subsets = subsets, ensembling='voting', threshold_voting = 0.5)\n",
    "result  = model.fit_predict(X = np.array(AE3).T, y= y_AE3)\n",
    "print(model.score_, model.recovery)"
   ]
  },
  {
   "cell_type": "markdown",
   "metadata": {},
   "source": [
    "# Unsupervised genes subset selection"
   ]
  },
  {
   "cell_type": "code",
   "execution_count": 1,
   "metadata": {},
   "outputs": [],
   "source": [
    "from scipy.cluster.hierarchy import cophenet\n",
    "import numpy as np\n",
    "\n",
    "def compute_cophe_coeff(orign_dists:np.array, Z:np.array):\n",
    "    '''Compute the Cophenetic coefficient from the original distance matrix and generated dendrogram of clustering\n",
    "        parameters:\n",
    "        -------\n",
    "        orign_dists : np.array,\n",
    "            original distance matrix before clustering\n",
    "        Z : np.array,\n",
    "            dendrogram of the clustering to evaluate\n",
    "    \n",
    "        Returns\n",
    "        -------\n",
    "        corr_coeff:float [0,1],\n",
    "            computed Cophenetic coefficient '''\n",
    "    cophe_dists = cophenet(Z) \n",
    "    corr_coef = np.corrcoef(orign_dists, cophe_dists)[0,1]\n",
    "    \n",
    "    return corr_coef"
   ]
  },
  {
   "cell_type": "code",
   "execution_count": 2,
   "metadata": {},
   "outputs": [],
   "source": [
    "import numpy as np\n",
    "import pandas as pd\n",
    "import sklearn\n",
    "import math \n",
    "from typing import AnyStr, Callable, Tuple\n",
    "from sklearn.model_selection import cross_val_score\n",
    "from sklearn.model_selection import KFold\n",
    "from sklearn.base import ClusterMixin,BaseEstimator\n",
    "from scipy.cluster.hierarchy import ward, cut_tree\n",
    "from sklearn.metrics import make_scorer\n",
    "from scipy_cut_tree_balanced import cut_tree_balanced\n",
    "\n",
    "from pred_score import *"
   ]
  },
  {
   "cell_type": "code",
   "execution_count": 3,
   "metadata": {},
   "outputs": [],
   "source": [
    "class FamiliesClusters(ClusterMixin, BaseEstimator):\n",
    "    '''\n",
    "    Families clustering\n",
    "    Hierachical clustering with the ward2 criterion, use the spearman correlation as the distance measure.\n",
    "    Parameters\n",
    "    ----------\n",
    "    family_interest: np.array,\n",
    "        list of family of interest\n",
    "    Scoring : Callable,\n",
    "        scoring function use to evaluate the model\n",
    "    maximize: bool,\n",
    "        if True the scoring function is maximize, else it is minimize\n",
    "        \n",
    "    Attributes\n",
    "    ----------\n",
    "    n_clusters_ : int\n",
    "        The number of clusters found by the algorithm.\n",
    "    labels_ : ndarray of shape (n_samples)\n",
    "        Cluster labels for each point.\n",
    "    family_interest: np.array,\n",
    "        list of family of interest.\n",
    "    Scoring_ : Callable,\n",
    "        scoring function use to evaluate the model.\n",
    "    maximize_: bool,\n",
    "        if True the scoring function is maximize, else it is minimize.\n",
    "    \n",
    "    '''\n",
    "    \n",
    "    def __init__(self, family_interest_:np.array, Scoring_:Callable, maximize_:bool):\n",
    "        super().__init__()\n",
    "        self.family_interest_ = family_interest_\n",
    "        self.Scoring_ = Scoring_\n",
    "        self.maximize_ = maximize_\n",
    "        \n",
    "    def fit(self, X:np.array, y:np.array, NmaxCluster:int = None):\n",
    "        '''Fit data using hierachical clustering with the ward2 criterion and use the spearman correlation as the distance measure and predict.\n",
    "        \n",
    "        parameters:\n",
    "        -------\n",
    "        x : np.array,\n",
    "            features of each data points\n",
    "        y : np.array,\n",
    "            family of each data points\n",
    "        NmaxCluster : int,\n",
    "            max number of cells in a cluster\n",
    "        \n",
    "\n",
    "        Returns\n",
    "        -------\n",
    "        self,\n",
    "            return fitted self'''\n",
    "        \n",
    "        #Compute the spearman correlation of X\n",
    "        X_pd = pd.DataFrame(X.T)\n",
    "        corr_expr= X_pd.corr(method= 'spearman')\n",
    "        corr_expr = np.array((1 - corr_expr)/2)\n",
    "        corr_expr = upper_tri_indexing(corr_expr)**2 #Squared for ward2 criterion\n",
    "        \n",
    "        if(np.shape(X.T)[0] == 1):\n",
    "            corr_expr.fill(1)\n",
    "        \n",
    "        #Create clustering tree using hierarchical clustering with spearmann correlation and ward2 criterion\n",
    "        Z = ward(corr_expr)\n",
    "        \n",
    "        #Cut the tree into clusters of maximum size equal to the number of cells in the largest family in data set\n",
    "        if NmaxCluster == None:\n",
    "            Nmax = round(np.mean(np.unique(y,return_counts=True)[1]))\n",
    "        else:\n",
    "            Nmax = NmaxCluster\n",
    "        \n",
    "        clustering = np.squeeze(cut_tree_balanced(Z, max_cluster_size = Nmax)[0])\n",
    "        \n",
    "        #Assign all cells predicted alone in a cluster the label 0\n",
    "        clustering += 1\n",
    "        values, counts = np.unique(clustering, return_counts=True)\n",
    "        onecell_family = values[np.where(counts==1)]\n",
    "        for fam in onecell_family:\n",
    "            clustering[clustering == fam] = 0\n",
    "        \n",
    "        #Compute recovery\n",
    "        self.recovery = compute_recovery(clustering)\n",
    "    \n",
    "        #Score the cluster and determine the number of clusters\n",
    "        if self.Scoring_ != compute_cophe_coeff:\n",
    "            score = self.Scoring_(y,clustering)\n",
    "        else:\n",
    "            score = self.Scoring_(corr_expr,Z)\n",
    "            \n",
    "        N = len(np.unique(clustering))\n",
    "   \n",
    "        self.n_clusters_, self.labels_, self.score_ = N, clustering, score\n",
    "        return self\n",
    "    \n",
    "    def fit_predict(self, X:np.array, y:np.array,NmaxCluster:int = None):\n",
    "        self.fit(X,y,NmaxCluster)\n",
    "        \n",
    "        return self.labels_      \n",
    "    \n",
    "    def score(self, X, y_true):\n",
    "        #Error come from here y_true and X not same size as self.labels_ -> function fit_as\n",
    "        return self.score_"
   ]
  },
  {
   "cell_type": "code",
   "execution_count": 4,
   "metadata": {},
   "outputs": [
    {
     "data": {
      "text/plain": [
       "(333, 11894)"
      ]
     },
     "execution_count": 4,
     "metadata": {},
     "output_type": "execute_result"
    }
   ],
   "source": [
    "AE3= np.array(pd.read_csv ('../data/processed_data/AE3.csv'))\n",
    "y = np.array(AE3[:,-1],dtype=int)\n",
    "AE3 = AE3[:,0:-1]\n",
    "AE3.shape"
   ]
  },
  {
   "cell_type": "code",
   "execution_count": 5,
   "metadata": {},
   "outputs": [
    {
     "name": "stdout",
     "output_type": "stream",
     "text": [
      "0.22874411254286686 0.6726726726726727\n"
     ]
    }
   ],
   "source": [
    "model = FamiliesClusters(np.unique(y),compute_cophe_coeff,True)\n",
    "pred = model.fit_predict(AE3,y)\n",
    "print(model.score_, model.recovery)"
   ]
  },
  {
   "cell_type": "code",
   "execution_count": 6,
   "metadata": {},
   "outputs": [
    {
     "name": "stdout",
     "output_type": "stream",
     "text": [
      "(333, 1010)\n"
     ]
    }
   ],
   "source": [
    "genes_AE3 = np.squeeze(pd.read_csv ('../data/processed_data/AE3genes_interest.csv'))\n",
    "gene_optimized = np.squeeze(pd.read_csv ('../data/optimized_subsets/AE3genes_bestMIM.csv'))\n",
    "\n",
    "ind_opt_genes = []\n",
    "for gene in gene_optimized:\n",
    "    ind_opt_genes = np.append(ind_opt_genes, int(np.squeeze(np.where(genes_AE3 == gene))))\n",
    "ind_opt_genes= list(ind_opt_genes.astype(int))\n",
    "\n",
    "#Only keep the optimized genes\n",
    "AE3 = AE3[:,ind_opt_genes]\n",
    "print(AE3.shape)"
   ]
  },
  {
   "cell_type": "code",
   "execution_count": 9,
   "metadata": {},
   "outputs": [
    {
     "name": "stdout",
     "output_type": "stream",
     "text": [
      "0.5333144434049149 0.8468468468468469\n"
     ]
    }
   ],
   "source": [
    "model = FamiliesClusters(np.unique(y),compute_cophe_coeff,True)\n",
    "pred = model.fit_predict(AE3,y)\n",
    "print(model.score_, model.recovery)"
   ]
  },
  {
   "cell_type": "code",
   "execution_count": null,
   "metadata": {},
   "outputs": [],
   "source": []
  }
 ],
 "metadata": {
  "kernelspec": {
   "display_name": "Python 3",
   "language": "python",
   "name": "python3"
  },
  "language_info": {
   "codemirror_mode": {
    "name": "ipython",
    "version": 3
   },
   "file_extension": ".py",
   "mimetype": "text/x-python",
   "name": "python",
   "nbconvert_exporter": "python",
   "pygments_lexer": "ipython3",
   "version": "3.8.5"
  }
 },
 "nbformat": 4,
 "nbformat_minor": 5
}
