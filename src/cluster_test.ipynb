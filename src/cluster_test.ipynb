{
 "cells": [
  {
   "cell_type": "code",
   "execution_count": 1,
   "id": "c5867166",
   "metadata": {},
   "outputs": [],
   "source": [
    "import numpy as np\n",
    "import pandas as pd\n",
    "import sklearn\n",
    "import math \n",
    "from typing import AnyStr, Callable\n",
    "from sklearn.base import ClusterMixin,BaseEstimator\n",
    "from scipy.cluster.hierarchy import ward, cut_tree\n",
    "from sklearn.metrics import make_scorer\n",
    "\n",
    "from pred_score import*"
   ]
  },
  {
   "cell_type": "code",
   "execution_count": 2,
   "id": "e2ae0255-9cc7-449b-a787-99379c1e9847",
   "metadata": {},
   "outputs": [],
   "source": [
    "A = [1,20,1,20,20,1,100,100,100]\n",
    "B = [100,30,100,30,30,100,1,1,1]\n",
    "norm_data = np.array([A,B])\n",
    "y_test = [1,2,1,2,2,1,3,3,3]"
   ]
  },
  {
   "cell_type": "code",
   "execution_count": 7,
   "id": "dd19a039-3c10-4dd0-b8c4-aacc1ff01fc8",
   "metadata": {},
   "outputs": [],
   "source": [
    "model = IterativeClustering(np.unique(y_test),compute_precision,True)\n",
    "cell_clusters,co_clustering,cell_clusters_correlation  = model.fit(norm_data,y_test,N=2, iterations=5)"
   ]
  },
  {
   "cell_type": "code",
   "execution_count": 8,
   "id": "59f1b553-7b0b-4334-bebf-79e3825595b1",
   "metadata": {},
   "outputs": [
    {
     "data": {
      "text/plain": [
       "array([[ 1.,  1.,  1.,  1.,  1.],\n",
       "       [ 1.,  1.,  1.,  1.,  1.],\n",
       "       [ 1.,  1.,  1.,  1.,  1.],\n",
       "       [ 1.,  1.,  1.,  1.,  2.],\n",
       "       [ 1.,  1.,  1.,  2., nan],\n",
       "       [ 1.,  1.,  2., nan, nan],\n",
       "       [ 1.,  2.,  3., nan, nan],\n",
       "       [ 1.,  2.,  3., nan, nan],\n",
       "       [ 1.,  2.,  4., nan, nan]])"
      ]
     },
     "execution_count": 8,
     "metadata": {},
     "output_type": "execute_result"
    }
   ],
   "source": [
    "cell_clusters"
   ]
  },
  {
   "cell_type": "code",
   "execution_count": null,
   "id": "56c4b844-9eb3-4ac3-bd8e-357d48445e9b",
   "metadata": {},
   "outputs": [],
   "source": []
  }
 ],
 "metadata": {
  "kernelspec": {
   "display_name": "Python 3 (ipykernel)",
   "language": "python",
   "name": "python3"
  },
  "language_info": {
   "codemirror_mode": {
    "name": "ipython",
    "version": 3
   },
   "file_extension": ".py",
   "mimetype": "text/x-python",
   "name": "python",
   "nbconvert_exporter": "python",
   "pygments_lexer": "ipython3",
   "version": "3.9.7"
  }
 },
 "nbformat": 4,
 "nbformat_minor": 5
}
