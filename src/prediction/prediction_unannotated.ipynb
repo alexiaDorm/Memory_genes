{
 "cells": [
  {
   "cell_type": "code",
   "execution_count": 1,
   "metadata": {},
   "outputs": [
    {
     "name": "stdout",
     "output_type": "stream",
     "text": [
      "/Users/dormann/Documents/GitHub/src\n"
     ]
    }
   ],
   "source": [
    "%cd \"../\"\n",
    "%pwd\n",
    "\n",
    "import numpy as np\n",
    "import matplotlib.pyplot as plt\n",
    "import io \n",
    "import pandas as pd \n",
    "import pyreadr\n",
    "\n",
    "from load_data import *\n",
    "from pred_score import *"
   ]
  },
  {
   "cell_type": "markdown",
   "metadata": {},
   "source": [
    "# mESC cells (AE3, AE4)"
   ]
  },
  {
   "cell_type": "code",
   "execution_count": 2,
   "metadata": {},
   "outputs": [],
   "source": [
    "#AE3\n",
    "AE3_df = pyreadr.read_r('../data/family_datasets/data_norm/AE3_scran_norm.rds')\n",
    "AE3_df = AE3_df[None]\n",
    "\n",
    "families_interest_AE3 = pyreadr.read_r('../data/family_datasets/family_interest/families_of_interest_AE3_nocellcyclesplit.RData')\n",
    "families_interest_AE3 = families_interest_AE3['fois_1']\n",
    "\n",
    "families_info_AE3 = pyreadr.read_r('../data/family_datasets/family_info/family_info_AE3_nocellcyclesplit.RData')\n",
    "families_info_AE3 = families_info_AE3['family_info_1']\n",
    "\n",
    "#Conversion into array \n",
    "families_interest_AE3 = np.array(families_interest_AE3)\n",
    "families_info_AE3 = np.array(families_info_AE3) "
   ]
  },
  {
   "cell_type": "code",
   "execution_count": 3,
   "metadata": {},
   "outputs": [],
   "source": [
    "#Norm data with only the cells belonging to the family of interest\n",
    "AE3_ano = select_family_interest_norm_data(families_info_AE3, families_interest_AE3, AE3_df)\n",
    "y_AE3 = AE3_ano[1]\n",
    "y_AE3 = y_AE3[:,0]\n",
    "y_AE3 = y_AE3.astype(np.int32)\n",
    "AE3_ano = AE3_ano[0]"
   ]
  },
  {
   "cell_type": "code",
   "execution_count": 4,
   "metadata": {},
   "outputs": [],
   "source": [
    "#Get cell.barcode of annotated cells\n",
    "cells_annotated = AE3_ano.columns\n",
    "y_AE3 = pd.DataFrame(y_AE3, index= cells_annotated)\n",
    "\n",
    "#Add family column\n",
    "family = pd.DataFrame(np.zeros((AE3_df.shape[1])), index= AE3_df.columns)\n",
    "\n",
    "for cell in cells_annotated:\n",
    "    family.loc[cell] = y_AE3.loc[cell]\n",
    "\n",
    "AE3 = AE3_df.T"
   ]
  },
  {
   "cell_type": "markdown",
   "metadata": {},
   "source": [
    "### Prediction on all cell, evaluate on the labeled cells"
   ]
  },
  {
   "cell_type": "code",
   "execution_count": 6,
   "metadata": {},
   "outputs": [
    {
     "name": "stdout",
     "output_type": "stream",
     "text": [
      "(1268, 620)\n"
     ]
    }
   ],
   "source": [
    "gene_optimized = np.squeeze(pd.read_csv ('../data/optimized_subsets/AE3genes_bestMIM.csv'))\n",
    "\n",
    "#Only keep the optimized genes\n",
    "AE3 = AE3[gene_optimized]\n",
    "print(AE3.shape)\n",
    "\n",
    "subset = np.ones((len(gene_optimized),))\n",
    "subsets = subsampling_genes(subset, 101, 0.25)"
   ]
  },
  {
   "cell_type": "code",
   "execution_count": 13,
   "metadata": {},
   "outputs": [
    {
     "name": "stdout",
     "output_type": "stream",
     "text": [
      "0.3651804670912951 0.984984984984985\n"
     ]
    }
   ],
   "source": [
    "model = FamiliesClusters(np.unique(family),compute_precision,True)\n",
    "pred = model.fit_predict(np.array(AE3),np.array(family))\n",
    "pred = pd.DataFrame(pred, index = family.index)\n",
    "\n",
    "#Only evaluate on annotated cells\n",
    "pred = pred.loc[cells_annotated]\n",
    "\n",
    "score = compute_precision(np.array(y_AE3), np.squeeze(np.array(pred)))\n",
    "recovery = compute_recovery(np.array(pred))\n",
    "\n",
    "print(score, recovery)"
   ]
  },
  {
   "cell_type": "code",
   "execution_count": 15,
   "metadata": {},
   "outputs": [
    {
     "name": "stdout",
     "output_type": "stream",
     "text": [
      "0.3339920948616601 0.9039039039039038\n"
     ]
    }
   ],
   "source": [
    "model = EnsemblingHierarchical(np.unique(family),compute_precision,True,subsets = subsets, ensembling='voting', threshold_voting = 0.5)\n",
    "result  = model.fit_predict(X = np.array(AE3), y= np.array(family))\n",
    "result = pd.DataFrame(result, index = family.index)\n",
    "\n",
    "#Only evaluate on annotated cells\n",
    "result = result.loc[cells_annotated]\n",
    "\n",
    "score = compute_precision(np.array(y_AE3), np.squeeze(np.array(result)))\n",
    "recovery = compute_recovery(np.array(result))\n",
    "\n",
    "print(score, recovery)"
   ]
  },
  {
   "cell_type": "code",
   "execution_count": 17,
   "metadata": {},
   "outputs": [],
   "source": [
    "#AE4\n",
    "AE4_df = pyreadr.read_r('../data/family_datasets/data_norm/AE4_scran_norm.rds')\n",
    "AE4_df = AE4_df[None]\n",
    "\n",
    "families_interest_AE4 = pyreadr.read_r('../data/family_datasets/family_interest/families_of_interest_AE4_nocellcyclesplit.RData')\n",
    "families_interest_AE4 = families_interest_AE4['fois_1']\n",
    "\n",
    "families_info_AE4 = pyreadr.read_r('../data/family_datasets/family_info/family_info_AE4_nocellcyclesplit.RData')\n",
    "families_info_AE4 = families_info_AE4['family_info_1']\n",
    "\n",
    "#Conversion into array \n",
    "families_interest_AE4 = np.array(families_interest_AE4)\n",
    "families_info_AE4 = np.array(families_info_AE4) "
   ]
  },
  {
   "cell_type": "code",
   "execution_count": 18,
   "metadata": {},
   "outputs": [],
   "source": [
    "#Norm data with only the cells belonging to the family of interest\n",
    "AE4_ano = select_family_interest_norm_data(families_info_AE4, families_interest_AE4, AE4_df)\n",
    "y_AE4 = AE4_ano[1]\n",
    "y_AE4 = y_AE4[:,0]\n",
    "y_AE4 = y_AE4.astype(np.int32)\n",
    "AE4_ano = AE4_ano[0]"
   ]
  },
  {
   "cell_type": "code",
   "execution_count": 19,
   "metadata": {},
   "outputs": [],
   "source": [
    "#Get cell.barcode of annotated cells\n",
    "cells_annotated = AE4_ano.columns\n",
    "y_AE4 = pd.DataFrame(y_AE4, index= cells_annotated)\n",
    "\n",
    "#Add family column\n",
    "family = pd.DataFrame(np.zeros((AE4_df.shape[1])), index= AE4_df.columns)\n",
    "\n",
    "for cell in cells_annotated:\n",
    "    family.loc[cell] = y_AE4.loc[cell]\n",
    "\n",
    "AE4 = AE4_df.T"
   ]
  },
  {
   "cell_type": "markdown",
   "metadata": {},
   "source": [
    "### Prediction on all cell, evaluate on the labeled cells"
   ]
  },
  {
   "cell_type": "code",
   "execution_count": 20,
   "metadata": {},
   "outputs": [
    {
     "name": "stdout",
     "output_type": "stream",
     "text": [
      "(7094, 255)\n"
     ]
    }
   ],
   "source": [
    "gene_optimized = np.squeeze(pd.read_csv ('../data/optimized_subsets/AE4genes_bestANOVA.csv'))\n",
    "\n",
    "#Only keep the optimized genes\n",
    "AE4 = AE4[gene_optimized]\n",
    "print(AE4.shape)\n",
    "\n",
    "subset = np.ones((len(gene_optimized),))\n",
    "subsets = subsampling_genes(subset, 101, 0.25)"
   ]
  },
  {
   "cell_type": "code",
   "execution_count": 21,
   "metadata": {},
   "outputs": [
    {
     "name": "stdout",
     "output_type": "stream",
     "text": [
      "0.12551561579257514 0.9850644942294636\n"
     ]
    }
   ],
   "source": [
    "model = FamiliesClusters(np.unique(family),compute_precision,True)\n",
    "pred = model.fit_predict(np.array(AE4),np.array(family))\n",
    "pred = pd.DataFrame(pred, index = family.index)\n",
    "\n",
    "#Only evaluate on annotated cells\n",
    "pred = pred.loc[cells_annotated]\n",
    "\n",
    "score = compute_precision(np.array(y_AE4), np.squeeze(np.array(pred)))\n",
    "recovery = compute_recovery(np.array(pred))\n",
    "\n",
    "print(score, recovery)"
   ]
  },
  {
   "cell_type": "code",
   "execution_count": 22,
   "metadata": {},
   "outputs": [
    {
     "name": "stdout",
     "output_type": "stream",
     "text": [
      "0.5596707818930041 0.34419551934826886\n"
     ]
    }
   ],
   "source": [
    "model = EnsemblingHierarchical(np.unique(family),compute_precision,True,subsets = subsets, ensembling='voting', threshold_voting = 0.5)\n",
    "result  = model.fit_predict(X = np.array(AE4), y= np.array(family))\n",
    "result = pd.DataFrame(result, index = family.index)\n",
    "\n",
    "#Only evaluate on annotated cells\n",
    "result = result.loc[cells_annotated]\n",
    "\n",
    "score = compute_precision(np.array(y_AE4), np.squeeze(np.array(result)))\n",
    "recovery = compute_recovery(np.array(result))\n",
    "\n",
    "print(score, recovery)"
   ]
  },
  {
   "cell_type": "markdown",
   "metadata": {},
   "source": [
    "# MEF cells (BIDDY DO, DO_2, D6, D6_2, D15, D15_2)\n",
    "Let's first load all the data containing the MEF cells, the BIDDY DO, DO_2, D6, D6_2, D15, and D15_2 datasets. Import normalized data, data families interest and data family info"
   ]
  },
  {
   "cell_type": "markdown",
   "metadata": {},
   "source": [
    "# DO"
   ]
  },
  {
   "cell_type": "code",
   "execution_count": 23,
   "metadata": {},
   "outputs": [],
   "source": [
    "#D0\n",
    "D0_df = pyreadr.read_r('../data/family_datasets/data_norm/BIDDY_D0_RPM_norm.rds')\n",
    "D0_df = D0_df[None]\n",
    "\n",
    "families_interest_D0 = pyreadr.read_r('../data/family_datasets/family_interest/families_of_interest_BIDDY_D0.RData')\n",
    "families_interest_D0 = families_interest_D0['fois_1']\n",
    "\n",
    "families_info_D0 = pyreadr.read_r('../data/family_datasets/family_info/family_info_BIDDY_D0.RData')\n",
    "families_info_D0 = families_info_D0['family_info_1']\n",
    "\n",
    "#Conversion into array \n",
    "families_interest_D0 = np.array(families_interest_D0)\n",
    "families_info_D0 = np.array(families_info_D0) "
   ]
  },
  {
   "cell_type": "code",
   "execution_count": 24,
   "metadata": {},
   "outputs": [],
   "source": [
    "#Norm data with only the cells belonging to the family of interest\n",
    "D0_ano = select_family_interest_norm_data(families_info_D0, families_interest_D0, D0_df)\n",
    "y_D0 = D0_ano[1]\n",
    "y_D0 = y_D0[:,0]\n",
    "y_D0 = y_D0.astype(np.int32)\n",
    "D0_ano = D0_ano[0]"
   ]
  },
  {
   "cell_type": "code",
   "execution_count": 25,
   "metadata": {},
   "outputs": [],
   "source": [
    "#Get cell.barcode of annotated cells\n",
    "cells_annotated = D0_ano.columns\n",
    "y_D0 = pd.DataFrame(y_D0, index= cells_annotated)\n",
    "\n",
    "#Add family column\n",
    "family = pd.DataFrame(np.zeros((D0_df.shape[1])), index= D0_df.columns)\n",
    "\n",
    "for cell in cells_annotated:\n",
    "    family.loc[cell] = y_D0.loc[cell]\n",
    "\n",
    "D0 = D0_df.T"
   ]
  },
  {
   "cell_type": "markdown",
   "metadata": {},
   "source": [
    "### Prediction on all cell, evaluate on the labeled cells"
   ]
  },
  {
   "cell_type": "code",
   "execution_count": 26,
   "metadata": {},
   "outputs": [
    {
     "name": "stdout",
     "output_type": "stream",
     "text": [
      "(2887, 2480)\n"
     ]
    }
   ],
   "source": [
    "gene_optimized = np.squeeze(pd.read_csv ('../data/optimized_subsets/D0genes_bestMIM.csv'))\n",
    "\n",
    "#Only keep the optimized genes\n",
    "D0 = D0[gene_optimized]\n",
    "print(D0.shape)\n",
    "\n",
    "subset = np.ones((len(gene_optimized),))\n",
    "subsets = subsampling_genes(subset, 101, 0.25)"
   ]
  },
  {
   "cell_type": "code",
   "execution_count": 27,
   "metadata": {},
   "outputs": [
    {
     "name": "stdout",
     "output_type": "stream",
     "text": [
      "0.4032258064516129 1.0\n"
     ]
    }
   ],
   "source": [
    "model = FamiliesClusters(np.unique(family),compute_precision,True)\n",
    "pred = model.fit_predict(np.array(D0),np.array(family))\n",
    "pred = pd.DataFrame(pred, index = family.index)\n",
    "\n",
    "#Only evaluate on annotated cells\n",
    "pred = pred.loc[cells_annotated]\n",
    "\n",
    "score = compute_precision(np.array(y_D0), np.squeeze(np.array(pred)))\n",
    "recovery = compute_recovery(np.array(pred))\n",
    "\n",
    "print(score, recovery)"
   ]
  },
  {
   "cell_type": "code",
   "execution_count": 28,
   "metadata": {},
   "outputs": [
    {
     "name": "stdout",
     "output_type": "stream",
     "text": [
      "0.037604456824512536 0.9910714285714286\n"
     ]
    }
   ],
   "source": [
    "model = EnsemblingHierarchical(np.unique(family),compute_precision,True,subsets = subsets, ensembling='voting', threshold_voting = 0.5)\n",
    "result  = model.fit_predict(X = np.array(D0), y= np.array(family))\n",
    "result = pd.DataFrame(result, index = family.index)\n",
    "\n",
    "#Only evaluate on annotated cells\n",
    "result = result.loc[cells_annotated]\n",
    "\n",
    "score = compute_precision(np.array(y_D0), np.squeeze(np.array(result)))\n",
    "recovery = compute_recovery(np.array(result))\n",
    "\n",
    "print(score, recovery)"
   ]
  },
  {
   "cell_type": "code",
   "execution_count": 29,
   "metadata": {},
   "outputs": [],
   "source": [
    "#D0\n",
    "D0_df = pyreadr.read_r('../data/family_datasets/data_norm/BIDDY_D0_2_RPM_norm.rds')\n",
    "D0_df = D0_df[None]\n",
    "\n",
    "families_interest_D0 = pyreadr.read_r('../data/family_datasets/family_interest/families_of_interest_BIDDY_D0_2.RData')\n",
    "families_interest_D0 = families_interest_D0['fois_1']\n",
    "\n",
    "families_info_D0 = pyreadr.read_r('../data/family_datasets/family_info/family_info_BIDDY_D0_2.RData')\n",
    "families_info_D0 = families_info_D0['family_info_1']\n",
    "\n",
    "#Conversion into array \n",
    "families_interest_D0 = np.array(families_interest_D0)\n",
    "families_info_D0 = np.array(families_info_D0) "
   ]
  },
  {
   "cell_type": "code",
   "execution_count": 30,
   "metadata": {},
   "outputs": [],
   "source": [
    "#Norm data with only the cells belonging to the family of interest\n",
    "D0_ano = select_family_interest_norm_data(families_info_D0, families_interest_D0, D0_df)\n",
    "y_D0 = D0_ano[1]\n",
    "y_D0 = y_D0[:,0]\n",
    "y_D0 = y_D0.astype(np.int32)\n",
    "D0_ano = D0_ano[0]"
   ]
  },
  {
   "cell_type": "code",
   "execution_count": 31,
   "metadata": {},
   "outputs": [],
   "source": [
    "#Get cell.barcode of annotated cells\n",
    "cells_annotated = D0_ano.columns\n",
    "y_D0 = pd.DataFrame(y_D0, index= cells_annotated)\n",
    "\n",
    "#Add family column\n",
    "family = pd.DataFrame(np.zeros((D0_df.shape[1])), index= D0_df.columns)\n",
    "\n",
    "for cell in cells_annotated:\n",
    "    family.loc[cell] = y_D0.loc[cell]\n",
    "\n",
    "D0 = D0_df.T"
   ]
  },
  {
   "cell_type": "markdown",
   "metadata": {},
   "source": [
    "### Prediction on all cell, evaluate on the labeled cells"
   ]
  },
  {
   "cell_type": "code",
   "execution_count": 32,
   "metadata": {},
   "outputs": [
    {
     "name": "stdout",
     "output_type": "stream",
     "text": [
      "(11457, 2480)\n"
     ]
    }
   ],
   "source": [
    "gene_optimized = np.squeeze(pd.read_csv ('../data/optimized_subsets/D0genes_bestMIM.csv'))\n",
    "\n",
    "#Only keep the optimized genes\n",
    "D0 = D0[gene_optimized]\n",
    "print(D0.shape)\n",
    "\n",
    "subset = np.ones((len(gene_optimized),))\n",
    "subsets = subsampling_genes(subset, 101, 0.25)"
   ]
  },
  {
   "cell_type": "code",
   "execution_count": 33,
   "metadata": {},
   "outputs": [
    {
     "name": "stdout",
     "output_type": "stream",
     "text": [
      "0.2857142857142857 1.0\n"
     ]
    }
   ],
   "source": [
    "model = FamiliesClusters(np.unique(family),compute_precision,True)\n",
    "pred = model.fit_predict(np.array(D0),np.array(family))\n",
    "pred = pd.DataFrame(pred, index = family.index)\n",
    "\n",
    "#Only evaluate on annotated cells\n",
    "pred = pred.loc[cells_annotated]\n",
    "\n",
    "score = compute_precision(np.array(y_D0), np.squeeze(np.array(pred)))\n",
    "recovery = compute_recovery(np.array(pred))\n",
    "\n",
    "print(score, recovery)"
   ]
  },
  {
   "cell_type": "code",
   "execution_count": null,
   "metadata": {},
   "outputs": [],
   "source": [
    "model = EnsemblingHierarchical(np.unique(family),compute_precision,True,subsets = subsets, ensembling='voting', threshold_voting = 0.5)\n",
    "result  = model.fit_predict(X = np.array(D0), y= np.array(family))\n",
    "result = pd.DataFrame(result, index = family.index)\n",
    "\n",
    "#Only evaluate on annotated cells\n",
    "result = result.loc[cells_annotated]\n",
    "\n",
    "score = compute_precision(np.array(y_D0), np.squeeze(np.array(result)))\n",
    "recovery = compute_recovery(np.array(result))\n",
    "\n",
    "print(score, recovery)"
   ]
  },
  {
   "cell_type": "markdown",
   "metadata": {},
   "source": [
    "# D6"
   ]
  },
  {
   "cell_type": "code",
   "execution_count": null,
   "metadata": {},
   "outputs": [],
   "source": [
    "#D0\n",
    "D6_df = pyreadr.read_r('../data/family_datasets/data_norm/BIDDY_D6_RPM_norm.rds')\n",
    "D6_df = D6_df[None]\n",
    "\n",
    "families_interest_D6 = pyreadr.read_r('../data/family_datasets/family_interest/families_of_interest_BIDDY_D6_V2.RData')\n",
    "families_interest_D6 = families_interest_D6['fois_1']\n",
    "\n",
    "families_info_D6 = pyreadr.read_r('../data/family_datasets/family_info/family_info_BIDDY_D6_V2.RData')\n",
    "families_info_D6 = families_info_D6['family_info_1']\n",
    "\n",
    "#Conversion into array \n",
    "families_interest_D6 = np.array(families_interest_D6)\n",
    "families_info_D6 = np.array(families_info_D6) "
   ]
  },
  {
   "cell_type": "code",
   "execution_count": null,
   "metadata": {},
   "outputs": [],
   "source": [
    "#Norm data with only the cells belonging to the family of interest\n",
    "D6_ano = select_family_interest_norm_data(families_info_D6, families_interest_D6, D6_df)\n",
    "y_D6 = D6_ano[1]\n",
    "y_D6 = y_D6[:,0]\n",
    "y_D6 = y_D6.astype(np.int32)\n",
    "D6_ano = D6_ano[0]"
   ]
  },
  {
   "cell_type": "code",
   "execution_count": null,
   "metadata": {},
   "outputs": [],
   "source": [
    "#Get cell.barcode of annotated cells\n",
    "cells_annotated = D6_ano.columns\n",
    "y_D6 = pd.DataFrame(y_D6, index= cells_annotated)\n",
    "\n",
    "#Add family column\n",
    "family = pd.DataFrame(np.zeros((D6_df.shape[1])), index= D6_df.columns)\n",
    "\n",
    "for cell in cells_annotated:\n",
    "    family.loc[cell] = y_D6.loc[cell]\n",
    "\n",
    "D6 = D6_df.T"
   ]
  },
  {
   "cell_type": "markdown",
   "metadata": {},
   "source": [
    "### Prediction on all cell, evaluate on the labeled cells"
   ]
  },
  {
   "cell_type": "code",
   "execution_count": null,
   "metadata": {},
   "outputs": [],
   "source": [
    "gene_optimized = np.squeeze(pd.read_csv ('../data/optimized_subsets/D6genes_bestANOVA.csv'))\n",
    "\n",
    "#Only keep the optimized genes\n",
    "D6 = D6[gene_optimized]\n",
    "print(D6.shape)\n",
    "\n",
    "subset = np.ones((len(gene_optimized),))\n",
    "subsets = subsampling_genes(subset, 101, 0.25)"
   ]
  },
  {
   "cell_type": "code",
   "execution_count": null,
   "metadata": {},
   "outputs": [],
   "source": [
    "model = FamiliesClusters(np.unique(family),compute_precision,True)\n",
    "pred = model.fit_predict(np.array(D6),np.array(family))\n",
    "pred = pd.DataFrame(pred, index = family.index)\n",
    "\n",
    "#Only evaluate on annotated cells\n",
    "pred = pred.loc[cells_annotated]\n",
    "\n",
    "score = compute_precision(np.array(y_D6), np.squeeze(np.array(pred)))\n",
    "recovery = compute_recovery(np.array(pred))\n",
    "\n",
    "print(score, recovery)"
   ]
  },
  {
   "cell_type": "code",
   "execution_count": null,
   "metadata": {},
   "outputs": [],
   "source": [
    "model = EnsemblingHierarchical(np.unique(family),compute_precision,True,subsets = subsets, ensembling='voting', threshold_voting = 0.5)\n",
    "result  = model.fit_predict(X = np.array(D6), y= np.array(family))\n",
    "result = pd.DataFrame(result, index = family.index)\n",
    "\n",
    "#Only evaluate on annotated cells\n",
    "result = result.loc[cells_annotated]\n",
    "\n",
    "score = compute_precision(np.array(y_D6), np.squeeze(np.array(result)))\n",
    "recovery = compute_recovery(np.array(result))\n",
    "\n",
    "print(score, recovery)"
   ]
  },
  {
   "cell_type": "code",
   "execution_count": null,
   "metadata": {},
   "outputs": [],
   "source": [
    "#D6\n",
    "D6_df = pyreadr.read_r('../data/family_datasets/data_norm/BIDDY_D6_2_RPM_norm.rds')\n",
    "D6_df = D6_df[None]\n",
    "\n",
    "families_interest_D6 = pyreadr.read_r('../data/family_datasets/family_interest/families_of_interest_BIDDY_D6_2.RData')\n",
    "families_interest_D6 = families_interest_D6['fois_1']\n",
    "\n",
    "families_info_D6 = pyreadr.read_r('../data/family_datasets/family_info/family_info_BIDDY_D6_2.RData')\n",
    "families_info_D6 = families_info_D6['family_info_1']\n",
    "\n",
    "#Conversion into array \n",
    "families_interest_D6 = np.array(families_interest_D6)\n",
    "families_info_D6 = np.array(families_info_D6) "
   ]
  },
  {
   "cell_type": "code",
   "execution_count": null,
   "metadata": {},
   "outputs": [],
   "source": [
    "#Norm data with only the cells belonging to the family of interest\n",
    "D6_ano = select_family_interest_norm_data(families_info_D6, families_interest_D6, D6_df)\n",
    "y_D6 = D6_ano[1]\n",
    "y_D6 = y_D6[:,0]\n",
    "y_D6 = y_D6.astype(np.int32)\n",
    "D6_ano = D6_ano[0]"
   ]
  },
  {
   "cell_type": "code",
   "execution_count": null,
   "metadata": {},
   "outputs": [],
   "source": [
    "#Get cell.barcode of annotated cells\n",
    "cells_annotated = D6_ano.columns\n",
    "y_D6 = pd.DataFrame(y_D6, index= cells_annotated)\n",
    "\n",
    "#Add family column\n",
    "family = pd.DataFrame(np.zeros((D6_df.shape[1])), index= D6_df.columns)\n",
    "\n",
    "for cell in cells_annotated:\n",
    "    family.loc[cell] = y_D6.loc[cell]\n",
    "\n",
    "D6 = D6_df.T"
   ]
  },
  {
   "cell_type": "markdown",
   "metadata": {},
   "source": [
    "### Prediction on all cell, evaluate on the labeled cells"
   ]
  },
  {
   "cell_type": "code",
   "execution_count": null,
   "metadata": {},
   "outputs": [],
   "source": [
    "gene_optimized = np.squeeze(pd.read_csv ('../data/optimized_subsets/D6genes_bestANOVA.csv'))\n",
    "\n",
    "#Only keep the optimized genes\n",
    "D6 = D6[gene_optimized]\n",
    "print(D6.shape)\n",
    "\n",
    "subset = np.ones((len(gene_optimized),))\n",
    "subsets = subsampling_genes(subset, 101, 0.25)"
   ]
  },
  {
   "cell_type": "code",
   "execution_count": null,
   "metadata": {},
   "outputs": [],
   "source": [
    "model = FamiliesClusters(np.unique(family),compute_precision,True)\n",
    "pred = model.fit_predict(np.array(D6),np.array(family))\n",
    "pred = pd.DataFrame(pred, index = family.index)\n",
    "\n",
    "#Only evaluate on annotated cells\n",
    "pred = pred.loc[cells_annotated]\n",
    "\n",
    "score = compute_precision(np.array(y_D6), np.squeeze(np.array(pred)))\n",
    "recovery = compute_recovery(np.array(pred))\n",
    "\n",
    "print(score, recovery)"
   ]
  },
  {
   "cell_type": "code",
   "execution_count": null,
   "metadata": {},
   "outputs": [],
   "source": [
    "model = EnsemblingHierarchical(np.unique(family),compute_precision,True,subsets = subsets, ensembling='voting', threshold_voting = 0.5)\n",
    "result  = model.fit_predict(X = np.array(D6), y= np.array(family))\n",
    "result = pd.DataFrame(result, index = family.index)\n",
    "\n",
    "#Only evaluate on annotated cells\n",
    "result = result.loc[cells_annotated]\n",
    "\n",
    "score = compute_precision(np.array(y_D6), np.squeeze(np.array(result)))\n",
    "recovery = compute_recovery(np.array(result))\n",
    "\n",
    "print(score, recovery)"
   ]
  },
  {
   "cell_type": "markdown",
   "metadata": {},
   "source": [
    "# D15"
   ]
  },
  {
   "cell_type": "code",
   "execution_count": null,
   "metadata": {},
   "outputs": [],
   "source": [
    "#D15\n",
    "D15_df = pyreadr.read_r('../data/family_datasets/data_norm/BIDDY_D15_RPM_norm.rds')\n",
    "D15_df = D15_df[None]\n",
    "\n",
    "families_interest_D15 = pyreadr.read_r('../data/family_datasets/family_interest/families_of_interest_BIDDY_D15_V3.RData')\n",
    "families_interest_D15 = families_interest_D15['fois_1']\n",
    "\n",
    "families_info_D15 = pyreadr.read_r('../data/family_datasets/family_info/family_info_BIDDY_D15_V3.RData')\n",
    "families_info_D15 = families_info_D15['family_info_1']\n",
    "\n",
    "#Conversion into array \n",
    "families_interest_D15 = np.array(families_interest_D15)\n",
    "families_info_D15 = np.array(families_info_D15) "
   ]
  },
  {
   "cell_type": "code",
   "execution_count": null,
   "metadata": {},
   "outputs": [],
   "source": [
    "#Norm data with only the cells belonging to the family of interest\n",
    "D15_ano = select_family_interest_norm_data(families_info_D15, families_interest_D15, D15_df)\n",
    "y_D15 = D15_ano[1]\n",
    "y_D15 = y_D15[:,0]\n",
    "y_D15 = y_D15.astype(np.int32)\n",
    "D15_ano = D15_ano[0]"
   ]
  },
  {
   "cell_type": "code",
   "execution_count": null,
   "metadata": {},
   "outputs": [],
   "source": [
    "#Get cell.barcode of annotated cells\n",
    "cells_annotated = D15_ano.columns\n",
    "y_D15 = pd.DataFrame(y_D15, index= cells_annotated)\n",
    "\n",
    "#Add family column\n",
    "family = pd.DataFrame(np.zeros((D15_df.shape[1])), index= D15_df.columns)\n",
    "\n",
    "for cell in cells_annotated:\n",
    "    family.loc[cell] = y_D15.loc[cell]\n",
    "\n",
    "D15 = D15_df.T"
   ]
  },
  {
   "cell_type": "markdown",
   "metadata": {},
   "source": [
    "### Prediction on all cell, evaluate on the labeled cells"
   ]
  },
  {
   "cell_type": "code",
   "execution_count": null,
   "metadata": {},
   "outputs": [],
   "source": [
    "gene_optimized = np.squeeze(pd.read_csv ('../data/optimized_subsets/D15genes_bestANOVA.csv'))\n",
    "\n",
    "#Only keep the optimized genes\n",
    "D15 = D15[gene_optimized]\n",
    "print(D15.shape)\n",
    "\n",
    "subset = np.ones((len(gene_optimized),))\n",
    "subsets = subsampling_genes(subset, 101, 0.25)"
   ]
  },
  {
   "cell_type": "code",
   "execution_count": null,
   "metadata": {},
   "outputs": [],
   "source": [
    "model = FamiliesClusters(np.unique(family),compute_precision,True)\n",
    "pred = model.fit_predict(np.array(D15),np.array(family))\n",
    "pred = pd.DataFrame(pred, index = family.index)\n",
    "\n",
    "#Only evaluate on annotated cells\n",
    "pred = pred.loc[cells_annotated]\n",
    "\n",
    "score = compute_precision(np.array(y_D15), np.squeeze(np.array(pred)))\n",
    "recovery = compute_recovery(np.array(pred))\n",
    "\n",
    "print(score, recovery)"
   ]
  },
  {
   "cell_type": "code",
   "execution_count": null,
   "metadata": {},
   "outputs": [],
   "source": [
    "model = EnsemblingHierarchical(np.unique(family),compute_precision,True,subsets = subsets, ensembling='voting', threshold_voting = 0.5)\n",
    "result  = model.fit_predict(X = np.array(D15), y= np.array(family))\n",
    "result = pd.DataFrame(result, index = family.index)\n",
    "\n",
    "#Only evaluate on annotated cells\n",
    "result = result.loc[cells_annotated]\n",
    "\n",
    "score = compute_precision(np.array(y_D15), np.squeeze(np.array(result)))\n",
    "recovery = compute_recovery(np.array(result))\n",
    "\n",
    "print(score, recovery)"
   ]
  },
  {
   "cell_type": "code",
   "execution_count": null,
   "metadata": {},
   "outputs": [],
   "source": [
    "#D15\n",
    "D15_df = pyreadr.read_r('../data/family_datasets/data_norm/BIDDY_D15_2_RPM_norm.rds')\n",
    "D15_df = D15_df[None]\n",
    "\n",
    "families_interest_D15 = pyreadr.read_r('../data/family_datasets/family_interest/families_of_interest_BIDDY_D15_2.RData')\n",
    "families_interest_D15 = families_interest_D15['fois_1']\n",
    "\n",
    "families_info_D15 = pyreadr.read_r('../data/family_datasets/family_info/family_info_BIDDY_D15_2.RData')\n",
    "families_info_D15 = families_info_D15['family_info_1']\n",
    "\n",
    "#Conversion into array \n",
    "families_interest_D15 = np.array(families_interest_D15)\n",
    "families_info_D15 = np.array(families_info_D15) "
   ]
  },
  {
   "cell_type": "code",
   "execution_count": null,
   "metadata": {},
   "outputs": [],
   "source": [
    "#Norm data with only the cells belonging to the family of interest\n",
    "D15_ano = select_family_interest_norm_data(families_info_D15, families_interest_D15, D15_df)\n",
    "y_D15 = D15_ano[1]\n",
    "y_D15 = y_D15[:,0]\n",
    "y_D15 = y_D15.astype(np.int32)\n",
    "D15_ano = D15_ano[0]"
   ]
  },
  {
   "cell_type": "code",
   "execution_count": null,
   "metadata": {},
   "outputs": [],
   "source": [
    "#Get cell.barcode of annotated cells\n",
    "cells_annotated = D15_ano.columns\n",
    "y_D15 = pd.DataFrame(y_D15, index= cells_annotated)\n",
    "\n",
    "#Add family column\n",
    "family = pd.DataFrame(np.zeros((D15_df.shape[1])), index= D15_df.columns)\n",
    "\n",
    "for cell in cells_annotated:\n",
    "    family.loc[cell] = y_D15.loc[cell]\n",
    "\n",
    "D15 = D15_df.T"
   ]
  },
  {
   "cell_type": "markdown",
   "metadata": {},
   "source": [
    "### Prediction on all cell, evaluate on the labeled cells"
   ]
  },
  {
   "cell_type": "code",
   "execution_count": null,
   "metadata": {},
   "outputs": [],
   "source": [
    "gene_optimized = np.squeeze(pd.read_csv ('../data/optimized_subsets/D15genes_bestANOVA.csv'))\n",
    "\n",
    "#Only keep the optimized genes\n",
    "D15 = D15[gene_optimized]\n",
    "print(D15.shape)\n",
    "\n",
    "subset = np.ones((len(gene_optimized),))\n",
    "subsets = subsampling_genes(subset, 101, 0.25)"
   ]
  },
  {
   "cell_type": "code",
   "execution_count": null,
   "metadata": {},
   "outputs": [],
   "source": [
    "model = FamiliesClusters(np.unique(family),compute_precision,True)\n",
    "pred = model.fit_predict(np.array(D15),np.array(family))\n",
    "pred = pd.DataFrame(pred, index = family.index)\n",
    "\n",
    "#Only evaluate on annotated cells\n",
    "pred = pred.loc[cells_annotated]\n",
    "\n",
    "score = compute_precision(np.array(y_D15), np.squeeze(np.array(pred)))\n",
    "recovery = compute_recovery(np.array(pred))\n",
    "\n",
    "print(score, recovery)"
   ]
  },
  {
   "cell_type": "code",
   "execution_count": null,
   "metadata": {},
   "outputs": [],
   "source": [
    "model = EnsemblingHierarchical(np.unique(family),compute_precision,True,subsets = subsets, ensembling='voting', threshold_voting = 0.5)\n",
    "result  = model.fit_predict(X = np.array(D15), y= np.array(family))\n",
    "result = pd.DataFrame(result, index = family.index)\n",
    "\n",
    "#Only evaluate on annotated cells\n",
    "result = result.loc[cells_annotated]\n",
    "\n",
    "score = compute_precision(np.array(y_D15), np.squeeze(np.array(result)))\n",
    "recovery = compute_recovery(np.array(result))\n",
    "\n",
    "print(score, recovery)"
   ]
  },
  {
   "cell_type": "markdown",
   "metadata": {},
   "source": [
    "# LK and LSK cells: Weinreb data"
   ]
  },
  {
   "cell_type": "markdown",
   "metadata": {},
   "source": [
    "# LK cells:"
   ]
  },
  {
   "cell_type": "code",
   "execution_count": 2,
   "metadata": {},
   "outputs": [],
   "source": [
    "#LK\n",
    "LK_scran_df = pd.read_csv ('../data/family_datasets/data_norm/Weinreb_LK_D2_exp1_norm_lifted.csv')\n",
    "LK_scran_df = LK_scran_df.set_index('Unnamed: 0')     #transform 'Unnamed: 0' column into row label\n",
    "LK_scran_df = LK_scran_df.rename_axis(None)#change 'Unnamed: 0' row label into none\n",
    "\n",
    "\n",
    "data_families_interest_LK = pyreadr.read_r('../data/family_datasets/family_interest/families_of_interest_Weinreb_LK_D2_exp1.RData')\n",
    "data_families_interest_LK = data_families_interest_LK['fois_1']\n",
    "\n",
    "\n",
    "data_families_info_LK = pyreadr.read_r('../data/family_datasets/family_info/family_info_Weinreb_LK_D2_exp1.RData')\n",
    "data_families_info_LK = data_families_info_LK['WORK_clones']\n",
    "\n",
    "# conversion into array \n",
    "LK_scran = np.array(LK_scran_df)\n",
    "data_families_interest_LK = np.array(data_families_interest_LK)\n",
    "data_families_info_LK = np.array(data_families_info_LK)  \n",
    "\n",
    "data_families_info_LK[:,0] = data_families_info_LK[:,0].astype(int)"
   ]
  },
  {
   "cell_type": "code",
   "execution_count": 3,
   "metadata": {},
   "outputs": [
    {
     "name": "stdout",
     "output_type": "stream",
     "text": [
      "(25289, 531)\n"
     ]
    }
   ],
   "source": [
    "#Norm data with only the cells belonging to the family of interest\n",
    "LK_scran_df = select_family_interest_norm_data(data_families_info_LK, data_families_interest_LK, LK_scran_df)\n",
    "y_LK = LK_scran_df[1]\n",
    "y_LK = y_LK[:,0]\n",
    "y_LK = y_LK.astype(np.int32)\n",
    "LK_scran_df = LK_scran_df[0]\n",
    "\n",
    "LK = np.array(LK_scran_df)\n",
    "print(np.shape(LK))"
   ]
  },
  {
   "cell_type": "code",
   "execution_count": 4,
   "metadata": {},
   "outputs": [],
   "source": [
    "#LK2\n",
    "LK2_scran_df = pd.read_csv('../data/family_datasets/data_norm/Weinreb_LK_D2_exp2_norm_lifted.csv')\n",
    "LK2_scran_df = LK2_scran_df.set_index('Unnamed: 0')     #transform 'Unnamed: 0' column into row label\n",
    "LK2_scran_df = LK2_scran_df.rename_axis(None)#change 'Unnamed: 0' row label into none\n",
    "\n",
    "#Remove genes with non-defined values and genes with only 0\n",
    "#nan_genes = LK2_scran_df.any(axis=1)\n",
    "#LK2_scran_df = LK2_scran_df[nan_genes]\n",
    "\n",
    "data_families_interest_LK2 = pyreadr.read_r('../data/family_datasets/family_interest/families_of_interest_Weinreb_LK_D2_exp2.RData')\n",
    "data_families_interest_LK2 = data_families_interest_LK2['fois_1']\n",
    "\n",
    "data_families_info_LK2 = pyreadr.read_r('../data/family_datasets/family_info/family_info_Weinreb_LK_D2_exp2.RData')\n",
    "data_families_info_LK2 = data_families_info_LK2['WORK_clones']\n",
    "\n",
    "# conversion into array \n",
    "LK2_scran = np.array(LK2_scran_df)\n",
    "data_families_interest_LK2 = np.array(data_families_interest_LK2)\n",
    "data_families_info_LK2 = np.array(data_families_info_LK2) \n",
    "data_families_info_LK2[:,0] = data_families_info_LK2[:,0].astype(int)"
   ]
  },
  {
   "cell_type": "code",
   "execution_count": 5,
   "metadata": {},
   "outputs": [
    {
     "name": "stdout",
     "output_type": "stream",
     "text": [
      "(25289, 79)\n"
     ]
    }
   ],
   "source": [
    "#Norm data with only the cells belonging to the family of interest\n",
    "LK2_scran_df = select_family_interest_norm_data(data_families_info_LK2, data_families_interest_LK2, LK2_scran_df)\n",
    "y_LK2 = LK2_scran_df[1]\n",
    "y_LK2 = y_LK2[:,0]\n",
    "y_LK2 = y_LK2.astype(np.int32)\n",
    "LK2_scran_df = LK2_scran_df[0]\n",
    "\n",
    "LK2 = np.array(LK2_scran_df)\n",
    "print(np.shape(LK2))"
   ]
  },
  {
   "cell_type": "code",
   "execution_count": 6,
   "metadata": {},
   "outputs": [],
   "source": [
    "#Fuse LK normalized data\n",
    "LK_df = pd.concat([LK_scran_df, LK2_scran_df], axis=1)\n",
    "\n",
    "#Remove genes with non-defined values and genes with only 0\n",
    "nan_genes = LK_df.any(axis=1)\n",
    "LK_df = LK_df[nan_genes]\n",
    "\n",
    "#Fuse families info\n",
    "y_LK2 += max(y_LK) #Add the max indice of families in first dataset so that there is no overlap between families indices.\n",
    "y_LK_fuse = np.hstack((y_LK, y_LK2))"
   ]
  },
  {
   "cell_type": "code",
   "execution_count": 7,
   "metadata": {},
   "outputs": [],
   "source": [
    "#Remove all genes that are not expressed in at least percentage (default 50%) of the LK cells\n",
    "gene_expressed = filter_norm_data(LK_df,0.05)\n",
    "LK_df = LK_df[gene_expressed]\n",
    "\n",
    "#Store the name of genes of interest\n",
    "genes_interest = LK_df.index.values #get name of genes\n",
    "genes_interest = pd.DataFrame(genes_interest)\n",
    "genes_interest.to_csv('../data/processed_data/LKgenes_interest.csv', index=False)\n",
    "\n",
    "#Convert into array\n",
    "LK = np.array(LK_df)\n",
    "\n",
    "#Create preprocess data \n",
    "LKcsv = np.c_[LK.T,y_LK_fuse]\n",
    "LKcsv = pd.DataFrame(LKcsv)\n",
    "LKcsv.to_csv('../data/processed_data/LK.csv', index=False)"
   ]
  },
  {
   "cell_type": "markdown",
   "metadata": {},
   "source": [
    "# LSK cells:"
   ]
  },
  {
   "cell_type": "code",
   "execution_count": 3,
   "metadata": {},
   "outputs": [],
   "source": [
    "#LSK\n",
    "LSK_scran_df = pd.read_csv('../data/family_datasets/data_norm/Weinreb_LSK_D2_exp1_norm_lifted.csv')\n",
    "LSK_scran_df = LSK_scran_df.set_index('Unnamed: 0')     #transform 'Unnamed: 0' column into row label\n",
    "LSK_scran_df = LSK_scran_df.rename_axis(None)#change 'Unnamed: 0' row label into none\n",
    "\n",
    "\n",
    "data_families_interest_LSK = pyreadr.read_r('../data/family_datasets/family_interest/families_of_interest_Weinreb_LSK_D2_exp1.RData')\n",
    "data_families_interest_LSK = data_families_interest_LSK['fois_1']\n",
    "\n",
    "data_families_info_LSK = pyreadr.read_r('../data/family_datasets/family_info/family_info_Weinreb_LSK_D2_exp1.RData')\n",
    "data_families_info_LSK = data_families_info_LSK['WORK_clones']\n",
    "\n",
    "# conversion into array \n",
    "LSK_scran = np.array(LSK_scran_df)\n",
    "data_families_interest_LSK = np.array(data_families_interest_LSK)\n",
    "data_families_info_LSK = np.array(data_families_info_LSK)  \n",
    "data_families_info_LSK[:,0] = data_families_info_LSK[:,0].astype(int)"
   ]
  },
  {
   "cell_type": "code",
   "execution_count": 4,
   "metadata": {},
   "outputs": [
    {
     "name": "stdout",
     "output_type": "stream",
     "text": [
      "(25289, 781)\n"
     ]
    }
   ],
   "source": [
    "#Norm data with only the cells belonging to the family of interest\n",
    "LSK_scran_df = select_family_interest_norm_data(data_families_info_LSK, data_families_interest_LSK, LSK_scran_df)\n",
    "y_LSK = LSK_scran_df[1]\n",
    "y_LSK = y_LSK[:,0]\n",
    "y_LSK = y_LSK.astype(np.int32)\n",
    "LSK_scran_df = LSK_scran_df[0]\n",
    "\n",
    "LSK = np.array(LSK_scran_df)\n",
    "print(np.shape(LSK))"
   ]
  },
  {
   "cell_type": "code",
   "execution_count": null,
   "metadata": {},
   "outputs": [],
   "source": [
    "#LSK2\n",
    "LSK2_scran_df = pd.read_csv('../data/family_datasets/data_norm/Weinreb_LSK_D2_exp2_norm_lifted.csv')\n",
    "LSK2_scran_df = LSK2_scran_df.set_index('Unnamed: 0')     #transform 'Unnamed: 0' column into row label\n",
    "LSK2_scran_df = LSK2_scran_df.rename_axis(None)#change 'Unnamed: 0' row label into none\n",
    "\n",
    "data_families_interest_LSK2 = pyreadr.read_r('../data/family_datasets/family_interest/families_of_interest_Weinreb_LSK_D2_exp2.RData')\n",
    "data_families_interest_LSK2= data_families_interest_LSK2['fois_1']\n",
    "\n",
    "data_families_info_LSK2 = pyreadr.read_r('../data/family_datasets/family_info/family_info_Weinreb_LSK_D2_exp2.RData')\n",
    "data_families_info_LSK2 = data_families_info_LSK2['WORK_clones']\n",
    "\n",
    "# conversion into array \n",
    "LSK2_scran = np.array(LSK2_scran_df)\n",
    "data_families_interest_LSK2 = np.array(data_families_interest_LSK2)\n",
    "data_families_info_LSK2 = np.array(data_families_info_LSK2)  \n",
    "data_families_info_LSK2[:,0] = data_families_info_LSK2[:,0].astype(int)"
   ]
  },
  {
   "cell_type": "code",
   "execution_count": null,
   "metadata": {},
   "outputs": [],
   "source": [
    "#Norm data with only the cells belonging to the family of interest\n",
    "LSK2_scran_df = select_family_interest_norm_data(data_families_info_LSK2, data_families_interest_LSK2, LSK2_scran_df)\n",
    "y_LSK2 = LSK2_scran_df[1]\n",
    "y_LSK2 = y_LSK2[:,0]\n",
    "y_LSK2 = y_LSK2.astype(np.int32)\n",
    "LSK2_scran_df = LSK2_scran_df[0]\n",
    "\n",
    "LSK2 = np.array(LSK2_scran_df)\n",
    "print(np.shape(LSK2))"
   ]
  },
  {
   "cell_type": "code",
   "execution_count": null,
   "metadata": {},
   "outputs": [],
   "source": [
    "#Fuse LK normalized data\n",
    "LSK_df = pd.concat([LSK_scran_df, LSK2_scran_df], axis=1)\n",
    "\n",
    "#Remove genes with non-defined values and genes with only 0\n",
    "nan_genes = LSK_scran_df.any(axis=1)\n",
    "LSK_scran_df = LSK_scran_df[nan_genes]\n",
    "\n",
    "#Fuse families info\n",
    "y_LSK2 += max(y_LSK) #Add the max indice of families in first dataset so that there is no overlap between families indices.\n",
    "y_LSK_fuse = np.hstack((y_LSK, y_LSK2))"
   ]
  },
  {
   "cell_type": "code",
   "execution_count": null,
   "metadata": {},
   "outputs": [],
   "source": [
    "#Remove all genes that are not expressed in at least percentage (default 50%) of the LSK cells\n",
    "gene_expressed = filter_norm_data(LSK_df,0.05)\n",
    "LSK_df = LSK_df[gene_expressed]\n",
    "\n",
    "#Store the name of genes of interest\n",
    "genes_interest = LSK_df.index.values #get name of genes\n",
    "genes_interest = pd.DataFrame(genes_interest)\n",
    "genes_interest.to_csv('../data/processed_data/LSKgenes_interest.csv', index=False)\n",
    "\n",
    "#Convert into array\n",
    "LSK = np.array(LSK_df)\n",
    "\n",
    "#Create preprocess data \n",
    "LSKcsv = np.c_[LSK.T,y_LSK_fuse]\n",
    "LSKcsv = pd.DataFrame(LSKcsv)\n",
    "LSKcsv.to_csv('../data/processed_data/LSK.csv', index=False)"
   ]
  },
  {
   "cell_type": "code",
   "execution_count": null,
   "metadata": {},
   "outputs": [],
   "source": [
    "print(LSKcsv.shape)"
   ]
  },
  {
   "cell_type": "markdown",
   "metadata": {},
   "source": [
    "# LK_LSKmix cells:"
   ]
  },
  {
   "cell_type": "code",
   "execution_count": 35,
   "metadata": {},
   "outputs": [],
   "source": [
    "#LSK-LK mix\n",
    "LSKmix_scran_df = pd.read_csv('../data/family_datasets/data_norm/Weinreb_LK_LSK_D2_exp3_norm_lifted.csv')\n",
    "LSKmix_scran_df = LSKmix_scran_df.set_index('Unnamed: 0')     #transform 'Unnamed: 0' column into row label\n",
    "LSKmix_scran_df = LSKmix_scran_df.rename_axis(None)#change 'Unnamed: 0' row label into none\n",
    "\n",
    "#Remove genes with non-defined values and genes with only 0\n",
    "nan_genes = LSKmix_scran_df.any(axis=1)\n",
    "LSKmix_scran_df = LSKmix_scran_df[nan_genes]\n",
    "\n",
    "data_families_interest_LSKmix = pyreadr.read_r('../data/family_datasets/family_interest/families_of_interest_Weinreb_LK_LSK_D2_exp3.RData')\n",
    "data_families_interest_LSKmix = data_families_interest_LSKmix['fois_1']\n",
    "\n",
    "data_families_info_LSKmix = pyreadr.read_r('../data/family_datasets/family_info/family_info_Weinreb_LK_LSK_D2_exp3.RData')\n",
    "data_families_info_LSKmix = data_families_info_LSKmix['WORK_clones']\n",
    "\n",
    "# conversion into array \n",
    "LSKmix_scran = np.array(LSKmix_scran_df)\n",
    "data_families_interest_LSKmix = np.array(data_families_interest_LSKmix)\n",
    "data_families_info_LSKmix = np.array(data_families_info_LSKmix)  \n",
    "data_families_info_LSKmix[:,0] = data_families_info_LSKmix[:,0].astype(int)"
   ]
  },
  {
   "cell_type": "code",
   "execution_count": 36,
   "metadata": {},
   "outputs": [
    {
     "name": "stdout",
     "output_type": "stream",
     "text": [
      "(23461, 1023)\n"
     ]
    }
   ],
   "source": [
    "#Norm data with only the cells belonging to the family of interest\n",
    "LSKmix_scran_df = select_family_interest_norm_data(data_families_info_LSKmix, data_families_interest_LSKmix, LSKmix_scran_df)\n",
    "y_LSKmix = LSKmix_scran_df[1]\n",
    "y_LSKmix = y_LSKmix[:,0]\n",
    "y_LSKmix = y_LSKmix.astype(np.int32)\n",
    "LSKmix_scran_df = LSKmix_scran_df[0]\n",
    "\n",
    "LSKmix = np.array(LSKmix_scran_df)\n",
    "print(np.shape(LSKmix))"
   ]
  },
  {
   "cell_type": "code",
   "execution_count": 37,
   "metadata": {},
   "outputs": [],
   "source": [
    "#Remove all genes that are not expressed in at least percentage (default 50%) of the LSKmix cells\n",
    "gene_expressed = filter_norm_data(LSKmix_scran_df,0.05)\n",
    "LSKmix_scran_df = LSKmix_scran_df[gene_expressed]\n",
    "\n",
    "#Store the name of genes of interest\n",
    "genes_interest = LSKmix_scran_df.index.values #get name of genes\n",
    "genes_interest = pd.DataFrame(genes_interest)\n",
    "genes_interest.to_csv('../data/processed_data/LSKmixgenes_interest.csv', index=False)\n",
    "\n",
    "#Convert into array\n",
    "LSKmix = np.array(LSKmix_scran_df)\n",
    "\n",
    "#Create preprocess data \n",
    "LSKmixcsv = np.c_[LSKmix.T,y_LSKmix]\n",
    "LSKmixcsv = pd.DataFrame(LSKmixcsv)\n",
    "LSKmixcsv.to_csv('../data/processed_data/LSKmix.csv', index=False)"
   ]
  },
  {
   "cell_type": "code",
   "execution_count": null,
   "metadata": {},
   "outputs": [],
   "source": []
  }
 ],
 "metadata": {
  "kernelspec": {
   "display_name": "Python 3 (ipykernel)",
   "language": "python",
   "name": "python3"
  },
  "language_info": {
   "codemirror_mode": {
    "name": "ipython",
    "version": 3
   },
   "file_extension": ".py",
   "mimetype": "text/x-python",
   "name": "python",
   "nbconvert_exporter": "python",
   "pygments_lexer": "ipython3",
   "version": "3.9.7"
  }
 },
 "nbformat": 4,
 "nbformat_minor": 4
}
