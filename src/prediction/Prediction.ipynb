{
 "cells": [
  {
   "cell_type": "code",
   "execution_count": 1,
   "id": "fb0a1dbb",
   "metadata": {},
   "outputs": [
    {
     "name": "stdout",
     "output_type": "stream",
     "text": [
      "C:\\Users\\alexi\\Desktop\\Memory_genes\\src\n"
     ]
    }
   ],
   "source": [
    "%cd \"../\"\n",
    "%pwd\n",
    "\n",
    "\n",
    "import numpy as np\n",
    "import pandas as pd\n",
    "import matplotlib.pyplot as plt\n",
    "import sklearn\n",
    "import math \n",
    "import random\n",
    "from pred_score import *\n",
    "from load_data import read_memory_genes"
   ]
  },
  {
   "cell_type": "code",
   "execution_count": 2,
   "id": "2bbb796e",
   "metadata": {},
   "outputs": [],
   "source": [
    "#Fixing seed to get reproducible results\n",
    "random.seed(3)\n",
    "np.random.seed(3)"
   ]
  },
  {
   "cell_type": "markdown",
   "id": "866ec630-9bf1-4e34-9576-306a4bc89ebf",
   "metadata": {},
   "source": [
    "# Get memory genes "
   ]
  },
  {
   "cell_type": "code",
   "execution_count": 6,
   "id": "72c2b055-81f6-44af-847e-1be3e3f6c696",
   "metadata": {},
   "outputs": [],
   "source": [
    "names = ['CD8', 'L1210', 'LK_D2_exp1_library_d2_1', 'LK_D2_exp1_library_d2_2', 'LK_D2_exp1_library_d2_3', 'LK_LSK_D2_exp3_library_d2_1', 'LK_LSK_D2_exp3_library_d2_2', 'LK_LSK_D2_exp3_library_d2_3', 'LK_LSK_D2_exp3_library_d2_4', 'LK_LSK_D2_exp3_library_d2_5', 'LSK_D2_exp1_library_LSK_d2_1', 'LSK_D2_exp1_library_LSK_d2_2', 'LSK_D2_exp1_library_LSK_d2_3', 'LSK_D2_exp2_library_d2A_1', 'LSK_D2_exp2_library_d2A_2', 'LSK_D2_exp2_library_d2A_3' , 'LSK_D2_exp2_library_d2A_4', 'LSK_D2_exp2_library_d2A_5', 'LSK_D2_exp2_library_d2B_1','LSK_D2_exp2_library_d2B_2', 'LSK_D2_exp2_library_d2B_3', 'LSK_D2_exp2_library_d2B_4', 'LSK_D2_exp2_library_d2B_5', \n",
    "         'LK_LSK_D2_exp3_library_d2_1', 'LK_LSK_D2_exp3_library_d2_2','LK_LSK_D2_exp3_library_d2_3', 'LK_LSK_D2_exp3_library_d2_4', 'LK_LSK_D2_exp3_library_d2_5']\n",
    "\n",
    "for name in names:\n",
    "    memory_genes = read_memory_genes('../data/data_master/P_value_estimate_CV2_ofmeans_' + name + '.txt')\n",
    "    pd.DataFrame(memory_genes).to_csv('../data/CV2genes/' + name + '_CV2mean.csv')"
   ]
  },
  {
   "cell_type": "markdown",
   "id": "cc325bc5-73f4-4530-9a46-0e4f7d7832f3",
   "metadata": {},
   "source": [
    "# Investigate overlap between sets"
   ]
  },
  {
   "cell_type": "code",
   "execution_count": 53,
   "id": "fd2a0cf2-1a63-4aad-8271-6b22fb16fde1",
   "metadata": {},
   "outputs": [
    {
     "name": "stdout",
     "output_type": "stream",
     "text": [
      "1070 251 850\n"
     ]
    }
   ],
   "source": [
    "gene_1 = list(np.squeeze(pd.read_csv ('../data/optimized_subsets/D0genes_best.csv')))\n",
    "gene_2 = list(np.squeeze(pd.read_csv ('../data/optimized_subsets/D6genes_best.csv')))\n",
    "gene_3 = list(np.squeeze(pd.read_csv ('../data/optimized_subsets/D15genes_best.csv')))\n",
    "gene_4 = list(np.squeeze(pd.read_csv ('../data/optimized_subsets/AE4genes_best.csv')))\n",
    "gene_5 = list(np.squeeze(pd.read_csv ('../data/optimized_subsets/AE4_MEFgenes_best.csv')))\n",
    "\n",
    "print(len(gene_1), len(gene_4), len(gene_5))"
   ]
  },
  {
   "cell_type": "code",
   "execution_count": 56,
   "id": "70115599-e403-48ff-9466-38bdfac4e702",
   "metadata": {},
   "outputs": [
    {
     "name": "stdout",
     "output_type": "stream",
     "text": [
      "1309 1280 500\n"
     ]
    }
   ],
   "source": [
    "gene_1 = list(np.squeeze(pd.read_csv ('../data/optimized_subsets/AE3genes_best.csv')))\n",
    "gene_2 = list(np.squeeze(pd.read_csv ('../data/optimized_subsets/LKgenes_best.csv')))\n",
    "gene_3 = list(np.squeeze(pd.read_csv ('../data/optimized_subsets/AE3_LKgenes_best.csv')))\n",
    "\n",
    "print(len(gene_1), len(gene_2), len(gene_3))"
   ]
  },
  {
   "cell_type": "code",
   "execution_count": 60,
   "id": "c4d9f371-e49e-48b3-80bf-a9150f490de0",
   "metadata": {},
   "outputs": [
    {
     "data": {
      "text/plain": [
       "15"
      ]
     },
     "execution_count": 60,
     "metadata": {},
     "output_type": "execute_result"
    }
   ],
   "source": [
    "overlap = set(gene_2).intersection(gene_3).intersection(gene_1)\n",
    "len(overlap)"
   ]
  },
  {
   "cell_type": "code",
   "execution_count": 75,
   "id": "c705e699-3f79-42a9-935c-1cbf0f880ec7",
   "metadata": {},
   "outputs": [
    {
     "data": {
      "text/plain": [
       "<matplotlib_venn._common.VennDiagram at 0x260ddd40850>"
      ]
     },
     "execution_count": 75,
     "metadata": {},
     "output_type": "execute_result"
    },
    {
     "data": {
      "image/png": "[encoded data removed]",
      "text/plain": [
       "<Figure size 432x288 with 1 Axes>"
      ]
     },
     "metadata": {},
     "output_type": "display_data"
    }
   ],
   "source": [
    "from matplotlib_venn import venn2, venn3\n",
    "\n",
    "venn3(subsets = (956, 921, 295, 393, 43, 49, 15), set_labels = ('AE3', 'LK', 'mix'), set_colors=('purple', 'skyblue', 'orange'), alpha = 0.7)"
   ]
  },
  {
   "cell_type": "markdown",
   "id": "2e89e17d",
   "metadata": {},
   "source": [
    "# AE3"
   ]
  },
  {
   "cell_type": "code",
   "execution_count": 4,
   "id": "185bf600",
   "metadata": {},
   "outputs": [
    {
     "data": {
      "text/plain": [
       "(32285, 333)"
      ]
     },
     "execution_count": 4,
     "metadata": {},
     "output_type": "execute_result"
    }
   ],
   "source": [
    "#Load preprocess data\n",
    "AE3 = pd.read_csv ('../data/merged_data/AE3.csv')\n",
    "AE3 = AE3.set_index('Unnamed: 0')\n",
    "y = np.squeeze(np.array(pd.read_csv ('../data/merged_data/y_AE3.csv')))\n",
    "\n",
    "AE3.shape"
   ]
  },
  {
   "cell_type": "markdown",
   "id": "4e287ab6",
   "metadata": {},
   "source": [
    " ### Baseline (with all genes)"
   ]
  },
  {
   "cell_type": "code",
   "execution_count": 4,
   "id": "af90ff7c",
   "metadata": {},
   "outputs": [
    {
     "name": "stdout",
     "output_type": "stream",
     "text": [
      "0.3508771929824561 0.6396396396396397\n"
     ]
    }
   ],
   "source": [
    "model = FamiliesClusters(np.unique(y),compute_precision,True)\n",
    "pred = model.fit_predict(np.array(AE3),y)\n",
    "print(model.score_, model.recovery)"
   ]
  },
  {
   "cell_type": "markdown",
   "id": "a5a34494",
   "metadata": {},
   "source": [
    "### Baseline (random)"
   ]
  },
  {
   "cell_type": "code",
   "execution_count": 5,
   "id": "9bc75f44",
   "metadata": {},
   "outputs": [
    {
     "name": "stdout",
     "output_type": "stream",
     "text": [
      "0.0 0.6396396396396397\n"
     ]
    }
   ],
   "source": [
    "AE3_shuffle =  np.array(pd.DataFrame(AE3).sample(frac = 1))\n",
    "model = FamiliesClusters(np.unique(y),compute_precision,True)\n",
    "pred = model.fit_predict(AE3_shuffle,y)\n",
    "print(model.score_, model.recovery)"
   ]
  },
  {
   "cell_type": "markdown",
   "id": "aab7d120",
   "metadata": {},
   "source": [
    "### Optimized subset (MIM)"
   ]
  },
  {
   "cell_type": "code",
   "execution_count": 5,
   "id": "31a34a28",
   "metadata": {},
   "outputs": [
    {
     "name": "stdout",
     "output_type": "stream",
     "text": [
      "4820\n"
     ]
    },
    {
     "data": {
      "text/plain": [
       "(333, 4820)"
      ]
     },
     "execution_count": 5,
     "metadata": {},
     "output_type": "execute_result"
    }
   ],
   "source": [
    "genes_AE3 = np.squeeze(pd.read_csv ('../data/processed_data/AE3genes_interest.csv'))\n",
    "gene_optimized = np.squeeze(pd.read_csv ('../data/optimized_subsets/AE3CV2mean.csv'))\n",
    "\n",
    "'''ind_opt_genes = []\n",
    "for gene in gene_optimized:\n",
    "    ind_opt_genes = np.append(ind_opt_genes, int(np.squeeze(np.where(genes_AE3 == gene))))\n",
    "ind_opt_genes= list(ind_opt_genes.astype(int))\n",
    "\n",
    "#Only keep the optimized genes\n",
    "AE3 = AE3[:,ind_opt_genes]\n",
    "print(AE3.shape)'''\n",
    "\n",
    "AE3 = np.array(AE3.loc[gene_optimized]).T\n",
    "\n",
    "subset = np.ones((len(gene_optimized),))\n",
    "subsets = subsampling_genes(subset, 101, 0.25)\n",
    "print(len(subsets[0]))\n",
    "\n",
    "AE3.shape"
   ]
  },
  {
   "cell_type": "code",
   "execution_count": 6,
   "id": "9fd4b4a4",
   "metadata": {},
   "outputs": [
    {
     "name": "stdout",
     "output_type": "stream",
     "text": [
      "0.5935828877005348 0.7177177177177178\n"
     ]
    }
   ],
   "source": [
    "model = FamiliesClusters(np.unique(y),compute_precision,True)\n",
    "pred = model.fit_predict(AE3,y)\n",
    "print(model.score_, model.recovery)\n",
    "\n",
    "compute_sensitivity(y, pred)"
   ]
  },
  {
   "cell_type": "code",
   "execution_count": 7,
   "id": "1e31ae38",
   "metadata": {
    "collapsed": true,
    "jupyter": {
     "outputs_hidden": true
    },
    "tags": []
   },
   "outputs": [
    {
     "ename": "KeyboardInterrupt",
     "evalue": "",
     "output_type": "error",
     "traceback": [
      "\u001b[1;31m---------------------------------------------------------------------------\u001b[0m",
      "\u001b[1;31mKeyboardInterrupt\u001b[0m                         Traceback (most recent call last)",
      "\u001b[1;32m~\\AppData\\Local\\Temp/ipykernel_14920/789151124.py\u001b[0m in \u001b[0;36m<module>\u001b[1;34m\u001b[0m\n\u001b[0;32m      1\u001b[0m \u001b[0mmodel\u001b[0m \u001b[1;33m=\u001b[0m \u001b[0mEnsemblingHierarchical\u001b[0m\u001b[1;33m(\u001b[0m\u001b[0mnp\u001b[0m\u001b[1;33m.\u001b[0m\u001b[0munique\u001b[0m\u001b[1;33m(\u001b[0m\u001b[0my\u001b[0m\u001b[1;33m)\u001b[0m\u001b[1;33m,\u001b[0m\u001b[0mcompute_precision\u001b[0m\u001b[1;33m,\u001b[0m\u001b[1;32mTrue\u001b[0m\u001b[1;33m,\u001b[0m\u001b[0msubsets\u001b[0m \u001b[1;33m=\u001b[0m \u001b[0msubsets\u001b[0m\u001b[1;33m,\u001b[0m \u001b[0mensembling\u001b[0m\u001b[1;33m=\u001b[0m\u001b[1;34m'voting'\u001b[0m\u001b[1;33m,\u001b[0m \u001b[0mthreshold_voting\u001b[0m \u001b[1;33m=\u001b[0m \u001b[1;36m0.5\u001b[0m\u001b[1;33m)\u001b[0m\u001b[1;33m\u001b[0m\u001b[1;33m\u001b[0m\u001b[0m\n\u001b[1;32m----> 2\u001b[1;33m \u001b[0mresult\u001b[0m  \u001b[1;33m=\u001b[0m \u001b[0mmodel\u001b[0m\u001b[1;33m.\u001b[0m\u001b[0mfit_predict\u001b[0m\u001b[1;33m(\u001b[0m\u001b[0mX\u001b[0m \u001b[1;33m=\u001b[0m \u001b[0mAE3\u001b[0m\u001b[1;33m,\u001b[0m \u001b[0my\u001b[0m\u001b[1;33m=\u001b[0m \u001b[0my\u001b[0m\u001b[1;33m)\u001b[0m\u001b[1;33m\u001b[0m\u001b[1;33m\u001b[0m\u001b[0m\n\u001b[0m\u001b[0;32m      3\u001b[0m \u001b[0mprint\u001b[0m\u001b[1;33m(\u001b[0m\u001b[0mmodel\u001b[0m\u001b[1;33m.\u001b[0m\u001b[0mscore_\u001b[0m\u001b[1;33m,\u001b[0m \u001b[0mmodel\u001b[0m\u001b[1;33m.\u001b[0m\u001b[0mrecovery\u001b[0m\u001b[1;33m)\u001b[0m\u001b[1;33m\u001b[0m\u001b[1;33m\u001b[0m\u001b[0m\n",
      "\u001b[1;32m~\\Desktop\\Memory_genes\\src\\pred_score.py\u001b[0m in \u001b[0;36mfit_predict\u001b[1;34m(self, X, y, NmaxCluster)\u001b[0m\n\u001b[0;32m    413\u001b[0m \u001b[1;33m\u001b[0m\u001b[0m\n\u001b[0;32m    414\u001b[0m     \u001b[1;32mdef\u001b[0m \u001b[0mfit_predict\u001b[0m\u001b[1;33m(\u001b[0m\u001b[0mself\u001b[0m\u001b[1;33m,\u001b[0m \u001b[0mX\u001b[0m\u001b[1;33m:\u001b[0m\u001b[0mnp\u001b[0m\u001b[1;33m.\u001b[0m\u001b[0marray\u001b[0m\u001b[1;33m,\u001b[0m \u001b[0my\u001b[0m\u001b[1;33m:\u001b[0m\u001b[0mnp\u001b[0m\u001b[1;33m.\u001b[0m\u001b[0marray\u001b[0m\u001b[1;33m,\u001b[0m\u001b[0mNmaxCluster\u001b[0m\u001b[1;33m:\u001b[0m\u001b[0mint\u001b[0m \u001b[1;33m=\u001b[0m \u001b[1;32mNone\u001b[0m\u001b[1;33m)\u001b[0m\u001b[1;33m:\u001b[0m\u001b[1;33m\u001b[0m\u001b[1;33m\u001b[0m\u001b[0m\n\u001b[1;32m--> 415\u001b[1;33m         \u001b[0mself\u001b[0m\u001b[1;33m.\u001b[0m\u001b[0mfit\u001b[0m\u001b[1;33m(\u001b[0m\u001b[0mX\u001b[0m\u001b[1;33m,\u001b[0m\u001b[0my\u001b[0m\u001b[1;33m,\u001b[0m\u001b[0mNmaxCluster\u001b[0m\u001b[1;33m)\u001b[0m\u001b[1;33m\u001b[0m\u001b[1;33m\u001b[0m\u001b[0m\n\u001b[0m\u001b[0;32m    416\u001b[0m \u001b[1;33m\u001b[0m\u001b[0m\n\u001b[0;32m    417\u001b[0m         \u001b[1;32mreturn\u001b[0m \u001b[0mself\u001b[0m\u001b[1;33m.\u001b[0m\u001b[0mlabels_\u001b[0m\u001b[1;33m\u001b[0m\u001b[1;33m\u001b[0m\u001b[0m\n",
      "\u001b[1;32m~\\Desktop\\Memory_genes\\src\\pred_score.py\u001b[0m in \u001b[0;36mfit\u001b[1;34m(self, X, y, NmaxCluster)\u001b[0m\n\u001b[0;32m    392\u001b[0m         \u001b[1;32mfor\u001b[0m \u001b[0msubset\u001b[0m \u001b[1;32min\u001b[0m \u001b[0mself\u001b[0m\u001b[1;33m.\u001b[0m\u001b[0msubsets_\u001b[0m\u001b[1;33m:\u001b[0m\u001b[1;33m\u001b[0m\u001b[1;33m\u001b[0m\u001b[0m\n\u001b[0;32m    393\u001b[0m             \u001b[0mmodel\u001b[0m \u001b[1;33m=\u001b[0m \u001b[0mFamiliesClusters\u001b[0m\u001b[1;33m(\u001b[0m\u001b[0mself\u001b[0m\u001b[1;33m.\u001b[0m\u001b[0mfamily_interest_\u001b[0m\u001b[1;33m,\u001b[0m \u001b[0mself\u001b[0m\u001b[1;33m.\u001b[0m\u001b[0mScoring_\u001b[0m\u001b[1;33m,\u001b[0m \u001b[0mself\u001b[0m\u001b[1;33m.\u001b[0m\u001b[0mmaximize_\u001b[0m\u001b[1;33m)\u001b[0m\u001b[1;33m\u001b[0m\u001b[1;33m\u001b[0m\u001b[0m\n\u001b[1;32m--> 394\u001b[1;33m             \u001b[0mpred\u001b[0m \u001b[1;33m=\u001b[0m \u001b[0mmodel\u001b[0m\u001b[1;33m.\u001b[0m\u001b[0mfit_predict\u001b[0m\u001b[1;33m(\u001b[0m\u001b[0mX\u001b[0m\u001b[1;33m[\u001b[0m\u001b[1;33m:\u001b[0m\u001b[1;33m,\u001b[0m\u001b[0msubset\u001b[0m\u001b[1;33m]\u001b[0m\u001b[1;33m,\u001b[0m\u001b[0my\u001b[0m\u001b[1;33m)\u001b[0m\u001b[1;33m\u001b[0m\u001b[1;33m\u001b[0m\u001b[0m\n\u001b[0m\u001b[0;32m    395\u001b[0m             \u001b[1;32mif\u001b[0m \u001b[1;33m(\u001b[0m\u001b[0mself\u001b[0m\u001b[1;33m.\u001b[0m\u001b[0mensembling_\u001b[0m \u001b[1;33m!=\u001b[0m \u001b[1;34m'voting'\u001b[0m\u001b[1;33m)\u001b[0m\u001b[1;33m:\u001b[0m\u001b[1;33m\u001b[0m\u001b[1;33m\u001b[0m\u001b[0m\n\u001b[0;32m    396\u001b[0m                 \u001b[0mpred\u001b[0m \u001b[1;33m=\u001b[0m \u001b[1;33m[\u001b[0m\u001b[0mnp\u001b[0m\u001b[1;33m.\u001b[0m\u001b[0mnan\u001b[0m \u001b[1;32mif\u001b[0m \u001b[0mx\u001b[0m \u001b[1;33m==\u001b[0m \u001b[1;36m0\u001b[0m \u001b[1;32melse\u001b[0m \u001b[0mx\u001b[0m \u001b[1;32mfor\u001b[0m \u001b[0mx\u001b[0m \u001b[1;32min\u001b[0m \u001b[0mpred\u001b[0m\u001b[1;33m]\u001b[0m\u001b[1;33m\u001b[0m\u001b[1;33m\u001b[0m\u001b[0m\n",
      "\u001b[1;32m~\\Desktop\\Memory_genes\\src\\pred_score.py\u001b[0m in \u001b[0;36mfit_predict\u001b[1;34m(self, X, y, NmaxCluster)\u001b[0m\n\u001b[0;32m    106\u001b[0m \u001b[1;33m\u001b[0m\u001b[0m\n\u001b[0;32m    107\u001b[0m     \u001b[1;32mdef\u001b[0m \u001b[0mfit_predict\u001b[0m\u001b[1;33m(\u001b[0m\u001b[0mself\u001b[0m\u001b[1;33m,\u001b[0m \u001b[0mX\u001b[0m\u001b[1;33m:\u001b[0m\u001b[0mnp\u001b[0m\u001b[1;33m.\u001b[0m\u001b[0marray\u001b[0m\u001b[1;33m,\u001b[0m \u001b[0my\u001b[0m\u001b[1;33m:\u001b[0m\u001b[0mnp\u001b[0m\u001b[1;33m.\u001b[0m\u001b[0marray\u001b[0m\u001b[1;33m=\u001b[0m\u001b[1;32mNone\u001b[0m\u001b[1;33m,\u001b[0m\u001b[0mNmaxCluster\u001b[0m\u001b[1;33m:\u001b[0m\u001b[0mint\u001b[0m \u001b[1;33m=\u001b[0m \u001b[1;32mNone\u001b[0m\u001b[1;33m)\u001b[0m\u001b[1;33m:\u001b[0m\u001b[1;33m\u001b[0m\u001b[1;33m\u001b[0m\u001b[0m\n\u001b[1;32m--> 108\u001b[1;33m         \u001b[0mself\u001b[0m\u001b[1;33m.\u001b[0m\u001b[0mfit\u001b[0m\u001b[1;33m(\u001b[0m\u001b[0mX\u001b[0m\u001b[1;33m,\u001b[0m\u001b[0my\u001b[0m\u001b[1;33m,\u001b[0m\u001b[0mNmaxCluster\u001b[0m\u001b[1;33m)\u001b[0m\u001b[1;33m\u001b[0m\u001b[1;33m\u001b[0m\u001b[0m\n\u001b[0m\u001b[0;32m    109\u001b[0m \u001b[1;33m\u001b[0m\u001b[0m\n\u001b[0;32m    110\u001b[0m         \u001b[1;32mreturn\u001b[0m \u001b[0mself\u001b[0m\u001b[1;33m.\u001b[0m\u001b[0mlabels_\u001b[0m\u001b[1;33m\u001b[0m\u001b[1;33m\u001b[0m\u001b[0m\n",
      "\u001b[1;32m~\\Desktop\\Memory_genes\\src\\pred_score.py\u001b[0m in \u001b[0;36mfit\u001b[1;34m(self, X, y, NmaxCluster)\u001b[0m\n\u001b[0;32m     67\u001b[0m         \u001b[1;31m#Compute the spearman correlation of X\u001b[0m\u001b[1;33m\u001b[0m\u001b[1;33m\u001b[0m\u001b[0m\n\u001b[0;32m     68\u001b[0m         \u001b[0mX_pd\u001b[0m \u001b[1;33m=\u001b[0m \u001b[0mpd\u001b[0m\u001b[1;33m.\u001b[0m\u001b[0mDataFrame\u001b[0m\u001b[1;33m(\u001b[0m\u001b[0mX\u001b[0m\u001b[1;33m.\u001b[0m\u001b[0mT\u001b[0m\u001b[1;33m)\u001b[0m\u001b[1;33m\u001b[0m\u001b[1;33m\u001b[0m\u001b[0m\n\u001b[1;32m---> 69\u001b[1;33m         \u001b[0mcorr_expr\u001b[0m\u001b[1;33m=\u001b[0m \u001b[0mX_pd\u001b[0m\u001b[1;33m.\u001b[0m\u001b[0mcorr\u001b[0m\u001b[1;33m(\u001b[0m\u001b[0mmethod\u001b[0m\u001b[1;33m=\u001b[0m \u001b[1;34m'spearman'\u001b[0m\u001b[1;33m)\u001b[0m\u001b[1;33m\u001b[0m\u001b[1;33m\u001b[0m\u001b[0m\n\u001b[0m\u001b[0;32m     70\u001b[0m         \u001b[0mcorr_expr\u001b[0m \u001b[1;33m=\u001b[0m \u001b[0mnp\u001b[0m\u001b[1;33m.\u001b[0m\u001b[0marray\u001b[0m\u001b[1;33m(\u001b[0m\u001b[1;33m(\u001b[0m\u001b[1;36m1\u001b[0m \u001b[1;33m-\u001b[0m \u001b[0mcorr_expr\u001b[0m\u001b[1;33m)\u001b[0m\u001b[1;33m/\u001b[0m\u001b[1;36m2\u001b[0m\u001b[1;33m)\u001b[0m\u001b[1;33m\u001b[0m\u001b[1;33m\u001b[0m\u001b[0m\n\u001b[0;32m     71\u001b[0m         \u001b[0mcorr_expr\u001b[0m \u001b[1;33m=\u001b[0m \u001b[0mupper_tri_indexing\u001b[0m\u001b[1;33m(\u001b[0m\u001b[0mcorr_expr\u001b[0m\u001b[1;33m)\u001b[0m\u001b[1;33m**\u001b[0m\u001b[1;36m2\u001b[0m \u001b[1;31m#Squared for ward2 criterion\u001b[0m\u001b[1;33m\u001b[0m\u001b[1;33m\u001b[0m\u001b[0m\n",
      "\u001b[1;32m~\\anaconda3\\lib\\site-packages\\pandas\\core\\frame.py\u001b[0m in \u001b[0;36mcorr\u001b[1;34m(self, method, min_periods)\u001b[0m\n\u001b[0;32m   9379\u001b[0m             \u001b[0mcorrel\u001b[0m \u001b[1;33m=\u001b[0m \u001b[0mlibalgos\u001b[0m\u001b[1;33m.\u001b[0m\u001b[0mnancorr\u001b[0m\u001b[1;33m(\u001b[0m\u001b[0mmat\u001b[0m\u001b[1;33m,\u001b[0m \u001b[0mminp\u001b[0m\u001b[1;33m=\u001b[0m\u001b[0mmin_periods\u001b[0m\u001b[1;33m)\u001b[0m\u001b[1;33m\u001b[0m\u001b[1;33m\u001b[0m\u001b[0m\n\u001b[0;32m   9380\u001b[0m         \u001b[1;32melif\u001b[0m \u001b[0mmethod\u001b[0m \u001b[1;33m==\u001b[0m \u001b[1;34m\"spearman\"\u001b[0m\u001b[1;33m:\u001b[0m\u001b[1;33m\u001b[0m\u001b[1;33m\u001b[0m\u001b[0m\n\u001b[1;32m-> 9381\u001b[1;33m             \u001b[0mcorrel\u001b[0m \u001b[1;33m=\u001b[0m \u001b[0mlibalgos\u001b[0m\u001b[1;33m.\u001b[0m\u001b[0mnancorr_spearman\u001b[0m\u001b[1;33m(\u001b[0m\u001b[0mmat\u001b[0m\u001b[1;33m,\u001b[0m \u001b[0mminp\u001b[0m\u001b[1;33m=\u001b[0m\u001b[0mmin_periods\u001b[0m\u001b[1;33m)\u001b[0m\u001b[1;33m\u001b[0m\u001b[1;33m\u001b[0m\u001b[0m\n\u001b[0m\u001b[0;32m   9382\u001b[0m         \u001b[1;32melif\u001b[0m \u001b[0mmethod\u001b[0m \u001b[1;33m==\u001b[0m \u001b[1;34m\"kendall\"\u001b[0m \u001b[1;32mor\u001b[0m \u001b[0mcallable\u001b[0m\u001b[1;33m(\u001b[0m\u001b[0mmethod\u001b[0m\u001b[1;33m)\u001b[0m\u001b[1;33m:\u001b[0m\u001b[1;33m\u001b[0m\u001b[1;33m\u001b[0m\u001b[0m\n\u001b[0;32m   9383\u001b[0m             \u001b[1;32mif\u001b[0m \u001b[0mmin_periods\u001b[0m \u001b[1;32mis\u001b[0m \u001b[1;32mNone\u001b[0m\u001b[1;33m:\u001b[0m\u001b[1;33m\u001b[0m\u001b[1;33m\u001b[0m\u001b[0m\n",
      "\u001b[1;31mKeyboardInterrupt\u001b[0m: "
     ]
    }
   ],
   "source": [
    "model = EnsemblingHierarchical(np.unique(y),compute_precision,True,subsets = subsets, ensembling='voting', threshold_voting = 0.5)\n",
    "result  = model.fit_predict(X = AE3, y= y)\n",
    "print(model.score_, model.recovery)"
   ]
  },
  {
   "cell_type": "code",
   "execution_count": 5,
   "id": "7b52a3ba",
   "metadata": {},
   "outputs": [],
   "source": [
    "def plot_cutoff(x:np.array, y:np.array, all_genes:np.array, best_genes:np.array, name_data:str):\n",
    "    cut_off = np.linspace(0.1,1,10)\n",
    "    \n",
    "    precision, recovery = [], []\n",
    "    precision_base, recovery_base = [], []\n",
    "    \n",
    "    #With all genes\n",
    "    subset = np.ones((x.shape[1],))\n",
    "    subsets = subsampling_genes(subset, 101, 0.25)\n",
    "    for t in cut_off:\n",
    "        model = EnsemblingHierarchical(np.unique(y),compute_precision,True, subsets = subsets, ensembling='voting', threshold_voting = t)\n",
    "        result  = model.fit_predict(X = x, y= y)\n",
    "        precision_base.append(model.score_) \n",
    "        recovery_base.append(model.recovery)\n",
    "    \n",
    "    #With the optimized gene set\n",
    "    ind_opt_genes = []\n",
    "    for gene in gene_optimized:\n",
    "        ind = np.squeeze(np.where(all_genes == gene))\n",
    "        \n",
    "        if ind.shape == (2,):\n",
    "            continue\n",
    "        ind_opt_genes = np.append(ind_opt_genes, ind)\n",
    "        ind_opt_genes= list(ind_opt_genes.astype(int))\n",
    "\n",
    "    #Only keep the optimized genes\n",
    "    x = x[:,ind_opt_genes]\n",
    "    \n",
    "    subset = np.ones((x.shape[1],))\n",
    "    subsets = subsampling_genes(subset, 101, 0.25)\n",
    "    \n",
    "    for t in cut_off:\n",
    "        model = EnsemblingHierarchical(np.unique(y),compute_precision,True,subsets = subsets, ensembling='voting', threshold_voting = t)\n",
    "        result  = model.fit_predict(X = x, y= y)\n",
    "        precision.append(model.score_) \n",
    "        recovery.append(model.recovery)\n",
    "    \n",
    "    #Plot the precision\n",
    "    fig,ax = plt.subplots()\n",
    "    # make a plot\n",
    "    ax.plot(cut_off, precision, color=\"red\", marker='o')\n",
    "    ax.plot(cut_off, precision_base, color=\"blue\", marker='o')\n",
    "    # set x-axis label\n",
    "    ax.set_xlabel(\"cut off\")\n",
    "    # set y-axis label\n",
    "    ax.set_ylabel(\"precision\")\n",
    "\n",
    "    # twin object for two different y-axis on the sample plot\n",
    "    ax2=ax.twinx()\n",
    "    # make a plot with different y-axis using second axis object\n",
    "    ax2.plot(cut_off, recovery, color=\"red\", marker='o')\n",
    "    #ax2.plot(cut_off, precision_random, color=\"yellow\")\n",
    "    ax2.plot(cut_off, recovery_base, color=\"blue\", marker='o')\n",
    "    ax2.set_ylabel(\"recovery\")\n",
    "    plt.show()\n",
    "    \n",
    "    #Save results in a table\n",
    "    d = {'precision_ base': precision_base, 'recovery_base': recovery_base, 'precision_repeated' : precision, 'recovery_repeated': recovery}\n",
    "    results = pd.DataFrame(data = d, index = cut_off)\n",
    "    \n",
    "    results.to_csv('../data/prediction_results/' + name_data + '_results.csv', index=True)\n",
    "        "
   ]
  },
  {
   "cell_type": "code",
   "execution_count": 13,
   "id": "e49da96c",
   "metadata": {
    "tags": []
   },
   "outputs": [
    {
     "data": {
      "image/png": "[encoded data removed]",
      "text/plain": [
       "<Figure size 432x288 with 2 Axes>"
      ]
     },
     "metadata": {
      "needs_background": "light"
     },
     "output_type": "display_data"
    }
   ],
   "source": [
    "genes_AE3 = np.squeeze(pd.read_csv ('../data/processed_data/AE3genes_interest.csv'))\n",
    "gene_optimized = np.squeeze(pd.read_csv ('../data/optimized_subsets/AE3genes_bestMIM.csv'))\n",
    "plot_cutoff(x=AE3, y=y, all_genes= genes_AE3, best_genes=gene_optimized, name_data='AE3')"
   ]
  },
  {
   "cell_type": "markdown",
   "id": "2e371e59",
   "metadata": {},
   "source": [
    "# AE4"
   ]
  },
  {
   "cell_type": "code",
   "execution_count": 14,
   "id": "1c7b2374",
   "metadata": {},
   "outputs": [
    {
     "data": {
      "text/plain": [
       "(1473, 9870)"
      ]
     },
     "execution_count": 14,
     "metadata": {},
     "output_type": "execute_result"
    }
   ],
   "source": [
    "#Load preprocess data\n",
    "AE4 = np.array(pd.read_csv ('../data/processed_data/AE4.csv'))\n",
    "y = np.array(AE4[:,-1],dtype=int)\n",
    "AE4 = AE4[:,0:-1]\n",
    "AE4.shape"
   ]
  },
  {
   "cell_type": "markdown",
   "id": "c9f3c098",
   "metadata": {},
   "source": [
    " ### Baseline (with all genes)"
   ]
  },
  {
   "cell_type": "code",
   "execution_count": 6,
   "id": "3eac51cf",
   "metadata": {},
   "outputs": [
    {
     "name": "stdout",
     "output_type": "stream",
     "text": [
      "0.028664495114006514 0.9280380176510523\n"
     ]
    }
   ],
   "source": [
    "model = FamiliesClusters(np.unique(y),compute_precision,True)\n",
    "pred = model.fit_predict(AE4,y)\n",
    "print(model.score_, model.recovery)"
   ]
  },
  {
   "cell_type": "markdown",
   "id": "caf73a93",
   "metadata": {},
   "source": [
    "### Baseline (random)"
   ]
  },
  {
   "cell_type": "code",
   "execution_count": null,
   "id": "7b950771",
   "metadata": {},
   "outputs": [],
   "source": [
    "AE4_shuffle =  np.array(pd.DataFrame(AE4).sample(frac = 1))\n",
    "model = FamiliesClusters(np.unique(y),compute_precision,True)\n",
    "pred = model.fit_predict(AE4_shuffle,y)\n",
    "print(model.score_, model.recovery)"
   ]
  },
  {
   "cell_type": "markdown",
   "id": "9bf63d59",
   "metadata": {},
   "source": [
    "### Optimized subset (ANOVA)"
   ]
  },
  {
   "cell_type": "code",
   "execution_count": null,
   "id": "f1fe52c9",
   "metadata": {},
   "outputs": [],
   "source": [
    "genes_AE4 = np.squeeze(pd.read_csv ('../data/processed_data/AE4genes_interest.csv'))\n",
    "gene_optimized = np.squeeze(pd.read_csv ('../data/optimized_subsets/AE4genes_bestANOVA.csv'))\n",
    "\n",
    "ind_opt_genes = []\n",
    "for gene in gene_optimized:\n",
    "    ind_opt_genes = np.append(ind_opt_genes, int(np.squeeze(np.where(genes_AE4 == gene))))\n",
    "ind_opt_genes= list(ind_opt_genes.astype(int))\n",
    "\n",
    "#Only keep the optimized genes\n",
    "AE4 = AE4[:,ind_opt_genes]\n",
    "print(AE4.shape)\n",
    "\n",
    "subset = np.ones((len(gene_optimized),))\n",
    "subsets = subsampling_genes(subset, 101, 0.25)\n",
    "print(len(subsets[0]))"
   ]
  },
  {
   "cell_type": "code",
   "execution_count": null,
   "id": "f3cc7ce9",
   "metadata": {},
   "outputs": [],
   "source": [
    "model = FamiliesClusters(np.unique(y),compute_precision,True)\n",
    "pred = model.fit_predict(AE4,y)\n",
    "print(model.score_, model.recovery)"
   ]
  },
  {
   "cell_type": "code",
   "execution_count": null,
   "id": "437a2b78",
   "metadata": {},
   "outputs": [],
   "source": [
    "model = EnsemblingHierarchical(np.unique(y),compute_precision,True,subsets = subsets, ensembling='voting', threshold_voting = 0.5)\n",
    "result  = model.fit_predict(X = AE4, y= y)\n",
    "print(model.score_, model.recovery)"
   ]
  },
  {
   "cell_type": "code",
   "execution_count": 15,
   "id": "229b125e",
   "metadata": {},
   "outputs": [
    {
     "data": {
      "image/png": "[encoded data removed]",
      "text/plain": [
       "<Figure size 432x288 with 2 Axes>"
      ]
     },
     "metadata": {
      "needs_background": "light"
     },
     "output_type": "display_data"
    }
   ],
   "source": [
    "genes_AE4 = np.squeeze(pd.read_csv ('../data/processed_data/AE4genes_interest.csv'))\n",
    "gene_optimized = np.squeeze(pd.read_csv ('../data/optimized_subsets/AE4genes_bestANOVA.csv'))\n",
    "plot_cutoff(x=AE4, y=y, all_genes= genes_AE4, best_genes=gene_optimized,name_data='AE4')"
   ]
  },
  {
   "cell_type": "markdown",
   "id": "15cb7114",
   "metadata": {},
   "source": [
    "# AE7"
   ]
  },
  {
   "cell_type": "code",
   "execution_count": null,
   "id": "0d1ad634",
   "metadata": {},
   "outputs": [],
   "source": [
    "#Load preprocess data\n",
    "AE7 = np.array(pd.read_csv ('../data/processed_data/AE7.csv'))\n",
    "y = np.array(AE7[:,-1],dtype=int)\n",
    "AE7 = AE7[:,0:-1]\n",
    "AE7.shape"
   ]
  },
  {
   "cell_type": "markdown",
   "id": "176e5657",
   "metadata": {},
   "source": [
    " ### Baseline (with all genes)"
   ]
  },
  {
   "cell_type": "code",
   "execution_count": null,
   "id": "ebd02023",
   "metadata": {},
   "outputs": [],
   "source": [
    "model = FamiliesClusters(np.unique(y),compute_precision,True)\n",
    "pred = model.fit_predict(AE7,y)\n",
    "print(model.score_, model.recovery)"
   ]
  },
  {
   "cell_type": "markdown",
   "id": "a9787e6b",
   "metadata": {},
   "source": [
    "### Baseline (random)"
   ]
  },
  {
   "cell_type": "code",
   "execution_count": null,
   "id": "7fdcb0a0",
   "metadata": {},
   "outputs": [],
   "source": [
    "AE7_shuffle =  np.array(pd.DataFrame(AE7).sample(frac = 1))\n",
    "model = FamiliesClusters(np.unique(y),compute_precision,True)\n",
    "pred = model.fit_predict(AE7_shuffle,y)\n",
    "print(model.score_, model.recovery)"
   ]
  },
  {
   "cell_type": "markdown",
   "id": "7cb43590",
   "metadata": {},
   "source": [
    "### Optimized subset (ANOVA)"
   ]
  },
  {
   "cell_type": "code",
   "execution_count": null,
   "id": "60dcda13",
   "metadata": {},
   "outputs": [],
   "source": [
    "genes_AE7 = np.squeeze(pd.read_csv ('../data/processed_data/AE7genes_interest.csv'))\n",
    "gene_optimized = np.squeeze(pd.read_csv ('../data/optimized_subsets/AE7genes_bestMIM.csv'))\n",
    "\n",
    "ind_opt_genes = []\n",
    "for gene in gene_optimized:\n",
    "    ind_opt_genes = np.append(ind_opt_genes, int(np.squeeze(np.where(genes_AE7 == gene))))\n",
    "ind_opt_genes= list(ind_opt_genes.astype(int))\n",
    "\n",
    "#Only keep the optimized genes\n",
    "AE7 = AE7[:,ind_opt_genes]\n",
    "print(AE7.shape)\n",
    "\n",
    "subset = np.ones((len(gene_optimized),))\n",
    "subsets = subsampling_genes(subset, 101, 0.25)\n",
    "print(len(subsets[0]))"
   ]
  },
  {
   "cell_type": "code",
   "execution_count": null,
   "id": "e8220811",
   "metadata": {},
   "outputs": [],
   "source": [
    "model = FamiliesClusters(np.unique(y),compute_precision,True)\n",
    "pred = model.fit_predict(AE7,y)\n",
    "print(model.score_, model.recovery)"
   ]
  },
  {
   "cell_type": "code",
   "execution_count": null,
   "id": "4c8561ac",
   "metadata": {},
   "outputs": [],
   "source": [
    "model = EnsemblingHierarchical(np.unique(y),compute_precision,True,subsets = subsets, ensembling='voting', threshold_voting = 0.5)\n",
    "result  = model.fit_predict(X = AE7, y= y)\n",
    "print(model.score_, model.recovery)"
   ]
  },
  {
   "cell_type": "markdown",
   "id": "a990bd77",
   "metadata": {},
   "source": [
    "# DO"
   ]
  },
  {
   "cell_type": "code",
   "execution_count": 16,
   "id": "682d1e0c",
   "metadata": {},
   "outputs": [
    {
     "data": {
      "text/plain": [
       "(461, 10310)"
      ]
     },
     "execution_count": 16,
     "metadata": {},
     "output_type": "execute_result"
    }
   ],
   "source": [
    "#Load preprocess data\n",
    "D0 = np.array(pd.read_csv ('../data/processed_data/D0.csv'))\n",
    "y = np.array(D0[:,-1],dtype=int)\n",
    "D0 = D0[:,0:-1]\n",
    "D0.shape"
   ]
  },
  {
   "cell_type": "markdown",
   "id": "7b98d355",
   "metadata": {},
   "source": [
    " ### Baseline (with all genes)"
   ]
  },
  {
   "cell_type": "code",
   "execution_count": 11,
   "id": "9af893ca",
   "metadata": {},
   "outputs": [
    {
     "name": "stdout",
     "output_type": "stream",
     "text": [
      "0.6686746987951807 0.720173535791757\n"
     ]
    }
   ],
   "source": [
    "model = FamiliesClusters(np.unique(y),compute_precision,True)\n",
    "pred = model.fit_predict(D0,y)\n",
    "print(model.score_, model.recovery)"
   ]
  },
  {
   "cell_type": "markdown",
   "id": "1be46ddb",
   "metadata": {},
   "source": [
    "### Baseline (random)"
   ]
  },
  {
   "cell_type": "code",
   "execution_count": 12,
   "id": "955c191c",
   "metadata": {},
   "outputs": [
    {
     "name": "stdout",
     "output_type": "stream",
     "text": [
      "0.0 0.720173535791757\n"
     ]
    }
   ],
   "source": [
    "D0_shuffle =  np.array(pd.DataFrame(D0).sample(frac = 1))\n",
    "model = FamiliesClusters(np.unique(y),compute_precision,True)\n",
    "pred = model.fit_predict(D0_shuffle,y)\n",
    "print(model.score_, model.recovery)"
   ]
  },
  {
   "cell_type": "markdown",
   "id": "26916916",
   "metadata": {},
   "source": [
    "### Optimized subset (MIM)"
   ]
  },
  {
   "cell_type": "code",
   "execution_count": 13,
   "id": "7bf3af72",
   "metadata": {},
   "outputs": [
    {
     "name": "stdout",
     "output_type": "stream",
     "text": [
      "(461, 2480)\n",
      "2480\n"
     ]
    }
   ],
   "source": [
    "genes_D0 = np.squeeze(pd.read_csv ('../data/processed_data/D0genes_interest.csv'))\n",
    "gene_optimized = np.squeeze(pd.read_csv ('../data/optimized_subsets/D0genes_bestMIM.csv'))\n",
    "\n",
    "ind_opt_genes = []\n",
    "for gene in gene_optimized:\n",
    "    ind_opt_genes = np.append(ind_opt_genes, int(np.squeeze(np.where(genes_D0 == gene))))\n",
    "ind_opt_genes= list(ind_opt_genes.astype(int))\n",
    "\n",
    "#Only keep the optimized genes\n",
    "D0 = D0[:,ind_opt_genes]\n",
    "print(D0.shape)\n",
    "\n",
    "subset = np.ones((len(gene_optimized),))\n",
    "subsets = subsampling_genes(subset, 101, 0.25)\n",
    "print(len(subsets[0]))"
   ]
  },
  {
   "cell_type": "code",
   "execution_count": 14,
   "id": "caa10f4b",
   "metadata": {},
   "outputs": [
    {
     "name": "stdout",
     "output_type": "stream",
     "text": [
      "0.9444444444444444 0.8590021691973969\n"
     ]
    }
   ],
   "source": [
    "model = FamiliesClusters(np.unique(y),compute_precision,True)\n",
    "pred = model.fit_predict(D0,y)\n",
    "print(model.score_, model.recovery)"
   ]
  },
  {
   "cell_type": "code",
   "execution_count": 15,
   "id": "98cd9e0e",
   "metadata": {},
   "outputs": [
    {
     "name": "stdout",
     "output_type": "stream",
     "text": [
      "(101, 461)\n",
      "0.9680851063829787 0.8156182212581344\n"
     ]
    }
   ],
   "source": [
    "model = EnsemblingHierarchical(np.unique(y),compute_precision,True,subsets = subsets, ensembling='voting', threshold_voting = 0.5)\n",
    "result  = model.fit_predict(X = D0, y = y)\n",
    "print(model.score_, model.recovery)"
   ]
  },
  {
   "cell_type": "code",
   "execution_count": 17,
   "id": "e4684d6e",
   "metadata": {},
   "outputs": [
    {
     "data": {
      "image/png": "[encoded data removed]",
      "text/plain": [
       "<Figure size 432x288 with 2 Axes>"
      ]
     },
     "metadata": {
      "needs_background": "light"
     },
     "output_type": "display_data"
    }
   ],
   "source": [
    "genes_D0 = np.squeeze(pd.read_csv ('../data/processed_data/D0genes_interest.csv'))\n",
    "gene_optimized = np.squeeze(pd.read_csv ('../data/optimized_subsets/D0genes_bestMIM.csv'))\n",
    "plot_cutoff(x=D0, y=y, all_genes= genes_D0, best_genes=gene_optimized,name_data='D0')"
   ]
  },
  {
   "cell_type": "markdown",
   "id": "0940e847",
   "metadata": {},
   "source": [
    "# D6"
   ]
  },
  {
   "cell_type": "code",
   "execution_count": 18,
   "id": "48bd7232",
   "metadata": {},
   "outputs": [
    {
     "data": {
      "text/plain": [
       "(154, 10372)"
      ]
     },
     "execution_count": 18,
     "metadata": {},
     "output_type": "execute_result"
    }
   ],
   "source": [
    "#Load preprocess data\n",
    "D6 = np.array(pd.read_csv ('../data/processed_data/D6.csv'))\n",
    "y = np.array(D6[:,-1],dtype=int)\n",
    "D6 = D6[:,0:-1]\n",
    "D6.shape"
   ]
  },
  {
   "cell_type": "markdown",
   "id": "40f321a9",
   "metadata": {},
   "source": [
    " ### Baseline (with all genes)"
   ]
  },
  {
   "cell_type": "code",
   "execution_count": 17,
   "id": "42f0acd7",
   "metadata": {},
   "outputs": [
    {
     "name": "stdout",
     "output_type": "stream",
     "text": [
      "0.5961538461538461 0.6753246753246753\n"
     ]
    }
   ],
   "source": [
    "model = FamiliesClusters(np.unique(y),compute_precision,True)\n",
    "pred = model.fit_predict(D6,y)\n",
    "print(model.score_, model.recovery)"
   ]
  },
  {
   "cell_type": "markdown",
   "id": "d9440808",
   "metadata": {},
   "source": [
    "### Baseline (random)"
   ]
  },
  {
   "cell_type": "code",
   "execution_count": 18,
   "id": "1635d503",
   "metadata": {},
   "outputs": [
    {
     "name": "stdout",
     "output_type": "stream",
     "text": [
      "0.038461538461538464 0.6753246753246753\n"
     ]
    }
   ],
   "source": [
    "D6_shuffle =  np.array(pd.DataFrame(D6).sample(frac = 1))\n",
    "model = FamiliesClusters(np.unique(y),compute_precision,True)\n",
    "pred = model.fit_predict(D6_shuffle,y)\n",
    "print(model.score_, model.recovery)"
   ]
  },
  {
   "cell_type": "markdown",
   "id": "a4e97305",
   "metadata": {},
   "source": [
    "### Optimized subset (ANOVA)"
   ]
  },
  {
   "cell_type": "code",
   "execution_count": 19,
   "id": "64863994",
   "metadata": {},
   "outputs": [
    {
     "name": "stdout",
     "output_type": "stream",
     "text": [
      "(154, 830)\n",
      "830\n"
     ]
    }
   ],
   "source": [
    "genes_D6 = np.squeeze(pd.read_csv ('../data/processed_data/D6genes_interest.csv'))\n",
    "gene_optimized = np.squeeze(pd.read_csv ('../data/optimized_subsets/D6genes_bestANOVA.csv'))\n",
    "\n",
    "ind_opt_genes = []\n",
    "for gene in gene_optimized:\n",
    "    ind_opt_genes = np.append(ind_opt_genes, int(np.squeeze(np.where(genes_D6 == gene))))\n",
    "ind_opt_genes= list(ind_opt_genes.astype(int))\n",
    "\n",
    "#Only keep the optimized genes\n",
    "D6 = D6[:,ind_opt_genes]\n",
    "print(D6.shape)\n",
    "\n",
    "subset = np.ones((len(gene_optimized),))\n",
    "subsets = subsampling_genes(subset, 101, 0.25)\n",
    "print(len(subsets[0]))"
   ]
  },
  {
   "cell_type": "code",
   "execution_count": 20,
   "id": "7eae1d3d",
   "metadata": {},
   "outputs": [
    {
     "name": "stdout",
     "output_type": "stream",
     "text": [
      "0.9552238805970149 0.8701298701298701\n"
     ]
    }
   ],
   "source": [
    "model = FamiliesClusters(np.unique(y),compute_precision,True)\n",
    "pred = model.fit_predict(D6,y)\n",
    "print(model.score_, model.recovery)"
   ]
  },
  {
   "cell_type": "code",
   "execution_count": 21,
   "id": "f516d4fa",
   "metadata": {},
   "outputs": [
    {
     "name": "stdout",
     "output_type": "stream",
     "text": [
      "(101, 154)\n",
      "0.953125 0.8311688311688312\n"
     ]
    }
   ],
   "source": [
    "model = EnsemblingHierarchical(np.unique(y),compute_precision,True,subsets = subsets, ensembling='voting', threshold_voting = 0.5)\n",
    "result  = model.fit_predict(X = D6, y = y)\n",
    "print(model.score_, model.recovery)"
   ]
  },
  {
   "cell_type": "code",
   "execution_count": 19,
   "id": "5e1f8719",
   "metadata": {},
   "outputs": [
    {
     "data": {
      "image/png": "[encoded data removed]",
      "text/plain": [
       "<Figure size 432x288 with 2 Axes>"
      ]
     },
     "metadata": {
      "needs_background": "light"
     },
     "output_type": "display_data"
    }
   ],
   "source": [
    "genes_D6 = np.squeeze(pd.read_csv ('../data/processed_data/D6genes_interest.csv'))\n",
    "gene_optimized = np.squeeze(pd.read_csv ('../data/optimized_subsets/D6genes_bestANOVA.csv'))\n",
    "plot_cutoff(x=D6, y=y, all_genes= genes_D6, best_genes=gene_optimized,name_data='D6')"
   ]
  },
  {
   "cell_type": "markdown",
   "id": "2d7cc94f",
   "metadata": {},
   "source": [
    "# D15"
   ]
  },
  {
   "cell_type": "code",
   "execution_count": 20,
   "id": "6110d413",
   "metadata": {},
   "outputs": [
    {
     "data": {
      "text/plain": [
       "(178, 9977)"
      ]
     },
     "execution_count": 20,
     "metadata": {},
     "output_type": "execute_result"
    }
   ],
   "source": [
    "#Load preprocess data\n",
    "D15 = np.array(pd.read_csv ('../data/processed_data/D15.csv'))\n",
    "y = np.array(D15[:,-1],dtype=int)\n",
    "D15 = D15[:,0:-1]\n",
    "D15.shape"
   ]
  },
  {
   "cell_type": "markdown",
   "id": "0138fb75",
   "metadata": {},
   "source": [
    " ### Baseline (with all genes)"
   ]
  },
  {
   "cell_type": "code",
   "execution_count": 23,
   "id": "ab76eac5",
   "metadata": {},
   "outputs": [
    {
     "name": "stdout",
     "output_type": "stream",
     "text": [
      "0.8714285714285714 0.7865168539325843\n"
     ]
    }
   ],
   "source": [
    "model = FamiliesClusters(np.unique(y),compute_precision,True)\n",
    "pred = model.fit_predict(D15,y)\n",
    "print(model.score_, model.recovery)"
   ]
  },
  {
   "cell_type": "markdown",
   "id": "de412644",
   "metadata": {},
   "source": [
    "### Baseline (random)"
   ]
  },
  {
   "cell_type": "code",
   "execution_count": 24,
   "id": "ceb1ffe5",
   "metadata": {},
   "outputs": [
    {
     "name": "stdout",
     "output_type": "stream",
     "text": [
      "0.014285714285714285 0.7865168539325843\n"
     ]
    }
   ],
   "source": [
    "D15_shuffle =  np.array(pd.DataFrame(D15).sample(frac = 1))\n",
    "model = FamiliesClusters(np.unique(y),compute_precision,True)\n",
    "pred = model.fit_predict(D15_shuffle,y)\n",
    "print(model.score_, model.recovery)"
   ]
  },
  {
   "cell_type": "markdown",
   "id": "1b4778eb",
   "metadata": {},
   "source": [
    "### Optimized subset (ANOVA)"
   ]
  },
  {
   "cell_type": "code",
   "execution_count": 25,
   "id": "c8ee23f0",
   "metadata": {},
   "outputs": [
    {
     "name": "stdout",
     "output_type": "stream",
     "text": [
      "(178, 110)\n",
      "110\n"
     ]
    }
   ],
   "source": [
    "genes_D15 = np.squeeze(pd.read_csv ('../data/processed_data/D15genes_interest.csv'))\n",
    "gene_optimized = np.squeeze(pd.read_csv ('../data/optimized_subsets/D15genes_bestANOVA.csv'))\n",
    "\n",
    "ind_opt_genes = []\n",
    "for gene in gene_optimized:\n",
    "    ind_opt_genes = np.append(ind_opt_genes, int(np.squeeze(np.where(genes_D15 == gene))))\n",
    "ind_opt_genes= list(ind_opt_genes.astype(int))\n",
    "\n",
    "#Only keep the optimized genes\n",
    "D15 = D15[:,ind_opt_genes]\n",
    "print(D15.shape)\n",
    "\n",
    "subset = np.ones((len(gene_optimized),))\n",
    "subsets = subsampling_genes(subset, 101, 0.25)\n",
    "print(len(subsets[0]))"
   ]
  },
  {
   "cell_type": "code",
   "execution_count": 26,
   "id": "a8993e0f",
   "metadata": {},
   "outputs": [
    {
     "name": "stdout",
     "output_type": "stream",
     "text": [
      "1.0 0.9775280898876404\n"
     ]
    }
   ],
   "source": [
    "model = FamiliesClusters(np.unique(y),compute_precision,True)\n",
    "pred = model.fit_predict(D15,y)\n",
    "print(model.score_, model.recovery)"
   ]
  },
  {
   "cell_type": "code",
   "execution_count": 27,
   "id": "3995dfed",
   "metadata": {},
   "outputs": [
    {
     "name": "stdout",
     "output_type": "stream",
     "text": [
      "(101, 178)\n",
      "1.0 0.9775280898876404\n"
     ]
    }
   ],
   "source": [
    "model = EnsemblingHierarchical(np.unique(y),compute_precision,True,subsets = subsets, ensembling='voting', threshold_voting = 0.5)\n",
    "result  = model.fit_predict(X = D15, y = y)\n",
    "print(model.score_, model.recovery)"
   ]
  },
  {
   "cell_type": "code",
   "execution_count": 21,
   "id": "52176de6",
   "metadata": {},
   "outputs": [
    {
     "data": {
      "image/png": "[encoded data removed]",
      "text/plain": [
       "<Figure size 432x288 with 2 Axes>"
      ]
     },
     "metadata": {
      "needs_background": "light"
     },
     "output_type": "display_data"
    }
   ],
   "source": [
    "genes_D15 = np.squeeze(pd.read_csv ('../data/processed_data/D15genes_interest.csv'))\n",
    "gene_optimized = np.squeeze(pd.read_csv ('../data/optimized_subsets/D15genes_bestANOVA.csv'))\n",
    "plot_cutoff(x=D15, y=y, all_genes= genes_D15, best_genes=gene_optimized, name_data='D15')"
   ]
  },
  {
   "cell_type": "markdown",
   "id": "e3117b25",
   "metadata": {},
   "source": [
    "# LK"
   ]
  },
  {
   "cell_type": "code",
   "execution_count": 11,
   "id": "16820b2b",
   "metadata": {},
   "outputs": [
    {
     "data": {
      "text/plain": [
       "(610, 8405)"
      ]
     },
     "execution_count": 11,
     "metadata": {},
     "output_type": "execute_result"
    }
   ],
   "source": [
    "#Load preprocess data\n",
    "LK = np.array(pd.read_csv ('../data/processed_data/LK.csv'))\n",
    "y = np.array(LK[:,-1],dtype=int)\n",
    "LK = LK[:,0:-1]\n",
    "LK.shape"
   ]
  },
  {
   "cell_type": "markdown",
   "id": "cc10c054",
   "metadata": {},
   "source": [
    " ### Baseline (with all genes)"
   ]
  },
  {
   "cell_type": "code",
   "execution_count": 29,
   "id": "a8cc502d",
   "metadata": {},
   "outputs": [
    {
     "name": "stdout",
     "output_type": "stream",
     "text": [
      "0.20603015075376885 0.8131147540983606\n"
     ]
    }
   ],
   "source": [
    "model = FamiliesClusters(np.unique(y),compute_precision,True)\n",
    "pred = model.fit_predict(LK,y)\n",
    "print(model.score_, model.recovery)"
   ]
  },
  {
   "cell_type": "markdown",
   "id": "cd77aeeb",
   "metadata": {},
   "source": [
    "### Baseline (random)"
   ]
  },
  {
   "cell_type": "code",
   "execution_count": 30,
   "id": "db178e7c",
   "metadata": {},
   "outputs": [
    {
     "name": "stdout",
     "output_type": "stream",
     "text": [
      "0.0 0.8131147540983606\n"
     ]
    }
   ],
   "source": [
    "LK_shuffle =  np.array(pd.DataFrame(LK).sample(frac = 1))\n",
    "model = FamiliesClusters(np.unique(y),compute_precision,True)\n",
    "pred = model.fit_predict(LK_shuffle,y)\n",
    "print(model.score_, model.recovery)"
   ]
  },
  {
   "cell_type": "markdown",
   "id": "56e2b5ed",
   "metadata": {},
   "source": [
    "### Optimized subset (MIM)"
   ]
  },
  {
   "cell_type": "code",
   "execution_count": 3,
   "id": "f8030716",
   "metadata": {
    "collapsed": true,
    "jupyter": {
     "outputs_hidden": true
    },
    "tags": []
   },
   "outputs": [
    {
     "ename": "NameError",
     "evalue": "name 'LK' is not defined",
     "output_type": "error",
     "traceback": [
      "\u001b[0;31m---------------------------------------------------------------------------\u001b[0m",
      "\u001b[0;31mNameError\u001b[0m                                 Traceback (most recent call last)",
      "\u001b[0;32m/var/folders/gz/s90yhf3d4yg_q6r76fs2lg380000gq/T/ipykernel_80931/3864381603.py\u001b[0m in \u001b[0;36m<module>\u001b[0;34m\u001b[0m\n\u001b[1;32m     14\u001b[0m \u001b[0;34m\u001b[0m\u001b[0m\n\u001b[1;32m     15\u001b[0m \u001b[0;31m#Only keep the optimized genes\u001b[0m\u001b[0;34m\u001b[0m\u001b[0;34m\u001b[0m\u001b[0m\n\u001b[0;32m---> 16\u001b[0;31m \u001b[0mLK\u001b[0m \u001b[0;34m=\u001b[0m \u001b[0mLK\u001b[0m\u001b[0;34m[\u001b[0m\u001b[0;34m:\u001b[0m\u001b[0;34m,\u001b[0m\u001b[0mind_opt_genes\u001b[0m\u001b[0;34m]\u001b[0m\u001b[0;34m\u001b[0m\u001b[0;34m\u001b[0m\u001b[0m\n\u001b[0m\u001b[1;32m     17\u001b[0m \u001b[0mprint\u001b[0m\u001b[0;34m(\u001b[0m\u001b[0mLK\u001b[0m\u001b[0;34m.\u001b[0m\u001b[0mshape\u001b[0m\u001b[0;34m)\u001b[0m\u001b[0;34m\u001b[0m\u001b[0;34m\u001b[0m\u001b[0m\n\u001b[1;32m     18\u001b[0m \u001b[0;34m\u001b[0m\u001b[0m\n",
      "\u001b[0;31mNameError\u001b[0m: name 'LK' is not defined"
     ]
    }
   ],
   "source": [
    "genes_LK = np.squeeze(pd.read_csv ('../data/processed_data/LKgenes_interest.csv'))\n",
    "gene_optimized = np.squeeze(pd.read_csv ('../data/optimized_subsets/LKgenes_bestMIM.csv'))\n",
    "\n",
    "ind_opt_genes = []\n",
    "for gene in gene_optimized:\n",
    "    ind = np.squeeze(np.where(genes_LK == gene))\n",
    "    if ind.shape == ():\n",
    "        ind_opt_genes = np.append(ind_opt_genes, int(ind))\n",
    "    else:\n",
    "        for i in ind:\n",
    "                ind_opt_genes = np.append(ind_opt_genes, int(i))\n",
    "            \n",
    "ind_opt_genes= list(ind_opt_genes.astype(int))\n",
    "\n",
    "#Only keep the optimized genes\n",
    "LK = LK[:,ind_opt_genes]\n",
    "print(LK.shape)\n",
    "\n",
    "subset = np.ones((LK.shape[1],))\n",
    "subsets = subsampling_genes(subset, 101, 0.25)\n",
    "print(len(subsets[0]))"
   ]
  },
  {
   "cell_type": "code",
   "execution_count": 77,
   "id": "60774073",
   "metadata": {},
   "outputs": [
    {
     "name": "stdout",
     "output_type": "stream",
     "text": [
      "0.40173410404624277 0.7016393442622951\n"
     ]
    }
   ],
   "source": [
    "model = FamiliesClusters(np.unique(y),compute_precision,True)\n",
    "pred = model.fit_predict(LK,y)\n",
    "print(model.score_, model.recovery)"
   ]
  },
  {
   "cell_type": "code",
   "execution_count": 78,
   "id": "01b3d642",
   "metadata": {},
   "outputs": [
    {
     "name": "stdout",
     "output_type": "stream",
     "text": [
      "(101, 610)\n",
      "0.6255924170616114 0.4737704918032787\n"
     ]
    }
   ],
   "source": [
    "model = EnsemblingHierarchical(np.unique(y),compute_precision,True,subsets = subsets, ensembling='voting', threshold_voting = 0.5)\n",
    "result  = model.fit_predict(X = LK, y = y)\n",
    "print(model.score_, model.recovery)"
   ]
  },
  {
   "cell_type": "code",
   "execution_count": 12,
   "id": "8b40fe42",
   "metadata": {
    "tags": []
   },
   "outputs": [
    {
     "data": {
      "image/png": "[encoded data removed]",
      "text/plain": [
       "<Figure size 432x288 with 2 Axes>"
      ]
     },
     "metadata": {
      "needs_background": "light"
     },
     "output_type": "display_data"
    }
   ],
   "source": [
    "genes_LK = np.squeeze(pd.read_csv ('../data/processed_data/LKgenes_interest.csv'))\n",
    "gene_optimized = np.squeeze(pd.read_csv ('../data/optimized_subsets/LKgenes_bestMIM.csv'))\n",
    "\n",
    "non_unique = np.squeeze(pd.read_csv('../data/non_unique_genes.csv'))\n",
    "for gene in non_unique:\n",
    "    if gene in gene_optimized:\n",
    "        gene_optimized.remove(gene)\n",
    "\n",
    "plot_cutoff(x=LK, y=y, all_genes= genes_LK, best_genes=gene_optimized, name_data='LK')"
   ]
  },
  {
   "cell_type": "markdown",
   "id": "3c6a2dc7",
   "metadata": {},
   "source": [
    "### Prediction by barcode library"
   ]
  },
  {
   "cell_type": "code",
   "execution_count": 7,
   "id": "8d53952b",
   "metadata": {
    "tags": []
   },
   "outputs": [
    {
     "name": "stdout",
     "output_type": "stream",
     "text": [
      "-------------------------\n",
      "Barcode library 0\n",
      "777\n",
      "(117, 777)\n",
      "0.047619047619047616 0.717948717948718\n",
      "0.09090909090909091 0.18803418803418803\n",
      "-------------------------\n",
      "Barcode library 1\n",
      "777\n",
      "(194, 777)\n",
      "0.01282051282051282 0.8041237113402062\n",
      "0.0 0.1134020618556701\n",
      "-------------------------\n",
      "Barcode library 2\n",
      "777\n",
      "(244, 777)\n",
      "0.03333333333333333 0.7377049180327869\n",
      "0.1111111111111111 0.07377049180327869\n",
      "-------------------------\n",
      "Barcode library 3\n",
      "777\n",
      "(194, 777)\n",
      "0.01282051282051282 0.8041237113402062\n",
      "0.0 0.1134020618556701\n",
      "-------------------------\n",
      "Barcode library 4\n",
      "777\n",
      "(6, 777)\n",
      "0.0 0.3333333333333333\n",
      "0.0 0.3333333333333333\n",
      "-------------------------\n",
      "Barcode library 5\n",
      "777\n",
      "(2, 777)\n",
      "0 1.0\n",
      "0 1.0\n",
      "-------------------------\n",
      "Barcode library 6\n",
      "777\n",
      "(10, 777)\n",
      "0.0 0.8\n",
      "0.0 0.8\n",
      "-------------------------\n",
      "Barcode library 7\n",
      "777\n",
      "(22, 777)\n",
      "0.0 0.7727272727272727\n",
      "0.0 0.5454545454545454\n",
      "-------------------------\n",
      "Barcode library 8\n",
      "777\n",
      "(13, 777)\n",
      "0.4 0.7692307692307693\n",
      "0.3333333333333333 0.46153846153846156\n"
     ]
    }
   ],
   "source": [
    "lib = [0,1,2,3,4,5,6,7,8]\n",
    "for i in lib:\n",
    "    \n",
    "    print('-------------------------')\n",
    "    print('Barcode library ' + str(i))\n",
    "    LK = pd.read_csv ('../data/processed_data/LKlib' + str(i) + '.csv')\n",
    "    LK = np.array(LK.set_index('Unnamed: 0')).T\n",
    "    y_LK  = np.squeeze(np.array(pd.read_csv('../data/processed_data/y_LK_lib' + str(i) + '.csv')))\n",
    "    genes_LK = np.squeeze(pd.read_csv ('../data/processed_data/LKfusedlibraries_genes_interest.csv'))\n",
    "    gene_optimized = np.squeeze(pd.read_csv ('../data/optimized_subsets/LKgenes_bestMIM.csv'))\n",
    "\n",
    "    ind_opt_genes = []\n",
    "    for gene in gene_optimized:\n",
    "        ind = np.squeeze(np.where(genes_LK == gene))\n",
    "        if ind.shape == ():\n",
    "            ind_opt_genes = np.append(ind_opt_genes, int(ind))\n",
    "        else:\n",
    "            for i in ind:\n",
    "                    ind_opt_genes = np.append(ind_opt_genes, int(i))\n",
    "\n",
    "    ind_opt_genes= list(ind_opt_genes.astype(int))\n",
    "    print(len(ind_opt_genes))\n",
    "\n",
    "    #Only keep the optimized genes\n",
    "    LK = LK[:,ind_opt_genes]\n",
    "    print(LK.shape)\n",
    "\n",
    "    subset = np.ones((LK.shape[1],))\n",
    "    subsets = subsampling_genes(subset, 101, 0.25)\n",
    "    \n",
    "    #Predict once\n",
    "    model = FamiliesClusters(np.unique(y_LK),compute_precision,True)\n",
    "    pred = model.fit_predict(LK,y_LK)\n",
    "    print(model.score_, model.recovery)\n",
    "    \n",
    "    #Predict repetitively\n",
    "    model = EnsemblingHierarchical(np.unique(y_LK),compute_precision,True,subsets = subsets, ensembling='voting', threshold_voting = 0.5)\n",
    "    result  = model.fit_predict(X = LK, y = y_LK)\n",
    "    print(model.score_, model.recovery)"
   ]
  },
  {
   "cell_type": "markdown",
   "id": "6a5073f9",
   "metadata": {},
   "source": [
    "# LSK"
   ]
  },
  {
   "cell_type": "code",
   "execution_count": 13,
   "id": "a2803811",
   "metadata": {},
   "outputs": [
    {
     "data": {
      "text/plain": [
       "(3383, 7570)"
      ]
     },
     "execution_count": 13,
     "metadata": {},
     "output_type": "execute_result"
    }
   ],
   "source": [
    "#Load preprocess data\n",
    "LSK = np.array(pd.read_csv ('../data/processed_data/LSK.csv'))\n",
    "y = np.array(LSK[:,-1],dtype=int)\n",
    "LSK = LSK[:,0:-1]\n",
    "LSK.shape"
   ]
  },
  {
   "cell_type": "markdown",
   "id": "61dba722",
   "metadata": {},
   "source": [
    " ### Baseline (with all genes)"
   ]
  },
  {
   "cell_type": "code",
   "execution_count": 80,
   "id": "56aa9158",
   "metadata": {},
   "outputs": [
    {
     "name": "stdout",
     "output_type": "stream",
     "text": [
      "0.08357588357588358 0.9269878805793674\n"
     ]
    }
   ],
   "source": [
    "model = FamiliesClusters(np.unique(y),compute_precision,True)\n",
    "pred = model.fit_predict(LSK,y)\n",
    "print(model.score_, model.recovery)"
   ]
  },
  {
   "cell_type": "markdown",
   "id": "d8907614",
   "metadata": {},
   "source": [
    "### Baseline (random)"
   ]
  },
  {
   "cell_type": "code",
   "execution_count": 81,
   "id": "b3bb91cc",
   "metadata": {},
   "outputs": [
    {
     "name": "stdout",
     "output_type": "stream",
     "text": [
      "0.0008316008316008316 0.9269878805793674\n"
     ]
    }
   ],
   "source": [
    "LSK_shuffle =  np.array(pd.DataFrame(LSK).sample(frac = 1))\n",
    "model = FamiliesClusters(np.unique(y),compute_precision,True)\n",
    "pred = model.fit_predict(LSK_shuffle,y)\n",
    "print(model.score_, model.recovery)"
   ]
  },
  {
   "cell_type": "markdown",
   "id": "cfab1c14",
   "metadata": {},
   "source": [
    "### Optimized subset (ANOVA)"
   ]
  },
  {
   "cell_type": "code",
   "execution_count": 88,
   "id": "d7fd97a8",
   "metadata": {},
   "outputs": [
    {
     "name": "stdout",
     "output_type": "stream",
     "text": [
      "(3383, 418)\n",
      "418\n"
     ]
    }
   ],
   "source": [
    "genes_LSK = np.squeeze(pd.read_csv ('../data/processed_data/LSKgenes_interest.csv'))\n",
    "gene_optimized = np.squeeze(pd.read_csv ('../data/optimized_subsets/LSKgenes_bestANOVA.csv'))\n",
    "\n",
    "ind_opt_genes = []\n",
    "for gene in gene_optimized:\n",
    "    ind = np.squeeze(np.where(genes_LSK == gene))\n",
    "    if ind.shape == ():\n",
    "        ind_opt_genes = np.append(ind_opt_genes, int(ind))\n",
    "    else:\n",
    "        for i in ind:\n",
    "                ind_opt_genes = np.append(ind_opt_genes, int(i))\n",
    "ind_opt_genes= list(ind_opt_genes.astype(int))\n",
    "\n",
    "#Only keep the optimized genes\n",
    "LSK = LSK[:,ind_opt_genes]\n",
    "print(LSK.shape)\n",
    "\n",
    "subset = np.ones((LSK.shape[1],))\n",
    "subsets = subsampling_genes(subset, 101, 0.25)\n",
    "print(len(subsets[0]))"
   ]
  },
  {
   "cell_type": "code",
   "execution_count": 89,
   "id": "e9b597e4",
   "metadata": {},
   "outputs": [
    {
     "name": "stdout",
     "output_type": "stream",
     "text": [
      "0.15286041189931351 0.8288501330180313\n"
     ]
    }
   ],
   "source": [
    "model = FamiliesClusters(np.unique(y),compute_precision,True)\n",
    "pred = model.fit_predict(LSK,y)\n",
    "print(model.score_, model.recovery)"
   ]
  },
  {
   "cell_type": "code",
   "execution_count": null,
   "id": "61cb8abb",
   "metadata": {},
   "outputs": [
    {
     "name": "stdout",
     "output_type": "stream",
     "text": [
      "(101, 3383)\n",
      "0.42971887550200805 0.23558971327224357\n"
     ]
    }
   ],
   "source": [
    "model = EnsemblingHierarchical(np.unique(y),compute_precision,True,subsets = subsets, ensembling='voting', threshold_voting = 0.5)\n",
    "result  = model.fit_predict(X = LSK, y = y)\n",
    "print(model.score_, model.recovery)"
   ]
  },
  {
   "cell_type": "code",
   "execution_count": null,
   "id": "87452f56",
   "metadata": {
    "tags": []
   },
   "outputs": [],
   "source": [
    "genes_LSK = np.squeeze(pd.read_csv ('../data/processed_data/LSKgenes_interest.csv'))\n",
    "gene_optimized = list(np.squeeze(pd.read_csv ('../data/optimized_subsets/LSKgenes_bestANOVA.csv')))\n",
    "non_unique = np.squeeze(pd.read_csv('../data/non_unique_genes.csv'))\n",
    "for gene in non_unique:\n",
    "    if gene in gene_optimized:\n",
    "        gene_optimized.remove(gene)\n",
    "\n",
    "plot_cutoff(x=LSK, y=y, all_genes= genes_LSK, best_genes=gene_optimized, name_data='LSK')"
   ]
  },
  {
   "cell_type": "markdown",
   "id": "0b1acc9e",
   "metadata": {},
   "source": [
    "### Prediction by barcode library"
   ]
  },
  {
   "cell_type": "code",
   "execution_count": 9,
   "id": "c916c964",
   "metadata": {
    "collapsed": true,
    "jupyter": {
     "outputs_hidden": true
    },
    "tags": []
   },
   "outputs": [
    {
     "ename": "IndexError",
     "evalue": "index 13 is out of bounds for axis 0 with size 13",
     "output_type": "error",
     "traceback": [
      "\u001b[0;31m---------------------------------------------------------------------------\u001b[0m",
      "\u001b[0;31mIndexError\u001b[0m                                Traceback (most recent call last)",
      "\u001b[0;32m/var/folders/gz/s90yhf3d4yg_q6r76fs2lg380000gq/T/ipykernel_76196/3418452732.py\u001b[0m in \u001b[0;36m<module>\u001b[0;34m\u001b[0m\n\u001b[1;32m      6\u001b[0m \u001b[0;34m\u001b[0m\u001b[0m\n\u001b[1;32m      7\u001b[0m \u001b[0;32mfor\u001b[0m \u001b[0mi\u001b[0m \u001b[0;32min\u001b[0m \u001b[0mrange\u001b[0m\u001b[0;34m(\u001b[0m\u001b[0mlen\u001b[0m\u001b[0;34m(\u001b[0m\u001b[0mind_dataset\u001b[0m\u001b[0;34m)\u001b[0m\u001b[0;34m)\u001b[0m\u001b[0;34m:\u001b[0m\u001b[0;34m\u001b[0m\u001b[0;34m\u001b[0m\u001b[0m\n\u001b[0;32m----> 8\u001b[0;31m     \u001b[0mx_train\u001b[0m\u001b[0;34m,\u001b[0m \u001b[0my_train\u001b[0m\u001b[0;34m,\u001b[0m \u001b[0mx_test\u001b[0m\u001b[0;34m,\u001b[0m \u001b[0my_test\u001b[0m \u001b[0;34m=\u001b[0m \u001b[0mgetTrainTestAll\u001b[0m\u001b[0;34m(\u001b[0m\u001b[0my\u001b[0m\u001b[0;34m,\u001b[0m \u001b[0mLK\u001b[0m\u001b[0;34m,\u001b[0m \u001b[0mind_dataset\u001b[0m\u001b[0;34m,\u001b[0m \u001b[0mi\u001b[0m\u001b[0;34m)\u001b[0m\u001b[0;34m\u001b[0m\u001b[0;34m\u001b[0m\u001b[0m\n\u001b[0m\u001b[1;32m      9\u001b[0m \u001b[0;34m\u001b[0m\u001b[0m\n\u001b[1;32m     10\u001b[0m     \u001b[0mgenes_LSK\u001b[0m \u001b[0;34m=\u001b[0m \u001b[0mnp\u001b[0m\u001b[0;34m.\u001b[0m\u001b[0msqueeze\u001b[0m\u001b[0;34m(\u001b[0m\u001b[0mpd\u001b[0m\u001b[0;34m.\u001b[0m\u001b[0mread_csv\u001b[0m \u001b[0;34m(\u001b[0m\u001b[0;34m'../data/processed_data/LSKfusedlibraries_genes_interest.csv'\u001b[0m\u001b[0;34m)\u001b[0m\u001b[0;34m)\u001b[0m\u001b[0;34m\u001b[0m\u001b[0;34m\u001b[0m\u001b[0m\n",
      "\u001b[0;32m~/Documents/GitHub/src/pred_score.py\u001b[0m in \u001b[0;36mgetTrainTestAll\u001b[0;34m(y, x, ind_dataset, i)\u001b[0m\n\u001b[1;32m    518\u001b[0m \u001b[0;34m\u001b[0m\u001b[0m\n\u001b[1;32m    519\u001b[0m \u001b[0;34m\u001b[0m\u001b[0m\n\u001b[0;32m--> 520\u001b[0;31m     \u001b[0mx_train\u001b[0m \u001b[0;34m=\u001b[0m \u001b[0mnp\u001b[0m\u001b[0;34m.\u001b[0m\u001b[0mdelete\u001b[0m\u001b[0;34m(\u001b[0m\u001b[0mx\u001b[0m\u001b[0;34m,\u001b[0m \u001b[0mind_i\u001b[0m\u001b[0;34m,\u001b[0m \u001b[0maxis\u001b[0m\u001b[0;34m=\u001b[0m\u001b[0;36m0\u001b[0m\u001b[0;34m)\u001b[0m\u001b[0;34m\u001b[0m\u001b[0;34m\u001b[0m\u001b[0m\n\u001b[0m\u001b[1;32m    521\u001b[0m     \u001b[0my_train\u001b[0m \u001b[0;34m=\u001b[0m \u001b[0mnp\u001b[0m\u001b[0;34m.\u001b[0m\u001b[0mdelete\u001b[0m\u001b[0;34m(\u001b[0m\u001b[0my\u001b[0m\u001b[0;34m,\u001b[0m \u001b[0mind_i\u001b[0m\u001b[0;34m)\u001b[0m\u001b[0;34m\u001b[0m\u001b[0;34m\u001b[0m\u001b[0m\n\u001b[1;32m    522\u001b[0m     \u001b[0mx_test\u001b[0m \u001b[0;34m=\u001b[0m \u001b[0mx\u001b[0m\u001b[0;34m[\u001b[0m\u001b[0mind_i\u001b[0m\u001b[0;34m,\u001b[0m\u001b[0;34m:\u001b[0m\u001b[0;34m]\u001b[0m\u001b[0;34m\u001b[0m\u001b[0;34m\u001b[0m\u001b[0m\n",
      "\u001b[0;32m<__array_function__ internals>\u001b[0m in \u001b[0;36mdelete\u001b[0;34m(*args, **kwargs)\u001b[0m\n",
      "\u001b[0;32m~/opt/anaconda3/lib/python3.9/site-packages/numpy/lib/function_base.py\u001b[0m in \u001b[0;36mdelete\u001b[0;34m(arr, obj, axis)\u001b[0m\n\u001b[1;32m   4478\u001b[0m         \u001b[0;32melse\u001b[0m\u001b[0;34m:\u001b[0m\u001b[0;34m\u001b[0m\u001b[0;34m\u001b[0m\u001b[0m\n\u001b[1;32m   4479\u001b[0m             \u001b[0mkeep\u001b[0m \u001b[0;34m=\u001b[0m \u001b[0mones\u001b[0m\u001b[0;34m(\u001b[0m\u001b[0mN\u001b[0m\u001b[0;34m,\u001b[0m \u001b[0mdtype\u001b[0m\u001b[0;34m=\u001b[0m\u001b[0mbool\u001b[0m\u001b[0;34m)\u001b[0m\u001b[0;34m\u001b[0m\u001b[0;34m\u001b[0m\u001b[0m\n\u001b[0;32m-> 4480\u001b[0;31m             \u001b[0mkeep\u001b[0m\u001b[0;34m[\u001b[0m\u001b[0mobj\u001b[0m\u001b[0;34m,\u001b[0m\u001b[0;34m]\u001b[0m \u001b[0;34m=\u001b[0m \u001b[0;32mFalse\u001b[0m\u001b[0;34m\u001b[0m\u001b[0;34m\u001b[0m\u001b[0m\n\u001b[0m\u001b[1;32m   4481\u001b[0m \u001b[0;34m\u001b[0m\u001b[0m\n\u001b[1;32m   4482\u001b[0m         \u001b[0mslobj\u001b[0m\u001b[0;34m[\u001b[0m\u001b[0maxis\u001b[0m\u001b[0;34m]\u001b[0m \u001b[0;34m=\u001b[0m \u001b[0mkeep\u001b[0m\u001b[0;34m\u001b[0m\u001b[0;34m\u001b[0m\u001b[0m\n",
      "\u001b[0;31mIndexError\u001b[0m: index 13 is out of bounds for axis 0 with size 13"
     ]
    }
   ],
   "source": [
    "ind_dataset = np.squeeze(np.array(pd.read_csv('../data/processed_data/size_librariesLSK.csv')))\n",
    "#Load preprocess data\n",
    "LSK = np.array(pd.read_csv ('../data/processed_data/LSKfusedlibrary.csv'))\n",
    "y = np.array(LSK[:,-1],dtype=int)\n",
    "LSK = LSK[:,0:-1]\n",
    "\n",
    "for i in range(len(ind_dataset)):\n",
    "    x_train, y_train, x_test, y_test = getTrainTestAll(y, LK, ind_dataset, i)\n",
    "    \n",
    "    genes_LSK = np.squeeze(pd.read_csv ('../data/processed_data/LSKfusedlibraries_genes_interest.csv'))\n",
    "    gene_optimized = np.squeeze(pd.read_csv ('../data/optimized_subsets/LSKgenes_bestANOVA.csv'))\n",
    "\n",
    "    ind_opt_genes = []\n",
    "    for gene in gene_optimized:\n",
    "        ind = np.squeeze(np.where(genes_LSK == gene))\n",
    "        if ind.shape == ():\n",
    "            ind_opt_genes = np.append(ind_opt_genes, int(ind))\n",
    "        else:\n",
    "            for i in ind:\n",
    "                    ind_opt_genes = np.append(ind_opt_genes, int(i))\n",
    "\n",
    "    ind_opt_genes= list(ind_opt_genes.astype(int))\n",
    "    \n",
    "    x_test= x_test[:,ind_opt_genes]\n",
    "    \n",
    "    model = FamiliesClusters(np.unique(y_test),compute_precision,True)\n",
    "    pred = model.fit_predict(x_test,y_test)\n",
    "    print(model.score_, model.recovery)\n",
    "    \n",
    "    #Predict repetitively\n",
    "    model = EnsemblingHierarchical(np.unique(y_test),compute_precision,True,subsets = subsets, ensembling='voting', threshold_voting = 0.5)\n",
    "    result  = model.fit_predict(X = x_test, y = y_test)\n",
    "    print(model.score_, model.recovery)"
   ]
  },
  {
   "cell_type": "markdown",
   "id": "92caf911",
   "metadata": {},
   "source": [
    "# LK/LSK mix"
   ]
  },
  {
   "cell_type": "code",
   "execution_count": null,
   "id": "af978c5c",
   "metadata": {},
   "outputs": [],
   "source": [
    "#Load preprocess data\n",
    "LSKmix = np.array(pd.read_csv ('../data/processed_data/LSKmix.csv'))\n",
    "y = np.array(LSKmix[:,-1],dtype=int)\n",
    "LSKmix = LSKmix[:,0:-1]\n",
    "LSKmix.shape"
   ]
  },
  {
   "cell_type": "markdown",
   "id": "6bdba467",
   "metadata": {},
   "source": [
    " ### Baseline (with all genes)"
   ]
  },
  {
   "cell_type": "code",
   "execution_count": 92,
   "id": "1dfcc7ab",
   "metadata": {},
   "outputs": [
    {
     "name": "stdout",
     "output_type": "stream",
     "text": [
      "0.13649425287356323 0.8651026392961877\n"
     ]
    }
   ],
   "source": [
    "model = FamiliesClusters(np.unique(y),compute_precision,True)\n",
    "pred = model.fit_predict(LSKmix,y)\n",
    "print(model.score_, model.recovery)"
   ]
  },
  {
   "cell_type": "markdown",
   "id": "a821ca51",
   "metadata": {},
   "source": [
    "### Baseline (random)"
   ]
  },
  {
   "cell_type": "code",
   "execution_count": 93,
   "id": "27eb240c",
   "metadata": {},
   "outputs": [
    {
     "name": "stdout",
     "output_type": "stream",
     "text": [
      "0.0028735632183908046 0.8651026392961877\n"
     ]
    }
   ],
   "source": [
    "LSKmix_shuffle =  np.array(pd.DataFrame(LSKmix).sample(frac = 1))\n",
    "model = FamiliesClusters(np.unique(y),compute_precision,True)\n",
    "pred = model.fit_predict(LSKmix_shuffle,y)\n",
    "print(model.score_, model.recovery)"
   ]
  },
  {
   "cell_type": "markdown",
   "id": "9b14d76d",
   "metadata": {},
   "source": [
    "### Optimized subset (ANOVA)"
   ]
  },
  {
   "cell_type": "code",
   "execution_count": 99,
   "id": "76760fd7",
   "metadata": {},
   "outputs": [
    {
     "name": "stdout",
     "output_type": "stream",
     "text": [
      "(1023, 294)\n",
      "294\n"
     ]
    }
   ],
   "source": [
    "genes_LSKmix = np.squeeze(pd.read_csv ('../data/processed_data/LSKmixgenes_interest.csv'))\n",
    "gene_optimized = np.squeeze(pd.read_csv ('../data/optimized_subsets/LSKmixgenes_bestANOVA.csv'))\n",
    "\n",
    "ind_opt_genes = []\n",
    "for gene in gene_optimized:\n",
    "    ind = np.squeeze(np.where(genes_LSKmix == gene))\n",
    "    if ind.shape == ():\n",
    "        ind_opt_genes = np.append(ind_opt_genes, int(ind))\n",
    "    else:\n",
    "        for i in ind:\n",
    "                ind_opt_genes = np.append(ind_opt_genes, int(i))\n",
    "ind_opt_genes= list(ind_opt_genes.astype(int))\n",
    "\n",
    "#Only keep the optimized genes\n",
    "LSKmix = LSKmix[:,ind_opt_genes]\n",
    "print(LSKmix.shape)\n",
    "\n",
    "subset = np.ones((LSKmix.shape[1],))\n",
    "subsets = subsampling_genes(subset, 101, 0.25)\n",
    "print(len(subsets[0]))"
   ]
  },
  {
   "cell_type": "code",
   "execution_count": 100,
   "id": "8146d709",
   "metadata": {},
   "outputs": [
    {
     "name": "stdout",
     "output_type": "stream",
     "text": [
      "0.2084507042253521 0.8807429130009775\n"
     ]
    }
   ],
   "source": [
    "model = FamiliesClusters(np.unique(y),compute_precision,True)\n",
    "pred = model.fit_predict(LSKmix,y)\n",
    "print(model.score_, model.recovery)"
   ]
  },
  {
   "cell_type": "code",
   "execution_count": 101,
   "id": "66a308c5",
   "metadata": {},
   "outputs": [
    {
     "name": "stdout",
     "output_type": "stream",
     "text": [
      "(101, 1023)\n",
      "0.4703196347031963 0.32942326490713586\n"
     ]
    }
   ],
   "source": [
    "model = EnsemblingHierarchical(np.unique(y),compute_precision,True,subsets = subsets, ensembling='voting', threshold_voting = 0.5)\n",
    "result  = model.fit_predict(X = LSKmix, y = y)\n",
    "print(model.score_, model.recovery)"
   ]
  },
  {
   "cell_type": "code",
   "execution_count": null,
   "id": "6f891560",
   "metadata": {},
   "outputs": [],
   "source": [
    "genes_LSKmix = np.squeeze(pd.read_csv ('../data/processed_data/LSKmixgenes_interest.csv'))\n",
    "gene_optimized = np.squeeze(pd.read_csv ('../data/optimized_subsets/LSKmixgenes_bestANOVA.csv'))\n",
    "non_unique = np.squeeze(pd.read_csv('../data/non_unique_genes.csv'))\n",
    "for gene in non_unique:\n",
    "    if gene in gene_optimized:\n",
    "        gene_optimized.remove(gene)\n",
    "plot_cutoff(x=LSKmix, y=y, all_genes= genes_LSKmix, best_genes=gene_optimized,name_data='LSKmix')"
   ]
  },
  {
   "cell_type": "markdown",
   "id": "0c2c8a31",
   "metadata": {},
   "source": [
    "### Prediction by barcode library"
   ]
  },
  {
   "cell_type": "code",
   "execution_count": 10,
   "id": "a7dafe17",
   "metadata": {
    "collapsed": true,
    "jupyter": {
     "outputs_hidden": true
    },
    "tags": []
   },
   "outputs": [
    {
     "ename": "IndexError",
     "evalue": "index 13 is out of bounds for axis 0 with size 13",
     "output_type": "error",
     "traceback": [
      "\u001b[0;31m---------------------------------------------------------------------------\u001b[0m",
      "\u001b[0;31mIndexError\u001b[0m                                Traceback (most recent call last)",
      "\u001b[0;32m/var/folders/gz/s90yhf3d4yg_q6r76fs2lg380000gq/T/ipykernel_76196/2734331363.py\u001b[0m in \u001b[0;36m<module>\u001b[0;34m\u001b[0m\n\u001b[1;32m      6\u001b[0m \u001b[0;34m\u001b[0m\u001b[0m\n\u001b[1;32m      7\u001b[0m \u001b[0;32mfor\u001b[0m \u001b[0mi\u001b[0m \u001b[0;32min\u001b[0m \u001b[0mrange\u001b[0m\u001b[0;34m(\u001b[0m\u001b[0mlen\u001b[0m\u001b[0;34m(\u001b[0m\u001b[0mind_dataset\u001b[0m\u001b[0;34m)\u001b[0m\u001b[0;34m)\u001b[0m\u001b[0;34m:\u001b[0m\u001b[0;34m\u001b[0m\u001b[0;34m\u001b[0m\u001b[0m\n\u001b[0;32m----> 8\u001b[0;31m     \u001b[0mx_train\u001b[0m\u001b[0;34m,\u001b[0m \u001b[0my_train\u001b[0m\u001b[0;34m,\u001b[0m \u001b[0mx_test\u001b[0m\u001b[0;34m,\u001b[0m \u001b[0my_test\u001b[0m \u001b[0;34m=\u001b[0m \u001b[0mgetTrainTestAll\u001b[0m\u001b[0;34m(\u001b[0m\u001b[0my\u001b[0m\u001b[0;34m,\u001b[0m \u001b[0mLK\u001b[0m\u001b[0;34m,\u001b[0m \u001b[0mind_dataset\u001b[0m\u001b[0;34m,\u001b[0m \u001b[0mi\u001b[0m\u001b[0;34m)\u001b[0m\u001b[0;34m\u001b[0m\u001b[0;34m\u001b[0m\u001b[0m\n\u001b[0m\u001b[1;32m      9\u001b[0m \u001b[0;34m\u001b[0m\u001b[0m\n\u001b[1;32m     10\u001b[0m     \u001b[0mgenes_LSK\u001b[0m \u001b[0;34m=\u001b[0m \u001b[0mnp\u001b[0m\u001b[0;34m.\u001b[0m\u001b[0msqueeze\u001b[0m\u001b[0;34m(\u001b[0m\u001b[0mpd\u001b[0m\u001b[0;34m.\u001b[0m\u001b[0mread_csv\u001b[0m \u001b[0;34m(\u001b[0m\u001b[0;34m'../data/processed_data/LSKmixfusedlibraries_genes_interest.csv'\u001b[0m\u001b[0;34m)\u001b[0m\u001b[0;34m)\u001b[0m\u001b[0;34m\u001b[0m\u001b[0;34m\u001b[0m\u001b[0m\n",
      "\u001b[0;32m~/Documents/GitHub/src/pred_score.py\u001b[0m in \u001b[0;36mgetTrainTestAll\u001b[0;34m(y, x, ind_dataset, i)\u001b[0m\n\u001b[1;32m    518\u001b[0m \u001b[0;34m\u001b[0m\u001b[0m\n\u001b[1;32m    519\u001b[0m \u001b[0;34m\u001b[0m\u001b[0m\n\u001b[0;32m--> 520\u001b[0;31m     \u001b[0mx_train\u001b[0m \u001b[0;34m=\u001b[0m \u001b[0mnp\u001b[0m\u001b[0;34m.\u001b[0m\u001b[0mdelete\u001b[0m\u001b[0;34m(\u001b[0m\u001b[0mx\u001b[0m\u001b[0;34m,\u001b[0m \u001b[0mind_i\u001b[0m\u001b[0;34m,\u001b[0m \u001b[0maxis\u001b[0m\u001b[0;34m=\u001b[0m\u001b[0;36m0\u001b[0m\u001b[0;34m)\u001b[0m\u001b[0;34m\u001b[0m\u001b[0;34m\u001b[0m\u001b[0m\n\u001b[0m\u001b[1;32m    521\u001b[0m     \u001b[0my_train\u001b[0m \u001b[0;34m=\u001b[0m \u001b[0mnp\u001b[0m\u001b[0;34m.\u001b[0m\u001b[0mdelete\u001b[0m\u001b[0;34m(\u001b[0m\u001b[0my\u001b[0m\u001b[0;34m,\u001b[0m \u001b[0mind_i\u001b[0m\u001b[0;34m)\u001b[0m\u001b[0;34m\u001b[0m\u001b[0;34m\u001b[0m\u001b[0m\n\u001b[1;32m    522\u001b[0m     \u001b[0mx_test\u001b[0m \u001b[0;34m=\u001b[0m \u001b[0mx\u001b[0m\u001b[0;34m[\u001b[0m\u001b[0mind_i\u001b[0m\u001b[0;34m,\u001b[0m\u001b[0;34m:\u001b[0m\u001b[0;34m]\u001b[0m\u001b[0;34m\u001b[0m\u001b[0;34m\u001b[0m\u001b[0m\n",
      "\u001b[0;32m<__array_function__ internals>\u001b[0m in \u001b[0;36mdelete\u001b[0;34m(*args, **kwargs)\u001b[0m\n",
      "\u001b[0;32m~/opt/anaconda3/lib/python3.9/site-packages/numpy/lib/function_base.py\u001b[0m in \u001b[0;36mdelete\u001b[0;34m(arr, obj, axis)\u001b[0m\n\u001b[1;32m   4478\u001b[0m         \u001b[0;32melse\u001b[0m\u001b[0;34m:\u001b[0m\u001b[0;34m\u001b[0m\u001b[0;34m\u001b[0m\u001b[0m\n\u001b[1;32m   4479\u001b[0m             \u001b[0mkeep\u001b[0m \u001b[0;34m=\u001b[0m \u001b[0mones\u001b[0m\u001b[0;34m(\u001b[0m\u001b[0mN\u001b[0m\u001b[0;34m,\u001b[0m \u001b[0mdtype\u001b[0m\u001b[0;34m=\u001b[0m\u001b[0mbool\u001b[0m\u001b[0;34m)\u001b[0m\u001b[0;34m\u001b[0m\u001b[0;34m\u001b[0m\u001b[0m\n\u001b[0;32m-> 4480\u001b[0;31m             \u001b[0mkeep\u001b[0m\u001b[0;34m[\u001b[0m\u001b[0mobj\u001b[0m\u001b[0;34m,\u001b[0m\u001b[0;34m]\u001b[0m \u001b[0;34m=\u001b[0m \u001b[0;32mFalse\u001b[0m\u001b[0;34m\u001b[0m\u001b[0;34m\u001b[0m\u001b[0m\n\u001b[0m\u001b[1;32m   4481\u001b[0m \u001b[0;34m\u001b[0m\u001b[0m\n\u001b[1;32m   4482\u001b[0m         \u001b[0mslobj\u001b[0m\u001b[0;34m[\u001b[0m\u001b[0maxis\u001b[0m\u001b[0;34m]\u001b[0m \u001b[0;34m=\u001b[0m \u001b[0mkeep\u001b[0m\u001b[0;34m\u001b[0m\u001b[0;34m\u001b[0m\u001b[0m\n",
      "\u001b[0;31mIndexError\u001b[0m: index 13 is out of bounds for axis 0 with size 13"
     ]
    }
   ],
   "source": [
    "ind_dataset = np.squeeze(np.array(pd.read_csv('../data/processed_data/size_librariesLSKmix.csv')))\n",
    "#Load preprocess data\n",
    "LSK = np.array(pd.read_csv ('../data/processed_data/LSKmixfusedlibrary.csv'))\n",
    "y = np.array(LSK[:,-1],dtype=int)\n",
    "LSK = LSK[:,0:-1]\n",
    "\n",
    "for i in range(len(ind_dataset)):\n",
    "    x_train, y_train, x_test, y_test = getTrainTestAll(y, LK, ind_dataset, i)\n",
    "    \n",
    "    genes_LSK = np.squeeze(pd.read_csv ('../data/processed_data/LSKmixfusedlibraries_genes_interest.csv'))\n",
    "    gene_optimized = np.squeeze(pd.read_csv ('../data/optimized_subsets/LSKmixgenes_bestANOVA.csv'))\n",
    "\n",
    "    ind_opt_genes = []\n",
    "    for gene in gene_optimized:\n",
    "        ind = np.squeeze(np.where(genes_LSK == gene))\n",
    "        if ind.shape == ():\n",
    "            ind_opt_genes = np.append(ind_opt_genes, int(ind))\n",
    "        else:\n",
    "            for i in ind:\n",
    "                    ind_opt_genes = np.append(ind_opt_genes, int(i))\n",
    "\n",
    "    ind_opt_genes= list(ind_opt_genes.astype(int))\n",
    "    \n",
    "    x_test= x_test[:,ind_opt_genes]\n",
    "    \n",
    "    model = FamiliesClusters(np.unique(y_test),compute_precision,True)\n",
    "    pred = model.fit_predict(x_test,y_test)\n",
    "    print(model.score_, model.recovery)\n",
    "    \n",
    "    #Predict repetitively\n",
    "    model = EnsemblingHierarchical(np.unique(y_test),compute_precision,True,subsets = subsets, ensembling='voting', threshold_voting = 0.5)\n",
    "    result  = model.fit_predict(X = x_test, y = y_test)\n",
    "    print(model.score_, model.recovery)"
   ]
  },
  {
   "cell_type": "code",
   "execution_count": null,
   "id": "df0d3dcc",
   "metadata": {},
   "outputs": [],
   "source": []
  }
 ],
 "metadata": {
  "kernelspec": {
   "display_name": "Python 3 (ipykernel)",
   "language": "python",
   "name": "python3"
  },
  "language_info": {
   "codemirror_mode": {
    "name": "ipython",
    "version": 3
   },
   "file_extension": ".py",
   "mimetype": "text/x-python",
   "name": "python",
   "nbconvert_exporter": "python",
   "pygments_lexer": "ipython3",
   "version": "3.9.7"
  }
 },
 "nbformat": 4,
 "nbformat_minor": 5
}
