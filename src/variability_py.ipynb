{
 "cells": [
  {
   "cell_type": "code",
   "execution_count": 1,
   "metadata": {},
   "outputs": [],
   "source": [
    "import numpy as np\n",
    "import pandas as pd\n",
    "import matplotlib.pyplot as plt\n",
    "import pyreadr\n",
    "\n",
    "from hepstats.modeling import bayesian_blocks"
   ]
  },
  {
   "cell_type": "code",
   "execution_count": 2,
   "metadata": {},
   "outputs": [],
   "source": [
    "#Load data\n",
    "AE3 = pyreadr.read_r('../data/family_datasets/data_norm/AE3_scran_norm.rds')\n",
    "AE3 = AE3[None]\n",
    "\n",
    "AE4 = pyreadr.read_r('../data/family_datasets/data_norm/AE4_scran_norm.rds')\n",
    "AE4 = AE4[None]\n",
    "\n",
    "D0 = pyreadr.read_r('../data/family_datasets/data_norm/BIDDY_D0_RPM_norm.rds')\n",
    "D0 = D0[None]\n",
    "\n",
    "D0_2 = pyreadr.read_r('../data/family_datasets/data_norm/BIDDY_D0_2_RPM_norm.rds')\n",
    "D0_2 = D0_2[None]\n",
    "\n",
    "D6 = pyreadr.read_r('../data/family_datasets/data_norm/BIDDY_D6_RPM_norm.rds')\n",
    "D6  = D6[None]\n",
    "\n",
    "D6_2 = pyreadr.read_r('../data/family_datasets/data_norm/BIDDY_D6_2_RPM_norm.rds')\n",
    "D6_2 = D6_2[None]\n",
    "\n",
    "D15 = pyreadr.read_r('../data/family_datasets/data_norm/BIDDY_D15_RPM_norm.rds')\n",
    "D15 = D15[None]\n",
    "\n",
    "D15_2 = pyreadr.read_r('../data/family_datasets/data_norm/BIDDY_D15_2_RPM_norm.rds')\n",
    "D15_2 = D15_2[None]\n",
    "\n",
    "LK = pd.read_csv ('../data/family_datasets/data_norm/Weinreb_LK_D2_exp1_norm_lifted.csv')\n",
    "LK = LK.set_index('Unnamed: 0')     \n",
    "LK = LK.rename_axis(None)\n",
    "\n",
    "LK_2 = pd.read_csv('../data/family_datasets/data_norm/Weinreb_LK_D2_exp2_norm_lifted.csv')\n",
    "LK_2 = LK_2.set_index('Unnamed: 0')    \n",
    "LK_2 = LK_2.rename_axis(None)\n",
    "\n",
    "LSK = pd.read_csv('../data/family_datasets/data_norm/Weinreb_LSK_D2_exp1_norm_lifted.csv')\n",
    "LSK = LSK.set_index('Unnamed: 0')     \n",
    "LSK = LSK.rename_axis(None)\n",
    "\n",
    "LSK_2 = pd.read_csv('../data/family_datasets/data_norm/Weinreb_LSK_D2_exp2_norm_lifted.csv')\n",
    "LSK_2 = LSK_2.set_index('Unnamed: 0')     \n",
    "LSK_2 = LSK_2.rename_axis(None)\n",
    "\n",
    "LSKmix = pd.read_csv('../data/family_datasets/data_norm/Weinreb_LK_LSK_D2_exp3_norm_lifted.csv')\n",
    "LSKmix = LSKmix.set_index('Unnamed: 0') \n",
    "LSKmix = LSKmix.rename_axis(None)"
   ]
  },
  {
   "cell_type": "code",
   "execution_count": null,
   "metadata": {},
   "outputs": [],
   "source": [
    "#Get common genes name\n",
    "genes = AE3.index.intersection(LK.index)\n",
    "genes = genes.intersection(LSK.index)\n",
    "genes = genes.intersection(LSKmix.index)\n",
    "LK_2.loc[genes,] "
   ]
  },
  {
   "cell_type": "code",
   "execution_count": 6,
   "metadata": {},
   "outputs": [],
   "source": [
    "#Binning of gene expression in each cell or gene using bayesian block or binary binning\n",
    "def binning_norm_bycell(norm:pd.DataFrame, name_data:str, binning_method:str, bycell:bool):\n",
    "    counts = []\n",
    "    \n",
    "    length = norm.shape[1]\n",
    "    if bycell == False:\n",
    "        length = norm.shape[0]\n",
    "        \n",
    "    for i in range(0,length):\n",
    "        if bycell == True:\n",
    "            data = norm.iloc[:,i]\n",
    "        else:\n",
    "            data = norm.iloc[i,:]\n",
    "\n",
    "        #Get bin edges using bayesian blocks and count of binning\n",
    "        if binning_method == 'bayesian':\n",
    "            bins = bayesian_blocks(data)\n",
    "        else:\n",
    "            bins = [0,1e-4,max(data)]\n",
    "        if (len(np.nonzero(np.array(data))[0]) == 0):\n",
    "            bins = [0,1e-4]\n",
    "\n",
    "        count, bin_edges = np.histogram(data, bins)\n",
    "        counts.append(count)\n",
    "    \n",
    "    by = 'bycell'\n",
    "    if bycell == False:\n",
    "            by = 'bygene'\n",
    "            \n",
    "    output_path = '../data/count_histogram/' + name_data + binning_method + '_' + by +'.csv'\n",
    "    pd.DataFrame(counts).to_csv(output_path, index=False)"
   ]
  },
  {
   "cell_type": "code",
   "execution_count": 7,
   "metadata": {},
   "outputs": [],
   "source": [
    "norms = [AE3, AE4, D0, D0_2, D6, D6_2, D15, D15_2, LK, LK_2, LSK, LSK_2, LSKmix]\n",
    "norms_name = ['AE3', 'AE4', 'D0', 'D0_2', 'D6', 'D6_2', 'D15', 'D15_2', 'LK', 'LK_2', 'LSK', 'LSK_2', 'LSKmix']"
   ]
  },
  {
   "cell_type": "code",
   "execution_count": 17,
   "metadata": {},
   "outputs": [
    {
     "name": "stdout",
     "output_type": "stream",
     "text": [
      "AE3  shape:  (32285, 1268)\n",
      "AE4  shape:  (32285, 7094)\n",
      "D0  shape:  (32285, 2887)\n",
      "D0_2  shape:  (32285, 11457)\n",
      "D6  shape:  (32285, 4836)\n",
      "D6_2  shape:  (32285, 2909)\n",
      "D15  shape:  (32285, 4106)\n",
      "D15_2  shape:  (32285, 5641)\n",
      "LK  shape:  (25289, 7793)\n",
      "LK_2  shape:  (25289, 222)\n",
      "LSK  shape:  (25289, 20456)\n",
      "LSK_2  shape:  (25289, 18823)\n",
      "LSKmix  shape:  (25289, 15728)\n"
     ]
    }
   ],
   "source": [
    "norms = [AE3, AE4, D0, D0_2, D6, D6_2, D15, D15_2, LK, LK_2, LSK, LSK_2, LSKmix]\n",
    "norms_name = ['AE3', 'AE4', 'D0', 'D0_2', 'D6', 'D6_2', 'D15', 'D15_2', 'LK', 'LK_2', 'LSK', 'LSK_2', 'LSKmix']\n",
    "\n",
    "for i, norm in enumerate(norms):\n",
    "    print(norms_name[i], ' shape: ', norm.shape)\n",
    "    \n",
    "    binning_norm_bycell(norm, norms_name[i], 'bayesian', True)"
   ]
  },
  {
   "cell_type": "code",
   "execution_count": 9,
   "metadata": {},
   "outputs": [
    {
     "name": "stdout",
     "output_type": "stream",
     "text": [
      "AE3  shape:  (32285, 1268)\n",
      "AE4  shape:  (32285, 7094)\n",
      "D0  shape:  (32285, 2887)\n",
      "D0_2  shape:  (32285, 11457)\n",
      "D6  shape:  (32285, 4836)\n",
      "D6_2  shape:  (32285, 2909)\n",
      "D15  shape:  (32285, 4106)\n",
      "D15_2  shape:  (32285, 5641)\n",
      "LK  shape:  (25289, 7793)\n",
      "LK_2  shape:  (25289, 222)\n",
      "LSK  shape:  (25289, 20456)\n",
      "LSK_2  shape:  (25289, 18823)\n",
      "LSKmix  shape:  (25289, 15728)\n"
     ]
    }
   ],
   "source": [
    "for i, norm in enumerate(norms):\n",
    "    print(norms_name[i], ' shape: ', norm.shape)\n",
    "    \n",
    "    binning_norm_bycell(norm, norms_name[i], 'binary', True)"
   ]
  },
  {
   "cell_type": "code",
   "execution_count": 8,
   "metadata": {},
   "outputs": [
    {
     "name": "stdout",
     "output_type": "stream",
     "text": [
      "AE3  shape:  (32285, 1268)\n"
     ]
    },
    {
     "name": "stderr",
     "output_type": "stream",
     "text": [
      "C:\\Users\\alexi\\anaconda3\\lib\\site-packages\\hepstats\\modeling\\bayesian_blocks.py:149: RuntimeWarning: divide by zero encountered in true_divide\n",
      "  fit_vec = N_k * (np.log(N_k / T_k))\n"
     ]
    },
    {
     "name": "stdout",
     "output_type": "stream",
     "text": [
      "AE4  shape:  (32285, 7094)\n",
      "D0  shape:  (32285, 2887)\n",
      "D0_2  shape:  (32285, 11457)\n",
      "D6  shape:  (32285, 4836)\n",
      "D6_2  shape:  (32285, 2909)\n",
      "D15  shape:  (32285, 4106)\n",
      "D15_2  shape:  (32285, 5641)\n",
      "LK  shape:  (25289, 7793)\n",
      "LK_2  shape:  (25289, 222)\n",
      "LSK  shape:  (25289, 20456)\n",
      "LSK_2  shape:  (25289, 18823)\n",
      "LSKmix  shape:  (25289, 15728)\n"
     ]
    }
   ],
   "source": [
    "for i, norm in enumerate(norms):\n",
    "    print(norms_name[i], ' shape: ', norm.shape)\n",
    "    \n",
    "    binning_norm_bycell(norm, norms_name[i], 'bayesian', False)"
   ]
  },
  {
   "cell_type": "code",
   "execution_count": 15,
   "metadata": {},
   "outputs": [
    {
     "name": "stdout",
     "output_type": "stream",
     "text": [
      "AE3  shape:  (32285, 1268)\n",
      "AE4  shape:  (32285, 7094)\n",
      "D0  shape:  (32285, 2887)\n",
      "D0_2  shape:  (32285, 11457)\n",
      "D6  shape:  (32285, 4836)\n",
      "D6_2  shape:  (32285, 2909)\n",
      "D15  shape:  (32285, 4106)\n",
      "D15_2  shape:  (32285, 5641)\n",
      "LK  shape:  (25289, 7793)\n",
      "LK_2  shape:  (25289, 222)\n",
      "LSK  shape:  (25289, 20456)\n",
      "LSK_2  shape:  (25289, 18823)\n",
      "LSKmix  shape:  (25289, 15728)\n"
     ]
    }
   ],
   "source": [
    "for i, norm in enumerate(norms):\n",
    "    print(norms_name[i], ' shape: ', norm.shape)\n",
    "    \n",
    "    binning_norm_bycell(norm, norms_name[i], 'binary', False)"
   ]
  },
  {
   "cell_type": "code",
   "execution_count": null,
   "metadata": {},
   "outputs": [],
   "source": []
  }
 ],
 "metadata": {
  "kernelspec": {
   "display_name": "Python 3",
   "language": "python",
   "name": "python3"
  },
  "language_info": {
   "codemirror_mode": {
    "name": "ipython",
    "version": 3
   },
   "file_extension": ".py",
   "mimetype": "text/x-python",
   "name": "python",
   "nbconvert_exporter": "python",
   "pygments_lexer": "ipython3",
   "version": "3.8.5"
  }
 },
 "nbformat": 4,
 "nbformat_minor": 4
}
