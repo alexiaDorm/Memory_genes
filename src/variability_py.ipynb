{
 "cells": [
  {
   "cell_type": "code",
   "execution_count": 1,
   "metadata": {},
   "outputs": [],
   "source": [
    "import numpy as np\n",
    "import pandas as pd\n",
    "import matplotlib.pyplot as plt\n",
    "\n",
    "from hepstats.modeling import bayesian_blocks"
   ]
  },
  {
   "cell_type": "code",
   "execution_count": 41,
   "metadata": {},
   "outputs": [
    {
     "name": "stdout",
     "output_type": "stream",
     "text": [
      "(23461, 1023)\n"
     ]
    }
   ],
   "source": [
    "#Load data\n",
    "norm = pd.read_csv ('../data/merged_data/LSKmix.csv')\n",
    "norm = norm.set_index('Unnamed: 0')\n",
    "print(norm.shape)"
   ]
  },
  {
   "cell_type": "code",
   "execution_count": 42,
   "metadata": {},
   "outputs": [],
   "source": [
    "#Binning of gene expression in each cell using bayesian block\n",
    "counts = []\n",
    "for i in range(0,norm.shape[0]):\n",
    "    data = norm.iloc[i,:]\n",
    "    \n",
    "    #Get bin edges using bayesian blocks and count of binning\n",
    "    blocks = bayesian_blocks(data)\n",
    "    edge_binary = [0,1e-4,max(data)]\n",
    "    if (len(np.nonzero(np.array(data))[0]) == 0):\n",
    "        edge_binary = [0,1e-4]\n",
    "        \n",
    "    count, bin_edges = np.histogram(data, bins=edge_binary)\n",
    "    counts.append(count)"
   ]
  },
  {
   "cell_type": "code",
   "execution_count": 43,
   "metadata": {},
   "outputs": [],
   "source": [
    "pd.DataFrame(counts).to_csv('../data/count_histogram/LSKmix_count_bygene.csv', index=False)"
   ]
  }
 ],
 "metadata": {
  "kernelspec": {
   "display_name": "Python 3",
   "language": "python",
   "name": "python3"
  },
  "language_info": {
   "codemirror_mode": {
    "name": "ipython",
    "version": 3
   },
   "file_extension": ".py",
   "mimetype": "text/x-python",
   "name": "python",
   "nbconvert_exporter": "python",
   "pygments_lexer": "ipython3",
   "version": "3.8.5"
  }
 },
 "nbformat": 4,
 "nbformat_minor": 4
}
