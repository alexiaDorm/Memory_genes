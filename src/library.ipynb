{
 "cells": [
  {
   "cell_type": "code",
   "execution_count": 1,
   "id": "bc546b8b-81bd-4819-979d-05f2f06f1f34",
   "metadata": {},
   "outputs": [],
   "source": [
    "import numpy as np\n",
    "import io \n",
    "import pandas as pd \n",
    "import pyreadr\n",
    "\n",
    "from load_data import *"
   ]
  },
  {
   "cell_type": "code",
   "execution_count": 2,
   "id": "462a5650-5870-4399-b620-ed6b1c3aba31",
   "metadata": {},
   "outputs": [
    {
     "name": "stdout",
     "output_type": "stream",
     "text": [
      "(19042, 1352) (1352, 1)\n",
      "(25289, 3383) (3383, 1)\n",
      "(23461, 1023) (1023, 1)\n"
     ]
    }
   ],
   "source": [
    "#Load Weinreb LK data\n",
    "LK = pd.read_csv ('../data/merged_data/LK.csv')\n",
    "LK = LK.set_index('Unnamed: 0')\n",
    "y_LK  = np.squeeze(np.array(pd.read_csv('../data/merged_data/y_LK.csv')))\n",
    "y_LK = pd.DataFrame(y_LK, index = LK.columns)\n",
    "print(np.shape(LK), np.shape(y_LK))\n",
    "\n",
    "#Load Weinreb LSK data\n",
    "LSK = pd.read_csv ('../data/merged_data/LSK.csv')\n",
    "LSK = LSK.set_index('Unnamed: 0')\n",
    "y_LSK  =np.squeeze(np.array(pd.read_csv('../data/merged_data/y_LSK.csv')))\n",
    "y_LSK = pd.DataFrame(y_LSK, index = LSK.columns)\n",
    "print(np.shape(LSK), np.shape(y_LSK))\n",
    "\n",
    "#Load Weinreb LSKmix data\n",
    "LSKmix = pd.read_csv ('../data/merged_data/LSKmix.csv')\n",
    "LSKmix = LSKmix.set_index('Unnamed: 0')\n",
    "y_LSKmix  = np.squeeze(np.array(pd.read_csv('../data/merged_data/y_LSKmix.csv')))\n",
    "y_LSKmix = pd.DataFrame(y_LSKmix, index = LSKmix.columns)\n",
    "print(np.shape(LSKmix), np.shape(y_LSKmix))"
   ]
  },
  {
   "cell_type": "code",
   "execution_count": 3,
   "id": "fc479f48-2273-4839-bb8d-8456db78175c",
   "metadata": {},
   "outputs": [],
   "source": [
    "LK_lib1 = pyreadr.read_r('../data/family_datasets/family_info/family_info_Weinreb_LK_D2_exp1_library_d2_1.RData')['WORK_clones']['cell.barcode']\n",
    "LK_lib2 = pyreadr.read_r('../data/family_datasets/family_info/family_info_Weinreb_LK_D2_exp1_library_d2_2.RData')['WORK_clones']['cell.barcode']\n",
    "LK_lib3 = pyreadr.read_r('../data/family_datasets/family_info/family_info_Weinreb_LK_D2_exp1_library_LK_d2.RData')['WORK_clones']['cell.barcode']\n",
    "LK_lib4 = pyreadr.read_r('../data/family_datasets/family_info/family_info_Weinreb_LK_D2_exp1_library_d2_2.RData')['WORK_clones']['cell.barcode']\n",
    "LK_lib5 = pyreadr.read_r('../data/family_datasets/family_info/family_info_Weinreb_LK_D2_exp2_library_d2_1_IV5.RData')['WORK_clones']['Cellbarcode']\n",
    "LK_lib6 = pyreadr.read_r('../data/family_datasets/family_info/family_info_Weinreb_LK_D2_exp2_library_d2_2_IV5.RData')['WORK_clones']['Cellbarcode']\n",
    "LK_lib7 = pyreadr.read_r('../data/family_datasets/family_info/family_info_Weinreb_LK_D2_exp2_library_d2_3_IV5.RData')['WORK_clones']['Cellbarcode']\n",
    "LK_lib8 = pyreadr.read_r('../data/family_datasets/family_info/family_info_Weinreb_LK_D2_exp2_library_d2_4_IV5.RData')['WORK_clones']['Cellbarcode']\n",
    "LK_lib9 = pyreadr.read_r('../data/family_datasets/family_info/family_info_Weinreb_LK_D2_exp2_library_d2_5_IV5.RData')['WORK_clones']['Cellbarcode']\n",
    "\n",
    "LSK_lib1 = pyreadr.read_r('../data/family_datasets/family_info/family_info_Weinreb_LSK_D2_exp1_library_LSK_d2_1.RData')['WORK_clones']['cell.barcode']\n",
    "LSK_lib2 = pyreadr.read_r('../data/family_datasets/family_info/family_info_Weinreb_LSK_D2_exp1_library_LSK_d2_2.RData')['WORK_clones']['cell.barcode']\n",
    "LSK_lib3 = pyreadr.read_r('../data/family_datasets/family_info/family_info_Weinreb_LSK_D2_exp1_library_LSK_d2_3.RData')['WORK_clones']['cell.barcode']\n",
    "LSK_lib4 = pyreadr.read_r('../data/family_datasets/family_info/family_info_Weinreb_LSK_D2_exp2_library_d2A_1.RData')['WORK_clones']['Cellbarcode']\n",
    "LSK_lib5 = pyreadr.read_r('../data/family_datasets/family_info/family_info_Weinreb_LSK_D2_exp2_library_d2A_2.RData')['WORK_clones']['Cellbarcode']\n",
    "LSK_lib6 = pyreadr.read_r('../data/family_datasets/family_info/family_info_Weinreb_LSK_D2_exp2_library_d2A_3.RData')['WORK_clones']['Cellbarcode']\n",
    "LSK_lib7 = pyreadr.read_r('../data/family_datasets/family_info/family_info_Weinreb_LSK_D2_exp2_library_d2A_4.RData')['WORK_clones']['Cellbarcode']\n",
    "LSK_lib8 = pyreadr.read_r('../data/family_datasets/family_info/family_info_Weinreb_LSK_D2_exp2_library_d2A_5.RData')['WORK_clones']['Cellbarcode']\n",
    "LSK_lib9 = pyreadr.read_r('../data/family_datasets/family_info/family_info_Weinreb_LSK_D2_exp2_library_d2B_1.RData')['WORK_clones']['Cellbarcode']\n",
    "LSK_lib10 = pyreadr.read_r('../data/family_datasets/family_info/family_info_Weinreb_LSK_D2_exp2_library_d2B_2.RData')['WORK_clones']['Cellbarcode']\n",
    "LSK_lib11 = pyreadr.read_r('../data/family_datasets/family_info/family_info_Weinreb_LSK_D2_exp2_library_d2B_3.RData')['WORK_clones']['Cellbarcode']\n",
    "LSK_lib12 = pyreadr.read_r('../data/family_datasets/family_info/family_info_Weinreb_LSK_D2_exp2_library_d2B_4.RData')['WORK_clones']['Cellbarcode']\n",
    "LSK_lib13 = pyreadr.read_r('../data/family_datasets/family_info/family_info_Weinreb_LSK_D2_exp2_library_d2B_5.RData')['WORK_clones']['Cellbarcode']\n",
    "\n",
    "LSKmix_lib1 = pyreadr.read_r('../data/family_datasets/family_info/family_info_Weinreb_LK_LSK_D2_exp3_library_d2_1.RData')['WORK_clones']['Cellbarcode']\n",
    "LSKmix_lib2 = pyreadr.read_r('../data/family_datasets/family_info/family_info_Weinreb_LK_LSK_D2_exp3_library_d2_2.RData')['WORK_clones']['Cellbarcode']\n",
    "LSKmix_lib3 = pyreadr.read_r('../data/family_datasets/family_info/family_info_Weinreb_LK_LSK_D2_exp3_library_d2_3.RData')['WORK_clones']['Cellbarcode']\n",
    "LSKmix_lib4 = pyreadr.read_r('../data/family_datasets/family_info/family_info_Weinreb_LK_LSK_D2_exp3_library_d2_4.RData')['WORK_clones']['Cellbarcode']\n",
    "LSKmix_lib5 = pyreadr.read_r('../data/family_datasets/family_info/family_info_Weinreb_LK_LSK_D2_exp3_library_d2_5.RData')['WORK_clones']['Cellbarcode']\n",
    "LSKmix_lib6 = pyreadr.read_r('../data/family_datasets/family_info/family_info_Weinreb_LK_LSK_D2_exp3_library_d2_6.RData')['WORK_clones']['Cellbarcode']"
   ]
  },
  {
   "cell_type": "code",
   "execution_count": 4,
   "id": "b933b327-087b-41be-a4a5-6b5ac1b86a34",
   "metadata": {},
   "outputs": [],
   "source": [
    "LK_lib = [LK_lib1,LK_lib2,LK_lib3, LK_lib4, LK_lib5, LK_lib6, LK_lib7,LK_lib8,LK_lib9]\n",
    "LSK_lib = [LSK_lib1,LSK_lib2,LSK_lib3, LSK_lib4, LSK_lib5, LSK_lib6, LSK_lib7,LSK_lib8,LSK_lib9, LSK_lib10, LSK_lib11,LSK_lib12,LSK_lib13]\n",
    "LSKmix_lib = [LSKmix_lib1,LSKmix_lib2,LSKmix_lib3, LSKmix_lib4, LSKmix_lib5, LSKmix_lib6]"
   ]
  },
  {
   "cell_type": "code",
   "execution_count": 18,
   "id": "d5921ad0-c172-4efe-b426-0c1c714fed99",
   "metadata": {},
   "outputs": [],
   "source": [
    "for i, lib in enumerate(LK_lib):\n",
    "    LK_temp = pd.DataFrame(LK[LK.columns.intersection(lib)])\n",
    "    \n",
    "    y_temp = pd.DataFrame(y_LK.T[y_LK.index.intersection(lib)]).T\n",
    "    families, count = np.unique(y_temp, return_counts=True)\n",
    "    families_interest = families[np.logical_and(count > 1, count < 6)]\n",
    "    cond = np.squeeze(np.array(y_temp.isin(families_interest)))\n",
    "    y = y_temp[cond]\n",
    "    \n",
    "    LK_temp = pd.DataFrame(LK[y.index])\n",
    "    \n",
    "    LK_temp.to_csv('../data/processed_data/LKlib' + str(i) + '.csv', index=False)\n",
    "    y.to_csv('../data/processed_data/y_LK_lib' + str(i) + '.csv', index=False)\n",
    "    \n",
    "for i, lib in enumerate(LSK_lib):\n",
    "    LSK_temp = pd.DataFrame(LSK[LSK.columns.intersection(lib)])\n",
    "    \n",
    "    y_temp = pd.DataFrame(y_LSK.T[y_LSK.index.intersection(lib)]).T\n",
    "    families, count = np.unique(y_temp, return_counts=True)\n",
    "    families_interest = families[np.logical_and(count > 1, count < 6)]\n",
    "    cond = np.squeeze(np.array(y_temp.isin(families_interest)))\n",
    "    y = y_temp[cond]\n",
    "    \n",
    "    LSK_temp.to_csv('../data/processed_data/LSKlib' + str(i) + '.csv', index=False)\n",
    "    y.to_csv('../data/processed_data/y_LSK_lib' + str(i) + '.csv', index=False)\n",
    "\n",
    "for i, lib in enumerate(LSKmix_lib):\n",
    "    LSKmix_temp = pd.DataFrame(LSKmix[LSKmix.columns.intersection(lib)])\n",
    "    y_temp = pd.DataFrame(y_LSKmix.T[y_LSKmix.index.intersection(lib)]).T\n",
    "    \n",
    "    y_temp = pd.DataFrame(y_LSKmix.T[y_LSKmix.index.intersection(lib)]).T\n",
    "    families, count = np.unique(y_temp, return_counts=True)\n",
    "    families_interest = families[np.logical_and(count > 1, count < 6)]\n",
    "    cond = np.squeeze(np.array(y_temp.isin(families_interest)))\n",
    "    y = y_temp[cond]\n",
    "    \n",
    "    LSKmix_temp.to_csv('../data/processed_data/LSKmixlib' + str(i) + '.csv', index=False)\n",
    "    y.to_csv('../data/processed_data/y_LSKmix_lib' + str(i) + '.csv', index=False)\n",
    "    "
   ]
  },
  {
   "cell_type": "code",
   "execution_count": null,
   "id": "cfeae94c-11d1-439b-8e72-a986f35ea8f1",
   "metadata": {},
   "outputs": [],
   "source": []
  }
 ],
 "metadata": {
  "kernelspec": {
   "display_name": "Python 3 (ipykernel)",
   "language": "python",
   "name": "python3"
  },
  "language_info": {
   "codemirror_mode": {
    "name": "ipython",
    "version": 3
   },
   "file_extension": ".py",
   "mimetype": "text/x-python",
   "name": "python",
   "nbconvert_exporter": "python",
   "pygments_lexer": "ipython3",
   "version": "3.9.7"
  }
 },
 "nbformat": 4,
 "nbformat_minor": 5
}
