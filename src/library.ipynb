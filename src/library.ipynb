{
 "cells": [
  {
   "cell_type": "code",
   "execution_count": 90,
   "id": "bc546b8b-81bd-4819-979d-05f2f06f1f34",
   "metadata": {},
   "outputs": [],
   "source": [
    "import numpy as np\n",
    "import io \n",
    "import pandas as pd \n",
    "import pyreadr\n",
    "\n",
    "from load_data import *"
   ]
  },
  {
   "cell_type": "code",
   "execution_count": 155,
   "id": "d6faa2ac-f9f4-4985-b658-8f44c455118f",
   "metadata": {},
   "outputs": [
    {
     "name": "stdout",
     "output_type": "stream",
     "text": [
      "OrderedDict([('Metadata',            Library               Cellbarcode  Timepoint Startingpopulation  \\\n",
      "0           d6_2_2       GCGTGCAA_AGAAGTTA_1        6.0      Lin-Kit+Sca1-   \n",
      "1           d6_2_2       AAGGGACC_CTCGATGC_2        6.0      Lin-Kit+Sca1-   \n",
      "2           d6_2_2       CGTACCGA_AGCGCCTT_3        6.0      Lin-Kit+Sca1-   \n",
      "3           d6_2_2       CTGAAGGG_AGGAGCTT_4        6.0      Lin-Kit+Sca1-   \n",
      "4           d6_2_2       CCGTAGCT_AGGCAGTT_5        6.0      Lin-Kit+Sca1-   \n",
      "...            ...                       ...        ...                ...   \n",
      "130882  LSK_d6_1_3  TCTGATTT_CGGGCTTT_130883        6.0      Lin-Kit+Sca1+   \n",
      "130883  LSK_d6_1_3  AGTCACAA_TGTGTCCT_130884        6.0      Lin-Kit+Sca1+   \n",
      "130884  LSK_d6_1_3  GGAGGTTT_AGGCAGTT_130885        6.0      Lin-Kit+Sca1+   \n",
      "130885  LSK_d6_1_3  CCGGAAAT_GGGAAGGT_130886        6.0      Lin-Kit+Sca1+   \n",
      "130886  LSK_d6_1_3  GTATTGAC_GGGTGTAT_130887        6.0      Lin-Kit+Sca1+   \n",
      "\n",
      "       Celltypeannotation  Well  SPRING.x  SPRING.y  \n",
      "0        Undifferentiated     2   411.496   -96.190  \n",
      "1        Undifferentiated     2  -587.462  -306.925  \n",
      "2                Monocyte     2  1429.805  -429.300  \n",
      "3              Neutrophil     2  1150.028 -2030.369  \n",
      "4        Undifferentiated     2 -1169.594   362.010  \n",
      "...                   ...   ...       ...       ...  \n",
      "130882   Undifferentiated     1  -308.468  -163.223  \n",
      "130883   Undifferentiated     1    -3.435   575.133  \n",
      "130884           Monocyte     1  2548.309    24.683  \n",
      "130885           Monocyte     1  2658.601   131.098  \n",
      "130886   Undifferentiated     1  -266.344   996.297  \n",
      "\n",
      "[130887 rows x 8 columns])])\n"
     ]
    }
   ],
   "source": [
    "LK_metadata = pyreadr.read_r('../data/Metadata_weinreb_new_clone_name.RData')\n",
    "print(LK_metadata)\n",
    "LK_metadata = np.array(LK_metadata['Metadata'])[:,0:2]"
   ]
  },
  {
   "cell_type": "code",
   "execution_count": 122,
   "id": "eb1f66c3-f37a-4d9d-b7bd-167a0785e43e",
   "metadata": {},
   "outputs": [],
   "source": [
    "library = np.unique(LK_metadata[:,0])\n",
    "\n",
    "cells_library =  list([None] * len(library))\n",
    "for i, lib in enumerate(library):\n",
    "    cells = LK_metadata[LK_metadata[:,0] == lib][:,1]\n",
    "    cells_library[i] = cells"
   ]
  },
  {
   "cell_type": "code",
   "execution_count": 146,
   "id": "462a5650-5870-4399-b620-ed6b1c3aba31",
   "metadata": {},
   "outputs": [
    {
     "name": "stdout",
     "output_type": "stream",
     "text": [
      "(16760, 610) (610, 1)\n",
      "(25289, 3383) (3383, 1)\n",
      "(23461, 1023) (1023, 1)\n"
     ]
    }
   ],
   "source": [
    "#Load Weinreb LK data\n",
    "LK = pd.read_csv ('../data/merged_data/LK.csv')\n",
    "LK = LK.set_index('Unnamed: 0')\n",
    "y_LK  = np.squeeze(np.array(pd.read_csv('../data/merged_data/y_LK.csv')))\n",
    "y_LK = pd.DataFrame(y_LK, index = LK.columns)\n",
    "print(np.shape(LK), np.shape(y_LK))\n",
    "\n",
    "#Load Weinreb LSK data\n",
    "LSK = pd.read_csv ('../data/merged_data/LSK.csv')\n",
    "LSK = LSK.set_index('Unnamed: 0')\n",
    "y_LSK  =np.squeeze(np.array(pd.read_csv('../data/merged_data/y_LSK.csv')))\n",
    "y_LSK = pd.DataFrame(y_LSK, index = LSK.columns)\n",
    "print(np.shape(LSK), np.shape(y_LSK))\n",
    "\n",
    "#Load Weinreb LSKmix data\n",
    "LSKmix = pd.read_csv ('../data/merged_data/LSKmix.csv')\n",
    "LSKmix = LSKmix.set_index('Unnamed: 0')\n",
    "y_LSKmix  = np.squeeze(np.array(pd.read_csv('../data/merged_data/y_LSKmix.csv')))\n",
    "y_LSKmix = pd.DataFrame(y_LSKmix, index = LSKmix.columns)\n",
    "print(np.shape(LSKmix), np.shape(y_LSKmix))"
   ]
  },
  {
   "cell_type": "code",
   "execution_count": null,
   "id": "fc479f48-2273-4839-bb8d-8456db78175c",
   "metadata": {},
   "outputs": [],
   "source": [
    "cells_lib = np.array([])\n",
    "for cells in cells_library:\n",
    "    cells_lib = np.append(cells_lib,LSKmix.columns.intersection(cells))\n",
    "    print(len(cells_lib))\n",
    "    \n",
    "LK_lib1 = LK.columns.intersection(cells_library[0])\n",
    "LK_lib2 = LK.columns.intersection(cells_library[22])\n",
    "LK_lib3 = LK.columns.intersection(cells_library[23])\n",
    "LK_lib4 = LK.columns.intersection(cells_library[24])\n",
    "\n",
    "LSK_lib1 = LK.columns.intersection(cells_library[7])\n",
    "LSK_lib2 = LK.columns.intersection(cells_library[8])\n",
    "LSK_lib3 = LK.columns.intersection(cells_library[9])\n",
    "\n",
    "LSKmix_lib1 = LK.columns.intersection(cells_library[7])\n",
    "LSKmix_lib2 = LK.columns.intersection(cells_library[8])\n",
    "LSKmix_lib3 = LK.columns.intersection(cells_library[9])\n",
    "\n",
    "print(len(LSK.columns.intersection(cells_library[9])))"
   ]
  },
  {
   "cell_type": "code",
   "execution_count": 159,
   "id": "c79df6ab-f758-4cc7-a64a-5a8d315f5d91",
   "metadata": {},
   "outputs": [
    {
     "name": "stdout",
     "output_type": "stream",
     "text": [
      "Index(['GATTGGGA_ACTGCCGT_49652', 'GATTGGGA_ACTGCCGT_52874',\n",
      "       'ACGGGTTA_ATTGGGCC_56858', 'AACAGCGG_CTGGTGCA_53209',\n",
      "       'GCTACCGT_GGCCCTTA_60791', 'ACTACCCG_GGGAAATC_63296',\n",
      "       'CGATGGCA_ACTTCAAT_53287', 'CCCTCTTG_ATTCGACG_55550',\n",
      "       'AGAGAGAC_TTAGTCCG_55821', 'TGCACCAG_ACGAAACG_56573',\n",
      "       ...\n",
      "       'AAACACGG_GATGTATT_64096', 'TCGACTGC_CGATTGAT_53370',\n",
      "       'AGCATGCC_TCGGTTTA_57276', 'AGCATGCC_TCGGTTTA_58494',\n",
      "       'CGGTGAGT_TATTGCCT_50458', 'GGGATTAC_AGAGACTA_61213',\n",
      "       'AAACCGCC_GGGAAATC_63624', 'CTCTATAG_ATTCCTTG_54699',\n",
      "       'AAGTTGTC_ACGCTCAG_55619', 'AAATTCCG_ATGACTTT_57000'],\n",
      "      dtype='object', length=1023)\n"
     ]
    }
   ],
   "source": [
    "print(LSKmix.columns)"
   ]
  },
  {
   "cell_type": "code",
   "execution_count": 167,
   "id": "c28bfefb-50b6-48dd-991f-e498c978f6cb",
   "metadata": {},
   "outputs": [
    {
     "data": {
      "text/plain": [
       "'49652'"
      ]
     },
     "execution_count": 167,
     "metadata": {},
     "output_type": "execute_result"
    }
   ],
   "source": [
    "seq = 'GATTGGGA_ACTGCCGT_49652'\n",
    "seq = seq[-seq.index(\"_\"):]\n",
    "seq[seq.index(\"_\")+1:]"
   ]
  },
  {
   "cell_type": "code",
   "execution_count": null,
   "id": "2add2d99-2b21-4ff9-9aa9-4446e4e2cee0",
   "metadata": {},
   "outputs": [],
   "source": []
  }
 ],
 "metadata": {
  "kernelspec": {
   "display_name": "Python 3 (ipykernel)",
   "language": "python",
   "name": "python3"
  },
  "language_info": {
   "codemirror_mode": {
    "name": "ipython",
    "version": 3
   },
   "file_extension": ".py",
   "mimetype": "text/x-python",
   "name": "python",
   "nbconvert_exporter": "python",
   "pygments_lexer": "ipython3",
   "version": "3.9.7"
  }
 },
 "nbformat": 4,
 "nbformat_minor": 5
}
