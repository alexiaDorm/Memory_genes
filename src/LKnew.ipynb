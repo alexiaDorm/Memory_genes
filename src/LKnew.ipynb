{
 "cells": [
  {
   "cell_type": "code",
   "execution_count": 24,
   "metadata": {},
   "outputs": [],
   "source": [
    "import numpy as np\n",
    "import matplotlib.pyplot as plt\n",
    "\n",
    "import io \n",
    "import pandas as pd  \n",
    "import pyreadr\n",
    "\n",
    "from load_data import *\n",
    "from pred_score import *\n",
    "from Filter_FS import *\n",
    "from hybrid_FS import *\n",
    "from overlap_genes import *\n",
    "from crossValidation import *"
   ]
  },
  {
   "cell_type": "code",
   "execution_count": 25,
   "metadata": {},
   "outputs": [],
   "source": [
    "#Fixing seed to get reproducible results\n",
    "random.seed(3)\n",
    "np.random.seed(3)"
   ]
  },
  {
   "cell_type": "markdown",
   "metadata": {},
   "source": [
    "# Baseline with preselected genes "
   ]
  },
  {
   "cell_type": "code",
   "execution_count": 6,
   "metadata": {},
   "outputs": [],
   "source": [
    "#Load preprocess data\n",
    "LK = np.array(pd.read_csv ('../data/processed_data/LK.csv'))\n",
    "y = np.array(LK[:,-1],dtype=int)\n",
    "LK = LK[:,0:-1]\n"
   ]
  },
  {
   "cell_type": "code",
   "execution_count": 7,
   "metadata": {},
   "outputs": [],
   "source": [
    "#Predict and evaluate\n",
    "model = FamiliesClusters(np.unique(y),compute_precision,True)\n",
    "pred = model.fit_predict(LK,y)"
   ]
  },
  {
   "cell_type": "code",
   "execution_count": 8,
   "metadata": {},
   "outputs": [
    {
     "name": "stdout",
     "output_type": "stream",
     "text": [
      "(610, 1379) 610\n",
      "0.136\n"
     ]
    }
   ],
   "source": [
    "print(LK.shape, len(pred))\n",
    "acc = model.score_\n",
    "print(acc)"
   ]
  },
  {
   "cell_type": "code",
   "execution_count": 9,
   "metadata": {},
   "outputs": [
    {
     "name": "stdout",
     "output_type": "stream",
     "text": [
      "TP, FP, ratio, sensitivity, specificity, precision, NPV, FDR, FNR =  (102.0, 648.0, 0.1574074074074074, 0.37777777777777777, 0.9876770942283921, 0.136, 0.9967757412916227, 0.864, 0.6222222222222222)\n"
     ]
    }
   ],
   "source": [
    "print(\"TP, FP, ratio, sensitivity, specificity, precision, NPV, FDR, FNR = \", compute_statTP(y,pred))"
   ]
  },
  {
   "cell_type": "markdown",
   "metadata": {},
   "source": [
    "# Mutual information maximizer (MIM)"
   ]
  },
  {
   "cell_type": "code",
   "execution_count": 72,
   "metadata": {},
   "outputs": [],
   "source": [
    "def getTrainTest(split_y, split_x, i:int, kfold:int):\n",
    "    x_test = np.squeeze(split_x[i])\n",
    "    y_test = np.squeeze(split_y[i])\n",
    "    x_train_temp = np.squeeze(np.delete(split_x, i))\n",
    "    y_train_temp = np.squeeze(np.delete(split_y, i))\n",
    "\n",
    "    #Fuse the training fold\n",
    "    for j in range(0,kfold-1):\n",
    "        x_train_temp[j] = np.squeeze(np.array(x_train_temp[j]))\n",
    "        y_train_temp[j] = np.squeeze(np.array(y_train_temp[j]))\n",
    "\n",
    "    x_train = x_train_temp[0].T\n",
    "    y_train = y_train_temp[0]\n",
    "    for j in range(1,kfold-1):\n",
    "        x_train = np.c_[x_train,x_train_temp[j].T]\n",
    "        y_train = np.append(y_train,y_train_temp[j])\n",
    "\n",
    "    x_train = x_train.T\n",
    "    \n",
    "    return x_train, y_train, x_test, y_test"
   ]
  },
  {
   "cell_type": "code",
   "execution_count": 77,
   "metadata": {},
   "outputs": [],
   "source": [
    "def MIM_CV(y:np.array,x:np.array, Model: Callable, Scoring: Callable, maximize:bool, kfold:int, plot:bool):\n",
    "    \"\"\" Calculate the mutual information and select the ones which has more information gain. CV to determine best subset.\n",
    "  \n",
    "      parameters:\n",
    "      y : np.array,\n",
    "        family of each data points\n",
    "      x : np.array,\n",
    "        features of each data points\n",
    "      Model : Callable,\n",
    "        the model is fitted using this method\n",
    "      Scoring: Callable,\n",
    "        scoring function use to evaluate the model\n",
    "      maximize: bool,\n",
    "        if True the scoring function is maximize, else it is minimize\n",
    "      kfold: int,\n",
    "        number of folds for CV\n",
    "      print : bool (default = False),\n",
    "        if true print the mean/std training and testing score\n",
    "        \n",
    "\n",
    "      returns:\n",
    "      final_subset : np.array,\n",
    "        subset of features with the best score\n",
    "      best_test_score : float,\n",
    "        test score obtained with the best subset of features \"\"\"\n",
    "    \n",
    "    #Store score training and best subset\n",
    "    score_training = []\n",
    "    score_testing = []\n",
    "    final_subset = []\n",
    "    \n",
    "    #Split the data in kfold\n",
    "    split_x, split_y = split_data_cv(x,y,kfold)\n",
    "    \n",
    "    for i in range(0,kfold):\n",
    "        print(i)\n",
    "        #Get split data\n",
    "        x_train, y_train, x_test, y_test = getTrainTest(split_y, split_x, i,kfold)\n",
    "        \n",
    "        #Run feature selection on training set\n",
    "        N = np.arange(80,1300,30)\n",
    "        subset, score = MIM(y_train, x_train, FamiliesClusters, compute_precision,True,N, 3, plot=True)\n",
    "        \n",
    "        #Evaluate subset on test set\n",
    "        x_subset = x_test[:, subset]\n",
    "        test_score = evaluate(y_test,x_subset,Model,Scoring,maximize)\n",
    "        \n",
    "        #Store best score on current folds\n",
    "        score_training.append(score)\n",
    "        score_testing.append(test_score)\n",
    "        if (len(final_subset) == 0 or np.argmax(score_testing) == i): #if the last best test score is best overall keep subset as the finals subset\n",
    "            final_subset = subset\n",
    "        \n",
    "    return final_subset, score_training, score_testing"
   ]
  },
  {
   "cell_type": "code",
   "execution_count": 79,
   "metadata": {},
   "outputs": [
    {
     "name": "stdout",
     "output_type": "stream",
     "text": [
      "0\n",
      "1\n",
      "2\n",
      "3\n",
      "4\n",
      "test 0.3461849011203849 0.05303586493310167\n",
      "TP, FP, ratio, sensitivity, specificity, precision, NPV, FDR, FNR =  (102.0, 648.0, 0.1574074074074074, 0.37777777777777777, 0.9876770942283921, 0.136, 0.9967757412916227, 0.864, 0.6222222222222222)\n"
     ]
    },
    {
     "data": {
      "image/png": "[encoded data removed]",
      "text/plain": [
       "<Figure size 432x288 with 1 Axes>"
      ]
     },
     "metadata": {
      "needs_background": "light"
     },
     "output_type": "display_data"
    }
   ],
   "source": [
    "kwargs = []\n",
    "subset, score_training, score_testing = MIM_CV(y,LK, FamiliesClusters, compute_precision,True, 5, True)\n",
    "mean_score_test, std_score_test = np.mean(score_testing), np.std(score_testing)    \n",
    "print('test', mean_score_test, std_score_test)\n",
    "\n",
    "#Predict and evaluate on whole data  set\n",
    "model = FamiliesClusters(np.unique(y),compute_precision,True)\n",
    "pred = model.fit_predict(LK,y)\n",
    "\n",
    "print(\"TP, FP, ratio, sensitivity, specificity, precision, NPV, FDR, FNR = \", compute_statTP(y,pred))"
   ]
  },
  {
   "cell_type": "markdown",
   "metadata": {
    "id": "lPqyZ49FMaxj"
   },
   "source": [
    "# Anova F test"
   ]
  },
  {
   "cell_type": "code",
   "execution_count": null,
   "metadata": {},
   "outputs": [],
   "source": [
    "def ANOVA_CV(y:np.array,x:np.array, Model: Callable, Scoring: Callable, maximize:bool, N:np.array, kfold:int, plot:bool = False):\n",
    "    \"\"\" Calculate the ANOVA test and select the ones with larger score. CV the result.\n",
    "  \n",
    "      parameters:\n",
    "      y : np.array,\n",
    "        family of each data points\n",
    "      x : np.array,\n",
    "        features of each data points\n",
    "      Model : Callable,\n",
    "        the model is fitted using this method\n",
    "      Scoring: Callable,\n",
    "        scoring function use to evaluate the model\n",
    "      maximize: bool,\n",
    "        if True the scoring function is maximize, else it is minimize\n",
    "      N: np.array,\n",
    "          number of features to keep, will chose the best number out of entry in the N array\n",
    "      kfold: int,\n",
    "        number of folds for CV\n",
    "      plot : bool (defaul = False),\n",
    "        if true plot the accuracy vs the number of selected features\n",
    "        \n",
    "\n",
    "      returns:\n",
    "      final_subset : np.array,\n",
    "        subset of features with the best score\n",
    "      best_test_score : float,\n",
    "        test score obtained with the best subset of features \"\"\"\n",
    "    \n",
    "     #Store scores\n",
    "    best_score_test = []\n",
    "    final_subset = []\n",
    "    \n",
    "    #Split the data in kfold\n",
    "    split_x, split_y = split_data_cv(x,y,kfold)\n",
    "    \n",
    "    for i in range(0,kfold):\n",
    "        score_test = []\n",
    "        \n",
    "        print(i)\n",
    "        #Get split data\n",
    "        x_test = np.squeeze(split_x[i])\n",
    "        y_test = np.squeeze(split_y[i])\n",
    "        x_train_temp = np.squeeze(np.delete(split_x, i))\n",
    "        y_train_temp = np.squeeze(np.delete(split_y, i))\n",
    "\n",
    "        #Fuse the training fold\n",
    "        for j in range(0,kfold-1):\n",
    "            x_train_temp[j] = np.squeeze(np.array(x_train_temp[j]))\n",
    "            y_train_temp[j] = np.squeeze(np.array(y_train_temp[j]))\n",
    "\n",
    "        x_train = x_train_temp[0].T\n",
    "        y_train = y_train_temp[0]\n",
    "        for j in range(1,kfold-1):\n",
    "            x_train = np.c_[x_train,x_train_temp[j].T]\n",
    "            y_train = np.append(y_train,y_train_temp[j])\n",
    "\n",
    "        x_train = x_train.T\n",
    "        \n",
    "        #Run feature selection on training set\n",
    "        #Compute mutual information\n",
    "        anova, _ = f_classif(x,y)\n",
    "        index_sorted  = np.argsort(anova)\n",
    "        \n",
    "        best_subset, best_score = None, None\n",
    "        for i in N:\n",
    "            #Define the subset with i features\n",
    "            subset = index_sorted[-i :]\n",
    "\n",
    "            #Evaluate the error on given subset on test data\n",
    "            x_subset = x_test[:, subset]\n",
    "            score = evaluate(y_test,x_subset,Model,Scoring,maximize)\n",
    "            if ((best_score == None) or (maximize==True and score > best_score) or (maximize ==False and score < best_score)):\n",
    "                #Convert best_subset into features indices\n",
    "                best_subset = np.sort(subset)\n",
    "                best_score = score\n",
    "\n",
    "            score_test.append(score)\n",
    "    \n",
    "        #Plot the score vs the number of selected features\n",
    "        if(plot == True):\n",
    "            plt.plot(N,score_test)\n",
    "            plt.xlabel(\"number of selected features\")\n",
    "            plt.ylabel(\"score\")\n",
    "            plt.title(\"Best training score obtained for each number of selected features\")\n",
    "        \n",
    "        #Store best score on current folds\n",
    "        best_score_test.append(best_score)\n",
    "        if (len(final_subset) == 0 or np.argmax(best_score_test) == i): #if the last best test score is best overall keep subset as the finals subset\n",
    "            final_subset = best_subset\n",
    "        \n",
    "    return final_subset, best_test_score\n",
    "    \n",
    "    "
   ]
  },
  {
   "cell_type": "code",
   "execution_count": null,
   "metadata": {},
   "outputs": [],
   "source": [
    "N = np.arange(80,1300,30)\n",
    "subset, score_testing = ANOVA_CV(y,LK, FamiliesClusters, compute_precision,True,N, 5, plot=True)\n",
    "mean_score_test, std_score_test = np.mean(score_testing), np.std(score_testing)    \n",
    "print('test', mean_score_test, std_score_test)\n",
    "\n",
    "#Predict and evaluate on whole data  set\n",
    "model = FamiliesClusters(np.unique(y),compute_precision,True)\n",
    "pred = model.fit_predict(LK,y)\n",
    "\n",
    "print(\"TP, FP, ratio, sensitivity, specificity, precision, NPV, FDR, FNR = \", compute_statTP(y,pred))"
   ]
  },
  {
   "cell_type": "markdown",
   "metadata": {},
   "source": [
    "# Stimulated annealing"
   ]
  },
  {
   "cell_type": "code",
   "execution_count": null,
   "metadata": {},
   "outputs": [
    {
     "name": "stdout",
     "output_type": "stream",
     "text": [
      "(485, 1379) (125, 1379) (485,) (125,)\n"
     ]
    }
   ],
   "source": [
    "score_training = []\n",
    "score_testing = []\n",
    "\n",
    "#CV with kfold\n",
    "kfold = 5\n",
    "for i in range(0,kfold):\n",
    "    #Get split data\n",
    "    x_test = np.squeeze(split_x[i])\n",
    "    y_test = np.squeeze(split_y[i])\n",
    "    x_train_temp = np.squeeze(np.delete(split_x, i))\n",
    "    y_train_temp = np.squeeze(np.delete(split_y, i))\n",
    "    \n",
    "    \n",
    "    #Fuse the training fold\n",
    "    for j in range(0,kfold-1):\n",
    "        x_train_temp[j] = np.squeeze(np.array(x_train_temp[j]))\n",
    "        y_train_temp[j] = np.squeeze(np.array(y_train_temp[j]))\n",
    "     \n",
    "    x_train = x_train_temp[0].T\n",
    "    y_train = y_train_temp[0]\n",
    "    for j in range(1,kfold-1):\n",
    "        x_train = np.c_[x_train,x_train_temp[j].T]\n",
    "        y_train = np.append(y_train,y_train_temp[j])\n",
    "    \n",
    "    x_train = x_train.T\n",
    "    print(np.shape(x_train),np.shape(x_test),np.shape(y_train),np.shape(y_test))\n",
    "    \n",
    "    #Run feature selection on training set\n",
    "    subset, train_score = stimulated_annealing(y_train, x_train, FamiliesClusters, compute_sensitivity,True, 1400, 0.1, 1, True)\n",
    "    \n",
    "    #Evaluate feature selection on test set\n",
    "    model = FamiliesClusters(np.unique(y_test),compute_ratio,True)\n",
    "    pred = model.fit_predict(x_test[:, subset],y_test)\n",
    "    test_score = model.score(x_test,y_test)\n",
    "    \n",
    "    score_training = np.append(score_training, train_score)\n",
    "    score_testing = np.append(score_testing, test_score)\n",
    "\n",
    "mean_score_training, std_score_training = np.mean(score_training), np.std(score_training)    \n",
    "print('training', mean_score_training, std_score_training)\n",
    "\n",
    "mean_score_test, std_score_test = np.mean(score_testing), np.std(score_testing)    \n",
    "print('test', mean_score_test, std_score_test)"
   ]
  },
  {
   "cell_type": "markdown",
   "metadata": {},
   "source": [
    "# Genetic feature selection algorithm"
   ]
  },
  {
   "cell_type": "code",
   "execution_count": null,
   "metadata": {},
   "outputs": [],
   "source": [
    "score_training = []\n",
    "score_testing = []\n",
    "\n",
    "#CV with kfold\n",
    "kfold = 5\n",
    "for i in range(0,kfold):\n",
    "    #Get split data\n",
    "    x_test = np.squeeze(split_x[i])\n",
    "    y_test = np.squeeze(split_y[i])\n",
    "    x_train_temp = np.squeeze(np.delete(split_x, i))\n",
    "    y_train_temp = np.squeeze(np.delete(split_y, i))\n",
    "    \n",
    "    \n",
    "    #Fuse the training fold\n",
    "    for j in range(0,kfold-1):\n",
    "        x_train_temp[j] = np.squeeze(np.array(x_train_temp[j]))\n",
    "        y_train_temp[j] = np.squeeze(np.array(y_train_temp[j]))\n",
    "     \n",
    "    x_train = x_train_temp[0].T\n",
    "    y_train = y_train_temp[0]\n",
    "    for j in range(1,kfold-1):\n",
    "        x_train = np.c_[x_train,x_train_temp[j].T]\n",
    "        y_train = np.append(y_train,y_train_temp[j])\n",
    "    \n",
    "    x_train = x_train.T\n",
    "    print(np.shape(x_train),np.shape(x_test),np.shape(y_train),np.shape(y_test))\n",
    "    \n",
    "    #Run feature selection on training set\n",
    "    subset, train_score = genetic_fs(y_train,x_train,FamiliesClusters,compute_sensitivity,True, 500, 0.5, 0.2, 50, 3, True)\n",
    "    \n",
    "    #Evaluate feature selection on test set\n",
    "    model = FamiliesClusters(np.unique(y_test),compute_ratio,True)\n",
    "    pred = model.fit_predict(x_test[:, subset],y_test)\n",
    "    test_score = model.score(x_test,y_test)\n",
    "    \n",
    "    score_training = np.append(score_training, train_score)\n",
    "    score_testing = np.append(score_testing, test_score)\n",
    "\n",
    "mean_score_training, std_score_training = np.mean(score_training), np.std(score_training)    \n",
    "print('training', mean_score_training, std_score_training)\n",
    "\n",
    "mean_score_test, std_score_test = np.mean(score_testing), np.std(score_testing)    \n",
    "print('test', mean_score_test, std_score_test)"
   ]
  },
  {
   "cell_type": "markdown",
   "metadata": {},
   "source": [
    "# Hybrid methods"
   ]
  },
  {
   "cell_type": "markdown",
   "metadata": {},
   "source": [
    "# Mutual information and stimulated annealing"
   ]
  },
  {
   "cell_type": "code",
   "execution_count": null,
   "metadata": {},
   "outputs": [],
   "source": [
    "score_training = []\n",
    "score_testing = []\n",
    "\n",
    "#CV with kfold\n",
    "kfold = 5\n",
    "for i in range(0,kfold):\n",
    "    #Get split data\n",
    "    x_test = np.squeeze(split_x[i])\n",
    "    y_test = np.squeeze(split_y[i])\n",
    "    x_train_temp = np.squeeze(np.delete(split_x, i))\n",
    "    y_train_temp = np.squeeze(np.delete(split_y, i))\n",
    "    \n",
    "    \n",
    "    #Fuse the training fold\n",
    "    for j in range(0,kfold-1):\n",
    "        x_train_temp[j] = np.squeeze(np.array(x_train_temp[j]))\n",
    "        y_train_temp[j] = np.squeeze(np.array(y_train_temp[j]))\n",
    "     \n",
    "    x_train = x_train_temp[0].T\n",
    "    y_train = y_train_temp[0]\n",
    "    for j in range(1,kfold-1):\n",
    "        x_train = np.c_[x_train,x_train_temp[j].T]\n",
    "        y_train = np.append(y_train,y_train_temp[j])\n",
    "    \n",
    "    x_train = x_train.T\n",
    "    print(np.shape(x_train),np.shape(x_test),np.shape(y_train),np.shape(y_test))\n",
    "    \n",
    "    #Run feature selection on training set\n",
    "    subset, train_score = MI_stimulated_annealing(y_train,x_train, FamiliesClusters, compute_sensitivity,True, np.array([400]), 3, 5000, 0.05, 1, True)\n",
    "    \n",
    "    #Evaluate feature selection on test set\n",
    "    model = FamiliesClusters(np.unique(y_test),compute_ratio,True)\n",
    "    pred = model.fit_predict(x_test[:, subset],y_test)\n",
    "    test_score = model.score(x_test,y_test)\n",
    "    \n",
    "    score_training = np.append(score_training, train_score)\n",
    "    score_testing = np.append(score_testing, test_score)\n",
    "\n",
    "mean_score_training, std_score_training = np.mean(score_training), np.std(score_training)    \n",
    "print('training', mean_score_training, std_score_training)\n",
    "\n",
    "mean_score_test, std_score_test = np.mean(score_testing), np.std(score_testing)    \n",
    "print('test', mean_score_test, std_score_test)"
   ]
  },
  {
   "cell_type": "markdown",
   "metadata": {},
   "source": [
    "# Mutual information and genetic feature selection"
   ]
  },
  {
   "cell_type": "code",
   "execution_count": null,
   "metadata": {},
   "outputs": [],
   "source": [
    "score_training = []\n",
    "score_testing = []\n",
    "\n",
    "#CV with kfold\n",
    "kfold = 5\n",
    "for i in range(0,kfold):\n",
    "    #Get split data\n",
    "    x_test = np.squeeze(split_x[i])\n",
    "    y_test = np.squeeze(split_y[i])\n",
    "    x_train_temp = np.squeeze(np.delete(split_x, i))\n",
    "    y_train_temp = np.squeeze(np.delete(split_y, i))\n",
    "    \n",
    "    \n",
    "    #Fuse the training fold\n",
    "    for j in range(0,kfold-1):\n",
    "        x_train_temp[j] = np.squeeze(np.array(x_train_temp[j]))\n",
    "        y_train_temp[j] = np.squeeze(np.array(y_train_temp[j]))\n",
    "     \n",
    "    x_train = x_train_temp[0].T\n",
    "    y_train = y_train_temp[0]\n",
    "    for j in range(1,kfold-1):\n",
    "        x_train = np.c_[x_train,x_train_temp[j].T]\n",
    "        y_train = np.append(y_train,y_train_temp[j])\n",
    "    \n",
    "    x_train = x_train.T\n",
    "    print(np.shape(x_train),np.shape(x_test),np.shape(y_train),np.shape(y_test))\n",
    "    \n",
    "    #Run feature selection on training set\n",
    "    subset, train_score = MI_genetic_fs(y_train,x_train, FamiliesClusters, compute_sensitivity,True, np.array([700]), 3,  300, 0.5, 0.2, 120, 3, True)\n",
    "    \n",
    "    #Evaluate feature selection on test set\n",
    "    model = FamiliesClusters(np.unique(y_test),compute_ratio,True)\n",
    "    pred = model.fit_predict(x_test[:, subset],y_test)\n",
    "    test_score = model.score(x_test,y_test)\n",
    "    \n",
    "    score_training = np.append(score_training, train_score)\n",
    "    score_testing = np.append(score_testing, test_score)\n",
    "\n",
    "mean_score_training, std_score_training = np.mean(score_training), np.std(score_training)    \n",
    "print('training', mean_score_training, std_score_training)\n",
    "\n",
    "mean_score_test, std_score_test = np.mean(score_testing), np.std(score_testing)    \n",
    "print('test', mean_score_test, std_score_test)"
   ]
  },
  {
   "cell_type": "markdown",
   "metadata": {},
   "source": [
    "# Baseline with preselected genes "
   ]
  },
  {
   "cell_type": "code",
   "execution_count": null,
   "metadata": {},
   "outputs": [],
   "source": [
    "#Load preprocess data\n",
    "LK = np.array(pd.read_csv ('../data/processed_data/LSK.csv'))\n",
    "y = np.array(LK[:,-1],dtype=int)\n",
    "LK = LK[:,0:-1]"
   ]
  },
  {
   "cell_type": "code",
   "execution_count": null,
   "metadata": {},
   "outputs": [],
   "source": [
    "#Predict and evaluate\n",
    "model = FamiliesClusters(np.unique(y),compute_precision,True)\n",
    "pred = model.fit_predict(LK,y)"
   ]
  },
  {
   "cell_type": "code",
   "execution_count": null,
   "metadata": {},
   "outputs": [],
   "source": [
    "print(LK.shape, len(pred))\n",
    "acc = model.score_\n",
    "print(acc)"
   ]
  },
  {
   "cell_type": "code",
   "execution_count": null,
   "metadata": {},
   "outputs": [],
   "source": [
    "print(\"TP, FP, ratio, sensitivity, specificity, precision, NPV, FDR, FNR = \", compute_statTP(y,pred))"
   ]
  },
  {
   "cell_type": "markdown",
   "metadata": {},
   "source": [
    "# Split data into Kfold (kfold = 5)"
   ]
  },
  {
   "cell_type": "code",
   "execution_count": null,
   "metadata": {},
   "outputs": [],
   "source": [
    "split_x, split_y = split_data_cv(LK,y,5)"
   ]
  },
  {
   "cell_type": "markdown",
   "metadata": {},
   "source": [
    "# Mutual information maximizer (MIM)"
   ]
  },
  {
   "cell_type": "code",
   "execution_count": null,
   "metadata": {},
   "outputs": [],
   "source": [
    "score_training = []\n",
    "score_testing = []\n",
    "\n",
    "#CV with kfold\n",
    "kfold = 5\n",
    "for i in range(0,kfold):\n",
    "    #Get split data\n",
    "    x_test = np.squeeze(split_x[i])\n",
    "    y_test = np.squeeze(split_y[i])\n",
    "    x_train_temp = np.squeeze(np.delete(split_x, i))\n",
    "    y_train_temp = np.squeeze(np.delete(split_y, i))\n",
    "    \n",
    "    \n",
    "    #Fuse the training fold\n",
    "    for j in range(0,kfold-1):\n",
    "        x_train_temp[j] = np.squeeze(np.array(x_train_temp[j]))\n",
    "        y_train_temp[j] = np.squeeze(np.array(y_train_temp[j]))\n",
    "     \n",
    "    x_train = x_train_temp[0].T\n",
    "    y_train = y_train_temp[0]\n",
    "    for j in range(1,kfold-1):\n",
    "        x_train = np.c_[x_train,x_train_temp[j].T]\n",
    "        y_train = np.append(y_train,y_train_temp[j])\n",
    "    \n",
    "    x_train = x_train.T\n",
    "    print(np.shape(x_train),np.shape(x_test),np.shape(y_train),np.shape(y_test))\n",
    "    \n",
    "    #Run feature selection on training set\n",
    "    N = np.arange(80,1300,30)\n",
    "    subset, train_score = MIM(y_train, x_train, FamiliesClusters, compute_precision,True,N, 3, plot=True)\n",
    "    \n",
    "    #Evaluate feature selection on test set\n",
    "    model = FamiliesClusters(np.unique(y_test),compute_ratio,True)\n",
    "    pred = model.fit_predict(x_test[:, subset],y_test)\n",
    "    test_score = model.score(x_test,y_test)\n",
    "    \n",
    "    score_training = np.append(score_training, train_score)\n",
    "    score_testing = np.append(score_testing, test_score)\n",
    "\n",
    "mean_score_training, std_score_training = np.mean(score_training), np.std(score_training)    \n",
    "print('training', mean_score_training, std_score_training)\n",
    "\n",
    "mean_score_test, std_score_test = np.mean(score_testing), np.std(score_testing)    \n",
    "print('test', mean_score_test, std_score_test)"
   ]
  },
  {
   "cell_type": "markdown",
   "metadata": {},
   "source": [
    "# Anova F test"
   ]
  },
  {
   "cell_type": "code",
   "execution_count": null,
   "metadata": {},
   "outputs": [],
   "source": [
    "score_training = []\n",
    "score_testing = []\n",
    "\n",
    "#CV with kfold\n",
    "kfold = 5\n",
    "for i in range(0,kfold):\n",
    "    #Get split data\n",
    "    x_test = np.squeeze(split_x[i])\n",
    "    y_test = np.squeeze(split_y[i])\n",
    "    x_train_temp = np.squeeze(np.delete(split_x, i))\n",
    "    y_train_temp = np.squeeze(np.delete(split_y, i))\n",
    "    \n",
    "    \n",
    "    #Fuse the training fold\n",
    "    for j in range(0,kfold-1):\n",
    "        x_train_temp[j] = np.squeeze(np.array(x_train_temp[j]))\n",
    "        y_train_temp[j] = np.squeeze(np.array(y_train_temp[j]))\n",
    "     \n",
    "    x_train = x_train_temp[0].T\n",
    "    y_train = y_train_temp[0]\n",
    "    for j in range(1,kfold-1):\n",
    "        x_train = np.c_[x_train,x_train_temp[j].T]\n",
    "        y_train = np.append(y_train,y_train_temp[j])\n",
    "    \n",
    "    x_train = x_train.T\n",
    "    print(np.shape(x_train),np.shape(x_test),np.shape(y_train),np.shape(y_test))\n",
    "    \n",
    "    #Run feature selection on training set\n",
    "    N = np.arange(80,1300,30)\n",
    "    subset, train_score = ANOVA(y_train, x_train, FamiliesClusters, compute_ratio,True,N, plot=True)\n",
    "    \n",
    "    #Evaluate feature selection on test set\n",
    "    model = FamiliesClusters(np.unique(y_test),compute_ratio,True)\n",
    "    pred = model.fit_predict(x_test[:, subset],y_test)\n",
    "    test_score = model.score(x_test,y_test)\n",
    "    \n",
    "    score_training = np.append(score_training, train_score)\n",
    "    score_testing = np.append(score_testing, test_score)\n",
    "\n",
    "mean_score_training, std_score_training = np.mean(score_training), np.std(score_training)    \n",
    "print('training', mean_score_training, std_score_training)\n",
    "\n",
    "mean_score_test, std_score_test = np.mean(score_testing), np.std(score_testing)    \n",
    "print('test', mean_score_test, std_score_test)"
   ]
  },
  {
   "cell_type": "markdown",
   "metadata": {},
   "source": [
    "# Stimulated annealing"
   ]
  },
  {
   "cell_type": "code",
   "execution_count": null,
   "metadata": {},
   "outputs": [],
   "source": [
    "score_training = []\n",
    "score_testing = []\n",
    "\n",
    "#CV with kfold\n",
    "kfold = 5\n",
    "for i in range(0,kfold):\n",
    "    #Get split data\n",
    "    x_test = np.squeeze(split_x[i])\n",
    "    y_test = np.squeeze(split_y[i])\n",
    "    x_train_temp = np.squeeze(np.delete(split_x, i))\n",
    "    y_train_temp = np.squeeze(np.delete(split_y, i))\n",
    "    \n",
    "    \n",
    "    #Fuse the training fold\n",
    "    for j in range(0,kfold-1):\n",
    "        x_train_temp[j] = np.squeeze(np.array(x_train_temp[j]))\n",
    "        y_train_temp[j] = np.squeeze(np.array(y_train_temp[j]))\n",
    "     \n",
    "    x_train = x_train_temp[0].T\n",
    "    y_train = y_train_temp[0]\n",
    "    for j in range(1,kfold-1):\n",
    "        x_train = np.c_[x_train,x_train_temp[j].T]\n",
    "        y_train = np.append(y_train,y_train_temp[j])\n",
    "    \n",
    "    x_train = x_train.T\n",
    "    print(np.shape(x_train),np.shape(x_test),np.shape(y_train),np.shape(y_test))\n",
    "    \n",
    "    #Run feature selection on training set\n",
    "    subset, train_score = stimulated_annealing(y_train, x_train, FamiliesClusters, compute_sensitivity,True, 1400, 0.1, 1, True)\n",
    "    \n",
    "    #Evaluate feature selection on test set\n",
    "    model = FamiliesClusters(np.unique(y_test),compute_ratio,True)\n",
    "    pred = model.fit_predict(x_test[:, subset],y_test)\n",
    "    test_score = model.score(x_test,y_test)\n",
    "    \n",
    "    score_training = np.append(score_training, train_score)\n",
    "    score_testing = np.append(score_testing, test_score)\n",
    "\n",
    "mean_score_training, std_score_training = np.mean(score_training), np.std(score_training)    \n",
    "print('training', mean_score_training, std_score_training)\n",
    "\n",
    "mean_score_test, std_score_test = np.mean(score_testing), np.std(score_testing)    \n",
    "print('test', mean_score_test, std_score_test)"
   ]
  },
  {
   "cell_type": "markdown",
   "metadata": {},
   "source": [
    "# Genetic feature selection algorithm"
   ]
  },
  {
   "cell_type": "code",
   "execution_count": null,
   "metadata": {},
   "outputs": [],
   "source": [
    "score_training = []\n",
    "score_testing = []\n",
    "\n",
    "#CV with kfold\n",
    "kfold = 5\n",
    "for i in range(0,kfold):\n",
    "    #Get split data\n",
    "    x_test = np.squeeze(split_x[i])\n",
    "    y_test = np.squeeze(split_y[i])\n",
    "    x_train_temp = np.squeeze(np.delete(split_x, i))\n",
    "    y_train_temp = np.squeeze(np.delete(split_y, i))\n",
    "    \n",
    "    \n",
    "    #Fuse the training fold\n",
    "    for j in range(0,kfold-1):\n",
    "        x_train_temp[j] = np.squeeze(np.array(x_train_temp[j]))\n",
    "        y_train_temp[j] = np.squeeze(np.array(y_train_temp[j]))\n",
    "     \n",
    "    x_train = x_train_temp[0].T\n",
    "    y_train = y_train_temp[0]\n",
    "    for j in range(1,kfold-1):\n",
    "        x_train = np.c_[x_train,x_train_temp[j].T]\n",
    "        y_train = np.append(y_train,y_train_temp[j])\n",
    "    \n",
    "    x_train = x_train.T\n",
    "    print(np.shape(x_train),np.shape(x_test),np.shape(y_train),np.shape(y_test))\n",
    "    \n",
    "    #Run feature selection on training set\n",
    "    subset, train_score = genetic_fs(y_train,x_train,FamiliesClusters,compute_sensitivity,True, 500, 0.5, 0.2, 50, 3, True)\n",
    "    \n",
    "    #Evaluate feature selection on test set\n",
    "    model = FamiliesClusters(np.unique(y_test),compute_ratio,True)\n",
    "    pred = model.fit_predict(x_test[:, subset],y_test)\n",
    "    test_score = model.score(x_test,y_test)\n",
    "    \n",
    "    score_training = np.append(score_training, train_score)\n",
    "    score_testing = np.append(score_testing, test_score)\n",
    "\n",
    "mean_score_training, std_score_training = np.mean(score_training), np.std(score_training)    \n",
    "print('training', mean_score_training, std_score_training)\n",
    "\n",
    "mean_score_test, std_score_test = np.mean(score_testing), np.std(score_testing)    \n",
    "print('test', mean_score_test, std_score_test)"
   ]
  },
  {
   "cell_type": "markdown",
   "metadata": {},
   "source": [
    "# Mutual information and stimulated annealing"
   ]
  },
  {
   "cell_type": "code",
   "execution_count": null,
   "metadata": {},
   "outputs": [],
   "source": [
    "score_training = []\n",
    "score_testing = []\n",
    "\n",
    "#CV with kfold\n",
    "kfold = 5\n",
    "for i in range(0,kfold):\n",
    "    #Get split data\n",
    "    x_test = np.squeeze(split_x[i])\n",
    "    y_test = np.squeeze(split_y[i])\n",
    "    x_train_temp = np.squeeze(np.delete(split_x, i))\n",
    "    y_train_temp = np.squeeze(np.delete(split_y, i))\n",
    "    \n",
    "    \n",
    "    #Fuse the training fold\n",
    "    for j in range(0,kfold-1):\n",
    "        x_train_temp[j] = np.squeeze(np.array(x_train_temp[j]))\n",
    "        y_train_temp[j] = np.squeeze(np.array(y_train_temp[j]))\n",
    "     \n",
    "    x_train = x_train_temp[0].T\n",
    "    y_train = y_train_temp[0]\n",
    "    for j in range(1,kfold-1):\n",
    "        x_train = np.c_[x_train,x_train_temp[j].T]\n",
    "        y_train = np.append(y_train,y_train_temp[j])\n",
    "    \n",
    "    x_train = x_train.T\n",
    "    print(np.shape(x_train),np.shape(x_test),np.shape(y_train),np.shape(y_test))\n",
    "    \n",
    "    #Run feature selection on training set\n",
    "    subset, train_score = MI_stimulated_annealing(y_train,x_train, FamiliesClusters, compute_sensitivity,True, np.array([400]), 3, 5000, 0.05, 1, True)\n",
    "    \n",
    "    #Evaluate feature selection on test set\n",
    "    model = FamiliesClusters(np.unique(y_test),compute_ratio,True)\n",
    "    pred = model.fit_predict(x_test[:, subset],y_test)\n",
    "    test_score = model.score(x_test,y_test)\n",
    "    \n",
    "    score_training = np.append(score_training, train_score)\n",
    "    score_testing = np.append(score_testing, test_score)\n",
    "\n",
    "mean_score_training, std_score_training = np.mean(score_training), np.std(score_training)    \n",
    "print('training', mean_score_training, std_score_training)\n",
    "\n",
    "mean_score_test, std_score_test = np.mean(score_testing), np.std(score_testing)    \n",
    "print('test', mean_score_test, std_score_test)"
   ]
  },
  {
   "cell_type": "markdown",
   "metadata": {},
   "source": [
    "# Mutual information and genetic feature selection"
   ]
  },
  {
   "cell_type": "code",
   "execution_count": null,
   "metadata": {},
   "outputs": [],
   "source": [
    "score_training = []\n",
    "score_testing = []\n",
    "\n",
    "#CV with kfold\n",
    "kfold = 5\n",
    "for i in range(0,kfold):\n",
    "    #Get split data\n",
    "    x_test = np.squeeze(split_x[i])\n",
    "    y_test = np.squeeze(split_y[i])\n",
    "    x_train_temp = np.squeeze(np.delete(split_x, i))\n",
    "    y_train_temp = np.squeeze(np.delete(split_y, i))\n",
    "    \n",
    "    \n",
    "    #Fuse the training fold\n",
    "    for j in range(0,kfold-1):\n",
    "        x_train_temp[j] = np.squeeze(np.array(x_train_temp[j]))\n",
    "        y_train_temp[j] = np.squeeze(np.array(y_train_temp[j]))\n",
    "     \n",
    "    x_train = x_train_temp[0].T\n",
    "    y_train = y_train_temp[0]\n",
    "    for j in range(1,kfold-1):\n",
    "        x_train = np.c_[x_train,x_train_temp[j].T]\n",
    "        y_train = np.append(y_train,y_train_temp[j])\n",
    "    \n",
    "    x_train = x_train.T\n",
    "    print(np.shape(x_train),np.shape(x_test),np.shape(y_train),np.shape(y_test))\n",
    "    \n",
    "    #Run feature selection on training set\n",
    "    subset, train_score = MI_genetic_fs(y_train,x_train, FamiliesClusters, compute_sensitivity,True, np.array([700]), 3,  300, 0.5, 0.2, 120, 3, True)\n",
    "    \n",
    "    #Evaluate feature selection on test set\n",
    "    model = FamiliesClusters(np.unique(y_test),compute_ratio,True)\n",
    "    pred = model.fit_predict(x_test[:, subset],y_test)\n",
    "    test_score = model.score(x_test,y_test)\n",
    "    \n",
    "    score_training = np.append(score_training, train_score)\n",
    "    score_testing = np.append(score_testing, test_score)\n",
    "\n",
    "mean_score_training, std_score_training = np.mean(score_training), np.std(score_training)    \n",
    "print('training', mean_score_training, std_score_training)\n",
    "\n",
    "mean_score_test, std_score_test = np.mean(score_testing), np.std(score_testing)    \n",
    "print('test', mean_score_test, std_score_test)"
   ]
  },
  {
   "cell_type": "code",
   "execution_count": null,
   "metadata": {},
   "outputs": [],
   "source": []
  }
 ],
 "metadata": {
  "kernelspec": {
   "display_name": "Python 3",
   "language": "python",
   "name": "python3"
  },
  "language_info": {
   "codemirror_mode": {
    "name": "ipython",
    "version": 3
   },
   "file_extension": ".py",
   "mimetype": "text/x-python",
   "name": "python",
   "nbconvert_exporter": "python",
   "pygments_lexer": "ipython3",
   "version": "3.8.5"
  }
 },
 "nbformat": 4,
 "nbformat_minor": 4
}
